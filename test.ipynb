{
 "cells": [
  {
   "cell_type": "code",
   "execution_count": null,
   "metadata": {},
   "outputs": [],
   "source": []
  },
  {
   "cell_type": "markdown",
   "metadata": {},
   "source": [
    "<div>\n",
    "<style scoped>\n",
    "    .dataframe tbody tr th:only-of-type {\n",
    "        vertical-align: middle;\n",
    "    }\n",
    "\n",
    "    .dataframe tbody tr th {\n",
    "        vertical-align: top;\n",
    "    }\n",
    "\n",
    "    .dataframe thead th {\n",
    "        text-align: right;\n",
    "    }\n",
    "</style>\n",
    "<table border=\"1\" class=\"dataframe\">\n",
    "  <thead>\n",
    "    <tr style=\"text-align: right;\">\n",
    "      <th></th>\n",
    "      <th>User0</th>\n",
    "      <th>User1</th>\n",
    "      <th>User2</th>\n",
    "      <th>User3</th>\n",
    "      <th>User4</th>\n",
    "    </tr>\n",
    "  </thead>\n",
    "  <tbody>\n",
    "    <tr>\n",
    "      <th>Accuracy</th>\n",
    "      <td>0.742966</td>\n",
    "      <td>0.798454</td>\n",
    "      <td>0.833290</td>\n",
    "      <td>0.785554</td>\n",
    "      <td>0.761446</td>\n",
    "    </tr>\n",
    "    <tr>\n",
    "      <th>Precision</th>\n",
    "      <td>0.758767</td>\n",
    "      <td>0.811614</td>\n",
    "      <td>0.837725</td>\n",
    "      <td>0.755693</td>\n",
    "      <td>0.774801</td>\n",
    "    </tr>\n",
    "    <tr>\n",
    "      <th>Recall</th>\n",
    "      <td>0.774003</td>\n",
    "      <td>0.780605</td>\n",
    "      <td>0.922280</td>\n",
    "      <td>0.622285</td>\n",
    "      <td>0.745352</td>\n",
    "    </tr>\n",
    "    <tr>\n",
    "      <th>F1-score</th>\n",
    "      <td>0.766167</td>\n",
    "      <td>0.794552</td>\n",
    "      <td>0.877112</td>\n",
    "      <td>0.680466</td>\n",
    "      <td>0.758813</td>\n",
    "    </tr>\n",
    "  </tbody>\n",
    "</table>\n",
    "</div>"
   ]
  },
  {
   "cell_type": "markdown",
   "metadata": {},
   "source": []
  },
  {
   "cell_type": "markdown",
   "metadata": {},
   "source": [
    "# DISPLAY DF METRICS CONFUSION MATRIX"
   ]
  },
  {
   "cell_type": "code",
   "execution_count": null,
   "metadata": {},
   "outputs": [
    {
     "data": {
      "application/vnd.microsoft.datawrangler.viewer.v0+json": {
       "columns": [
        {
         "name": "index",
         "rawType": "object",
         "type": "string"
        },
        {
         "name": "Mean_Metrics",
         "rawType": "float64",
         "type": "float"
        }
       ],
       "conversionMethod": "pd.DataFrame",
       "ref": "4b126a3b-197e-4190-8c18-8e36ed751092",
       "rows": [
        [
         "Accuracy",
         "0.7614456686177753"
        ],
        [
         "Precision",
         "0.7748008588897471"
        ],
        [
         "Recall",
         "0.7453516559710737"
        ],
        [
         "F1-score",
         "0.7588128002809468"
        ]
       ],
       "shape": {
        "columns": 1,
        "rows": 4
       }
      },
      "text/html": [
       "<div>\n",
       "<style scoped>\n",
       "    .dataframe tbody tr th:only-of-type {\n",
       "        vertical-align: middle;\n",
       "    }\n",
       "\n",
       "    .dataframe tbody tr th {\n",
       "        vertical-align: top;\n",
       "    }\n",
       "\n",
       "    .dataframe thead th {\n",
       "        text-align: right;\n",
       "    }\n",
       "</style>\n",
       "<table border=\"1\" class=\"dataframe\">\n",
       "  <thead>\n",
       "    <tr style=\"text-align: right;\">\n",
       "      <th></th>\n",
       "      <th>Mean_Metrics</th>\n",
       "    </tr>\n",
       "  </thead>\n",
       "  <tbody>\n",
       "    <tr>\n",
       "      <th>Accuracy</th>\n",
       "      <td>0.761446</td>\n",
       "    </tr>\n",
       "    <tr>\n",
       "      <th>Precision</th>\n",
       "      <td>0.774801</td>\n",
       "    </tr>\n",
       "    <tr>\n",
       "      <th>Recall</th>\n",
       "      <td>0.745352</td>\n",
       "    </tr>\n",
       "    <tr>\n",
       "      <th>F1-score</th>\n",
       "      <td>0.758813</td>\n",
       "    </tr>\n",
       "  </tbody>\n",
       "</table>\n",
       "</div>"
      ],
      "text/plain": [
       "           Mean_Metrics\n",
       "Accuracy       0.761446\n",
       "Precision      0.774801\n",
       "Recall         0.745352\n",
       "F1-score       0.758813"
      ]
     },
     "metadata": {},
     "output_type": "display_data"
    }
   ],
   "source": [
    "dizio_model_user['User4']['df_metrics_kfold_mean']"
   ]
  },
  {
   "cell_type": "code",
   "execution_count": null,
   "metadata": {},
   "outputs": [
    {
     "data": {
      "application/vnd.microsoft.datawrangler.viewer.v0+json": {
       "columns": [
        {
         "name": "index",
         "rawType": "object",
         "type": "string"
        },
        {
         "name": "User0",
         "rawType": "float64",
         "type": "float"
        },
        {
         "name": "User1",
         "rawType": "float64",
         "type": "float"
        },
        {
         "name": "User2",
         "rawType": "float64",
         "type": "float"
        },
        {
         "name": "User3",
         "rawType": "float64",
         "type": "float"
        },
        {
         "name": "User4",
         "rawType": "float64",
         "type": "float"
        }
       ],
       "conversionMethod": "pd.DataFrame",
       "ref": "2a0f6bde-6e44-4931-8897-44557223f39b",
       "rows": [
        [
         "Accuracy",
         "0.7429661814691328",
         "0.7984544801485388",
         "0.8332904659819101",
         "0.7855544455544454",
         "0.7614456686177753"
        ],
        [
         "Precision",
         "0.7587665786489316",
         "0.8116136476133322",
         "0.8377253849736986",
         "0.7556931637402996",
         "0.7748008588897471"
        ],
        [
         "Recall",
         "0.774002546210693",
         "0.7806049622566146",
         "0.9222796607041273",
         "0.6222848810346417",
         "0.7453516559710737"
        ],
        [
         "F1-score",
         "0.7661673409831069",
         "0.7945524821043366",
         "0.8771124605943432",
         "0.6804660037544005",
         "0.7588128002809468"
        ]
       ],
       "shape": {
        "columns": 5,
        "rows": 4
       }
      },
      "text/html": [
       "<div>\n",
       "<style scoped>\n",
       "    .dataframe tbody tr th:only-of-type {\n",
       "        vertical-align: middle;\n",
       "    }\n",
       "\n",
       "    .dataframe tbody tr th {\n",
       "        vertical-align: top;\n",
       "    }\n",
       "\n",
       "    .dataframe thead th {\n",
       "        text-align: right;\n",
       "    }\n",
       "</style>\n",
       "<table border=\"1\" class=\"dataframe\">\n",
       "  <thead>\n",
       "    <tr style=\"text-align: right;\">\n",
       "      <th></th>\n",
       "      <th>User0</th>\n",
       "      <th>User1</th>\n",
       "      <th>User2</th>\n",
       "      <th>User3</th>\n",
       "      <th>User4</th>\n",
       "    </tr>\n",
       "  </thead>\n",
       "  <tbody>\n",
       "    <tr>\n",
       "      <th>Accuracy</th>\n",
       "      <td>0.742966</td>\n",
       "      <td>0.798454</td>\n",
       "      <td>0.833290</td>\n",
       "      <td>0.785554</td>\n",
       "      <td>0.761446</td>\n",
       "    </tr>\n",
       "    <tr>\n",
       "      <th>Precision</th>\n",
       "      <td>0.758767</td>\n",
       "      <td>0.811614</td>\n",
       "      <td>0.837725</td>\n",
       "      <td>0.755693</td>\n",
       "      <td>0.774801</td>\n",
       "    </tr>\n",
       "    <tr>\n",
       "      <th>Recall</th>\n",
       "      <td>0.774003</td>\n",
       "      <td>0.780605</td>\n",
       "      <td>0.922280</td>\n",
       "      <td>0.622285</td>\n",
       "      <td>0.745352</td>\n",
       "    </tr>\n",
       "    <tr>\n",
       "      <th>F1-score</th>\n",
       "      <td>0.766167</td>\n",
       "      <td>0.794552</td>\n",
       "      <td>0.877112</td>\n",
       "      <td>0.680466</td>\n",
       "      <td>0.758813</td>\n",
       "    </tr>\n",
       "  </tbody>\n",
       "</table>\n",
       "</div>"
      ],
      "text/plain": [
       "              User0     User1     User2     User3     User4\n",
       "Accuracy   0.742966  0.798454  0.833290  0.785554  0.761446\n",
       "Precision  0.758767  0.811614  0.837725  0.755693  0.774801\n",
       "Recall     0.774003  0.780605  0.922280  0.622285  0.745352\n",
       "F1-score   0.766167  0.794552  0.877112  0.680466  0.758813"
      ]
     },
     "metadata": {},
     "output_type": "display_data"
    }
   ],
   "source": [
    "df_metrics_total = pd.concat([dizio_model_user['User0']['df_metrics_kfold_mean'],dizio_model_user['User1']['df_metrics_kfold_mean'],dizio_model_user['User2']['df_metrics_kfold_mean'],dizio_model_user['User3']['df_metrics_kfold_mean'],dizio_model_user['User4']['df_metrics_kfold_mean']], axis=1)\n",
    "#type(df_metrics_total)\n",
    "#df_metrics_total.columns(colume_name = ['User0','User1','User2','User3','User4'])\n",
    "df_metrics_total.columns = ['User0','User1','User2','User3','User4']\n",
    "display(df_metrics_total)"
   ]
  },
  {
   "cell_type": "code",
   "execution_count": null,
   "metadata": {},
   "outputs": [
    {
     "data": {
      "application/vnd.microsoft.datawrangler.viewer.v0+json": {
       "columns": [
        {
         "name": "index",
         "rawType": "object",
         "type": "string"
        },
        {
         "name": "Mean_Metrics",
         "rawType": "float64",
         "type": "float"
        }
       ],
       "conversionMethod": "pd.DataFrame",
       "ref": "3022dc63-fadc-4863-bc49-0b7d68a0ea89",
       "rows": [
        [
         "Accuracy",
         "0.784"
        ],
        [
         "Precision",
         "0.788"
        ],
        [
         "Recall",
         "0.769"
        ],
        [
         "F1-score",
         "0.775"
        ]
       ],
       "shape": {
        "columns": 1,
        "rows": 4
       }
      },
      "text/html": [
       "<div>\n",
       "<style scoped>\n",
       "    .dataframe tbody tr th:only-of-type {\n",
       "        vertical-align: middle;\n",
       "    }\n",
       "\n",
       "    .dataframe tbody tr th {\n",
       "        vertical-align: top;\n",
       "    }\n",
       "\n",
       "    .dataframe thead th {\n",
       "        text-align: right;\n",
       "    }\n",
       "</style>\n",
       "<table border=\"1\" class=\"dataframe\">\n",
       "  <thead>\n",
       "    <tr style=\"text-align: right;\">\n",
       "      <th></th>\n",
       "      <th>Mean_Metrics</th>\n",
       "    </tr>\n",
       "  </thead>\n",
       "  <tbody>\n",
       "    <tr>\n",
       "      <th>Accuracy</th>\n",
       "      <td>0.784</td>\n",
       "    </tr>\n",
       "    <tr>\n",
       "      <th>Precision</th>\n",
       "      <td>0.788</td>\n",
       "    </tr>\n",
       "    <tr>\n",
       "      <th>Recall</th>\n",
       "      <td>0.769</td>\n",
       "    </tr>\n",
       "    <tr>\n",
       "      <th>F1-score</th>\n",
       "      <td>0.775</td>\n",
       "    </tr>\n",
       "  </tbody>\n",
       "</table>\n",
       "</div>"
      ],
      "text/plain": [
       "           Mean_Metrics\n",
       "Accuracy          0.784\n",
       "Precision         0.788\n",
       "Recall            0.769\n",
       "F1-score          0.775"
      ]
     },
     "metadata": {},
     "output_type": "display_data"
    }
   ],
   "source": [
    "df_metrics_mean = pd.DataFrame(data = df_metrics_total.mean(axis=1), columns=['Mean_Metrics'])\n",
    "display(df_metrics_mean.round(3))"
   ]
  }
 ],
 "metadata": {
  "kernelspec": {
   "display_name": "Python 3",
   "language": "python",
   "name": "python3"
  },
  "language_info": {
   "name": "python",
   "version": "3.12.1"
  }
 },
 "nbformat": 4,
 "nbformat_minor": 2
}
