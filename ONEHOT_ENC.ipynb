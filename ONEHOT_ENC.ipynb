{
 "cells": [
  {
   "cell_type": "markdown",
   "metadata": {},
   "source": [
    "## Df + Lib"
   ]
  },
  {
   "cell_type": "code",
   "execution_count": 1,
   "metadata": {},
   "outputs": [],
   "source": [
    "%store -r merge_unique_df"
   ]
  },
  {
   "cell_type": "code",
   "execution_count": 2,
   "metadata": {},
   "outputs": [],
   "source": [
    "# essential\n",
    "import pandas as pd\n",
    "import matplotlib.pyplot as plt\n",
    "\n",
    "# for NN\n",
    "import keras\n",
    "from keras.models import Sequential\n",
    "# we most use sequential model -> one layer after the other (sequence of layer)\n",
    "from keras.layers import Dense, Activation\n",
    "from keras.optimizers import Adam\n",
    "from tensorflow.keras.models import Sequential\n",
    "from tensorflow.keras.layers import Dense\n",
    "from tensorflow.keras.optimizers import SGD\n",
    "from tensorflow.keras.metrics import MeanAbsolutePercentageError\n",
    "from tensorflow.keras.layers import Dense, Dropout\n",
    "from tensorflow.keras.regularizers import l2\n",
    "\n",
    "# non so se siano utili\n",
    "from sklearn.model_selection import train_test_split\n",
    "from sklearn.preprocessing import StandardScaler, LabelEncoder\n",
    "from sklearn.metrics import mean_squared_error, mean_absolute_error\n",
    "from sklearn.metrics import confusion_matrix, ConfusionMatrixDisplay\n",
    "\n",
    "#basics \n",
    "# essential\n",
    "import numpy as np\n",
    "import matplotlib.pyplot as plt\n",
    "import seaborn as sns"
   ]
  },
  {
   "cell_type": "code",
   "execution_count": 3,
   "metadata": {},
   "outputs": [
    {
     "data": {
      "application/vnd.microsoft.datawrangler.viewer.v0+json": {
       "columns": [
        {
         "name": "SongID",
         "rawType": "object",
         "type": "string"
        },
        {
         "name": "genre_blues",
         "rawType": "bool",
         "type": "boolean"
        },
        {
         "name": "genre_country",
         "rawType": "bool",
         "type": "boolean"
        },
        {
         "name": "genre_dance",
         "rawType": "bool",
         "type": "boolean"
        },
        {
         "name": "genre_disco",
         "rawType": "bool",
         "type": "boolean"
        },
        {
         "name": "genre_folk",
         "rawType": "bool",
         "type": "boolean"
        },
        {
         "name": "genre_funk",
         "rawType": "bool",
         "type": "boolean"
        },
        {
         "name": "genre_house",
         "rawType": "bool",
         "type": "boolean"
        },
        {
         "name": "genre_indie",
         "rawType": "bool",
         "type": "boolean"
        },
        {
         "name": "genre_jazz",
         "rawType": "bool",
         "type": "boolean"
        },
        {
         "name": "genre_latin",
         "rawType": "bool",
         "type": "boolean"
        },
        {
         "name": "genre_metal",
         "rawType": "bool",
         "type": "boolean"
        },
        {
         "name": "genre_other",
         "rawType": "bool",
         "type": "boolean"
        },
        {
         "name": "genre_pop",
         "rawType": "bool",
         "type": "boolean"
        },
        {
         "name": "genre_r&b",
         "rawType": "bool",
         "type": "boolean"
        },
        {
         "name": "genre_rap",
         "rawType": "bool",
         "type": "boolean"
        },
        {
         "name": "genre_rock",
         "rawType": "bool",
         "type": "boolean"
        },
        {
         "name": "genre_soul",
         "rawType": "bool",
         "type": "boolean"
        }
       ],
       "conversionMethod": "pd.DataFrame",
       "ref": "84820e70-a26b-458f-b3f1-4cc20d03aa17",
       "rows": [
        [
         "-twistin'-White Silver SandsBill Black's Combo",
         "False",
         "False",
         "False",
         "False",
         "False",
         "False",
         "False",
         "False",
         "False",
         "False",
         "False",
         "True",
         "False",
         "False",
         "False",
         "False",
         "False"
        ],
        [
         "¿Dònde Està Santa Claus? (Where Is Santa Claus?)Augie Rios",
         "False",
         "False",
         "False",
         "False",
         "False",
         "False",
         "False",
         "False",
         "False",
         "False",
         "False",
         "True",
         "False",
         "False",
         "False",
         "False",
         "False"
        ]
       ],
       "shape": {
        "columns": 17,
        "rows": 2
       }
      },
      "text/html": [
       "<div>\n",
       "<style scoped>\n",
       "    .dataframe tbody tr th:only-of-type {\n",
       "        vertical-align: middle;\n",
       "    }\n",
       "\n",
       "    .dataframe tbody tr th {\n",
       "        vertical-align: top;\n",
       "    }\n",
       "\n",
       "    .dataframe thead th {\n",
       "        text-align: right;\n",
       "    }\n",
       "</style>\n",
       "<table border=\"1\" class=\"dataframe\">\n",
       "  <thead>\n",
       "    <tr style=\"text-align: right;\">\n",
       "      <th></th>\n",
       "      <th>genre_blues</th>\n",
       "      <th>genre_country</th>\n",
       "      <th>genre_dance</th>\n",
       "      <th>genre_disco</th>\n",
       "      <th>genre_folk</th>\n",
       "      <th>genre_funk</th>\n",
       "      <th>genre_house</th>\n",
       "      <th>genre_indie</th>\n",
       "      <th>genre_jazz</th>\n",
       "      <th>genre_latin</th>\n",
       "      <th>genre_metal</th>\n",
       "      <th>genre_other</th>\n",
       "      <th>genre_pop</th>\n",
       "      <th>genre_r&amp;b</th>\n",
       "      <th>genre_rap</th>\n",
       "      <th>genre_rock</th>\n",
       "      <th>genre_soul</th>\n",
       "    </tr>\n",
       "    <tr>\n",
       "      <th>SongID</th>\n",
       "      <th></th>\n",
       "      <th></th>\n",
       "      <th></th>\n",
       "      <th></th>\n",
       "      <th></th>\n",
       "      <th></th>\n",
       "      <th></th>\n",
       "      <th></th>\n",
       "      <th></th>\n",
       "      <th></th>\n",
       "      <th></th>\n",
       "      <th></th>\n",
       "      <th></th>\n",
       "      <th></th>\n",
       "      <th></th>\n",
       "      <th></th>\n",
       "      <th></th>\n",
       "    </tr>\n",
       "  </thead>\n",
       "  <tbody>\n",
       "    <tr>\n",
       "      <th>-twistin'-White Silver SandsBill Black's Combo</th>\n",
       "      <td>False</td>\n",
       "      <td>False</td>\n",
       "      <td>False</td>\n",
       "      <td>False</td>\n",
       "      <td>False</td>\n",
       "      <td>False</td>\n",
       "      <td>False</td>\n",
       "      <td>False</td>\n",
       "      <td>False</td>\n",
       "      <td>False</td>\n",
       "      <td>False</td>\n",
       "      <td>True</td>\n",
       "      <td>False</td>\n",
       "      <td>False</td>\n",
       "      <td>False</td>\n",
       "      <td>False</td>\n",
       "      <td>False</td>\n",
       "    </tr>\n",
       "    <tr>\n",
       "      <th>¿Dònde Està Santa Claus? (Where Is Santa Claus?)Augie Rios</th>\n",
       "      <td>False</td>\n",
       "      <td>False</td>\n",
       "      <td>False</td>\n",
       "      <td>False</td>\n",
       "      <td>False</td>\n",
       "      <td>False</td>\n",
       "      <td>False</td>\n",
       "      <td>False</td>\n",
       "      <td>False</td>\n",
       "      <td>False</td>\n",
       "      <td>False</td>\n",
       "      <td>True</td>\n",
       "      <td>False</td>\n",
       "      <td>False</td>\n",
       "      <td>False</td>\n",
       "      <td>False</td>\n",
       "      <td>False</td>\n",
       "    </tr>\n",
       "  </tbody>\n",
       "</table>\n",
       "</div>"
      ],
      "text/plain": [
       "                                                    genre_blues  \\\n",
       "SongID                                                            \n",
       "-twistin'-White Silver SandsBill Black's Combo            False   \n",
       "¿Dònde Està Santa Claus? (Where Is Santa Claus?...        False   \n",
       "\n",
       "                                                    genre_country  \\\n",
       "SongID                                                              \n",
       "-twistin'-White Silver SandsBill Black's Combo              False   \n",
       "¿Dònde Està Santa Claus? (Where Is Santa Claus?...          False   \n",
       "\n",
       "                                                    genre_dance  genre_disco  \\\n",
       "SongID                                                                         \n",
       "-twistin'-White Silver SandsBill Black's Combo            False        False   \n",
       "¿Dònde Està Santa Claus? (Where Is Santa Claus?...        False        False   \n",
       "\n",
       "                                                    genre_folk  genre_funk  \\\n",
       "SongID                                                                       \n",
       "-twistin'-White Silver SandsBill Black's Combo           False       False   \n",
       "¿Dònde Està Santa Claus? (Where Is Santa Claus?...       False       False   \n",
       "\n",
       "                                                    genre_house  genre_indie  \\\n",
       "SongID                                                                         \n",
       "-twistin'-White Silver SandsBill Black's Combo            False        False   \n",
       "¿Dònde Està Santa Claus? (Where Is Santa Claus?...        False        False   \n",
       "\n",
       "                                                    genre_jazz  genre_latin  \\\n",
       "SongID                                                                        \n",
       "-twistin'-White Silver SandsBill Black's Combo           False        False   \n",
       "¿Dònde Està Santa Claus? (Where Is Santa Claus?...       False        False   \n",
       "\n",
       "                                                    genre_metal  genre_other  \\\n",
       "SongID                                                                         \n",
       "-twistin'-White Silver SandsBill Black's Combo            False         True   \n",
       "¿Dònde Està Santa Claus? (Where Is Santa Claus?...        False         True   \n",
       "\n",
       "                                                    genre_pop  genre_r&b  \\\n",
       "SongID                                                                     \n",
       "-twistin'-White Silver SandsBill Black's Combo          False      False   \n",
       "¿Dònde Està Santa Claus? (Where Is Santa Claus?...      False      False   \n",
       "\n",
       "                                                    genre_rap  genre_rock  \\\n",
       "SongID                                                                      \n",
       "-twistin'-White Silver SandsBill Black's Combo          False       False   \n",
       "¿Dònde Està Santa Claus? (Where Is Santa Claus?...      False       False   \n",
       "\n",
       "                                                    genre_soul  \n",
       "SongID                                                          \n",
       "-twistin'-White Silver SandsBill Black's Combo           False  \n",
       "¿Dònde Està Santa Claus? (Where Is Santa Claus?...       False  "
      ]
     },
     "execution_count": 3,
     "metadata": {},
     "output_type": "execute_result"
    }
   ],
   "source": [
    "# in order to obtain the True/False for each genre\n",
    "onehot_enc=pd.get_dummies(merge_unique_df['maingenere'],prefix='genre')\n",
    "onehot_enc.head(2)"
   ]
  },
  {
   "cell_type": "code",
   "execution_count": 4,
   "metadata": {},
   "outputs": [
    {
     "name": "stderr",
     "output_type": "stream",
     "text": [
      "C:\\Users\\elped\\AppData\\Local\\Temp\\ipykernel_14252\\823651478.py:2: FutureWarning: DataFrame.applymap has been deprecated. Use DataFrame.map instead.\n",
      "  one_hot_enc_binary = onehot_enc.applymap(lambda x: 1 if x else 0)\n"
     ]
    }
   ],
   "source": [
    "# Conversione in valori binari (0 o 1) per rappresentare il main genere con 1 e gli altri con 0\n",
    "one_hot_enc_binary = onehot_enc.applymap(lambda x: 1 if x else 0)"
   ]
  },
  {
   "cell_type": "code",
   "execution_count": 5,
   "metadata": {},
   "outputs": [
    {
     "data": {
      "application/vnd.microsoft.datawrangler.viewer.v0+json": {
       "columns": [
        {
         "name": "SongID",
         "rawType": "object",
         "type": "string"
        },
        {
         "name": "Performer",
         "rawType": "object",
         "type": "string"
        },
        {
         "name": "Song",
         "rawType": "object",
         "type": "string"
        },
        {
         "name": "spotify_genre",
         "rawType": "object",
         "type": "string"
        },
        {
         "name": "spotify_track_duration_minute",
         "rawType": "float64",
         "type": "float"
        },
        {
         "name": "spotify_track_explicit",
         "rawType": "object",
         "type": "string"
        },
        {
         "name": "spotify_track_album",
         "rawType": "object",
         "type": "string"
        },
        {
         "name": "danceability",
         "rawType": "float64",
         "type": "float"
        },
        {
         "name": "energy",
         "rawType": "float64",
         "type": "float"
        },
        {
         "name": "key",
         "rawType": "float64",
         "type": "float"
        },
        {
         "name": "loudness",
         "rawType": "float64",
         "type": "float"
        },
        {
         "name": "mode",
         "rawType": "float64",
         "type": "float"
        },
        {
         "name": "speechiness",
         "rawType": "float64",
         "type": "float"
        },
        {
         "name": "acousticness",
         "rawType": "float64",
         "type": "float"
        },
        {
         "name": "instrumentalness",
         "rawType": "float64",
         "type": "float"
        },
        {
         "name": "liveness",
         "rawType": "float64",
         "type": "float"
        },
        {
         "name": "valence",
         "rawType": "float64",
         "type": "float"
        },
        {
         "name": "tempo",
         "rawType": "float64",
         "type": "float"
        },
        {
         "name": "time_signature",
         "rawType": "float64",
         "type": "float"
        },
        {
         "name": "spotify_track_popularity",
         "rawType": "float64",
         "type": "float"
        },
        {
         "name": "maingenere",
         "rawType": "object",
         "type": "string"
        },
        {
         "name": "User",
         "rawType": "int32",
         "type": "integer"
        },
        {
         "name": "genre_blues",
         "rawType": "int64",
         "type": "integer"
        },
        {
         "name": "genre_country",
         "rawType": "int64",
         "type": "integer"
        },
        {
         "name": "genre_dance",
         "rawType": "int64",
         "type": "integer"
        },
        {
         "name": "genre_disco",
         "rawType": "int64",
         "type": "integer"
        },
        {
         "name": "genre_folk",
         "rawType": "int64",
         "type": "integer"
        },
        {
         "name": "genre_funk",
         "rawType": "int64",
         "type": "integer"
        },
        {
         "name": "genre_house",
         "rawType": "int64",
         "type": "integer"
        },
        {
         "name": "genre_indie",
         "rawType": "int64",
         "type": "integer"
        },
        {
         "name": "genre_jazz",
         "rawType": "int64",
         "type": "integer"
        },
        {
         "name": "genre_latin",
         "rawType": "int64",
         "type": "integer"
        },
        {
         "name": "genre_metal",
         "rawType": "int64",
         "type": "integer"
        },
        {
         "name": "genre_other",
         "rawType": "int64",
         "type": "integer"
        },
        {
         "name": "genre_pop",
         "rawType": "int64",
         "type": "integer"
        },
        {
         "name": "genre_r&b",
         "rawType": "int64",
         "type": "integer"
        },
        {
         "name": "genre_rap",
         "rawType": "int64",
         "type": "integer"
        },
        {
         "name": "genre_rock",
         "rawType": "int64",
         "type": "integer"
        },
        {
         "name": "genre_soul",
         "rawType": "int64",
         "type": "integer"
        }
       ],
       "conversionMethod": "pd.DataFrame",
       "ref": "9ee3f8f1-f517-4c71-a1f8-0a5b521bbe0e",
       "rows": [
        [
         "-twistin'-White Silver SandsBill Black's Combo",
         "Bill Black's Combo",
         "-twistin'-White Silver Sands",
         "[]",
         "3.43",
         "unknown",
         "single",
         "0.59",
         "0.57",
         "5.37",
         "-9.97",
         "0.75",
         "0.07",
         "0.4",
         "0.08",
         "0.2",
         "0.63",
         "117.76",
         "3.89",
         "22.16",
         "other",
         "2",
         "0",
         "0",
         "0",
         "0",
         "0",
         "0",
         "0",
         "0",
         "0",
         "0",
         "0",
         "1",
         "0",
         "0",
         "0",
         "0",
         "0"
        ],
        [
         "¿Dònde Està Santa Claus? (Where Is Santa Claus?)Augie Rios",
         "Augie Rios",
         "¿Dònde Està Santa Claus? (Where Is Santa Claus?)",
         "['novelty']",
         "3.43",
         "unknown",
         "single",
         "0.59",
         "0.57",
         "5.37",
         "-9.97",
         "0.75",
         "0.07",
         "0.4",
         "0.08",
         "0.2",
         "0.63",
         "117.76",
         "3.89",
         "22.16",
         "other",
         "2",
         "0",
         "0",
         "0",
         "0",
         "0",
         "0",
         "0",
         "0",
         "0",
         "0",
         "0",
         "1",
         "0",
         "0",
         "0",
         "0",
         "0"
        ]
       ],
       "shape": {
        "columns": 38,
        "rows": 2
       }
      },
      "text/html": [
       "<div>\n",
       "<style scoped>\n",
       "    .dataframe tbody tr th:only-of-type {\n",
       "        vertical-align: middle;\n",
       "    }\n",
       "\n",
       "    .dataframe tbody tr th {\n",
       "        vertical-align: top;\n",
       "    }\n",
       "\n",
       "    .dataframe thead th {\n",
       "        text-align: right;\n",
       "    }\n",
       "</style>\n",
       "<table border=\"1\" class=\"dataframe\">\n",
       "  <thead>\n",
       "    <tr style=\"text-align: right;\">\n",
       "      <th></th>\n",
       "      <th>Performer</th>\n",
       "      <th>Song</th>\n",
       "      <th>spotify_genre</th>\n",
       "      <th>spotify_track_duration_minute</th>\n",
       "      <th>spotify_track_explicit</th>\n",
       "      <th>spotify_track_album</th>\n",
       "      <th>danceability</th>\n",
       "      <th>energy</th>\n",
       "      <th>key</th>\n",
       "      <th>loudness</th>\n",
       "      <th>...</th>\n",
       "      <th>genre_indie</th>\n",
       "      <th>genre_jazz</th>\n",
       "      <th>genre_latin</th>\n",
       "      <th>genre_metal</th>\n",
       "      <th>genre_other</th>\n",
       "      <th>genre_pop</th>\n",
       "      <th>genre_r&amp;b</th>\n",
       "      <th>genre_rap</th>\n",
       "      <th>genre_rock</th>\n",
       "      <th>genre_soul</th>\n",
       "    </tr>\n",
       "    <tr>\n",
       "      <th>SongID</th>\n",
       "      <th></th>\n",
       "      <th></th>\n",
       "      <th></th>\n",
       "      <th></th>\n",
       "      <th></th>\n",
       "      <th></th>\n",
       "      <th></th>\n",
       "      <th></th>\n",
       "      <th></th>\n",
       "      <th></th>\n",
       "      <th></th>\n",
       "      <th></th>\n",
       "      <th></th>\n",
       "      <th></th>\n",
       "      <th></th>\n",
       "      <th></th>\n",
       "      <th></th>\n",
       "      <th></th>\n",
       "      <th></th>\n",
       "      <th></th>\n",
       "      <th></th>\n",
       "    </tr>\n",
       "  </thead>\n",
       "  <tbody>\n",
       "    <tr>\n",
       "      <th>-twistin'-White Silver SandsBill Black's Combo</th>\n",
       "      <td>Bill Black's Combo</td>\n",
       "      <td>-twistin'-White Silver Sands</td>\n",
       "      <td>[]</td>\n",
       "      <td>3.43</td>\n",
       "      <td>unknown</td>\n",
       "      <td>single</td>\n",
       "      <td>0.59</td>\n",
       "      <td>0.57</td>\n",
       "      <td>5.37</td>\n",
       "      <td>-9.97</td>\n",
       "      <td>...</td>\n",
       "      <td>0</td>\n",
       "      <td>0</td>\n",
       "      <td>0</td>\n",
       "      <td>0</td>\n",
       "      <td>1</td>\n",
       "      <td>0</td>\n",
       "      <td>0</td>\n",
       "      <td>0</td>\n",
       "      <td>0</td>\n",
       "      <td>0</td>\n",
       "    </tr>\n",
       "    <tr>\n",
       "      <th>¿Dònde Està Santa Claus? (Where Is Santa Claus?)Augie Rios</th>\n",
       "      <td>Augie Rios</td>\n",
       "      <td>¿Dònde Està Santa Claus? (Where Is Santa Claus?)</td>\n",
       "      <td>['novelty']</td>\n",
       "      <td>3.43</td>\n",
       "      <td>unknown</td>\n",
       "      <td>single</td>\n",
       "      <td>0.59</td>\n",
       "      <td>0.57</td>\n",
       "      <td>5.37</td>\n",
       "      <td>-9.97</td>\n",
       "      <td>...</td>\n",
       "      <td>0</td>\n",
       "      <td>0</td>\n",
       "      <td>0</td>\n",
       "      <td>0</td>\n",
       "      <td>1</td>\n",
       "      <td>0</td>\n",
       "      <td>0</td>\n",
       "      <td>0</td>\n",
       "      <td>0</td>\n",
       "      <td>0</td>\n",
       "    </tr>\n",
       "  </tbody>\n",
       "</table>\n",
       "<p>2 rows × 38 columns</p>\n",
       "</div>"
      ],
      "text/plain": [
       "                                                             Performer  \\\n",
       "SongID                                                                   \n",
       "-twistin'-White Silver SandsBill Black's Combo      Bill Black's Combo   \n",
       "¿Dònde Està Santa Claus? (Where Is Santa Claus?...          Augie Rios   \n",
       "\n",
       "                                                                                                Song  \\\n",
       "SongID                                                                                                 \n",
       "-twistin'-White Silver SandsBill Black's Combo                          -twistin'-White Silver Sands   \n",
       "¿Dònde Està Santa Claus? (Where Is Santa Claus?...  ¿Dònde Està Santa Claus? (Where Is Santa Claus?)   \n",
       "\n",
       "                                                   spotify_genre  \\\n",
       "SongID                                                             \n",
       "-twistin'-White Silver SandsBill Black's Combo                []   \n",
       "¿Dònde Està Santa Claus? (Where Is Santa Claus?...   ['novelty']   \n",
       "\n",
       "                                                    spotify_track_duration_minute  \\\n",
       "SongID                                                                              \n",
       "-twistin'-White Silver SandsBill Black's Combo                               3.43   \n",
       "¿Dònde Està Santa Claus? (Where Is Santa Claus?...                           3.43   \n",
       "\n",
       "                                                   spotify_track_explicit  \\\n",
       "SongID                                                                      \n",
       "-twistin'-White Silver SandsBill Black's Combo                    unknown   \n",
       "¿Dònde Està Santa Claus? (Where Is Santa Claus?...                unknown   \n",
       "\n",
       "                                                   spotify_track_album  \\\n",
       "SongID                                                                   \n",
       "-twistin'-White Silver SandsBill Black's Combo                  single   \n",
       "¿Dònde Està Santa Claus? (Where Is Santa Claus?...              single   \n",
       "\n",
       "                                                    danceability  energy  \\\n",
       "SongID                                                                     \n",
       "-twistin'-White Silver SandsBill Black's Combo              0.59    0.57   \n",
       "¿Dònde Està Santa Claus? (Where Is Santa Claus?...          0.59    0.57   \n",
       "\n",
       "                                                     key  loudness  ...  \\\n",
       "SongID                                                              ...   \n",
       "-twistin'-White Silver SandsBill Black's Combo      5.37     -9.97  ...   \n",
       "¿Dònde Està Santa Claus? (Where Is Santa Claus?...  5.37     -9.97  ...   \n",
       "\n",
       "                                                    genre_indie  genre_jazz  \\\n",
       "SongID                                                                        \n",
       "-twistin'-White Silver SandsBill Black's Combo                0           0   \n",
       "¿Dònde Està Santa Claus? (Where Is Santa Claus?...            0           0   \n",
       "\n",
       "                                                    genre_latin  genre_metal  \\\n",
       "SongID                                                                         \n",
       "-twistin'-White Silver SandsBill Black's Combo                0            0   \n",
       "¿Dònde Està Santa Claus? (Where Is Santa Claus?...            0            0   \n",
       "\n",
       "                                                    genre_other  genre_pop  \\\n",
       "SongID                                                                       \n",
       "-twistin'-White Silver SandsBill Black's Combo                1          0   \n",
       "¿Dònde Està Santa Claus? (Where Is Santa Claus?...            1          0   \n",
       "\n",
       "                                                    genre_r&b  genre_rap  \\\n",
       "SongID                                                                     \n",
       "-twistin'-White Silver SandsBill Black's Combo              0          0   \n",
       "¿Dònde Està Santa Claus? (Where Is Santa Claus?...          0          0   \n",
       "\n",
       "                                                    genre_rock genre_soul  \n",
       "SongID                                                                     \n",
       "-twistin'-White Silver SandsBill Black's Combo               0          0  \n",
       "¿Dònde Està Santa Claus? (Where Is Santa Claus?...           0          0  \n",
       "\n",
       "[2 rows x 38 columns]"
      ]
     },
     "execution_count": 5,
     "metadata": {},
     "output_type": "execute_result"
    }
   ],
   "source": [
    "# we merge the 2 df\n",
    "df_one_hot=pd.concat([merge_unique_df,one_hot_enc_binary],axis=1)\n",
    "df_one_hot.head(2)"
   ]
  },
  {
   "cell_type": "markdown",
   "metadata": {},
   "source": [
    "## U1 - Test ONE HOT"
   ]
  },
  {
   "cell_type": "code",
   "execution_count": 6,
   "metadata": {},
   "outputs": [
    {
     "data": {
      "text/plain": [
       "(4669, 38)"
      ]
     },
     "execution_count": 6,
     "metadata": {},
     "output_type": "execute_result"
    }
   ],
   "source": [
    "mask_u1=df_one_hot['User']==1\n",
    "u1_onehot_df=df_one_hot[mask_u1]\n",
    "u1_onehot_df.shape"
   ]
  },
  {
   "cell_type": "markdown",
   "metadata": {},
   "source": [
    "### NN - test ONE HOT"
   ]
  },
  {
   "cell_type": "code",
   "execution_count": 7,
   "metadata": {},
   "outputs": [],
   "source": [
    "# FIRST WE NEED TO DEFINE THE FEATURES\n",
    "numerical_features = [\n",
    "    'spotify_track_duration_minute', 'danceability', 'energy', 'loudness',\n",
    "    'mode', 'speechiness', 'acousticness',\n",
    "    'spotify_track_popularity', 'instrumentalness', 'liveness']\n",
    "\n",
    "genre_features = [col for col in u1_onehot_df.columns if col.startswith('genre_')]\n",
    "\n",
    "# UNION OF THE TWO \n",
    "total_features = numerical_features + genre_features\n",
    "\n",
    "target='valence'"
   ]
  },
  {
   "cell_type": "code",
   "execution_count": 8,
   "metadata": {},
   "outputs": [],
   "source": [
    "# DEFINITION OF TARGET AND FEATURES\n",
    "\n",
    "x=u1_onehot_df[total_features]\n",
    "\n",
    "y=u1_onehot_df[target]"
   ]
  },
  {
   "cell_type": "code",
   "execution_count": 9,
   "metadata": {},
   "outputs": [
    {
     "name": "stderr",
     "output_type": "stream",
     "text": [
      "C:\\Users\\lovoa\\AppData\\Local\\Temp\\ipykernel_14936\\3500654492.py:3: SettingWithCopyWarning: \n",
      "A value is trying to be set on a copy of a slice from a DataFrame.\n",
      "Try using .loc[row_indexer,col_indexer] = value instead\n",
      "\n",
      "See the caveats in the documentation: https://pandas.pydata.org/pandas-docs/stable/user_guide/indexing.html#returning-a-view-versus-a-copy\n",
      "  x[numerical_features]=scaler.fit_transform(x[numerical_features])\n"
     ]
    }
   ],
   "source": [
    "# first we have to standardize\n",
    "scaler=StandardScaler()\n",
    "x[numerical_features]=scaler.fit_transform(x[numerical_features])"
   ]
  },
  {
   "cell_type": "code",
   "execution_count": 10,
   "metadata": {},
   "outputs": [],
   "source": [
    "#TRAIN/TEST\n",
    "x_train,x_test,y_train,y_test=train_test_split(x,y,test_size=0.2,random_state=42)"
   ]
  },
  {
   "cell_type": "code",
   "execution_count": 11,
   "metadata": {},
   "outputs": [
    {
     "name": "stderr",
     "output_type": "stream",
     "text": [
      "c:\\Users\\lovoa\\AppData\\Local\\Programs\\Python\\Python312\\Lib\\site-packages\\keras\\src\\layers\\core\\dense.py:87: UserWarning: Do not pass an `input_shape`/`input_dim` argument to a layer. When using Sequential models, prefer using an `Input(shape)` object as the first layer in the model instead.\n",
      "  super().__init__(activity_regularizer=activity_regularizer, **kwargs)\n"
     ]
    }
   ],
   "source": [
    "model_onehot=Sequential([\n",
    "    Dense(32,activation='relu',input_shape=(x_train.shape[1],)),\n",
    "    Dense(16,activation='relu'),\n",
    "    Dense(1,activation='relu')\n",
    "])"
   ]
  },
  {
   "cell_type": "code",
   "execution_count": 12,
   "metadata": {},
   "outputs": [],
   "source": [
    "model_onehot.compile(optimizer='adam',loss='mse',metrics=['mae'])"
   ]
  },
  {
   "cell_type": "code",
   "execution_count": 13,
   "metadata": {},
   "outputs": [
    {
     "name": "stdout",
     "output_type": "stream",
     "text": [
      "Epoch 1/20\n",
      "\u001b[1m94/94\u001b[0m \u001b[32m━━━━━━━━━━━━━━━━━━━━\u001b[0m\u001b[37m\u001b[0m \u001b[1m1s\u001b[0m 3ms/step - loss: 0.2138 - mae: 0.3616 - val_loss: 0.0594 - val_mae: 0.1815\n",
      "Epoch 2/20\n",
      "\u001b[1m94/94\u001b[0m \u001b[32m━━━━━━━━━━━━━━━━━━━━\u001b[0m\u001b[37m\u001b[0m \u001b[1m0s\u001b[0m 1ms/step - loss: 0.0443 - mae: 0.1664 - val_loss: 0.0438 - val_mae: 0.1625\n",
      "Epoch 3/20\n",
      "\u001b[1m94/94\u001b[0m \u001b[32m━━━━━━━━━━━━━━━━━━━━\u001b[0m\u001b[37m\u001b[0m \u001b[1m0s\u001b[0m 2ms/step - loss: 0.0359 - mae: 0.1527 - val_loss: 0.0389 - val_mae: 0.1550\n",
      "Epoch 4/20\n",
      "\u001b[1m94/94\u001b[0m \u001b[32m━━━━━━━━━━━━━━━━━━━━\u001b[0m\u001b[37m\u001b[0m \u001b[1m0s\u001b[0m 1ms/step - loss: 0.0334 - mae: 0.1458 - val_loss: 0.0356 - val_mae: 0.1491\n",
      "Epoch 5/20\n",
      "\u001b[1m94/94\u001b[0m \u001b[32m━━━━━━━━━━━━━━━━━━━━\u001b[0m\u001b[37m\u001b[0m \u001b[1m0s\u001b[0m 2ms/step - loss: 0.0293 - mae: 0.1379 - val_loss: 0.0348 - val_mae: 0.1467\n",
      "Epoch 6/20\n",
      "\u001b[1m94/94\u001b[0m \u001b[32m━━━━━━━━━━━━━━━━━━━━\u001b[0m\u001b[37m\u001b[0m \u001b[1m0s\u001b[0m 1ms/step - loss: 0.0285 - mae: 0.1345 - val_loss: 0.0332 - val_mae: 0.1438\n",
      "Epoch 7/20\n",
      "\u001b[1m94/94\u001b[0m \u001b[32m━━━━━━━━━━━━━━━━━━━━\u001b[0m\u001b[37m\u001b[0m \u001b[1m0s\u001b[0m 1ms/step - loss: 0.0262 - mae: 0.1293 - val_loss: 0.0316 - val_mae: 0.1411\n",
      "Epoch 8/20\n",
      "\u001b[1m94/94\u001b[0m \u001b[32m━━━━━━━━━━━━━━━━━━━━\u001b[0m\u001b[37m\u001b[0m \u001b[1m0s\u001b[0m 1ms/step - loss: 0.0245 - mae: 0.1254 - val_loss: 0.0308 - val_mae: 0.1385\n",
      "Epoch 9/20\n",
      "\u001b[1m94/94\u001b[0m \u001b[32m━━━━━━━━━━━━━━━━━━━━\u001b[0m\u001b[37m\u001b[0m \u001b[1m0s\u001b[0m 1ms/step - loss: 0.0254 - mae: 0.1286 - val_loss: 0.0302 - val_mae: 0.1379\n",
      "Epoch 10/20\n",
      "\u001b[1m94/94\u001b[0m \u001b[32m━━━━━━━━━━━━━━━━━━━━\u001b[0m\u001b[37m\u001b[0m \u001b[1m0s\u001b[0m 1ms/step - loss: 0.0229 - mae: 0.1207 - val_loss: 0.0297 - val_mae: 0.1356\n",
      "Epoch 11/20\n",
      "\u001b[1m94/94\u001b[0m \u001b[32m━━━━━━━━━━━━━━━━━━━━\u001b[0m\u001b[37m\u001b[0m \u001b[1m0s\u001b[0m 1ms/step - loss: 0.0246 - mae: 0.1256 - val_loss: 0.0294 - val_mae: 0.1354\n",
      "Epoch 12/20\n",
      "\u001b[1m94/94\u001b[0m \u001b[32m━━━━━━━━━━━━━━━━━━━━\u001b[0m\u001b[37m\u001b[0m \u001b[1m0s\u001b[0m 2ms/step - loss: 0.0230 - mae: 0.1225 - val_loss: 0.0295 - val_mae: 0.1354\n",
      "Epoch 13/20\n",
      "\u001b[1m94/94\u001b[0m \u001b[32m━━━━━━━━━━━━━━━━━━━━\u001b[0m\u001b[37m\u001b[0m \u001b[1m0s\u001b[0m 1ms/step - loss: 0.0234 - mae: 0.1228 - val_loss: 0.0286 - val_mae: 0.1329\n",
      "Epoch 14/20\n",
      "\u001b[1m94/94\u001b[0m \u001b[32m━━━━━━━━━━━━━━━━━━━━\u001b[0m\u001b[37m\u001b[0m \u001b[1m0s\u001b[0m 1ms/step - loss: 0.0243 - mae: 0.1254 - val_loss: 0.0297 - val_mae: 0.1343\n",
      "Epoch 15/20\n",
      "\u001b[1m94/94\u001b[0m \u001b[32m━━━━━━━━━━━━━━━━━━━━\u001b[0m\u001b[37m\u001b[0m \u001b[1m0s\u001b[0m 1ms/step - loss: 0.0224 - mae: 0.1193 - val_loss: 0.0289 - val_mae: 0.1340\n",
      "Epoch 16/20\n",
      "\u001b[1m94/94\u001b[0m \u001b[32m━━━━━━━━━━━━━━━━━━━━\u001b[0m\u001b[37m\u001b[0m \u001b[1m0s\u001b[0m 1ms/step - loss: 0.0225 - mae: 0.1188 - val_loss: 0.0291 - val_mae: 0.1362\n",
      "Epoch 17/20\n",
      "\u001b[1m94/94\u001b[0m \u001b[32m━━━━━━━━━━━━━━━━━━━━\u001b[0m\u001b[37m\u001b[0m \u001b[1m0s\u001b[0m 1ms/step - loss: 0.0225 - mae: 0.1207 - val_loss: 0.0291 - val_mae: 0.1337\n",
      "Epoch 18/20\n",
      "\u001b[1m94/94\u001b[0m \u001b[32m━━━━━━━━━━━━━━━━━━━━\u001b[0m\u001b[37m\u001b[0m \u001b[1m0s\u001b[0m 2ms/step - loss: 0.0222 - mae: 0.1192 - val_loss: 0.0289 - val_mae: 0.1331\n",
      "Epoch 19/20\n",
      "\u001b[1m94/94\u001b[0m \u001b[32m━━━━━━━━━━━━━━━━━━━━\u001b[0m\u001b[37m\u001b[0m \u001b[1m0s\u001b[0m 1ms/step - loss: 0.0214 - mae: 0.1170 - val_loss: 0.0289 - val_mae: 0.1333\n",
      "Epoch 20/20\n",
      "\u001b[1m94/94\u001b[0m \u001b[32m━━━━━━━━━━━━━━━━━━━━\u001b[0m\u001b[37m\u001b[0m \u001b[1m0s\u001b[0m 1ms/step - loss: 0.0215 - mae: 0.1162 - val_loss: 0.0290 - val_mae: 0.1335\n"
     ]
    }
   ],
   "source": [
    "history_onehot=model_onehot.fit(x_train,y_train,epochs=20,batch_size=32,validation_split=0.2)"
   ]
  },
  {
   "cell_type": "code",
   "execution_count": 14,
   "metadata": {},
   "outputs": [
    {
     "name": "stdout",
     "output_type": "stream",
     "text": [
      "\u001b[1m30/30\u001b[0m \u001b[32m━━━━━━━━━━━━━━━━━━━━\u001b[0m\u001b[37m\u001b[0m \u001b[1m0s\u001b[0m 1ms/step - loss: 0.0264 - mae: 0.1289\n",
      "Loss: 0.027704035863280296, MAE: 0.13181419670581818\n"
     ]
    }
   ],
   "source": [
    "loss, mae = model_onehot.evaluate(x_test, y_test)\n",
    "print(f'Loss: {loss}, MAE: {mae}')"
   ]
  },
  {
   "cell_type": "markdown",
   "metadata": {},
   "source": [
    "We can see that we have a small reduction in the MSE, but the MAE still remain above the 10%, so even add the information related to the maingenre with the one hot encoded technique, we still have problems in reach our goal."
   ]
  },
  {
   "cell_type": "code",
   "execution_count": 15,
   "metadata": {},
   "outputs": [
    {
     "data": {
      "image/png": "[encoded data removed]",
      "text/plain": [
       "<Figure size 1000x600 with 1 Axes>"
      ]
     },
     "metadata": {},
     "output_type": "display_data"
    },
    {
     "data": {
      "image/png": "[encoded data removed]",
      "text/plain": [
       "<Figure size 1000x600 with 1 Axes>"
      ]
     },
     "metadata": {},
     "output_type": "display_data"
    }
   ],
   "source": [
    "#SOME PLOT\n",
    "\n",
    "#plot loss\n",
    "plt.figure(figsize=(10,6))\n",
    "plt.plot(history_onehot.history['loss'],color='blue',label='loss')\n",
    "plt.plot(history_onehot.history['val_loss'],color='red',label='val_loss')\n",
    "plt.xlabel('Epoch')\n",
    "plt.ylabel('Loss')\n",
    "plt.title('Loss function through epoch')\n",
    "plt.legend()\n",
    "plt.grid()\n",
    "plt.show()\n",
    "\n",
    "    #plot mean\n",
    "plt.figure(figsize=(10,6))\n",
    "plt.plot(history_onehot.history['mae'],color='blue',label='mae')\n",
    "plt.plot(history_onehot.history['val_mae'],color='red',label='val_mae')\n",
    "plt.xlabel('Epoch')\n",
    "plt.ylabel('mae')\n",
    "plt.title('Mae function through epoch')\n",
    "plt.grid()\n",
    "plt.legend()\n",
    "plt.show()   "
   ]
  },
  {
   "cell_type": "markdown",
   "metadata": {},
   "source": [
    "## GENERALIZE ONE HOT - ENCODING - all users"
   ]
  },
  {
   "cell_type": "code",
   "execution_count": 16,
   "metadata": {},
   "outputs": [],
   "source": [
    "numerical_features = [\n",
    "    'spotify_track_duration_minute', 'danceability', 'energy', 'loudness',\n",
    "    'mode', 'speechiness', 'acousticness',\n",
    "    'spotify_track_popularity', 'instrumentalness', 'liveness']\n",
    "\n",
    "genre_features = [col for col in u1_onehot_df.columns if col.startswith('genre_')]\n",
    "\n",
    "# UNION OF THE TWO \n",
    "total_features = numerical_features + genre_features\n",
    "\n",
    "target='valence'"
   ]
  },
  {
   "cell_type": "markdown",
   "metadata": {},
   "source": [
    "### DEFINE FUNCTIONS"
   ]
  },
  {
   "cell_type": "markdown",
   "metadata": {},
   "source": [
    "## PLOTS"
   ]
  },
  {
   "cell_type": "code",
   "execution_count": null,
   "metadata": {},
   "outputs": [],
   "source": [
    "def plot_for_model(history):\n",
    "\n",
    "    #plot loss\n",
    "    plt.figure()\n",
    "    plt.plot(history.history['loss'],color='blue',label='loss')\n",
    "    plt.plot(history.history['val_loss'],color='red',label='val_loss')\n",
    "    plt.xlabel('Epoch')\n",
    "    plt.ylabel('Loss')\n",
    "    plt.title('Loss function through epoch')\n",
    "    plt.legend()\n",
    "    plt.grid()\n",
    "    plt.show()\n",
    "\n",
    "    #plot mean\n",
    "    plt.figure()\n",
    "    plt.plot(history.history['mae'],color='blue',label='mae')\n",
    "    plt.plot(history.history['val_mae'],color='red',label='val_mae')\n",
    "    plt.xlabel('Epoch')\n",
    "    plt.ylabel('mae')\n",
    "    plt.title('Mae function through epoch')\n",
    "    plt.grid()\n",
    "    plt.legend()\n",
    "    plt.show()   \n",
    "\n",
    "    # plot \n",
    "    # aggiunto A.L\n",
    "    #plt.figure(figsize=(12,6))\n",
    "    #plt.plot(y_test, color='r')\n",
    "    #plt.plot(y_hat, color='b') #attenzione alcune predizione sono negative\n",
    "    #plt.title('Prediction')\n",
    "    #plt.legend()\n",
    "    #plt.show()"
   ]
  },
  {
   "cell_type": "markdown",
   "metadata": {},
   "source": [
    "## SPLIT DATA"
   ]
  },
  {
   "cell_type": "code",
   "execution_count": 18,
   "metadata": {},
   "outputs": [],
   "source": [
    "def return_train_test(df):\n",
    "    #extract the feature and target\n",
    "    x = df[total_features]\n",
    "    y = df[target]\n",
    "\n",
    "    #normalization\n",
    "    #x_scaled = scaler.fit_transform(x[numerical_features])\n",
    "    #x[total_features] = scaler.fit_transform(x[numerical_features])\n",
    "    x[numerical_features] = scaler.fit_transform(x[numerical_features])\n",
    "    #display(x)\n",
    "\n",
    "    #split; serve farlo? non se ne occupa il fit? chiedere\n",
    "    #x_train,x_test,y_train,y_test=train_test_split(x_scaled, y, test_size=0.2, random_state=42)\n",
    "    x_train,x_test,y_train,y_test=train_test_split(x, y, test_size=0.2, random_state=42)\n",
    "    #display(x_train)\n",
    "\n",
    "    return x_train,x_test,y_train,y_test"
   ]
  },
  {
   "cell_type": "markdown",
   "metadata": {},
   "source": [
    "## MODEL"
   ]
  },
  {
   "cell_type": "code",
   "execution_count": 19,
   "metadata": {},
   "outputs": [],
   "source": [
    "# function to create the model\n",
    "def create_model_user(shape_x_train): #number of columns -> shape\n",
    "    \n",
    "    \n",
    "    '''model_user_i = Sequential([\n",
    "        Dense(32, input_dim=shape_x_train, activation='relu', name='first_layer'),\n",
    "        # 64 as the number of initial layer is a common choice when we build a NN --> VEDIAMO COME FUNZIA POI NEL CASO SI SISTEMA IN SEGUITO\n",
    "        # input_dim: take the dimension of the x_train array --> that is equivalent to the number of feature in input\n",
    "        \n",
    "        # SI POSSONO AGGIUNGERE PER OGNI LAYER --> Dropout(0.3) per evitare overfitting\n",
    "        \n",
    "\n",
    "        Dense(16, activation='relu', name='secod_layer'),\n",
    "        Dense(1, activation='linear', name='final_layer')\n",
    "    ])'''\n",
    "\n",
    "    model_user_i = Sequential([\n",
    "        \n",
    "        Dense(32,input_dim=shape_x_train,activation='relu',name='first_layer',kernel_regularizer=l2(0.01)),\n",
    "        # 64 as the number of initial layer is a common choice when we build a NN --> VEDIAMO COME FUNZIA POI NEL CASO SI SISTEMA IN SEGUITO\n",
    "        # input_dim: take the dimension of the x_train array --> that is equivalent to the number of feature in input\n",
    "        \n",
    "        # SI POSSONO AGGIUNGERE PER OGNI LAYER --> Dropout(0.3) per evitare overfitting\n",
    "        Dropout(0.3),\n",
    "        Dense(16,activation='relu',name='secod_layer',kernel_regularizer=l2(0.01)),\n",
    "        Dropout(0.2),\n",
    "        #Dense(1,activation='linear',name='final_layer')\n",
    "        Dense(1,activation='sigmoid',name='final_layer') #ATENZION PROVIAMO SIGMOID PRCHè CI SERVE UN OUTPUT NEL RANGE DI O E 1\n",
    "    \n",
    "    ])\n",
    "\n",
    "    #compile the model\n",
    "    model_user_i.compile(optimizer = 'adam', loss = 'mse', metrics = ['mae'])\n",
    "\n",
    "    #summary\n",
    "    #display(model_user_i.summary())\n",
    "\n",
    "    #return  the model\n",
    "    return model_user_i\n"
   ]
  },
  {
   "cell_type": "markdown",
   "metadata": {},
   "source": [
    "## FIT MODEL"
   ]
  },
  {
   "cell_type": "code",
   "execution_count": 20,
   "metadata": {},
   "outputs": [],
   "source": [
    "#function to train the model\n",
    "def fit_model(model, x_train, y_train, x_test, y_test):\n",
    "\n",
    "    history_model = model.fit(\n",
    "        x_train,y_train,\n",
    "        #validation_split=0.2,\n",
    "        validation_data = [x_test, y_test],\n",
    "        epochs=100,\n",
    "        batch_size=32,\n",
    "        #verbose=1\n",
    "    )\n",
    "\n",
    "    return history_model"
   ]
  },
  {
   "cell_type": "markdown",
   "metadata": {},
   "source": [
    "## RECOMANDATION FUNCTION + CONFUSION MATRIX"
   ]
  },
  {
   "cell_type": "code",
   "execution_count": 21,
   "metadata": {},
   "outputs": [],
   "source": [
    "def reco_function_conf_matrix(y_test, y_hat, threshold):\n",
    "    \n",
    "    #initialize dataframe    \n",
    "    data = {'Original Test': y_test,\n",
    "        'Prediction Test': y_hat.flatten(),\n",
    "        }\n",
    "    df_prediction = pd.DataFrame(data = data)\n",
    "    df_prediction['Original over Thrashold'] = df_prediction['Original Test'] > threshold\n",
    "    df_prediction['Predicted over Thrashold'] = df_prediction['Prediction Test'] > threshold\n",
    "    display(df_prediction)\n",
    "\n",
    "    #plot confusion matrix of reccomandation\n",
    "    cm = confusion_matrix(df_prediction['Original over Thrashold'], df_prediction['Predicted over Thrashold'])\n",
    "    \n",
    "    # METRIX FOR EVALUATE RECCOMANDATION \n",
    "    # Extract TP, TN, FP, FN\n",
    "    TN, FP, FN, TP = cm.ravel()\n",
    "    # Calculate metrics manually\n",
    "    accuracy = (TP + TN) / (TP + TN + FP + FN)\n",
    "    precision = TP / (TP + FP) if (TP + FP) > 0 else 0\n",
    "    recall = TP / (TP + FN) if (TP + FN) > 0 else 0\n",
    "    f1 = 2 * (precision * recall) / (precision + recall) if (precision + recall) > 0 else 0\n",
    "\n",
    "\n",
    "    plt.figure()\n",
    "    sns.heatmap(cm, annot=True, fmt='d', cmap='Blues', xticklabels=['True', 'False'], yticklabels=['True', 'False'])\n",
    "    plt.title('Confiusion matrix')\n",
    "    plt.xlabel('predicted')\n",
    "    plt.ylabel('actual')\n",
    "    plt.show()\n",
    "\n",
    "    # Store metrics in a DataFrame\n",
    "    df_metrics_cm = pd.DataFrame({\n",
    "        'Metric': ['Accuracy', 'Precision', 'Recall', 'F1-score'],\n",
    "        'Value': [accuracy, precision, recall, f1]\n",
    "    })\n",
    "\n",
    "    display(df_metrics_cm.round(2))\n",
    "\n",
    "    return df_prediction,df_metrics_cm"
   ]
  },
  {
   "cell_type": "markdown",
   "metadata": {},
   "source": [
    "## MAIN "
   ]
  },
  {
   "cell_type": "code",
   "execution_count": 22,
   "metadata": {},
   "outputs": [
    {
     "name": "stdout",
     "output_type": "stream",
     "text": [
      "---------------------------------------------------------\n",
      "USER 0\n",
      "Epoch 1/100\n"
     ]
    },
    {
     "name": "stderr",
     "output_type": "stream",
     "text": [
      "C:\\Users\\lovoa\\AppData\\Local\\Temp\\ipykernel_14936\\3823668386.py:9: SettingWithCopyWarning: \n",
      "A value is trying to be set on a copy of a slice from a DataFrame.\n",
      "Try using .loc[row_indexer,col_indexer] = value instead\n",
      "\n",
      "See the caveats in the documentation: https://pandas.pydata.org/pandas-docs/stable/user_guide/indexing.html#returning-a-view-versus-a-copy\n",
      "  x[numerical_features] = scaler.fit_transform(x[numerical_features])\n",
      "c:\\Users\\lovoa\\AppData\\Local\\Programs\\Python\\Python312\\Lib\\site-packages\\keras\\src\\layers\\core\\dense.py:87: UserWarning: Do not pass an `input_shape`/`input_dim` argument to a layer. When using Sequential models, prefer using an `Input(shape)` object as the first layer in the model instead.\n",
      "  super().__init__(activity_regularizer=activity_regularizer, **kwargs)\n"
     ]
    },
    {
     "name": "stdout",
     "output_type": "stream",
     "text": [
      "\u001b[1m143/143\u001b[0m \u001b[32m━━━━━━━━━━━━━━━━━━━━\u001b[0m\u001b[37m\u001b[0m \u001b[1m2s\u001b[0m 3ms/step - loss: 0.4636 - mae: 0.2252 - val_loss: 0.1920 - val_mae: 0.1726\n",
      "Epoch 2/100\n",
      "\u001b[1m143/143\u001b[0m \u001b[32m━━━━━━━━━━━━━━━━━━━━\u001b[0m\u001b[37m\u001b[0m \u001b[1m0s\u001b[0m 1ms/step - loss: 0.1567 - mae: 0.1764 - val_loss: 0.0768 - val_mae: 0.1580\n",
      "Epoch 3/100\n",
      "\u001b[1m143/143\u001b[0m \u001b[32m━━━━━━━━━━━━━━━━━━━━\u001b[0m\u001b[37m\u001b[0m \u001b[1m0s\u001b[0m 2ms/step - loss: 0.0688 - mae: 0.1611 - val_loss: 0.0472 - val_mae: 0.1513\n",
      "Epoch 4/100\n",
      "\u001b[1m143/143\u001b[0m \u001b[32m━━━━━━━━━━━━━━━━━━━━\u001b[0m\u001b[37m\u001b[0m \u001b[1m0s\u001b[0m 2ms/step - loss: 0.0488 - mae: 0.1592 - val_loss: 0.0401 - val_mae: 0.1477\n",
      "Epoch 5/100\n",
      "\u001b[1m143/143\u001b[0m \u001b[32m━━━━━━━━━━━━━━━━━━━━\u001b[0m\u001b[37m\u001b[0m \u001b[1m0s\u001b[0m 1ms/step - loss: 0.0429 - mae: 0.1534 - val_loss: 0.0382 - val_mae: 0.1454\n",
      "Epoch 6/100\n",
      "\u001b[1m143/143\u001b[0m \u001b[32m━━━━━━━━━━━━━━━━━━━━\u001b[0m\u001b[37m\u001b[0m \u001b[1m0s\u001b[0m 1ms/step - loss: 0.0405 - mae: 0.1513 - val_loss: 0.0377 - val_mae: 0.1447\n",
      "Epoch 7/100\n",
      "\u001b[1m143/143\u001b[0m \u001b[32m━━━━━━━━━━━━━━━━━━━━\u001b[0m\u001b[37m\u001b[0m \u001b[1m0s\u001b[0m 2ms/step - loss: 0.0396 - mae: 0.1500 - val_loss: 0.0374 - val_mae: 0.1457\n",
      "Epoch 8/100\n",
      "\u001b[1m143/143\u001b[0m \u001b[32m━━━━━━━━━━━━━━━━━━━━\u001b[0m\u001b[37m\u001b[0m \u001b[1m0s\u001b[0m 1ms/step - loss: 0.0407 - mae: 0.1531 - val_loss: 0.0368 - val_mae: 0.1444\n",
      "Epoch 9/100\n",
      "\u001b[1m143/143\u001b[0m \u001b[32m━━━━━━━━━━━━━━━━━━━━\u001b[0m\u001b[37m\u001b[0m \u001b[1m0s\u001b[0m 2ms/step - loss: 0.0408 - mae: 0.1534 - val_loss: 0.0368 - val_mae: 0.1435\n",
      "Epoch 10/100\n",
      "\u001b[1m143/143\u001b[0m \u001b[32m━━━━━━━━━━━━━━━━━━━━\u001b[0m\u001b[37m\u001b[0m \u001b[1m0s\u001b[0m 1ms/step - loss: 0.0396 - mae: 0.1510 - val_loss: 0.0363 - val_mae: 0.1428\n",
      "Epoch 11/100\n",
      "\u001b[1m143/143\u001b[0m \u001b[32m━━━━━━━━━━━━━━━━━━━━\u001b[0m\u001b[37m\u001b[0m \u001b[1m0s\u001b[0m 1ms/step - loss: 0.0391 - mae: 0.1501 - val_loss: 0.0359 - val_mae: 0.1427\n",
      "Epoch 12/100\n",
      "\u001b[1m143/143\u001b[0m \u001b[32m━━━━━━━━━━━━━━━━━━━━\u001b[0m\u001b[37m\u001b[0m \u001b[1m0s\u001b[0m 2ms/step - loss: 0.0384 - mae: 0.1475 - val_loss: 0.0357 - val_mae: 0.1410\n",
      "Epoch 13/100\n",
      "\u001b[1m143/143\u001b[0m \u001b[32m━━━━━━━━━━━━━━━━━━━━\u001b[0m\u001b[37m\u001b[0m \u001b[1m0s\u001b[0m 2ms/step - loss: 0.0383 - mae: 0.1472 - val_loss: 0.0356 - val_mae: 0.1413\n",
      "Epoch 14/100\n",
      "\u001b[1m143/143\u001b[0m \u001b[32m━━━━━━━━━━━━━━━━━━━━\u001b[0m\u001b[37m\u001b[0m \u001b[1m0s\u001b[0m 2ms/step - loss: 0.0384 - mae: 0.1485 - val_loss: 0.0354 - val_mae: 0.1415\n",
      "Epoch 15/100\n",
      "\u001b[1m143/143\u001b[0m \u001b[32m━━━━━━━━━━━━━━━━━━━━\u001b[0m\u001b[37m\u001b[0m \u001b[1m0s\u001b[0m 1ms/step - loss: 0.0397 - mae: 0.1508 - val_loss: 0.0356 - val_mae: 0.1419\n",
      "Epoch 16/100\n",
      "\u001b[1m143/143\u001b[0m \u001b[32m━━━━━━━━━━━━━━━━━━━━\u001b[0m\u001b[37m\u001b[0m \u001b[1m0s\u001b[0m 1ms/step - loss: 0.0381 - mae: 0.1472 - val_loss: 0.0352 - val_mae: 0.1415\n",
      "Epoch 17/100\n",
      "\u001b[1m143/143\u001b[0m \u001b[32m━━━━━━━━━━━━━━━━━━━━\u001b[0m\u001b[37m\u001b[0m \u001b[1m0s\u001b[0m 2ms/step - loss: 0.0378 - mae: 0.1484 - val_loss: 0.0353 - val_mae: 0.1432\n",
      "Epoch 18/100\n",
      "\u001b[1m143/143\u001b[0m \u001b[32m━━━━━━━━━━━━━━━━━━━━\u001b[0m\u001b[37m\u001b[0m \u001b[1m0s\u001b[0m 1ms/step - loss: 0.0377 - mae: 0.1476 - val_loss: 0.0356 - val_mae: 0.1424\n",
      "Epoch 19/100\n",
      "\u001b[1m143/143\u001b[0m \u001b[32m━━━━━━━━━━━━━━━━━━━━\u001b[0m\u001b[37m\u001b[0m \u001b[1m0s\u001b[0m 2ms/step - loss: 0.0378 - mae: 0.1470 - val_loss: 0.0346 - val_mae: 0.1405\n",
      "Epoch 20/100\n",
      "\u001b[1m143/143\u001b[0m \u001b[32m━━━━━━━━━━━━━━━━━━━━\u001b[0m\u001b[37m\u001b[0m \u001b[1m0s\u001b[0m 2ms/step - loss: 0.0383 - mae: 0.1492 - val_loss: 0.0347 - val_mae: 0.1419\n",
      "Epoch 21/100\n",
      "\u001b[1m143/143\u001b[0m \u001b[32m━━━━━━━━━━━━━━━━━━━━\u001b[0m\u001b[37m\u001b[0m \u001b[1m0s\u001b[0m 2ms/step - loss: 0.0369 - mae: 0.1450 - val_loss: 0.0346 - val_mae: 0.1411\n",
      "Epoch 22/100\n",
      "\u001b[1m143/143\u001b[0m \u001b[32m━━━━━━━━━━━━━━━━━━━━\u001b[0m\u001b[37m\u001b[0m \u001b[1m0s\u001b[0m 2ms/step - loss: 0.0374 - mae: 0.1464 - val_loss: 0.0347 - val_mae: 0.1411\n",
      "Epoch 23/100\n",
      "\u001b[1m143/143\u001b[0m \u001b[32m━━━━━━━━━━━━━━━━━━━━\u001b[0m\u001b[37m\u001b[0m \u001b[1m0s\u001b[0m 2ms/step - loss: 0.0365 - mae: 0.1449 - val_loss: 0.0344 - val_mae: 0.1407\n",
      "Epoch 24/100\n",
      "\u001b[1m143/143\u001b[0m \u001b[32m━━━━━━━━━━━━━━━━━━━━\u001b[0m\u001b[37m\u001b[0m \u001b[1m0s\u001b[0m 2ms/step - loss: 0.0372 - mae: 0.1469 - val_loss: 0.0344 - val_mae: 0.1384\n",
      "Epoch 25/100\n",
      "\u001b[1m143/143\u001b[0m \u001b[32m━━━━━━━━━━━━━━━━━━━━\u001b[0m\u001b[37m\u001b[0m \u001b[1m0s\u001b[0m 2ms/step - loss: 0.0374 - mae: 0.1457 - val_loss: 0.0342 - val_mae: 0.1395\n",
      "Epoch 26/100\n",
      "\u001b[1m143/143\u001b[0m \u001b[32m━━━━━━━━━━━━━━━━━━━━\u001b[0m\u001b[37m\u001b[0m \u001b[1m0s\u001b[0m 1ms/step - loss: 0.0366 - mae: 0.1449 - val_loss: 0.0346 - val_mae: 0.1414\n",
      "Epoch 27/100\n",
      "\u001b[1m143/143\u001b[0m \u001b[32m━━━━━━━━━━━━━━━━━━━━\u001b[0m\u001b[37m\u001b[0m \u001b[1m0s\u001b[0m 2ms/step - loss: 0.0369 - mae: 0.1461 - val_loss: 0.0339 - val_mae: 0.1391\n",
      "Epoch 28/100\n",
      "\u001b[1m143/143\u001b[0m \u001b[32m━━━━━━━━━━━━━━━━━━━━\u001b[0m\u001b[37m\u001b[0m \u001b[1m0s\u001b[0m 2ms/step - loss: 0.0369 - mae: 0.1453 - val_loss: 0.0338 - val_mae: 0.1397\n",
      "Epoch 29/100\n",
      "\u001b[1m143/143\u001b[0m \u001b[32m━━━━━━━━━━━━━━━━━━━━\u001b[0m\u001b[37m\u001b[0m \u001b[1m0s\u001b[0m 2ms/step - loss: 0.0366 - mae: 0.1444 - val_loss: 0.0340 - val_mae: 0.1401\n",
      "Epoch 30/100\n",
      "\u001b[1m143/143\u001b[0m \u001b[32m━━━━━━━━━━━━━━━━━━━━\u001b[0m\u001b[37m\u001b[0m \u001b[1m0s\u001b[0m 1ms/step - loss: 0.0361 - mae: 0.1442 - val_loss: 0.0343 - val_mae: 0.1409\n",
      "Epoch 31/100\n",
      "\u001b[1m143/143\u001b[0m \u001b[32m━━━━━━━━━━━━━━━━━━━━\u001b[0m\u001b[37m\u001b[0m \u001b[1m0s\u001b[0m 2ms/step - loss: 0.0375 - mae: 0.1473 - val_loss: 0.0343 - val_mae: 0.1409\n",
      "Epoch 32/100\n",
      "\u001b[1m143/143\u001b[0m \u001b[32m━━━━━━━━━━━━━━━━━━━━\u001b[0m\u001b[37m\u001b[0m \u001b[1m0s\u001b[0m 2ms/step - loss: 0.0357 - mae: 0.1435 - val_loss: 0.0339 - val_mae: 0.1393\n",
      "Epoch 33/100\n",
      "\u001b[1m143/143\u001b[0m \u001b[32m━━━━━━━━━━━━━━━━━━━━\u001b[0m\u001b[37m\u001b[0m \u001b[1m0s\u001b[0m 2ms/step - loss: 0.0355 - mae: 0.1425 - val_loss: 0.0338 - val_mae: 0.1391\n",
      "Epoch 34/100\n",
      "\u001b[1m143/143\u001b[0m \u001b[32m━━━━━━━━━━━━━━━━━━━━\u001b[0m\u001b[37m\u001b[0m \u001b[1m0s\u001b[0m 2ms/step - loss: 0.0360 - mae: 0.1441 - val_loss: 0.0333 - val_mae: 0.1389\n",
      "Epoch 35/100\n",
      "\u001b[1m143/143\u001b[0m \u001b[32m━━━━━━━━━━━━━━━━━━━━\u001b[0m\u001b[37m\u001b[0m \u001b[1m0s\u001b[0m 2ms/step - loss: 0.0360 - mae: 0.1446 - val_loss: 0.0333 - val_mae: 0.1383\n",
      "Epoch 36/100\n",
      "\u001b[1m143/143\u001b[0m \u001b[32m━━━━━━━━━━━━━━━━━━━━\u001b[0m\u001b[37m\u001b[0m \u001b[1m0s\u001b[0m 2ms/step - loss: 0.0369 - mae: 0.1477 - val_loss: 0.0338 - val_mae: 0.1380\n",
      "Epoch 37/100\n",
      "\u001b[1m143/143\u001b[0m \u001b[32m━━━━━━━━━━━━━━━━━━━━\u001b[0m\u001b[37m\u001b[0m \u001b[1m0s\u001b[0m 2ms/step - loss: 0.0355 - mae: 0.1424 - val_loss: 0.0333 - val_mae: 0.1393\n",
      "Epoch 38/100\n",
      "\u001b[1m143/143\u001b[0m \u001b[32m━━━━━━━━━━━━━━━━━━━━\u001b[0m\u001b[37m\u001b[0m \u001b[1m0s\u001b[0m 1ms/step - loss: 0.0365 - mae: 0.1454 - val_loss: 0.0334 - val_mae: 0.1397\n",
      "Epoch 39/100\n",
      "\u001b[1m143/143\u001b[0m \u001b[32m━━━━━━━━━━━━━━━━━━━━\u001b[0m\u001b[37m\u001b[0m \u001b[1m0s\u001b[0m 2ms/step - loss: 0.0361 - mae: 0.1461 - val_loss: 0.0335 - val_mae: 0.1398\n",
      "Epoch 40/100\n",
      "\u001b[1m143/143\u001b[0m \u001b[32m━━━━━━━━━━━━━━━━━━━━\u001b[0m\u001b[37m\u001b[0m \u001b[1m0s\u001b[0m 2ms/step - loss: 0.0347 - mae: 0.1415 - val_loss: 0.0336 - val_mae: 0.1380\n",
      "Epoch 41/100\n",
      "\u001b[1m143/143\u001b[0m \u001b[32m━━━━━━━━━━━━━━━━━━━━\u001b[0m\u001b[37m\u001b[0m \u001b[1m0s\u001b[0m 2ms/step - loss: 0.0363 - mae: 0.1456 - val_loss: 0.0332 - val_mae: 0.1392\n",
      "Epoch 42/100\n",
      "\u001b[1m143/143\u001b[0m \u001b[32m━━━━━━━━━━━━━━━━━━━━\u001b[0m\u001b[37m\u001b[0m \u001b[1m0s\u001b[0m 2ms/step - loss: 0.0364 - mae: 0.1460 - val_loss: 0.0333 - val_mae: 0.1371\n",
      "Epoch 43/100\n",
      "\u001b[1m143/143\u001b[0m \u001b[32m━━━━━━━━━━━━━━━━━━━━\u001b[0m\u001b[37m\u001b[0m \u001b[1m0s\u001b[0m 2ms/step - loss: 0.0360 - mae: 0.1443 - val_loss: 0.0334 - val_mae: 0.1377\n",
      "Epoch 44/100\n",
      "\u001b[1m143/143\u001b[0m \u001b[32m━━━━━━━━━━━━━━━━━━━━\u001b[0m\u001b[37m\u001b[0m \u001b[1m0s\u001b[0m 2ms/step - loss: 0.0353 - mae: 0.1433 - val_loss: 0.0329 - val_mae: 0.1379\n",
      "Epoch 45/100\n",
      "\u001b[1m143/143\u001b[0m \u001b[32m━━━━━━━━━━━━━━━━━━━━\u001b[0m\u001b[37m\u001b[0m \u001b[1m0s\u001b[0m 2ms/step - loss: 0.0354 - mae: 0.1433 - val_loss: 0.0337 - val_mae: 0.1386\n",
      "Epoch 46/100\n",
      "\u001b[1m143/143\u001b[0m \u001b[32m━━━━━━━━━━━━━━━━━━━━\u001b[0m\u001b[37m\u001b[0m \u001b[1m0s\u001b[0m 1ms/step - loss: 0.0354 - mae: 0.1444 - val_loss: 0.0336 - val_mae: 0.1386\n",
      "Epoch 47/100\n",
      "\u001b[1m143/143\u001b[0m \u001b[32m━━━━━━━━━━━━━━━━━━━━\u001b[0m\u001b[37m\u001b[0m \u001b[1m0s\u001b[0m 2ms/step - loss: 0.0362 - mae: 0.1458 - val_loss: 0.0328 - val_mae: 0.1393\n",
      "Epoch 48/100\n",
      "\u001b[1m143/143\u001b[0m \u001b[32m━━━━━━━━━━━━━━━━━━━━\u001b[0m\u001b[37m\u001b[0m \u001b[1m0s\u001b[0m 1ms/step - loss: 0.0362 - mae: 0.1460 - val_loss: 0.0329 - val_mae: 0.1381\n",
      "Epoch 49/100\n",
      "\u001b[1m143/143\u001b[0m \u001b[32m━━━━━━━━━━━━━━━━━━━━\u001b[0m\u001b[37m\u001b[0m \u001b[1m0s\u001b[0m 2ms/step - loss: 0.0349 - mae: 0.1424 - val_loss: 0.0329 - val_mae: 0.1371\n",
      "Epoch 50/100\n",
      "\u001b[1m143/143\u001b[0m \u001b[32m━━━━━━━━━━━━━━━━━━━━\u001b[0m\u001b[37m\u001b[0m \u001b[1m0s\u001b[0m 1ms/step - loss: 0.0343 - mae: 0.1427 - val_loss: 0.0329 - val_mae: 0.1385\n",
      "Epoch 51/100\n",
      "\u001b[1m143/143\u001b[0m \u001b[32m━━━━━━━━━━━━━━━━━━━━\u001b[0m\u001b[37m\u001b[0m \u001b[1m0s\u001b[0m 1ms/step - loss: 0.0356 - mae: 0.1438 - val_loss: 0.0332 - val_mae: 0.1404\n",
      "Epoch 52/100\n",
      "\u001b[1m143/143\u001b[0m \u001b[32m━━━━━━━━━━━━━━━━━━━━\u001b[0m\u001b[37m\u001b[0m \u001b[1m0s\u001b[0m 2ms/step - loss: 0.0349 - mae: 0.1427 - val_loss: 0.0327 - val_mae: 0.1369\n",
      "Epoch 53/100\n",
      "\u001b[1m143/143\u001b[0m \u001b[32m━━━━━━━━━━━━━━━━━━━━\u001b[0m\u001b[37m\u001b[0m \u001b[1m0s\u001b[0m 2ms/step - loss: 0.0357 - mae: 0.1435 - val_loss: 0.0338 - val_mae: 0.1377\n",
      "Epoch 54/100\n",
      "\u001b[1m143/143\u001b[0m \u001b[32m━━━━━━━━━━━━━━━━━━━━\u001b[0m\u001b[37m\u001b[0m \u001b[1m0s\u001b[0m 1ms/step - loss: 0.0360 - mae: 0.1446 - val_loss: 0.0324 - val_mae: 0.1376\n",
      "Epoch 55/100\n",
      "\u001b[1m143/143\u001b[0m \u001b[32m━━━━━━━━━━━━━━━━━━━━\u001b[0m\u001b[37m\u001b[0m \u001b[1m0s\u001b[0m 1ms/step - loss: 0.0344 - mae: 0.1422 - val_loss: 0.0330 - val_mae: 0.1371\n",
      "Epoch 56/100\n",
      "\u001b[1m143/143\u001b[0m \u001b[32m━━━━━━━━━━━━━━━━━━━━\u001b[0m\u001b[37m\u001b[0m \u001b[1m0s\u001b[0m 2ms/step - loss: 0.0349 - mae: 0.1427 - val_loss: 0.0325 - val_mae: 0.1371\n",
      "Epoch 57/100\n",
      "\u001b[1m143/143\u001b[0m \u001b[32m━━━━━━━━━━━━━━━━━━━━\u001b[0m\u001b[37m\u001b[0m \u001b[1m0s\u001b[0m 2ms/step - loss: 0.0343 - mae: 0.1419 - val_loss: 0.0328 - val_mae: 0.1380\n",
      "Epoch 58/100\n",
      "\u001b[1m143/143\u001b[0m \u001b[32m━━━━━━━━━━━━━━━━━━━━\u001b[0m\u001b[37m\u001b[0m \u001b[1m0s\u001b[0m 2ms/step - loss: 0.0342 - mae: 0.1408 - val_loss: 0.0327 - val_mae: 0.1375\n",
      "Epoch 59/100\n",
      "\u001b[1m143/143\u001b[0m \u001b[32m━━━━━━━━━━━━━━━━━━━━\u001b[0m\u001b[37m\u001b[0m \u001b[1m0s\u001b[0m 1ms/step - loss: 0.0343 - mae: 0.1418 - val_loss: 0.0325 - val_mae: 0.1382\n",
      "Epoch 60/100\n",
      "\u001b[1m143/143\u001b[0m \u001b[32m━━━━━━━━━━━━━━━━━━━━\u001b[0m\u001b[37m\u001b[0m \u001b[1m0s\u001b[0m 2ms/step - loss: 0.0347 - mae: 0.1423 - val_loss: 0.0322 - val_mae: 0.1372\n",
      "Epoch 61/100\n",
      "\u001b[1m143/143\u001b[0m \u001b[32m━━━━━━━━━━━━━━━━━━━━\u001b[0m\u001b[37m\u001b[0m \u001b[1m0s\u001b[0m 2ms/step - loss: 0.0359 - mae: 0.1459 - val_loss: 0.0325 - val_mae: 0.1370\n",
      "Epoch 62/100\n",
      "\u001b[1m143/143\u001b[0m \u001b[32m━━━━━━━━━━━━━━━━━━━━\u001b[0m\u001b[37m\u001b[0m \u001b[1m0s\u001b[0m 2ms/step - loss: 0.0345 - mae: 0.1427 - val_loss: 0.0325 - val_mae: 0.1372\n",
      "Epoch 63/100\n",
      "\u001b[1m143/143\u001b[0m \u001b[32m━━━━━━━━━━━━━━━━━━━━\u001b[0m\u001b[37m\u001b[0m \u001b[1m0s\u001b[0m 2ms/step - loss: 0.0354 - mae: 0.1440 - val_loss: 0.0327 - val_mae: 0.1373\n",
      "Epoch 64/100\n",
      "\u001b[1m143/143\u001b[0m \u001b[32m━━━━━━━━━━━━━━━━━━━━\u001b[0m\u001b[37m\u001b[0m \u001b[1m0s\u001b[0m 2ms/step - loss: 0.0350 - mae: 0.1437 - val_loss: 0.0330 - val_mae: 0.1398\n",
      "Epoch 65/100\n",
      "\u001b[1m143/143\u001b[0m \u001b[32m━━━━━━━━━━━━━━━━━━━━\u001b[0m\u001b[37m\u001b[0m \u001b[1m0s\u001b[0m 1ms/step - loss: 0.0343 - mae: 0.1414 - val_loss: 0.0322 - val_mae: 0.1374\n",
      "Epoch 66/100\n",
      "\u001b[1m143/143\u001b[0m \u001b[32m━━━━━━━━━━━━━━━━━━━━\u001b[0m\u001b[37m\u001b[0m \u001b[1m0s\u001b[0m 2ms/step - loss: 0.0338 - mae: 0.1398 - val_loss: 0.0324 - val_mae: 0.1379\n",
      "Epoch 67/100\n",
      "\u001b[1m143/143\u001b[0m \u001b[32m━━━━━━━━━━━━━━━━━━━━\u001b[0m\u001b[37m\u001b[0m \u001b[1m0s\u001b[0m 1ms/step - loss: 0.0345 - mae: 0.1417 - val_loss: 0.0323 - val_mae: 0.1391\n",
      "Epoch 68/100\n",
      "\u001b[1m143/143\u001b[0m \u001b[32m━━━━━━━━━━━━━━━━━━━━\u001b[0m\u001b[37m\u001b[0m \u001b[1m0s\u001b[0m 2ms/step - loss: 0.0344 - mae: 0.1423 - val_loss: 0.0324 - val_mae: 0.1375\n",
      "Epoch 69/100\n",
      "\u001b[1m143/143\u001b[0m \u001b[32m━━━━━━━━━━━━━━━━━━━━\u001b[0m\u001b[37m\u001b[0m \u001b[1m0s\u001b[0m 1ms/step - loss: 0.0350 - mae: 0.1434 - val_loss: 0.0321 - val_mae: 0.1367\n",
      "Epoch 70/100\n",
      "\u001b[1m143/143\u001b[0m \u001b[32m━━━━━━━━━━━━━━━━━━━━\u001b[0m\u001b[37m\u001b[0m \u001b[1m0s\u001b[0m 1ms/step - loss: 0.0346 - mae: 0.1424 - val_loss: 0.0321 - val_mae: 0.1360\n",
      "Epoch 71/100\n",
      "\u001b[1m143/143\u001b[0m \u001b[32m━━━━━━━━━━━━━━━━━━━━\u001b[0m\u001b[37m\u001b[0m \u001b[1m0s\u001b[0m 2ms/step - loss: 0.0338 - mae: 0.1418 - val_loss: 0.0324 - val_mae: 0.1363\n",
      "Epoch 72/100\n",
      "\u001b[1m143/143\u001b[0m \u001b[32m━━━━━━━━━━━━━━━━━━━━\u001b[0m\u001b[37m\u001b[0m \u001b[1m0s\u001b[0m 2ms/step - loss: 0.0336 - mae: 0.1401 - val_loss: 0.0321 - val_mae: 0.1356\n",
      "Epoch 73/100\n",
      "\u001b[1m143/143\u001b[0m \u001b[32m━━━━━━━━━━━━━━━━━━━━\u001b[0m\u001b[37m\u001b[0m \u001b[1m0s\u001b[0m 1ms/step - loss: 0.0332 - mae: 0.1400 - val_loss: 0.0326 - val_mae: 0.1384\n",
      "Epoch 74/100\n",
      "\u001b[1m143/143\u001b[0m \u001b[32m━━━━━━━━━━━━━━━━━━━━\u001b[0m\u001b[37m\u001b[0m \u001b[1m0s\u001b[0m 2ms/step - loss: 0.0342 - mae: 0.1425 - val_loss: 0.0326 - val_mae: 0.1363\n",
      "Epoch 75/100\n",
      "\u001b[1m143/143\u001b[0m \u001b[32m━━━━━━━━━━━━━━━━━━━━\u001b[0m\u001b[37m\u001b[0m \u001b[1m0s\u001b[0m 1ms/step - loss: 0.0344 - mae: 0.1422 - val_loss: 0.0323 - val_mae: 0.1362\n",
      "Epoch 76/100\n",
      "\u001b[1m143/143\u001b[0m \u001b[32m━━━━━━━━━━━━━━━━━━━━\u001b[0m\u001b[37m\u001b[0m \u001b[1m0s\u001b[0m 2ms/step - loss: 0.0342 - mae: 0.1404 - val_loss: 0.0322 - val_mae: 0.1380\n",
      "Epoch 77/100\n",
      "\u001b[1m143/143\u001b[0m \u001b[32m━━━━━━━━━━━━━━━━━━━━\u001b[0m\u001b[37m\u001b[0m \u001b[1m0s\u001b[0m 2ms/step - loss: 0.0345 - mae: 0.1436 - val_loss: 0.0318 - val_mae: 0.1362\n",
      "Epoch 78/100\n",
      "\u001b[1m143/143\u001b[0m \u001b[32m━━━━━━━━━━━━━━━━━━━━\u001b[0m\u001b[37m\u001b[0m \u001b[1m0s\u001b[0m 1ms/step - loss: 0.0347 - mae: 0.1429 - val_loss: 0.0330 - val_mae: 0.1377\n",
      "Epoch 79/100\n",
      "\u001b[1m143/143\u001b[0m \u001b[32m━━━━━━━━━━━━━━━━━━━━\u001b[0m\u001b[37m\u001b[0m \u001b[1m0s\u001b[0m 2ms/step - loss: 0.0329 - mae: 0.1392 - val_loss: 0.0329 - val_mae: 0.1400\n",
      "Epoch 80/100\n",
      "\u001b[1m143/143\u001b[0m \u001b[32m━━━━━━━━━━━━━━━━━━━━\u001b[0m\u001b[37m\u001b[0m \u001b[1m0s\u001b[0m 2ms/step - loss: 0.0347 - mae: 0.1442 - val_loss: 0.0319 - val_mae: 0.1368\n",
      "Epoch 81/100\n",
      "\u001b[1m143/143\u001b[0m \u001b[32m━━━━━━━━━━━━━━━━━━━━\u001b[0m\u001b[37m\u001b[0m \u001b[1m0s\u001b[0m 2ms/step - loss: 0.0343 - mae: 0.1417 - val_loss: 0.0318 - val_mae: 0.1361\n",
      "Epoch 82/100\n",
      "\u001b[1m143/143\u001b[0m \u001b[32m━━━━━━━━━━━━━━━━━━━━\u001b[0m\u001b[37m\u001b[0m \u001b[1m0s\u001b[0m 2ms/step - loss: 0.0334 - mae: 0.1409 - val_loss: 0.0319 - val_mae: 0.1361\n",
      "Epoch 83/100\n",
      "\u001b[1m143/143\u001b[0m \u001b[32m━━━━━━━━━━━━━━━━━━━━\u001b[0m\u001b[37m\u001b[0m \u001b[1m0s\u001b[0m 2ms/step - loss: 0.0337 - mae: 0.1402 - val_loss: 0.0319 - val_mae: 0.1360\n",
      "Epoch 84/100\n",
      "\u001b[1m143/143\u001b[0m \u001b[32m━━━━━━━━━━━━━━━━━━━━\u001b[0m\u001b[37m\u001b[0m \u001b[1m0s\u001b[0m 1ms/step - loss: 0.0342 - mae: 0.1420 - val_loss: 0.0318 - val_mae: 0.1362\n",
      "Epoch 85/100\n",
      "\u001b[1m143/143\u001b[0m \u001b[32m━━━━━━━━━━━━━━━━━━━━\u001b[0m\u001b[37m\u001b[0m \u001b[1m0s\u001b[0m 1ms/step - loss: 0.0332 - mae: 0.1391 - val_loss: 0.0320 - val_mae: 0.1361\n",
      "Epoch 86/100\n",
      "\u001b[1m143/143\u001b[0m \u001b[32m━━━━━━━━━━━━━━━━━━━━\u001b[0m\u001b[37m\u001b[0m \u001b[1m0s\u001b[0m 1ms/step - loss: 0.0339 - mae: 0.1425 - val_loss: 0.0318 - val_mae: 0.1358\n",
      "Epoch 87/100\n",
      "\u001b[1m143/143\u001b[0m \u001b[32m━━━━━━━━━━━━━━━━━━━━\u001b[0m\u001b[37m\u001b[0m \u001b[1m0s\u001b[0m 2ms/step - loss: 0.0350 - mae: 0.1435 - val_loss: 0.0319 - val_mae: 0.1375\n",
      "Epoch 88/100\n",
      "\u001b[1m143/143\u001b[0m \u001b[32m━━━━━━━━━━━━━━━━━━━━\u001b[0m\u001b[37m\u001b[0m \u001b[1m0s\u001b[0m 1ms/step - loss: 0.0337 - mae: 0.1417 - val_loss: 0.0317 - val_mae: 0.1359\n",
      "Epoch 89/100\n",
      "\u001b[1m143/143\u001b[0m \u001b[32m━━━━━━━━━━━━━━━━━━━━\u001b[0m\u001b[37m\u001b[0m \u001b[1m0s\u001b[0m 2ms/step - loss: 0.0332 - mae: 0.1387 - val_loss: 0.0319 - val_mae: 0.1372\n",
      "Epoch 90/100\n",
      "\u001b[1m143/143\u001b[0m \u001b[32m━━━━━━━━━━━━━━━━━━━━\u001b[0m\u001b[37m\u001b[0m \u001b[1m0s\u001b[0m 2ms/step - loss: 0.0343 - mae: 0.1427 - val_loss: 0.0319 - val_mae: 0.1361\n",
      "Epoch 91/100\n",
      "\u001b[1m143/143\u001b[0m \u001b[32m━━━━━━━━━━━━━━━━━━━━\u001b[0m\u001b[37m\u001b[0m \u001b[1m0s\u001b[0m 1ms/step - loss: 0.0337 - mae: 0.1409 - val_loss: 0.0325 - val_mae: 0.1382\n",
      "Epoch 92/100\n",
      "\u001b[1m143/143\u001b[0m \u001b[32m━━━━━━━━━━━━━━━━━━━━\u001b[0m\u001b[37m\u001b[0m \u001b[1m0s\u001b[0m 1ms/step - loss: 0.0352 - mae: 0.1446 - val_loss: 0.0318 - val_mae: 0.1349\n",
      "Epoch 93/100\n",
      "\u001b[1m143/143\u001b[0m \u001b[32m━━━━━━━━━━━━━━━━━━━━\u001b[0m\u001b[37m\u001b[0m \u001b[1m0s\u001b[0m 2ms/step - loss: 0.0336 - mae: 0.1409 - val_loss: 0.0313 - val_mae: 0.1365\n",
      "Epoch 94/100\n",
      "\u001b[1m143/143\u001b[0m \u001b[32m━━━━━━━━━━━━━━━━━━━━\u001b[0m\u001b[37m\u001b[0m \u001b[1m0s\u001b[0m 2ms/step - loss: 0.0345 - mae: 0.1439 - val_loss: 0.0325 - val_mae: 0.1362\n",
      "Epoch 95/100\n",
      "\u001b[1m143/143\u001b[0m \u001b[32m━━━━━━━━━━━━━━━━━━━━\u001b[0m\u001b[37m\u001b[0m \u001b[1m0s\u001b[0m 1ms/step - loss: 0.0351 - mae: 0.1430 - val_loss: 0.0318 - val_mae: 0.1360\n",
      "Epoch 96/100\n",
      "\u001b[1m143/143\u001b[0m \u001b[32m━━━━━━━━━━━━━━━━━━━━\u001b[0m\u001b[37m\u001b[0m \u001b[1m0s\u001b[0m 2ms/step - loss: 0.0335 - mae: 0.1413 - val_loss: 0.0318 - val_mae: 0.1367\n",
      "Epoch 97/100\n",
      "\u001b[1m143/143\u001b[0m \u001b[32m━━━━━━━━━━━━━━━━━━━━\u001b[0m\u001b[37m\u001b[0m \u001b[1m0s\u001b[0m 1ms/step - loss: 0.0332 - mae: 0.1393 - val_loss: 0.0320 - val_mae: 0.1360\n",
      "Epoch 98/100\n",
      "\u001b[1m143/143\u001b[0m \u001b[32m━━━━━━━━━━━━━━━━━━━━\u001b[0m\u001b[37m\u001b[0m \u001b[1m0s\u001b[0m 2ms/step - loss: 0.0336 - mae: 0.1403 - val_loss: 0.0314 - val_mae: 0.1353\n",
      "Epoch 99/100\n",
      "\u001b[1m143/143\u001b[0m \u001b[32m━━━━━━━━━━━━━━━━━━━━\u001b[0m\u001b[37m\u001b[0m \u001b[1m0s\u001b[0m 2ms/step - loss: 0.0339 - mae: 0.1417 - val_loss: 0.0327 - val_mae: 0.1363\n",
      "Epoch 100/100\n",
      "\u001b[1m143/143\u001b[0m \u001b[32m━━━━━━━━━━━━━━━━━━━━\u001b[0m\u001b[37m\u001b[0m \u001b[1m0s\u001b[0m 2ms/step - loss: 0.0336 - mae: 0.1405 - val_loss: 0.0324 - val_mae: 0.1386\n",
      "\u001b[1m36/36\u001b[0m \u001b[32m━━━━━━━━━━━━━━━━━━━━\u001b[0m\u001b[37m\u001b[0m \u001b[1m0s\u001b[0m 2ms/step\n"
     ]
    },
    {
     "data": {
      "image/png": "[encoded data removed]",
      "text/plain": [
       "<Figure size 640x480 with 1 Axes>"
      ]
     },
     "metadata": {},
     "output_type": "display_data"
    },
    {
     "data": {
      "image/png": "[encoded data removed]",
      "text/plain": [
       "<Figure size 640x480 with 1 Axes>"
      ]
     },
     "metadata": {},
     "output_type": "display_data"
    },
    {
     "name": "stdout",
     "output_type": "stream",
     "text": [
      "\u001b[1m36/36\u001b[0m \u001b[32m━━━━━━━━━━━━━━━━━━━━\u001b[0m\u001b[37m\u001b[0m \u001b[1m0s\u001b[0m 1ms/step - loss: 0.0330 - mae: 0.1372 \n",
      "MSE:  0.0324028879404068\n",
      "MAE: 0.138647198677063\n"
     ]
    },
    {
     "data": {
      "application/vnd.microsoft.datawrangler.viewer.v0+json": {
       "columns": [
        {
         "name": "SongID",
         "rawType": "object",
         "type": "string"
        },
        {
         "name": "Original Test",
         "rawType": "float64",
         "type": "float"
        },
        {
         "name": "Prediction Test",
         "rawType": "float32",
         "type": "float"
        },
        {
         "name": "Original over Thrashold",
         "rawType": "bool",
         "type": "boolean"
        },
        {
         "name": "Predicted over Thrashold",
         "rawType": "bool",
         "type": "boolean"
        }
       ],
       "conversionMethod": "pd.DataFrame",
       "ref": "97c8f561-bc88-443a-abb3-5342937add53",
       "rows": [
        [
         "Nice 'N' NaastyThe Salsoul Orchestra",
         "0.883",
         "0.7473792",
         "True",
         "True"
        ],
        [
         "ShiffteeOnyx",
         "0.253",
         "0.6615238",
         "False",
         "False"
        ],
        [
         "Since I Made You CryThe Rivieras",
         "0.569",
         "0.50590587",
         "False",
         "False"
        ],
        [
         "TonightNew Kids On The Block",
         "0.383",
         "0.38912708",
         "False",
         "False"
        ],
        [
         "Never Comes The DayThe Moody Blues",
         "0.18",
         "0.33485773",
         "False",
         "False"
        ],
        [
         "Gotta Get You Home TonightEugene Wilde",
         "0.5749999999999998",
         "0.513493",
         "False",
         "False"
        ],
        [
         "Girl On FireAlicia Keys Featuring Nicki Minaj",
         "0.1439999999999999",
         "0.4070567",
         "False",
         "False"
        ],
        [
         "I'm Gonna Miss YouKenny Loggins",
         "0.8549999999999999",
         "0.7449562",
         "True",
         "True"
        ],
        [
         "What About Your FriendsTLC",
         "0.626",
         "0.74396884",
         "False",
         "True"
        ],
        [
         "High On EmotionChris de Burgh",
         "0.5869999999999999",
         "0.6084677",
         "False",
         "False"
        ],
        [
         "It's Gonna Take A MiracleDeniece Williams",
         "0.665",
         "0.56085324",
         "False",
         "False"
        ],
        [
         "Say Wonderful ThingsPatti Page",
         "0.4259999999999999",
         "0.48915568",
         "False",
         "False"
        ],
        [
         "I'm RealKris Kross",
         "0.801",
         "0.7224951",
         "True",
         "True"
        ],
        [
         "I'm Going DownRose Royce",
         "0.319",
         "0.40060928",
         "False",
         "False"
        ],
        [
         "Pimpin' All Over The WorldLudacris Featuring Bobby Valentino",
         "0.779",
         "0.5452714",
         "True",
         "False"
        ],
        [
         "Don't You Know What Love IsTouch",
         "0.4889999999999999",
         "0.48473838",
         "False",
         "False"
        ],
        [
         "If You GoJon Secada",
         "0.522",
         "0.69747245",
         "False",
         "False"
        ],
        [
         "BurnMobb Deep Featuring Vita & Noyd",
         "0.808",
         "0.5531559",
         "True",
         "False"
        ],
        [
         "Rhapsody In WhiteLove Unlimited Orchestra",
         "0.77",
         "0.6909398",
         "True",
         "False"
        ],
        [
         "Sexual HealingMarvin Gaye",
         "0.746",
         "0.7408714",
         "True",
         "True"
        ],
        [
         "Chicken Noodle Soupj-hope Featuring Becky G.",
         "0.168",
         "0.6887769",
         "False",
         "False"
        ],
        [
         "Get LowZedd & Liam Payne",
         "0.54",
         "0.7197076",
         "False",
         "True"
        ],
        [
         "Johnny Loves MeShelley Fabares",
         "0.4169999999999999",
         "0.382216",
         "False",
         "False"
        ],
        [
         "I Adore Mi AmorColor Me Badd",
         "0.7249999999999999",
         "0.5060635",
         "True",
         "False"
        ],
        [
         "Let's Get RockedDef Leppard",
         "0.526",
         "0.6237087",
         "False",
         "False"
        ],
        [
         "I Love YouOtis Leavill",
         "0.669",
         "0.55198073",
         "False",
         "False"
        ],
        [
         "AsStevie Wonder",
         "0.684",
         "0.50946134",
         "False",
         "False"
        ],
        [
         "Do You Wanna Make LovePeter Mccann",
         "0.542",
         "0.56703913",
         "False",
         "False"
        ],
        [
         "SolteraLunay, Daddy Yankee & Bad Bunny",
         "0.8",
         "0.671058",
         "True",
         "False"
        ],
        [
         "Take A HandRick Springfield",
         "0.797",
         "0.5904048",
         "True",
         "False"
        ],
        [
         "WaterBrad Paisley",
         "0.694",
         "0.55468255",
         "False",
         "False"
        ],
        [
         "Be My LadyJefferson Starship",
         "0.62",
         "0.5845357",
         "False",
         "False"
        ],
        [
         "I Don't Need A ManThe Pussycat Dolls",
         "0.757",
         "0.75493354",
         "True",
         "True"
        ],
        [
         "Nothing 'Bout MeSting",
         "0.2049999999999999",
         "0.71827054",
         "False",
         "True"
        ],
        [
         "A Million To OneFive Stairsteps & Cubie",
         "0.328",
         "0.33406386",
         "False",
         "False"
        ],
        [
         "A Boy Without A GirlFrankie Avalon",
         "0.3609999999999999",
         "0.4079845",
         "False",
         "False"
        ],
        [
         "Whatever It Takes (To Make You Stay)Troop",
         "0.8429999999999999",
         "0.5756057",
         "True",
         "False"
        ],
        [
         "What Now My LoveHerb Alpert & The Tijuana Brass",
         "0.497",
         "0.52037513",
         "False",
         "False"
        ],
        [
         "Ballin' Out Of ControlJermaine Dupri Featuring Nate Dogg",
         "0.8329999999999999",
         "0.6529665",
         "True",
         "False"
        ],
        [
         "RomeoDino",
         "0.897",
         "0.7210115",
         "True",
         "True"
        ],
        [
         "These Are Days10,000 Maniacs",
         "0.872",
         "0.7021189",
         "True",
         "True"
        ],
        [
         "InformerSnow",
         "0.4829999999999999",
         "0.67147297",
         "False",
         "False"
        ],
        [
         "BluebirdHelen Reddy",
         "0.748",
         "0.667009",
         "True",
         "False"
        ],
        [
         "Dub Be Good To MeBeats International",
         "0.695",
         "0.7488948",
         "False",
         "True"
        ],
        [
         "Miss Me MoreKelsea Ballerini",
         "0.4909999999999999",
         "0.60722005",
         "False",
         "False"
        ],
        [
         "Hot ThingPrince",
         "0.673",
         "0.65688324",
         "False",
         "False"
        ],
        [
         "Want U BackCher Lloyd",
         "0.563",
         "0.64817435",
         "False",
         "False"
        ],
        [
         "Keep It In The FamilyLeon Haywood",
         "0.801",
         "0.7166648",
         "True",
         "True"
        ],
        [
         "My Forbidden LoverChic",
         "0.807",
         "0.7853896",
         "True",
         "True"
        ],
        [
         "Funny The Way It IsDave Matthews Band",
         "0.747",
         "0.63571525",
         "True",
         "False"
        ]
       ],
       "shape": {
        "columns": 4,
        "rows": 1138
       }
      },
      "text/html": [
       "<div>\n",
       "<style scoped>\n",
       "    .dataframe tbody tr th:only-of-type {\n",
       "        vertical-align: middle;\n",
       "    }\n",
       "\n",
       "    .dataframe tbody tr th {\n",
       "        vertical-align: top;\n",
       "    }\n",
       "\n",
       "    .dataframe thead th {\n",
       "        text-align: right;\n",
       "    }\n",
       "</style>\n",
       "<table border=\"1\" class=\"dataframe\">\n",
       "  <thead>\n",
       "    <tr style=\"text-align: right;\">\n",
       "      <th></th>\n",
       "      <th>Original Test</th>\n",
       "      <th>Prediction Test</th>\n",
       "      <th>Original over Thrashold</th>\n",
       "      <th>Predicted over Thrashold</th>\n",
       "    </tr>\n",
       "    <tr>\n",
       "      <th>SongID</th>\n",
       "      <th></th>\n",
       "      <th></th>\n",
       "      <th></th>\n",
       "      <th></th>\n",
       "    </tr>\n",
       "  </thead>\n",
       "  <tbody>\n",
       "    <tr>\n",
       "      <th>Nice 'N' NaastyThe Salsoul Orchestra</th>\n",
       "      <td>0.883</td>\n",
       "      <td>0.747379</td>\n",
       "      <td>True</td>\n",
       "      <td>True</td>\n",
       "    </tr>\n",
       "    <tr>\n",
       "      <th>ShiffteeOnyx</th>\n",
       "      <td>0.253</td>\n",
       "      <td>0.661524</td>\n",
       "      <td>False</td>\n",
       "      <td>False</td>\n",
       "    </tr>\n",
       "    <tr>\n",
       "      <th>Since I Made You CryThe Rivieras</th>\n",
       "      <td>0.569</td>\n",
       "      <td>0.505906</td>\n",
       "      <td>False</td>\n",
       "      <td>False</td>\n",
       "    </tr>\n",
       "    <tr>\n",
       "      <th>TonightNew Kids On The Block</th>\n",
       "      <td>0.383</td>\n",
       "      <td>0.389127</td>\n",
       "      <td>False</td>\n",
       "      <td>False</td>\n",
       "    </tr>\n",
       "    <tr>\n",
       "      <th>Never Comes The DayThe Moody Blues</th>\n",
       "      <td>0.180</td>\n",
       "      <td>0.334858</td>\n",
       "      <td>False</td>\n",
       "      <td>False</td>\n",
       "    </tr>\n",
       "    <tr>\n",
       "      <th>...</th>\n",
       "      <td>...</td>\n",
       "      <td>...</td>\n",
       "      <td>...</td>\n",
       "      <td>...</td>\n",
       "    </tr>\n",
       "    <tr>\n",
       "      <th>What Am I Living ForChuck Willis</th>\n",
       "      <td>0.682</td>\n",
       "      <td>0.613396</td>\n",
       "      <td>False</td>\n",
       "      <td>False</td>\n",
       "    </tr>\n",
       "    <tr>\n",
       "      <th>All Summer LongHit Masters</th>\n",
       "      <td>0.863</td>\n",
       "      <td>0.652743</td>\n",
       "      <td>True</td>\n",
       "      <td>False</td>\n",
       "    </tr>\n",
       "    <tr>\n",
       "      <th>Hey Daddy (Daddy's Home)Usher Featuring Plies</th>\n",
       "      <td>0.352</td>\n",
       "      <td>0.473415</td>\n",
       "      <td>False</td>\n",
       "      <td>False</td>\n",
       "    </tr>\n",
       "    <tr>\n",
       "      <th>Don't Tell MeMadonna</th>\n",
       "      <td>0.679</td>\n",
       "      <td>0.579697</td>\n",
       "      <td>False</td>\n",
       "      <td>False</td>\n",
       "    </tr>\n",
       "    <tr>\n",
       "      <th>Breaking The HabitLinkin Park</th>\n",
       "      <td>0.581</td>\n",
       "      <td>0.591919</td>\n",
       "      <td>False</td>\n",
       "      <td>False</td>\n",
       "    </tr>\n",
       "  </tbody>\n",
       "</table>\n",
       "<p>1138 rows × 4 columns</p>\n",
       "</div>"
      ],
      "text/plain": [
       "                                               Original Test  Prediction Test  \\\n",
       "SongID                                                                          \n",
       "Nice 'N' NaastyThe Salsoul Orchestra                   0.883         0.747379   \n",
       "ShiffteeOnyx                                           0.253         0.661524   \n",
       "Since I Made You CryThe Rivieras                       0.569         0.505906   \n",
       "TonightNew Kids On The Block                           0.383         0.389127   \n",
       "Never Comes The DayThe Moody Blues                     0.180         0.334858   \n",
       "...                                                      ...              ...   \n",
       "What Am I Living ForChuck Willis                       0.682         0.613396   \n",
       "All Summer LongHit Masters                             0.863         0.652743   \n",
       "Hey Daddy (Daddy's Home)Usher Featuring Plies          0.352         0.473415   \n",
       "Don't Tell MeMadonna                                   0.679         0.579697   \n",
       "Breaking The HabitLinkin Park                          0.581         0.591919   \n",
       "\n",
       "                                               Original over Thrashold  \\\n",
       "SongID                                                                   \n",
       "Nice 'N' NaastyThe Salsoul Orchestra                              True   \n",
       "ShiffteeOnyx                                                     False   \n",
       "Since I Made You CryThe Rivieras                                 False   \n",
       "TonightNew Kids On The Block                                     False   \n",
       "Never Comes The DayThe Moody Blues                               False   \n",
       "...                                                                ...   \n",
       "What Am I Living ForChuck Willis                                 False   \n",
       "All Summer LongHit Masters                                        True   \n",
       "Hey Daddy (Daddy's Home)Usher Featuring Plies                    False   \n",
       "Don't Tell MeMadonna                                             False   \n",
       "Breaking The HabitLinkin Park                                    False   \n",
       "\n",
       "                                               Predicted over Thrashold  \n",
       "SongID                                                                   \n",
       "Nice 'N' NaastyThe Salsoul Orchestra                               True  \n",
       "ShiffteeOnyx                                                      False  \n",
       "Since I Made You CryThe Rivieras                                  False  \n",
       "TonightNew Kids On The Block                                      False  \n",
       "Never Comes The DayThe Moody Blues                                False  \n",
       "...                                                                 ...  \n",
       "What Am I Living ForChuck Willis                                  False  \n",
       "All Summer LongHit Masters                                        False  \n",
       "Hey Daddy (Daddy's Home)Usher Featuring Plies                     False  \n",
       "Don't Tell MeMadonna                                              False  \n",
       "Breaking The HabitLinkin Park                                     False  \n",
       "\n",
       "[1138 rows x 4 columns]"
      ]
     },
     "metadata": {},
     "output_type": "display_data"
    },
    {
     "data": {
      "image/png": "[encoded data removed]",
      "text/plain": [
       "<Figure size 640x480 with 2 Axes>"
      ]
     },
     "metadata": {},
     "output_type": "display_data"
    },
    {
     "data": {
      "application/vnd.microsoft.datawrangler.viewer.v0+json": {
       "columns": [
        {
         "name": "index",
         "rawType": "int64",
         "type": "integer"
        },
        {
         "name": "Metric",
         "rawType": "object",
         "type": "string"
        },
        {
         "name": "Value",
         "rawType": "float64",
         "type": "float"
        }
       ],
       "conversionMethod": "pd.DataFrame",
       "ref": "1b080d0f-4e6f-46dc-8f3f-9c75d6aaa781",
       "rows": [
        [
         "0",
         "Accuracy",
         "0.73"
        ],
        [
         "1",
         "Precision",
         "0.75"
        ],
        [
         "2",
         "Recall",
         "0.49"
        ],
        [
         "3",
         "F1-score",
         "0.59"
        ]
       ],
       "shape": {
        "columns": 2,
        "rows": 4
       }
      },
      "text/html": [
       "<div>\n",
       "<style scoped>\n",
       "    .dataframe tbody tr th:only-of-type {\n",
       "        vertical-align: middle;\n",
       "    }\n",
       "\n",
       "    .dataframe tbody tr th {\n",
       "        vertical-align: top;\n",
       "    }\n",
       "\n",
       "    .dataframe thead th {\n",
       "        text-align: right;\n",
       "    }\n",
       "</style>\n",
       "<table border=\"1\" class=\"dataframe\">\n",
       "  <thead>\n",
       "    <tr style=\"text-align: right;\">\n",
       "      <th></th>\n",
       "      <th>Metric</th>\n",
       "      <th>Value</th>\n",
       "    </tr>\n",
       "  </thead>\n",
       "  <tbody>\n",
       "    <tr>\n",
       "      <th>0</th>\n",
       "      <td>Accuracy</td>\n",
       "      <td>0.73</td>\n",
       "    </tr>\n",
       "    <tr>\n",
       "      <th>1</th>\n",
       "      <td>Precision</td>\n",
       "      <td>0.75</td>\n",
       "    </tr>\n",
       "    <tr>\n",
       "      <th>2</th>\n",
       "      <td>Recall</td>\n",
       "      <td>0.49</td>\n",
       "    </tr>\n",
       "    <tr>\n",
       "      <th>3</th>\n",
       "      <td>F1-score</td>\n",
       "      <td>0.59</td>\n",
       "    </tr>\n",
       "  </tbody>\n",
       "</table>\n",
       "</div>"
      ],
      "text/plain": [
       "      Metric  Value\n",
       "0   Accuracy   0.73\n",
       "1  Precision   0.75\n",
       "2     Recall   0.49\n",
       "3   F1-score   0.59"
      ]
     },
     "metadata": {},
     "output_type": "display_data"
    },
    {
     "name": "stdout",
     "output_type": "stream",
     "text": [
      "---------------------------------------------------------\n",
      "USER 1\n",
      "Epoch 1/100\n"
     ]
    },
    {
     "name": "stderr",
     "output_type": "stream",
     "text": [
      "C:\\Users\\lovoa\\AppData\\Local\\Temp\\ipykernel_14936\\3823668386.py:9: SettingWithCopyWarning: \n",
      "A value is trying to be set on a copy of a slice from a DataFrame.\n",
      "Try using .loc[row_indexer,col_indexer] = value instead\n",
      "\n",
      "See the caveats in the documentation: https://pandas.pydata.org/pandas-docs/stable/user_guide/indexing.html#returning-a-view-versus-a-copy\n",
      "  x[numerical_features] = scaler.fit_transform(x[numerical_features])\n",
      "c:\\Users\\lovoa\\AppData\\Local\\Programs\\Python\\Python312\\Lib\\site-packages\\keras\\src\\layers\\core\\dense.py:87: UserWarning: Do not pass an `input_shape`/`input_dim` argument to a layer. When using Sequential models, prefer using an `Input(shape)` object as the first layer in the model instead.\n",
      "  super().__init__(activity_regularizer=activity_regularizer, **kwargs)\n"
     ]
    },
    {
     "name": "stdout",
     "output_type": "stream",
     "text": [
      "\u001b[1m117/117\u001b[0m \u001b[32m━━━━━━━━━━━━━━━━━━━━\u001b[0m\u001b[37m\u001b[0m \u001b[1m1s\u001b[0m 3ms/step - loss: 0.4751 - mae: 0.2154 - val_loss: 0.2362 - val_mae: 0.1835\n",
      "Epoch 2/100\n",
      "\u001b[1m117/117\u001b[0m \u001b[32m━━━━━━━━━━━━━━━━━━━━\u001b[0m\u001b[37m\u001b[0m \u001b[1m0s\u001b[0m 2ms/step - loss: 0.1985 - mae: 0.1889 - val_loss: 0.1056 - val_mae: 0.1633\n",
      "Epoch 3/100\n",
      "\u001b[1m117/117\u001b[0m \u001b[32m━━━━━━━━━━━━━━━━━━━━\u001b[0m\u001b[37m\u001b[0m \u001b[1m0s\u001b[0m 2ms/step - loss: 0.0952 - mae: 0.1718 - val_loss: 0.0607 - val_mae: 0.1542\n",
      "Epoch 4/100\n",
      "\u001b[1m117/117\u001b[0m \u001b[32m━━━━━━━━━━━━━━━━━━━━\u001b[0m\u001b[37m\u001b[0m \u001b[1m0s\u001b[0m 2ms/step - loss: 0.0603 - mae: 0.1631 - val_loss: 0.0469 - val_mae: 0.1495\n",
      "Epoch 5/100\n",
      "\u001b[1m117/117\u001b[0m \u001b[32m━━━━━━━━━━━━━━━━━━━━\u001b[0m\u001b[37m\u001b[0m \u001b[1m0s\u001b[0m 2ms/step - loss: 0.0481 - mae: 0.1555 - val_loss: 0.0430 - val_mae: 0.1493\n",
      "Epoch 6/100\n",
      "\u001b[1m117/117\u001b[0m \u001b[32m━━━━━━━━━━━━━━━━━━━━\u001b[0m\u001b[37m\u001b[0m \u001b[1m0s\u001b[0m 2ms/step - loss: 0.0453 - mae: 0.1564 - val_loss: 0.0409 - val_mae: 0.1458\n",
      "Epoch 7/100\n",
      "\u001b[1m117/117\u001b[0m \u001b[32m━━━━━━━━━━━━━━━━━━━━\u001b[0m\u001b[37m\u001b[0m \u001b[1m0s\u001b[0m 2ms/step - loss: 0.0420 - mae: 0.1504 - val_loss: 0.0398 - val_mae: 0.1446\n",
      "Epoch 8/100\n",
      "\u001b[1m117/117\u001b[0m \u001b[32m━━━━━━━━━━━━━━━━━━━━\u001b[0m\u001b[37m\u001b[0m \u001b[1m0s\u001b[0m 1ms/step - loss: 0.0430 - mae: 0.1542 - val_loss: 0.0396 - val_mae: 0.1447\n",
      "Epoch 9/100\n",
      "\u001b[1m117/117\u001b[0m \u001b[32m━━━━━━━━━━━━━━━━━━━━\u001b[0m\u001b[37m\u001b[0m \u001b[1m0s\u001b[0m 2ms/step - loss: 0.0424 - mae: 0.1513 - val_loss: 0.0388 - val_mae: 0.1428\n",
      "Epoch 10/100\n",
      "\u001b[1m117/117\u001b[0m \u001b[32m━━━━━━━━━━━━━━━━━━━━\u001b[0m\u001b[37m\u001b[0m \u001b[1m0s\u001b[0m 2ms/step - loss: 0.0430 - mae: 0.1536 - val_loss: 0.0389 - val_mae: 0.1445\n",
      "Epoch 11/100\n",
      "\u001b[1m117/117\u001b[0m \u001b[32m━━━━━━━━━━━━━━━━━━━━\u001b[0m\u001b[37m\u001b[0m \u001b[1m0s\u001b[0m 2ms/step - loss: 0.0405 - mae: 0.1488 - val_loss: 0.0385 - val_mae: 0.1417\n",
      "Epoch 12/100\n",
      "\u001b[1m117/117\u001b[0m \u001b[32m━━━━━━━━━━━━━━━━━━━━\u001b[0m\u001b[37m\u001b[0m \u001b[1m0s\u001b[0m 2ms/step - loss: 0.0403 - mae: 0.1476 - val_loss: 0.0381 - val_mae: 0.1423\n",
      "Epoch 13/100\n",
      "\u001b[1m117/117\u001b[0m \u001b[32m━━━━━━━━━━━━━━━━━━━━\u001b[0m\u001b[37m\u001b[0m \u001b[1m0s\u001b[0m 2ms/step - loss: 0.0398 - mae: 0.1475 - val_loss: 0.0377 - val_mae: 0.1411\n",
      "Epoch 14/100\n",
      "\u001b[1m117/117\u001b[0m \u001b[32m━━━━━━━━━━━━━━━━━━━━\u001b[0m\u001b[37m\u001b[0m \u001b[1m0s\u001b[0m 2ms/step - loss: 0.0408 - mae: 0.1501 - val_loss: 0.0374 - val_mae: 0.1403\n",
      "Epoch 15/100\n",
      "\u001b[1m117/117\u001b[0m \u001b[32m━━━━━━━━━━━━━━━━━━━━\u001b[0m\u001b[37m\u001b[0m \u001b[1m0s\u001b[0m 2ms/step - loss: 0.0406 - mae: 0.1482 - val_loss: 0.0373 - val_mae: 0.1413\n",
      "Epoch 16/100\n",
      "\u001b[1m117/117\u001b[0m \u001b[32m━━━━━━━━━━━━━━━━━━━━\u001b[0m\u001b[37m\u001b[0m \u001b[1m0s\u001b[0m 2ms/step - loss: 0.0387 - mae: 0.1456 - val_loss: 0.0369 - val_mae: 0.1390\n",
      "Epoch 17/100\n",
      "\u001b[1m117/117\u001b[0m \u001b[32m━━━━━━━━━━━━━━━━━━━━\u001b[0m\u001b[37m\u001b[0m \u001b[1m0s\u001b[0m 2ms/step - loss: 0.0403 - mae: 0.1477 - val_loss: 0.0372 - val_mae: 0.1410\n",
      "Epoch 18/100\n",
      "\u001b[1m117/117\u001b[0m \u001b[32m━━━━━━━━━━━━━━━━━━━━\u001b[0m\u001b[37m\u001b[0m \u001b[1m0s\u001b[0m 2ms/step - loss: 0.0383 - mae: 0.1450 - val_loss: 0.0365 - val_mae: 0.1392\n",
      "Epoch 19/100\n",
      "\u001b[1m117/117\u001b[0m \u001b[32m━━━━━━━━━━━━━━━━━━━━\u001b[0m\u001b[37m\u001b[0m \u001b[1m0s\u001b[0m 2ms/step - loss: 0.0386 - mae: 0.1455 - val_loss: 0.0370 - val_mae: 0.1413\n",
      "Epoch 20/100\n",
      "\u001b[1m117/117\u001b[0m \u001b[32m━━━━━━━━━━━━━━━━━━━━\u001b[0m\u001b[37m\u001b[0m \u001b[1m0s\u001b[0m 2ms/step - loss: 0.0381 - mae: 0.1444 - val_loss: 0.0362 - val_mae: 0.1395\n",
      "Epoch 21/100\n",
      "\u001b[1m117/117\u001b[0m \u001b[32m━━━━━━━━━━━━━━━━━━━━\u001b[0m\u001b[37m\u001b[0m \u001b[1m0s\u001b[0m 2ms/step - loss: 0.0387 - mae: 0.1455 - val_loss: 0.0360 - val_mae: 0.1372\n",
      "Epoch 22/100\n",
      "\u001b[1m117/117\u001b[0m \u001b[32m━━━━━━━━━━━━━━━━━━━━\u001b[0m\u001b[37m\u001b[0m \u001b[1m0s\u001b[0m 2ms/step - loss: 0.0382 - mae: 0.1447 - val_loss: 0.0357 - val_mae: 0.1378\n",
      "Epoch 23/100\n",
      "\u001b[1m117/117\u001b[0m \u001b[32m━━━━━━━━━━━━━━━━━━━━\u001b[0m\u001b[37m\u001b[0m \u001b[1m0s\u001b[0m 2ms/step - loss: 0.0375 - mae: 0.1435 - val_loss: 0.0355 - val_mae: 0.1371\n",
      "Epoch 24/100\n",
      "\u001b[1m117/117\u001b[0m \u001b[32m━━━━━━━━━━━━━━━━━━━━\u001b[0m\u001b[37m\u001b[0m \u001b[1m0s\u001b[0m 1ms/step - loss: 0.0386 - mae: 0.1463 - val_loss: 0.0353 - val_mae: 0.1379\n",
      "Epoch 25/100\n",
      "\u001b[1m117/117\u001b[0m \u001b[32m━━━━━━━━━━━━━━━━━━━━\u001b[0m\u001b[37m\u001b[0m \u001b[1m0s\u001b[0m 2ms/step - loss: 0.0393 - mae: 0.1471 - val_loss: 0.0360 - val_mae: 0.1401\n",
      "Epoch 26/100\n",
      "\u001b[1m117/117\u001b[0m \u001b[32m━━━━━━━━━━━━━━━━━━━━\u001b[0m\u001b[37m\u001b[0m \u001b[1m0s\u001b[0m 2ms/step - loss: 0.0375 - mae: 0.1438 - val_loss: 0.0356 - val_mae: 0.1404\n",
      "Epoch 27/100\n",
      "\u001b[1m117/117\u001b[0m \u001b[32m━━━━━━━━━━━━━━━━━━━━\u001b[0m\u001b[37m\u001b[0m \u001b[1m0s\u001b[0m 2ms/step - loss: 0.0365 - mae: 0.1407 - val_loss: 0.0353 - val_mae: 0.1379\n",
      "Epoch 28/100\n",
      "\u001b[1m117/117\u001b[0m \u001b[32m━━━━━━━━━━━━━━━━━━━━\u001b[0m\u001b[37m\u001b[0m \u001b[1m0s\u001b[0m 2ms/step - loss: 0.0381 - mae: 0.1464 - val_loss: 0.0355 - val_mae: 0.1395\n",
      "Epoch 29/100\n",
      "\u001b[1m117/117\u001b[0m \u001b[32m━━━━━━━━━━━━━━━━━━━━\u001b[0m\u001b[37m\u001b[0m \u001b[1m0s\u001b[0m 2ms/step - loss: 0.0376 - mae: 0.1459 - val_loss: 0.0348 - val_mae: 0.1345\n",
      "Epoch 30/100\n",
      "\u001b[1m117/117\u001b[0m \u001b[32m━━━━━━━━━━━━━━━━━━━━\u001b[0m\u001b[37m\u001b[0m \u001b[1m0s\u001b[0m 2ms/step - loss: 0.0365 - mae: 0.1416 - val_loss: 0.0346 - val_mae: 0.1361\n",
      "Epoch 31/100\n",
      "\u001b[1m117/117\u001b[0m \u001b[32m━━━━━━━━━━━━━━━━━━━━\u001b[0m\u001b[37m\u001b[0m \u001b[1m0s\u001b[0m 2ms/step - loss: 0.0373 - mae: 0.1437 - val_loss: 0.0350 - val_mae: 0.1364\n",
      "Epoch 32/100\n",
      "\u001b[1m117/117\u001b[0m \u001b[32m━━━━━━━━━━━━━━━━━━━━\u001b[0m\u001b[37m\u001b[0m \u001b[1m0s\u001b[0m 2ms/step - loss: 0.0358 - mae: 0.1405 - val_loss: 0.0344 - val_mae: 0.1362\n",
      "Epoch 33/100\n",
      "\u001b[1m117/117\u001b[0m \u001b[32m━━━━━━━━━━━━━━━━━━━━\u001b[0m\u001b[37m\u001b[0m \u001b[1m0s\u001b[0m 2ms/step - loss: 0.0369 - mae: 0.1424 - val_loss: 0.0347 - val_mae: 0.1359\n",
      "Epoch 34/100\n",
      "\u001b[1m117/117\u001b[0m \u001b[32m━━━━━━━━━━━━━━━━━━━━\u001b[0m\u001b[37m\u001b[0m \u001b[1m0s\u001b[0m 2ms/step - loss: 0.0370 - mae: 0.1434 - val_loss: 0.0342 - val_mae: 0.1366\n",
      "Epoch 35/100\n",
      "\u001b[1m117/117\u001b[0m \u001b[32m━━━━━━━━━━━━━━━━━━━━\u001b[0m\u001b[37m\u001b[0m \u001b[1m0s\u001b[0m 2ms/step - loss: 0.0352 - mae: 0.1398 - val_loss: 0.0345 - val_mae: 0.1365\n",
      "Epoch 36/100\n",
      "\u001b[1m117/117\u001b[0m \u001b[32m━━━━━━━━━━━━━━━━━━━━\u001b[0m\u001b[37m\u001b[0m \u001b[1m0s\u001b[0m 2ms/step - loss: 0.0366 - mae: 0.1438 - val_loss: 0.0344 - val_mae: 0.1383\n",
      "Epoch 37/100\n",
      "\u001b[1m117/117\u001b[0m \u001b[32m━━━━━━━━━━━━━━━━━━━━\u001b[0m\u001b[37m\u001b[0m \u001b[1m0s\u001b[0m 2ms/step - loss: 0.0368 - mae: 0.1439 - val_loss: 0.0343 - val_mae: 0.1374\n",
      "Epoch 38/100\n",
      "\u001b[1m117/117\u001b[0m \u001b[32m━━━━━━━━━━━━━━━━━━━━\u001b[0m\u001b[37m\u001b[0m \u001b[1m0s\u001b[0m 2ms/step - loss: 0.0368 - mae: 0.1437 - val_loss: 0.0341 - val_mae: 0.1373\n",
      "Epoch 39/100\n",
      "\u001b[1m117/117\u001b[0m \u001b[32m━━━━━━━━━━━━━━━━━━━━\u001b[0m\u001b[37m\u001b[0m \u001b[1m0s\u001b[0m 2ms/step - loss: 0.0361 - mae: 0.1437 - val_loss: 0.0342 - val_mae: 0.1369\n",
      "Epoch 40/100\n",
      "\u001b[1m117/117\u001b[0m \u001b[32m━━━━━━━━━━━━━━━━━━━━\u001b[0m\u001b[37m\u001b[0m \u001b[1m0s\u001b[0m 2ms/step - loss: 0.0370 - mae: 0.1446 - val_loss: 0.0340 - val_mae: 0.1351\n",
      "Epoch 41/100\n",
      "\u001b[1m117/117\u001b[0m \u001b[32m━━━━━━━━━━━━━━━━━━━━\u001b[0m\u001b[37m\u001b[0m \u001b[1m0s\u001b[0m 2ms/step - loss: 0.0356 - mae: 0.1421 - val_loss: 0.0339 - val_mae: 0.1363\n",
      "Epoch 42/100\n",
      "\u001b[1m117/117\u001b[0m \u001b[32m━━━━━━━━━━━━━━━━━━━━\u001b[0m\u001b[37m\u001b[0m \u001b[1m0s\u001b[0m 2ms/step - loss: 0.0360 - mae: 0.1413 - val_loss: 0.0345 - val_mae: 0.1379\n",
      "Epoch 43/100\n",
      "\u001b[1m117/117\u001b[0m \u001b[32m━━━━━━━━━━━━━━━━━━━━\u001b[0m\u001b[37m\u001b[0m \u001b[1m0s\u001b[0m 2ms/step - loss: 0.0362 - mae: 0.1421 - val_loss: 0.0336 - val_mae: 0.1352\n",
      "Epoch 44/100\n",
      "\u001b[1m117/117\u001b[0m \u001b[32m━━━━━━━━━━━━━━━━━━━━\u001b[0m\u001b[37m\u001b[0m \u001b[1m0s\u001b[0m 2ms/step - loss: 0.0354 - mae: 0.1415 - val_loss: 0.0337 - val_mae: 0.1363\n",
      "Epoch 45/100\n",
      "\u001b[1m117/117\u001b[0m \u001b[32m━━━━━━━━━━━━━━━━━━━━\u001b[0m\u001b[37m\u001b[0m \u001b[1m0s\u001b[0m 2ms/step - loss: 0.0352 - mae: 0.1407 - val_loss: 0.0334 - val_mae: 0.1342\n",
      "Epoch 46/100\n",
      "\u001b[1m117/117\u001b[0m \u001b[32m━━━━━━━━━━━━━━━━━━━━\u001b[0m\u001b[37m\u001b[0m \u001b[1m0s\u001b[0m 2ms/step - loss: 0.0354 - mae: 0.1409 - val_loss: 0.0338 - val_mae: 0.1369\n",
      "Epoch 47/100\n",
      "\u001b[1m117/117\u001b[0m \u001b[32m━━━━━━━━━━━━━━━━━━━━\u001b[0m\u001b[37m\u001b[0m \u001b[1m0s\u001b[0m 2ms/step - loss: 0.0353 - mae: 0.1403 - val_loss: 0.0337 - val_mae: 0.1358\n",
      "Epoch 48/100\n",
      "\u001b[1m117/117\u001b[0m \u001b[32m━━━━━━━━━━━━━━━━━━━━\u001b[0m\u001b[37m\u001b[0m \u001b[1m0s\u001b[0m 2ms/step - loss: 0.0346 - mae: 0.1389 - val_loss: 0.0331 - val_mae: 0.1344\n",
      "Epoch 49/100\n",
      "\u001b[1m117/117\u001b[0m \u001b[32m━━━━━━━━━━━━━━━━━━━━\u001b[0m\u001b[37m\u001b[0m \u001b[1m0s\u001b[0m 2ms/step - loss: 0.0351 - mae: 0.1415 - val_loss: 0.0334 - val_mae: 0.1345\n",
      "Epoch 50/100\n",
      "\u001b[1m117/117\u001b[0m \u001b[32m━━━━━━━━━━━━━━━━━━━━\u001b[0m\u001b[37m\u001b[0m \u001b[1m0s\u001b[0m 2ms/step - loss: 0.0342 - mae: 0.1386 - val_loss: 0.0339 - val_mae: 0.1379\n",
      "Epoch 51/100\n",
      "\u001b[1m117/117\u001b[0m \u001b[32m━━━━━━━━━━━━━━━━━━━━\u001b[0m\u001b[37m\u001b[0m \u001b[1m0s\u001b[0m 2ms/step - loss: 0.0362 - mae: 0.1429 - val_loss: 0.0335 - val_mae: 0.1359\n",
      "Epoch 52/100\n",
      "\u001b[1m117/117\u001b[0m \u001b[32m━━━━━━━━━━━━━━━━━━━━\u001b[0m\u001b[37m\u001b[0m \u001b[1m0s\u001b[0m 2ms/step - loss: 0.0360 - mae: 0.1434 - val_loss: 0.0330 - val_mae: 0.1350\n",
      "Epoch 53/100\n",
      "\u001b[1m117/117\u001b[0m \u001b[32m━━━━━━━━━━━━━━━━━━━━\u001b[0m\u001b[37m\u001b[0m \u001b[1m0s\u001b[0m 2ms/step - loss: 0.0349 - mae: 0.1391 - val_loss: 0.0331 - val_mae: 0.1335\n",
      "Epoch 54/100\n",
      "\u001b[1m117/117\u001b[0m \u001b[32m━━━━━━━━━━━━━━━━━━━━\u001b[0m\u001b[37m\u001b[0m \u001b[1m0s\u001b[0m 2ms/step - loss: 0.0354 - mae: 0.1409 - val_loss: 0.0329 - val_mae: 0.1348\n",
      "Epoch 55/100\n",
      "\u001b[1m117/117\u001b[0m \u001b[32m━━━━━━━━━━━━━━━━━━━━\u001b[0m\u001b[37m\u001b[0m \u001b[1m0s\u001b[0m 2ms/step - loss: 0.0330 - mae: 0.1356 - val_loss: 0.0338 - val_mae: 0.1375\n",
      "Epoch 56/100\n",
      "\u001b[1m117/117\u001b[0m \u001b[32m━━━━━━━━━━━━━━━━━━━━\u001b[0m\u001b[37m\u001b[0m \u001b[1m0s\u001b[0m 2ms/step - loss: 0.0339 - mae: 0.1382 - val_loss: 0.0331 - val_mae: 0.1341\n",
      "Epoch 57/100\n",
      "\u001b[1m117/117\u001b[0m \u001b[32m━━━━━━━━━━━━━━━━━━━━\u001b[0m\u001b[37m\u001b[0m \u001b[1m0s\u001b[0m 2ms/step - loss: 0.0353 - mae: 0.1407 - val_loss: 0.0332 - val_mae: 0.1343\n",
      "Epoch 58/100\n",
      "\u001b[1m117/117\u001b[0m \u001b[32m━━━━━━━━━━━━━━━━━━━━\u001b[0m\u001b[37m\u001b[0m \u001b[1m0s\u001b[0m 1ms/step - loss: 0.0349 - mae: 0.1389 - val_loss: 0.0328 - val_mae: 0.1362\n",
      "Epoch 59/100\n",
      "\u001b[1m117/117\u001b[0m \u001b[32m━━━━━━━━━━━━━━━━━━━━\u001b[0m\u001b[37m\u001b[0m \u001b[1m0s\u001b[0m 2ms/step - loss: 0.0354 - mae: 0.1410 - val_loss: 0.0333 - val_mae: 0.1354\n",
      "Epoch 60/100\n",
      "\u001b[1m117/117\u001b[0m \u001b[32m━━━━━━━━━━━━━━━━━━━━\u001b[0m\u001b[37m\u001b[0m \u001b[1m0s\u001b[0m 2ms/step - loss: 0.0347 - mae: 0.1406 - val_loss: 0.0325 - val_mae: 0.1344\n",
      "Epoch 61/100\n",
      "\u001b[1m117/117\u001b[0m \u001b[32m━━━━━━━━━━━━━━━━━━━━\u001b[0m\u001b[37m\u001b[0m \u001b[1m0s\u001b[0m 2ms/step - loss: 0.0359 - mae: 0.1426 - val_loss: 0.0326 - val_mae: 0.1330\n",
      "Epoch 62/100\n",
      "\u001b[1m117/117\u001b[0m \u001b[32m━━━━━━━━━━━━━━━━━━━━\u001b[0m\u001b[37m\u001b[0m \u001b[1m0s\u001b[0m 2ms/step - loss: 0.0337 - mae: 0.1376 - val_loss: 0.0328 - val_mae: 0.1341\n",
      "Epoch 63/100\n",
      "\u001b[1m117/117\u001b[0m \u001b[32m━━━━━━━━━━━━━━━━━━━━\u001b[0m\u001b[37m\u001b[0m \u001b[1m0s\u001b[0m 2ms/step - loss: 0.0343 - mae: 0.1387 - val_loss: 0.0342 - val_mae: 0.1396\n",
      "Epoch 64/100\n",
      "\u001b[1m117/117\u001b[0m \u001b[32m━━━━━━━━━━━━━━━━━━━━\u001b[0m\u001b[37m\u001b[0m \u001b[1m0s\u001b[0m 2ms/step - loss: 0.0345 - mae: 0.1401 - val_loss: 0.0328 - val_mae: 0.1342\n",
      "Epoch 65/100\n",
      "\u001b[1m117/117\u001b[0m \u001b[32m━━━━━━━━━━━━━━━━━━━━\u001b[0m\u001b[37m\u001b[0m \u001b[1m0s\u001b[0m 2ms/step - loss: 0.0353 - mae: 0.1427 - val_loss: 0.0324 - val_mae: 0.1344\n",
      "Epoch 66/100\n",
      "\u001b[1m117/117\u001b[0m \u001b[32m━━━━━━━━━━━━━━━━━━━━\u001b[0m\u001b[37m\u001b[0m \u001b[1m0s\u001b[0m 2ms/step - loss: 0.0350 - mae: 0.1391 - val_loss: 0.0323 - val_mae: 0.1355\n",
      "Epoch 67/100\n",
      "\u001b[1m117/117\u001b[0m \u001b[32m━━━━━━━━━━━━━━━━━━━━\u001b[0m\u001b[37m\u001b[0m \u001b[1m0s\u001b[0m 2ms/step - loss: 0.0331 - mae: 0.1364 - val_loss: 0.0326 - val_mae: 0.1324\n",
      "Epoch 68/100\n",
      "\u001b[1m117/117\u001b[0m \u001b[32m━━━━━━━━━━━━━━━━━━━━\u001b[0m\u001b[37m\u001b[0m \u001b[1m0s\u001b[0m 2ms/step - loss: 0.0356 - mae: 0.1420 - val_loss: 0.0327 - val_mae: 0.1361\n",
      "Epoch 69/100\n",
      "\u001b[1m117/117\u001b[0m \u001b[32m━━━━━━━━━━━━━━━━━━━━\u001b[0m\u001b[37m\u001b[0m \u001b[1m0s\u001b[0m 2ms/step - loss: 0.0351 - mae: 0.1412 - val_loss: 0.0328 - val_mae: 0.1352\n",
      "Epoch 70/100\n",
      "\u001b[1m117/117\u001b[0m \u001b[32m━━━━━━━━━━━━━━━━━━━━\u001b[0m\u001b[37m\u001b[0m \u001b[1m0s\u001b[0m 2ms/step - loss: 0.0351 - mae: 0.1420 - val_loss: 0.0333 - val_mae: 0.1381\n",
      "Epoch 71/100\n",
      "\u001b[1m117/117\u001b[0m \u001b[32m━━━━━━━━━━━━━━━━━━━━\u001b[0m\u001b[37m\u001b[0m \u001b[1m0s\u001b[0m 2ms/step - loss: 0.0344 - mae: 0.1389 - val_loss: 0.0322 - val_mae: 0.1328\n",
      "Epoch 72/100\n",
      "\u001b[1m117/117\u001b[0m \u001b[32m━━━━━━━━━━━━━━━━━━━━\u001b[0m\u001b[37m\u001b[0m \u001b[1m0s\u001b[0m 2ms/step - loss: 0.0327 - mae: 0.1348 - val_loss: 0.0323 - val_mae: 0.1336\n",
      "Epoch 73/100\n",
      "\u001b[1m117/117\u001b[0m \u001b[32m━━━━━━━━━━━━━━━━━━━━\u001b[0m\u001b[37m\u001b[0m \u001b[1m0s\u001b[0m 2ms/step - loss: 0.0340 - mae: 0.1391 - val_loss: 0.0325 - val_mae: 0.1363\n",
      "Epoch 74/100\n",
      "\u001b[1m117/117\u001b[0m \u001b[32m━━━━━━━━━━━━━━━━━━━━\u001b[0m\u001b[37m\u001b[0m \u001b[1m0s\u001b[0m 2ms/step - loss: 0.0345 - mae: 0.1392 - val_loss: 0.0320 - val_mae: 0.1336\n",
      "Epoch 75/100\n",
      "\u001b[1m117/117\u001b[0m \u001b[32m━━━━━━━━━━━━━━━━━━━━\u001b[0m\u001b[37m\u001b[0m \u001b[1m0s\u001b[0m 2ms/step - loss: 0.0343 - mae: 0.1394 - val_loss: 0.0322 - val_mae: 0.1325\n",
      "Epoch 76/100\n",
      "\u001b[1m117/117\u001b[0m \u001b[32m━━━━━━━━━━━━━━━━━━━━\u001b[0m\u001b[37m\u001b[0m \u001b[1m0s\u001b[0m 2ms/step - loss: 0.0353 - mae: 0.1416 - val_loss: 0.0324 - val_mae: 0.1338\n",
      "Epoch 77/100\n",
      "\u001b[1m117/117\u001b[0m \u001b[32m━━━━━━━━━━━━━━━━━━━━\u001b[0m\u001b[37m\u001b[0m \u001b[1m0s\u001b[0m 2ms/step - loss: 0.0334 - mae: 0.1381 - val_loss: 0.0321 - val_mae: 0.1333\n",
      "Epoch 78/100\n",
      "\u001b[1m117/117\u001b[0m \u001b[32m━━━━━━━━━━━━━━━━━━━━\u001b[0m\u001b[37m\u001b[0m \u001b[1m0s\u001b[0m 2ms/step - loss: 0.0346 - mae: 0.1419 - val_loss: 0.0320 - val_mae: 0.1321\n",
      "Epoch 79/100\n",
      "\u001b[1m117/117\u001b[0m \u001b[32m━━━━━━━━━━━━━━━━━━━━\u001b[0m\u001b[37m\u001b[0m \u001b[1m0s\u001b[0m 2ms/step - loss: 0.0346 - mae: 0.1378 - val_loss: 0.0321 - val_mae: 0.1326\n",
      "Epoch 80/100\n",
      "\u001b[1m117/117\u001b[0m \u001b[32m━━━━━━━━━━━━━━━━━━━━\u001b[0m\u001b[37m\u001b[0m \u001b[1m0s\u001b[0m 2ms/step - loss: 0.0341 - mae: 0.1397 - val_loss: 0.0327 - val_mae: 0.1367\n",
      "Epoch 81/100\n",
      "\u001b[1m117/117\u001b[0m \u001b[32m━━━━━━━━━━━━━━━━━━━━\u001b[0m\u001b[37m\u001b[0m \u001b[1m0s\u001b[0m 2ms/step - loss: 0.0337 - mae: 0.1384 - val_loss: 0.0321 - val_mae: 0.1360\n",
      "Epoch 82/100\n",
      "\u001b[1m117/117\u001b[0m \u001b[32m━━━━━━━━━━━━━━━━━━━━\u001b[0m\u001b[37m\u001b[0m \u001b[1m0s\u001b[0m 2ms/step - loss: 0.0333 - mae: 0.1387 - val_loss: 0.0316 - val_mae: 0.1328\n",
      "Epoch 83/100\n",
      "\u001b[1m117/117\u001b[0m \u001b[32m━━━━━━━━━━━━━━━━━━━━\u001b[0m\u001b[37m\u001b[0m \u001b[1m0s\u001b[0m 2ms/step - loss: 0.0328 - mae: 0.1375 - val_loss: 0.0320 - val_mae: 0.1325\n",
      "Epoch 84/100\n",
      "\u001b[1m117/117\u001b[0m \u001b[32m━━━━━━━━━━━━━━━━━━━━\u001b[0m\u001b[37m\u001b[0m \u001b[1m0s\u001b[0m 2ms/step - loss: 0.0336 - mae: 0.1379 - val_loss: 0.0321 - val_mae: 0.1342\n",
      "Epoch 85/100\n",
      "\u001b[1m117/117\u001b[0m \u001b[32m━━━━━━━━━━━━━━━━━━━━\u001b[0m\u001b[37m\u001b[0m \u001b[1m0s\u001b[0m 2ms/step - loss: 0.0354 - mae: 0.1422 - val_loss: 0.0318 - val_mae: 0.1327\n",
      "Epoch 86/100\n",
      "\u001b[1m117/117\u001b[0m \u001b[32m━━━━━━━━━━━━━━━━━━━━\u001b[0m\u001b[37m\u001b[0m \u001b[1m0s\u001b[0m 2ms/step - loss: 0.0330 - mae: 0.1373 - val_loss: 0.0315 - val_mae: 0.1300\n",
      "Epoch 87/100\n",
      "\u001b[1m117/117\u001b[0m \u001b[32m━━━━━━━━━━━━━━━━━━━━\u001b[0m\u001b[37m\u001b[0m \u001b[1m0s\u001b[0m 2ms/step - loss: 0.0338 - mae: 0.1387 - val_loss: 0.0321 - val_mae: 0.1348\n",
      "Epoch 88/100\n",
      "\u001b[1m117/117\u001b[0m \u001b[32m━━━━━━━━━━━━━━━━━━━━\u001b[0m\u001b[37m\u001b[0m \u001b[1m0s\u001b[0m 2ms/step - loss: 0.0330 - mae: 0.1374 - val_loss: 0.0321 - val_mae: 0.1343\n",
      "Epoch 89/100\n",
      "\u001b[1m117/117\u001b[0m \u001b[32m━━━━━━━━━━━━━━━━━━━━\u001b[0m\u001b[37m\u001b[0m \u001b[1m0s\u001b[0m 2ms/step - loss: 0.0340 - mae: 0.1392 - val_loss: 0.0318 - val_mae: 0.1326\n",
      "Epoch 90/100\n",
      "\u001b[1m117/117\u001b[0m \u001b[32m━━━━━━━━━━━━━━━━━━━━\u001b[0m\u001b[37m\u001b[0m \u001b[1m0s\u001b[0m 2ms/step - loss: 0.0342 - mae: 0.1386 - val_loss: 0.0320 - val_mae: 0.1339\n",
      "Epoch 91/100\n",
      "\u001b[1m117/117\u001b[0m \u001b[32m━━━━━━━━━━━━━━━━━━━━\u001b[0m\u001b[37m\u001b[0m \u001b[1m0s\u001b[0m 2ms/step - loss: 0.0334 - mae: 0.1396 - val_loss: 0.0316 - val_mae: 0.1326\n",
      "Epoch 92/100\n",
      "\u001b[1m117/117\u001b[0m \u001b[32m━━━━━━━━━━━━━━━━━━━━\u001b[0m\u001b[37m\u001b[0m \u001b[1m0s\u001b[0m 2ms/step - loss: 0.0341 - mae: 0.1397 - val_loss: 0.0326 - val_mae: 0.1359\n",
      "Epoch 93/100\n",
      "\u001b[1m117/117\u001b[0m \u001b[32m━━━━━━━━━━━━━━━━━━━━\u001b[0m\u001b[37m\u001b[0m \u001b[1m0s\u001b[0m 2ms/step - loss: 0.0328 - mae: 0.1368 - val_loss: 0.0322 - val_mae: 0.1349\n",
      "Epoch 94/100\n",
      "\u001b[1m117/117\u001b[0m \u001b[32m━━━━━━━━━━━━━━━━━━━━\u001b[0m\u001b[37m\u001b[0m \u001b[1m0s\u001b[0m 2ms/step - loss: 0.0341 - mae: 0.1387 - val_loss: 0.0315 - val_mae: 0.1318\n",
      "Epoch 95/100\n",
      "\u001b[1m117/117\u001b[0m \u001b[32m━━━━━━━━━━━━━━━━━━━━\u001b[0m\u001b[37m\u001b[0m \u001b[1m0s\u001b[0m 2ms/step - loss: 0.0333 - mae: 0.1375 - val_loss: 0.0320 - val_mae: 0.1318\n",
      "Epoch 96/100\n",
      "\u001b[1m117/117\u001b[0m \u001b[32m━━━━━━━━━━━━━━━━━━━━\u001b[0m\u001b[37m\u001b[0m \u001b[1m0s\u001b[0m 2ms/step - loss: 0.0336 - mae: 0.1387 - val_loss: 0.0317 - val_mae: 0.1328\n",
      "Epoch 97/100\n",
      "\u001b[1m117/117\u001b[0m \u001b[32m━━━━━━━━━━━━━━━━━━━━\u001b[0m\u001b[37m\u001b[0m \u001b[1m0s\u001b[0m 2ms/step - loss: 0.0337 - mae: 0.1385 - val_loss: 0.0331 - val_mae: 0.1379\n",
      "Epoch 98/100\n",
      "\u001b[1m117/117\u001b[0m \u001b[32m━━━━━━━━━━━━━━━━━━━━\u001b[0m\u001b[37m\u001b[0m \u001b[1m0s\u001b[0m 3ms/step - loss: 0.0342 - mae: 0.1400 - val_loss: 0.0312 - val_mae: 0.1306\n",
      "Epoch 99/100\n",
      "\u001b[1m117/117\u001b[0m \u001b[32m━━━━━━━━━━━━━━━━━━━━\u001b[0m\u001b[37m\u001b[0m \u001b[1m0s\u001b[0m 2ms/step - loss: 0.0333 - mae: 0.1368 - val_loss: 0.0311 - val_mae: 0.1301\n",
      "Epoch 100/100\n",
      "\u001b[1m117/117\u001b[0m \u001b[32m━━━━━━━━━━━━━━━━━━━━\u001b[0m\u001b[37m\u001b[0m \u001b[1m0s\u001b[0m 2ms/step - loss: 0.0317 - mae: 0.1337 - val_loss: 0.0318 - val_mae: 0.1334\n",
      "\u001b[1m30/30\u001b[0m \u001b[32m━━━━━━━━━━━━━━━━━━━━\u001b[0m\u001b[37m\u001b[0m \u001b[1m0s\u001b[0m 2ms/step\n"
     ]
    },
    {
     "data": {
      "image/png": "[encoded data removed]",
      "text/plain": [
       "<Figure size 640x480 with 1 Axes>"
      ]
     },
     "metadata": {},
     "output_type": "display_data"
    },
    {
     "data": {
      "image/png": "[encoded data removed]",
      "text/plain": [
       "<Figure size 640x480 with 1 Axes>"
      ]
     },
     "metadata": {},
     "output_type": "display_data"
    },
    {
     "name": "stdout",
     "output_type": "stream",
     "text": [
      "\u001b[1m30/30\u001b[0m \u001b[32m━━━━━━━━━━━━━━━━━━━━\u001b[0m\u001b[37m\u001b[0m \u001b[1m0s\u001b[0m 1ms/step - loss: 0.0309 - mae: 0.1306 \n",
      "MSE:  0.03176940605044365\n",
      "MAE: 0.13339069485664368\n"
     ]
    },
    {
     "data": {
      "application/vnd.microsoft.datawrangler.viewer.v0+json": {
       "columns": [
        {
         "name": "SongID",
         "rawType": "object",
         "type": "string"
        },
        {
         "name": "Original Test",
         "rawType": "float64",
         "type": "float"
        },
        {
         "name": "Prediction Test",
         "rawType": "float32",
         "type": "float"
        },
        {
         "name": "Original over Thrashold",
         "rawType": "bool",
         "type": "boolean"
        },
        {
         "name": "Predicted over Thrashold",
         "rawType": "bool",
         "type": "boolean"
        }
       ],
       "conversionMethod": "pd.DataFrame",
       "ref": "8d2aed13-8436-493b-a1d0-8b72639dcb4c",
       "rows": [
        [
         "One Night AffairThe O'Jays",
         "0.876",
         "0.7852496",
         "True",
         "True"
        ],
        [
         "Young & Gettin' ItMeek Mill Featuring Kirko Bangz",
         "0.8579999999999999",
         "0.4870323",
         "True",
         "False"
        ],
        [
         "Everything Is Good About YouThe Lettermen",
         "0.804",
         "0.7906295",
         "True",
         "True"
        ],
        [
         "Hot Fun In The SummertimeSly & The Family Stone",
         "0.931",
         "0.8386103",
         "True",
         "True"
        ],
        [
         "Will The Wolf SurviveLos Lobos",
         "0.8439999999999999",
         "0.80043834",
         "True",
         "True"
        ],
        [
         "You Had Me From HelloKenny Chesney",
         "0.2",
         "0.4236317",
         "False",
         "False"
        ],
        [
         "HappyBobby Darin",
         "0.6119999999999999",
         "0.544129",
         "False",
         "False"
        ],
        [
         "SOSRihanna",
         "0.527",
         "0.5199195",
         "False",
         "False"
        ],
        [
         "New Magic WandTyler, The Creator",
         "0.464",
         "0.5123224",
         "False",
         "False"
        ],
        [
         "Burnin' For YouBlue Oyster Cult",
         "0.69",
         "0.58103895",
         "False",
         "False"
        ],
        [
         "Separate Ways (Worlds Apart)Journey",
         "0.377",
         "0.47063878",
         "False",
         "False"
        ],
        [
         "Heads Carolina, Tails CaliforniaDanielle Bradbery",
         "0.626",
         "0.57827604",
         "False",
         "False"
        ],
        [
         "The Little Girl I Once KnewThe Beach Boys",
         "0.435",
         "0.68395007",
         "False",
         "False"
        ],
        [
         "You Really Got MeThe Kinks",
         "0.963",
         "0.82786906",
         "True",
         "True"
        ],
        [
         "If Everyone CaredNickelback",
         "0.196",
         "0.55385995",
         "False",
         "False"
        ],
        [
         "The Love We Had (Stays On My Mind)The Dells",
         "0.126",
         "0.34478223",
         "False",
         "False"
        ],
        [
         "Raise UpPetey Pablo",
         "0.7419999999999999",
         "0.5649477",
         "True",
         "False"
        ],
        [
         "Day DreamingAretha Franklin",
         "0.2929999999999999",
         "0.45970887",
         "False",
         "False"
        ],
        [
         "19 You + MeDan + Shay",
         "0.451",
         "0.3881545",
         "False",
         "False"
        ],
        [
         "I'll Never Stop Wanting YouBrian Hyland",
         "0.2989999999999999",
         "0.4918214",
         "False",
         "False"
        ],
        [
         "When I Grow Up (To Be A Man)The Beach Boys",
         "0.789",
         "0.6348128",
         "True",
         "False"
        ],
        [
         "Better Dig TwoThe Band Perry",
         "0.646",
         "0.6270046",
         "False",
         "False"
        ],
        [
         "I Get It InOmarion Featuring Gucci Mane",
         "0.674",
         "0.7426796",
         "False",
         "True"
        ],
        [
         "(We Ain't Got) Nothin' YetBlues Magoos",
         "0.8579999999999999",
         "0.8155744",
         "True",
         "True"
        ],
        [
         "No ProblemChance The Rapper Featuring Lil Wayne & 2 Chainz",
         "0.788",
         "0.46442643",
         "True",
         "False"
        ],
        [
         "Envy MeCalboy",
         "0.5839999999999999",
         "0.49995914",
         "False",
         "False"
        ],
        [
         "Desiree'The Left Banke",
         "0.7279999999999999",
         "0.69925416",
         "True",
         "False"
        ],
        [
         "Why Can't You Bring Me HomeJay & The Americans",
         "0.7149999999999999",
         "0.83999",
         "True",
         "True"
        ],
        [
         "Whatever You LikeT.I.",
         "0.467",
         "0.45996904",
         "False",
         "False"
        ],
        [
         "Sk8er BoiAvril Lavigne",
         "0.4839999999999999",
         "0.5409644",
         "False",
         "False"
        ],
        [
         "American BoysPetula Clark",
         "0.5969999999999999",
         "0.56549335",
         "False",
         "False"
        ],
        [
         "Boogie WonderlandEarth, Wind & Fire with The Emotions",
         "0.963",
         "0.74479485",
         "True",
         "True"
        ],
        [
         "Cotton CandyAl Hirt",
         "0.966",
         "0.85822177",
         "True",
         "True"
        ],
        [
         "So Sad The SongGladys Knight And The Pips",
         "0.2069999999999999",
         "0.33510277",
         "False",
         "False"
        ],
        [
         "Already GoneSugarland",
         "0.373",
         "0.32150146",
         "False",
         "False"
        ],
        [
         "Any Way You Want ItJourney",
         "0.571",
         "0.72366554",
         "False",
         "True"
        ],
        [
         "Love MeJustin Bieber",
         "0.6129999999999999",
         "0.5408803",
         "False",
         "False"
        ],
        [
         "Even NowBarry Manilow",
         "0.313",
         "0.31732208",
         "False",
         "False"
        ],
        [
         "Crazy DowntownAllan Sherman",
         "0.815",
         "0.73342896",
         "True",
         "True"
        ],
        [
         "ToxicBritney Spears",
         "0.924",
         "0.6986111",
         "True",
         "False"
        ],
        [
         "Have You Ever Needed Someone So BadDef Leppard",
         "0.7349999999999999",
         "0.47686514",
         "True",
         "False"
        ],
        [
         "Summer Of '42Biddu Orchestra",
         "0.556",
         "0.6240525",
         "False",
         "False"
        ],
        [
         "Get Right WitchaMigos",
         "0.62",
         "0.6402416",
         "False",
         "False"
        ],
        [
         "My Pretending Days Are OverThe Dells",
         "0.4139999999999999",
         "0.54241896",
         "False",
         "False"
        ],
        [
         "Good Timin'Jimmy Jones",
         "0.967",
         "0.75134975",
         "True",
         "True"
        ],
        [
         "Your Baby Never Looked Good In BlueExpose",
         "0.3669999999999999",
         "0.6164188",
         "False",
         "False"
        ],
        [
         "Let The Good Times Roll & Feel So GoodBunny Sigler",
         "0.928",
         "0.82146835",
         "True",
         "True"
        ],
        [
         "Snap Backs & TattoosDriicky Graham",
         "0.538",
         "0.6400142",
         "False",
         "False"
        ],
        [
         "Look What They've Done To My Song MaThe New Seekers featuring Eve Graham",
         "0.401",
         "0.53216773",
         "False",
         "False"
        ],
        [
         "Diamond HeadThe Ventures",
         "0.963",
         "0.7923988",
         "True",
         "True"
        ]
       ],
       "shape": {
        "columns": 4,
        "rows": 934
       }
      },
      "text/html": [
       "<div>\n",
       "<style scoped>\n",
       "    .dataframe tbody tr th:only-of-type {\n",
       "        vertical-align: middle;\n",
       "    }\n",
       "\n",
       "    .dataframe tbody tr th {\n",
       "        vertical-align: top;\n",
       "    }\n",
       "\n",
       "    .dataframe thead th {\n",
       "        text-align: right;\n",
       "    }\n",
       "</style>\n",
       "<table border=\"1\" class=\"dataframe\">\n",
       "  <thead>\n",
       "    <tr style=\"text-align: right;\">\n",
       "      <th></th>\n",
       "      <th>Original Test</th>\n",
       "      <th>Prediction Test</th>\n",
       "      <th>Original over Thrashold</th>\n",
       "      <th>Predicted over Thrashold</th>\n",
       "    </tr>\n",
       "    <tr>\n",
       "      <th>SongID</th>\n",
       "      <th></th>\n",
       "      <th></th>\n",
       "      <th></th>\n",
       "      <th></th>\n",
       "    </tr>\n",
       "  </thead>\n",
       "  <tbody>\n",
       "    <tr>\n",
       "      <th>One Night AffairThe O'Jays</th>\n",
       "      <td>0.876</td>\n",
       "      <td>0.785250</td>\n",
       "      <td>True</td>\n",
       "      <td>True</td>\n",
       "    </tr>\n",
       "    <tr>\n",
       "      <th>Young &amp; Gettin' ItMeek Mill Featuring Kirko Bangz</th>\n",
       "      <td>0.858</td>\n",
       "      <td>0.487032</td>\n",
       "      <td>True</td>\n",
       "      <td>False</td>\n",
       "    </tr>\n",
       "    <tr>\n",
       "      <th>Everything Is Good About YouThe Lettermen</th>\n",
       "      <td>0.804</td>\n",
       "      <td>0.790630</td>\n",
       "      <td>True</td>\n",
       "      <td>True</td>\n",
       "    </tr>\n",
       "    <tr>\n",
       "      <th>Hot Fun In The SummertimeSly &amp; The Family Stone</th>\n",
       "      <td>0.931</td>\n",
       "      <td>0.838610</td>\n",
       "      <td>True</td>\n",
       "      <td>True</td>\n",
       "    </tr>\n",
       "    <tr>\n",
       "      <th>Will The Wolf SurviveLos Lobos</th>\n",
       "      <td>0.844</td>\n",
       "      <td>0.800438</td>\n",
       "      <td>True</td>\n",
       "      <td>True</td>\n",
       "    </tr>\n",
       "    <tr>\n",
       "      <th>...</th>\n",
       "      <td>...</td>\n",
       "      <td>...</td>\n",
       "      <td>...</td>\n",
       "      <td>...</td>\n",
       "    </tr>\n",
       "    <tr>\n",
       "      <th>HeavenBryan Adams</th>\n",
       "      <td>0.335</td>\n",
       "      <td>0.360043</td>\n",
       "      <td>False</td>\n",
       "      <td>False</td>\n",
       "    </tr>\n",
       "    <tr>\n",
       "      <th>I Have NothingWhitney Houston</th>\n",
       "      <td>0.240</td>\n",
       "      <td>0.352834</td>\n",
       "      <td>False</td>\n",
       "      <td>False</td>\n",
       "    </tr>\n",
       "    <tr>\n",
       "      <th>Only You Can Love Me This WayKeith Urban</th>\n",
       "      <td>0.325</td>\n",
       "      <td>0.392757</td>\n",
       "      <td>False</td>\n",
       "      <td>False</td>\n",
       "    </tr>\n",
       "    <tr>\n",
       "      <th>Viva La VidaColdplay</th>\n",
       "      <td>0.416</td>\n",
       "      <td>0.388150</td>\n",
       "      <td>False</td>\n",
       "      <td>False</td>\n",
       "    </tr>\n",
       "    <tr>\n",
       "      <th>Delta LadyJoe Cocker</th>\n",
       "      <td>0.777</td>\n",
       "      <td>0.726232</td>\n",
       "      <td>True</td>\n",
       "      <td>True</td>\n",
       "    </tr>\n",
       "  </tbody>\n",
       "</table>\n",
       "<p>934 rows × 4 columns</p>\n",
       "</div>"
      ],
      "text/plain": [
       "                                                   Original Test  \\\n",
       "SongID                                                             \n",
       "One Night AffairThe O'Jays                                 0.876   \n",
       "Young & Gettin' ItMeek Mill Featuring Kirko Bangz          0.858   \n",
       "Everything Is Good About YouThe Lettermen                  0.804   \n",
       "Hot Fun In The SummertimeSly & The Family Stone            0.931   \n",
       "Will The Wolf SurviveLos Lobos                             0.844   \n",
       "...                                                          ...   \n",
       "HeavenBryan Adams                                          0.335   \n",
       "I Have NothingWhitney Houston                              0.240   \n",
       "Only You Can Love Me This WayKeith Urban                   0.325   \n",
       "Viva La VidaColdplay                                       0.416   \n",
       "Delta LadyJoe Cocker                                       0.777   \n",
       "\n",
       "                                                   Prediction Test  \\\n",
       "SongID                                                               \n",
       "One Night AffairThe O'Jays                                0.785250   \n",
       "Young & Gettin' ItMeek Mill Featuring Kirko Bangz         0.487032   \n",
       "Everything Is Good About YouThe Lettermen                 0.790630   \n",
       "Hot Fun In The SummertimeSly & The Family Stone           0.838610   \n",
       "Will The Wolf SurviveLos Lobos                            0.800438   \n",
       "...                                                            ...   \n",
       "HeavenBryan Adams                                         0.360043   \n",
       "I Have NothingWhitney Houston                             0.352834   \n",
       "Only You Can Love Me This WayKeith Urban                  0.392757   \n",
       "Viva La VidaColdplay                                      0.388150   \n",
       "Delta LadyJoe Cocker                                      0.726232   \n",
       "\n",
       "                                                   Original over Thrashold  \\\n",
       "SongID                                                                       \n",
       "One Night AffairThe O'Jays                                            True   \n",
       "Young & Gettin' ItMeek Mill Featuring Kirko Bangz                     True   \n",
       "Everything Is Good About YouThe Lettermen                             True   \n",
       "Hot Fun In The SummertimeSly & The Family Stone                       True   \n",
       "Will The Wolf SurviveLos Lobos                                        True   \n",
       "...                                                                    ...   \n",
       "HeavenBryan Adams                                                    False   \n",
       "I Have NothingWhitney Houston                                        False   \n",
       "Only You Can Love Me This WayKeith Urban                             False   \n",
       "Viva La VidaColdplay                                                 False   \n",
       "Delta LadyJoe Cocker                                                  True   \n",
       "\n",
       "                                                   Predicted over Thrashold  \n",
       "SongID                                                                       \n",
       "One Night AffairThe O'Jays                                             True  \n",
       "Young & Gettin' ItMeek Mill Featuring Kirko Bangz                     False  \n",
       "Everything Is Good About YouThe Lettermen                              True  \n",
       "Hot Fun In The SummertimeSly & The Family Stone                        True  \n",
       "Will The Wolf SurviveLos Lobos                                         True  \n",
       "...                                                                     ...  \n",
       "HeavenBryan Adams                                                     False  \n",
       "I Have NothingWhitney Houston                                         False  \n",
       "Only You Can Love Me This WayKeith Urban                              False  \n",
       "Viva La VidaColdplay                                                  False  \n",
       "Delta LadyJoe Cocker                                                   True  \n",
       "\n",
       "[934 rows x 4 columns]"
      ]
     },
     "metadata": {},
     "output_type": "display_data"
    },
    {
     "data": {
      "image/png": "[encoded data removed]",
      "text/plain": [
       "<Figure size 640x480 with 2 Axes>"
      ]
     },
     "metadata": {},
     "output_type": "display_data"
    },
    {
     "data": {
      "application/vnd.microsoft.datawrangler.viewer.v0+json": {
       "columns": [
        {
         "name": "index",
         "rawType": "int64",
         "type": "integer"
        },
        {
         "name": "Metric",
         "rawType": "object",
         "type": "string"
        },
        {
         "name": "Value",
         "rawType": "float64",
         "type": "float"
        }
       ],
       "conversionMethod": "pd.DataFrame",
       "ref": "a7bf04f3-ba6c-45cf-9c0f-6a1d68711371",
       "rows": [
        [
         "0",
         "Accuracy",
         "0.81"
        ],
        [
         "1",
         "Precision",
         "0.78"
        ],
        [
         "2",
         "Recall",
         "0.67"
        ],
        [
         "3",
         "F1-score",
         "0.72"
        ]
       ],
       "shape": {
        "columns": 2,
        "rows": 4
       }
      },
      "text/html": [
       "<div>\n",
       "<style scoped>\n",
       "    .dataframe tbody tr th:only-of-type {\n",
       "        vertical-align: middle;\n",
       "    }\n",
       "\n",
       "    .dataframe tbody tr th {\n",
       "        vertical-align: top;\n",
       "    }\n",
       "\n",
       "    .dataframe thead th {\n",
       "        text-align: right;\n",
       "    }\n",
       "</style>\n",
       "<table border=\"1\" class=\"dataframe\">\n",
       "  <thead>\n",
       "    <tr style=\"text-align: right;\">\n",
       "      <th></th>\n",
       "      <th>Metric</th>\n",
       "      <th>Value</th>\n",
       "    </tr>\n",
       "  </thead>\n",
       "  <tbody>\n",
       "    <tr>\n",
       "      <th>0</th>\n",
       "      <td>Accuracy</td>\n",
       "      <td>0.81</td>\n",
       "    </tr>\n",
       "    <tr>\n",
       "      <th>1</th>\n",
       "      <td>Precision</td>\n",
       "      <td>0.78</td>\n",
       "    </tr>\n",
       "    <tr>\n",
       "      <th>2</th>\n",
       "      <td>Recall</td>\n",
       "      <td>0.67</td>\n",
       "    </tr>\n",
       "    <tr>\n",
       "      <th>3</th>\n",
       "      <td>F1-score</td>\n",
       "      <td>0.72</td>\n",
       "    </tr>\n",
       "  </tbody>\n",
       "</table>\n",
       "</div>"
      ],
      "text/plain": [
       "      Metric  Value\n",
       "0   Accuracy   0.81\n",
       "1  Precision   0.78\n",
       "2     Recall   0.67\n",
       "3   F1-score   0.72"
      ]
     },
     "metadata": {},
     "output_type": "display_data"
    },
    {
     "name": "stdout",
     "output_type": "stream",
     "text": [
      "---------------------------------------------------------\n",
      "USER 2\n",
      "Epoch 1/100\n"
     ]
    },
    {
     "name": "stderr",
     "output_type": "stream",
     "text": [
      "C:\\Users\\lovoa\\AppData\\Local\\Temp\\ipykernel_14936\\3823668386.py:9: SettingWithCopyWarning: \n",
      "A value is trying to be set on a copy of a slice from a DataFrame.\n",
      "Try using .loc[row_indexer,col_indexer] = value instead\n",
      "\n",
      "See the caveats in the documentation: https://pandas.pydata.org/pandas-docs/stable/user_guide/indexing.html#returning-a-view-versus-a-copy\n",
      "  x[numerical_features] = scaler.fit_transform(x[numerical_features])\n",
      "c:\\Users\\lovoa\\AppData\\Local\\Programs\\Python\\Python312\\Lib\\site-packages\\keras\\src\\layers\\core\\dense.py:87: UserWarning: Do not pass an `input_shape`/`input_dim` argument to a layer. When using Sequential models, prefer using an `Input(shape)` object as the first layer in the model instead.\n",
      "  super().__init__(activity_regularizer=activity_regularizer, **kwargs)\n"
     ]
    },
    {
     "name": "stdout",
     "output_type": "stream",
     "text": [
      "\u001b[1m270/270\u001b[0m \u001b[32m━━━━━━━━━━━━━━━━━━━━\u001b[0m\u001b[37m\u001b[0m \u001b[1m2s\u001b[0m 2ms/step - loss: 0.3696 - mae: 0.1655 - val_loss: 0.0766 - val_mae: 0.1254\n",
      "Epoch 2/100\n",
      "\u001b[1m270/270\u001b[0m \u001b[32m━━━━━━━━━━━━━━━━━━━━\u001b[0m\u001b[37m\u001b[0m \u001b[1m0s\u001b[0m 2ms/step - loss: 0.0584 - mae: 0.1256 - val_loss: 0.0325 - val_mae: 0.1126\n",
      "Epoch 3/100\n",
      "\u001b[1m270/270\u001b[0m \u001b[32m━━━━━━━━━━━━━━━━━━━━\u001b[0m\u001b[37m\u001b[0m \u001b[1m1s\u001b[0m 1ms/step - loss: 0.0329 - mae: 0.1190 - val_loss: 0.0292 - val_mae: 0.1107\n",
      "Epoch 4/100\n",
      "\u001b[1m270/270\u001b[0m \u001b[32m━━━━━━━━━━━━━━━━━━━━\u001b[0m\u001b[37m\u001b[0m \u001b[1m0s\u001b[0m 1ms/step - loss: 0.0308 - mae: 0.1172 - val_loss: 0.0280 - val_mae: 0.1082\n",
      "Epoch 5/100\n",
      "\u001b[1m270/270\u001b[0m \u001b[32m━━━━━━━━━━━━━━━━━━━━\u001b[0m\u001b[37m\u001b[0m \u001b[1m0s\u001b[0m 1ms/step - loss: 0.0301 - mae: 0.1166 - val_loss: 0.0274 - val_mae: 0.1070\n",
      "Epoch 6/100\n",
      "\u001b[1m270/270\u001b[0m \u001b[32m━━━━━━━━━━━━━━━━━━━━\u001b[0m\u001b[37m\u001b[0m \u001b[1m0s\u001b[0m 1ms/step - loss: 0.0287 - mae: 0.1134 - val_loss: 0.0268 - val_mae: 0.1049\n",
      "Epoch 7/100\n",
      "\u001b[1m270/270\u001b[0m \u001b[32m━━━━━━━━━━━━━━━━━━━━\u001b[0m\u001b[37m\u001b[0m \u001b[1m0s\u001b[0m 1ms/step - loss: 0.0295 - mae: 0.1154 - val_loss: 0.0266 - val_mae: 0.1058\n",
      "Epoch 8/100\n",
      "\u001b[1m270/270\u001b[0m \u001b[32m━━━━━━━━━━━━━━━━━━━━\u001b[0m\u001b[37m\u001b[0m \u001b[1m0s\u001b[0m 1ms/step - loss: 0.0282 - mae: 0.1128 - val_loss: 0.0261 - val_mae: 0.1024\n",
      "Epoch 9/100\n",
      "\u001b[1m270/270\u001b[0m \u001b[32m━━━━━━━━━━━━━━━━━━━━\u001b[0m\u001b[37m\u001b[0m \u001b[1m0s\u001b[0m 1ms/step - loss: 0.0278 - mae: 0.1119 - val_loss: 0.0260 - val_mae: 0.1028\n",
      "Epoch 10/100\n",
      "\u001b[1m270/270\u001b[0m \u001b[32m━━━━━━━━━━━━━━━━━━━━\u001b[0m\u001b[37m\u001b[0m \u001b[1m0s\u001b[0m 1ms/step - loss: 0.0284 - mae: 0.1130 - val_loss: 0.0259 - val_mae: 0.1055\n",
      "Epoch 11/100\n",
      "\u001b[1m270/270\u001b[0m \u001b[32m━━━━━━━━━━━━━━━━━━━━\u001b[0m\u001b[37m\u001b[0m \u001b[1m0s\u001b[0m 1ms/step - loss: 0.0272 - mae: 0.1106 - val_loss: 0.0252 - val_mae: 0.1021\n",
      "Epoch 12/100\n",
      "\u001b[1m270/270\u001b[0m \u001b[32m━━━━━━━━━━━━━━━━━━━━\u001b[0m\u001b[37m\u001b[0m \u001b[1m0s\u001b[0m 1ms/step - loss: 0.0272 - mae: 0.1101 - val_loss: 0.0252 - val_mae: 0.1013\n",
      "Epoch 13/100\n",
      "\u001b[1m270/270\u001b[0m \u001b[32m━━━━━━━━━━━━━━━━━━━━\u001b[0m\u001b[37m\u001b[0m \u001b[1m0s\u001b[0m 1ms/step - loss: 0.0271 - mae: 0.1105 - val_loss: 0.0249 - val_mae: 0.1007\n",
      "Epoch 14/100\n",
      "\u001b[1m270/270\u001b[0m \u001b[32m━━━━━━━━━━━━━━━━━━━━\u001b[0m\u001b[37m\u001b[0m \u001b[1m0s\u001b[0m 1ms/step - loss: 0.0269 - mae: 0.1099 - val_loss: 0.0249 - val_mae: 0.1010\n",
      "Epoch 15/100\n",
      "\u001b[1m270/270\u001b[0m \u001b[32m━━━━━━━━━━━━━━━━━━━━\u001b[0m\u001b[37m\u001b[0m \u001b[1m0s\u001b[0m 1ms/step - loss: 0.0267 - mae: 0.1090 - val_loss: 0.0250 - val_mae: 0.1027\n",
      "Epoch 16/100\n",
      "\u001b[1m270/270\u001b[0m \u001b[32m━━━━━━━━━━━━━━━━━━━━\u001b[0m\u001b[37m\u001b[0m \u001b[1m0s\u001b[0m 2ms/step - loss: 0.0268 - mae: 0.1094 - val_loss: 0.0248 - val_mae: 0.0989\n",
      "Epoch 17/100\n",
      "\u001b[1m270/270\u001b[0m \u001b[32m━━━━━━━━━━━━━━━━━━━━\u001b[0m\u001b[37m\u001b[0m \u001b[1m0s\u001b[0m 2ms/step - loss: 0.0266 - mae: 0.1095 - val_loss: 0.0242 - val_mae: 0.0988\n",
      "Epoch 18/100\n",
      "\u001b[1m270/270\u001b[0m \u001b[32m━━━━━━━━━━━━━━━━━━━━\u001b[0m\u001b[37m\u001b[0m \u001b[1m0s\u001b[0m 2ms/step - loss: 0.0269 - mae: 0.1109 - val_loss: 0.0244 - val_mae: 0.1011\n",
      "Epoch 19/100\n",
      "\u001b[1m270/270\u001b[0m \u001b[32m━━━━━━━━━━━━━━━━━━━━\u001b[0m\u001b[37m\u001b[0m \u001b[1m0s\u001b[0m 1ms/step - loss: 0.0259 - mae: 0.1084 - val_loss: 0.0239 - val_mae: 0.0980\n",
      "Epoch 20/100\n",
      "\u001b[1m270/270\u001b[0m \u001b[32m━━━━━━━━━━━━━━━━━━━━\u001b[0m\u001b[37m\u001b[0m \u001b[1m0s\u001b[0m 2ms/step - loss: 0.0259 - mae: 0.1081 - val_loss: 0.0239 - val_mae: 0.0996\n",
      "Epoch 21/100\n",
      "\u001b[1m270/270\u001b[0m \u001b[32m━━━━━━━━━━━━━━━━━━━━\u001b[0m\u001b[37m\u001b[0m \u001b[1m0s\u001b[0m 1ms/step - loss: 0.0260 - mae: 0.1095 - val_loss: 0.0242 - val_mae: 0.0983\n",
      "Epoch 22/100\n",
      "\u001b[1m270/270\u001b[0m \u001b[32m━━━━━━━━━━━━━━━━━━━━\u001b[0m\u001b[37m\u001b[0m \u001b[1m0s\u001b[0m 2ms/step - loss: 0.0254 - mae: 0.1068 - val_loss: 0.0238 - val_mae: 0.0979\n",
      "Epoch 23/100\n",
      "\u001b[1m270/270\u001b[0m \u001b[32m━━━━━━━━━━━━━━━━━━━━\u001b[0m\u001b[37m\u001b[0m \u001b[1m0s\u001b[0m 1ms/step - loss: 0.0259 - mae: 0.1086 - val_loss: 0.0238 - val_mae: 0.1008\n",
      "Epoch 24/100\n",
      "\u001b[1m270/270\u001b[0m \u001b[32m━━━━━━━━━━━━━━━━━━━━\u001b[0m\u001b[37m\u001b[0m \u001b[1m0s\u001b[0m 1ms/step - loss: 0.0261 - mae: 0.1089 - val_loss: 0.0238 - val_mae: 0.1002\n",
      "Epoch 25/100\n",
      "\u001b[1m270/270\u001b[0m \u001b[32m━━━━━━━━━━━━━━━━━━━━\u001b[0m\u001b[37m\u001b[0m \u001b[1m0s\u001b[0m 2ms/step - loss: 0.0250 - mae: 0.1060 - val_loss: 0.0236 - val_mae: 0.1048\n",
      "Epoch 26/100\n",
      "\u001b[1m270/270\u001b[0m \u001b[32m━━━━━━━━━━━━━━━━━━━━\u001b[0m\u001b[37m\u001b[0m \u001b[1m0s\u001b[0m 1ms/step - loss: 0.0248 - mae: 0.1064 - val_loss: 0.0235 - val_mae: 0.0997\n",
      "Epoch 27/100\n",
      "\u001b[1m270/270\u001b[0m \u001b[32m━━━━━━━━━━━━━━━━━━━━\u001b[0m\u001b[37m\u001b[0m \u001b[1m0s\u001b[0m 2ms/step - loss: 0.0248 - mae: 0.1052 - val_loss: 0.0233 - val_mae: 0.0995\n",
      "Epoch 28/100\n",
      "\u001b[1m270/270\u001b[0m \u001b[32m━━━━━━━━━━━━━━━━━━━━\u001b[0m\u001b[37m\u001b[0m \u001b[1m0s\u001b[0m 2ms/step - loss: 0.0250 - mae: 0.1066 - val_loss: 0.0236 - val_mae: 0.1050\n",
      "Epoch 29/100\n",
      "\u001b[1m270/270\u001b[0m \u001b[32m━━━━━━━━━━━━━━━━━━━━\u001b[0m\u001b[37m\u001b[0m \u001b[1m0s\u001b[0m 1ms/step - loss: 0.0252 - mae: 0.1069 - val_loss: 0.0235 - val_mae: 0.1009\n",
      "Epoch 30/100\n",
      "\u001b[1m270/270\u001b[0m \u001b[32m━━━━━━━━━━━━━━━━━━━━\u001b[0m\u001b[37m\u001b[0m \u001b[1m0s\u001b[0m 1ms/step - loss: 0.0248 - mae: 0.1067 - val_loss: 0.0232 - val_mae: 0.0967\n",
      "Epoch 31/100\n",
      "\u001b[1m270/270\u001b[0m \u001b[32m━━━━━━━━━━━━━━━━━━━━\u001b[0m\u001b[37m\u001b[0m \u001b[1m0s\u001b[0m 1ms/step - loss: 0.0254 - mae: 0.1073 - val_loss: 0.0235 - val_mae: 0.0992\n",
      "Epoch 32/100\n",
      "\u001b[1m270/270\u001b[0m \u001b[32m━━━━━━━━━━━━━━━━━━━━\u001b[0m\u001b[37m\u001b[0m \u001b[1m0s\u001b[0m 1ms/step - loss: 0.0258 - mae: 0.1082 - val_loss: 0.0229 - val_mae: 0.0974\n",
      "Epoch 33/100\n",
      "\u001b[1m270/270\u001b[0m \u001b[32m━━━━━━━━━━━━━━━━━━━━\u001b[0m\u001b[37m\u001b[0m \u001b[1m0s\u001b[0m 2ms/step - loss: 0.0244 - mae: 0.1051 - val_loss: 0.0229 - val_mae: 0.1027\n",
      "Epoch 34/100\n",
      "\u001b[1m270/270\u001b[0m \u001b[32m━━━━━━━━━━━━━━━━━━━━\u001b[0m\u001b[37m\u001b[0m \u001b[1m1s\u001b[0m 2ms/step - loss: 0.0247 - mae: 0.1051 - val_loss: 0.0224 - val_mae: 0.0940\n",
      "Epoch 35/100\n",
      "\u001b[1m270/270\u001b[0m \u001b[32m━━━━━━━━━━━━━━━━━━━━\u001b[0m\u001b[37m\u001b[0m \u001b[1m0s\u001b[0m 2ms/step - loss: 0.0242 - mae: 0.1035 - val_loss: 0.0226 - val_mae: 0.0952\n",
      "Epoch 36/100\n",
      "\u001b[1m270/270\u001b[0m \u001b[32m━━━━━━━━━━━━━━━━━━━━\u001b[0m\u001b[37m\u001b[0m \u001b[1m0s\u001b[0m 2ms/step - loss: 0.0253 - mae: 0.1077 - val_loss: 0.0228 - val_mae: 0.0962\n",
      "Epoch 37/100\n",
      "\u001b[1m270/270\u001b[0m \u001b[32m━━━━━━━━━━━━━━━━━━━━\u001b[0m\u001b[37m\u001b[0m \u001b[1m0s\u001b[0m 1ms/step - loss: 0.0244 - mae: 0.1042 - val_loss: 0.0226 - val_mae: 0.0978\n",
      "Epoch 38/100\n",
      "\u001b[1m270/270\u001b[0m \u001b[32m━━━━━━━━━━━━━━━━━━━━\u001b[0m\u001b[37m\u001b[0m \u001b[1m0s\u001b[0m 1ms/step - loss: 0.0249 - mae: 0.1064 - val_loss: 0.0230 - val_mae: 0.1028\n",
      "Epoch 39/100\n",
      "\u001b[1m270/270\u001b[0m \u001b[32m━━━━━━━━━━━━━━━━━━━━\u001b[0m\u001b[37m\u001b[0m \u001b[1m0s\u001b[0m 1ms/step - loss: 0.0245 - mae: 0.1063 - val_loss: 0.0223 - val_mae: 0.0967\n",
      "Epoch 40/100\n",
      "\u001b[1m270/270\u001b[0m \u001b[32m━━━━━━━━━━━━━━━━━━━━\u001b[0m\u001b[37m\u001b[0m \u001b[1m0s\u001b[0m 1ms/step - loss: 0.0243 - mae: 0.1044 - val_loss: 0.0225 - val_mae: 0.0963\n",
      "Epoch 41/100\n",
      "\u001b[1m270/270\u001b[0m \u001b[32m━━━━━━━━━━━━━━━━━━━━\u001b[0m\u001b[37m\u001b[0m \u001b[1m0s\u001b[0m 1ms/step - loss: 0.0253 - mae: 0.1074 - val_loss: 0.0222 - val_mae: 0.0954\n",
      "Epoch 42/100\n",
      "\u001b[1m270/270\u001b[0m \u001b[32m━━━━━━━━━━━━━━━━━━━━\u001b[0m\u001b[37m\u001b[0m \u001b[1m0s\u001b[0m 1ms/step - loss: 0.0244 - mae: 0.1047 - val_loss: 0.0223 - val_mae: 0.0957\n",
      "Epoch 43/100\n",
      "\u001b[1m270/270\u001b[0m \u001b[32m━━━━━━━━━━━━━━━━━━━━\u001b[0m\u001b[37m\u001b[0m \u001b[1m0s\u001b[0m 1ms/step - loss: 0.0246 - mae: 0.1048 - val_loss: 0.0221 - val_mae: 0.0952\n",
      "Epoch 44/100\n",
      "\u001b[1m270/270\u001b[0m \u001b[32m━━━━━━━━━━━━━━━━━━━━\u001b[0m\u001b[37m\u001b[0m \u001b[1m0s\u001b[0m 1ms/step - loss: 0.0239 - mae: 0.1040 - val_loss: 0.0220 - val_mae: 0.0943\n",
      "Epoch 45/100\n",
      "\u001b[1m270/270\u001b[0m \u001b[32m━━━━━━━━━━━━━━━━━━━━\u001b[0m\u001b[37m\u001b[0m \u001b[1m0s\u001b[0m 2ms/step - loss: 0.0240 - mae: 0.1041 - val_loss: 0.0219 - val_mae: 0.0947\n",
      "Epoch 46/100\n",
      "\u001b[1m270/270\u001b[0m \u001b[32m━━━━━━━━━━━━━━━━━━━━\u001b[0m\u001b[37m\u001b[0m \u001b[1m0s\u001b[0m 1ms/step - loss: 0.0243 - mae: 0.1049 - val_loss: 0.0219 - val_mae: 0.0955\n",
      "Epoch 47/100\n",
      "\u001b[1m270/270\u001b[0m \u001b[32m━━━━━━━━━━━━━━━━━━━━\u001b[0m\u001b[37m\u001b[0m \u001b[1m0s\u001b[0m 2ms/step - loss: 0.0231 - mae: 0.1020 - val_loss: 0.0220 - val_mae: 0.0914\n",
      "Epoch 48/100\n",
      "\u001b[1m270/270\u001b[0m \u001b[32m━━━━━━━━━━━━━━━━━━━━\u001b[0m\u001b[37m\u001b[0m \u001b[1m0s\u001b[0m 1ms/step - loss: 0.0239 - mae: 0.1033 - val_loss: 0.0220 - val_mae: 0.0946\n",
      "Epoch 49/100\n",
      "\u001b[1m270/270\u001b[0m \u001b[32m━━━━━━━━━━━━━━━━━━━━\u001b[0m\u001b[37m\u001b[0m \u001b[1m0s\u001b[0m 2ms/step - loss: 0.0233 - mae: 0.1031 - val_loss: 0.0215 - val_mae: 0.0951\n",
      "Epoch 50/100\n",
      "\u001b[1m270/270\u001b[0m \u001b[32m━━━━━━━━━━━━━━━━━━━━\u001b[0m\u001b[37m\u001b[0m \u001b[1m0s\u001b[0m 2ms/step - loss: 0.0238 - mae: 0.1035 - val_loss: 0.0220 - val_mae: 0.0994\n",
      "Epoch 51/100\n",
      "\u001b[1m270/270\u001b[0m \u001b[32m━━━━━━━━━━━━━━━━━━━━\u001b[0m\u001b[37m\u001b[0m \u001b[1m0s\u001b[0m 2ms/step - loss: 0.0243 - mae: 0.1051 - val_loss: 0.0219 - val_mae: 0.0959\n",
      "Epoch 52/100\n",
      "\u001b[1m270/270\u001b[0m \u001b[32m━━━━━━━━━━━━━━━━━━━━\u001b[0m\u001b[37m\u001b[0m \u001b[1m0s\u001b[0m 2ms/step - loss: 0.0239 - mae: 0.1032 - val_loss: 0.0219 - val_mae: 0.0949\n",
      "Epoch 53/100\n",
      "\u001b[1m270/270\u001b[0m \u001b[32m━━━━━━━━━━━━━━━━━━━━\u001b[0m\u001b[37m\u001b[0m \u001b[1m0s\u001b[0m 2ms/step - loss: 0.0236 - mae: 0.1026 - val_loss: 0.0220 - val_mae: 0.0958\n",
      "Epoch 54/100\n",
      "\u001b[1m270/270\u001b[0m \u001b[32m━━━━━━━━━━━━━━━━━━━━\u001b[0m\u001b[37m\u001b[0m \u001b[1m1s\u001b[0m 2ms/step - loss: 0.0243 - mae: 0.1050 - val_loss: 0.0217 - val_mae: 0.0942\n",
      "Epoch 55/100\n",
      "\u001b[1m270/270\u001b[0m \u001b[32m━━━━━━━━━━━━━━━━━━━━\u001b[0m\u001b[37m\u001b[0m \u001b[1m0s\u001b[0m 2ms/step - loss: 0.0244 - mae: 0.1052 - val_loss: 0.0220 - val_mae: 0.0989\n",
      "Epoch 56/100\n",
      "\u001b[1m270/270\u001b[0m \u001b[32m━━━━━━━━━━━━━━━━━━━━\u001b[0m\u001b[37m\u001b[0m \u001b[1m0s\u001b[0m 1ms/step - loss: 0.0231 - mae: 0.1016 - val_loss: 0.0227 - val_mae: 0.0985\n",
      "Epoch 57/100\n",
      "\u001b[1m270/270\u001b[0m \u001b[32m━━━━━━━━━━━━━━━━━━━━\u001b[0m\u001b[37m\u001b[0m \u001b[1m1s\u001b[0m 2ms/step - loss: 0.0241 - mae: 0.1045 - val_loss: 0.0216 - val_mae: 0.0918\n",
      "Epoch 58/100\n",
      "\u001b[1m270/270\u001b[0m \u001b[32m━━━━━━━━━━━━━━━━━━━━\u001b[0m\u001b[37m\u001b[0m \u001b[1m0s\u001b[0m 2ms/step - loss: 0.0238 - mae: 0.1039 - val_loss: 0.0218 - val_mae: 0.0931\n",
      "Epoch 59/100\n",
      "\u001b[1m270/270\u001b[0m \u001b[32m━━━━━━━━━━━━━━━━━━━━\u001b[0m\u001b[37m\u001b[0m \u001b[1m0s\u001b[0m 1ms/step - loss: 0.0240 - mae: 0.1040 - val_loss: 0.0219 - val_mae: 0.0933\n",
      "Epoch 60/100\n",
      "\u001b[1m270/270\u001b[0m \u001b[32m━━━━━━━━━━━━━━━━━━━━\u001b[0m\u001b[37m\u001b[0m \u001b[1m0s\u001b[0m 2ms/step - loss: 0.0235 - mae: 0.1023 - val_loss: 0.0219 - val_mae: 0.0939\n",
      "Epoch 61/100\n",
      "\u001b[1m270/270\u001b[0m \u001b[32m━━━━━━━━━━━━━━━━━━━━\u001b[0m\u001b[37m\u001b[0m \u001b[1m0s\u001b[0m 2ms/step - loss: 0.0235 - mae: 0.1014 - val_loss: 0.0213 - val_mae: 0.0933\n",
      "Epoch 62/100\n",
      "\u001b[1m270/270\u001b[0m \u001b[32m━━━━━━━━━━━━━━━━━━━━\u001b[0m\u001b[37m\u001b[0m \u001b[1m0s\u001b[0m 1ms/step - loss: 0.0242 - mae: 0.1042 - val_loss: 0.0227 - val_mae: 0.0981\n",
      "Epoch 63/100\n",
      "\u001b[1m270/270\u001b[0m \u001b[32m━━━━━━━━━━━━━━━━━━━━\u001b[0m\u001b[37m\u001b[0m \u001b[1m1s\u001b[0m 2ms/step - loss: 0.0239 - mae: 0.1046 - val_loss: 0.0222 - val_mae: 0.0977\n",
      "Epoch 64/100\n",
      "\u001b[1m270/270\u001b[0m \u001b[32m━━━━━━━━━━━━━━━━━━━━\u001b[0m\u001b[37m\u001b[0m \u001b[1m0s\u001b[0m 2ms/step - loss: 0.0236 - mae: 0.1028 - val_loss: 0.0213 - val_mae: 0.0956\n",
      "Epoch 65/100\n",
      "\u001b[1m270/270\u001b[0m \u001b[32m━━━━━━━━━━━━━━━━━━━━\u001b[0m\u001b[37m\u001b[0m \u001b[1m0s\u001b[0m 2ms/step - loss: 0.0234 - mae: 0.1026 - val_loss: 0.0219 - val_mae: 0.0955\n",
      "Epoch 66/100\n",
      "\u001b[1m270/270\u001b[0m \u001b[32m━━━━━━━━━━━━━━━━━━━━\u001b[0m\u001b[37m\u001b[0m \u001b[1m0s\u001b[0m 1ms/step - loss: 0.0241 - mae: 0.1042 - val_loss: 0.0218 - val_mae: 0.0934\n",
      "Epoch 67/100\n",
      "\u001b[1m270/270\u001b[0m \u001b[32m━━━━━━━━━━━━━━━━━━━━\u001b[0m\u001b[37m\u001b[0m \u001b[1m0s\u001b[0m 2ms/step - loss: 0.0239 - mae: 0.1037 - val_loss: 0.0216 - val_mae: 0.0981\n",
      "Epoch 68/100\n",
      "\u001b[1m270/270\u001b[0m \u001b[32m━━━━━━━━━━━━━━━━━━━━\u001b[0m\u001b[37m\u001b[0m \u001b[1m0s\u001b[0m 2ms/step - loss: 0.0225 - mae: 0.1011 - val_loss: 0.0211 - val_mae: 0.0924\n",
      "Epoch 69/100\n",
      "\u001b[1m270/270\u001b[0m \u001b[32m━━━━━━━━━━━━━━━━━━━━\u001b[0m\u001b[37m\u001b[0m \u001b[1m0s\u001b[0m 2ms/step - loss: 0.0235 - mae: 0.1027 - val_loss: 0.0214 - val_mae: 0.0940\n",
      "Epoch 70/100\n",
      "\u001b[1m270/270\u001b[0m \u001b[32m━━━━━━━━━━━━━━━━━━━━\u001b[0m\u001b[37m\u001b[0m \u001b[1m0s\u001b[0m 1ms/step - loss: 0.0239 - mae: 0.1030 - val_loss: 0.0215 - val_mae: 0.0950\n",
      "Epoch 71/100\n",
      "\u001b[1m270/270\u001b[0m \u001b[32m━━━━━━━━━━━━━━━━━━━━\u001b[0m\u001b[37m\u001b[0m \u001b[1m1s\u001b[0m 2ms/step - loss: 0.0228 - mae: 0.1001 - val_loss: 0.0217 - val_mae: 0.0971\n",
      "Epoch 72/100\n",
      "\u001b[1m270/270\u001b[0m \u001b[32m━━━━━━━━━━━━━━━━━━━━\u001b[0m\u001b[37m\u001b[0m \u001b[1m0s\u001b[0m 2ms/step - loss: 0.0231 - mae: 0.1026 - val_loss: 0.0210 - val_mae: 0.0919\n",
      "Epoch 73/100\n",
      "\u001b[1m270/270\u001b[0m \u001b[32m━━━━━━━━━━━━━━━━━━━━\u001b[0m\u001b[37m\u001b[0m \u001b[1m0s\u001b[0m 2ms/step - loss: 0.0253 - mae: 0.1072 - val_loss: 0.0215 - val_mae: 0.0935\n",
      "Epoch 74/100\n",
      "\u001b[1m270/270\u001b[0m \u001b[32m━━━━━━━━━━━━━━━━━━━━\u001b[0m\u001b[37m\u001b[0m \u001b[1m1s\u001b[0m 2ms/step - loss: 0.0234 - mae: 0.1024 - val_loss: 0.0212 - val_mae: 0.0951\n",
      "Epoch 75/100\n",
      "\u001b[1m270/270\u001b[0m \u001b[32m━━━━━━━━━━━━━━━━━━━━\u001b[0m\u001b[37m\u001b[0m \u001b[1m0s\u001b[0m 2ms/step - loss: 0.0229 - mae: 0.1015 - val_loss: 0.0212 - val_mae: 0.0919\n",
      "Epoch 76/100\n",
      "\u001b[1m270/270\u001b[0m \u001b[32m━━━━━━━━━━━━━━━━━━━━\u001b[0m\u001b[37m\u001b[0m \u001b[1m0s\u001b[0m 2ms/step - loss: 0.0239 - mae: 0.1038 - val_loss: 0.0211 - val_mae: 0.0958\n",
      "Epoch 77/100\n",
      "\u001b[1m270/270\u001b[0m \u001b[32m━━━━━━━━━━━━━━━━━━━━\u001b[0m\u001b[37m\u001b[0m \u001b[1m0s\u001b[0m 1ms/step - loss: 0.0236 - mae: 0.1038 - val_loss: 0.0210 - val_mae: 0.0901\n",
      "Epoch 78/100\n",
      "\u001b[1m270/270\u001b[0m \u001b[32m━━━━━━━━━━━━━━━━━━━━\u001b[0m\u001b[37m\u001b[0m \u001b[1m0s\u001b[0m 2ms/step - loss: 0.0224 - mae: 0.0989 - val_loss: 0.0211 - val_mae: 0.0931\n",
      "Epoch 79/100\n",
      "\u001b[1m270/270\u001b[0m \u001b[32m━━━━━━━━━━━━━━━━━━━━\u001b[0m\u001b[37m\u001b[0m \u001b[1m0s\u001b[0m 1ms/step - loss: 0.0237 - mae: 0.1030 - val_loss: 0.0209 - val_mae: 0.0916\n",
      "Epoch 80/100\n",
      "\u001b[1m270/270\u001b[0m \u001b[32m━━━━━━━━━━━━━━━━━━━━\u001b[0m\u001b[37m\u001b[0m \u001b[1m0s\u001b[0m 2ms/step - loss: 0.0233 - mae: 0.1008 - val_loss: 0.0214 - val_mae: 0.0990\n",
      "Epoch 81/100\n",
      "\u001b[1m270/270\u001b[0m \u001b[32m━━━━━━━━━━━━━━━━━━━━\u001b[0m\u001b[37m\u001b[0m \u001b[1m0s\u001b[0m 1ms/step - loss: 0.0230 - mae: 0.1010 - val_loss: 0.0208 - val_mae: 0.0914\n",
      "Epoch 82/100\n",
      "\u001b[1m270/270\u001b[0m \u001b[32m━━━━━━━━━━━━━━━━━━━━\u001b[0m\u001b[37m\u001b[0m \u001b[1m0s\u001b[0m 2ms/step - loss: 0.0236 - mae: 0.1026 - val_loss: 0.0208 - val_mae: 0.0911\n",
      "Epoch 83/100\n",
      "\u001b[1m270/270\u001b[0m \u001b[32m━━━━━━━━━━━━━━━━━━━━\u001b[0m\u001b[37m\u001b[0m \u001b[1m0s\u001b[0m 2ms/step - loss: 0.0224 - mae: 0.0991 - val_loss: 0.0212 - val_mae: 0.0928\n",
      "Epoch 84/100\n",
      "\u001b[1m270/270\u001b[0m \u001b[32m━━━━━━━━━━━━━━━━━━━━\u001b[0m\u001b[37m\u001b[0m \u001b[1m0s\u001b[0m 2ms/step - loss: 0.0221 - mae: 0.0985 - val_loss: 0.0224 - val_mae: 0.0992\n",
      "Epoch 85/100\n",
      "\u001b[1m270/270\u001b[0m \u001b[32m━━━━━━━━━━━━━━━━━━━━\u001b[0m\u001b[37m\u001b[0m \u001b[1m0s\u001b[0m 2ms/step - loss: 0.0238 - mae: 0.1027 - val_loss: 0.0213 - val_mae: 0.0924\n",
      "Epoch 86/100\n",
      "\u001b[1m270/270\u001b[0m \u001b[32m━━━━━━━━━━━━━━━━━━━━\u001b[0m\u001b[37m\u001b[0m \u001b[1m0s\u001b[0m 2ms/step - loss: 0.0230 - mae: 0.1006 - val_loss: 0.0208 - val_mae: 0.0922\n",
      "Epoch 87/100\n",
      "\u001b[1m270/270\u001b[0m \u001b[32m━━━━━━━━━━━━━━━━━━━━\u001b[0m\u001b[37m\u001b[0m \u001b[1m0s\u001b[0m 2ms/step - loss: 0.0229 - mae: 0.1008 - val_loss: 0.0209 - val_mae: 0.0904\n",
      "Epoch 88/100\n",
      "\u001b[1m270/270\u001b[0m \u001b[32m━━━━━━━━━━━━━━━━━━━━\u001b[0m\u001b[37m\u001b[0m \u001b[1m0s\u001b[0m 1ms/step - loss: 0.0239 - mae: 0.1041 - val_loss: 0.0211 - val_mae: 0.0920\n",
      "Epoch 89/100\n",
      "\u001b[1m270/270\u001b[0m \u001b[32m━━━━━━━━━━━━━━━━━━━━\u001b[0m\u001b[37m\u001b[0m \u001b[1m0s\u001b[0m 2ms/step - loss: 0.0230 - mae: 0.1010 - val_loss: 0.0223 - val_mae: 0.1062\n",
      "Epoch 90/100\n",
      "\u001b[1m270/270\u001b[0m \u001b[32m━━━━━━━━━━━━━━━━━━━━\u001b[0m\u001b[37m\u001b[0m \u001b[1m1s\u001b[0m 2ms/step - loss: 0.0239 - mae: 0.1051 - val_loss: 0.0224 - val_mae: 0.0985\n",
      "Epoch 91/100\n",
      "\u001b[1m270/270\u001b[0m \u001b[32m━━━━━━━━━━━━━━━━━━━━\u001b[0m\u001b[37m\u001b[0m \u001b[1m0s\u001b[0m 2ms/step - loss: 0.0229 - mae: 0.1008 - val_loss: 0.0211 - val_mae: 0.0939\n",
      "Epoch 92/100\n",
      "\u001b[1m270/270\u001b[0m \u001b[32m━━━━━━━━━━━━━━━━━━━━\u001b[0m\u001b[37m\u001b[0m \u001b[1m1s\u001b[0m 2ms/step - loss: 0.0224 - mae: 0.0996 - val_loss: 0.0209 - val_mae: 0.0928\n",
      "Epoch 93/100\n",
      "\u001b[1m270/270\u001b[0m \u001b[32m━━━━━━━━━━━━━━━━━━━━\u001b[0m\u001b[37m\u001b[0m \u001b[1m0s\u001b[0m 2ms/step - loss: 0.0240 - mae: 0.1040 - val_loss: 0.0210 - val_mae: 0.0914\n",
      "Epoch 94/100\n",
      "\u001b[1m270/270\u001b[0m \u001b[32m━━━━━━━━━━━━━━━━━━━━\u001b[0m\u001b[37m\u001b[0m \u001b[1m0s\u001b[0m 1ms/step - loss: 0.0236 - mae: 0.1026 - val_loss: 0.0210 - val_mae: 0.0909\n",
      "Epoch 95/100\n",
      "\u001b[1m270/270\u001b[0m \u001b[32m━━━━━━━━━━━━━━━━━━━━\u001b[0m\u001b[37m\u001b[0m \u001b[1m0s\u001b[0m 2ms/step - loss: 0.0235 - mae: 0.1024 - val_loss: 0.0212 - val_mae: 0.0931\n",
      "Epoch 96/100\n",
      "\u001b[1m270/270\u001b[0m \u001b[32m━━━━━━━━━━━━━━━━━━━━\u001b[0m\u001b[37m\u001b[0m \u001b[1m0s\u001b[0m 1ms/step - loss: 0.0232 - mae: 0.1019 - val_loss: 0.0213 - val_mae: 0.0957\n",
      "Epoch 97/100\n",
      "\u001b[1m270/270\u001b[0m \u001b[32m━━━━━━━━━━━━━━━━━━━━\u001b[0m\u001b[37m\u001b[0m \u001b[1m0s\u001b[0m 2ms/step - loss: 0.0234 - mae: 0.1029 - val_loss: 0.0214 - val_mae: 0.0955\n",
      "Epoch 98/100\n",
      "\u001b[1m270/270\u001b[0m \u001b[32m━━━━━━━━━━━━━━━━━━━━\u001b[0m\u001b[37m\u001b[0m \u001b[1m0s\u001b[0m 2ms/step - loss: 0.0226 - mae: 0.1010 - val_loss: 0.0214 - val_mae: 0.0942\n",
      "Epoch 99/100\n",
      "\u001b[1m270/270\u001b[0m \u001b[32m━━━━━━━━━━━━━━━━━━━━\u001b[0m\u001b[37m\u001b[0m \u001b[1m0s\u001b[0m 2ms/step - loss: 0.0232 - mae: 0.1025 - val_loss: 0.0212 - val_mae: 0.0926\n",
      "Epoch 100/100\n",
      "\u001b[1m270/270\u001b[0m \u001b[32m━━━━━━━━━━━━━━━━━━━━\u001b[0m\u001b[37m\u001b[0m \u001b[1m0s\u001b[0m 1ms/step - loss: 0.0226 - mae: 0.0996 - val_loss: 0.0217 - val_mae: 0.0956\n",
      "\u001b[1m68/68\u001b[0m \u001b[32m━━━━━━━━━━━━━━━━━━━━\u001b[0m\u001b[37m\u001b[0m \u001b[1m0s\u001b[0m 1ms/step  \n"
     ]
    },
    {
     "data": {
      "image/png": "[encoded data removed]",
      "text/plain": [
       "<Figure size 640x480 with 1 Axes>"
      ]
     },
     "metadata": {},
     "output_type": "display_data"
    },
    {
     "data": {
      "image/png": "[encoded data removed]",
      "text/plain": [
       "<Figure size 640x480 with 1 Axes>"
      ]
     },
     "metadata": {},
     "output_type": "display_data"
    },
    {
     "name": "stdout",
     "output_type": "stream",
     "text": [
      "\u001b[1m68/68\u001b[0m \u001b[32m━━━━━━━━━━━━━━━━━━━━\u001b[0m\u001b[37m\u001b[0m \u001b[1m0s\u001b[0m 1ms/step - loss: 0.0219 - mae: 0.0959\n",
      "MSE:  0.021650442853569984\n",
      "MAE: 0.09564553946256638\n"
     ]
    },
    {
     "data": {
      "application/vnd.microsoft.datawrangler.viewer.v0+json": {
       "columns": [
        {
         "name": "SongID",
         "rawType": "object",
         "type": "string"
        },
        {
         "name": "Original Test",
         "rawType": "float64",
         "type": "float"
        },
        {
         "name": "Prediction Test",
         "rawType": "float32",
         "type": "float"
        },
        {
         "name": "Original over Thrashold",
         "rawType": "bool",
         "type": "boolean"
        },
        {
         "name": "Predicted over Thrashold",
         "rawType": "bool",
         "type": "boolean"
        }
       ],
       "conversionMethod": "pd.DataFrame",
       "ref": "a5359224-0900-4399-b025-003b9f52741c",
       "rows": [
        [
         "The Court RoomClarence Carter",
         "0.69",
         "0.71458143",
         "False",
         "True"
        ],
        [
         "We Fell In Love While DancingBill Brandon",
         "0.8549999999999999",
         "0.7067559",
         "True",
         "True"
        ],
        [
         "Forever My LadyJodeci",
         "0.771",
         "0.68938476",
         "True",
         "False"
        ],
        [
         "Isn't It Lonely TogetherRobert Knight",
         "0.69",
         "0.71458143",
         "False",
         "True"
        ],
        [
         "Roll UpWiz Khalifa",
         "0.6019999999999999",
         "0.48821545",
         "False",
         "False"
        ],
        [
         "Universal Heart-BeatJuliana Hatfield",
         "0.58",
         "0.6014873",
         "False",
         "False"
        ],
        [
         "Funky President (People It's Bad)/ColdbloodedJames Brown",
         "0.65",
         "0.65508795",
         "False",
         "False"
        ],
        [
         "Hello Mudduh, Hello Fadduh! (A Letter From Camp) (New 1964 Version)Allan Sherman",
         "0.63",
         "0.64787984",
         "False",
         "False"
        ],
        [
         "Yes (From The Motion Picture \"Dirty Dancing\")Merry Clayton",
         "0.69",
         "0.71458143",
         "False",
         "True"
        ],
        [
         "Crystal ChandelierVic Dana",
         "0.637",
         "0.69417155",
         "False",
         "False"
        ],
        [
         "Walking On AirKaty Perry",
         "0.821",
         "0.71312356",
         "True",
         "True"
        ],
        [
         "Take Me To HeartQuarterflash",
         "0.639",
         "0.7906777",
         "False",
         "True"
        ],
        [
         "A Little RespectErasure",
         "0.5949999999999999",
         "0.71760017",
         "False",
         "True"
        ],
        [
         "Boys Do Fall In LoveRobin Gibb",
         "0.881",
         "0.8632716",
         "True",
         "True"
        ],
        [
         "The Yard Went On ForeverRichard Harris",
         "0.63",
         "0.64787984",
         "False",
         "False"
        ],
        [
         "Catch Me (I'm Falling) (From The Film \"Hiding Out\")Pretty Poison",
         "0.63",
         "0.64787984",
         "False",
         "False"
        ],
        [
         "(Everything I Do) I Do It For YouBryan Adams",
         "0.2979999999999999",
         "0.35986596",
         "False",
         "False"
        ],
        [
         "Shut Up And DanceWALK THE MOON",
         "0.6189999999999999",
         "0.62486917",
         "False",
         "False"
        ],
        [
         "Don't Read The LetterPatti Page",
         "0.58",
         "0.6014873",
         "False",
         "False"
        ],
        [
         "We Close Our EyesGo West",
         "0.912",
         "0.7993275",
         "True",
         "True"
        ],
        [
         "SupernatureCerrone",
         "0.967",
         "0.8017036",
         "True",
         "True"
        ],
        [
         "SupermanCeli Bee & The Buzzy Bunch",
         "0.8349999999999999",
         "0.74914306",
         "True",
         "True"
        ],
        [
         "BodyLoud Luxury Featuring Brando",
         "0.5819999999999999",
         "0.76621675",
         "False",
         "True"
        ],
        [
         "Jam On ItNewcleus",
         "0.3459999999999999",
         "0.72984266",
         "False",
         "True"
        ],
        [
         "Red Roses For A Blue LadyBert Kaempfert And His Orchestra",
         "0.274",
         "0.6360884",
         "False",
         "False"
        ],
        [
         "ShakeShadows Of Knight",
         "0.62",
         "0.64684343",
         "False",
         "False"
        ],
        [
         "I'll Fall In Love AgainSammy Hagar",
         "0.775",
         "0.7394297",
         "True",
         "True"
        ],
        [
         "I Still Get JealousJoni James",
         "0.63",
         "0.64787984",
         "False",
         "False"
        ],
        [
         "Beauty Is Only Skin DeepThe Temptations",
         "0.759",
         "0.77417105",
         "True",
         "True"
        ],
        [
         "SugarMaroon 5",
         "0.884",
         "0.75333035",
         "True",
         "True"
        ],
        [
         "Cough SyrupYoung The Giant",
         "0.225",
         "0.54923975",
         "False",
         "False"
        ],
        [
         "Down The HallThe 4 Seasons",
         "0.82",
         "0.7226338",
         "True",
         "True"
        ],
        [
         "Tell HimThe Drew-Vels",
         "0.681",
         "0.59783304",
         "False",
         "False"
        ],
        [
         "L. David SloaneMichele Lee",
         "0.892",
         "0.841695",
         "True",
         "True"
        ],
        [
         "I'll Be Seeing YouTommy Sands",
         "0.0923",
         "0.3892875",
         "False",
         "False"
        ],
        [
         "What's The Matter Here?10,000 Maniacs",
         "0.44",
         "0.5070878",
         "False",
         "False"
        ],
        [
         "This Is My StoryMickey & Sylvia",
         "0.58",
         "0.6014873",
         "False",
         "False"
        ],
        [
         "Killer QueenQueen",
         "0.6039999999999999",
         "0.6441669",
         "False",
         "False"
        ],
        [
         "GirlfriendPebbles",
         "0.908",
         "0.8535426",
         "True",
         "True"
        ],
        [
         "(There'll Come A Day When) Ev'ry Little Bit HurtsBobby Vee",
         "0.58",
         "0.6014873",
         "False",
         "False"
        ],
        [
         "Look At Granny Run, RunHoward Tate",
         "0.927",
         "0.85574687",
         "True",
         "True"
        ],
        [
         "My PresidentYoung Jeezy Featuring Nas",
         "0.63",
         "0.64787984",
         "False",
         "False"
        ],
        [
         "Anniversary Of LoveThe Caslons",
         "0.922",
         "0.8086396",
         "True",
         "True"
        ],
        [
         "Knockin' Da BootsH-Town",
         "0.5819999999999999",
         "0.63102245",
         "False",
         "False"
        ],
        [
         "Kiss You All OverNo Mercy",
         "0.768",
         "0.7612389",
         "True",
         "True"
        ],
        [
         "The WaitingTom Petty And The Heartbreakers",
         "0.7229999999999999",
         "0.70176685",
         "True",
         "True"
        ],
        [
         "What Now My Love\"Groove\" Holmes",
         "0.58",
         "0.5689471",
         "False",
         "False"
        ],
        [
         "StopSpice Girls",
         "0.965",
         "0.77001554",
         "True",
         "True"
        ],
        [
         "Sunrise, SunsetRoger Williams",
         "0.63",
         "0.64787984",
         "False",
         "False"
        ],
        [
         "Let's Call It A Day GirlBobby Vee",
         "0.58",
         "0.6014873",
         "False",
         "False"
        ]
       ],
       "shape": {
        "columns": 4,
        "rows": 2154
       }
      },
      "text/html": [
       "<div>\n",
       "<style scoped>\n",
       "    .dataframe tbody tr th:only-of-type {\n",
       "        vertical-align: middle;\n",
       "    }\n",
       "\n",
       "    .dataframe tbody tr th {\n",
       "        vertical-align: top;\n",
       "    }\n",
       "\n",
       "    .dataframe thead th {\n",
       "        text-align: right;\n",
       "    }\n",
       "</style>\n",
       "<table border=\"1\" class=\"dataframe\">\n",
       "  <thead>\n",
       "    <tr style=\"text-align: right;\">\n",
       "      <th></th>\n",
       "      <th>Original Test</th>\n",
       "      <th>Prediction Test</th>\n",
       "      <th>Original over Thrashold</th>\n",
       "      <th>Predicted over Thrashold</th>\n",
       "    </tr>\n",
       "    <tr>\n",
       "      <th>SongID</th>\n",
       "      <th></th>\n",
       "      <th></th>\n",
       "      <th></th>\n",
       "      <th></th>\n",
       "    </tr>\n",
       "  </thead>\n",
       "  <tbody>\n",
       "    <tr>\n",
       "      <th>The Court RoomClarence Carter</th>\n",
       "      <td>0.690</td>\n",
       "      <td>0.714581</td>\n",
       "      <td>False</td>\n",
       "      <td>True</td>\n",
       "    </tr>\n",
       "    <tr>\n",
       "      <th>We Fell In Love While DancingBill Brandon</th>\n",
       "      <td>0.855</td>\n",
       "      <td>0.706756</td>\n",
       "      <td>True</td>\n",
       "      <td>True</td>\n",
       "    </tr>\n",
       "    <tr>\n",
       "      <th>Forever My LadyJodeci</th>\n",
       "      <td>0.771</td>\n",
       "      <td>0.689385</td>\n",
       "      <td>True</td>\n",
       "      <td>False</td>\n",
       "    </tr>\n",
       "    <tr>\n",
       "      <th>Isn't It Lonely TogetherRobert Knight</th>\n",
       "      <td>0.690</td>\n",
       "      <td>0.714581</td>\n",
       "      <td>False</td>\n",
       "      <td>True</td>\n",
       "    </tr>\n",
       "    <tr>\n",
       "      <th>Roll UpWiz Khalifa</th>\n",
       "      <td>0.602</td>\n",
       "      <td>0.488215</td>\n",
       "      <td>False</td>\n",
       "      <td>False</td>\n",
       "    </tr>\n",
       "    <tr>\n",
       "      <th>...</th>\n",
       "      <td>...</td>\n",
       "      <td>...</td>\n",
       "      <td>...</td>\n",
       "      <td>...</td>\n",
       "    </tr>\n",
       "    <tr>\n",
       "      <th>Shut UpAriana Grande</th>\n",
       "      <td>0.599</td>\n",
       "      <td>0.387701</td>\n",
       "      <td>False</td>\n",
       "      <td>False</td>\n",
       "    </tr>\n",
       "    <tr>\n",
       "      <th>Sugar Don't BiteSam Harris</th>\n",
       "      <td>0.975</td>\n",
       "      <td>0.860941</td>\n",
       "      <td>True</td>\n",
       "      <td>True</td>\n",
       "    </tr>\n",
       "    <tr>\n",
       "      <th>Oh, How I Miss You TonightJeanne Black</th>\n",
       "      <td>0.110</td>\n",
       "      <td>0.340437</td>\n",
       "      <td>False</td>\n",
       "      <td>False</td>\n",
       "    </tr>\n",
       "    <tr>\n",
       "      <th>Summertime, SummertimeNocera</th>\n",
       "      <td>0.876</td>\n",
       "      <td>0.749646</td>\n",
       "      <td>True</td>\n",
       "      <td>True</td>\n",
       "    </tr>\n",
       "    <tr>\n",
       "      <th>Melody For An Unknown GirlThe Unknowns</th>\n",
       "      <td>0.630</td>\n",
       "      <td>0.647880</td>\n",
       "      <td>False</td>\n",
       "      <td>False</td>\n",
       "    </tr>\n",
       "  </tbody>\n",
       "</table>\n",
       "<p>2154 rows × 4 columns</p>\n",
       "</div>"
      ],
      "text/plain": [
       "                                           Original Test  Prediction Test  \\\n",
       "SongID                                                                      \n",
       "The Court RoomClarence Carter                      0.690         0.714581   \n",
       "We Fell In Love While DancingBill Brandon          0.855         0.706756   \n",
       "Forever My LadyJodeci                              0.771         0.689385   \n",
       "Isn't It Lonely TogetherRobert Knight              0.690         0.714581   \n",
       "Roll UpWiz Khalifa                                 0.602         0.488215   \n",
       "...                                                  ...              ...   \n",
       "Shut UpAriana Grande                               0.599         0.387701   \n",
       "Sugar Don't BiteSam Harris                         0.975         0.860941   \n",
       "Oh, How I Miss You TonightJeanne Black             0.110         0.340437   \n",
       "Summertime, SummertimeNocera                       0.876         0.749646   \n",
       "Melody For An Unknown GirlThe Unknowns             0.630         0.647880   \n",
       "\n",
       "                                           Original over Thrashold  \\\n",
       "SongID                                                               \n",
       "The Court RoomClarence Carter                                False   \n",
       "We Fell In Love While DancingBill Brandon                     True   \n",
       "Forever My LadyJodeci                                         True   \n",
       "Isn't It Lonely TogetherRobert Knight                        False   \n",
       "Roll UpWiz Khalifa                                           False   \n",
       "...                                                            ...   \n",
       "Shut UpAriana Grande                                         False   \n",
       "Sugar Don't BiteSam Harris                                    True   \n",
       "Oh, How I Miss You TonightJeanne Black                       False   \n",
       "Summertime, SummertimeNocera                                  True   \n",
       "Melody For An Unknown GirlThe Unknowns                       False   \n",
       "\n",
       "                                           Predicted over Thrashold  \n",
       "SongID                                                               \n",
       "The Court RoomClarence Carter                                  True  \n",
       "We Fell In Love While DancingBill Brandon                      True  \n",
       "Forever My LadyJodeci                                         False  \n",
       "Isn't It Lonely TogetherRobert Knight                          True  \n",
       "Roll UpWiz Khalifa                                            False  \n",
       "...                                                             ...  \n",
       "Shut UpAriana Grande                                          False  \n",
       "Sugar Don't BiteSam Harris                                     True  \n",
       "Oh, How I Miss You TonightJeanne Black                        False  \n",
       "Summertime, SummertimeNocera                                   True  \n",
       "Melody For An Unknown GirlThe Unknowns                        False  \n",
       "\n",
       "[2154 rows x 4 columns]"
      ]
     },
     "metadata": {},
     "output_type": "display_data"
    },
    {
     "data": {
      "image/png": "[encoded data removed]",
      "text/plain": [
       "<Figure size 640x480 with 2 Axes>"
      ]
     },
     "metadata": {},
     "output_type": "display_data"
    },
    {
     "data": {
      "application/vnd.microsoft.datawrangler.viewer.v0+json": {
       "columns": [
        {
         "name": "index",
         "rawType": "int64",
         "type": "integer"
        },
        {
         "name": "Metric",
         "rawType": "object",
         "type": "string"
        },
        {
         "name": "Value",
         "rawType": "float64",
         "type": "float"
        }
       ],
       "conversionMethod": "pd.DataFrame",
       "ref": "e9546c2f-2587-46f8-b1b7-45f151cc9e9b",
       "rows": [
        [
         "0",
         "Accuracy",
         "0.79"
        ],
        [
         "1",
         "Precision",
         "0.64"
        ],
        [
         "2",
         "Recall",
         "0.82"
        ],
        [
         "3",
         "F1-score",
         "0.72"
        ]
       ],
       "shape": {
        "columns": 2,
        "rows": 4
       }
      },
      "text/html": [
       "<div>\n",
       "<style scoped>\n",
       "    .dataframe tbody tr th:only-of-type {\n",
       "        vertical-align: middle;\n",
       "    }\n",
       "\n",
       "    .dataframe tbody tr th {\n",
       "        vertical-align: top;\n",
       "    }\n",
       "\n",
       "    .dataframe thead th {\n",
       "        text-align: right;\n",
       "    }\n",
       "</style>\n",
       "<table border=\"1\" class=\"dataframe\">\n",
       "  <thead>\n",
       "    <tr style=\"text-align: right;\">\n",
       "      <th></th>\n",
       "      <th>Metric</th>\n",
       "      <th>Value</th>\n",
       "    </tr>\n",
       "  </thead>\n",
       "  <tbody>\n",
       "    <tr>\n",
       "      <th>0</th>\n",
       "      <td>Accuracy</td>\n",
       "      <td>0.79</td>\n",
       "    </tr>\n",
       "    <tr>\n",
       "      <th>1</th>\n",
       "      <td>Precision</td>\n",
       "      <td>0.64</td>\n",
       "    </tr>\n",
       "    <tr>\n",
       "      <th>2</th>\n",
       "      <td>Recall</td>\n",
       "      <td>0.82</td>\n",
       "    </tr>\n",
       "    <tr>\n",
       "      <th>3</th>\n",
       "      <td>F1-score</td>\n",
       "      <td>0.72</td>\n",
       "    </tr>\n",
       "  </tbody>\n",
       "</table>\n",
       "</div>"
      ],
      "text/plain": [
       "      Metric  Value\n",
       "0   Accuracy   0.79\n",
       "1  Precision   0.64\n",
       "2     Recall   0.82\n",
       "3   F1-score   0.72"
      ]
     },
     "metadata": {},
     "output_type": "display_data"
    },
    {
     "name": "stdout",
     "output_type": "stream",
     "text": [
      "---------------------------------------------------------\n",
      "USER 3\n",
      "Epoch 1/100\n"
     ]
    },
    {
     "name": "stderr",
     "output_type": "stream",
     "text": [
      "C:\\Users\\lovoa\\AppData\\Local\\Temp\\ipykernel_14936\\3823668386.py:9: SettingWithCopyWarning: \n",
      "A value is trying to be set on a copy of a slice from a DataFrame.\n",
      "Try using .loc[row_indexer,col_indexer] = value instead\n",
      "\n",
      "See the caveats in the documentation: https://pandas.pydata.org/pandas-docs/stable/user_guide/indexing.html#returning-a-view-versus-a-copy\n",
      "  x[numerical_features] = scaler.fit_transform(x[numerical_features])\n",
      "c:\\Users\\lovoa\\AppData\\Local\\Programs\\Python\\Python312\\Lib\\site-packages\\keras\\src\\layers\\core\\dense.py:87: UserWarning: Do not pass an `input_shape`/`input_dim` argument to a layer. When using Sequential models, prefer using an `Input(shape)` object as the first layer in the model instead.\n",
      "  super().__init__(activity_regularizer=activity_regularizer, **kwargs)\n"
     ]
    },
    {
     "name": "stdout",
     "output_type": "stream",
     "text": [
      "\u001b[1m90/90\u001b[0m \u001b[32m━━━━━━━━━━━━━━━━━━━━\u001b[0m\u001b[37m\u001b[0m \u001b[1m2s\u001b[0m 4ms/step - loss: 0.5022 - mae: 0.2101 - val_loss: 0.2957 - val_mae: 0.1939\n",
      "Epoch 2/100\n",
      "\u001b[1m90/90\u001b[0m \u001b[32m━━━━━━━━━━━━━━━━━━━━\u001b[0m\u001b[37m\u001b[0m \u001b[1m0s\u001b[0m 2ms/step - loss: 0.2529 - mae: 0.1892 - val_loss: 0.1554 - val_mae: 0.1872\n",
      "Epoch 3/100\n",
      "\u001b[1m90/90\u001b[0m \u001b[32m━━━━━━━━━━━━━━━━━━━━\u001b[0m\u001b[37m\u001b[0m \u001b[1m0s\u001b[0m 3ms/step - loss: 0.1345 - mae: 0.1820 - val_loss: 0.0894 - val_mae: 0.1769\n",
      "Epoch 4/100\n",
      "\u001b[1m90/90\u001b[0m \u001b[32m━━━━━━━━━━━━━━━━━━━━\u001b[0m\u001b[37m\u001b[0m \u001b[1m0s\u001b[0m 1ms/step - loss: 0.0793 - mae: 0.1695 - val_loss: 0.0599 - val_mae: 0.1647\n",
      "Epoch 5/100\n",
      "\u001b[1m90/90\u001b[0m \u001b[32m━━━━━━━━━━━━━━━━━━━━\u001b[0m\u001b[37m\u001b[0m \u001b[1m0s\u001b[0m 2ms/step - loss: 0.0548 - mae: 0.1577 - val_loss: 0.0472 - val_mae: 0.1545\n",
      "Epoch 6/100\n",
      "\u001b[1m90/90\u001b[0m \u001b[32m━━━━━━━━━━━━━━━━━━━━\u001b[0m\u001b[37m\u001b[0m \u001b[1m0s\u001b[0m 2ms/step - loss: 0.0470 - mae: 0.1554 - val_loss: 0.0424 - val_mae: 0.1513\n",
      "Epoch 7/100\n",
      "\u001b[1m90/90\u001b[0m \u001b[32m━━━━━━━━━━━━━━━━━━━━\u001b[0m\u001b[37m\u001b[0m \u001b[1m0s\u001b[0m 2ms/step - loss: 0.0427 - mae: 0.1505 - val_loss: 0.0403 - val_mae: 0.1493\n",
      "Epoch 8/100\n",
      "\u001b[1m90/90\u001b[0m \u001b[32m━━━━━━━━━━━━━━━━━━━━\u001b[0m\u001b[37m\u001b[0m \u001b[1m0s\u001b[0m 2ms/step - loss: 0.0426 - mae: 0.1532 - val_loss: 0.0395 - val_mae: 0.1484\n",
      "Epoch 9/100\n",
      "\u001b[1m90/90\u001b[0m \u001b[32m━━━━━━━━━━━━━━━━━━━━\u001b[0m\u001b[37m\u001b[0m \u001b[1m0s\u001b[0m 2ms/step - loss: 0.0428 - mae: 0.1546 - val_loss: 0.0388 - val_mae: 0.1477\n",
      "Epoch 10/100\n",
      "\u001b[1m90/90\u001b[0m \u001b[32m━━━━━━━━━━━━━━━━━━━━\u001b[0m\u001b[37m\u001b[0m \u001b[1m0s\u001b[0m 2ms/step - loss: 0.0402 - mae: 0.1496 - val_loss: 0.0382 - val_mae: 0.1452\n",
      "Epoch 11/100\n",
      "\u001b[1m90/90\u001b[0m \u001b[32m━━━━━━━━━━━━━━━━━━━━\u001b[0m\u001b[37m\u001b[0m \u001b[1m0s\u001b[0m 2ms/step - loss: 0.0407 - mae: 0.1497 - val_loss: 0.0374 - val_mae: 0.1429\n",
      "Epoch 12/100\n",
      "\u001b[1m90/90\u001b[0m \u001b[32m━━━━━━━━━━━━━━━━━━━━\u001b[0m\u001b[37m\u001b[0m \u001b[1m0s\u001b[0m 2ms/step - loss: 0.0391 - mae: 0.1467 - val_loss: 0.0380 - val_mae: 0.1457\n",
      "Epoch 13/100\n",
      "\u001b[1m90/90\u001b[0m \u001b[32m━━━━━━━━━━━━━━━━━━━━\u001b[0m\u001b[37m\u001b[0m \u001b[1m0s\u001b[0m 2ms/step - loss: 0.0393 - mae: 0.1469 - val_loss: 0.0372 - val_mae: 0.1451\n",
      "Epoch 14/100\n",
      "\u001b[1m90/90\u001b[0m \u001b[32m━━━━━━━━━━━━━━━━━━━━\u001b[0m\u001b[37m\u001b[0m \u001b[1m0s\u001b[0m 2ms/step - loss: 0.0396 - mae: 0.1479 - val_loss: 0.0366 - val_mae: 0.1430\n",
      "Epoch 15/100\n",
      "\u001b[1m90/90\u001b[0m \u001b[32m━━━━━━━━━━━━━━━━━━━━\u001b[0m\u001b[37m\u001b[0m \u001b[1m0s\u001b[0m 2ms/step - loss: 0.0384 - mae: 0.1449 - val_loss: 0.0365 - val_mae: 0.1409\n",
      "Epoch 16/100\n",
      "\u001b[1m90/90\u001b[0m \u001b[32m━━━━━━━━━━━━━━━━━━━━\u001b[0m\u001b[37m\u001b[0m \u001b[1m0s\u001b[0m 2ms/step - loss: 0.0369 - mae: 0.1417 - val_loss: 0.0361 - val_mae: 0.1416\n",
      "Epoch 17/100\n",
      "\u001b[1m90/90\u001b[0m \u001b[32m━━━━━━━━━━━━━━━━━━━━\u001b[0m\u001b[37m\u001b[0m \u001b[1m0s\u001b[0m 2ms/step - loss: 0.0392 - mae: 0.1465 - val_loss: 0.0360 - val_mae: 0.1419\n",
      "Epoch 18/100\n",
      "\u001b[1m90/90\u001b[0m \u001b[32m━━━━━━━━━━━━━━━━━━━━\u001b[0m\u001b[37m\u001b[0m \u001b[1m0s\u001b[0m 2ms/step - loss: 0.0379 - mae: 0.1441 - val_loss: 0.0354 - val_mae: 0.1390\n",
      "Epoch 19/100\n",
      "\u001b[1m90/90\u001b[0m \u001b[32m━━━━━━━━━━━━━━━━━━━━\u001b[0m\u001b[37m\u001b[0m \u001b[1m0s\u001b[0m 3ms/step - loss: 0.0383 - mae: 0.1453 - val_loss: 0.0358 - val_mae: 0.1423\n",
      "Epoch 20/100\n",
      "\u001b[1m90/90\u001b[0m \u001b[32m━━━━━━━━━━━━━━━━━━━━\u001b[0m\u001b[37m\u001b[0m \u001b[1m0s\u001b[0m 2ms/step - loss: 0.0383 - mae: 0.1467 - val_loss: 0.0354 - val_mae: 0.1403\n",
      "Epoch 21/100\n",
      "\u001b[1m90/90\u001b[0m \u001b[32m━━━━━━━━━━━━━━━━━━━━\u001b[0m\u001b[37m\u001b[0m \u001b[1m0s\u001b[0m 2ms/step - loss: 0.0384 - mae: 0.1472 - val_loss: 0.0354 - val_mae: 0.1421\n",
      "Epoch 22/100\n",
      "\u001b[1m90/90\u001b[0m \u001b[32m━━━━━━━━━━━━━━━━━━━━\u001b[0m\u001b[37m\u001b[0m \u001b[1m0s\u001b[0m 2ms/step - loss: 0.0385 - mae: 0.1458 - val_loss: 0.0352 - val_mae: 0.1404\n",
      "Epoch 23/100\n",
      "\u001b[1m90/90\u001b[0m \u001b[32m━━━━━━━━━━━━━━━━━━━━\u001b[0m\u001b[37m\u001b[0m \u001b[1m0s\u001b[0m 2ms/step - loss: 0.0380 - mae: 0.1452 - val_loss: 0.0347 - val_mae: 0.1404\n",
      "Epoch 24/100\n",
      "\u001b[1m90/90\u001b[0m \u001b[32m━━━━━━━━━━━━━━━━━━━━\u001b[0m\u001b[37m\u001b[0m \u001b[1m0s\u001b[0m 2ms/step - loss: 0.0369 - mae: 0.1442 - val_loss: 0.0350 - val_mae: 0.1397\n",
      "Epoch 25/100\n",
      "\u001b[1m90/90\u001b[0m \u001b[32m━━━━━━━━━━━━━━━━━━━━\u001b[0m\u001b[37m\u001b[0m \u001b[1m0s\u001b[0m 2ms/step - loss: 0.0360 - mae: 0.1420 - val_loss: 0.0344 - val_mae: 0.1363\n",
      "Epoch 26/100\n",
      "\u001b[1m90/90\u001b[0m \u001b[32m━━━━━━━━━━━━━━━━━━━━\u001b[0m\u001b[37m\u001b[0m \u001b[1m0s\u001b[0m 2ms/step - loss: 0.0377 - mae: 0.1450 - val_loss: 0.0343 - val_mae: 0.1372\n",
      "Epoch 27/100\n",
      "\u001b[1m90/90\u001b[0m \u001b[32m━━━━━━━━━━━━━━━━━━━━\u001b[0m\u001b[37m\u001b[0m \u001b[1m0s\u001b[0m 2ms/step - loss: 0.0363 - mae: 0.1407 - val_loss: 0.0346 - val_mae: 0.1400\n",
      "Epoch 28/100\n",
      "\u001b[1m90/90\u001b[0m \u001b[32m━━━━━━━━━━━━━━━━━━━━\u001b[0m\u001b[37m\u001b[0m \u001b[1m0s\u001b[0m 2ms/step - loss: 0.0366 - mae: 0.1427 - val_loss: 0.0344 - val_mae: 0.1397\n",
      "Epoch 29/100\n",
      "\u001b[1m90/90\u001b[0m \u001b[32m━━━━━━━━━━━━━━━━━━━━\u001b[0m\u001b[37m\u001b[0m \u001b[1m0s\u001b[0m 2ms/step - loss: 0.0366 - mae: 0.1435 - val_loss: 0.0343 - val_mae: 0.1389\n",
      "Epoch 30/100\n",
      "\u001b[1m90/90\u001b[0m \u001b[32m━━━━━━━━━━━━━━━━━━━━\u001b[0m\u001b[37m\u001b[0m \u001b[1m0s\u001b[0m 2ms/step - loss: 0.0352 - mae: 0.1409 - val_loss: 0.0342 - val_mae: 0.1387\n",
      "Epoch 31/100\n",
      "\u001b[1m90/90\u001b[0m \u001b[32m━━━━━━━━━━━━━━━━━━━━\u001b[0m\u001b[37m\u001b[0m \u001b[1m0s\u001b[0m 2ms/step - loss: 0.0374 - mae: 0.1449 - val_loss: 0.0340 - val_mae: 0.1379\n",
      "Epoch 32/100\n",
      "\u001b[1m90/90\u001b[0m \u001b[32m━━━━━━━━━━━━━━━━━━━━\u001b[0m\u001b[37m\u001b[0m \u001b[1m0s\u001b[0m 2ms/step - loss: 0.0355 - mae: 0.1402 - val_loss: 0.0338 - val_mae: 0.1382\n",
      "Epoch 33/100\n",
      "\u001b[1m90/90\u001b[0m \u001b[32m━━━━━━━━━━━━━━━━━━━━\u001b[0m\u001b[37m\u001b[0m \u001b[1m0s\u001b[0m 2ms/step - loss: 0.0371 - mae: 0.1440 - val_loss: 0.0339 - val_mae: 0.1378\n",
      "Epoch 34/100\n",
      "\u001b[1m90/90\u001b[0m \u001b[32m━━━━━━━━━━━━━━━━━━━━\u001b[0m\u001b[37m\u001b[0m \u001b[1m0s\u001b[0m 2ms/step - loss: 0.0368 - mae: 0.1434 - val_loss: 0.0341 - val_mae: 0.1406\n",
      "Epoch 35/100\n",
      "\u001b[1m90/90\u001b[0m \u001b[32m━━━━━━━━━━━━━━━━━━━━\u001b[0m\u001b[37m\u001b[0m \u001b[1m0s\u001b[0m 2ms/step - loss: 0.0357 - mae: 0.1427 - val_loss: 0.0339 - val_mae: 0.1375\n",
      "Epoch 36/100\n",
      "\u001b[1m90/90\u001b[0m \u001b[32m━━━━━━━━━━━━━━━━━━━━\u001b[0m\u001b[37m\u001b[0m \u001b[1m0s\u001b[0m 2ms/step - loss: 0.0356 - mae: 0.1399 - val_loss: 0.0334 - val_mae: 0.1373\n",
      "Epoch 37/100\n",
      "\u001b[1m90/90\u001b[0m \u001b[32m━━━━━━━━━━━━━━━━━━━━\u001b[0m\u001b[37m\u001b[0m \u001b[1m0s\u001b[0m 2ms/step - loss: 0.0353 - mae: 0.1401 - val_loss: 0.0335 - val_mae: 0.1374\n",
      "Epoch 38/100\n",
      "\u001b[1m90/90\u001b[0m \u001b[32m━━━━━━━━━━━━━━━━━━━━\u001b[0m\u001b[37m\u001b[0m \u001b[1m0s\u001b[0m 2ms/step - loss: 0.0352 - mae: 0.1402 - val_loss: 0.0339 - val_mae: 0.1381\n",
      "Epoch 39/100\n",
      "\u001b[1m90/90\u001b[0m \u001b[32m━━━━━━━━━━━━━━━━━━━━\u001b[0m\u001b[37m\u001b[0m \u001b[1m0s\u001b[0m 2ms/step - loss: 0.0352 - mae: 0.1414 - val_loss: 0.0334 - val_mae: 0.1396\n",
      "Epoch 40/100\n",
      "\u001b[1m90/90\u001b[0m \u001b[32m━━━━━━━━━━━━━━━━━━━━\u001b[0m\u001b[37m\u001b[0m \u001b[1m0s\u001b[0m 2ms/step - loss: 0.0349 - mae: 0.1407 - val_loss: 0.0331 - val_mae: 0.1362\n",
      "Epoch 41/100\n",
      "\u001b[1m90/90\u001b[0m \u001b[32m━━━━━━━━━━━━━━━━━━━━\u001b[0m\u001b[37m\u001b[0m \u001b[1m0s\u001b[0m 2ms/step - loss: 0.0363 - mae: 0.1431 - val_loss: 0.0329 - val_mae: 0.1355\n",
      "Epoch 42/100\n",
      "\u001b[1m90/90\u001b[0m \u001b[32m━━━━━━━━━━━━━━━━━━━━\u001b[0m\u001b[37m\u001b[0m \u001b[1m0s\u001b[0m 2ms/step - loss: 0.0352 - mae: 0.1403 - val_loss: 0.0332 - val_mae: 0.1374\n",
      "Epoch 43/100\n",
      "\u001b[1m90/90\u001b[0m \u001b[32m━━━━━━━━━━━━━━━━━━━━\u001b[0m\u001b[37m\u001b[0m \u001b[1m0s\u001b[0m 2ms/step - loss: 0.0347 - mae: 0.1409 - val_loss: 0.0330 - val_mae: 0.1370\n",
      "Epoch 44/100\n",
      "\u001b[1m90/90\u001b[0m \u001b[32m━━━━━━━━━━━━━━━━━━━━\u001b[0m\u001b[37m\u001b[0m \u001b[1m0s\u001b[0m 2ms/step - loss: 0.0344 - mae: 0.1392 - val_loss: 0.0335 - val_mae: 0.1403\n",
      "Epoch 45/100\n",
      "\u001b[1m90/90\u001b[0m \u001b[32m━━━━━━━━━━━━━━━━━━━━\u001b[0m\u001b[37m\u001b[0m \u001b[1m0s\u001b[0m 2ms/step - loss: 0.0366 - mae: 0.1441 - val_loss: 0.0329 - val_mae: 0.1367\n",
      "Epoch 46/100\n",
      "\u001b[1m90/90\u001b[0m \u001b[32m━━━━━━━━━━━━━━━━━━━━\u001b[0m\u001b[37m\u001b[0m \u001b[1m0s\u001b[0m 2ms/step - loss: 0.0360 - mae: 0.1413 - val_loss: 0.0329 - val_mae: 0.1385\n",
      "Epoch 47/100\n",
      "\u001b[1m90/90\u001b[0m \u001b[32m━━━━━━━━━━━━━━━━━━━━\u001b[0m\u001b[37m\u001b[0m \u001b[1m0s\u001b[0m 2ms/step - loss: 0.0335 - mae: 0.1367 - val_loss: 0.0333 - val_mae: 0.1379\n",
      "Epoch 48/100\n",
      "\u001b[1m90/90\u001b[0m \u001b[32m━━━━━━━━━━━━━━━━━━━━\u001b[0m\u001b[37m\u001b[0m \u001b[1m0s\u001b[0m 2ms/step - loss: 0.0350 - mae: 0.1401 - val_loss: 0.0331 - val_mae: 0.1377\n",
      "Epoch 49/100\n",
      "\u001b[1m90/90\u001b[0m \u001b[32m━━━━━━━━━━━━━━━━━━━━\u001b[0m\u001b[37m\u001b[0m \u001b[1m0s\u001b[0m 2ms/step - loss: 0.0353 - mae: 0.1415 - val_loss: 0.0330 - val_mae: 0.1363\n",
      "Epoch 50/100\n",
      "\u001b[1m90/90\u001b[0m \u001b[32m━━━━━━━━━━━━━━━━━━━━\u001b[0m\u001b[37m\u001b[0m \u001b[1m0s\u001b[0m 2ms/step - loss: 0.0358 - mae: 0.1419 - val_loss: 0.0329 - val_mae: 0.1368\n",
      "Epoch 51/100\n",
      "\u001b[1m90/90\u001b[0m \u001b[32m━━━━━━━━━━━━━━━━━━━━\u001b[0m\u001b[37m\u001b[0m \u001b[1m0s\u001b[0m 2ms/step - loss: 0.0355 - mae: 0.1429 - val_loss: 0.0326 - val_mae: 0.1355\n",
      "Epoch 52/100\n",
      "\u001b[1m90/90\u001b[0m \u001b[32m━━━━━━━━━━━━━━━━━━━━\u001b[0m\u001b[37m\u001b[0m \u001b[1m0s\u001b[0m 3ms/step - loss: 0.0348 - mae: 0.1394 - val_loss: 0.0327 - val_mae: 0.1363\n",
      "Epoch 53/100\n",
      "\u001b[1m90/90\u001b[0m \u001b[32m━━━━━━━━━━━━━━━━━━━━\u001b[0m\u001b[37m\u001b[0m \u001b[1m0s\u001b[0m 2ms/step - loss: 0.0336 - mae: 0.1365 - val_loss: 0.0324 - val_mae: 0.1360\n",
      "Epoch 54/100\n",
      "\u001b[1m90/90\u001b[0m \u001b[32m━━━━━━━━━━━━━━━━━━━━\u001b[0m\u001b[37m\u001b[0m \u001b[1m0s\u001b[0m 2ms/step - loss: 0.0348 - mae: 0.1408 - val_loss: 0.0326 - val_mae: 0.1370\n",
      "Epoch 55/100\n",
      "\u001b[1m90/90\u001b[0m \u001b[32m━━━━━━━━━━━━━━━━━━━━\u001b[0m\u001b[37m\u001b[0m \u001b[1m0s\u001b[0m 2ms/step - loss: 0.0347 - mae: 0.1404 - val_loss: 0.0328 - val_mae: 0.1369\n",
      "Epoch 56/100\n",
      "\u001b[1m90/90\u001b[0m \u001b[32m━━━━━━━━━━━━━━━━━━━━\u001b[0m\u001b[37m\u001b[0m \u001b[1m0s\u001b[0m 2ms/step - loss: 0.0345 - mae: 0.1414 - val_loss: 0.0323 - val_mae: 0.1365\n",
      "Epoch 57/100\n",
      "\u001b[1m90/90\u001b[0m \u001b[32m━━━━━━━━━━━━━━━━━━━━\u001b[0m\u001b[37m\u001b[0m \u001b[1m0s\u001b[0m 2ms/step - loss: 0.0343 - mae: 0.1396 - val_loss: 0.0320 - val_mae: 0.1336\n",
      "Epoch 58/100\n",
      "\u001b[1m90/90\u001b[0m \u001b[32m━━━━━━━━━━━━━━━━━━━━\u001b[0m\u001b[37m\u001b[0m \u001b[1m0s\u001b[0m 2ms/step - loss: 0.0336 - mae: 0.1383 - val_loss: 0.0329 - val_mae: 0.1380\n",
      "Epoch 59/100\n",
      "\u001b[1m90/90\u001b[0m \u001b[32m━━━━━━━━━━━━━━━━━━━━\u001b[0m\u001b[37m\u001b[0m \u001b[1m0s\u001b[0m 2ms/step - loss: 0.0347 - mae: 0.1392 - val_loss: 0.0326 - val_mae: 0.1370\n",
      "Epoch 60/100\n",
      "\u001b[1m90/90\u001b[0m \u001b[32m━━━━━━━━━━━━━━━━━━━━\u001b[0m\u001b[37m\u001b[0m \u001b[1m0s\u001b[0m 2ms/step - loss: 0.0343 - mae: 0.1396 - val_loss: 0.0325 - val_mae: 0.1372\n",
      "Epoch 61/100\n",
      "\u001b[1m90/90\u001b[0m \u001b[32m━━━━━━━━━━━━━━━━━━━━\u001b[0m\u001b[37m\u001b[0m \u001b[1m0s\u001b[0m 3ms/step - loss: 0.0347 - mae: 0.1412 - val_loss: 0.0322 - val_mae: 0.1367\n",
      "Epoch 62/100\n",
      "\u001b[1m90/90\u001b[0m \u001b[32m━━━━━━━━━━━━━━━━━━━━\u001b[0m\u001b[37m\u001b[0m \u001b[1m0s\u001b[0m 2ms/step - loss: 0.0342 - mae: 0.1391 - val_loss: 0.0321 - val_mae: 0.1328\n",
      "Epoch 63/100\n",
      "\u001b[1m90/90\u001b[0m \u001b[32m━━━━━━━━━━━━━━━━━━━━\u001b[0m\u001b[37m\u001b[0m \u001b[1m0s\u001b[0m 2ms/step - loss: 0.0346 - mae: 0.1401 - val_loss: 0.0323 - val_mae: 0.1356\n",
      "Epoch 64/100\n",
      "\u001b[1m90/90\u001b[0m \u001b[32m━━━━━━━━━━━━━━━━━━━━\u001b[0m\u001b[37m\u001b[0m \u001b[1m0s\u001b[0m 2ms/step - loss: 0.0342 - mae: 0.1401 - val_loss: 0.0320 - val_mae: 0.1345\n",
      "Epoch 65/100\n",
      "\u001b[1m90/90\u001b[0m \u001b[32m━━━━━━━━━━━━━━━━━━━━\u001b[0m\u001b[37m\u001b[0m \u001b[1m0s\u001b[0m 2ms/step - loss: 0.0338 - mae: 0.1384 - val_loss: 0.0318 - val_mae: 0.1345\n",
      "Epoch 66/100\n",
      "\u001b[1m90/90\u001b[0m \u001b[32m━━━━━━━━━━━━━━━━━━━━\u001b[0m\u001b[37m\u001b[0m \u001b[1m0s\u001b[0m 2ms/step - loss: 0.0342 - mae: 0.1389 - val_loss: 0.0324 - val_mae: 0.1366\n",
      "Epoch 67/100\n",
      "\u001b[1m90/90\u001b[0m \u001b[32m━━━━━━━━━━━━━━━━━━━━\u001b[0m\u001b[37m\u001b[0m \u001b[1m0s\u001b[0m 2ms/step - loss: 0.0336 - mae: 0.1381 - val_loss: 0.0323 - val_mae: 0.1373\n",
      "Epoch 68/100\n",
      "\u001b[1m90/90\u001b[0m \u001b[32m━━━━━━━━━━━━━━━━━━━━\u001b[0m\u001b[37m\u001b[0m \u001b[1m0s\u001b[0m 2ms/step - loss: 0.0346 - mae: 0.1402 - val_loss: 0.0323 - val_mae: 0.1363\n",
      "Epoch 69/100\n",
      "\u001b[1m90/90\u001b[0m \u001b[32m━━━━━━━━━━━━━━━━━━━━\u001b[0m\u001b[37m\u001b[0m \u001b[1m0s\u001b[0m 2ms/step - loss: 0.0345 - mae: 0.1400 - val_loss: 0.0316 - val_mae: 0.1347\n",
      "Epoch 70/100\n",
      "\u001b[1m90/90\u001b[0m \u001b[32m━━━━━━━━━━━━━━━━━━━━\u001b[0m\u001b[37m\u001b[0m \u001b[1m0s\u001b[0m 3ms/step - loss: 0.0331 - mae: 0.1366 - val_loss: 0.0331 - val_mae: 0.1377\n",
      "Epoch 71/100\n",
      "\u001b[1m90/90\u001b[0m \u001b[32m━━━━━━━━━━━━━━━━━━━━\u001b[0m\u001b[37m\u001b[0m \u001b[1m0s\u001b[0m 2ms/step - loss: 0.0348 - mae: 0.1407 - val_loss: 0.0322 - val_mae: 0.1371\n",
      "Epoch 72/100\n",
      "\u001b[1m90/90\u001b[0m \u001b[32m━━━━━━━━━━━━━━━━━━━━\u001b[0m\u001b[37m\u001b[0m \u001b[1m0s\u001b[0m 2ms/step - loss: 0.0346 - mae: 0.1418 - val_loss: 0.0313 - val_mae: 0.1346\n",
      "Epoch 73/100\n",
      "\u001b[1m90/90\u001b[0m \u001b[32m━━━━━━━━━━━━━━━━━━━━\u001b[0m\u001b[37m\u001b[0m \u001b[1m0s\u001b[0m 2ms/step - loss: 0.0338 - mae: 0.1384 - val_loss: 0.0319 - val_mae: 0.1363\n",
      "Epoch 74/100\n",
      "\u001b[1m90/90\u001b[0m \u001b[32m━━━━━━━━━━━━━━━━━━━━\u001b[0m\u001b[37m\u001b[0m \u001b[1m0s\u001b[0m 2ms/step - loss: 0.0335 - mae: 0.1379 - val_loss: 0.0322 - val_mae: 0.1358\n",
      "Epoch 75/100\n",
      "\u001b[1m90/90\u001b[0m \u001b[32m━━━━━━━━━━━━━━━━━━━━\u001b[0m\u001b[37m\u001b[0m \u001b[1m0s\u001b[0m 2ms/step - loss: 0.0332 - mae: 0.1375 - val_loss: 0.0319 - val_mae: 0.1360\n",
      "Epoch 76/100\n",
      "\u001b[1m90/90\u001b[0m \u001b[32m━━━━━━━━━━━━━━━━━━━━\u001b[0m\u001b[37m\u001b[0m \u001b[1m0s\u001b[0m 2ms/step - loss: 0.0329 - mae: 0.1363 - val_loss: 0.0327 - val_mae: 0.1395\n",
      "Epoch 77/100\n",
      "\u001b[1m90/90\u001b[0m \u001b[32m━━━━━━━━━━━━━━━━━━━━\u001b[0m\u001b[37m\u001b[0m \u001b[1m0s\u001b[0m 2ms/step - loss: 0.0345 - mae: 0.1391 - val_loss: 0.0316 - val_mae: 0.1337\n",
      "Epoch 78/100\n",
      "\u001b[1m90/90\u001b[0m \u001b[32m━━━━━━━━━━━━━━━━━━━━\u001b[0m\u001b[37m\u001b[0m \u001b[1m0s\u001b[0m 2ms/step - loss: 0.0336 - mae: 0.1383 - val_loss: 0.0311 - val_mae: 0.1326\n",
      "Epoch 79/100\n",
      "\u001b[1m90/90\u001b[0m \u001b[32m━━━━━━━━━━━━━━━━━━━━\u001b[0m\u001b[37m\u001b[0m \u001b[1m0s\u001b[0m 2ms/step - loss: 0.0320 - mae: 0.1338 - val_loss: 0.0315 - val_mae: 0.1342\n",
      "Epoch 80/100\n",
      "\u001b[1m90/90\u001b[0m \u001b[32m━━━━━━━━━━━━━━━━━━━━\u001b[0m\u001b[37m\u001b[0m \u001b[1m0s\u001b[0m 2ms/step - loss: 0.0337 - mae: 0.1381 - val_loss: 0.0314 - val_mae: 0.1354\n",
      "Epoch 81/100\n",
      "\u001b[1m90/90\u001b[0m \u001b[32m━━━━━━━━━━━━━━━━━━━━\u001b[0m\u001b[37m\u001b[0m \u001b[1m0s\u001b[0m 2ms/step - loss: 0.0334 - mae: 0.1379 - val_loss: 0.0315 - val_mae: 0.1356\n",
      "Epoch 82/100\n",
      "\u001b[1m90/90\u001b[0m \u001b[32m━━━━━━━━━━━━━━━━━━━━\u001b[0m\u001b[37m\u001b[0m \u001b[1m0s\u001b[0m 2ms/step - loss: 0.0334 - mae: 0.1379 - val_loss: 0.0313 - val_mae: 0.1361\n",
      "Epoch 83/100\n",
      "\u001b[1m90/90\u001b[0m \u001b[32m━━━━━━━━━━━━━━━━━━━━\u001b[0m\u001b[37m\u001b[0m \u001b[1m0s\u001b[0m 2ms/step - loss: 0.0342 - mae: 0.1388 - val_loss: 0.0314 - val_mae: 0.1361\n",
      "Epoch 84/100\n",
      "\u001b[1m90/90\u001b[0m \u001b[32m━━━━━━━━━━━━━━━━━━━━\u001b[0m\u001b[37m\u001b[0m \u001b[1m0s\u001b[0m 2ms/step - loss: 0.0332 - mae: 0.1379 - val_loss: 0.0316 - val_mae: 0.1357\n",
      "Epoch 85/100\n",
      "\u001b[1m90/90\u001b[0m \u001b[32m━━━━━━━━━━━━━━━━━━━━\u001b[0m\u001b[37m\u001b[0m \u001b[1m0s\u001b[0m 3ms/step - loss: 0.0334 - mae: 0.1374 - val_loss: 0.0315 - val_mae: 0.1348\n",
      "Epoch 86/100\n",
      "\u001b[1m90/90\u001b[0m \u001b[32m━━━━━━━━━━━━━━━━━━━━\u001b[0m\u001b[37m\u001b[0m \u001b[1m0s\u001b[0m 2ms/step - loss: 0.0335 - mae: 0.1384 - val_loss: 0.0317 - val_mae: 0.1374\n",
      "Epoch 87/100\n",
      "\u001b[1m90/90\u001b[0m \u001b[32m━━━━━━━━━━━━━━━━━━━━\u001b[0m\u001b[37m\u001b[0m \u001b[1m0s\u001b[0m 2ms/step - loss: 0.0329 - mae: 0.1374 - val_loss: 0.0309 - val_mae: 0.1329\n",
      "Epoch 88/100\n",
      "\u001b[1m90/90\u001b[0m \u001b[32m━━━━━━━━━━━━━━━━━━━━\u001b[0m\u001b[37m\u001b[0m \u001b[1m0s\u001b[0m 2ms/step - loss: 0.0339 - mae: 0.1395 - val_loss: 0.0312 - val_mae: 0.1351\n",
      "Epoch 89/100\n",
      "\u001b[1m90/90\u001b[0m \u001b[32m━━━━━━━━━━━━━━━━━━━━\u001b[0m\u001b[37m\u001b[0m \u001b[1m0s\u001b[0m 3ms/step - loss: 0.0328 - mae: 0.1370 - val_loss: 0.0312 - val_mae: 0.1345\n",
      "Epoch 90/100\n",
      "\u001b[1m90/90\u001b[0m \u001b[32m━━━━━━━━━━━━━━━━━━━━\u001b[0m\u001b[37m\u001b[0m \u001b[1m0s\u001b[0m 3ms/step - loss: 0.0319 - mae: 0.1343 - val_loss: 0.0308 - val_mae: 0.1325\n",
      "Epoch 91/100\n",
      "\u001b[1m90/90\u001b[0m \u001b[32m━━━━━━━━━━━━━━━━━━━━\u001b[0m\u001b[37m\u001b[0m \u001b[1m0s\u001b[0m 2ms/step - loss: 0.0322 - mae: 0.1353 - val_loss: 0.0315 - val_mae: 0.1348\n",
      "Epoch 92/100\n",
      "\u001b[1m90/90\u001b[0m \u001b[32m━━━━━━━━━━━━━━━━━━━━\u001b[0m\u001b[37m\u001b[0m \u001b[1m0s\u001b[0m 2ms/step - loss: 0.0330 - mae: 0.1368 - val_loss: 0.0310 - val_mae: 0.1347\n",
      "Epoch 93/100\n",
      "\u001b[1m90/90\u001b[0m \u001b[32m━━━━━━━━━━━━━━━━━━━━\u001b[0m\u001b[37m\u001b[0m \u001b[1m0s\u001b[0m 2ms/step - loss: 0.0329 - mae: 0.1374 - val_loss: 0.0311 - val_mae: 0.1355\n",
      "Epoch 94/100\n",
      "\u001b[1m90/90\u001b[0m \u001b[32m━━━━━━━━━━━━━━━━━━━━\u001b[0m\u001b[37m\u001b[0m \u001b[1m0s\u001b[0m 2ms/step - loss: 0.0332 - mae: 0.1394 - val_loss: 0.0314 - val_mae: 0.1334\n",
      "Epoch 95/100\n",
      "\u001b[1m90/90\u001b[0m \u001b[32m━━━━━━━━━━━━━━━━━━━━\u001b[0m\u001b[37m\u001b[0m \u001b[1m0s\u001b[0m 2ms/step - loss: 0.0324 - mae: 0.1351 - val_loss: 0.0313 - val_mae: 0.1371\n",
      "Epoch 96/100\n",
      "\u001b[1m90/90\u001b[0m \u001b[32m━━━━━━━━━━━━━━━━━━━━\u001b[0m\u001b[37m\u001b[0m \u001b[1m0s\u001b[0m 2ms/step - loss: 0.0324 - mae: 0.1368 - val_loss: 0.0312 - val_mae: 0.1337\n",
      "Epoch 97/100\n",
      "\u001b[1m90/90\u001b[0m \u001b[32m━━━━━━━━━━━━━━━━━━━━\u001b[0m\u001b[37m\u001b[0m \u001b[1m0s\u001b[0m 3ms/step - loss: 0.0335 - mae: 0.1380 - val_loss: 0.0312 - val_mae: 0.1344\n",
      "Epoch 98/100\n",
      "\u001b[1m90/90\u001b[0m \u001b[32m━━━━━━━━━━━━━━━━━━━━\u001b[0m\u001b[37m\u001b[0m \u001b[1m0s\u001b[0m 3ms/step - loss: 0.0318 - mae: 0.1352 - val_loss: 0.0313 - val_mae: 0.1359\n",
      "Epoch 99/100\n",
      "\u001b[1m90/90\u001b[0m \u001b[32m━━━━━━━━━━━━━━━━━━━━\u001b[0m\u001b[37m\u001b[0m \u001b[1m0s\u001b[0m 2ms/step - loss: 0.0329 - mae: 0.1369 - val_loss: 0.0315 - val_mae: 0.1359\n",
      "Epoch 100/100\n",
      "\u001b[1m90/90\u001b[0m \u001b[32m━━━━━━━━━━━━━━━━━━━━\u001b[0m\u001b[37m\u001b[0m \u001b[1m0s\u001b[0m 2ms/step - loss: 0.0337 - mae: 0.1402 - val_loss: 0.0309 - val_mae: 0.1328\n",
      "\u001b[1m23/23\u001b[0m \u001b[32m━━━━━━━━━━━━━━━━━━━━\u001b[0m\u001b[37m\u001b[0m \u001b[1m0s\u001b[0m 3ms/step\n"
     ]
    },
    {
     "data": {
      "image/png": "[encoded data removed]",
      "text/plain": [
       "<Figure size 640x480 with 1 Axes>"
      ]
     },
     "metadata": {},
     "output_type": "display_data"
    },
    {
     "data": {
      "image/png": "[encoded data removed]",
      "text/plain": [
       "<Figure size 640x480 with 1 Axes>"
      ]
     },
     "metadata": {},
     "output_type": "display_data"
    },
    {
     "name": "stdout",
     "output_type": "stream",
     "text": [
      "\u001b[1m23/23\u001b[0m \u001b[32m━━━━━━━━━━━━━━━━━━━━\u001b[0m\u001b[37m\u001b[0m \u001b[1m0s\u001b[0m 1ms/step - loss: 0.0327 - mae: 0.1382 \n",
      "MSE:  0.030920973047614098\n",
      "MAE: 0.1327834278345108\n"
     ]
    },
    {
     "data": {
      "application/vnd.microsoft.datawrangler.viewer.v0+json": {
       "columns": [
        {
         "name": "SongID",
         "rawType": "object",
         "type": "string"
        },
        {
         "name": "Original Test",
         "rawType": "float64",
         "type": "float"
        },
        {
         "name": "Prediction Test",
         "rawType": "float32",
         "type": "float"
        },
        {
         "name": "Original over Thrashold",
         "rawType": "bool",
         "type": "boolean"
        },
        {
         "name": "Predicted over Thrashold",
         "rawType": "bool",
         "type": "boolean"
        }
       ],
       "conversionMethod": "pd.DataFrame",
       "ref": "db84c906-435c-4cf6-b946-750a7cdd0750",
       "rows": [
        [
         "Can't Let You Out Of My SightChuck Jackson & Maxine Brown",
         "0.453",
         "0.7845544",
         "False",
         "True"
        ],
        [
         "It's All Coming Back To Me NowCeline Dion",
         "0.2859999999999999",
         "0.27505317",
         "False",
         "False"
        ],
        [
         "Birthday CakeRihanna Featuring Chris Brown",
         "0.329",
         "0.7848618",
         "False",
         "True"
        ],
        [
         "Jack The RipperLink Wray And The Wraymen",
         "0.2919999999999999",
         "0.47791654",
         "False",
         "False"
        ],
        [
         "Little StarThe Elegants",
         "0.697",
         "0.43462807",
         "False",
         "False"
        ],
        [
         "My LoveThe-Dream Featuring Mariah Carey",
         "0.314",
         "0.40068957",
         "False",
         "False"
        ],
        [
         "I Knew You Were Trouble.Taylor Swift",
         "0.679",
         "0.41078308",
         "False",
         "False"
        ],
        [
         "A House Is Not A HomeBrook Benton",
         "0.3059999999999999",
         "0.36984885",
         "False",
         "False"
        ],
        [
         "Hey Ya!OutKast",
         "0.965",
         "0.6752271",
         "True",
         "False"
        ],
        [
         "High EnoughDamn Yankees",
         "0.232",
         "0.32714713",
         "False",
         "False"
        ],
        [
         "More Girls Like YouKip Moore",
         "0.7119999999999999",
         "0.60334885",
         "True",
         "False"
        ],
        [
         "ApologizeEd Ames",
         "0.4859999999999999",
         "0.55411977",
         "False",
         "False"
        ],
        [
         "I Dreamed A DreamSusan Boyle",
         "0.113",
         "0.29166222",
         "False",
         "False"
        ],
        [
         "In The House Of Stone And LightMartin Page",
         "0.791",
         "0.69249773",
         "True",
         "False"
        ],
        [
         "It's GoodLil Wayne Featuring Drake & Jadakiss",
         "0.1",
         "0.5769378",
         "False",
         "False"
        ],
        [
         "Do The BirdDee Dee Sharp",
         "0.929",
         "0.7212668",
         "True",
         "True"
        ],
        [
         "Good Morning BeautifulSteve Holy",
         "0.2419999999999999",
         "0.4343169",
         "False",
         "False"
        ],
        [
         "Thinking Out LoudEd Sheeran",
         "0.5909999999999999",
         "0.4526705",
         "False",
         "False"
        ],
        [
         "You Got SoulJohnny Nash",
         "0.641",
         "0.62063926",
         "False",
         "False"
        ],
        [
         "Look It UpAshton Shepherd",
         "0.658",
         "0.725843",
         "False",
         "True"
        ],
        [
         "Solitary ManNeil Diamond",
         "0.82",
         "0.620345",
         "True",
         "False"
        ],
        [
         "BabelMumford & Sons",
         "0.647",
         "0.5486531",
         "False",
         "False"
        ],
        [
         "I Can't Do It By MyselfAnita Bryant",
         "0.787",
         "0.5506331",
         "True",
         "False"
        ],
        [
         "A Million And OneDean Martin",
         "0.4229999999999999",
         "0.28381842",
         "False",
         "False"
        ],
        [
         "Get It RightGlee Cast",
         "0.1409999999999999",
         "0.35026997",
         "False",
         "False"
        ],
        [
         "LatelyTyrese",
         "0.334",
         "0.5598521",
         "False",
         "False"
        ],
        [
         "QuickieMiguel",
         "0.647",
         "0.3919201",
         "False",
         "False"
        ],
        [
         "Good Enough To Be Your WifeJeannie C. Riley",
         "0.746",
         "0.7689872",
         "True",
         "True"
        ],
        [
         "AlwaysFirefall",
         "0.629",
         "0.5309935",
         "False",
         "False"
        ],
        [
         "Glory Of LoveDon Gardner And Dee Dee Ford",
         "0.48",
         "0.7450842",
         "False",
         "True"
        ],
        [
         "Crazy About The La La LaSmokey Robinson & The Miracles",
         "0.916",
         "0.72839606",
         "True",
         "True"
        ],
        [
         "If I Were A CarpenterJohnny Cash & June Carter",
         "0.685",
         "0.36461717",
         "False",
         "False"
        ],
        [
         "SuzanneNoel Harrison",
         "0.672",
         "0.44428134",
         "False",
         "False"
        ],
        [
         "Nutbush City LimitsIke & Tina Turner",
         "0.945",
         "0.77760816",
         "True",
         "True"
        ],
        [
         "You're Welcome, Stop On ByBobby Womack",
         "0.8319999999999999",
         "0.7191266",
         "True",
         "True"
        ],
        [
         "Going BadMeek Mill Featuring Drake",
         "0.544",
         "0.55261743",
         "False",
         "False"
        ],
        [
         "I Should Have CheatedKeyshia Cole",
         "0.4089999999999999",
         "0.32672247",
         "False",
         "False"
        ],
        [
         "If I Didn't CareConnie Francis",
         "0.372",
         "0.32914415",
         "False",
         "False"
        ],
        [
         "The Dark End Of The StreetJames Carr",
         "0.3559999999999999",
         "0.46656615",
         "False",
         "False"
        ],
        [
         "Too Many Fish In The SeaThe Marvelettes",
         "0.7069999999999999",
         "0.75822216",
         "True",
         "True"
        ],
        [
         "Small Town BoyDustin Lynch",
         "0.673",
         "0.54460317",
         "False",
         "False"
        ],
        [
         "Just Be My LadyLarry Graham",
         "0.166",
         "0.30391875",
         "False",
         "False"
        ],
        [
         "Hey JoeWilson Pickett",
         "0.813",
         "0.716741",
         "True",
         "True"
        ],
        [
         "Beneath Your BeautifulLabrinth Featuring Emeli Sande",
         "0.228",
         "0.38852307",
         "False",
         "False"
        ],
        [
         "I Can't Stop Loving YouCount Basie",
         "0.4829999999999999",
         "0.3386821",
         "False",
         "False"
        ],
        [
         "Lara's Theme from \"Dr. Zhivago\"Roger Williams",
         "0.2129999999999999",
         "0.31444255",
         "False",
         "False"
        ],
        [
         "We Are The World 25: For HaitiArtists For Haiti",
         "0.28",
         "0.3629141",
         "False",
         "False"
        ],
        [
         "StoleKelly Rowland",
         "0.4769999999999999",
         "0.61257875",
         "False",
         "False"
        ],
        [
         "Beatnik FlyJohnny And The Hurricanes",
         "0.931",
         "0.7683469",
         "True",
         "True"
        ],
        [
         "Tattoos On This TownJason Aldean",
         "0.444",
         "0.43113297",
         "False",
         "False"
        ]
       ],
       "shape": {
        "columns": 4,
        "rows": 715
       }
      },
      "text/html": [
       "<div>\n",
       "<style scoped>\n",
       "    .dataframe tbody tr th:only-of-type {\n",
       "        vertical-align: middle;\n",
       "    }\n",
       "\n",
       "    .dataframe tbody tr th {\n",
       "        vertical-align: top;\n",
       "    }\n",
       "\n",
       "    .dataframe thead th {\n",
       "        text-align: right;\n",
       "    }\n",
       "</style>\n",
       "<table border=\"1\" class=\"dataframe\">\n",
       "  <thead>\n",
       "    <tr style=\"text-align: right;\">\n",
       "      <th></th>\n",
       "      <th>Original Test</th>\n",
       "      <th>Prediction Test</th>\n",
       "      <th>Original over Thrashold</th>\n",
       "      <th>Predicted over Thrashold</th>\n",
       "    </tr>\n",
       "    <tr>\n",
       "      <th>SongID</th>\n",
       "      <th></th>\n",
       "      <th></th>\n",
       "      <th></th>\n",
       "      <th></th>\n",
       "    </tr>\n",
       "  </thead>\n",
       "  <tbody>\n",
       "    <tr>\n",
       "      <th>Can't Let You Out Of My SightChuck Jackson &amp; Maxine Brown</th>\n",
       "      <td>0.4530</td>\n",
       "      <td>0.784554</td>\n",
       "      <td>False</td>\n",
       "      <td>True</td>\n",
       "    </tr>\n",
       "    <tr>\n",
       "      <th>It's All Coming Back To Me NowCeline Dion</th>\n",
       "      <td>0.2860</td>\n",
       "      <td>0.275053</td>\n",
       "      <td>False</td>\n",
       "      <td>False</td>\n",
       "    </tr>\n",
       "    <tr>\n",
       "      <th>Birthday CakeRihanna Featuring Chris Brown</th>\n",
       "      <td>0.3290</td>\n",
       "      <td>0.784862</td>\n",
       "      <td>False</td>\n",
       "      <td>True</td>\n",
       "    </tr>\n",
       "    <tr>\n",
       "      <th>Jack The RipperLink Wray And The Wraymen</th>\n",
       "      <td>0.2920</td>\n",
       "      <td>0.477917</td>\n",
       "      <td>False</td>\n",
       "      <td>False</td>\n",
       "    </tr>\n",
       "    <tr>\n",
       "      <th>Little StarThe Elegants</th>\n",
       "      <td>0.6970</td>\n",
       "      <td>0.434628</td>\n",
       "      <td>False</td>\n",
       "      <td>False</td>\n",
       "    </tr>\n",
       "    <tr>\n",
       "      <th>...</th>\n",
       "      <td>...</td>\n",
       "      <td>...</td>\n",
       "      <td>...</td>\n",
       "      <td>...</td>\n",
       "    </tr>\n",
       "    <tr>\n",
       "      <th>Who Needs PicturesBrad Paisley</th>\n",
       "      <td>0.1520</td>\n",
       "      <td>0.382078</td>\n",
       "      <td>False</td>\n",
       "      <td>False</td>\n",
       "    </tr>\n",
       "    <tr>\n",
       "      <th>TwoLil Uzi Vert</th>\n",
       "      <td>0.0371</td>\n",
       "      <td>0.329481</td>\n",
       "      <td>False</td>\n",
       "      <td>False</td>\n",
       "    </tr>\n",
       "    <tr>\n",
       "      <th>Hands OnKanye West Featuring Fred Hammond</th>\n",
       "      <td>0.5980</td>\n",
       "      <td>0.428620</td>\n",
       "      <td>False</td>\n",
       "      <td>False</td>\n",
       "    </tr>\n",
       "    <tr>\n",
       "      <th>TogetherTierra</th>\n",
       "      <td>0.6370</td>\n",
       "      <td>0.560540</td>\n",
       "      <td>False</td>\n",
       "      <td>False</td>\n",
       "    </tr>\n",
       "    <tr>\n",
       "      <th>In The Summer Of His YearsConnie Francis</th>\n",
       "      <td>0.2960</td>\n",
       "      <td>0.335960</td>\n",
       "      <td>False</td>\n",
       "      <td>False</td>\n",
       "    </tr>\n",
       "  </tbody>\n",
       "</table>\n",
       "<p>715 rows × 4 columns</p>\n",
       "</div>"
      ],
      "text/plain": [
       "                                                    Original Test  \\\n",
       "SongID                                                              \n",
       "Can't Let You Out Of My SightChuck Jackson & Ma...         0.4530   \n",
       "It's All Coming Back To Me NowCeline Dion                  0.2860   \n",
       "Birthday CakeRihanna Featuring Chris Brown                 0.3290   \n",
       "Jack The RipperLink Wray And The Wraymen                   0.2920   \n",
       "Little StarThe Elegants                                    0.6970   \n",
       "...                                                           ...   \n",
       "Who Needs PicturesBrad Paisley                             0.1520   \n",
       "TwoLil Uzi Vert                                            0.0371   \n",
       "Hands OnKanye West Featuring Fred Hammond                  0.5980   \n",
       "TogetherTierra                                             0.6370   \n",
       "In The Summer Of His YearsConnie Francis                   0.2960   \n",
       "\n",
       "                                                    Prediction Test  \\\n",
       "SongID                                                                \n",
       "Can't Let You Out Of My SightChuck Jackson & Ma...         0.784554   \n",
       "It's All Coming Back To Me NowCeline Dion                  0.275053   \n",
       "Birthday CakeRihanna Featuring Chris Brown                 0.784862   \n",
       "Jack The RipperLink Wray And The Wraymen                   0.477917   \n",
       "Little StarThe Elegants                                    0.434628   \n",
       "...                                                             ...   \n",
       "Who Needs PicturesBrad Paisley                             0.382078   \n",
       "TwoLil Uzi Vert                                            0.329481   \n",
       "Hands OnKanye West Featuring Fred Hammond                  0.428620   \n",
       "TogetherTierra                                             0.560540   \n",
       "In The Summer Of His YearsConnie Francis                   0.335960   \n",
       "\n",
       "                                                    Original over Thrashold  \\\n",
       "SongID                                                                        \n",
       "Can't Let You Out Of My SightChuck Jackson & Ma...                    False   \n",
       "It's All Coming Back To Me NowCeline Dion                             False   \n",
       "Birthday CakeRihanna Featuring Chris Brown                            False   \n",
       "Jack The RipperLink Wray And The Wraymen                              False   \n",
       "Little StarThe Elegants                                               False   \n",
       "...                                                                     ...   \n",
       "Who Needs PicturesBrad Paisley                                        False   \n",
       "TwoLil Uzi Vert                                                       False   \n",
       "Hands OnKanye West Featuring Fred Hammond                             False   \n",
       "TogetherTierra                                                        False   \n",
       "In The Summer Of His YearsConnie Francis                              False   \n",
       "\n",
       "                                                    Predicted over Thrashold  \n",
       "SongID                                                                        \n",
       "Can't Let You Out Of My SightChuck Jackson & Ma...                      True  \n",
       "It's All Coming Back To Me NowCeline Dion                              False  \n",
       "Birthday CakeRihanna Featuring Chris Brown                              True  \n",
       "Jack The RipperLink Wray And The Wraymen                               False  \n",
       "Little StarThe Elegants                                                False  \n",
       "...                                                                      ...  \n",
       "Who Needs PicturesBrad Paisley                                         False  \n",
       "TwoLil Uzi Vert                                                        False  \n",
       "Hands OnKanye West Featuring Fred Hammond                              False  \n",
       "TogetherTierra                                                         False  \n",
       "In The Summer Of His YearsConnie Francis                               False  \n",
       "\n",
       "[715 rows x 4 columns]"
      ]
     },
     "metadata": {},
     "output_type": "display_data"
    },
    {
     "data": {
      "image/png": "[encoded data removed]",
      "text/plain": [
       "<Figure size 640x480 with 2 Axes>"
      ]
     },
     "metadata": {},
     "output_type": "display_data"
    },
    {
     "data": {
      "application/vnd.microsoft.datawrangler.viewer.v0+json": {
       "columns": [
        {
         "name": "index",
         "rawType": "int64",
         "type": "integer"
        },
        {
         "name": "Metric",
         "rawType": "object",
         "type": "string"
        },
        {
         "name": "Value",
         "rawType": "float64",
         "type": "float"
        }
       ],
       "conversionMethod": "pd.DataFrame",
       "ref": "f45acb4e-ce4c-40d2-b48c-d1736ebdcd3a",
       "rows": [
        [
         "0",
         "Accuracy",
         "0.83"
        ],
        [
         "1",
         "Precision",
         "0.86"
        ],
        [
         "2",
         "Recall",
         "0.39"
        ],
        [
         "3",
         "F1-score",
         "0.54"
        ]
       ],
       "shape": {
        "columns": 2,
        "rows": 4
       }
      },
      "text/html": [
       "<div>\n",
       "<style scoped>\n",
       "    .dataframe tbody tr th:only-of-type {\n",
       "        vertical-align: middle;\n",
       "    }\n",
       "\n",
       "    .dataframe tbody tr th {\n",
       "        vertical-align: top;\n",
       "    }\n",
       "\n",
       "    .dataframe thead th {\n",
       "        text-align: right;\n",
       "    }\n",
       "</style>\n",
       "<table border=\"1\" class=\"dataframe\">\n",
       "  <thead>\n",
       "    <tr style=\"text-align: right;\">\n",
       "      <th></th>\n",
       "      <th>Metric</th>\n",
       "      <th>Value</th>\n",
       "    </tr>\n",
       "  </thead>\n",
       "  <tbody>\n",
       "    <tr>\n",
       "      <th>0</th>\n",
       "      <td>Accuracy</td>\n",
       "      <td>0.83</td>\n",
       "    </tr>\n",
       "    <tr>\n",
       "      <th>1</th>\n",
       "      <td>Precision</td>\n",
       "      <td>0.86</td>\n",
       "    </tr>\n",
       "    <tr>\n",
       "      <th>2</th>\n",
       "      <td>Recall</td>\n",
       "      <td>0.39</td>\n",
       "    </tr>\n",
       "    <tr>\n",
       "      <th>3</th>\n",
       "      <td>F1-score</td>\n",
       "      <td>0.54</td>\n",
       "    </tr>\n",
       "  </tbody>\n",
       "</table>\n",
       "</div>"
      ],
      "text/plain": [
       "      Metric  Value\n",
       "0   Accuracy   0.83\n",
       "1  Precision   0.86\n",
       "2     Recall   0.39\n",
       "3   F1-score   0.54"
      ]
     },
     "metadata": {},
     "output_type": "display_data"
    },
    {
     "name": "stdout",
     "output_type": "stream",
     "text": [
      "---------------------------------------------------------\n",
      "USER 4\n",
      "Epoch 1/100\n"
     ]
    },
    {
     "name": "stderr",
     "output_type": "stream",
     "text": [
      "C:\\Users\\lovoa\\AppData\\Local\\Temp\\ipykernel_14936\\3823668386.py:9: SettingWithCopyWarning: \n",
      "A value is trying to be set on a copy of a slice from a DataFrame.\n",
      "Try using .loc[row_indexer,col_indexer] = value instead\n",
      "\n",
      "See the caveats in the documentation: https://pandas.pydata.org/pandas-docs/stable/user_guide/indexing.html#returning-a-view-versus-a-copy\n",
      "  x[numerical_features] = scaler.fit_transform(x[numerical_features])\n",
      "c:\\Users\\lovoa\\AppData\\Local\\Programs\\Python\\Python312\\Lib\\site-packages\\keras\\src\\layers\\core\\dense.py:87: UserWarning: Do not pass an `input_shape`/`input_dim` argument to a layer. When using Sequential models, prefer using an `Input(shape)` object as the first layer in the model instead.\n",
      "  super().__init__(activity_regularizer=activity_regularizer, **kwargs)\n"
     ]
    },
    {
     "name": "stdout",
     "output_type": "stream",
     "text": [
      "\u001b[1m63/63\u001b[0m \u001b[32m━━━━━━━━━━━━━━━━━━━━\u001b[0m\u001b[37m\u001b[0m \u001b[1m2s\u001b[0m 9ms/step - loss: 0.5152 - mae: 0.2142 - val_loss: 0.3511 - val_mae: 0.1916\n",
      "Epoch 2/100\n",
      "\u001b[1m63/63\u001b[0m \u001b[32m━━━━━━━━━━━━━━━━━━━━\u001b[0m\u001b[37m\u001b[0m \u001b[1m0s\u001b[0m 2ms/step - loss: 0.3153 - mae: 0.1881 - val_loss: 0.2192 - val_mae: 0.1827\n",
      "Epoch 3/100\n",
      "\u001b[1m63/63\u001b[0m \u001b[32m━━━━━━━━━━━━━━━━━━━━\u001b[0m\u001b[37m\u001b[0m \u001b[1m0s\u001b[0m 2ms/step - loss: 0.1979 - mae: 0.1783 - val_loss: 0.1408 - val_mae: 0.1760\n",
      "Epoch 4/100\n",
      "\u001b[1m63/63\u001b[0m \u001b[32m━━━━━━━━━━━━━━━━━━━━\u001b[0m\u001b[37m\u001b[0m \u001b[1m0s\u001b[0m 2ms/step - loss: 0.1284 - mae: 0.1736 - val_loss: 0.0953 - val_mae: 0.1702\n",
      "Epoch 5/100\n",
      "\u001b[1m63/63\u001b[0m \u001b[32m━━━━━━━━━━━━━━━━━━━━\u001b[0m\u001b[37m\u001b[0m \u001b[1m0s\u001b[0m 2ms/step - loss: 0.0897 - mae: 0.1682 - val_loss: 0.0699 - val_mae: 0.1661\n",
      "Epoch 6/100\n",
      "\u001b[1m63/63\u001b[0m \u001b[32m━━━━━━━━━━━━━━━━━━━━\u001b[0m\u001b[37m\u001b[0m \u001b[1m0s\u001b[0m 2ms/step - loss: 0.0672 - mae: 0.1627 - val_loss: 0.0563 - val_mae: 0.1621\n",
      "Epoch 7/100\n",
      "\u001b[1m63/63\u001b[0m \u001b[32m━━━━━━━━━━━━━━━━━━━━\u001b[0m\u001b[37m\u001b[0m \u001b[1m0s\u001b[0m 2ms/step - loss: 0.0536 - mae: 0.1564 - val_loss: 0.0487 - val_mae: 0.1588\n",
      "Epoch 8/100\n",
      "\u001b[1m63/63\u001b[0m \u001b[32m━━━━━━━━━━━━━━━━━━━━\u001b[0m\u001b[37m\u001b[0m \u001b[1m0s\u001b[0m 2ms/step - loss: 0.0484 - mae: 0.1559 - val_loss: 0.0449 - val_mae: 0.1569\n",
      "Epoch 9/100\n",
      "\u001b[1m63/63\u001b[0m \u001b[32m━━━━━━━━━━━━━━━━━━━━\u001b[0m\u001b[37m\u001b[0m \u001b[1m0s\u001b[0m 2ms/step - loss: 0.0450 - mae: 0.1538 - val_loss: 0.0426 - val_mae: 0.1543\n",
      "Epoch 10/100\n",
      "\u001b[1m63/63\u001b[0m \u001b[32m━━━━━━━━━━━━━━━━━━━━\u001b[0m\u001b[37m\u001b[0m \u001b[1m0s\u001b[0m 2ms/step - loss: 0.0420 - mae: 0.1494 - val_loss: 0.0417 - val_mae: 0.1537\n",
      "Epoch 11/100\n",
      "\u001b[1m63/63\u001b[0m \u001b[32m━━━━━━━━━━━━━━━━━━━━\u001b[0m\u001b[37m\u001b[0m \u001b[1m0s\u001b[0m 2ms/step - loss: 0.0420 - mae: 0.1516 - val_loss: 0.0409 - val_mae: 0.1536\n",
      "Epoch 12/100\n",
      "\u001b[1m63/63\u001b[0m \u001b[32m━━━━━━━━━━━━━━━━━━━━\u001b[0m\u001b[37m\u001b[0m \u001b[1m0s\u001b[0m 2ms/step - loss: 0.0407 - mae: 0.1480 - val_loss: 0.0398 - val_mae: 0.1512\n",
      "Epoch 13/100\n",
      "\u001b[1m63/63\u001b[0m \u001b[32m━━━━━━━━━━━━━━━━━━━━\u001b[0m\u001b[37m\u001b[0m \u001b[1m0s\u001b[0m 2ms/step - loss: 0.0416 - mae: 0.1535 - val_loss: 0.0394 - val_mae: 0.1508\n",
      "Epoch 14/100\n",
      "\u001b[1m63/63\u001b[0m \u001b[32m━━━━━━━━━━━━━━━━━━━━\u001b[0m\u001b[37m\u001b[0m \u001b[1m0s\u001b[0m 2ms/step - loss: 0.0409 - mae: 0.1514 - val_loss: 0.0396 - val_mae: 0.1513\n",
      "Epoch 15/100\n",
      "\u001b[1m63/63\u001b[0m \u001b[32m━━━━━━━━━━━━━━━━━━━━\u001b[0m\u001b[37m\u001b[0m \u001b[1m0s\u001b[0m 2ms/step - loss: 0.0407 - mae: 0.1510 - val_loss: 0.0390 - val_mae: 0.1507\n",
      "Epoch 16/100\n",
      "\u001b[1m63/63\u001b[0m \u001b[32m━━━━━━━━━━━━━━━━━━━━\u001b[0m\u001b[37m\u001b[0m \u001b[1m0s\u001b[0m 2ms/step - loss: 0.0394 - mae: 0.1483 - val_loss: 0.0385 - val_mae: 0.1482\n",
      "Epoch 17/100\n",
      "\u001b[1m63/63\u001b[0m \u001b[32m━━━━━━━━━━━━━━━━━━━━\u001b[0m\u001b[37m\u001b[0m \u001b[1m0s\u001b[0m 2ms/step - loss: 0.0393 - mae: 0.1478 - val_loss: 0.0384 - val_mae: 0.1480\n",
      "Epoch 18/100\n",
      "\u001b[1m63/63\u001b[0m \u001b[32m━━━━━━━━━━━━━━━━━━━━\u001b[0m\u001b[37m\u001b[0m \u001b[1m0s\u001b[0m 2ms/step - loss: 0.0394 - mae: 0.1472 - val_loss: 0.0382 - val_mae: 0.1481\n",
      "Epoch 19/100\n",
      "\u001b[1m63/63\u001b[0m \u001b[32m━━━━━━━━━━━━━━━━━━━━\u001b[0m\u001b[37m\u001b[0m \u001b[1m0s\u001b[0m 2ms/step - loss: 0.0388 - mae: 0.1473 - val_loss: 0.0383 - val_mae: 0.1498\n",
      "Epoch 20/100\n",
      "\u001b[1m63/63\u001b[0m \u001b[32m━━━━━━━━━━━━━━━━━━━━\u001b[0m\u001b[37m\u001b[0m \u001b[1m0s\u001b[0m 2ms/step - loss: 0.0386 - mae: 0.1469 - val_loss: 0.0384 - val_mae: 0.1492\n",
      "Epoch 21/100\n",
      "\u001b[1m63/63\u001b[0m \u001b[32m━━━━━━━━━━━━━━━━━━━━\u001b[0m\u001b[37m\u001b[0m \u001b[1m0s\u001b[0m 2ms/step - loss: 0.0385 - mae: 0.1460 - val_loss: 0.0379 - val_mae: 0.1486\n",
      "Epoch 22/100\n",
      "\u001b[1m63/63\u001b[0m \u001b[32m━━━━━━━━━━━━━━━━━━━━\u001b[0m\u001b[37m\u001b[0m \u001b[1m0s\u001b[0m 2ms/step - loss: 0.0382 - mae: 0.1473 - val_loss: 0.0385 - val_mae: 0.1501\n",
      "Epoch 23/100\n",
      "\u001b[1m63/63\u001b[0m \u001b[32m━━━━━━━━━━━━━━━━━━━━\u001b[0m\u001b[37m\u001b[0m \u001b[1m0s\u001b[0m 2ms/step - loss: 0.0401 - mae: 0.1512 - val_loss: 0.0375 - val_mae: 0.1475\n",
      "Epoch 24/100\n",
      "\u001b[1m63/63\u001b[0m \u001b[32m━━━━━━━━━━━━━━━━━━━━\u001b[0m\u001b[37m\u001b[0m \u001b[1m0s\u001b[0m 2ms/step - loss: 0.0393 - mae: 0.1492 - val_loss: 0.0372 - val_mae: 0.1474\n",
      "Epoch 25/100\n",
      "\u001b[1m63/63\u001b[0m \u001b[32m━━━━━━━━━━━━━━━━━━━━\u001b[0m\u001b[37m\u001b[0m \u001b[1m0s\u001b[0m 2ms/step - loss: 0.0390 - mae: 0.1499 - val_loss: 0.0371 - val_mae: 0.1472\n",
      "Epoch 26/100\n",
      "\u001b[1m63/63\u001b[0m \u001b[32m━━━━━━━━━━━━━━━━━━━━\u001b[0m\u001b[37m\u001b[0m \u001b[1m0s\u001b[0m 2ms/step - loss: 0.0378 - mae: 0.1462 - val_loss: 0.0371 - val_mae: 0.1454\n",
      "Epoch 27/100\n",
      "\u001b[1m63/63\u001b[0m \u001b[32m━━━━━━━━━━━━━━━━━━━━\u001b[0m\u001b[37m\u001b[0m \u001b[1m0s\u001b[0m 2ms/step - loss: 0.0382 - mae: 0.1466 - val_loss: 0.0370 - val_mae: 0.1468\n",
      "Epoch 28/100\n",
      "\u001b[1m63/63\u001b[0m \u001b[32m━━━━━━━━━━━━━━━━━━━━\u001b[0m\u001b[37m\u001b[0m \u001b[1m0s\u001b[0m 2ms/step - loss: 0.0369 - mae: 0.1433 - val_loss: 0.0372 - val_mae: 0.1463\n",
      "Epoch 29/100\n",
      "\u001b[1m63/63\u001b[0m \u001b[32m━━━━━━━━━━━━━━━━━━━━\u001b[0m\u001b[37m\u001b[0m \u001b[1m0s\u001b[0m 2ms/step - loss: 0.0377 - mae: 0.1461 - val_loss: 0.0368 - val_mae: 0.1463\n",
      "Epoch 30/100\n",
      "\u001b[1m63/63\u001b[0m \u001b[32m━━━━━━━━━━━━━━━━━━━━\u001b[0m\u001b[37m\u001b[0m \u001b[1m0s\u001b[0m 2ms/step - loss: 0.0366 - mae: 0.1424 - val_loss: 0.0376 - val_mae: 0.1480\n",
      "Epoch 31/100\n",
      "\u001b[1m63/63\u001b[0m \u001b[32m━━━━━━━━━━━━━━━━━━━━\u001b[0m\u001b[37m\u001b[0m \u001b[1m0s\u001b[0m 2ms/step - loss: 0.0385 - mae: 0.1484 - val_loss: 0.0370 - val_mae: 0.1464\n",
      "Epoch 32/100\n",
      "\u001b[1m63/63\u001b[0m \u001b[32m━━━━━━━━━━━━━━━━━━━━\u001b[0m\u001b[37m\u001b[0m \u001b[1m0s\u001b[0m 2ms/step - loss: 0.0360 - mae: 0.1408 - val_loss: 0.0371 - val_mae: 0.1472\n",
      "Epoch 33/100\n",
      "\u001b[1m63/63\u001b[0m \u001b[32m━━━━━━━━━━━━━━━━━━━━\u001b[0m\u001b[37m\u001b[0m \u001b[1m0s\u001b[0m 4ms/step - loss: 0.0367 - mae: 0.1448 - val_loss: 0.0364 - val_mae: 0.1461\n",
      "Epoch 34/100\n",
      "\u001b[1m63/63\u001b[0m \u001b[32m━━━━━━━━━━━━━━━━━━━━\u001b[0m\u001b[37m\u001b[0m \u001b[1m0s\u001b[0m 3ms/step - loss: 0.0377 - mae: 0.1476 - val_loss: 0.0361 - val_mae: 0.1451\n",
      "Epoch 35/100\n",
      "\u001b[1m63/63\u001b[0m \u001b[32m━━━━━━━━━━━━━━━━━━━━\u001b[0m\u001b[37m\u001b[0m \u001b[1m0s\u001b[0m 2ms/step - loss: 0.0352 - mae: 0.1400 - val_loss: 0.0363 - val_mae: 0.1453\n",
      "Epoch 36/100\n",
      "\u001b[1m63/63\u001b[0m \u001b[32m━━━━━━━━━━━━━━━━━━━━\u001b[0m\u001b[37m\u001b[0m \u001b[1m0s\u001b[0m 3ms/step - loss: 0.0366 - mae: 0.1453 - val_loss: 0.0363 - val_mae: 0.1453\n",
      "Epoch 37/100\n",
      "\u001b[1m63/63\u001b[0m \u001b[32m━━━━━━━━━━━━━━━━━━━━\u001b[0m\u001b[37m\u001b[0m \u001b[1m0s\u001b[0m 2ms/step - loss: 0.0373 - mae: 0.1460 - val_loss: 0.0360 - val_mae: 0.1454\n",
      "Epoch 38/100\n",
      "\u001b[1m63/63\u001b[0m \u001b[32m━━━━━━━━━━━━━━━━━━━━\u001b[0m\u001b[37m\u001b[0m \u001b[1m0s\u001b[0m 2ms/step - loss: 0.0378 - mae: 0.1463 - val_loss: 0.0368 - val_mae: 0.1469\n",
      "Epoch 39/100\n",
      "\u001b[1m63/63\u001b[0m \u001b[32m━━━━━━━━━━━━━━━━━━━━\u001b[0m\u001b[37m\u001b[0m \u001b[1m0s\u001b[0m 2ms/step - loss: 0.0364 - mae: 0.1428 - val_loss: 0.0361 - val_mae: 0.1448\n",
      "Epoch 40/100\n",
      "\u001b[1m63/63\u001b[0m \u001b[32m━━━━━━━━━━━━━━━━━━━━\u001b[0m\u001b[37m\u001b[0m \u001b[1m0s\u001b[0m 2ms/step - loss: 0.0378 - mae: 0.1477 - val_loss: 0.0356 - val_mae: 0.1430\n",
      "Epoch 41/100\n",
      "\u001b[1m63/63\u001b[0m \u001b[32m━━━━━━━━━━━━━━━━━━━━\u001b[0m\u001b[37m\u001b[0m \u001b[1m0s\u001b[0m 2ms/step - loss: 0.0364 - mae: 0.1431 - val_loss: 0.0361 - val_mae: 0.1463\n",
      "Epoch 42/100\n",
      "\u001b[1m63/63\u001b[0m \u001b[32m━━━━━━━━━━━━━━━━━━━━\u001b[0m\u001b[37m\u001b[0m \u001b[1m0s\u001b[0m 2ms/step - loss: 0.0371 - mae: 0.1458 - val_loss: 0.0357 - val_mae: 0.1444\n",
      "Epoch 43/100\n",
      "\u001b[1m63/63\u001b[0m \u001b[32m━━━━━━━━━━━━━━━━━━━━\u001b[0m\u001b[37m\u001b[0m \u001b[1m0s\u001b[0m 2ms/step - loss: 0.0364 - mae: 0.1428 - val_loss: 0.0361 - val_mae: 0.1441\n",
      "Epoch 44/100\n",
      "\u001b[1m63/63\u001b[0m \u001b[32m━━━━━━━━━━━━━━━━━━━━\u001b[0m\u001b[37m\u001b[0m \u001b[1m0s\u001b[0m 2ms/step - loss: 0.0369 - mae: 0.1442 - val_loss: 0.0355 - val_mae: 0.1440\n",
      "Epoch 45/100\n",
      "\u001b[1m63/63\u001b[0m \u001b[32m━━━━━━━━━━━━━━━━━━━━\u001b[0m\u001b[37m\u001b[0m \u001b[1m0s\u001b[0m 2ms/step - loss: 0.0362 - mae: 0.1430 - val_loss: 0.0354 - val_mae: 0.1434\n",
      "Epoch 46/100\n",
      "\u001b[1m63/63\u001b[0m \u001b[32m━━━━━━━━━━━━━━━━━━━━\u001b[0m\u001b[37m\u001b[0m \u001b[1m0s\u001b[0m 2ms/step - loss: 0.0370 - mae: 0.1452 - val_loss: 0.0361 - val_mae: 0.1471\n",
      "Epoch 47/100\n",
      "\u001b[1m63/63\u001b[0m \u001b[32m━━━━━━━━━━━━━━━━━━━━\u001b[0m\u001b[37m\u001b[0m \u001b[1m0s\u001b[0m 2ms/step - loss: 0.0375 - mae: 0.1486 - val_loss: 0.0353 - val_mae: 0.1424\n",
      "Epoch 48/100\n",
      "\u001b[1m63/63\u001b[0m \u001b[32m━━━━━━━━━━━━━━━━━━━━\u001b[0m\u001b[37m\u001b[0m \u001b[1m0s\u001b[0m 2ms/step - loss: 0.0383 - mae: 0.1488 - val_loss: 0.0353 - val_mae: 0.1440\n",
      "Epoch 49/100\n",
      "\u001b[1m63/63\u001b[0m \u001b[32m━━━━━━━━━━━━━━━━━━━━\u001b[0m\u001b[37m\u001b[0m \u001b[1m0s\u001b[0m 2ms/step - loss: 0.0363 - mae: 0.1420 - val_loss: 0.0352 - val_mae: 0.1432\n",
      "Epoch 50/100\n",
      "\u001b[1m63/63\u001b[0m \u001b[32m━━━━━━━━━━━━━━━━━━━━\u001b[0m\u001b[37m\u001b[0m \u001b[1m0s\u001b[0m 2ms/step - loss: 0.0355 - mae: 0.1413 - val_loss: 0.0351 - val_mae: 0.1427\n",
      "Epoch 51/100\n",
      "\u001b[1m63/63\u001b[0m \u001b[32m━━━━━━━━━━━━━━━━━━━━\u001b[0m\u001b[37m\u001b[0m \u001b[1m0s\u001b[0m 2ms/step - loss: 0.0360 - mae: 0.1422 - val_loss: 0.0352 - val_mae: 0.1420\n",
      "Epoch 52/100\n",
      "\u001b[1m63/63\u001b[0m \u001b[32m━━━━━━━━━━━━━━━━━━━━\u001b[0m\u001b[37m\u001b[0m \u001b[1m0s\u001b[0m 2ms/step - loss: 0.0366 - mae: 0.1442 - val_loss: 0.0350 - val_mae: 0.1417\n",
      "Epoch 53/100\n",
      "\u001b[1m63/63\u001b[0m \u001b[32m━━━━━━━━━━━━━━━━━━━━\u001b[0m\u001b[37m\u001b[0m \u001b[1m0s\u001b[0m 2ms/step - loss: 0.0361 - mae: 0.1436 - val_loss: 0.0354 - val_mae: 0.1435\n",
      "Epoch 54/100\n",
      "\u001b[1m63/63\u001b[0m \u001b[32m━━━━━━━━━━━━━━━━━━━━\u001b[0m\u001b[37m\u001b[0m \u001b[1m0s\u001b[0m 2ms/step - loss: 0.0357 - mae: 0.1435 - val_loss: 0.0349 - val_mae: 0.1440\n",
      "Epoch 55/100\n",
      "\u001b[1m63/63\u001b[0m \u001b[32m━━━━━━━━━━━━━━━━━━━━\u001b[0m\u001b[37m\u001b[0m \u001b[1m0s\u001b[0m 2ms/step - loss: 0.0371 - mae: 0.1469 - val_loss: 0.0354 - val_mae: 0.1436\n",
      "Epoch 56/100\n",
      "\u001b[1m63/63\u001b[0m \u001b[32m━━━━━━━━━━━━━━━━━━━━\u001b[0m\u001b[37m\u001b[0m \u001b[1m0s\u001b[0m 2ms/step - loss: 0.0373 - mae: 0.1467 - val_loss: 0.0345 - val_mae: 0.1407\n",
      "Epoch 57/100\n",
      "\u001b[1m63/63\u001b[0m \u001b[32m━━━━━━━━━━━━━━━━━━━━\u001b[0m\u001b[37m\u001b[0m \u001b[1m0s\u001b[0m 2ms/step - loss: 0.0352 - mae: 0.1424 - val_loss: 0.0349 - val_mae: 0.1435\n",
      "Epoch 58/100\n",
      "\u001b[1m63/63\u001b[0m \u001b[32m━━━━━━━━━━━━━━━━━━━━\u001b[0m\u001b[37m\u001b[0m \u001b[1m0s\u001b[0m 3ms/step - loss: 0.0366 - mae: 0.1448 - val_loss: 0.0350 - val_mae: 0.1440\n",
      "Epoch 59/100\n",
      "\u001b[1m63/63\u001b[0m \u001b[32m━━━━━━━━━━━━━━━━━━━━\u001b[0m\u001b[37m\u001b[0m \u001b[1m0s\u001b[0m 2ms/step - loss: 0.0354 - mae: 0.1437 - val_loss: 0.0358 - val_mae: 0.1456\n",
      "Epoch 60/100\n",
      "\u001b[1m63/63\u001b[0m \u001b[32m━━━━━━━━━━━━━━━━━━━━\u001b[0m\u001b[37m\u001b[0m \u001b[1m0s\u001b[0m 2ms/step - loss: 0.0340 - mae: 0.1385 - val_loss: 0.0347 - val_mae: 0.1411\n",
      "Epoch 61/100\n",
      "\u001b[1m63/63\u001b[0m \u001b[32m━━━━━━━━━━━━━━━━━━━━\u001b[0m\u001b[37m\u001b[0m \u001b[1m0s\u001b[0m 2ms/step - loss: 0.0347 - mae: 0.1383 - val_loss: 0.0349 - val_mae: 0.1425\n",
      "Epoch 62/100\n",
      "\u001b[1m63/63\u001b[0m \u001b[32m━━━━━━━━━━━━━━━━━━━━\u001b[0m\u001b[37m\u001b[0m \u001b[1m0s\u001b[0m 2ms/step - loss: 0.0362 - mae: 0.1440 - val_loss: 0.0344 - val_mae: 0.1430\n",
      "Epoch 63/100\n",
      "\u001b[1m63/63\u001b[0m \u001b[32m━━━━━━━━━━━━━━━━━━━━\u001b[0m\u001b[37m\u001b[0m \u001b[1m0s\u001b[0m 2ms/step - loss: 0.0353 - mae: 0.1403 - val_loss: 0.0355 - val_mae: 0.1457\n",
      "Epoch 64/100\n",
      "\u001b[1m63/63\u001b[0m \u001b[32m━━━━━━━━━━━━━━━━━━━━\u001b[0m\u001b[37m\u001b[0m \u001b[1m0s\u001b[0m 2ms/step - loss: 0.0353 - mae: 0.1411 - val_loss: 0.0345 - val_mae: 0.1428\n",
      "Epoch 65/100\n",
      "\u001b[1m63/63\u001b[0m \u001b[32m━━━━━━━━━━━━━━━━━━━━\u001b[0m\u001b[37m\u001b[0m \u001b[1m0s\u001b[0m 2ms/step - loss: 0.0345 - mae: 0.1407 - val_loss: 0.0343 - val_mae: 0.1415\n",
      "Epoch 66/100\n",
      "\u001b[1m63/63\u001b[0m \u001b[32m━━━━━━━━━━━━━━━━━━━━\u001b[0m\u001b[37m\u001b[0m \u001b[1m0s\u001b[0m 2ms/step - loss: 0.0365 - mae: 0.1454 - val_loss: 0.0348 - val_mae: 0.1423\n",
      "Epoch 67/100\n",
      "\u001b[1m63/63\u001b[0m \u001b[32m━━━━━━━━━━━━━━━━━━━━\u001b[0m\u001b[37m\u001b[0m \u001b[1m0s\u001b[0m 2ms/step - loss: 0.0345 - mae: 0.1403 - val_loss: 0.0340 - val_mae: 0.1400\n",
      "Epoch 68/100\n",
      "\u001b[1m63/63\u001b[0m \u001b[32m━━━━━━━━━━━━━━━━━━━━\u001b[0m\u001b[37m\u001b[0m \u001b[1m0s\u001b[0m 2ms/step - loss: 0.0330 - mae: 0.1356 - val_loss: 0.0347 - val_mae: 0.1420\n",
      "Epoch 69/100\n",
      "\u001b[1m63/63\u001b[0m \u001b[32m━━━━━━━━━━━━━━━━━━━━\u001b[0m\u001b[37m\u001b[0m \u001b[1m0s\u001b[0m 2ms/step - loss: 0.0367 - mae: 0.1451 - val_loss: 0.0338 - val_mae: 0.1398\n",
      "Epoch 70/100\n",
      "\u001b[1m63/63\u001b[0m \u001b[32m━━━━━━━━━━━━━━━━━━━━\u001b[0m\u001b[37m\u001b[0m \u001b[1m0s\u001b[0m 2ms/step - loss: 0.0349 - mae: 0.1416 - val_loss: 0.0338 - val_mae: 0.1396\n",
      "Epoch 71/100\n",
      "\u001b[1m63/63\u001b[0m \u001b[32m━━━━━━━━━━━━━━━━━━━━\u001b[0m\u001b[37m\u001b[0m \u001b[1m0s\u001b[0m 2ms/step - loss: 0.0361 - mae: 0.1426 - val_loss: 0.0353 - val_mae: 0.1454\n",
      "Epoch 72/100\n",
      "\u001b[1m63/63\u001b[0m \u001b[32m━━━━━━━━━━━━━━━━━━━━\u001b[0m\u001b[37m\u001b[0m \u001b[1m0s\u001b[0m 2ms/step - loss: 0.0362 - mae: 0.1447 - val_loss: 0.0338 - val_mae: 0.1403\n",
      "Epoch 73/100\n",
      "\u001b[1m63/63\u001b[0m \u001b[32m━━━━━━━━━━━━━━━━━━━━\u001b[0m\u001b[37m\u001b[0m \u001b[1m0s\u001b[0m 2ms/step - loss: 0.0366 - mae: 0.1443 - val_loss: 0.0342 - val_mae: 0.1414\n",
      "Epoch 74/100\n",
      "\u001b[1m63/63\u001b[0m \u001b[32m━━━━━━━━━━━━━━━━━━━━\u001b[0m\u001b[37m\u001b[0m \u001b[1m0s\u001b[0m 2ms/step - loss: 0.0358 - mae: 0.1438 - val_loss: 0.0340 - val_mae: 0.1401\n",
      "Epoch 75/100\n",
      "\u001b[1m63/63\u001b[0m \u001b[32m━━━━━━━━━━━━━━━━━━━━\u001b[0m\u001b[37m\u001b[0m \u001b[1m0s\u001b[0m 2ms/step - loss: 0.0346 - mae: 0.1411 - val_loss: 0.0340 - val_mae: 0.1419\n",
      "Epoch 76/100\n",
      "\u001b[1m63/63\u001b[0m \u001b[32m━━━━━━━━━━━━━━━━━━━━\u001b[0m\u001b[37m\u001b[0m \u001b[1m0s\u001b[0m 2ms/step - loss: 0.0348 - mae: 0.1430 - val_loss: 0.0335 - val_mae: 0.1404\n",
      "Epoch 77/100\n",
      "\u001b[1m63/63\u001b[0m \u001b[32m━━━━━━━━━━━━━━━━━━━━\u001b[0m\u001b[37m\u001b[0m \u001b[1m0s\u001b[0m 2ms/step - loss: 0.0363 - mae: 0.1454 - val_loss: 0.0336 - val_mae: 0.1395\n",
      "Epoch 78/100\n",
      "\u001b[1m63/63\u001b[0m \u001b[32m━━━━━━━━━━━━━━━━━━━━\u001b[0m\u001b[37m\u001b[0m \u001b[1m0s\u001b[0m 2ms/step - loss: 0.0347 - mae: 0.1407 - val_loss: 0.0341 - val_mae: 0.1415\n",
      "Epoch 79/100\n",
      "\u001b[1m63/63\u001b[0m \u001b[32m━━━━━━━━━━━━━━━━━━━━\u001b[0m\u001b[37m\u001b[0m \u001b[1m0s\u001b[0m 4ms/step - loss: 0.0364 - mae: 0.1436 - val_loss: 0.0335 - val_mae: 0.1395\n",
      "Epoch 80/100\n",
      "\u001b[1m63/63\u001b[0m \u001b[32m━━━━━━━━━━━━━━━━━━━━\u001b[0m\u001b[37m\u001b[0m \u001b[1m0s\u001b[0m 2ms/step - loss: 0.0355 - mae: 0.1410 - val_loss: 0.0335 - val_mae: 0.1390\n",
      "Epoch 81/100\n",
      "\u001b[1m63/63\u001b[0m \u001b[32m━━━━━━━━━━━━━━━━━━━━\u001b[0m\u001b[37m\u001b[0m \u001b[1m0s\u001b[0m 2ms/step - loss: 0.0349 - mae: 0.1423 - val_loss: 0.0337 - val_mae: 0.1393\n",
      "Epoch 82/100\n",
      "\u001b[1m63/63\u001b[0m \u001b[32m━━━━━━━━━━━━━━━━━━━━\u001b[0m\u001b[37m\u001b[0m \u001b[1m0s\u001b[0m 2ms/step - loss: 0.0344 - mae: 0.1403 - val_loss: 0.0334 - val_mae: 0.1388\n",
      "Epoch 83/100\n",
      "\u001b[1m63/63\u001b[0m \u001b[32m━━━━━━━━━━━━━━━━━━━━\u001b[0m\u001b[37m\u001b[0m \u001b[1m0s\u001b[0m 2ms/step - loss: 0.0334 - mae: 0.1396 - val_loss: 0.0339 - val_mae: 0.1421\n",
      "Epoch 84/100\n",
      "\u001b[1m63/63\u001b[0m \u001b[32m━━━━━━━━━━━━━━━━━━━━\u001b[0m\u001b[37m\u001b[0m \u001b[1m0s\u001b[0m 2ms/step - loss: 0.0344 - mae: 0.1396 - val_loss: 0.0336 - val_mae: 0.1408\n",
      "Epoch 85/100\n",
      "\u001b[1m63/63\u001b[0m \u001b[32m━━━━━━━━━━━━━━━━━━━━\u001b[0m\u001b[37m\u001b[0m \u001b[1m0s\u001b[0m 2ms/step - loss: 0.0343 - mae: 0.1407 - val_loss: 0.0340 - val_mae: 0.1426\n",
      "Epoch 86/100\n",
      "\u001b[1m63/63\u001b[0m \u001b[32m━━━━━━━━━━━━━━━━━━━━\u001b[0m\u001b[37m\u001b[0m \u001b[1m0s\u001b[0m 2ms/step - loss: 0.0347 - mae: 0.1420 - val_loss: 0.0344 - val_mae: 0.1433\n",
      "Epoch 87/100\n",
      "\u001b[1m63/63\u001b[0m \u001b[32m━━━━━━━━━━━━━━━━━━━━\u001b[0m\u001b[37m\u001b[0m \u001b[1m0s\u001b[0m 2ms/step - loss: 0.0337 - mae: 0.1391 - val_loss: 0.0332 - val_mae: 0.1389\n",
      "Epoch 88/100\n",
      "\u001b[1m63/63\u001b[0m \u001b[32m━━━━━━━━━━━━━━━━━━━━\u001b[0m\u001b[37m\u001b[0m \u001b[1m0s\u001b[0m 2ms/step - loss: 0.0365 - mae: 0.1457 - val_loss: 0.0335 - val_mae: 0.1406\n",
      "Epoch 89/100\n",
      "\u001b[1m63/63\u001b[0m \u001b[32m━━━━━━━━━━━━━━━━━━━━\u001b[0m\u001b[37m\u001b[0m \u001b[1m0s\u001b[0m 2ms/step - loss: 0.0332 - mae: 0.1377 - val_loss: 0.0333 - val_mae: 0.1402\n",
      "Epoch 90/100\n",
      "\u001b[1m63/63\u001b[0m \u001b[32m━━━━━━━━━━━━━━━━━━━━\u001b[0m\u001b[37m\u001b[0m \u001b[1m0s\u001b[0m 2ms/step - loss: 0.0330 - mae: 0.1376 - val_loss: 0.0342 - val_mae: 0.1421\n",
      "Epoch 91/100\n",
      "\u001b[1m63/63\u001b[0m \u001b[32m━━━━━━━━━━━━━━━━━━━━\u001b[0m\u001b[37m\u001b[0m \u001b[1m0s\u001b[0m 2ms/step - loss: 0.0357 - mae: 0.1450 - val_loss: 0.0336 - val_mae: 0.1412\n",
      "Epoch 92/100\n",
      "\u001b[1m63/63\u001b[0m \u001b[32m━━━━━━━━━━━━━━━━━━━━\u001b[0m\u001b[37m\u001b[0m \u001b[1m0s\u001b[0m 2ms/step - loss: 0.0349 - mae: 0.1407 - val_loss: 0.0333 - val_mae: 0.1389\n",
      "Epoch 93/100\n",
      "\u001b[1m63/63\u001b[0m \u001b[32m━━━━━━━━━━━━━━━━━━━━\u001b[0m\u001b[37m\u001b[0m \u001b[1m0s\u001b[0m 2ms/step - loss: 0.0353 - mae: 0.1434 - val_loss: 0.0339 - val_mae: 0.1423\n",
      "Epoch 94/100\n",
      "\u001b[1m63/63\u001b[0m \u001b[32m━━━━━━━━━━━━━━━━━━━━\u001b[0m\u001b[37m\u001b[0m \u001b[1m0s\u001b[0m 2ms/step - loss: 0.0345 - mae: 0.1420 - val_loss: 0.0338 - val_mae: 0.1420\n",
      "Epoch 95/100\n",
      "\u001b[1m63/63\u001b[0m \u001b[32m━━━━━━━━━━━━━━━━━━━━\u001b[0m\u001b[37m\u001b[0m \u001b[1m0s\u001b[0m 2ms/step - loss: 0.0370 - mae: 0.1457 - val_loss: 0.0332 - val_mae: 0.1375\n",
      "Epoch 96/100\n",
      "\u001b[1m63/63\u001b[0m \u001b[32m━━━━━━━━━━━━━━━━━━━━\u001b[0m\u001b[37m\u001b[0m \u001b[1m0s\u001b[0m 2ms/step - loss: 0.0362 - mae: 0.1418 - val_loss: 0.0339 - val_mae: 0.1406\n",
      "Epoch 97/100\n",
      "\u001b[1m63/63\u001b[0m \u001b[32m━━━━━━━━━━━━━━━━━━━━\u001b[0m\u001b[37m\u001b[0m \u001b[1m0s\u001b[0m 3ms/step - loss: 0.0339 - mae: 0.1409 - val_loss: 0.0337 - val_mae: 0.1405\n",
      "Epoch 98/100\n",
      "\u001b[1m63/63\u001b[0m \u001b[32m━━━━━━━━━━━━━━━━━━━━\u001b[0m\u001b[37m\u001b[0m \u001b[1m0s\u001b[0m 2ms/step - loss: 0.0339 - mae: 0.1394 - val_loss: 0.0334 - val_mae: 0.1399\n",
      "Epoch 99/100\n",
      "\u001b[1m63/63\u001b[0m \u001b[32m━━━━━━━━━━━━━━━━━━━━\u001b[0m\u001b[37m\u001b[0m \u001b[1m0s\u001b[0m 2ms/step - loss: 0.0340 - mae: 0.1401 - val_loss: 0.0332 - val_mae: 0.1399\n",
      "Epoch 100/100\n",
      "\u001b[1m63/63\u001b[0m \u001b[32m━━━━━━━━━━━━━━━━━━━━\u001b[0m\u001b[37m\u001b[0m \u001b[1m0s\u001b[0m 2ms/step - loss: 0.0338 - mae: 0.1408 - val_loss: 0.0330 - val_mae: 0.1398\n",
      "\u001b[1m16/16\u001b[0m \u001b[32m━━━━━━━━━━━━━━━━━━━━\u001b[0m\u001b[37m\u001b[0m \u001b[1m0s\u001b[0m 3ms/step \n"
     ]
    },
    {
     "data": {
      "image/png": "[encoded data removed]",
      "text/plain": [
       "<Figure size 640x480 with 1 Axes>"
      ]
     },
     "metadata": {},
     "output_type": "display_data"
    },
    {
     "data": {
      "image/png": "[encoded data removed]",
      "text/plain": [
       "<Figure size 640x480 with 1 Axes>"
      ]
     },
     "metadata": {},
     "output_type": "display_data"
    },
    {
     "name": "stdout",
     "output_type": "stream",
     "text": [
      "\u001b[1m16/16\u001b[0m \u001b[32m━━━━━━━━━━━━━━━━━━━━\u001b[0m\u001b[37m\u001b[0m \u001b[1m0s\u001b[0m 2ms/step - loss: 0.0340 - mae: 0.1429\n",
      "MSE:  0.03296373412013054\n",
      "MAE: 0.13978230953216553\n"
     ]
    },
    {
     "data": {
      "application/vnd.microsoft.datawrangler.viewer.v0+json": {
       "columns": [
        {
         "name": "SongID",
         "rawType": "object",
         "type": "string"
        },
        {
         "name": "Original Test",
         "rawType": "float64",
         "type": "float"
        },
        {
         "name": "Prediction Test",
         "rawType": "float32",
         "type": "float"
        },
        {
         "name": "Original over Thrashold",
         "rawType": "bool",
         "type": "boolean"
        },
        {
         "name": "Predicted over Thrashold",
         "rawType": "bool",
         "type": "boolean"
        }
       ],
       "conversionMethod": "pd.DataFrame",
       "ref": "1fe7405b-f46f-408b-a349-2bad7634eb09",
       "rows": [
        [
         "DespacitoLuis Fonsi & Daddy Yankee Featuring Justin Bieber",
         "0.816",
         "0.6616019",
         "True",
         "False"
        ],
        [
         "Wish You Were HereAvril Lavigne",
         "0.34",
         "0.5753442",
         "False",
         "False"
        ],
        [
         "Wichita LinemanGlen Campbell",
         "0.391",
         "0.35232112",
         "False",
         "False"
        ],
        [
         "PinkAerosmith",
         "0.777",
         "0.5114659",
         "True",
         "False"
        ],
        [
         "Go Hard Or Go HomeWiz Khalifa & Iggy Azalea",
         "0.386",
         "0.55438626",
         "False",
         "False"
        ],
        [
         "Girls In The HoodMegan Thee Stallion",
         "0.874",
         "0.70038986",
         "True",
         "True"
        ],
        [
         "Farther On Down The RoadJoe Simon",
         "0.644",
         "0.7071539",
         "False",
         "True"
        ],
        [
         "I Can Love YouMary J. Blige",
         "0.7359999999999999",
         "0.53347373",
         "True",
         "False"
        ],
        [
         "Gypsys, Tramps & ThievesCher",
         "0.7049999999999998",
         "0.71360445",
         "True",
         "True"
        ],
        [
         "Reap What You SowBilly Stewart",
         "0.462",
         "0.7187948",
         "False",
         "True"
        ],
        [
         "The NoteDaryle Singletary",
         "0.382",
         "0.43059313",
         "False",
         "False"
        ],
        [
         "The Story Of Our LoveJohnny Mathis",
         "0.26",
         "0.37310827",
         "False",
         "False"
        ],
        [
         "Since I Don't Have YouDon McLean",
         "0.8249999999999998",
         "0.5575844",
         "True",
         "False"
        ],
        [
         "White FlagDido",
         "0.2839999999999999",
         "0.47828028",
         "False",
         "False"
        ],
        [
         "PresidentialYoungBloodZ",
         "0.3659999999999999",
         "0.49664947",
         "False",
         "False"
        ],
        [
         "One Way Or AnotherBlondie",
         "0.85",
         "0.67606306",
         "True",
         "False"
        ],
        [
         "Battle ScarsLupe Fiasco & Guy Sebastian",
         "0.4939999999999999",
         "0.48945782",
         "False",
         "False"
        ],
        [
         "Can't Let GoMariah Carey",
         "0.18",
         "0.5425187",
         "False",
         "False"
        ],
        [
         "ImpossibleGloria Lynne",
         "0.343",
         "0.39559212",
         "False",
         "False"
        ],
        [
         "Can't Stop Dancin'Captain & Tennille",
         "0.7359999999999999",
         "0.706377",
         "True",
         "True"
        ],
        [
         "Her Royal MajestyJames Darren",
         "0.91",
         "0.7051252",
         "True",
         "True"
        ],
        [
         "Size Matters (Someday)Joe Nichols",
         "0.683",
         "0.71902025",
         "False",
         "True"
        ],
        [
         "RakataWisin & Yandel",
         "0.7189999999999999",
         "0.732247",
         "True",
         "True"
        ],
        [
         "Deeper (In Love With You)The O'Jays",
         "0.902",
         "0.806076",
         "True",
         "True"
        ],
        [
         "Night's On FireDavid Nail",
         "0.784",
         "0.6499597",
         "True",
         "False"
        ],
        [
         "Put OnYoung Jeezy Featuring Kanye West",
         "0.573",
         "0.73935217",
         "False",
         "True"
        ],
        [
         "Psychotic ReactionCount Five",
         "0.667",
         "0.5333767",
         "False",
         "False"
        ],
        [
         "All Through The NightTone-Loc",
         "0.802",
         "0.7177614",
         "True",
         "True"
        ],
        [
         "Say AahLindsey Pavao",
         "0.4209999999999999",
         "0.80956686",
         "False",
         "True"
        ],
        [
         "I'll Say Forever My LoveJimmy Ruffin",
         "0.7",
         "0.52500105",
         "False",
         "False"
        ],
        [
         "ObviousAriana Grande",
         "0.26",
         "0.6623639",
         "False",
         "False"
        ],
        [
         "Rent MoneyFuture",
         "0.313",
         "0.44350898",
         "False",
         "False"
        ],
        [
         "You Mean The World To MeToni Braxton",
         "0.521",
         "0.6256739",
         "False",
         "False"
        ],
        [
         "Take Me In Your Arms (Rock Me)The Doobie Brothers",
         "0.932",
         "0.737617",
         "True",
         "True"
        ],
        [
         "The PretenderFoo Fighters",
         "0.3649999999999999",
         "0.57595885",
         "False",
         "False"
        ],
        [
         "Prove Me WrongDavid Pack",
         "0.926",
         "0.73827726",
         "True",
         "True"
        ],
        [
         "Last Train To ClarksvilleThe Monkees",
         "0.683",
         "0.4548783",
         "False",
         "False"
        ],
        [
         "If You Asked Me ToCeline Dion",
         "0.227",
         "0.4347746",
         "False",
         "False"
        ],
        [
         "Cruisin'Smokey Robinson",
         "0.815",
         "0.5093227",
         "True",
         "False"
        ],
        [
         "Love Sneakin' Up On YouBonnie Raitt",
         "0.558",
         "0.6460197",
         "False",
         "False"
        ],
        [
         "MazeJuice WRLD",
         "0.443",
         "0.57742256",
         "False",
         "False"
        ],
        [
         "About YouTrey Songz",
         "0.7179999999999999",
         "0.49155068",
         "True",
         "False"
        ],
        [
         "Spend Some TimeElvin Bishop Featuring Mickey Thomas",
         "0.383",
         "0.64826214",
         "False",
         "False"
        ],
        [
         "The Good Lord Loves YouNeil Diamond",
         "0.184",
         "0.4060685",
         "False",
         "False"
        ],
        [
         "Hooked On SwingLarry Elgart And His Manhattan Swing Orchestra",
         "0.792",
         "0.63424647",
         "True",
         "False"
        ],
        [
         "Be My BoyParis Sisters",
         "0.2109999999999999",
         "0.37021938",
         "False",
         "False"
        ],
        [
         "ParanoidPost Malone",
         "0.2439999999999999",
         "0.39822274",
         "False",
         "False"
        ],
        [
         "BionicChristina Aguilera",
         "0.8539999999999999",
         "0.6243958",
         "True",
         "False"
        ],
        [
         "PartyBeyonce Featuring Andre 3000",
         "0.7119999999999999",
         "0.54496574",
         "True",
         "False"
        ],
        [
         "Kentucky WomanDeep Purple",
         "0.314",
         "0.37731773",
         "False",
         "False"
        ]
       ],
       "shape": {
        "columns": 4,
        "rows": 503
       }
      },
      "text/html": [
       "<div>\n",
       "<style scoped>\n",
       "    .dataframe tbody tr th:only-of-type {\n",
       "        vertical-align: middle;\n",
       "    }\n",
       "\n",
       "    .dataframe tbody tr th {\n",
       "        vertical-align: top;\n",
       "    }\n",
       "\n",
       "    .dataframe thead th {\n",
       "        text-align: right;\n",
       "    }\n",
       "</style>\n",
       "<table border=\"1\" class=\"dataframe\">\n",
       "  <thead>\n",
       "    <tr style=\"text-align: right;\">\n",
       "      <th></th>\n",
       "      <th>Original Test</th>\n",
       "      <th>Prediction Test</th>\n",
       "      <th>Original over Thrashold</th>\n",
       "      <th>Predicted over Thrashold</th>\n",
       "    </tr>\n",
       "    <tr>\n",
       "      <th>SongID</th>\n",
       "      <th></th>\n",
       "      <th></th>\n",
       "      <th></th>\n",
       "      <th></th>\n",
       "    </tr>\n",
       "  </thead>\n",
       "  <tbody>\n",
       "    <tr>\n",
       "      <th>DespacitoLuis Fonsi &amp; Daddy Yankee Featuring Justin Bieber</th>\n",
       "      <td>0.816</td>\n",
       "      <td>0.661602</td>\n",
       "      <td>True</td>\n",
       "      <td>False</td>\n",
       "    </tr>\n",
       "    <tr>\n",
       "      <th>Wish You Were HereAvril Lavigne</th>\n",
       "      <td>0.340</td>\n",
       "      <td>0.575344</td>\n",
       "      <td>False</td>\n",
       "      <td>False</td>\n",
       "    </tr>\n",
       "    <tr>\n",
       "      <th>Wichita LinemanGlen Campbell</th>\n",
       "      <td>0.391</td>\n",
       "      <td>0.352321</td>\n",
       "      <td>False</td>\n",
       "      <td>False</td>\n",
       "    </tr>\n",
       "    <tr>\n",
       "      <th>PinkAerosmith</th>\n",
       "      <td>0.777</td>\n",
       "      <td>0.511466</td>\n",
       "      <td>True</td>\n",
       "      <td>False</td>\n",
       "    </tr>\n",
       "    <tr>\n",
       "      <th>Go Hard Or Go HomeWiz Khalifa &amp; Iggy Azalea</th>\n",
       "      <td>0.386</td>\n",
       "      <td>0.554386</td>\n",
       "      <td>False</td>\n",
       "      <td>False</td>\n",
       "    </tr>\n",
       "    <tr>\n",
       "      <th>...</th>\n",
       "      <td>...</td>\n",
       "      <td>...</td>\n",
       "      <td>...</td>\n",
       "      <td>...</td>\n",
       "    </tr>\n",
       "    <tr>\n",
       "      <th>Pull Up N WreckBig Sean &amp; Metro Boomin Featuring 21 Savage</th>\n",
       "      <td>0.091</td>\n",
       "      <td>0.367526</td>\n",
       "      <td>False</td>\n",
       "      <td>False</td>\n",
       "    </tr>\n",
       "    <tr>\n",
       "      <th>Empire State Of MindGlee Cast</th>\n",
       "      <td>0.719</td>\n",
       "      <td>0.576655</td>\n",
       "      <td>True</td>\n",
       "      <td>False</td>\n",
       "    </tr>\n",
       "    <tr>\n",
       "      <th>Impossible Mission (Mission Impossible)Soul Survivors</th>\n",
       "      <td>0.786</td>\n",
       "      <td>0.693561</td>\n",
       "      <td>True</td>\n",
       "      <td>False</td>\n",
       "    </tr>\n",
       "    <tr>\n",
       "      <th>My SisterReba McEntire</th>\n",
       "      <td>0.496</td>\n",
       "      <td>0.629361</td>\n",
       "      <td>False</td>\n",
       "      <td>False</td>\n",
       "    </tr>\n",
       "    <tr>\n",
       "      <th>We Weren't CrazyJosh Gracin</th>\n",
       "      <td>0.657</td>\n",
       "      <td>0.591402</td>\n",
       "      <td>False</td>\n",
       "      <td>False</td>\n",
       "    </tr>\n",
       "  </tbody>\n",
       "</table>\n",
       "<p>503 rows × 4 columns</p>\n",
       "</div>"
      ],
      "text/plain": [
       "                                                    Original Test  \\\n",
       "SongID                                                              \n",
       "DespacitoLuis Fonsi & Daddy Yankee Featuring Ju...          0.816   \n",
       "Wish You Were HereAvril Lavigne                             0.340   \n",
       "Wichita LinemanGlen Campbell                                0.391   \n",
       "PinkAerosmith                                               0.777   \n",
       "Go Hard Or Go HomeWiz Khalifa & Iggy Azalea                 0.386   \n",
       "...                                                           ...   \n",
       "Pull Up N WreckBig Sean & Metro Boomin Featurin...          0.091   \n",
       "Empire State Of MindGlee Cast                               0.719   \n",
       "Impossible Mission (Mission Impossible)Soul Sur...          0.786   \n",
       "My SisterReba McEntire                                      0.496   \n",
       "We Weren't CrazyJosh Gracin                                 0.657   \n",
       "\n",
       "                                                    Prediction Test  \\\n",
       "SongID                                                                \n",
       "DespacitoLuis Fonsi & Daddy Yankee Featuring Ju...         0.661602   \n",
       "Wish You Were HereAvril Lavigne                            0.575344   \n",
       "Wichita LinemanGlen Campbell                               0.352321   \n",
       "PinkAerosmith                                              0.511466   \n",
       "Go Hard Or Go HomeWiz Khalifa & Iggy Azalea                0.554386   \n",
       "...                                                             ...   \n",
       "Pull Up N WreckBig Sean & Metro Boomin Featurin...         0.367526   \n",
       "Empire State Of MindGlee Cast                              0.576655   \n",
       "Impossible Mission (Mission Impossible)Soul Sur...         0.693561   \n",
       "My SisterReba McEntire                                     0.629361   \n",
       "We Weren't CrazyJosh Gracin                                0.591402   \n",
       "\n",
       "                                                    Original over Thrashold  \\\n",
       "SongID                                                                        \n",
       "DespacitoLuis Fonsi & Daddy Yankee Featuring Ju...                     True   \n",
       "Wish You Were HereAvril Lavigne                                       False   \n",
       "Wichita LinemanGlen Campbell                                          False   \n",
       "PinkAerosmith                                                          True   \n",
       "Go Hard Or Go HomeWiz Khalifa & Iggy Azalea                           False   \n",
       "...                                                                     ...   \n",
       "Pull Up N WreckBig Sean & Metro Boomin Featurin...                    False   \n",
       "Empire State Of MindGlee Cast                                          True   \n",
       "Impossible Mission (Mission Impossible)Soul Sur...                     True   \n",
       "My SisterReba McEntire                                                False   \n",
       "We Weren't CrazyJosh Gracin                                           False   \n",
       "\n",
       "                                                    Predicted over Thrashold  \n",
       "SongID                                                                        \n",
       "DespacitoLuis Fonsi & Daddy Yankee Featuring Ju...                     False  \n",
       "Wish You Were HereAvril Lavigne                                        False  \n",
       "Wichita LinemanGlen Campbell                                           False  \n",
       "PinkAerosmith                                                          False  \n",
       "Go Hard Or Go HomeWiz Khalifa & Iggy Azalea                            False  \n",
       "...                                                                      ...  \n",
       "Pull Up N WreckBig Sean & Metro Boomin Featurin...                     False  \n",
       "Empire State Of MindGlee Cast                                          False  \n",
       "Impossible Mission (Mission Impossible)Soul Sur...                     False  \n",
       "My SisterReba McEntire                                                 False  \n",
       "We Weren't CrazyJosh Gracin                                            False  \n",
       "\n",
       "[503 rows x 4 columns]"
      ]
     },
     "metadata": {},
     "output_type": "display_data"
    },
    {
     "data": {
      "image/png": "[encoded data removed]",
      "text/plain": [
       "<Figure size 640x480 with 2 Axes>"
      ]
     },
     "metadata": {},
     "output_type": "display_data"
    },
    {
     "data": {
      "application/vnd.microsoft.datawrangler.viewer.v0+json": {
       "columns": [
        {
         "name": "index",
         "rawType": "int64",
         "type": "integer"
        },
        {
         "name": "Metric",
         "rawType": "object",
         "type": "string"
        },
        {
         "name": "Value",
         "rawType": "float64",
         "type": "float"
        }
       ],
       "conversionMethod": "pd.DataFrame",
       "ref": "9d550f4d-e731-4342-84f5-9b0cb2ccba83",
       "rows": [
        [
         "0",
         "Accuracy",
         "0.76"
        ],
        [
         "1",
         "Precision",
         "0.82"
        ],
        [
         "2",
         "Recall",
         "0.51"
        ],
        [
         "3",
         "F1-score",
         "0.62"
        ]
       ],
       "shape": {
        "columns": 2,
        "rows": 4
       }
      },
      "text/html": [
       "<div>\n",
       "<style scoped>\n",
       "    .dataframe tbody tr th:only-of-type {\n",
       "        vertical-align: middle;\n",
       "    }\n",
       "\n",
       "    .dataframe tbody tr th {\n",
       "        vertical-align: top;\n",
       "    }\n",
       "\n",
       "    .dataframe thead th {\n",
       "        text-align: right;\n",
       "    }\n",
       "</style>\n",
       "<table border=\"1\" class=\"dataframe\">\n",
       "  <thead>\n",
       "    <tr style=\"text-align: right;\">\n",
       "      <th></th>\n",
       "      <th>Metric</th>\n",
       "      <th>Value</th>\n",
       "    </tr>\n",
       "  </thead>\n",
       "  <tbody>\n",
       "    <tr>\n",
       "      <th>0</th>\n",
       "      <td>Accuracy</td>\n",
       "      <td>0.76</td>\n",
       "    </tr>\n",
       "    <tr>\n",
       "      <th>1</th>\n",
       "      <td>Precision</td>\n",
       "      <td>0.82</td>\n",
       "    </tr>\n",
       "    <tr>\n",
       "      <th>2</th>\n",
       "      <td>Recall</td>\n",
       "      <td>0.51</td>\n",
       "    </tr>\n",
       "    <tr>\n",
       "      <th>3</th>\n",
       "      <td>F1-score</td>\n",
       "      <td>0.62</td>\n",
       "    </tr>\n",
       "  </tbody>\n",
       "</table>\n",
       "</div>"
      ],
      "text/plain": [
       "      Metric  Value\n",
       "0   Accuracy   0.76\n",
       "1  Precision   0.82\n",
       "2     Recall   0.51\n",
       "3   F1-score   0.62"
      ]
     },
     "metadata": {},
     "output_type": "display_data"
    }
   ],
   "source": [
    "dizio_model_user = {} #in this dizio we store the model for each user\n",
    "dizio_accuracy = {} #accuracy of the model\n",
    "\n",
    "# DICTIONARY TO STORE SONG RECOMMENDATION PER USER\n",
    "reccomandations_songs_per_user={}\n",
    "\n",
    "#threshold\n",
    "threshold = 0.7\n",
    "\n",
    "#loop creation user and model\n",
    "for i in range(0, len(df_one_hot['User'].unique())): #i indica lo user   \n",
    "#for i in range (0,1):\n",
    "    print('---------------------------------------------------------')\n",
    "    print(f'USER {i}')\n",
    "\n",
    "    #select user\n",
    "    mask_user = df_one_hot['User'] == i\n",
    "    #display(mask_user)\n",
    "    user_i_df = df_one_hot[mask_user]\n",
    "    #display(user_i_df) \n",
    "\n",
    "    #return train and test\n",
    "    x_train,x_test,y_train,y_test = return_train_test(user_i_df)\n",
    "\n",
    "    #creation model for the specific user\n",
    "    model_user_i = create_model_user(x_train.shape[1])\n",
    "    \n",
    "    #fit the model with the different x, y train (for different user)\n",
    "    history_model_user_i = fit_model(model_user_i, x_train, y_train, x_test, y_test)\n",
    "\n",
    "    #test no function\n",
    "    '''history_model_user_i = model_user_i.fit(\n",
    "        x_train,y_train,\n",
    "        #validation_split=0.2,\n",
    "        validation_data = [x_test, y_test],\n",
    "        epochs=30,\n",
    "        batch_size=32,\n",
    "        #verbose=1\n",
    "    )'''\n",
    "\n",
    "    #prediction\n",
    "    y_hat = model_user_i.predict(x_test)\n",
    "\n",
    "    #plot the metrics of the model\n",
    "    plot_for_model(history_model_user_i, y_hat, x_test)\n",
    "\n",
    "    #accuracy\n",
    "    test_loss, test_mae = model_user_i.evaluate(x_test,y_test,verbose=1)\n",
    "    print('MSE: ', test_loss)\n",
    "    print('MAE:', test_mae)\n",
    "\n",
    "    #reccomandation\n",
    "    reccomandation_df = reco_function_conf_matrix(y_test, y_hat, threshold)\n",
    "\n",
    "    #save the model in the dictionary\n",
    "    #add also the raccomandations\n",
    "    dizio_model_user[f\"User{i}\"] = {'model_user_i' : model_user_i,\n",
    "                                    'history_model_user_i': history_model_user_i,\n",
    "                                    'x_train': x_train,\n",
    "                                    'x_test': x_test,\n",
    "                                    'y_train': y_train,\n",
    "                                    'y_test': y_test,\n",
    "                                    'y_hat': y_hat,\n",
    "                                    'recommendations:': reccomandation_df} \n",
    "    #save accuracy \n",
    "    dizio_accuracy[f'User{i}'] = {\n",
    "        'MAE' : mean_absolute_error(y_test, y_hat),\n",
    "        'MSE' : mean_squared_error(y_test, y_hat)\n",
    "    }"
   ]
  },
  {
   "cell_type": "markdown",
   "metadata": {},
   "source": [
    "# DISPLAY DICTIONARY ACCURACY"
   ]
  },
  {
   "cell_type": "code",
   "execution_count": 23,
   "metadata": {},
   "outputs": [
    {
     "data": {
      "text/plain": [
       "{'User0': {'MAE': 0.13864719701873396, 'MSE': 0.029108827281752472},\n",
       " 'User1': {'MAE': 0.13339068970991663, 'MSE': 0.027752720159638387},\n",
       " 'User2': {'MAE': 0.09564555055760851, 'MSE': 0.018915532489847578},\n",
       " 'User3': {'MAE': 0.13278344333378583, 'MSE': 0.026738914222400125},\n",
       " 'User4': {'MAE': 0.13978230820953488, 'MSE': 0.028651767108299392}}"
      ]
     },
     "metadata": {},
     "output_type": "display_data"
    }
   ],
   "source": [
    "display(dizio_accuracy)"
   ]
  },
  {
   "cell_type": "markdown",
   "metadata": {},
   "source": [
    "A \"good\" MAE value depends on the context, but in general:  \n",
    "\n",
    "- **MAE < 0.05** → Excellent model (average error of 5%).  \n",
    "- **MAE between 0.05 and 0.1** → Good model.  \n",
    "- **MAE between 0.1 and 0.2** → Acceptable but improvable.  \n",
    "- **MAE > 0.2** → Low-precision model.  \n",
    "\n",
    "Our MAE is around **0.1**, it means that, on average, the model is off by **10 percentage points** on the 0-1 rating scale, which might be acceptable in many scenarios.\n",
    "\n",
    "-----------------------------------------------------------------------------------------------------------------------\n",
    "\n",
    "***WHY IS THIS MARGIN OF ERROR ACCETABLE ?***\n",
    "\n",
    "We must consider the nature of the data on which our model is trained.\n",
    "Since, to determine our users we used an unsupervised algorithm (**kmeans**), with shilhuette 0.49, this means as explained before, that we do not have good homogeneity within the cluster.\n",
    "\n",
    "So rightly our NN trained on this data will not capture such representative relationships, given that the user himself, as he has been defined, **does not have clear musical tastes**.\n",
    "\n",
    "**In order to have better results we will have user that lister only particular generes, this allowed us to decrease the errror since we will find a precise patterns in the data.**"
   ]
  },
  {
   "cell_type": "markdown",
   "metadata": {},
   "source": [
    "## CONCLUSION"
   ]
  },
  {
   "cell_type": "markdown",
   "metadata": {},
   "source": [
    "First of all we want to point out that several attempts have been made to add layers to make the network deeper, we have also tried to increase the number of neurons and modified the drop out neurons and regularization techniques within the neuron itself to avoid overfitting.\n",
    "\n",
    "Despite these attempts to reduce the MAE below the 10% threshold, this does not appear to be possible.\n",
    "Our explanation in this regard can be traced back to the nature and quantity of the data.\n",
    "\n",
    "It would therefore be useful to test our network with different data, in particular **users with homogeneous tastes**, this allowed us to easy find **'evident patterns'**, that will improve our prediction.\n",
    "\n",
    "\n",
    "**Aggiungere qualcosa anche relativamente ai risultati che otteniamo dal confusion matrix e quindi dal nostro sistema di raccomandazione, e come la composizione dei diversi utenti influenzano la bonta del reccomandation sysyem**"
   ]
  },
  {
   "cell_type": "markdown",
   "metadata": {},
   "source": [
    "# DISPLAY DICTIONARY MODEL"
   ]
  },
  {
   "cell_type": "code",
   "execution_count": 24,
   "metadata": {},
   "outputs": [],
   "source": [
    "#display(dizio_model_user)"
   ]
  },
  {
   "cell_type": "markdown",
   "metadata": {},
   "source": []
  },
  {
   "cell_type": "markdown",
   "metadata": {},
   "source": [
    "# SAVE"
   ]
  },
  {
   "cell_type": "markdown",
   "metadata": {},
   "source": [
    "#DA COMPLETARE"
   ]
  },
  {
   "cell_type": "code",
   "execution_count": 6,
   "metadata": {},
   "outputs": [
    {
     "name": "stdout",
     "output_type": "stream",
     "text": [
      "Stored 'df_one_hot' (DataFrame)\n"
     ]
    }
   ],
   "source": [
    "%store df_one_hot"
   ]
  },
  {
   "cell_type": "markdown",
   "metadata": {},
   "source": []
  }
 ],
 "metadata": {
  "kernelspec": {
   "display_name": "Python 3",
   "language": "python",
   "name": "python3"
  },
  "language_info": {
   "codemirror_mode": {
    "name": "ipython",
    "version": 3
   },
   "file_extension": ".py",
   "mimetype": "text/x-python",
   "name": "python",
   "nbconvert_exporter": "python",
   "pygments_lexer": "ipython3",
   "version": "3.12.2"
  }
 },
 "nbformat": 4,
 "nbformat_minor": 2
}
