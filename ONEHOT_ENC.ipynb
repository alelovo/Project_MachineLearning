{
 "cells": [
  {
   "cell_type": "markdown",
   "metadata": {},
   "source": [
    "## DF + LIB"
   ]
  },
  {
   "cell_type": "code",
   "execution_count": 1,
   "metadata": {},
   "outputs": [],
   "source": [
    "%store -r merge_unique_df"
   ]
  },
  {
   "cell_type": "code",
   "execution_count": 2,
   "metadata": {},
   "outputs": [],
   "source": [
    "# essential\n",
    "import pandas as pd\n",
    "import matplotlib.pyplot as plt\n",
    "\n",
    "# for NN\n",
    "import keras\n",
    "from keras.models import Sequential\n",
    "# we most use sequential model -> one layer after the other (sequence of layer)\n",
    "from keras.layers import Dense, Activation\n",
    "from keras.optimizers import Adam\n",
    "from tensorflow.keras.models import Sequential\n",
    "from tensorflow.keras.layers import Dense\n",
    "from tensorflow.keras.optimizers import SGD\n",
    "from tensorflow.keras.metrics import MeanAbsolutePercentageError\n",
    "from tensorflow.keras.layers import Dense, Dropout\n",
    "from tensorflow.keras.regularizers import l2\n",
    "\n",
    "# non so se siano utili\n",
    "from sklearn.model_selection import train_test_split\n",
    "from sklearn.preprocessing import StandardScaler, LabelEncoder\n",
    "from sklearn.metrics import mean_squared_error, mean_absolute_error\n",
    "from sklearn.metrics import confusion_matrix, ConfusionMatrixDisplay\n",
    "\n",
    "#basics \n",
    "# essential\n",
    "import numpy as np\n",
    "import matplotlib.pyplot as plt\n",
    "import seaborn as sns"
   ]
  },
  {
   "cell_type": "markdown",
   "metadata": {},
   "source": [
    "# CREATION DUMMIES VARIABLES"
   ]
  },
  {
   "cell_type": "code",
   "execution_count": 3,
   "metadata": {},
   "outputs": [
    {
     "data": {
      "application/vnd.microsoft.datawrangler.viewer.v0+json": {
       "columns": [
        {
         "name": "SongID",
         "rawType": "object",
         "type": "string"
        },
        {
         "name": "genre_blues",
         "rawType": "bool",
         "type": "boolean"
        },
        {
         "name": "genre_country",
         "rawType": "bool",
         "type": "boolean"
        },
        {
         "name": "genre_dance",
         "rawType": "bool",
         "type": "boolean"
        },
        {
         "name": "genre_disco",
         "rawType": "bool",
         "type": "boolean"
        },
        {
         "name": "genre_folk",
         "rawType": "bool",
         "type": "boolean"
        },
        {
         "name": "genre_funk",
         "rawType": "bool",
         "type": "boolean"
        },
        {
         "name": "genre_house",
         "rawType": "bool",
         "type": "boolean"
        },
        {
         "name": "genre_indie",
         "rawType": "bool",
         "type": "boolean"
        },
        {
         "name": "genre_jazz",
         "rawType": "bool",
         "type": "boolean"
        },
        {
         "name": "genre_latin",
         "rawType": "bool",
         "type": "boolean"
        },
        {
         "name": "genre_metal",
         "rawType": "bool",
         "type": "boolean"
        },
        {
         "name": "genre_other",
         "rawType": "bool",
         "type": "boolean"
        },
        {
         "name": "genre_pop",
         "rawType": "bool",
         "type": "boolean"
        },
        {
         "name": "genre_r&b",
         "rawType": "bool",
         "type": "boolean"
        },
        {
         "name": "genre_rap",
         "rawType": "bool",
         "type": "boolean"
        },
        {
         "name": "genre_rock",
         "rawType": "bool",
         "type": "boolean"
        },
        {
         "name": "genre_soul",
         "rawType": "bool",
         "type": "boolean"
        }
       ],
       "conversionMethod": "pd.DataFrame",
       "ref": "776e3ed7-193f-4ede-b084-f543f701735a",
       "rows": [
        [
         "-twistin'-White Silver SandsBill Black's Combo",
         "False",
         "False",
         "False",
         "False",
         "False",
         "False",
         "False",
         "False",
         "False",
         "False",
         "False",
         "True",
         "False",
         "False",
         "False",
         "False",
         "False"
        ],
        [
         "¿Dònde Està Santa Claus? (Where Is Santa Claus?)Augie Rios",
         "False",
         "False",
         "False",
         "False",
         "False",
         "False",
         "False",
         "False",
         "False",
         "False",
         "False",
         "True",
         "False",
         "False",
         "False",
         "False",
         "False"
        ]
       ],
       "shape": {
        "columns": 17,
        "rows": 2
       }
      },
      "text/html": [
       "<div>\n",
       "<style scoped>\n",
       "    .dataframe tbody tr th:only-of-type {\n",
       "        vertical-align: middle;\n",
       "    }\n",
       "\n",
       "    .dataframe tbody tr th {\n",
       "        vertical-align: top;\n",
       "    }\n",
       "\n",
       "    .dataframe thead th {\n",
       "        text-align: right;\n",
       "    }\n",
       "</style>\n",
       "<table border=\"1\" class=\"dataframe\">\n",
       "  <thead>\n",
       "    <tr style=\"text-align: right;\">\n",
       "      <th></th>\n",
       "      <th>genre_blues</th>\n",
       "      <th>genre_country</th>\n",
       "      <th>genre_dance</th>\n",
       "      <th>genre_disco</th>\n",
       "      <th>genre_folk</th>\n",
       "      <th>genre_funk</th>\n",
       "      <th>genre_house</th>\n",
       "      <th>genre_indie</th>\n",
       "      <th>genre_jazz</th>\n",
       "      <th>genre_latin</th>\n",
       "      <th>genre_metal</th>\n",
       "      <th>genre_other</th>\n",
       "      <th>genre_pop</th>\n",
       "      <th>genre_r&amp;b</th>\n",
       "      <th>genre_rap</th>\n",
       "      <th>genre_rock</th>\n",
       "      <th>genre_soul</th>\n",
       "    </tr>\n",
       "    <tr>\n",
       "      <th>SongID</th>\n",
       "      <th></th>\n",
       "      <th></th>\n",
       "      <th></th>\n",
       "      <th></th>\n",
       "      <th></th>\n",
       "      <th></th>\n",
       "      <th></th>\n",
       "      <th></th>\n",
       "      <th></th>\n",
       "      <th></th>\n",
       "      <th></th>\n",
       "      <th></th>\n",
       "      <th></th>\n",
       "      <th></th>\n",
       "      <th></th>\n",
       "      <th></th>\n",
       "      <th></th>\n",
       "    </tr>\n",
       "  </thead>\n",
       "  <tbody>\n",
       "    <tr>\n",
       "      <th>-twistin'-White Silver SandsBill Black's Combo</th>\n",
       "      <td>False</td>\n",
       "      <td>False</td>\n",
       "      <td>False</td>\n",
       "      <td>False</td>\n",
       "      <td>False</td>\n",
       "      <td>False</td>\n",
       "      <td>False</td>\n",
       "      <td>False</td>\n",
       "      <td>False</td>\n",
       "      <td>False</td>\n",
       "      <td>False</td>\n",
       "      <td>True</td>\n",
       "      <td>False</td>\n",
       "      <td>False</td>\n",
       "      <td>False</td>\n",
       "      <td>False</td>\n",
       "      <td>False</td>\n",
       "    </tr>\n",
       "    <tr>\n",
       "      <th>¿Dònde Està Santa Claus? (Where Is Santa Claus?)Augie Rios</th>\n",
       "      <td>False</td>\n",
       "      <td>False</td>\n",
       "      <td>False</td>\n",
       "      <td>False</td>\n",
       "      <td>False</td>\n",
       "      <td>False</td>\n",
       "      <td>False</td>\n",
       "      <td>False</td>\n",
       "      <td>False</td>\n",
       "      <td>False</td>\n",
       "      <td>False</td>\n",
       "      <td>True</td>\n",
       "      <td>False</td>\n",
       "      <td>False</td>\n",
       "      <td>False</td>\n",
       "      <td>False</td>\n",
       "      <td>False</td>\n",
       "    </tr>\n",
       "  </tbody>\n",
       "</table>\n",
       "</div>"
      ],
      "text/plain": [
       "                                                    genre_blues  \\\n",
       "SongID                                                            \n",
       "-twistin'-White Silver SandsBill Black's Combo            False   \n",
       "¿Dònde Està Santa Claus? (Where Is Santa Claus?...        False   \n",
       "\n",
       "                                                    genre_country  \\\n",
       "SongID                                                              \n",
       "-twistin'-White Silver SandsBill Black's Combo              False   \n",
       "¿Dònde Està Santa Claus? (Where Is Santa Claus?...          False   \n",
       "\n",
       "                                                    genre_dance  genre_disco  \\\n",
       "SongID                                                                         \n",
       "-twistin'-White Silver SandsBill Black's Combo            False        False   \n",
       "¿Dònde Està Santa Claus? (Where Is Santa Claus?...        False        False   \n",
       "\n",
       "                                                    genre_folk  genre_funk  \\\n",
       "SongID                                                                       \n",
       "-twistin'-White Silver SandsBill Black's Combo           False       False   \n",
       "¿Dònde Està Santa Claus? (Where Is Santa Claus?...       False       False   \n",
       "\n",
       "                                                    genre_house  genre_indie  \\\n",
       "SongID                                                                         \n",
       "-twistin'-White Silver SandsBill Black's Combo            False        False   \n",
       "¿Dònde Està Santa Claus? (Where Is Santa Claus?...        False        False   \n",
       "\n",
       "                                                    genre_jazz  genre_latin  \\\n",
       "SongID                                                                        \n",
       "-twistin'-White Silver SandsBill Black's Combo           False        False   \n",
       "¿Dònde Està Santa Claus? (Where Is Santa Claus?...       False        False   \n",
       "\n",
       "                                                    genre_metal  genre_other  \\\n",
       "SongID                                                                         \n",
       "-twistin'-White Silver SandsBill Black's Combo            False         True   \n",
       "¿Dònde Està Santa Claus? (Where Is Santa Claus?...        False         True   \n",
       "\n",
       "                                                    genre_pop  genre_r&b  \\\n",
       "SongID                                                                     \n",
       "-twistin'-White Silver SandsBill Black's Combo          False      False   \n",
       "¿Dònde Està Santa Claus? (Where Is Santa Claus?...      False      False   \n",
       "\n",
       "                                                    genre_rap  genre_rock  \\\n",
       "SongID                                                                      \n",
       "-twistin'-White Silver SandsBill Black's Combo          False       False   \n",
       "¿Dònde Està Santa Claus? (Where Is Santa Claus?...      False       False   \n",
       "\n",
       "                                                    genre_soul  \n",
       "SongID                                                          \n",
       "-twistin'-White Silver SandsBill Black's Combo           False  \n",
       "¿Dònde Està Santa Claus? (Where Is Santa Claus?...       False  "
      ]
     },
     "execution_count": 3,
     "metadata": {},
     "output_type": "execute_result"
    }
   ],
   "source": [
    "# in order to obtain the True/False for each genre\n",
    "onehot_enc=pd.get_dummies(merge_unique_df['maingenere'],prefix='genre')\n",
    "onehot_enc.head(2)"
   ]
  },
  {
   "cell_type": "code",
   "execution_count": 4,
   "metadata": {},
   "outputs": [
    {
     "name": "stderr",
     "output_type": "stream",
     "text": [
      "C:\\Users\\elped\\AppData\\Local\\Temp\\ipykernel_5772\\823651478.py:2: FutureWarning: DataFrame.applymap has been deprecated. Use DataFrame.map instead.\n",
      "  one_hot_enc_binary = onehot_enc.applymap(lambda x: 1 if x else 0)\n"
     ]
    }
   ],
   "source": [
    "# Conversione in valori binari (0 o 1) per rappresentare il main genere con 1 e gli altri con 0\n",
    "one_hot_enc_binary = onehot_enc.applymap(lambda x: 1 if x else 0)"
   ]
  },
  {
   "cell_type": "code",
   "execution_count": 5,
   "metadata": {},
   "outputs": [
    {
     "data": {
      "application/vnd.microsoft.datawrangler.viewer.v0+json": {
       "columns": [
        {
         "name": "SongID",
         "rawType": "object",
         "type": "string"
        },
        {
         "name": "Performer",
         "rawType": "object",
         "type": "string"
        },
        {
         "name": "Song",
         "rawType": "object",
         "type": "string"
        },
        {
         "name": "spotify_genre",
         "rawType": "object",
         "type": "string"
        },
        {
         "name": "spotify_track_duration_minute",
         "rawType": "float64",
         "type": "float"
        },
        {
         "name": "spotify_track_explicit",
         "rawType": "object",
         "type": "string"
        },
        {
         "name": "spotify_track_album",
         "rawType": "object",
         "type": "string"
        },
        {
         "name": "danceability",
         "rawType": "float64",
         "type": "float"
        },
        {
         "name": "energy",
         "rawType": "float64",
         "type": "float"
        },
        {
         "name": "key",
         "rawType": "float64",
         "type": "float"
        },
        {
         "name": "loudness",
         "rawType": "float64",
         "type": "float"
        },
        {
         "name": "mode",
         "rawType": "float64",
         "type": "float"
        },
        {
         "name": "speechiness",
         "rawType": "float64",
         "type": "float"
        },
        {
         "name": "acousticness",
         "rawType": "float64",
         "type": "float"
        },
        {
         "name": "instrumentalness",
         "rawType": "float64",
         "type": "float"
        },
        {
         "name": "liveness",
         "rawType": "float64",
         "type": "float"
        },
        {
         "name": "valence",
         "rawType": "float64",
         "type": "float"
        },
        {
         "name": "tempo",
         "rawType": "float64",
         "type": "float"
        },
        {
         "name": "time_signature",
         "rawType": "float64",
         "type": "float"
        },
        {
         "name": "spotify_track_popularity",
         "rawType": "float64",
         "type": "float"
        },
        {
         "name": "maingenere",
         "rawType": "object",
         "type": "string"
        },
        {
         "name": "User",
         "rawType": "int32",
         "type": "integer"
        },
        {
         "name": "genre_blues",
         "rawType": "int64",
         "type": "integer"
        },
        {
         "name": "genre_country",
         "rawType": "int64",
         "type": "integer"
        },
        {
         "name": "genre_dance",
         "rawType": "int64",
         "type": "integer"
        },
        {
         "name": "genre_disco",
         "rawType": "int64",
         "type": "integer"
        },
        {
         "name": "genre_folk",
         "rawType": "int64",
         "type": "integer"
        },
        {
         "name": "genre_funk",
         "rawType": "int64",
         "type": "integer"
        },
        {
         "name": "genre_house",
         "rawType": "int64",
         "type": "integer"
        },
        {
         "name": "genre_indie",
         "rawType": "int64",
         "type": "integer"
        },
        {
         "name": "genre_jazz",
         "rawType": "int64",
         "type": "integer"
        },
        {
         "name": "genre_latin",
         "rawType": "int64",
         "type": "integer"
        },
        {
         "name": "genre_metal",
         "rawType": "int64",
         "type": "integer"
        },
        {
         "name": "genre_other",
         "rawType": "int64",
         "type": "integer"
        },
        {
         "name": "genre_pop",
         "rawType": "int64",
         "type": "integer"
        },
        {
         "name": "genre_r&b",
         "rawType": "int64",
         "type": "integer"
        },
        {
         "name": "genre_rap",
         "rawType": "int64",
         "type": "integer"
        },
        {
         "name": "genre_rock",
         "rawType": "int64",
         "type": "integer"
        },
        {
         "name": "genre_soul",
         "rawType": "int64",
         "type": "integer"
        }
       ],
       "conversionMethod": "pd.DataFrame",
       "ref": "398d9ad7-9941-4694-8b8d-0cd1457f0ae9",
       "rows": [
        [
         "-twistin'-White Silver SandsBill Black's Combo",
         "Bill Black's Combo",
         "-twistin'-White Silver Sands",
         "[]",
         "3.43",
         "unknown",
         "single",
         "0.59",
         "0.57",
         "5.37",
         "-9.97",
         "0.75",
         "0.07",
         "0.4",
         "0.08",
         "0.2",
         "0.63",
         "117.76",
         "3.89",
         "22.16",
         "other",
         "2",
         "0",
         "0",
         "0",
         "0",
         "0",
         "0",
         "0",
         "0",
         "0",
         "0",
         "0",
         "1",
         "0",
         "0",
         "0",
         "0",
         "0"
        ],
        [
         "¿Dònde Està Santa Claus? (Where Is Santa Claus?)Augie Rios",
         "Augie Rios",
         "¿Dònde Està Santa Claus? (Where Is Santa Claus?)",
         "['novelty']",
         "3.43",
         "unknown",
         "single",
         "0.59",
         "0.57",
         "5.37",
         "-9.97",
         "0.75",
         "0.07",
         "0.4",
         "0.08",
         "0.2",
         "0.63",
         "117.76",
         "3.89",
         "22.16",
         "other",
         "2",
         "0",
         "0",
         "0",
         "0",
         "0",
         "0",
         "0",
         "0",
         "0",
         "0",
         "0",
         "1",
         "0",
         "0",
         "0",
         "0",
         "0"
        ]
       ],
       "shape": {
        "columns": 38,
        "rows": 2
       }
      },
      "text/html": [
       "<div>\n",
       "<style scoped>\n",
       "    .dataframe tbody tr th:only-of-type {\n",
       "        vertical-align: middle;\n",
       "    }\n",
       "\n",
       "    .dataframe tbody tr th {\n",
       "        vertical-align: top;\n",
       "    }\n",
       "\n",
       "    .dataframe thead th {\n",
       "        text-align: right;\n",
       "    }\n",
       "</style>\n",
       "<table border=\"1\" class=\"dataframe\">\n",
       "  <thead>\n",
       "    <tr style=\"text-align: right;\">\n",
       "      <th></th>\n",
       "      <th>Performer</th>\n",
       "      <th>Song</th>\n",
       "      <th>spotify_genre</th>\n",
       "      <th>spotify_track_duration_minute</th>\n",
       "      <th>spotify_track_explicit</th>\n",
       "      <th>spotify_track_album</th>\n",
       "      <th>danceability</th>\n",
       "      <th>energy</th>\n",
       "      <th>key</th>\n",
       "      <th>loudness</th>\n",
       "      <th>...</th>\n",
       "      <th>genre_indie</th>\n",
       "      <th>genre_jazz</th>\n",
       "      <th>genre_latin</th>\n",
       "      <th>genre_metal</th>\n",
       "      <th>genre_other</th>\n",
       "      <th>genre_pop</th>\n",
       "      <th>genre_r&amp;b</th>\n",
       "      <th>genre_rap</th>\n",
       "      <th>genre_rock</th>\n",
       "      <th>genre_soul</th>\n",
       "    </tr>\n",
       "    <tr>\n",
       "      <th>SongID</th>\n",
       "      <th></th>\n",
       "      <th></th>\n",
       "      <th></th>\n",
       "      <th></th>\n",
       "      <th></th>\n",
       "      <th></th>\n",
       "      <th></th>\n",
       "      <th></th>\n",
       "      <th></th>\n",
       "      <th></th>\n",
       "      <th></th>\n",
       "      <th></th>\n",
       "      <th></th>\n",
       "      <th></th>\n",
       "      <th></th>\n",
       "      <th></th>\n",
       "      <th></th>\n",
       "      <th></th>\n",
       "      <th></th>\n",
       "      <th></th>\n",
       "      <th></th>\n",
       "    </tr>\n",
       "  </thead>\n",
       "  <tbody>\n",
       "    <tr>\n",
       "      <th>-twistin'-White Silver SandsBill Black's Combo</th>\n",
       "      <td>Bill Black's Combo</td>\n",
       "      <td>-twistin'-White Silver Sands</td>\n",
       "      <td>[]</td>\n",
       "      <td>3.43</td>\n",
       "      <td>unknown</td>\n",
       "      <td>single</td>\n",
       "      <td>0.59</td>\n",
       "      <td>0.57</td>\n",
       "      <td>5.37</td>\n",
       "      <td>-9.97</td>\n",
       "      <td>...</td>\n",
       "      <td>0</td>\n",
       "      <td>0</td>\n",
       "      <td>0</td>\n",
       "      <td>0</td>\n",
       "      <td>1</td>\n",
       "      <td>0</td>\n",
       "      <td>0</td>\n",
       "      <td>0</td>\n",
       "      <td>0</td>\n",
       "      <td>0</td>\n",
       "    </tr>\n",
       "    <tr>\n",
       "      <th>¿Dònde Està Santa Claus? (Where Is Santa Claus?)Augie Rios</th>\n",
       "      <td>Augie Rios</td>\n",
       "      <td>¿Dònde Està Santa Claus? (Where Is Santa Claus?)</td>\n",
       "      <td>['novelty']</td>\n",
       "      <td>3.43</td>\n",
       "      <td>unknown</td>\n",
       "      <td>single</td>\n",
       "      <td>0.59</td>\n",
       "      <td>0.57</td>\n",
       "      <td>5.37</td>\n",
       "      <td>-9.97</td>\n",
       "      <td>...</td>\n",
       "      <td>0</td>\n",
       "      <td>0</td>\n",
       "      <td>0</td>\n",
       "      <td>0</td>\n",
       "      <td>1</td>\n",
       "      <td>0</td>\n",
       "      <td>0</td>\n",
       "      <td>0</td>\n",
       "      <td>0</td>\n",
       "      <td>0</td>\n",
       "    </tr>\n",
       "  </tbody>\n",
       "</table>\n",
       "<p>2 rows × 38 columns</p>\n",
       "</div>"
      ],
      "text/plain": [
       "                                                             Performer  \\\n",
       "SongID                                                                   \n",
       "-twistin'-White Silver SandsBill Black's Combo      Bill Black's Combo   \n",
       "¿Dònde Està Santa Claus? (Where Is Santa Claus?...          Augie Rios   \n",
       "\n",
       "                                                                                                Song  \\\n",
       "SongID                                                                                                 \n",
       "-twistin'-White Silver SandsBill Black's Combo                          -twistin'-White Silver Sands   \n",
       "¿Dònde Està Santa Claus? (Where Is Santa Claus?...  ¿Dònde Està Santa Claus? (Where Is Santa Claus?)   \n",
       "\n",
       "                                                   spotify_genre  \\\n",
       "SongID                                                             \n",
       "-twistin'-White Silver SandsBill Black's Combo                []   \n",
       "¿Dònde Està Santa Claus? (Where Is Santa Claus?...   ['novelty']   \n",
       "\n",
       "                                                    spotify_track_duration_minute  \\\n",
       "SongID                                                                              \n",
       "-twistin'-White Silver SandsBill Black's Combo                               3.43   \n",
       "¿Dònde Està Santa Claus? (Where Is Santa Claus?...                           3.43   \n",
       "\n",
       "                                                   spotify_track_explicit  \\\n",
       "SongID                                                                      \n",
       "-twistin'-White Silver SandsBill Black's Combo                    unknown   \n",
       "¿Dònde Està Santa Claus? (Where Is Santa Claus?...                unknown   \n",
       "\n",
       "                                                   spotify_track_album  \\\n",
       "SongID                                                                   \n",
       "-twistin'-White Silver SandsBill Black's Combo                  single   \n",
       "¿Dònde Està Santa Claus? (Where Is Santa Claus?...              single   \n",
       "\n",
       "                                                    danceability  energy  \\\n",
       "SongID                                                                     \n",
       "-twistin'-White Silver SandsBill Black's Combo              0.59    0.57   \n",
       "¿Dònde Està Santa Claus? (Where Is Santa Claus?...          0.59    0.57   \n",
       "\n",
       "                                                     key  loudness  ...  \\\n",
       "SongID                                                              ...   \n",
       "-twistin'-White Silver SandsBill Black's Combo      5.37     -9.97  ...   \n",
       "¿Dònde Està Santa Claus? (Where Is Santa Claus?...  5.37     -9.97  ...   \n",
       "\n",
       "                                                    genre_indie  genre_jazz  \\\n",
       "SongID                                                                        \n",
       "-twistin'-White Silver SandsBill Black's Combo                0           0   \n",
       "¿Dònde Està Santa Claus? (Where Is Santa Claus?...            0           0   \n",
       "\n",
       "                                                    genre_latin  genre_metal  \\\n",
       "SongID                                                                         \n",
       "-twistin'-White Silver SandsBill Black's Combo                0            0   \n",
       "¿Dònde Està Santa Claus? (Where Is Santa Claus?...            0            0   \n",
       "\n",
       "                                                    genre_other  genre_pop  \\\n",
       "SongID                                                                       \n",
       "-twistin'-White Silver SandsBill Black's Combo                1          0   \n",
       "¿Dònde Està Santa Claus? (Where Is Santa Claus?...            1          0   \n",
       "\n",
       "                                                    genre_r&b  genre_rap  \\\n",
       "SongID                                                                     \n",
       "-twistin'-White Silver SandsBill Black's Combo              0          0   \n",
       "¿Dònde Està Santa Claus? (Where Is Santa Claus?...          0          0   \n",
       "\n",
       "                                                    genre_rock genre_soul  \n",
       "SongID                                                                     \n",
       "-twistin'-White Silver SandsBill Black's Combo               0          0  \n",
       "¿Dònde Està Santa Claus? (Where Is Santa Claus?...           0          0  \n",
       "\n",
       "[2 rows x 38 columns]"
      ]
     },
     "execution_count": 5,
     "metadata": {},
     "output_type": "execute_result"
    }
   ],
   "source": [
    "# we merge the 2 df\n",
    "df_one_hot=pd.concat([merge_unique_df,one_hot_enc_binary],axis=1)\n",
    "df_one_hot.head(2)"
   ]
  },
  {
   "cell_type": "markdown",
   "metadata": {},
   "source": [
    "# GENERALIZE ONE HOT - ENCODING - all users"
   ]
  },
  {
   "cell_type": "code",
   "execution_count": 6,
   "metadata": {},
   "outputs": [],
   "source": [
    "numerical_features = [\n",
    "    'spotify_track_duration_minute', 'danceability', 'energy', 'loudness',\n",
    "    'mode', 'speechiness', 'acousticness',\n",
    "    'spotify_track_popularity', 'instrumentalness', 'liveness']\n",
    "\n",
    "genre_features = [col for col in df_one_hot.columns if col.startswith('genre_')]\n",
    "\n",
    "# UNION OF THE TWO \n",
    "total_features = numerical_features + genre_features\n",
    "\n",
    "target='valence'"
   ]
  },
  {
   "cell_type": "markdown",
   "metadata": {},
   "source": [
    "## PLOTS"
   ]
  },
  {
   "cell_type": "code",
   "execution_count": 7,
   "metadata": {},
   "outputs": [],
   "source": [
    "def plot_for_model(history):\n",
    "\n",
    "    #plot loss\n",
    "    plt.figure()\n",
    "    plt.plot(history.history['loss'],color='blue',label='loss')\n",
    "    plt.plot(history.history['val_loss'],color='red',label='val_loss')\n",
    "    plt.xlabel('Epoch')\n",
    "    plt.ylabel('Loss')\n",
    "    plt.title('Loss function through epoch')\n",
    "    plt.legend()\n",
    "    plt.grid()\n",
    "    plt.show()\n",
    "\n",
    "    #plot mean\n",
    "    plt.figure()\n",
    "    plt.plot(history.history['mae'],color='blue',label='mae')\n",
    "    plt.plot(history.history['val_mae'],color='red',label='val_mae')\n",
    "    plt.xlabel('Epoch')\n",
    "    plt.ylabel('mae')\n",
    "    plt.title('Mae function through epoch')\n",
    "    plt.grid()\n",
    "    plt.legend()\n",
    "    plt.show()   "
   ]
  },
  {
   "cell_type": "markdown",
   "metadata": {},
   "source": [
    "## SPLIT DATA"
   ]
  },
  {
   "cell_type": "code",
   "execution_count": 8,
   "metadata": {},
   "outputs": [],
   "source": [
    "def return_train_test(df):\n",
    "    #extract the feature and target\n",
    "    x = df[total_features]\n",
    "    y = df[target]\n",
    "\n",
    "    #normalization\n",
    "    x[numerical_features] = StandardScaler().fit_transform(x[numerical_features])\n",
    "    #display(x)\n",
    "\n",
    "    x_train,x_test,y_train,y_test=train_test_split(x, y, test_size=0.2, random_state=42)\n",
    "    #display(x_train)\n",
    "\n",
    "    return x_train,x_test,y_train,y_test"
   ]
  },
  {
   "cell_type": "markdown",
   "metadata": {},
   "source": [
    "## MODEL"
   ]
  },
  {
   "cell_type": "code",
   "execution_count": 9,
   "metadata": {},
   "outputs": [],
   "source": [
    "# function to create the model\n",
    "def create_model_user(shape_x_train): #number of columns -> shape\n",
    "    \n",
    "    \n",
    "    '''model_user_i = Sequential([\n",
    "        Dense(32, input_dim=shape_x_train, activation='relu', name='first_layer'),\n",
    "        Dense(16, activation='relu', name='secod_layer'),\n",
    "        Dense(1, activation='linear', name='final_layer')\n",
    "    ])'''\n",
    "\n",
    "    model_user_i = Sequential([\n",
    "        \n",
    "        Dense(32,input_dim=shape_x_train,activation='relu',name='first_layer',kernel_regularizer=l2(0.01)),\n",
    "        Dropout(0.3),\n",
    "        Dense(16,activation='relu',name='secod_layer',kernel_regularizer=l2(0.01)),\n",
    "        Dropout(0.2),\n",
    "        #Dense(1,activation='linear',name='final_layer')\n",
    "        Dense(1,activation='sigmoid',name='final_layer') #ATENZION PROVIAMO SIGMOID PRCHè CI SERVE UN OUTPUT NEL RANGE DI O E 1\n",
    "    \n",
    "    ])\n",
    "\n",
    "    #compile the model\n",
    "    model_user_i.compile(optimizer = 'adam', loss = 'mse', metrics = ['mae'])\n",
    "\n",
    "    #summary\n",
    "    #display(model_user_i.summary())\n",
    "\n",
    "    #return  the model\n",
    "    return model_user_i\n"
   ]
  },
  {
   "cell_type": "markdown",
   "metadata": {},
   "source": [
    "## FIT MODEL"
   ]
  },
  {
   "cell_type": "code",
   "execution_count": 10,
   "metadata": {},
   "outputs": [],
   "source": [
    "#function to train the model\n",
    "def fit_model(model, x_train, y_train, x_test, y_test):\n",
    "\n",
    "    history_model = model.fit(\n",
    "        x_train,y_train,\n",
    "        validation_data = [x_test, y_test],\n",
    "        epochs=100,\n",
    "        batch_size=32,\n",
    "        #verbose=1\n",
    "    )\n",
    "\n",
    "    return history_model"
   ]
  },
  {
   "cell_type": "markdown",
   "metadata": {},
   "source": [
    "## RECOMANDATION FUNCTION + CONFUSION MATRIX"
   ]
  },
  {
   "cell_type": "code",
   "execution_count": 11,
   "metadata": {},
   "outputs": [],
   "source": [
    "def reco_function_conf_matrix(y_test, y_hat, threshold):\n",
    "    \n",
    "    #initialize dataframe    \n",
    "    data = {'Original Test': y_test,\n",
    "        'Prediction Test': y_hat.flatten(),\n",
    "        }\n",
    "    df_prediction = pd.DataFrame(data = data)\n",
    "    df_prediction['Original over Thrashold'] = df_prediction['Original Test'] > threshold\n",
    "    df_prediction['Predicted over Thrashold'] = df_prediction['Prediction Test'] > threshold\n",
    "    display(df_prediction)\n",
    "\n",
    "    #plot confusion matrix of reccomandation\n",
    "    cm = confusion_matrix(df_prediction['Original over Thrashold'], df_prediction['Predicted over Thrashold'])\n",
    "    \n",
    "    # METRIX FOR EVALUATE RECCOMANDATION \n",
    "    # Extract TP, TN, FP, FN\n",
    "    TN, FP, FN, TP = cm.ravel()\n",
    "    # Calculate metrics manually\n",
    "    accuracy = (TP + TN) / (TP + TN + FP + FN)\n",
    "    precision = TP / (TP + FP) if (TP + FP) > 0 else 0\n",
    "    recall = TP / (TP + FN) if (TP + FN) > 0 else 0\n",
    "    f1 = 2 * (precision * recall) / (precision + recall) if (precision + recall) > 0 else 0\n",
    "\n",
    "\n",
    "    plt.figure()\n",
    "    sns.heatmap(cm, annot=True, fmt='d', cmap='Blues', xticklabels=['True', 'False'], yticklabels=['True', 'False'])\n",
    "    plt.title('Confiusion matrix')\n",
    "    plt.xlabel('predicted')\n",
    "    plt.ylabel('actual')\n",
    "    plt.show()\n",
    "\n",
    "    # Store metrics in a DataFrame\n",
    "    df_metrics_cm = pd.DataFrame(\n",
    "        data =\n",
    "        #'Metric': ['Accuracy', 'Precision', 'Recall', 'F1-score'],\n",
    "        {'Value': [accuracy, precision, recall, f1]},\n",
    "        index = ['Accuracy', 'Precision', 'Recall', 'F1-score']\n",
    "    )\n",
    "\n",
    "    display(df_metrics_cm.round(2))\n",
    "\n",
    "    return df_prediction,df_metrics_cm"
   ]
  },
  {
   "cell_type": "markdown",
   "metadata": {},
   "source": [
    "## MAIN "
   ]
  },
  {
   "cell_type": "code",
   "execution_count": 12,
   "metadata": {},
   "outputs": [
    {
     "name": "stdout",
     "output_type": "stream",
     "text": [
      "---------------------------------------------------------\n",
      "USER 0\n"
     ]
    },
    {
     "name": "stderr",
     "output_type": "stream",
     "text": [
      "C:\\Users\\elped\\AppData\\Local\\Temp\\ipykernel_5772\\2934058548.py:7: SettingWithCopyWarning: \n",
      "A value is trying to be set on a copy of a slice from a DataFrame.\n",
      "Try using .loc[row_indexer,col_indexer] = value instead\n",
      "\n",
      "See the caveats in the documentation: https://pandas.pydata.org/pandas-docs/stable/user_guide/indexing.html#returning-a-view-versus-a-copy\n",
      "  x[numerical_features] = StandardScaler().fit_transform(x[numerical_features])\n",
      "c:\\Users\\elped\\AppData\\Local\\Programs\\Python\\Python312\\Lib\\site-packages\\keras\\src\\layers\\core\\dense.py:87: UserWarning: Do not pass an `input_shape`/`input_dim` argument to a layer. When using Sequential models, prefer using an `Input(shape)` object as the first layer in the model instead.\n",
      "  super().__init__(activity_regularizer=activity_regularizer, **kwargs)\n"
     ]
    },
    {
     "name": "stdout",
     "output_type": "stream",
     "text": [
      "Epoch 1/100\n",
      "\u001b[1m143/143\u001b[0m \u001b[32m━━━━━━━━━━━━━━━━━━━━\u001b[0m\u001b[37m\u001b[0m \u001b[1m3s\u001b[0m 4ms/step - loss: 0.4421 - mae: 0.1894 - val_loss: 0.1855 - val_mae: 0.1660\n",
      "Epoch 2/100\n",
      "\u001b[1m143/143\u001b[0m \u001b[32m━━━━━━━━━━━━━━━━━━━━\u001b[0m\u001b[37m\u001b[0m \u001b[1m0s\u001b[0m 2ms/step - loss: 0.1511 - mae: 0.1712 - val_loss: 0.0745 - val_mae: 0.1580\n",
      "Epoch 3/100\n",
      "\u001b[1m143/143\u001b[0m \u001b[32m━━━━━━━━━━━━━━━━━━━━\u001b[0m\u001b[37m\u001b[0m \u001b[1m0s\u001b[0m 2ms/step - loss: 0.0669 - mae: 0.1611 - val_loss: 0.0457 - val_mae: 0.1482\n",
      "Epoch 4/100\n",
      "\u001b[1m143/143\u001b[0m \u001b[32m━━━━━━━━━━━━━━━━━━━━\u001b[0m\u001b[37m\u001b[0m \u001b[1m0s\u001b[0m 2ms/step - loss: 0.0469 - mae: 0.1564 - val_loss: 0.0393 - val_mae: 0.1460\n",
      "Epoch 5/100\n",
      "\u001b[1m143/143\u001b[0m \u001b[32m━━━━━━━━━━━━━━━━━━━━\u001b[0m\u001b[37m\u001b[0m \u001b[1m1s\u001b[0m 3ms/step - loss: 0.0420 - mae: 0.1531 - val_loss: 0.0378 - val_mae: 0.1456\n",
      "Epoch 6/100\n",
      "\u001b[1m143/143\u001b[0m \u001b[32m━━━━━━━━━━━━━━━━━━━━\u001b[0m\u001b[37m\u001b[0m \u001b[1m0s\u001b[0m 2ms/step - loss: 0.0401 - mae: 0.1503 - val_loss: 0.0375 - val_mae: 0.1428\n",
      "Epoch 7/100\n",
      "\u001b[1m143/143\u001b[0m \u001b[32m━━━━━━━━━━━━━━━━━━━━\u001b[0m\u001b[37m\u001b[0m \u001b[1m0s\u001b[0m 2ms/step - loss: 0.0405 - mae: 0.1515 - val_loss: 0.0368 - val_mae: 0.1422\n",
      "Epoch 8/100\n",
      "\u001b[1m143/143\u001b[0m \u001b[32m━━━━━━━━━━━━━━━━━━━━\u001b[0m\u001b[37m\u001b[0m \u001b[1m0s\u001b[0m 2ms/step - loss: 0.0386 - mae: 0.1463 - val_loss: 0.0367 - val_mae: 0.1422\n",
      "Epoch 9/100\n",
      "\u001b[1m143/143\u001b[0m \u001b[32m━━━━━━━━━━━━━━━━━━━━\u001b[0m\u001b[37m\u001b[0m \u001b[1m0s\u001b[0m 2ms/step - loss: 0.0400 - mae: 0.1510 - val_loss: 0.0361 - val_mae: 0.1422\n",
      "Epoch 10/100\n",
      "\u001b[1m143/143\u001b[0m \u001b[32m━━━━━━━━━━━━━━━━━━━━\u001b[0m\u001b[37m\u001b[0m \u001b[1m0s\u001b[0m 3ms/step - loss: 0.0389 - mae: 0.1480 - val_loss: 0.0360 - val_mae: 0.1408\n",
      "Epoch 11/100\n",
      "\u001b[1m143/143\u001b[0m \u001b[32m━━━━━━━━━━━━━━━━━━━━\u001b[0m\u001b[37m\u001b[0m \u001b[1m0s\u001b[0m 2ms/step - loss: 0.0393 - mae: 0.1488 - val_loss: 0.0358 - val_mae: 0.1404\n",
      "Epoch 12/100\n",
      "\u001b[1m143/143\u001b[0m \u001b[32m━━━━━━━━━━━━━━━━━━━━\u001b[0m\u001b[37m\u001b[0m \u001b[1m0s\u001b[0m 2ms/step - loss: 0.0387 - mae: 0.1485 - val_loss: 0.0353 - val_mae: 0.1422\n",
      "Epoch 13/100\n",
      "\u001b[1m143/143\u001b[0m \u001b[32m━━━━━━━━━━━━━━━━━━━━\u001b[0m\u001b[37m\u001b[0m \u001b[1m0s\u001b[0m 2ms/step - loss: 0.0382 - mae: 0.1486 - val_loss: 0.0355 - val_mae: 0.1393\n",
      "Epoch 14/100\n",
      "\u001b[1m143/143\u001b[0m \u001b[32m━━━━━━━━━━━━━━━━━━━━\u001b[0m\u001b[37m\u001b[0m \u001b[1m0s\u001b[0m 2ms/step - loss: 0.0367 - mae: 0.1435 - val_loss: 0.0354 - val_mae: 0.1406\n",
      "Epoch 15/100\n",
      "\u001b[1m143/143\u001b[0m \u001b[32m━━━━━━━━━━━━━━━━━━━━\u001b[0m\u001b[37m\u001b[0m \u001b[1m0s\u001b[0m 2ms/step - loss: 0.0389 - mae: 0.1494 - val_loss: 0.0351 - val_mae: 0.1395\n",
      "Epoch 16/100\n",
      "\u001b[1m143/143\u001b[0m \u001b[32m━━━━━━━━━━━━━━━━━━━━\u001b[0m\u001b[37m\u001b[0m \u001b[1m0s\u001b[0m 2ms/step - loss: 0.0378 - mae: 0.1458 - val_loss: 0.0350 - val_mae: 0.1398\n",
      "Epoch 17/100\n",
      "\u001b[1m143/143\u001b[0m \u001b[32m━━━━━━━━━━━━━━━━━━━━\u001b[0m\u001b[37m\u001b[0m \u001b[1m0s\u001b[0m 2ms/step - loss: 0.0374 - mae: 0.1452 - val_loss: 0.0348 - val_mae: 0.1416\n",
      "Epoch 18/100\n",
      "\u001b[1m143/143\u001b[0m \u001b[32m━━━━━━━━━━━━━━━━━━━━\u001b[0m\u001b[37m\u001b[0m \u001b[1m0s\u001b[0m 2ms/step - loss: 0.0365 - mae: 0.1440 - val_loss: 0.0346 - val_mae: 0.1390\n",
      "Epoch 19/100\n",
      "\u001b[1m143/143\u001b[0m \u001b[32m━━━━━━━━━━━━━━━━━━━━\u001b[0m\u001b[37m\u001b[0m \u001b[1m0s\u001b[0m 2ms/step - loss: 0.0386 - mae: 0.1495 - val_loss: 0.0343 - val_mae: 0.1398\n",
      "Epoch 20/100\n",
      "\u001b[1m143/143\u001b[0m \u001b[32m━━━━━━━━━━━━━━━━━━━━\u001b[0m\u001b[37m\u001b[0m \u001b[1m1s\u001b[0m 8ms/step - loss: 0.0374 - mae: 0.1459 - val_loss: 0.0343 - val_mae: 0.1411\n",
      "Epoch 21/100\n",
      "\u001b[1m143/143\u001b[0m \u001b[32m━━━━━━━━━━━━━━━━━━━━\u001b[0m\u001b[37m\u001b[0m \u001b[1m1s\u001b[0m 7ms/step - loss: 0.0372 - mae: 0.1472 - val_loss: 0.0343 - val_mae: 0.1396\n",
      "Epoch 22/100\n",
      "\u001b[1m143/143\u001b[0m \u001b[32m━━━━━━━━━━━━━━━━━━━━\u001b[0m\u001b[37m\u001b[0m \u001b[1m1s\u001b[0m 8ms/step - loss: 0.0362 - mae: 0.1440 - val_loss: 0.0343 - val_mae: 0.1400\n",
      "Epoch 23/100\n",
      "\u001b[1m143/143\u001b[0m \u001b[32m━━━━━━━━━━━━━━━━━━━━\u001b[0m\u001b[37m\u001b[0m \u001b[1m1s\u001b[0m 4ms/step - loss: 0.0360 - mae: 0.1436 - val_loss: 0.0346 - val_mae: 0.1417\n",
      "Epoch 24/100\n",
      "\u001b[1m143/143\u001b[0m \u001b[32m━━━━━━━━━━━━━━━━━━━━\u001b[0m\u001b[37m\u001b[0m \u001b[1m1s\u001b[0m 3ms/step - loss: 0.0370 - mae: 0.1473 - val_loss: 0.0341 - val_mae: 0.1396\n",
      "Epoch 25/100\n",
      "\u001b[1m143/143\u001b[0m \u001b[32m━━━━━━━━━━━━━━━━━━━━\u001b[0m\u001b[37m\u001b[0m \u001b[1m1s\u001b[0m 3ms/step - loss: 0.0363 - mae: 0.1437 - val_loss: 0.0342 - val_mae: 0.1395\n",
      "Epoch 26/100\n",
      "\u001b[1m143/143\u001b[0m \u001b[32m━━━━━━━━━━━━━━━━━━━━\u001b[0m\u001b[37m\u001b[0m \u001b[1m1s\u001b[0m 4ms/step - loss: 0.0366 - mae: 0.1453 - val_loss: 0.0340 - val_mae: 0.1378\n",
      "Epoch 27/100\n",
      "\u001b[1m143/143\u001b[0m \u001b[32m━━━━━━━━━━━━━━━━━━━━\u001b[0m\u001b[37m\u001b[0m \u001b[1m1s\u001b[0m 3ms/step - loss: 0.0360 - mae: 0.1439 - val_loss: 0.0337 - val_mae: 0.1390\n",
      "Epoch 28/100\n",
      "\u001b[1m143/143\u001b[0m \u001b[32m━━━━━━━━━━━━━━━━━━━━\u001b[0m\u001b[37m\u001b[0m \u001b[1m1s\u001b[0m 6ms/step - loss: 0.0352 - mae: 0.1428 - val_loss: 0.0337 - val_mae: 0.1396\n",
      "Epoch 29/100\n",
      "\u001b[1m143/143\u001b[0m \u001b[32m━━━━━━━━━━━━━━━━━━━━\u001b[0m\u001b[37m\u001b[0m \u001b[1m2s\u001b[0m 8ms/step - loss: 0.0357 - mae: 0.1438 - val_loss: 0.0333 - val_mae: 0.1383\n",
      "Epoch 30/100\n",
      "\u001b[1m143/143\u001b[0m \u001b[32m━━━━━━━━━━━━━━━━━━━━\u001b[0m\u001b[37m\u001b[0m \u001b[1m2s\u001b[0m 5ms/step - loss: 0.0351 - mae: 0.1419 - val_loss: 0.0336 - val_mae: 0.1391\n",
      "Epoch 31/100\n",
      "\u001b[1m143/143\u001b[0m \u001b[32m━━━━━━━━━━━━━━━━━━━━\u001b[0m\u001b[37m\u001b[0m \u001b[1m1s\u001b[0m 4ms/step - loss: 0.0361 - mae: 0.1444 - val_loss: 0.0336 - val_mae: 0.1386\n",
      "Epoch 32/100\n",
      "\u001b[1m143/143\u001b[0m \u001b[32m━━━━━━━━━━━━━━━━━━━━\u001b[0m\u001b[37m\u001b[0m \u001b[1m1s\u001b[0m 3ms/step - loss: 0.0365 - mae: 0.1453 - val_loss: 0.0337 - val_mae: 0.1379\n",
      "Epoch 33/100\n",
      "\u001b[1m143/143\u001b[0m \u001b[32m━━━━━━━━━━━━━━━━━━━━\u001b[0m\u001b[37m\u001b[0m \u001b[1m1s\u001b[0m 3ms/step - loss: 0.0361 - mae: 0.1451 - val_loss: 0.0335 - val_mae: 0.1403\n",
      "Epoch 34/100\n",
      "\u001b[1m143/143\u001b[0m \u001b[32m━━━━━━━━━━━━━━━━━━━━\u001b[0m\u001b[37m\u001b[0m \u001b[1m1s\u001b[0m 4ms/step - loss: 0.0351 - mae: 0.1426 - val_loss: 0.0342 - val_mae: 0.1370\n",
      "Epoch 35/100\n",
      "\u001b[1m143/143\u001b[0m \u001b[32m━━━━━━━━━━━━━━━━━━━━\u001b[0m\u001b[37m\u001b[0m \u001b[1m1s\u001b[0m 3ms/step - loss: 0.0354 - mae: 0.1434 - val_loss: 0.0335 - val_mae: 0.1369\n",
      "Epoch 36/100\n",
      "\u001b[1m143/143\u001b[0m \u001b[32m━━━━━━━━━━━━━━━━━━━━\u001b[0m\u001b[37m\u001b[0m \u001b[1m1s\u001b[0m 3ms/step - loss: 0.0348 - mae: 0.1403 - val_loss: 0.0332 - val_mae: 0.1383\n",
      "Epoch 37/100\n",
      "\u001b[1m143/143\u001b[0m \u001b[32m━━━━━━━━━━━━━━━━━━━━\u001b[0m\u001b[37m\u001b[0m \u001b[1m0s\u001b[0m 2ms/step - loss: 0.0348 - mae: 0.1418 - val_loss: 0.0332 - val_mae: 0.1390\n",
      "Epoch 38/100\n",
      "\u001b[1m143/143\u001b[0m \u001b[32m━━━━━━━━━━━━━━━━━━━━\u001b[0m\u001b[37m\u001b[0m \u001b[1m0s\u001b[0m 2ms/step - loss: 0.0355 - mae: 0.1437 - val_loss: 0.0332 - val_mae: 0.1374\n",
      "Epoch 39/100\n",
      "\u001b[1m143/143\u001b[0m \u001b[32m━━━━━━━━━━━━━━━━━━━━\u001b[0m\u001b[37m\u001b[0m \u001b[1m1s\u001b[0m 8ms/step - loss: 0.0357 - mae: 0.1430 - val_loss: 0.0329 - val_mae: 0.1373\n",
      "Epoch 40/100\n",
      "\u001b[1m143/143\u001b[0m \u001b[32m━━━━━━━━━━━━━━━━━━━━\u001b[0m\u001b[37m\u001b[0m \u001b[1m2s\u001b[0m 10ms/step - loss: 0.0366 - mae: 0.1453 - val_loss: 0.0333 - val_mae: 0.1400\n",
      "Epoch 41/100\n",
      "\u001b[1m143/143\u001b[0m \u001b[32m━━━━━━━━━━━━━━━━━━━━\u001b[0m\u001b[37m\u001b[0m \u001b[1m1s\u001b[0m 7ms/step - loss: 0.0351 - mae: 0.1427 - val_loss: 0.0330 - val_mae: 0.1372\n",
      "Epoch 42/100\n",
      "\u001b[1m143/143\u001b[0m \u001b[32m━━━━━━━━━━━━━━━━━━━━\u001b[0m\u001b[37m\u001b[0m \u001b[1m1s\u001b[0m 6ms/step - loss: 0.0342 - mae: 0.1411 - val_loss: 0.0331 - val_mae: 0.1365\n",
      "Epoch 43/100\n",
      "\u001b[1m143/143\u001b[0m \u001b[32m━━━━━━━━━━━━━━━━━━━━\u001b[0m\u001b[37m\u001b[0m \u001b[1m1s\u001b[0m 3ms/step - loss: 0.0343 - mae: 0.1414 - val_loss: 0.0338 - val_mae: 0.1423\n",
      "Epoch 44/100\n",
      "\u001b[1m143/143\u001b[0m \u001b[32m━━━━━━━━━━━━━━━━━━━━\u001b[0m\u001b[37m\u001b[0m \u001b[1m1s\u001b[0m 3ms/step - loss: 0.0360 - mae: 0.1454 - val_loss: 0.0335 - val_mae: 0.1402\n",
      "Epoch 45/100\n",
      "\u001b[1m143/143\u001b[0m \u001b[32m━━━━━━━━━━━━━━━━━━━━\u001b[0m\u001b[37m\u001b[0m \u001b[1m0s\u001b[0m 3ms/step - loss: 0.0356 - mae: 0.1449 - val_loss: 0.0329 - val_mae: 0.1369\n",
      "Epoch 46/100\n",
      "\u001b[1m143/143\u001b[0m \u001b[32m━━━━━━━━━━━━━━━━━━━━\u001b[0m\u001b[37m\u001b[0m \u001b[1m0s\u001b[0m 2ms/step - loss: 0.0346 - mae: 0.1415 - val_loss: 0.0328 - val_mae: 0.1377\n",
      "Epoch 47/100\n",
      "\u001b[1m143/143\u001b[0m \u001b[32m━━━━━━━━━━━━━━━━━━━━\u001b[0m\u001b[37m\u001b[0m \u001b[1m0s\u001b[0m 2ms/step - loss: 0.0345 - mae: 0.1418 - val_loss: 0.0331 - val_mae: 0.1383\n",
      "Epoch 48/100\n",
      "\u001b[1m143/143\u001b[0m \u001b[32m━━━━━━━━━━━━━━━━━━━━\u001b[0m\u001b[37m\u001b[0m \u001b[1m0s\u001b[0m 2ms/step - loss: 0.0347 - mae: 0.1416 - val_loss: 0.0330 - val_mae: 0.1386\n",
      "Epoch 49/100\n",
      "\u001b[1m143/143\u001b[0m \u001b[32m━━━━━━━━━━━━━━━━━━━━\u001b[0m\u001b[37m\u001b[0m \u001b[1m0s\u001b[0m 2ms/step - loss: 0.0350 - mae: 0.1446 - val_loss: 0.0327 - val_mae: 0.1389\n",
      "Epoch 50/100\n",
      "\u001b[1m143/143\u001b[0m \u001b[32m━━━━━━━━━━━━━━━━━━━━\u001b[0m\u001b[37m\u001b[0m \u001b[1m0s\u001b[0m 2ms/step - loss: 0.0352 - mae: 0.1435 - val_loss: 0.0325 - val_mae: 0.1365\n",
      "Epoch 51/100\n",
      "\u001b[1m143/143\u001b[0m \u001b[32m━━━━━━━━━━━━━━━━━━━━\u001b[0m\u001b[37m\u001b[0m \u001b[1m0s\u001b[0m 2ms/step - loss: 0.0337 - mae: 0.1390 - val_loss: 0.0329 - val_mae: 0.1379\n",
      "Epoch 52/100\n",
      "\u001b[1m143/143\u001b[0m \u001b[32m━━━━━━━━━━━━━━━━━━━━\u001b[0m\u001b[37m\u001b[0m \u001b[1m0s\u001b[0m 2ms/step - loss: 0.0348 - mae: 0.1423 - val_loss: 0.0327 - val_mae: 0.1373\n",
      "Epoch 53/100\n",
      "\u001b[1m143/143\u001b[0m \u001b[32m━━━━━━━━━━━━━━━━━━━━\u001b[0m\u001b[37m\u001b[0m \u001b[1m0s\u001b[0m 2ms/step - loss: 0.0351 - mae: 0.1436 - val_loss: 0.0325 - val_mae: 0.1370\n",
      "Epoch 54/100\n",
      "\u001b[1m143/143\u001b[0m \u001b[32m━━━━━━━━━━━━━━━━━━━━\u001b[0m\u001b[37m\u001b[0m \u001b[1m0s\u001b[0m 2ms/step - loss: 0.0340 - mae: 0.1413 - val_loss: 0.0325 - val_mae: 0.1370\n",
      "Epoch 55/100\n",
      "\u001b[1m143/143\u001b[0m \u001b[32m━━━━━━━━━━━━━━━━━━━━\u001b[0m\u001b[37m\u001b[0m \u001b[1m0s\u001b[0m 2ms/step - loss: 0.0354 - mae: 0.1446 - val_loss: 0.0329 - val_mae: 0.1364\n",
      "Epoch 56/100\n",
      "\u001b[1m143/143\u001b[0m \u001b[32m━━━━━━━━━━━━━━━━━━━━\u001b[0m\u001b[37m\u001b[0m \u001b[1m0s\u001b[0m 2ms/step - loss: 0.0343 - mae: 0.1415 - val_loss: 0.0329 - val_mae: 0.1365\n",
      "Epoch 57/100\n",
      "\u001b[1m143/143\u001b[0m \u001b[32m━━━━━━━━━━━━━━━━━━━━\u001b[0m\u001b[37m\u001b[0m \u001b[1m0s\u001b[0m 2ms/step - loss: 0.0343 - mae: 0.1424 - val_loss: 0.0325 - val_mae: 0.1361\n",
      "Epoch 58/100\n",
      "\u001b[1m143/143\u001b[0m \u001b[32m━━━━━━━━━━━━━━━━━━━━\u001b[0m\u001b[37m\u001b[0m \u001b[1m0s\u001b[0m 2ms/step - loss: 0.0359 - mae: 0.1450 - val_loss: 0.0323 - val_mae: 0.1363\n",
      "Epoch 59/100\n",
      "\u001b[1m143/143\u001b[0m \u001b[32m━━━━━━━━━━━━━━━━━━━━\u001b[0m\u001b[37m\u001b[0m \u001b[1m1s\u001b[0m 2ms/step - loss: 0.0351 - mae: 0.1438 - val_loss: 0.0328 - val_mae: 0.1394\n",
      "Epoch 60/100\n",
      "\u001b[1m143/143\u001b[0m \u001b[32m━━━━━━━━━━━━━━━━━━━━\u001b[0m\u001b[37m\u001b[0m \u001b[1m0s\u001b[0m 2ms/step - loss: 0.0340 - mae: 0.1414 - val_loss: 0.0324 - val_mae: 0.1383\n",
      "Epoch 61/100\n",
      "\u001b[1m143/143\u001b[0m \u001b[32m━━━━━━━━━━━━━━━━━━━━\u001b[0m\u001b[37m\u001b[0m \u001b[1m0s\u001b[0m 2ms/step - loss: 0.0338 - mae: 0.1410 - val_loss: 0.0321 - val_mae: 0.1381\n",
      "Epoch 62/100\n",
      "\u001b[1m143/143\u001b[0m \u001b[32m━━━━━━━━━━━━━━━━━━━━\u001b[0m\u001b[37m\u001b[0m \u001b[1m0s\u001b[0m 2ms/step - loss: 0.0335 - mae: 0.1402 - val_loss: 0.0329 - val_mae: 0.1375\n",
      "Epoch 63/100\n",
      "\u001b[1m143/143\u001b[0m \u001b[32m━━━━━━━━━━━━━━━━━━━━\u001b[0m\u001b[37m\u001b[0m \u001b[1m0s\u001b[0m 2ms/step - loss: 0.0357 - mae: 0.1438 - val_loss: 0.0328 - val_mae: 0.1386\n",
      "Epoch 64/100\n",
      "\u001b[1m143/143\u001b[0m \u001b[32m━━━━━━━━━━━━━━━━━━━━\u001b[0m\u001b[37m\u001b[0m \u001b[1m0s\u001b[0m 2ms/step - loss: 0.0343 - mae: 0.1426 - val_loss: 0.0322 - val_mae: 0.1386\n",
      "Epoch 65/100\n",
      "\u001b[1m143/143\u001b[0m \u001b[32m━━━━━━━━━━━━━━━━━━━━\u001b[0m\u001b[37m\u001b[0m \u001b[1m0s\u001b[0m 2ms/step - loss: 0.0351 - mae: 0.1441 - val_loss: 0.0322 - val_mae: 0.1373\n",
      "Epoch 66/100\n",
      "\u001b[1m143/143\u001b[0m \u001b[32m━━━━━━━━━━━━━━━━━━━━\u001b[0m\u001b[37m\u001b[0m \u001b[1m0s\u001b[0m 2ms/step - loss: 0.0345 - mae: 0.1427 - val_loss: 0.0329 - val_mae: 0.1377\n",
      "Epoch 67/100\n",
      "\u001b[1m143/143\u001b[0m \u001b[32m━━━━━━━━━━━━━━━━━━━━\u001b[0m\u001b[37m\u001b[0m \u001b[1m0s\u001b[0m 2ms/step - loss: 0.0346 - mae: 0.1437 - val_loss: 0.0334 - val_mae: 0.1383\n",
      "Epoch 68/100\n",
      "\u001b[1m143/143\u001b[0m \u001b[32m━━━━━━━━━━━━━━━━━━━━\u001b[0m\u001b[37m\u001b[0m \u001b[1m0s\u001b[0m 2ms/step - loss: 0.0346 - mae: 0.1427 - val_loss: 0.0321 - val_mae: 0.1379\n",
      "Epoch 69/100\n",
      "\u001b[1m143/143\u001b[0m \u001b[32m━━━━━━━━━━━━━━━━━━━━\u001b[0m\u001b[37m\u001b[0m \u001b[1m1s\u001b[0m 7ms/step - loss: 0.0340 - mae: 0.1415 - val_loss: 0.0324 - val_mae: 0.1367\n",
      "Epoch 70/100\n",
      "\u001b[1m143/143\u001b[0m \u001b[32m━━━━━━━━━━━━━━━━━━━━\u001b[0m\u001b[37m\u001b[0m \u001b[1m2s\u001b[0m 7ms/step - loss: 0.0354 - mae: 0.1446 - val_loss: 0.0325 - val_mae: 0.1375\n",
      "Epoch 71/100\n",
      "\u001b[1m143/143\u001b[0m \u001b[32m━━━━━━━━━━━━━━━━━━━━\u001b[0m\u001b[37m\u001b[0m \u001b[1m1s\u001b[0m 5ms/step - loss: 0.0342 - mae: 0.1416 - val_loss: 0.0323 - val_mae: 0.1398\n",
      "Epoch 72/100\n",
      "\u001b[1m143/143\u001b[0m \u001b[32m━━━━━━━━━━━━━━━━━━━━\u001b[0m\u001b[37m\u001b[0m \u001b[1m2s\u001b[0m 7ms/step - loss: 0.0329 - mae: 0.1394 - val_loss: 0.0321 - val_mae: 0.1361\n",
      "Epoch 73/100\n",
      "\u001b[1m143/143\u001b[0m \u001b[32m━━━━━━━━━━━━━━━━━━━━\u001b[0m\u001b[37m\u001b[0m \u001b[1m1s\u001b[0m 6ms/step - loss: 0.0337 - mae: 0.1409 - val_loss: 0.0322 - val_mae: 0.1354\n",
      "Epoch 74/100\n",
      "\u001b[1m143/143\u001b[0m \u001b[32m━━━━━━━━━━━━━━━━━━━━\u001b[0m\u001b[37m\u001b[0m \u001b[1m1s\u001b[0m 5ms/step - loss: 0.0343 - mae: 0.1413 - val_loss: 0.0320 - val_mae: 0.1378\n",
      "Epoch 75/100\n",
      "\u001b[1m143/143\u001b[0m \u001b[32m━━━━━━━━━━━━━━━━━━━━\u001b[0m\u001b[37m\u001b[0m \u001b[1m1s\u001b[0m 4ms/step - loss: 0.0338 - mae: 0.1407 - val_loss: 0.0320 - val_mae: 0.1364\n",
      "Epoch 76/100\n",
      "\u001b[1m143/143\u001b[0m \u001b[32m━━━━━━━━━━━━━━━━━━━━\u001b[0m\u001b[37m\u001b[0m \u001b[1m1s\u001b[0m 5ms/step - loss: 0.0338 - mae: 0.1403 - val_loss: 0.0316 - val_mae: 0.1367\n",
      "Epoch 77/100\n",
      "\u001b[1m143/143\u001b[0m \u001b[32m━━━━━━━━━━━━━━━━━━━━\u001b[0m\u001b[37m\u001b[0m \u001b[1m0s\u001b[0m 2ms/step - loss: 0.0343 - mae: 0.1423 - val_loss: 0.0320 - val_mae: 0.1364\n",
      "Epoch 78/100\n",
      "\u001b[1m143/143\u001b[0m \u001b[32m━━━━━━━━━━━━━━━━━━━━\u001b[0m\u001b[37m\u001b[0m \u001b[1m1s\u001b[0m 5ms/step - loss: 0.0340 - mae: 0.1416 - val_loss: 0.0319 - val_mae: 0.1359\n",
      "Epoch 79/100\n",
      "\u001b[1m143/143\u001b[0m \u001b[32m━━━━━━━━━━━━━━━━━━━━\u001b[0m\u001b[37m\u001b[0m \u001b[1m1s\u001b[0m 6ms/step - loss: 0.0332 - mae: 0.1385 - val_loss: 0.0315 - val_mae: 0.1361\n",
      "Epoch 80/100\n",
      "\u001b[1m143/143\u001b[0m \u001b[32m━━━━━━━━━━━━━━━━━━━━\u001b[0m\u001b[37m\u001b[0m \u001b[1m1s\u001b[0m 6ms/step - loss: 0.0333 - mae: 0.1412 - val_loss: 0.0322 - val_mae: 0.1376\n",
      "Epoch 81/100\n",
      "\u001b[1m143/143\u001b[0m \u001b[32m━━━━━━━━━━━━━━━━━━━━\u001b[0m\u001b[37m\u001b[0m \u001b[1m0s\u001b[0m 2ms/step - loss: 0.0349 - mae: 0.1441 - val_loss: 0.0320 - val_mae: 0.1367\n",
      "Epoch 82/100\n",
      "\u001b[1m143/143\u001b[0m \u001b[32m━━━━━━━━━━━━━━━━━━━━\u001b[0m\u001b[37m\u001b[0m \u001b[1m0s\u001b[0m 3ms/step - loss: 0.0336 - mae: 0.1405 - val_loss: 0.0323 - val_mae: 0.1367\n",
      "Epoch 83/100\n",
      "\u001b[1m143/143\u001b[0m \u001b[32m━━━━━━━━━━━━━━━━━━━━\u001b[0m\u001b[37m\u001b[0m \u001b[1m1s\u001b[0m 3ms/step - loss: 0.0334 - mae: 0.1391 - val_loss: 0.0315 - val_mae: 0.1353\n",
      "Epoch 84/100\n",
      "\u001b[1m143/143\u001b[0m \u001b[32m━━━━━━━━━━━━━━━━━━━━\u001b[0m\u001b[37m\u001b[0m \u001b[1m0s\u001b[0m 2ms/step - loss: 0.0345 - mae: 0.1439 - val_loss: 0.0318 - val_mae: 0.1363\n",
      "Epoch 85/100\n",
      "\u001b[1m143/143\u001b[0m \u001b[32m━━━━━━━━━━━━━━━━━━━━\u001b[0m\u001b[37m\u001b[0m \u001b[1m0s\u001b[0m 2ms/step - loss: 0.0332 - mae: 0.1387 - val_loss: 0.0322 - val_mae: 0.1370\n",
      "Epoch 86/100\n",
      "\u001b[1m143/143\u001b[0m \u001b[32m━━━━━━━━━━━━━━━━━━━━\u001b[0m\u001b[37m\u001b[0m \u001b[1m0s\u001b[0m 2ms/step - loss: 0.0336 - mae: 0.1406 - val_loss: 0.0320 - val_mae: 0.1381\n",
      "Epoch 87/100\n",
      "\u001b[1m143/143\u001b[0m \u001b[32m━━━━━━━━━━━━━━━━━━━━\u001b[0m\u001b[37m\u001b[0m \u001b[1m0s\u001b[0m 2ms/step - loss: 0.0342 - mae: 0.1421 - val_loss: 0.0317 - val_mae: 0.1357\n",
      "Epoch 88/100\n",
      "\u001b[1m143/143\u001b[0m \u001b[32m━━━━━━━━━━━━━━━━━━━━\u001b[0m\u001b[37m\u001b[0m \u001b[1m0s\u001b[0m 3ms/step - loss: 0.0334 - mae: 0.1405 - val_loss: 0.0321 - val_mae: 0.1387\n",
      "Epoch 89/100\n",
      "\u001b[1m143/143\u001b[0m \u001b[32m━━━━━━━━━━━━━━━━━━━━\u001b[0m\u001b[37m\u001b[0m \u001b[1m0s\u001b[0m 2ms/step - loss: 0.0344 - mae: 0.1428 - val_loss: 0.0318 - val_mae: 0.1371\n",
      "Epoch 90/100\n",
      "\u001b[1m143/143\u001b[0m \u001b[32m━━━━━━━━━━━━━━━━━━━━\u001b[0m\u001b[37m\u001b[0m \u001b[1m1s\u001b[0m 4ms/step - loss: 0.0329 - mae: 0.1393 - val_loss: 0.0319 - val_mae: 0.1388\n",
      "Epoch 91/100\n",
      "\u001b[1m143/143\u001b[0m \u001b[32m━━━━━━━━━━━━━━━━━━━━\u001b[0m\u001b[37m\u001b[0m \u001b[1m0s\u001b[0m 2ms/step - loss: 0.0328 - mae: 0.1384 - val_loss: 0.0315 - val_mae: 0.1373\n",
      "Epoch 92/100\n",
      "\u001b[1m143/143\u001b[0m \u001b[32m━━━━━━━━━━━━━━━━━━━━\u001b[0m\u001b[37m\u001b[0m \u001b[1m0s\u001b[0m 2ms/step - loss: 0.0344 - mae: 0.1419 - val_loss: 0.0313 - val_mae: 0.1367\n",
      "Epoch 93/100\n",
      "\u001b[1m143/143\u001b[0m \u001b[32m━━━━━━━━━━━━━━━━━━━━\u001b[0m\u001b[37m\u001b[0m \u001b[1m0s\u001b[0m 2ms/step - loss: 0.0330 - mae: 0.1391 - val_loss: 0.0325 - val_mae: 0.1364\n",
      "Epoch 94/100\n",
      "\u001b[1m143/143\u001b[0m \u001b[32m━━━━━━━━━━━━━━━━━━━━\u001b[0m\u001b[37m\u001b[0m \u001b[1m0s\u001b[0m 2ms/step - loss: 0.0330 - mae: 0.1401 - val_loss: 0.0322 - val_mae: 0.1376\n",
      "Epoch 95/100\n",
      "\u001b[1m143/143\u001b[0m \u001b[32m━━━━━━━━━━━━━━━━━━━━\u001b[0m\u001b[37m\u001b[0m \u001b[1m1s\u001b[0m 4ms/step - loss: 0.0343 - mae: 0.1423 - val_loss: 0.0314 - val_mae: 0.1352\n",
      "Epoch 96/100\n",
      "\u001b[1m143/143\u001b[0m \u001b[32m━━━━━━━━━━━━━━━━━━━━\u001b[0m\u001b[37m\u001b[0m \u001b[1m1s\u001b[0m 4ms/step - loss: 0.0331 - mae: 0.1399 - val_loss: 0.0323 - val_mae: 0.1389\n",
      "Epoch 97/100\n",
      "\u001b[1m143/143\u001b[0m \u001b[32m━━━━━━━━━━━━━━━━━━━━\u001b[0m\u001b[37m\u001b[0m \u001b[1m1s\u001b[0m 5ms/step - loss: 0.0332 - mae: 0.1391 - val_loss: 0.0316 - val_mae: 0.1349\n",
      "Epoch 98/100\n",
      "\u001b[1m143/143\u001b[0m \u001b[32m━━━━━━━━━━━━━━━━━━━━\u001b[0m\u001b[37m\u001b[0m \u001b[1m0s\u001b[0m 3ms/step - loss: 0.0342 - mae: 0.1408 - val_loss: 0.0315 - val_mae: 0.1349\n",
      "Epoch 99/100\n",
      "\u001b[1m143/143\u001b[0m \u001b[32m━━━━━━━━━━━━━━━━━━━━\u001b[0m\u001b[37m\u001b[0m \u001b[1m0s\u001b[0m 3ms/step - loss: 0.0341 - mae: 0.1408 - val_loss: 0.0315 - val_mae: 0.1353\n",
      "Epoch 100/100\n",
      "\u001b[1m143/143\u001b[0m \u001b[32m━━━━━━━━━━━━━━━━━━━━\u001b[0m\u001b[37m\u001b[0m \u001b[1m0s\u001b[0m 3ms/step - loss: 0.0346 - mae: 0.1424 - val_loss: 0.0317 - val_mae: 0.1387\n",
      "\u001b[1m36/36\u001b[0m \u001b[32m━━━━━━━━━━━━━━━━━━━━\u001b[0m\u001b[37m\u001b[0m \u001b[1m0s\u001b[0m 8ms/step\n"
     ]
    },
    {
     "data": {
      "image/png": "[encoded data removed]",
      "text/plain": [
       "<Figure size 640x480 with 1 Axes>"
      ]
     },
     "metadata": {},
     "output_type": "display_data"
    },
    {
     "data": {
      "image/png": "[encoded data removed]",
      "text/plain": [
       "<Figure size 640x480 with 1 Axes>"
      ]
     },
     "metadata": {},
     "output_type": "display_data"
    },
    {
     "name": "stdout",
     "output_type": "stream",
     "text": [
      "\u001b[1m36/36\u001b[0m \u001b[32m━━━━━━━━━━━━━━━━━━━━\u001b[0m\u001b[37m\u001b[0m \u001b[1m0s\u001b[0m 2ms/step - loss: 0.0321 - mae: 0.1379\n",
      "MSE:  0.031723104417324066\n",
      "MAE: 0.13871584832668304\n"
     ]
    },
    {
     "data": {
      "application/vnd.microsoft.datawrangler.viewer.v0+json": {
       "columns": [
        {
         "name": "SongID",
         "rawType": "object",
         "type": "string"
        },
        {
         "name": "Original Test",
         "rawType": "float64",
         "type": "float"
        },
        {
         "name": "Prediction Test",
         "rawType": "float32",
         "type": "float"
        },
        {
         "name": "Original over Thrashold",
         "rawType": "bool",
         "type": "boolean"
        },
        {
         "name": "Predicted over Thrashold",
         "rawType": "bool",
         "type": "boolean"
        }
       ],
       "conversionMethod": "pd.DataFrame",
       "ref": "a0283c6a-4a10-46f8-bef4-77dc2f461e4e",
       "rows": [
        [
         "Nice 'N' NaastyThe Salsoul Orchestra",
         "0.883",
         "0.74549985",
         "True",
         "True"
        ],
        [
         "ShiffteeOnyx",
         "0.253",
         "0.6348157",
         "False",
         "False"
        ],
        [
         "Since I Made You CryThe Rivieras",
         "0.569",
         "0.5369623",
         "False",
         "False"
        ],
        [
         "TonightNew Kids On The Block",
         "0.383",
         "0.38982823",
         "False",
         "False"
        ],
        [
         "Never Comes The DayThe Moody Blues",
         "0.18",
         "0.34680286",
         "False",
         "False"
        ],
        [
         "Gotta Get You Home TonightEugene Wilde",
         "0.5749999999999998",
         "0.52800596",
         "False",
         "False"
        ],
        [
         "Girl On FireAlicia Keys Featuring Nicki Minaj",
         "0.1439999999999999",
         "0.41068438",
         "False",
         "False"
        ],
        [
         "I'm Gonna Miss YouKenny Loggins",
         "0.8549999999999999",
         "0.74058825",
         "True",
         "True"
        ],
        [
         "What About Your FriendsTLC",
         "0.626",
         "0.72884756",
         "False",
         "True"
        ],
        [
         "High On EmotionChris de Burgh",
         "0.5869999999999999",
         "0.5709262",
         "False",
         "False"
        ],
        [
         "It's Gonna Take A MiracleDeniece Williams",
         "0.665",
         "0.58169997",
         "False",
         "False"
        ],
        [
         "Say Wonderful ThingsPatti Page",
         "0.4259999999999999",
         "0.4905107",
         "False",
         "False"
        ],
        [
         "I'm RealKris Kross",
         "0.801",
         "0.7122677",
         "True",
         "True"
        ],
        [
         "I'm Going DownRose Royce",
         "0.319",
         "0.40339056",
         "False",
         "False"
        ],
        [
         "Pimpin' All Over The WorldLudacris Featuring Bobby Valentino",
         "0.779",
         "0.5289434",
         "True",
         "False"
        ],
        [
         "Don't You Know What Love IsTouch",
         "0.4889999999999999",
         "0.51171",
         "False",
         "False"
        ],
        [
         "If You GoJon Secada",
         "0.522",
         "0.69600284",
         "False",
         "False"
        ],
        [
         "BurnMobb Deep Featuring Vita & Noyd",
         "0.808",
         "0.52893454",
         "True",
         "False"
        ],
        [
         "Rhapsody In WhiteLove Unlimited Orchestra",
         "0.77",
         "0.7198193",
         "True",
         "True"
        ],
        [
         "Sexual HealingMarvin Gaye",
         "0.746",
         "0.72728425",
         "True",
         "True"
        ],
        [
         "Chicken Noodle Soupj-hope Featuring Becky G.",
         "0.168",
         "0.6650289",
         "False",
         "False"
        ],
        [
         "Get LowZedd & Liam Payne",
         "0.54",
         "0.7048924",
         "False",
         "True"
        ],
        [
         "Johnny Loves MeShelley Fabares",
         "0.4169999999999999",
         "0.38339558",
         "False",
         "False"
        ],
        [
         "I Adore Mi AmorColor Me Badd",
         "0.7249999999999999",
         "0.49277464",
         "True",
         "False"
        ],
        [
         "Let's Get RockedDef Leppard",
         "0.526",
         "0.6269831",
         "False",
         "False"
        ],
        [
         "I Love YouOtis Leavill",
         "0.669",
         "0.56860673",
         "False",
         "False"
        ],
        [
         "AsStevie Wonder",
         "0.684",
         "0.5267657",
         "False",
         "False"
        ],
        [
         "Do You Wanna Make LovePeter Mccann",
         "0.542",
         "0.58570224",
         "False",
         "False"
        ],
        [
         "SolteraLunay, Daddy Yankee & Bad Bunny",
         "0.8",
         "0.68302226",
         "True",
         "False"
        ],
        [
         "Take A HandRick Springfield",
         "0.797",
         "0.5961889",
         "True",
         "False"
        ],
        [
         "WaterBrad Paisley",
         "0.694",
         "0.5893206",
         "False",
         "False"
        ],
        [
         "Be My LadyJefferson Starship",
         "0.62",
         "0.6050236",
         "False",
         "False"
        ],
        [
         "I Don't Need A ManThe Pussycat Dolls",
         "0.757",
         "0.7535291",
         "True",
         "True"
        ],
        [
         "Nothing 'Bout MeSting",
         "0.2049999999999999",
         "0.7002747",
         "False",
         "True"
        ],
        [
         "A Million To OneFive Stairsteps & Cubie",
         "0.328",
         "0.3489226",
         "False",
         "False"
        ],
        [
         "A Boy Without A GirlFrankie Avalon",
         "0.3609999999999999",
         "0.40794706",
         "False",
         "False"
        ],
        [
         "Whatever It Takes (To Make You Stay)Troop",
         "0.8429999999999999",
         "0.5668231",
         "True",
         "False"
        ],
        [
         "What Now My LoveHerb Alpert & The Tijuana Brass",
         "0.497",
         "0.6081334",
         "False",
         "False"
        ],
        [
         "Ballin' Out Of ControlJermaine Dupri Featuring Nate Dogg",
         "0.8329999999999999",
         "0.6458617",
         "True",
         "False"
        ],
        [
         "RomeoDino",
         "0.897",
         "0.7161972",
         "True",
         "True"
        ],
        [
         "These Are Days10,000 Maniacs",
         "0.872",
         "0.7250035",
         "True",
         "True"
        ],
        [
         "InformerSnow",
         "0.4829999999999999",
         "0.66487396",
         "False",
         "False"
        ],
        [
         "BluebirdHelen Reddy",
         "0.748",
         "0.6295446",
         "True",
         "False"
        ],
        [
         "Dub Be Good To MeBeats International",
         "0.695",
         "0.73132396",
         "False",
         "True"
        ],
        [
         "Miss Me MoreKelsea Ballerini",
         "0.4909999999999999",
         "0.60567844",
         "False",
         "False"
        ],
        [
         "Hot ThingPrince",
         "0.673",
         "0.66079026",
         "False",
         "False"
        ],
        [
         "Want U BackCher Lloyd",
         "0.563",
         "0.63360655",
         "False",
         "False"
        ],
        [
         "Keep It In The FamilyLeon Haywood",
         "0.801",
         "0.71721685",
         "True",
         "True"
        ],
        [
         "My Forbidden LoverChic",
         "0.807",
         "0.7904179",
         "True",
         "True"
        ],
        [
         "Funny The Way It IsDave Matthews Band",
         "0.747",
         "0.6272901",
         "True",
         "False"
        ]
       ],
       "shape": {
        "columns": 4,
        "rows": 1138
       }
      },
      "text/html": [
       "<div>\n",
       "<style scoped>\n",
       "    .dataframe tbody tr th:only-of-type {\n",
       "        vertical-align: middle;\n",
       "    }\n",
       "\n",
       "    .dataframe tbody tr th {\n",
       "        vertical-align: top;\n",
       "    }\n",
       "\n",
       "    .dataframe thead th {\n",
       "        text-align: right;\n",
       "    }\n",
       "</style>\n",
       "<table border=\"1\" class=\"dataframe\">\n",
       "  <thead>\n",
       "    <tr style=\"text-align: right;\">\n",
       "      <th></th>\n",
       "      <th>Original Test</th>\n",
       "      <th>Prediction Test</th>\n",
       "      <th>Original over Thrashold</th>\n",
       "      <th>Predicted over Thrashold</th>\n",
       "    </tr>\n",
       "    <tr>\n",
       "      <th>SongID</th>\n",
       "      <th></th>\n",
       "      <th></th>\n",
       "      <th></th>\n",
       "      <th></th>\n",
       "    </tr>\n",
       "  </thead>\n",
       "  <tbody>\n",
       "    <tr>\n",
       "      <th>Nice 'N' NaastyThe Salsoul Orchestra</th>\n",
       "      <td>0.883</td>\n",
       "      <td>0.745500</td>\n",
       "      <td>True</td>\n",
       "      <td>True</td>\n",
       "    </tr>\n",
       "    <tr>\n",
       "      <th>ShiffteeOnyx</th>\n",
       "      <td>0.253</td>\n",
       "      <td>0.634816</td>\n",
       "      <td>False</td>\n",
       "      <td>False</td>\n",
       "    </tr>\n",
       "    <tr>\n",
       "      <th>Since I Made You CryThe Rivieras</th>\n",
       "      <td>0.569</td>\n",
       "      <td>0.536962</td>\n",
       "      <td>False</td>\n",
       "      <td>False</td>\n",
       "    </tr>\n",
       "    <tr>\n",
       "      <th>TonightNew Kids On The Block</th>\n",
       "      <td>0.383</td>\n",
       "      <td>0.389828</td>\n",
       "      <td>False</td>\n",
       "      <td>False</td>\n",
       "    </tr>\n",
       "    <tr>\n",
       "      <th>Never Comes The DayThe Moody Blues</th>\n",
       "      <td>0.180</td>\n",
       "      <td>0.346803</td>\n",
       "      <td>False</td>\n",
       "      <td>False</td>\n",
       "    </tr>\n",
       "    <tr>\n",
       "      <th>...</th>\n",
       "      <td>...</td>\n",
       "      <td>...</td>\n",
       "      <td>...</td>\n",
       "      <td>...</td>\n",
       "    </tr>\n",
       "    <tr>\n",
       "      <th>What Am I Living ForChuck Willis</th>\n",
       "      <td>0.682</td>\n",
       "      <td>0.616985</td>\n",
       "      <td>False</td>\n",
       "      <td>False</td>\n",
       "    </tr>\n",
       "    <tr>\n",
       "      <th>All Summer LongHit Masters</th>\n",
       "      <td>0.863</td>\n",
       "      <td>0.684667</td>\n",
       "      <td>True</td>\n",
       "      <td>False</td>\n",
       "    </tr>\n",
       "    <tr>\n",
       "      <th>Hey Daddy (Daddy's Home)Usher Featuring Plies</th>\n",
       "      <td>0.352</td>\n",
       "      <td>0.465528</td>\n",
       "      <td>False</td>\n",
       "      <td>False</td>\n",
       "    </tr>\n",
       "    <tr>\n",
       "      <th>Don't Tell MeMadonna</th>\n",
       "      <td>0.679</td>\n",
       "      <td>0.541514</td>\n",
       "      <td>False</td>\n",
       "      <td>False</td>\n",
       "    </tr>\n",
       "    <tr>\n",
       "      <th>Breaking The HabitLinkin Park</th>\n",
       "      <td>0.581</td>\n",
       "      <td>0.642324</td>\n",
       "      <td>False</td>\n",
       "      <td>False</td>\n",
       "    </tr>\n",
       "  </tbody>\n",
       "</table>\n",
       "<p>1138 rows × 4 columns</p>\n",
       "</div>"
      ],
      "text/plain": [
       "                                               Original Test  Prediction Test  \\\n",
       "SongID                                                                          \n",
       "Nice 'N' NaastyThe Salsoul Orchestra                   0.883         0.745500   \n",
       "ShiffteeOnyx                                           0.253         0.634816   \n",
       "Since I Made You CryThe Rivieras                       0.569         0.536962   \n",
       "TonightNew Kids On The Block                           0.383         0.389828   \n",
       "Never Comes The DayThe Moody Blues                     0.180         0.346803   \n",
       "...                                                      ...              ...   \n",
       "What Am I Living ForChuck Willis                       0.682         0.616985   \n",
       "All Summer LongHit Masters                             0.863         0.684667   \n",
       "Hey Daddy (Daddy's Home)Usher Featuring Plies          0.352         0.465528   \n",
       "Don't Tell MeMadonna                                   0.679         0.541514   \n",
       "Breaking The HabitLinkin Park                          0.581         0.642324   \n",
       "\n",
       "                                               Original over Thrashold  \\\n",
       "SongID                                                                   \n",
       "Nice 'N' NaastyThe Salsoul Orchestra                              True   \n",
       "ShiffteeOnyx                                                     False   \n",
       "Since I Made You CryThe Rivieras                                 False   \n",
       "TonightNew Kids On The Block                                     False   \n",
       "Never Comes The DayThe Moody Blues                               False   \n",
       "...                                                                ...   \n",
       "What Am I Living ForChuck Willis                                 False   \n",
       "All Summer LongHit Masters                                        True   \n",
       "Hey Daddy (Daddy's Home)Usher Featuring Plies                    False   \n",
       "Don't Tell MeMadonna                                             False   \n",
       "Breaking The HabitLinkin Park                                    False   \n",
       "\n",
       "                                               Predicted over Thrashold  \n",
       "SongID                                                                   \n",
       "Nice 'N' NaastyThe Salsoul Orchestra                               True  \n",
       "ShiffteeOnyx                                                      False  \n",
       "Since I Made You CryThe Rivieras                                  False  \n",
       "TonightNew Kids On The Block                                      False  \n",
       "Never Comes The DayThe Moody Blues                                False  \n",
       "...                                                                 ...  \n",
       "What Am I Living ForChuck Willis                                  False  \n",
       "All Summer LongHit Masters                                        False  \n",
       "Hey Daddy (Daddy's Home)Usher Featuring Plies                     False  \n",
       "Don't Tell MeMadonna                                              False  \n",
       "Breaking The HabitLinkin Park                                     False  \n",
       "\n",
       "[1138 rows x 4 columns]"
      ]
     },
     "metadata": {},
     "output_type": "display_data"
    },
    {
     "data": {
      "image/png": "[encoded data removed]",
      "text/plain": [
       "<Figure size 640x480 with 2 Axes>"
      ]
     },
     "metadata": {},
     "output_type": "display_data"
    },
    {
     "data": {
      "application/vnd.microsoft.datawrangler.viewer.v0+json": {
       "columns": [
        {
         "name": "index",
         "rawType": "object",
         "type": "string"
        },
        {
         "name": "Value",
         "rawType": "float64",
         "type": "float"
        }
       ],
       "conversionMethod": "pd.DataFrame",
       "ref": "ff1d144b-3978-4c32-b911-88e01f39133b",
       "rows": [
        [
         "Accuracy",
         "0.73"
        ],
        [
         "Precision",
         "0.75"
        ],
        [
         "Recall",
         "0.46"
        ],
        [
         "F1-score",
         "0.57"
        ]
       ],
       "shape": {
        "columns": 1,
        "rows": 4
       }
      },
      "text/html": [
       "<div>\n",
       "<style scoped>\n",
       "    .dataframe tbody tr th:only-of-type {\n",
       "        vertical-align: middle;\n",
       "    }\n",
       "\n",
       "    .dataframe tbody tr th {\n",
       "        vertical-align: top;\n",
       "    }\n",
       "\n",
       "    .dataframe thead th {\n",
       "        text-align: right;\n",
       "    }\n",
       "</style>\n",
       "<table border=\"1\" class=\"dataframe\">\n",
       "  <thead>\n",
       "    <tr style=\"text-align: right;\">\n",
       "      <th></th>\n",
       "      <th>Value</th>\n",
       "    </tr>\n",
       "  </thead>\n",
       "  <tbody>\n",
       "    <tr>\n",
       "      <th>Accuracy</th>\n",
       "      <td>0.73</td>\n",
       "    </tr>\n",
       "    <tr>\n",
       "      <th>Precision</th>\n",
       "      <td>0.75</td>\n",
       "    </tr>\n",
       "    <tr>\n",
       "      <th>Recall</th>\n",
       "      <td>0.46</td>\n",
       "    </tr>\n",
       "    <tr>\n",
       "      <th>F1-score</th>\n",
       "      <td>0.57</td>\n",
       "    </tr>\n",
       "  </tbody>\n",
       "</table>\n",
       "</div>"
      ],
      "text/plain": [
       "           Value\n",
       "Accuracy    0.73\n",
       "Precision   0.75\n",
       "Recall      0.46\n",
       "F1-score    0.57"
      ]
     },
     "metadata": {},
     "output_type": "display_data"
    },
    {
     "name": "stdout",
     "output_type": "stream",
     "text": [
      "---------------------------------------------------------\n",
      "USER 1\n",
      "Epoch 1/100\n"
     ]
    },
    {
     "name": "stderr",
     "output_type": "stream",
     "text": [
      "C:\\Users\\elped\\AppData\\Local\\Temp\\ipykernel_5772\\2934058548.py:7: SettingWithCopyWarning: \n",
      "A value is trying to be set on a copy of a slice from a DataFrame.\n",
      "Try using .loc[row_indexer,col_indexer] = value instead\n",
      "\n",
      "See the caveats in the documentation: https://pandas.pydata.org/pandas-docs/stable/user_guide/indexing.html#returning-a-view-versus-a-copy\n",
      "  x[numerical_features] = StandardScaler().fit_transform(x[numerical_features])\n",
      "c:\\Users\\elped\\AppData\\Local\\Programs\\Python\\Python312\\Lib\\site-packages\\keras\\src\\layers\\core\\dense.py:87: UserWarning: Do not pass an `input_shape`/`input_dim` argument to a layer. When using Sequential models, prefer using an `Input(shape)` object as the first layer in the model instead.\n",
      "  super().__init__(activity_regularizer=activity_regularizer, **kwargs)\n"
     ]
    },
    {
     "name": "stdout",
     "output_type": "stream",
     "text": [
      "\u001b[1m117/117\u001b[0m \u001b[32m━━━━━━━━━━━━━━━━━━━━\u001b[0m\u001b[37m\u001b[0m \u001b[1m5s\u001b[0m 14ms/step - loss: 0.4931 - mae: 0.2282 - val_loss: 0.2488 - val_mae: 0.1759\n",
      "Epoch 2/100\n",
      "\u001b[1m117/117\u001b[0m \u001b[32m━━━━━━━━━━━━━━━━━━━━\u001b[0m\u001b[37m\u001b[0m \u001b[1m0s\u001b[0m 3ms/step - loss: 0.2119 - mae: 0.1846 - val_loss: 0.1148 - val_mae: 0.1603\n",
      "Epoch 3/100\n",
      "\u001b[1m117/117\u001b[0m \u001b[32m━━━━━━━━━━━━━━━━━━━━\u001b[0m\u001b[37m\u001b[0m \u001b[1m0s\u001b[0m 2ms/step - loss: 0.1033 - mae: 0.1684 - val_loss: 0.0651 - val_mae: 0.1505\n",
      "Epoch 4/100\n",
      "\u001b[1m117/117\u001b[0m \u001b[32m━━━━━━━━━━━━━━━━━━━━\u001b[0m\u001b[37m\u001b[0m \u001b[1m0s\u001b[0m 2ms/step - loss: 0.0629 - mae: 0.1585 - val_loss: 0.0481 - val_mae: 0.1476\n",
      "Epoch 5/100\n",
      "\u001b[1m117/117\u001b[0m \u001b[32m━━━━━━━━━━━━━━━━━━━━\u001b[0m\u001b[37m\u001b[0m \u001b[1m1s\u001b[0m 5ms/step - loss: 0.0482 - mae: 0.1518 - val_loss: 0.0419 - val_mae: 0.1443\n",
      "Epoch 6/100\n",
      "\u001b[1m117/117\u001b[0m \u001b[32m━━━━━━━━━━━━━━━━━━━━\u001b[0m\u001b[37m\u001b[0m \u001b[1m0s\u001b[0m 3ms/step - loss: 0.0434 - mae: 0.1497 - val_loss: 0.0401 - val_mae: 0.1431\n",
      "Epoch 7/100\n",
      "\u001b[1m117/117\u001b[0m \u001b[32m━━━━━━━━━━━━━━━━━━━━\u001b[0m\u001b[37m\u001b[0m \u001b[1m0s\u001b[0m 2ms/step - loss: 0.0432 - mae: 0.1513 - val_loss: 0.0395 - val_mae: 0.1415\n",
      "Epoch 8/100\n",
      "\u001b[1m117/117\u001b[0m \u001b[32m━━━━━━━━━━━━━━━━━━━━\u001b[0m\u001b[37m\u001b[0m \u001b[1m0s\u001b[0m 2ms/step - loss: 0.0408 - mae: 0.1460 - val_loss: 0.0387 - val_mae: 0.1431\n",
      "Epoch 9/100\n",
      "\u001b[1m117/117\u001b[0m \u001b[32m━━━━━━━━━━━━━━━━━━━━\u001b[0m\u001b[37m\u001b[0m \u001b[1m0s\u001b[0m 2ms/step - loss: 0.0411 - mae: 0.1492 - val_loss: 0.0380 - val_mae: 0.1421\n",
      "Epoch 10/100\n",
      "\u001b[1m117/117\u001b[0m \u001b[32m━━━━━━━━━━━━━━━━━━━━\u001b[0m\u001b[37m\u001b[0m \u001b[1m1s\u001b[0m 6ms/step - loss: 0.0407 - mae: 0.1494 - val_loss: 0.0376 - val_mae: 0.1403\n",
      "Epoch 11/100\n",
      "\u001b[1m117/117\u001b[0m \u001b[32m━━━━━━━━━━━━━━━━━━━━\u001b[0m\u001b[37m\u001b[0m \u001b[1m0s\u001b[0m 2ms/step - loss: 0.0391 - mae: 0.1455 - val_loss: 0.0375 - val_mae: 0.1414\n",
      "Epoch 12/100\n",
      "\u001b[1m117/117\u001b[0m \u001b[32m━━━━━━━━━━━━━━━━━━━━\u001b[0m\u001b[37m\u001b[0m \u001b[1m0s\u001b[0m 2ms/step - loss: 0.0397 - mae: 0.1466 - val_loss: 0.0375 - val_mae: 0.1408\n",
      "Epoch 13/100\n",
      "\u001b[1m117/117\u001b[0m \u001b[32m━━━━━━━━━━━━━━━━━━━━\u001b[0m\u001b[37m\u001b[0m \u001b[1m0s\u001b[0m 2ms/step - loss: 0.0397 - mae: 0.1481 - val_loss: 0.0372 - val_mae: 0.1391\n",
      "Epoch 14/100\n",
      "\u001b[1m117/117\u001b[0m \u001b[32m━━━━━━━━━━━━━━━━━━━━\u001b[0m\u001b[37m\u001b[0m \u001b[1m0s\u001b[0m 2ms/step - loss: 0.0387 - mae: 0.1446 - val_loss: 0.0373 - val_mae: 0.1414\n",
      "Epoch 15/100\n",
      "\u001b[1m117/117\u001b[0m \u001b[32m━━━━━━━━━━━━━━━━━━━━\u001b[0m\u001b[37m\u001b[0m \u001b[1m0s\u001b[0m 3ms/step - loss: 0.0382 - mae: 0.1451 - val_loss: 0.0363 - val_mae: 0.1387\n",
      "Epoch 16/100\n",
      "\u001b[1m117/117\u001b[0m \u001b[32m━━━━━━━━━━━━━━━━━━━━\u001b[0m\u001b[37m\u001b[0m \u001b[1m0s\u001b[0m 2ms/step - loss: 0.0390 - mae: 0.1464 - val_loss: 0.0367 - val_mae: 0.1381\n",
      "Epoch 17/100\n",
      "\u001b[1m117/117\u001b[0m \u001b[32m━━━━━━━━━━━━━━━━━━━━\u001b[0m\u001b[37m\u001b[0m \u001b[1m0s\u001b[0m 2ms/step - loss: 0.0390 - mae: 0.1462 - val_loss: 0.0363 - val_mae: 0.1389\n",
      "Epoch 18/100\n",
      "\u001b[1m117/117\u001b[0m \u001b[32m━━━━━━━━━━━━━━━━━━━━\u001b[0m\u001b[37m\u001b[0m \u001b[1m1s\u001b[0m 4ms/step - loss: 0.0375 - mae: 0.1433 - val_loss: 0.0358 - val_mae: 0.1392\n",
      "Epoch 19/100\n",
      "\u001b[1m117/117\u001b[0m \u001b[32m━━━━━━━━━━━━━━━━━━━━\u001b[0m\u001b[37m\u001b[0m \u001b[1m0s\u001b[0m 2ms/step - loss: 0.0380 - mae: 0.1438 - val_loss: 0.0358 - val_mae: 0.1376\n",
      "Epoch 20/100\n",
      "\u001b[1m117/117\u001b[0m \u001b[32m━━━━━━━━━━━━━━━━━━━━\u001b[0m\u001b[37m\u001b[0m \u001b[1m0s\u001b[0m 2ms/step - loss: 0.0376 - mae: 0.1422 - val_loss: 0.0361 - val_mae: 0.1400\n",
      "Epoch 21/100\n",
      "\u001b[1m117/117\u001b[0m \u001b[32m━━━━━━━━━━━━━━━━━━━━\u001b[0m\u001b[37m\u001b[0m \u001b[1m0s\u001b[0m 2ms/step - loss: 0.0384 - mae: 0.1459 - val_loss: 0.0361 - val_mae: 0.1391\n",
      "Epoch 22/100\n",
      "\u001b[1m117/117\u001b[0m \u001b[32m━━━━━━━━━━━━━━━━━━━━\u001b[0m\u001b[37m\u001b[0m \u001b[1m1s\u001b[0m 5ms/step - loss: 0.0382 - mae: 0.1462 - val_loss: 0.0356 - val_mae: 0.1375\n",
      "Epoch 23/100\n",
      "\u001b[1m117/117\u001b[0m \u001b[32m━━━━━━━━━━━━━━━━━━━━\u001b[0m\u001b[37m\u001b[0m \u001b[1m0s\u001b[0m 3ms/step - loss: 0.0370 - mae: 0.1428 - val_loss: 0.0356 - val_mae: 0.1388\n",
      "Epoch 24/100\n",
      "\u001b[1m117/117\u001b[0m \u001b[32m━━━━━━━━━━━━━━━━━━━━\u001b[0m\u001b[37m\u001b[0m \u001b[1m0s\u001b[0m 2ms/step - loss: 0.0365 - mae: 0.1410 - val_loss: 0.0353 - val_mae: 0.1375\n",
      "Epoch 25/100\n",
      "\u001b[1m117/117\u001b[0m \u001b[32m━━━━━━━━━━━━━━━━━━━━\u001b[0m\u001b[37m\u001b[0m \u001b[1m0s\u001b[0m 2ms/step - loss: 0.0369 - mae: 0.1418 - val_loss: 0.0357 - val_mae: 0.1392\n",
      "Epoch 26/100\n",
      "\u001b[1m117/117\u001b[0m \u001b[32m━━━━━━━━━━━━━━━━━━━━\u001b[0m\u001b[37m\u001b[0m \u001b[1m0s\u001b[0m 3ms/step - loss: 0.0372 - mae: 0.1431 - val_loss: 0.0353 - val_mae: 0.1378\n",
      "Epoch 27/100\n",
      "\u001b[1m117/117\u001b[0m \u001b[32m━━━━━━━━━━━━━━━━━━━━\u001b[0m\u001b[37m\u001b[0m \u001b[1m1s\u001b[0m 7ms/step - loss: 0.0375 - mae: 0.1444 - val_loss: 0.0351 - val_mae: 0.1384\n",
      "Epoch 28/100\n",
      "\u001b[1m117/117\u001b[0m \u001b[32m━━━━━━━━━━━━━━━━━━━━\u001b[0m\u001b[37m\u001b[0m \u001b[1m1s\u001b[0m 3ms/step - loss: 0.0368 - mae: 0.1441 - val_loss: 0.0347 - val_mae: 0.1361\n",
      "Epoch 29/100\n",
      "\u001b[1m117/117\u001b[0m \u001b[32m━━━━━━━━━━━━━━━━━━━━\u001b[0m\u001b[37m\u001b[0m \u001b[1m1s\u001b[0m 6ms/step - loss: 0.0368 - mae: 0.1419 - val_loss: 0.0345 - val_mae: 0.1355\n",
      "Epoch 30/100\n",
      "\u001b[1m117/117\u001b[0m \u001b[32m━━━━━━━━━━━━━━━━━━━━\u001b[0m\u001b[37m\u001b[0m \u001b[1m0s\u001b[0m 2ms/step - loss: 0.0365 - mae: 0.1427 - val_loss: 0.0354 - val_mae: 0.1393\n",
      "Epoch 31/100\n",
      "\u001b[1m117/117\u001b[0m \u001b[32m━━━━━━━━━━━━━━━━━━━━\u001b[0m\u001b[37m\u001b[0m \u001b[1m0s\u001b[0m 2ms/step - loss: 0.0370 - mae: 0.1430 - val_loss: 0.0348 - val_mae: 0.1398\n",
      "Epoch 32/100\n",
      "\u001b[1m117/117\u001b[0m \u001b[32m━━━━━━━━━━━━━━━━━━━━\u001b[0m\u001b[37m\u001b[0m \u001b[1m0s\u001b[0m 4ms/step - loss: 0.0376 - mae: 0.1476 - val_loss: 0.0349 - val_mae: 0.1367\n",
      "Epoch 33/100\n",
      "\u001b[1m117/117\u001b[0m \u001b[32m━━━━━━━━━━━━━━━━━━━━\u001b[0m\u001b[37m\u001b[0m \u001b[1m1s\u001b[0m 6ms/step - loss: 0.0364 - mae: 0.1430 - val_loss: 0.0342 - val_mae: 0.1367\n",
      "Epoch 34/100\n",
      "\u001b[1m117/117\u001b[0m \u001b[32m━━━━━━━━━━━━━━━━━━━━\u001b[0m\u001b[37m\u001b[0m \u001b[1m1s\u001b[0m 6ms/step - loss: 0.0349 - mae: 0.1393 - val_loss: 0.0341 - val_mae: 0.1352\n",
      "Epoch 35/100\n",
      "\u001b[1m117/117\u001b[0m \u001b[32m━━━━━━━━━━━━━━━━━━━━\u001b[0m\u001b[37m\u001b[0m \u001b[1m1s\u001b[0m 3ms/step - loss: 0.0366 - mae: 0.1420 - val_loss: 0.0346 - val_mae: 0.1377\n",
      "Epoch 36/100\n",
      "\u001b[1m117/117\u001b[0m \u001b[32m━━━━━━━━━━━━━━━━━━━━\u001b[0m\u001b[37m\u001b[0m \u001b[1m1s\u001b[0m 6ms/step - loss: 0.0354 - mae: 0.1396 - val_loss: 0.0343 - val_mae: 0.1375\n",
      "Epoch 37/100\n",
      "\u001b[1m117/117\u001b[0m \u001b[32m━━━━━━━━━━━━━━━━━━━━\u001b[0m\u001b[37m\u001b[0m \u001b[1m1s\u001b[0m 5ms/step - loss: 0.0371 - mae: 0.1445 - val_loss: 0.0345 - val_mae: 0.1391\n",
      "Epoch 38/100\n",
      "\u001b[1m117/117\u001b[0m \u001b[32m━━━━━━━━━━━━━━━━━━━━\u001b[0m\u001b[37m\u001b[0m \u001b[1m0s\u001b[0m 2ms/step - loss: 0.0352 - mae: 0.1401 - val_loss: 0.0345 - val_mae: 0.1357\n",
      "Epoch 39/100\n",
      "\u001b[1m117/117\u001b[0m \u001b[32m━━━━━━━━━━━━━━━━━━━━\u001b[0m\u001b[37m\u001b[0m \u001b[1m0s\u001b[0m 2ms/step - loss: 0.0345 - mae: 0.1378 - val_loss: 0.0346 - val_mae: 0.1393\n",
      "Epoch 40/100\n",
      "\u001b[1m117/117\u001b[0m \u001b[32m━━━━━━━━━━━━━━━━━━━━\u001b[0m\u001b[37m\u001b[0m \u001b[1m1s\u001b[0m 5ms/step - loss: 0.0359 - mae: 0.1420 - val_loss: 0.0341 - val_mae: 0.1378\n",
      "Epoch 41/100\n",
      "\u001b[1m117/117\u001b[0m \u001b[32m━━━━━━━━━━━━━━━━━━━━\u001b[0m\u001b[37m\u001b[0m \u001b[1m0s\u001b[0m 3ms/step - loss: 0.0343 - mae: 0.1382 - val_loss: 0.0342 - val_mae: 0.1381\n",
      "Epoch 42/100\n",
      "\u001b[1m117/117\u001b[0m \u001b[32m━━━━━━━━━━━━━━━━━━━━\u001b[0m\u001b[37m\u001b[0m \u001b[1m0s\u001b[0m 3ms/step - loss: 0.0343 - mae: 0.1382 - val_loss: 0.0346 - val_mae: 0.1380\n",
      "Epoch 43/100\n",
      "\u001b[1m117/117\u001b[0m \u001b[32m━━━━━━━━━━━━━━━━━━━━\u001b[0m\u001b[37m\u001b[0m \u001b[1m0s\u001b[0m 3ms/step - loss: 0.0359 - mae: 0.1410 - val_loss: 0.0337 - val_mae: 0.1362\n",
      "Epoch 44/100\n",
      "\u001b[1m117/117\u001b[0m \u001b[32m━━━━━━━━━━━━━━━━━━━━\u001b[0m\u001b[37m\u001b[0m \u001b[1m0s\u001b[0m 2ms/step - loss: 0.0362 - mae: 0.1426 - val_loss: 0.0335 - val_mae: 0.1341\n",
      "Epoch 45/100\n",
      "\u001b[1m117/117\u001b[0m \u001b[32m━━━━━━━━━━━━━━━━━━━━\u001b[0m\u001b[37m\u001b[0m \u001b[1m1s\u001b[0m 4ms/step - loss: 0.0362 - mae: 0.1427 - val_loss: 0.0332 - val_mae: 0.1358\n",
      "Epoch 46/100\n",
      "\u001b[1m117/117\u001b[0m \u001b[32m━━━━━━━━━━━━━━━━━━━━\u001b[0m\u001b[37m\u001b[0m \u001b[1m1s\u001b[0m 4ms/step - loss: 0.0357 - mae: 0.1413 - val_loss: 0.0334 - val_mae: 0.1360\n",
      "Epoch 47/100\n",
      "\u001b[1m117/117\u001b[0m \u001b[32m━━━━━━━━━━━━━━━━━━━━\u001b[0m\u001b[37m\u001b[0m \u001b[1m0s\u001b[0m 3ms/step - loss: 0.0352 - mae: 0.1409 - val_loss: 0.0342 - val_mae: 0.1386\n",
      "Epoch 48/100\n",
      "\u001b[1m117/117\u001b[0m \u001b[32m━━━━━━━━━━━━━━━━━━━━\u001b[0m\u001b[37m\u001b[0m \u001b[1m1s\u001b[0m 6ms/step - loss: 0.0347 - mae: 0.1391 - val_loss: 0.0334 - val_mae: 0.1332\n",
      "Epoch 49/100\n",
      "\u001b[1m117/117\u001b[0m \u001b[32m━━━━━━━━━━━━━━━━━━━━\u001b[0m\u001b[37m\u001b[0m \u001b[1m1s\u001b[0m 2ms/step - loss: 0.0343 - mae: 0.1376 - val_loss: 0.0332 - val_mae: 0.1329\n",
      "Epoch 50/100\n",
      "\u001b[1m117/117\u001b[0m \u001b[32m━━━━━━━━━━━━━━━━━━━━\u001b[0m\u001b[37m\u001b[0m \u001b[1m0s\u001b[0m 2ms/step - loss: 0.0349 - mae: 0.1389 - val_loss: 0.0342 - val_mae: 0.1368\n",
      "Epoch 51/100\n",
      "\u001b[1m117/117\u001b[0m \u001b[32m━━━━━━━━━━━━━━━━━━━━\u001b[0m\u001b[37m\u001b[0m \u001b[1m0s\u001b[0m 2ms/step - loss: 0.0340 - mae: 0.1377 - val_loss: 0.0332 - val_mae: 0.1342\n",
      "Epoch 52/100\n",
      "\u001b[1m117/117\u001b[0m \u001b[32m━━━━━━━━━━━━━━━━━━━━\u001b[0m\u001b[37m\u001b[0m \u001b[1m0s\u001b[0m 2ms/step - loss: 0.0352 - mae: 0.1410 - val_loss: 0.0328 - val_mae: 0.1349\n",
      "Epoch 53/100\n",
      "\u001b[1m117/117\u001b[0m \u001b[32m━━━━━━━━━━━━━━━━━━━━\u001b[0m\u001b[37m\u001b[0m \u001b[1m0s\u001b[0m 4ms/step - loss: 0.0349 - mae: 0.1407 - val_loss: 0.0341 - val_mae: 0.1372\n",
      "Epoch 54/100\n",
      "\u001b[1m117/117\u001b[0m \u001b[32m━━━━━━━━━━━━━━━━━━━━\u001b[0m\u001b[37m\u001b[0m \u001b[1m0s\u001b[0m 3ms/step - loss: 0.0345 - mae: 0.1396 - val_loss: 0.0330 - val_mae: 0.1345\n",
      "Epoch 55/100\n",
      "\u001b[1m117/117\u001b[0m \u001b[32m━━━━━━━━━━━━━━━━━━━━\u001b[0m\u001b[37m\u001b[0m \u001b[1m0s\u001b[0m 2ms/step - loss: 0.0339 - mae: 0.1375 - val_loss: 0.0332 - val_mae: 0.1357\n",
      "Epoch 56/100\n",
      "\u001b[1m117/117\u001b[0m \u001b[32m━━━━━━━━━━━━━━━━━━━━\u001b[0m\u001b[37m\u001b[0m \u001b[1m1s\u001b[0m 5ms/step - loss: 0.0346 - mae: 0.1397 - val_loss: 0.0333 - val_mae: 0.1361\n",
      "Epoch 57/100\n",
      "\u001b[1m117/117\u001b[0m \u001b[32m━━━━━━━━━━━━━━━━━━━━\u001b[0m\u001b[37m\u001b[0m \u001b[1m1s\u001b[0m 4ms/step - loss: 0.0343 - mae: 0.1379 - val_loss: 0.0331 - val_mae: 0.1344\n",
      "Epoch 58/100\n",
      "\u001b[1m117/117\u001b[0m \u001b[32m━━━━━━━━━━━━━━━━━━━━\u001b[0m\u001b[37m\u001b[0m \u001b[1m0s\u001b[0m 2ms/step - loss: 0.0357 - mae: 0.1429 - val_loss: 0.0332 - val_mae: 0.1359\n",
      "Epoch 59/100\n",
      "\u001b[1m117/117\u001b[0m \u001b[32m━━━━━━━━━━━━━━━━━━━━\u001b[0m\u001b[37m\u001b[0m \u001b[1m0s\u001b[0m 2ms/step - loss: 0.0339 - mae: 0.1392 - val_loss: 0.0330 - val_mae: 0.1337\n",
      "Epoch 60/100\n",
      "\u001b[1m117/117\u001b[0m \u001b[32m━━━━━━━━━━━━━━━━━━━━\u001b[0m\u001b[37m\u001b[0m \u001b[1m0s\u001b[0m 2ms/step - loss: 0.0338 - mae: 0.1366 - val_loss: 0.0335 - val_mae: 0.1371\n",
      "Epoch 61/100\n",
      "\u001b[1m117/117\u001b[0m \u001b[32m━━━━━━━━━━━━━━━━━━━━\u001b[0m\u001b[37m\u001b[0m \u001b[1m1s\u001b[0m 5ms/step - loss: 0.0348 - mae: 0.1420 - val_loss: 0.0330 - val_mae: 0.1333\n",
      "Epoch 62/100\n",
      "\u001b[1m117/117\u001b[0m \u001b[32m━━━━━━━━━━━━━━━━━━━━\u001b[0m\u001b[37m\u001b[0m \u001b[1m0s\u001b[0m 2ms/step - loss: 0.0333 - mae: 0.1351 - val_loss: 0.0326 - val_mae: 0.1343\n",
      "Epoch 63/100\n",
      "\u001b[1m117/117\u001b[0m \u001b[32m━━━━━━━━━━━━━━━━━━━━\u001b[0m\u001b[37m\u001b[0m \u001b[1m0s\u001b[0m 2ms/step - loss: 0.0344 - mae: 0.1395 - val_loss: 0.0325 - val_mae: 0.1331\n",
      "Epoch 64/100\n",
      "\u001b[1m117/117\u001b[0m \u001b[32m━━━━━━━━━━━━━━━━━━━━\u001b[0m\u001b[37m\u001b[0m \u001b[1m1s\u001b[0m 4ms/step - loss: 0.0342 - mae: 0.1385 - val_loss: 0.0322 - val_mae: 0.1336\n",
      "Epoch 65/100\n",
      "\u001b[1m117/117\u001b[0m \u001b[32m━━━━━━━━━━━━━━━━━━━━\u001b[0m\u001b[37m\u001b[0m \u001b[1m0s\u001b[0m 3ms/step - loss: 0.0336 - mae: 0.1378 - val_loss: 0.0330 - val_mae: 0.1360\n",
      "Epoch 66/100\n",
      "\u001b[1m117/117\u001b[0m \u001b[32m━━━━━━━━━━━━━━━━━━━━\u001b[0m\u001b[37m\u001b[0m \u001b[1m0s\u001b[0m 2ms/step - loss: 0.0343 - mae: 0.1390 - val_loss: 0.0327 - val_mae: 0.1365\n",
      "Epoch 67/100\n",
      "\u001b[1m117/117\u001b[0m \u001b[32m━━━━━━━━━━━━━━━━━━━━\u001b[0m\u001b[37m\u001b[0m \u001b[1m0s\u001b[0m 2ms/step - loss: 0.0348 - mae: 0.1408 - val_loss: 0.0327 - val_mae: 0.1343\n",
      "Epoch 68/100\n",
      "\u001b[1m117/117\u001b[0m \u001b[32m━━━━━━━━━━━━━━━━━━━━\u001b[0m\u001b[37m\u001b[0m \u001b[1m0s\u001b[0m 3ms/step - loss: 0.0322 - mae: 0.1336 - val_loss: 0.0321 - val_mae: 0.1343\n",
      "Epoch 69/100\n",
      "\u001b[1m117/117\u001b[0m \u001b[32m━━━━━━━━━━━━━━━━━━━━\u001b[0m\u001b[37m\u001b[0m \u001b[1m1s\u001b[0m 4ms/step - loss: 0.0344 - mae: 0.1402 - val_loss: 0.0320 - val_mae: 0.1319\n",
      "Epoch 70/100\n",
      "\u001b[1m117/117\u001b[0m \u001b[32m━━━━━━━━━━━━━━━━━━━━\u001b[0m\u001b[37m\u001b[0m \u001b[1m1s\u001b[0m 6ms/step - loss: 0.0331 - mae: 0.1363 - val_loss: 0.0319 - val_mae: 0.1329\n",
      "Epoch 71/100\n",
      "\u001b[1m117/117\u001b[0m \u001b[32m━━━━━━━━━━━━━━━━━━━━\u001b[0m\u001b[37m\u001b[0m \u001b[1m0s\u001b[0m 3ms/step - loss: 0.0338 - mae: 0.1389 - val_loss: 0.0322 - val_mae: 0.1330\n",
      "Epoch 72/100\n",
      "\u001b[1m117/117\u001b[0m \u001b[32m━━━━━━━━━━━━━━━━━━━━\u001b[0m\u001b[37m\u001b[0m \u001b[1m0s\u001b[0m 2ms/step - loss: 0.0334 - mae: 0.1386 - val_loss: 0.0323 - val_mae: 0.1347\n",
      "Epoch 73/100\n",
      "\u001b[1m117/117\u001b[0m \u001b[32m━━━━━━━━━━━━━━━━━━━━\u001b[0m\u001b[37m\u001b[0m \u001b[1m0s\u001b[0m 2ms/step - loss: 0.0341 - mae: 0.1391 - val_loss: 0.0329 - val_mae: 0.1363\n",
      "Epoch 74/100\n",
      "\u001b[1m117/117\u001b[0m \u001b[32m━━━━━━━━━━━━━━━━━━━━\u001b[0m\u001b[37m\u001b[0m \u001b[1m0s\u001b[0m 2ms/step - loss: 0.0338 - mae: 0.1400 - val_loss: 0.0327 - val_mae: 0.1363\n",
      "Epoch 75/100\n",
      "\u001b[1m117/117\u001b[0m \u001b[32m━━━━━━━━━━━━━━━━━━━━\u001b[0m\u001b[37m\u001b[0m \u001b[1m0s\u001b[0m 2ms/step - loss: 0.0343 - mae: 0.1392 - val_loss: 0.0331 - val_mae: 0.1366\n",
      "Epoch 76/100\n",
      "\u001b[1m117/117\u001b[0m \u001b[32m━━━━━━━━━━━━━━━━━━━━\u001b[0m\u001b[37m\u001b[0m \u001b[1m0s\u001b[0m 2ms/step - loss: 0.0343 - mae: 0.1391 - val_loss: 0.0320 - val_mae: 0.1323\n",
      "Epoch 77/100\n",
      "\u001b[1m117/117\u001b[0m \u001b[32m━━━━━━━━━━━━━━━━━━━━\u001b[0m\u001b[37m\u001b[0m \u001b[1m0s\u001b[0m 2ms/step - loss: 0.0342 - mae: 0.1397 - val_loss: 0.0323 - val_mae: 0.1365\n",
      "Epoch 78/100\n",
      "\u001b[1m117/117\u001b[0m \u001b[32m━━━━━━━━━━━━━━━━━━━━\u001b[0m\u001b[37m\u001b[0m \u001b[1m0s\u001b[0m 2ms/step - loss: 0.0345 - mae: 0.1408 - val_loss: 0.0324 - val_mae: 0.1341\n",
      "Epoch 79/100\n",
      "\u001b[1m117/117\u001b[0m \u001b[32m━━━━━━━━━━━━━━━━━━━━\u001b[0m\u001b[37m\u001b[0m \u001b[1m0s\u001b[0m 2ms/step - loss: 0.0332 - mae: 0.1370 - val_loss: 0.0322 - val_mae: 0.1340\n",
      "Epoch 80/100\n",
      "\u001b[1m117/117\u001b[0m \u001b[32m━━━━━━━━━━━━━━━━━━━━\u001b[0m\u001b[37m\u001b[0m \u001b[1m0s\u001b[0m 2ms/step - loss: 0.0339 - mae: 0.1389 - val_loss: 0.0319 - val_mae: 0.1350\n",
      "Epoch 81/100\n",
      "\u001b[1m117/117\u001b[0m \u001b[32m━━━━━━━━━━━━━━━━━━━━\u001b[0m\u001b[37m\u001b[0m \u001b[1m0s\u001b[0m 2ms/step - loss: 0.0340 - mae: 0.1393 - val_loss: 0.0317 - val_mae: 0.1338\n",
      "Epoch 82/100\n",
      "\u001b[1m117/117\u001b[0m \u001b[32m━━━━━━━━━━━━━━━━━━━━\u001b[0m\u001b[37m\u001b[0m \u001b[1m0s\u001b[0m 2ms/step - loss: 0.0337 - mae: 0.1383 - val_loss: 0.0319 - val_mae: 0.1351\n",
      "Epoch 83/100\n",
      "\u001b[1m117/117\u001b[0m \u001b[32m━━━━━━━━━━━━━━━━━━━━\u001b[0m\u001b[37m\u001b[0m \u001b[1m0s\u001b[0m 2ms/step - loss: 0.0338 - mae: 0.1398 - val_loss: 0.0316 - val_mae: 0.1328\n",
      "Epoch 84/100\n",
      "\u001b[1m117/117\u001b[0m \u001b[32m━━━━━━━━━━━━━━━━━━━━\u001b[0m\u001b[37m\u001b[0m \u001b[1m0s\u001b[0m 2ms/step - loss: 0.0342 - mae: 0.1394 - val_loss: 0.0323 - val_mae: 0.1341\n",
      "Epoch 85/100\n",
      "\u001b[1m117/117\u001b[0m \u001b[32m━━━━━━━━━━━━━━━━━━━━\u001b[0m\u001b[37m\u001b[0m \u001b[1m0s\u001b[0m 2ms/step - loss: 0.0339 - mae: 0.1388 - val_loss: 0.0317 - val_mae: 0.1332\n",
      "Epoch 86/100\n",
      "\u001b[1m117/117\u001b[0m \u001b[32m━━━━━━━━━━━━━━━━━━━━\u001b[0m\u001b[37m\u001b[0m \u001b[1m0s\u001b[0m 2ms/step - loss: 0.0332 - mae: 0.1371 - val_loss: 0.0319 - val_mae: 0.1340\n",
      "Epoch 87/100\n",
      "\u001b[1m117/117\u001b[0m \u001b[32m━━━━━━━━━━━━━━━━━━━━\u001b[0m\u001b[37m\u001b[0m \u001b[1m0s\u001b[0m 2ms/step - loss: 0.0335 - mae: 0.1380 - val_loss: 0.0324 - val_mae: 0.1360\n",
      "Epoch 88/100\n",
      "\u001b[1m117/117\u001b[0m \u001b[32m━━━━━━━━━━━━━━━━━━━━\u001b[0m\u001b[37m\u001b[0m \u001b[1m0s\u001b[0m 2ms/step - loss: 0.0336 - mae: 0.1395 - val_loss: 0.0317 - val_mae: 0.1338\n",
      "Epoch 89/100\n",
      "\u001b[1m117/117\u001b[0m \u001b[32m━━━━━━━━━━━━━━━━━━━━\u001b[0m\u001b[37m\u001b[0m \u001b[1m0s\u001b[0m 3ms/step - loss: 0.0338 - mae: 0.1390 - val_loss: 0.0316 - val_mae: 0.1332\n",
      "Epoch 90/100\n",
      "\u001b[1m117/117\u001b[0m \u001b[32m━━━━━━━━━━━━━━━━━━━━\u001b[0m\u001b[37m\u001b[0m \u001b[1m0s\u001b[0m 2ms/step - loss: 0.0346 - mae: 0.1407 - val_loss: 0.0321 - val_mae: 0.1335\n",
      "Epoch 91/100\n",
      "\u001b[1m117/117\u001b[0m \u001b[32m━━━━━━━━━━━━━━━━━━━━\u001b[0m\u001b[37m\u001b[0m \u001b[1m0s\u001b[0m 2ms/step - loss: 0.0326 - mae: 0.1353 - val_loss: 0.0313 - val_mae: 0.1324\n",
      "Epoch 92/100\n",
      "\u001b[1m117/117\u001b[0m \u001b[32m━━━━━━━━━━━━━━━━━━━━\u001b[0m\u001b[37m\u001b[0m \u001b[1m0s\u001b[0m 2ms/step - loss: 0.0321 - mae: 0.1347 - val_loss: 0.0352 - val_mae: 0.1429\n",
      "Epoch 93/100\n",
      "\u001b[1m117/117\u001b[0m \u001b[32m━━━━━━━━━━━━━━━━━━━━\u001b[0m\u001b[37m\u001b[0m \u001b[1m0s\u001b[0m 2ms/step - loss: 0.0342 - mae: 0.1401 - val_loss: 0.0316 - val_mae: 0.1327\n",
      "Epoch 94/100\n",
      "\u001b[1m117/117\u001b[0m \u001b[32m━━━━━━━━━━━━━━━━━━━━\u001b[0m\u001b[37m\u001b[0m \u001b[1m0s\u001b[0m 2ms/step - loss: 0.0327 - mae: 0.1357 - val_loss: 0.0320 - val_mae: 0.1320\n",
      "Epoch 95/100\n",
      "\u001b[1m117/117\u001b[0m \u001b[32m━━━━━━━━━━━━━━━━━━━━\u001b[0m\u001b[37m\u001b[0m \u001b[1m0s\u001b[0m 2ms/step - loss: 0.0328 - mae: 0.1368 - val_loss: 0.0323 - val_mae: 0.1355\n",
      "Epoch 96/100\n",
      "\u001b[1m117/117\u001b[0m \u001b[32m━━━━━━━━━━━━━━━━━━━━\u001b[0m\u001b[37m\u001b[0m \u001b[1m0s\u001b[0m 2ms/step - loss: 0.0319 - mae: 0.1348 - val_loss: 0.0321 - val_mae: 0.1337\n",
      "Epoch 97/100\n",
      "\u001b[1m117/117\u001b[0m \u001b[32m━━━━━━━━━━━━━━━━━━━━\u001b[0m\u001b[37m\u001b[0m \u001b[1m0s\u001b[0m 2ms/step - loss: 0.0328 - mae: 0.1360 - val_loss: 0.0331 - val_mae: 0.1368\n",
      "Epoch 98/100\n",
      "\u001b[1m117/117\u001b[0m \u001b[32m━━━━━━━━━━━━━━━━━━━━\u001b[0m\u001b[37m\u001b[0m \u001b[1m0s\u001b[0m 2ms/step - loss: 0.0344 - mae: 0.1414 - val_loss: 0.0324 - val_mae: 0.1349\n",
      "Epoch 99/100\n",
      "\u001b[1m117/117\u001b[0m \u001b[32m━━━━━━━━━━━━━━━━━━━━\u001b[0m\u001b[37m\u001b[0m \u001b[1m0s\u001b[0m 2ms/step - loss: 0.0328 - mae: 0.1374 - val_loss: 0.0321 - val_mae: 0.1343\n",
      "Epoch 100/100\n",
      "\u001b[1m117/117\u001b[0m \u001b[32m━━━━━━━━━━━━━━━━━━━━\u001b[0m\u001b[37m\u001b[0m \u001b[1m0s\u001b[0m 2ms/step - loss: 0.0323 - mae: 0.1362 - val_loss: 0.0313 - val_mae: 0.1332\n",
      "\u001b[1m30/30\u001b[0m \u001b[32m━━━━━━━━━━━━━━━━━━━━\u001b[0m\u001b[37m\u001b[0m \u001b[1m0s\u001b[0m 3ms/step\n"
     ]
    },
    {
     "data": {
      "image/png": "[encoded data removed]",
      "text/plain": [
       "<Figure size 640x480 with 1 Axes>"
      ]
     },
     "metadata": {},
     "output_type": "display_data"
    },
    {
     "data": {
      "image/png": "[encoded data removed]",
      "text/plain": [
       "<Figure size 640x480 with 1 Axes>"
      ]
     },
     "metadata": {},
     "output_type": "display_data"
    },
    {
     "name": "stdout",
     "output_type": "stream",
     "text": [
      "\u001b[1m30/30\u001b[0m \u001b[32m━━━━━━━━━━━━━━━━━━━━\u001b[0m\u001b[37m\u001b[0m \u001b[1m0s\u001b[0m 1ms/step - loss: 0.0306 - mae: 0.1315 \n",
      "MSE:  0.031294453889131546\n",
      "MAE: 0.1331896185874939\n"
     ]
    },
    {
     "data": {
      "application/vnd.microsoft.datawrangler.viewer.v0+json": {
       "columns": [
        {
         "name": "SongID",
         "rawType": "object",
         "type": "string"
        },
        {
         "name": "Original Test",
         "rawType": "float64",
         "type": "float"
        },
        {
         "name": "Prediction Test",
         "rawType": "float32",
         "type": "float"
        },
        {
         "name": "Original over Thrashold",
         "rawType": "bool",
         "type": "boolean"
        },
        {
         "name": "Predicted over Thrashold",
         "rawType": "bool",
         "type": "boolean"
        }
       ],
       "conversionMethod": "pd.DataFrame",
       "ref": "e562b460-0fe6-4172-9fde-56335627ac72",
       "rows": [
        [
         "One Night AffairThe O'Jays",
         "0.876",
         "0.77372384",
         "True",
         "True"
        ],
        [
         "Young & Gettin' ItMeek Mill Featuring Kirko Bangz",
         "0.8579999999999999",
         "0.4749146",
         "True",
         "False"
        ],
        [
         "Everything Is Good About YouThe Lettermen",
         "0.804",
         "0.7146957",
         "True",
         "True"
        ],
        [
         "Hot Fun In The SummertimeSly & The Family Stone",
         "0.931",
         "0.81774855",
         "True",
         "True"
        ],
        [
         "Will The Wolf SurviveLos Lobos",
         "0.8439999999999999",
         "0.7947123",
         "True",
         "True"
        ],
        [
         "You Had Me From HelloKenny Chesney",
         "0.2",
         "0.36996564",
         "False",
         "False"
        ],
        [
         "HappyBobby Darin",
         "0.6119999999999999",
         "0.4346764",
         "False",
         "False"
        ],
        [
         "SOSRihanna",
         "0.527",
         "0.498039",
         "False",
         "False"
        ],
        [
         "New Magic WandTyler, The Creator",
         "0.464",
         "0.4736434",
         "False",
         "False"
        ],
        [
         "Burnin' For YouBlue Oyster Cult",
         "0.69",
         "0.5440186",
         "False",
         "False"
        ],
        [
         "Separate Ways (Worlds Apart)Journey",
         "0.377",
         "0.48306754",
         "False",
         "False"
        ],
        [
         "Heads Carolina, Tails CaliforniaDanielle Bradbery",
         "0.626",
         "0.5820339",
         "False",
         "False"
        ],
        [
         "The Little Girl I Once KnewThe Beach Boys",
         "0.435",
         "0.6526301",
         "False",
         "False"
        ],
        [
         "You Really Got MeThe Kinks",
         "0.963",
         "0.82403713",
         "True",
         "True"
        ],
        [
         "If Everyone CaredNickelback",
         "0.196",
         "0.5261402",
         "False",
         "False"
        ],
        [
         "The Love We Had (Stays On My Mind)The Dells",
         "0.126",
         "0.3102844",
         "False",
         "False"
        ],
        [
         "Raise UpPetey Pablo",
         "0.7419999999999999",
         "0.5833542",
         "True",
         "False"
        ],
        [
         "Day DreamingAretha Franklin",
         "0.2929999999999999",
         "0.38455755",
         "False",
         "False"
        ],
        [
         "19 You + MeDan + Shay",
         "0.451",
         "0.37533295",
         "False",
         "False"
        ],
        [
         "I'll Never Stop Wanting YouBrian Hyland",
         "0.2989999999999999",
         "0.3801852",
         "False",
         "False"
        ],
        [
         "When I Grow Up (To Be A Man)The Beach Boys",
         "0.789",
         "0.5983635",
         "True",
         "False"
        ],
        [
         "Better Dig TwoThe Band Perry",
         "0.646",
         "0.58274865",
         "False",
         "False"
        ],
        [
         "I Get It InOmarion Featuring Gucci Mane",
         "0.674",
         "0.71944934",
         "False",
         "True"
        ],
        [
         "(We Ain't Got) Nothin' YetBlues Magoos",
         "0.8579999999999999",
         "0.8116608",
         "True",
         "True"
        ],
        [
         "No ProblemChance The Rapper Featuring Lil Wayne & 2 Chainz",
         "0.788",
         "0.43176726",
         "True",
         "False"
        ],
        [
         "Envy MeCalboy",
         "0.5839999999999999",
         "0.43415508",
         "False",
         "False"
        ],
        [
         "Desiree'The Left Banke",
         "0.7279999999999999",
         "0.66931045",
         "True",
         "False"
        ],
        [
         "Why Can't You Bring Me HomeJay & The Americans",
         "0.7149999999999999",
         "0.8186238",
         "True",
         "True"
        ],
        [
         "Whatever You LikeT.I.",
         "0.467",
         "0.4186079",
         "False",
         "False"
        ],
        [
         "Sk8er BoiAvril Lavigne",
         "0.4839999999999999",
         "0.5613578",
         "False",
         "False"
        ],
        [
         "American BoysPetula Clark",
         "0.5969999999999999",
         "0.48847103",
         "False",
         "False"
        ],
        [
         "Boogie WonderlandEarth, Wind & Fire with The Emotions",
         "0.963",
         "0.72882366",
         "True",
         "True"
        ],
        [
         "Cotton CandyAl Hirt",
         "0.966",
         "0.8441963",
         "True",
         "True"
        ],
        [
         "So Sad The SongGladys Knight And The Pips",
         "0.2069999999999999",
         "0.31295684",
         "False",
         "False"
        ],
        [
         "Already GoneSugarland",
         "0.373",
         "0.3033792",
         "False",
         "False"
        ],
        [
         "Any Way You Want ItJourney",
         "0.571",
         "0.73741555",
         "False",
         "True"
        ],
        [
         "Love MeJustin Bieber",
         "0.6129999999999999",
         "0.5243543",
         "False",
         "False"
        ],
        [
         "Even NowBarry Manilow",
         "0.313",
         "0.28358102",
         "False",
         "False"
        ],
        [
         "Crazy DowntownAllan Sherman",
         "0.815",
         "0.6891531",
         "True",
         "False"
        ],
        [
         "ToxicBritney Spears",
         "0.924",
         "0.6850184",
         "True",
         "False"
        ],
        [
         "Have You Ever Needed Someone So BadDef Leppard",
         "0.7349999999999999",
         "0.46690768",
         "True",
         "False"
        ],
        [
         "Summer Of '42Biddu Orchestra",
         "0.556",
         "0.5725535",
         "False",
         "False"
        ],
        [
         "Get Right WitchaMigos",
         "0.62",
         "0.6279149",
         "False",
         "False"
        ],
        [
         "My Pretending Days Are OverThe Dells",
         "0.4139999999999999",
         "0.48003888",
         "False",
         "False"
        ],
        [
         "Good Timin'Jimmy Jones",
         "0.967",
         "0.67951065",
         "True",
         "False"
        ],
        [
         "Your Baby Never Looked Good In BlueExpose",
         "0.3669999999999999",
         "0.54523087",
         "False",
         "False"
        ],
        [
         "Let The Good Times Roll & Feel So GoodBunny Sigler",
         "0.928",
         "0.8146569",
         "True",
         "True"
        ],
        [
         "Snap Backs & TattoosDriicky Graham",
         "0.538",
         "0.6155969",
         "False",
         "False"
        ],
        [
         "Look What They've Done To My Song MaThe New Seekers featuring Eve Graham",
         "0.401",
         "0.47303888",
         "False",
         "False"
        ],
        [
         "Diamond HeadThe Ventures",
         "0.963",
         "0.77374303",
         "True",
         "True"
        ]
       ],
       "shape": {
        "columns": 4,
        "rows": 934
       }
      },
      "text/html": [
       "<div>\n",
       "<style scoped>\n",
       "    .dataframe tbody tr th:only-of-type {\n",
       "        vertical-align: middle;\n",
       "    }\n",
       "\n",
       "    .dataframe tbody tr th {\n",
       "        vertical-align: top;\n",
       "    }\n",
       "\n",
       "    .dataframe thead th {\n",
       "        text-align: right;\n",
       "    }\n",
       "</style>\n",
       "<table border=\"1\" class=\"dataframe\">\n",
       "  <thead>\n",
       "    <tr style=\"text-align: right;\">\n",
       "      <th></th>\n",
       "      <th>Original Test</th>\n",
       "      <th>Prediction Test</th>\n",
       "      <th>Original over Thrashold</th>\n",
       "      <th>Predicted over Thrashold</th>\n",
       "    </tr>\n",
       "    <tr>\n",
       "      <th>SongID</th>\n",
       "      <th></th>\n",
       "      <th></th>\n",
       "      <th></th>\n",
       "      <th></th>\n",
       "    </tr>\n",
       "  </thead>\n",
       "  <tbody>\n",
       "    <tr>\n",
       "      <th>One Night AffairThe O'Jays</th>\n",
       "      <td>0.876</td>\n",
       "      <td>0.773724</td>\n",
       "      <td>True</td>\n",
       "      <td>True</td>\n",
       "    </tr>\n",
       "    <tr>\n",
       "      <th>Young &amp; Gettin' ItMeek Mill Featuring Kirko Bangz</th>\n",
       "      <td>0.858</td>\n",
       "      <td>0.474915</td>\n",
       "      <td>True</td>\n",
       "      <td>False</td>\n",
       "    </tr>\n",
       "    <tr>\n",
       "      <th>Everything Is Good About YouThe Lettermen</th>\n",
       "      <td>0.804</td>\n",
       "      <td>0.714696</td>\n",
       "      <td>True</td>\n",
       "      <td>True</td>\n",
       "    </tr>\n",
       "    <tr>\n",
       "      <th>Hot Fun In The SummertimeSly &amp; The Family Stone</th>\n",
       "      <td>0.931</td>\n",
       "      <td>0.817749</td>\n",
       "      <td>True</td>\n",
       "      <td>True</td>\n",
       "    </tr>\n",
       "    <tr>\n",
       "      <th>Will The Wolf SurviveLos Lobos</th>\n",
       "      <td>0.844</td>\n",
       "      <td>0.794712</td>\n",
       "      <td>True</td>\n",
       "      <td>True</td>\n",
       "    </tr>\n",
       "    <tr>\n",
       "      <th>...</th>\n",
       "      <td>...</td>\n",
       "      <td>...</td>\n",
       "      <td>...</td>\n",
       "      <td>...</td>\n",
       "    </tr>\n",
       "    <tr>\n",
       "      <th>HeavenBryan Adams</th>\n",
       "      <td>0.335</td>\n",
       "      <td>0.332994</td>\n",
       "      <td>False</td>\n",
       "      <td>False</td>\n",
       "    </tr>\n",
       "    <tr>\n",
       "      <th>I Have NothingWhitney Houston</th>\n",
       "      <td>0.240</td>\n",
       "      <td>0.328881</td>\n",
       "      <td>False</td>\n",
       "      <td>False</td>\n",
       "    </tr>\n",
       "    <tr>\n",
       "      <th>Only You Can Love Me This WayKeith Urban</th>\n",
       "      <td>0.325</td>\n",
       "      <td>0.359599</td>\n",
       "      <td>False</td>\n",
       "      <td>False</td>\n",
       "    </tr>\n",
       "    <tr>\n",
       "      <th>Viva La VidaColdplay</th>\n",
       "      <td>0.416</td>\n",
       "      <td>0.353541</td>\n",
       "      <td>False</td>\n",
       "      <td>False</td>\n",
       "    </tr>\n",
       "    <tr>\n",
       "      <th>Delta LadyJoe Cocker</th>\n",
       "      <td>0.777</td>\n",
       "      <td>0.694624</td>\n",
       "      <td>True</td>\n",
       "      <td>False</td>\n",
       "    </tr>\n",
       "  </tbody>\n",
       "</table>\n",
       "<p>934 rows × 4 columns</p>\n",
       "</div>"
      ],
      "text/plain": [
       "                                                   Original Test  \\\n",
       "SongID                                                             \n",
       "One Night AffairThe O'Jays                                 0.876   \n",
       "Young & Gettin' ItMeek Mill Featuring Kirko Bangz          0.858   \n",
       "Everything Is Good About YouThe Lettermen                  0.804   \n",
       "Hot Fun In The SummertimeSly & The Family Stone            0.931   \n",
       "Will The Wolf SurviveLos Lobos                             0.844   \n",
       "...                                                          ...   \n",
       "HeavenBryan Adams                                          0.335   \n",
       "I Have NothingWhitney Houston                              0.240   \n",
       "Only You Can Love Me This WayKeith Urban                   0.325   \n",
       "Viva La VidaColdplay                                       0.416   \n",
       "Delta LadyJoe Cocker                                       0.777   \n",
       "\n",
       "                                                   Prediction Test  \\\n",
       "SongID                                                               \n",
       "One Night AffairThe O'Jays                                0.773724   \n",
       "Young & Gettin' ItMeek Mill Featuring Kirko Bangz         0.474915   \n",
       "Everything Is Good About YouThe Lettermen                 0.714696   \n",
       "Hot Fun In The SummertimeSly & The Family Stone           0.817749   \n",
       "Will The Wolf SurviveLos Lobos                            0.794712   \n",
       "...                                                            ...   \n",
       "HeavenBryan Adams                                         0.332994   \n",
       "I Have NothingWhitney Houston                             0.328881   \n",
       "Only You Can Love Me This WayKeith Urban                  0.359599   \n",
       "Viva La VidaColdplay                                      0.353541   \n",
       "Delta LadyJoe Cocker                                      0.694624   \n",
       "\n",
       "                                                   Original over Thrashold  \\\n",
       "SongID                                                                       \n",
       "One Night AffairThe O'Jays                                            True   \n",
       "Young & Gettin' ItMeek Mill Featuring Kirko Bangz                     True   \n",
       "Everything Is Good About YouThe Lettermen                             True   \n",
       "Hot Fun In The SummertimeSly & The Family Stone                       True   \n",
       "Will The Wolf SurviveLos Lobos                                        True   \n",
       "...                                                                    ...   \n",
       "HeavenBryan Adams                                                    False   \n",
       "I Have NothingWhitney Houston                                        False   \n",
       "Only You Can Love Me This WayKeith Urban                             False   \n",
       "Viva La VidaColdplay                                                 False   \n",
       "Delta LadyJoe Cocker                                                  True   \n",
       "\n",
       "                                                   Predicted over Thrashold  \n",
       "SongID                                                                       \n",
       "One Night AffairThe O'Jays                                             True  \n",
       "Young & Gettin' ItMeek Mill Featuring Kirko Bangz                     False  \n",
       "Everything Is Good About YouThe Lettermen                              True  \n",
       "Hot Fun In The SummertimeSly & The Family Stone                        True  \n",
       "Will The Wolf SurviveLos Lobos                                         True  \n",
       "...                                                                     ...  \n",
       "HeavenBryan Adams                                                     False  \n",
       "I Have NothingWhitney Houston                                         False  \n",
       "Only You Can Love Me This WayKeith Urban                              False  \n",
       "Viva La VidaColdplay                                                  False  \n",
       "Delta LadyJoe Cocker                                                  False  \n",
       "\n",
       "[934 rows x 4 columns]"
      ]
     },
     "metadata": {},
     "output_type": "display_data"
    },
    {
     "data": {
      "image/png": "[encoded data removed]",
      "text/plain": [
       "<Figure size 640x480 with 2 Axes>"
      ]
     },
     "metadata": {},
     "output_type": "display_data"
    },
    {
     "data": {
      "application/vnd.microsoft.datawrangler.viewer.v0+json": {
       "columns": [
        {
         "name": "index",
         "rawType": "object",
         "type": "string"
        },
        {
         "name": "Value",
         "rawType": "float64",
         "type": "float"
        }
       ],
       "conversionMethod": "pd.DataFrame",
       "ref": "c691de5e-0d14-4797-bfeb-6594ab6821d8",
       "rows": [
        [
         "Accuracy",
         "0.79"
        ],
        [
         "Precision",
         "0.79"
        ],
        [
         "Recall",
         "0.58"
        ],
        [
         "F1-score",
         "0.67"
        ]
       ],
       "shape": {
        "columns": 1,
        "rows": 4
       }
      },
      "text/html": [
       "<div>\n",
       "<style scoped>\n",
       "    .dataframe tbody tr th:only-of-type {\n",
       "        vertical-align: middle;\n",
       "    }\n",
       "\n",
       "    .dataframe tbody tr th {\n",
       "        vertical-align: top;\n",
       "    }\n",
       "\n",
       "    .dataframe thead th {\n",
       "        text-align: right;\n",
       "    }\n",
       "</style>\n",
       "<table border=\"1\" class=\"dataframe\">\n",
       "  <thead>\n",
       "    <tr style=\"text-align: right;\">\n",
       "      <th></th>\n",
       "      <th>Value</th>\n",
       "    </tr>\n",
       "  </thead>\n",
       "  <tbody>\n",
       "    <tr>\n",
       "      <th>Accuracy</th>\n",
       "      <td>0.79</td>\n",
       "    </tr>\n",
       "    <tr>\n",
       "      <th>Precision</th>\n",
       "      <td>0.79</td>\n",
       "    </tr>\n",
       "    <tr>\n",
       "      <th>Recall</th>\n",
       "      <td>0.58</td>\n",
       "    </tr>\n",
       "    <tr>\n",
       "      <th>F1-score</th>\n",
       "      <td>0.67</td>\n",
       "    </tr>\n",
       "  </tbody>\n",
       "</table>\n",
       "</div>"
      ],
      "text/plain": [
       "           Value\n",
       "Accuracy    0.79\n",
       "Precision   0.79\n",
       "Recall      0.58\n",
       "F1-score    0.67"
      ]
     },
     "metadata": {},
     "output_type": "display_data"
    },
    {
     "name": "stdout",
     "output_type": "stream",
     "text": [
      "---------------------------------------------------------\n",
      "USER 2\n",
      "Epoch 1/100\n"
     ]
    },
    {
     "name": "stderr",
     "output_type": "stream",
     "text": [
      "C:\\Users\\elped\\AppData\\Local\\Temp\\ipykernel_5772\\2934058548.py:7: SettingWithCopyWarning: \n",
      "A value is trying to be set on a copy of a slice from a DataFrame.\n",
      "Try using .loc[row_indexer,col_indexer] = value instead\n",
      "\n",
      "See the caveats in the documentation: https://pandas.pydata.org/pandas-docs/stable/user_guide/indexing.html#returning-a-view-versus-a-copy\n",
      "  x[numerical_features] = StandardScaler().fit_transform(x[numerical_features])\n",
      "c:\\Users\\elped\\AppData\\Local\\Programs\\Python\\Python312\\Lib\\site-packages\\keras\\src\\layers\\core\\dense.py:87: UserWarning: Do not pass an `input_shape`/`input_dim` argument to a layer. When using Sequential models, prefer using an `Input(shape)` object as the first layer in the model instead.\n",
      "  super().__init__(activity_regularizer=activity_regularizer, **kwargs)\n"
     ]
    },
    {
     "name": "stdout",
     "output_type": "stream",
     "text": [
      "\u001b[1m270/270\u001b[0m \u001b[32m━━━━━━━━━━━━━━━━━━━━\u001b[0m\u001b[37m\u001b[0m \u001b[1m2s\u001b[0m 2ms/step - loss: 0.3743 - mae: 0.1854 - val_loss: 0.0751 - val_mae: 0.1277\n",
      "Epoch 2/100\n",
      "\u001b[1m270/270\u001b[0m \u001b[32m━━━━━━━━━━━━━━━━━━━━\u001b[0m\u001b[37m\u001b[0m \u001b[1m0s\u001b[0m 2ms/step - loss: 0.0580 - mae: 0.1297 - val_loss: 0.0323 - val_mae: 0.1139\n",
      "Epoch 3/100\n",
      "\u001b[1m270/270\u001b[0m \u001b[32m━━━━━━━━━━━━━━━━━━━━\u001b[0m\u001b[37m\u001b[0m \u001b[1m0s\u001b[0m 2ms/step - loss: 0.0326 - mae: 0.1197 - val_loss: 0.0291 - val_mae: 0.1124\n",
      "Epoch 4/100\n",
      "\u001b[1m270/270\u001b[0m \u001b[32m━━━━━━━━━━━━━━━━━━━━\u001b[0m\u001b[37m\u001b[0m \u001b[1m0s\u001b[0m 2ms/step - loss: 0.0311 - mae: 0.1197 - val_loss: 0.0278 - val_mae: 0.1061\n",
      "Epoch 5/100\n",
      "\u001b[1m270/270\u001b[0m \u001b[32m━━━━━━━━━━━━━━━━━━━━\u001b[0m\u001b[37m\u001b[0m \u001b[1m0s\u001b[0m 2ms/step - loss: 0.0298 - mae: 0.1159 - val_loss: 0.0274 - val_mae: 0.1066\n",
      "Epoch 6/100\n",
      "\u001b[1m270/270\u001b[0m \u001b[32m━━━━━━━━━━━━━━━━━━━━\u001b[0m\u001b[37m\u001b[0m \u001b[1m0s\u001b[0m 2ms/step - loss: 0.0302 - mae: 0.1174 - val_loss: 0.0268 - val_mae: 0.1046\n",
      "Epoch 7/100\n",
      "\u001b[1m270/270\u001b[0m \u001b[32m━━━━━━━━━━━━━━━━━━━━\u001b[0m\u001b[37m\u001b[0m \u001b[1m1s\u001b[0m 2ms/step - loss: 0.0286 - mae: 0.1138 - val_loss: 0.0261 - val_mae: 0.1037\n",
      "Epoch 8/100\n",
      "\u001b[1m270/270\u001b[0m \u001b[32m━━━━━━━━━━━━━━━━━━━━\u001b[0m\u001b[37m\u001b[0m \u001b[1m0s\u001b[0m 2ms/step - loss: 0.0286 - mae: 0.1146 - val_loss: 0.0264 - val_mae: 0.1045\n",
      "Epoch 9/100\n",
      "\u001b[1m270/270\u001b[0m \u001b[32m━━━━━━━━━━━━━━━━━━━━\u001b[0m\u001b[37m\u001b[0m \u001b[1m0s\u001b[0m 2ms/step - loss: 0.0287 - mae: 0.1145 - val_loss: 0.0259 - val_mae: 0.1021\n",
      "Epoch 10/100\n",
      "\u001b[1m270/270\u001b[0m \u001b[32m━━━━━━━━━━━━━━━━━━━━\u001b[0m\u001b[37m\u001b[0m \u001b[1m1s\u001b[0m 2ms/step - loss: 0.0286 - mae: 0.1141 - val_loss: 0.0256 - val_mae: 0.1031\n",
      "Epoch 11/100\n",
      "\u001b[1m270/270\u001b[0m \u001b[32m━━━━━━━━━━━━━━━━━━━━\u001b[0m\u001b[37m\u001b[0m \u001b[1m0s\u001b[0m 2ms/step - loss: 0.0280 - mae: 0.1138 - val_loss: 0.0256 - val_mae: 0.1042\n",
      "Epoch 12/100\n",
      "\u001b[1m270/270\u001b[0m \u001b[32m━━━━━━━━━━━━━━━━━━━━\u001b[0m\u001b[37m\u001b[0m \u001b[1m0s\u001b[0m 2ms/step - loss: 0.0271 - mae: 0.1104 - val_loss: 0.0252 - val_mae: 0.1018\n",
      "Epoch 13/100\n",
      "\u001b[1m270/270\u001b[0m \u001b[32m━━━━━━━━━━━━━━━━━━━━\u001b[0m\u001b[37m\u001b[0m \u001b[1m0s\u001b[0m 2ms/step - loss: 0.0274 - mae: 0.1118 - val_loss: 0.0250 - val_mae: 0.1007\n",
      "Epoch 14/100\n",
      "\u001b[1m270/270\u001b[0m \u001b[32m━━━━━━━━━━━━━━━━━━━━\u001b[0m\u001b[37m\u001b[0m \u001b[1m0s\u001b[0m 2ms/step - loss: 0.0277 - mae: 0.1125 - val_loss: 0.0247 - val_mae: 0.0996\n",
      "Epoch 15/100\n",
      "\u001b[1m270/270\u001b[0m \u001b[32m━━━━━━━━━━━━━━━━━━━━\u001b[0m\u001b[37m\u001b[0m \u001b[1m0s\u001b[0m 2ms/step - loss: 0.0272 - mae: 0.1108 - val_loss: 0.0247 - val_mae: 0.1007\n",
      "Epoch 16/100\n",
      "\u001b[1m270/270\u001b[0m \u001b[32m━━━━━━━━━━━━━━━━━━━━\u001b[0m\u001b[37m\u001b[0m \u001b[1m0s\u001b[0m 2ms/step - loss: 0.0260 - mae: 0.1085 - val_loss: 0.0246 - val_mae: 0.1026\n",
      "Epoch 17/100\n",
      "\u001b[1m270/270\u001b[0m \u001b[32m━━━━━━━━━━━━━━━━━━━━\u001b[0m\u001b[37m\u001b[0m \u001b[1m1s\u001b[0m 2ms/step - loss: 0.0269 - mae: 0.1116 - val_loss: 0.0246 - val_mae: 0.1009\n",
      "Epoch 18/100\n",
      "\u001b[1m270/270\u001b[0m \u001b[32m━━━━━━━━━━━━━━━━━━━━\u001b[0m\u001b[37m\u001b[0m \u001b[1m0s\u001b[0m 2ms/step - loss: 0.0263 - mae: 0.1099 - val_loss: 0.0243 - val_mae: 0.1011\n",
      "Epoch 19/100\n",
      "\u001b[1m270/270\u001b[0m \u001b[32m━━━━━━━━━━━━━━━━━━━━\u001b[0m\u001b[37m\u001b[0m \u001b[1m1s\u001b[0m 3ms/step - loss: 0.0257 - mae: 0.1083 - val_loss: 0.0245 - val_mae: 0.1022\n",
      "Epoch 20/100\n",
      "\u001b[1m270/270\u001b[0m \u001b[32m━━━━━━━━━━━━━━━━━━━━\u001b[0m\u001b[37m\u001b[0m \u001b[1m1s\u001b[0m 2ms/step - loss: 0.0268 - mae: 0.1108 - val_loss: 0.0247 - val_mae: 0.1018\n",
      "Epoch 21/100\n",
      "\u001b[1m270/270\u001b[0m \u001b[32m━━━━━━━━━━━━━━━━━━━━\u001b[0m\u001b[37m\u001b[0m \u001b[1m1s\u001b[0m 4ms/step - loss: 0.0254 - mae: 0.1079 - val_loss: 0.0240 - val_mae: 0.1031\n",
      "Epoch 22/100\n",
      "\u001b[1m270/270\u001b[0m \u001b[32m━━━━━━━━━━━━━━━━━━━━\u001b[0m\u001b[37m\u001b[0m \u001b[1m1s\u001b[0m 2ms/step - loss: 0.0266 - mae: 0.1110 - val_loss: 0.0242 - val_mae: 0.1004\n",
      "Epoch 23/100\n",
      "\u001b[1m270/270\u001b[0m \u001b[32m━━━━━━━━━━━━━━━━━━━━\u001b[0m\u001b[37m\u001b[0m \u001b[1m1s\u001b[0m 2ms/step - loss: 0.0255 - mae: 0.1079 - val_loss: 0.0238 - val_mae: 0.1007\n",
      "Epoch 24/100\n",
      "\u001b[1m270/270\u001b[0m \u001b[32m━━━━━━━━━━━━━━━━━━━━\u001b[0m\u001b[37m\u001b[0m \u001b[1m1s\u001b[0m 3ms/step - loss: 0.0254 - mae: 0.1077 - val_loss: 0.0235 - val_mae: 0.0995\n",
      "Epoch 25/100\n",
      "\u001b[1m270/270\u001b[0m \u001b[32m━━━━━━━━━━━━━━━━━━━━\u001b[0m\u001b[37m\u001b[0m \u001b[1m1s\u001b[0m 5ms/step - loss: 0.0257 - mae: 0.1082 - val_loss: 0.0237 - val_mae: 0.1000\n",
      "Epoch 26/100\n",
      "\u001b[1m270/270\u001b[0m \u001b[32m━━━━━━━━━━━━━━━━━━━━\u001b[0m\u001b[37m\u001b[0m \u001b[1m3s\u001b[0m 7ms/step - loss: 0.0247 - mae: 0.1060 - val_loss: 0.0234 - val_mae: 0.0974\n",
      "Epoch 27/100\n",
      "\u001b[1m270/270\u001b[0m \u001b[32m━━━━━━━━━━━━━━━━━━━━\u001b[0m\u001b[37m\u001b[0m \u001b[1m2s\u001b[0m 6ms/step - loss: 0.0260 - mae: 0.1092 - val_loss: 0.0238 - val_mae: 0.1048\n",
      "Epoch 28/100\n",
      "\u001b[1m270/270\u001b[0m \u001b[32m━━━━━━━━━━━━━━━━━━━━\u001b[0m\u001b[37m\u001b[0m \u001b[1m3s\u001b[0m 6ms/step - loss: 0.0260 - mae: 0.1094 - val_loss: 0.0234 - val_mae: 0.0967\n",
      "Epoch 29/100\n",
      "\u001b[1m270/270\u001b[0m \u001b[32m━━━━━━━━━━━━━━━━━━━━\u001b[0m\u001b[37m\u001b[0m \u001b[1m2s\u001b[0m 7ms/step - loss: 0.0254 - mae: 0.1065 - val_loss: 0.0231 - val_mae: 0.0993\n",
      "Epoch 30/100\n",
      "\u001b[1m270/270\u001b[0m \u001b[32m━━━━━━━━━━━━━━━━━━━━\u001b[0m\u001b[37m\u001b[0m \u001b[1m2s\u001b[0m 6ms/step - loss: 0.0260 - mae: 0.1094 - val_loss: 0.0235 - val_mae: 0.0983\n",
      "Epoch 31/100\n",
      "\u001b[1m270/270\u001b[0m \u001b[32m━━━━━━━━━━━━━━━━━━━━\u001b[0m\u001b[37m\u001b[0m \u001b[1m2s\u001b[0m 8ms/step - loss: 0.0252 - mae: 0.1072 - val_loss: 0.0231 - val_mae: 0.0986\n",
      "Epoch 32/100\n",
      "\u001b[1m270/270\u001b[0m \u001b[32m━━━━━━━━━━━━━━━━━━━━\u001b[0m\u001b[37m\u001b[0m \u001b[1m2s\u001b[0m 5ms/step - loss: 0.0251 - mae: 0.1069 - val_loss: 0.0229 - val_mae: 0.1006\n",
      "Epoch 33/100\n",
      "\u001b[1m270/270\u001b[0m \u001b[32m━━━━━━━━━━━━━━━━━━━━\u001b[0m\u001b[37m\u001b[0m \u001b[1m1s\u001b[0m 4ms/step - loss: 0.0252 - mae: 0.1075 - val_loss: 0.0230 - val_mae: 0.0976\n",
      "Epoch 34/100\n",
      "\u001b[1m270/270\u001b[0m \u001b[32m━━━━━━━━━━━━━━━━━━━━\u001b[0m\u001b[37m\u001b[0m \u001b[1m1s\u001b[0m 4ms/step - loss: 0.0248 - mae: 0.1053 - val_loss: 0.0230 - val_mae: 0.0965\n",
      "Epoch 35/100\n",
      "\u001b[1m270/270\u001b[0m \u001b[32m━━━━━━━━━━━━━━━━━━━━\u001b[0m\u001b[37m\u001b[0m \u001b[1m1s\u001b[0m 5ms/step - loss: 0.0244 - mae: 0.1050 - val_loss: 0.0230 - val_mae: 0.0981\n",
      "Epoch 36/100\n",
      "\u001b[1m270/270\u001b[0m \u001b[32m━━━━━━━━━━━━━━━━━━━━\u001b[0m\u001b[37m\u001b[0m \u001b[1m2s\u001b[0m 4ms/step - loss: 0.0244 - mae: 0.1047 - val_loss: 0.0230 - val_mae: 0.0999\n",
      "Epoch 37/100\n",
      "\u001b[1m270/270\u001b[0m \u001b[32m━━━━━━━━━━━━━━━━━━━━\u001b[0m\u001b[37m\u001b[0m \u001b[1m2s\u001b[0m 5ms/step - loss: 0.0244 - mae: 0.1060 - val_loss: 0.0227 - val_mae: 0.0989\n",
      "Epoch 38/100\n",
      "\u001b[1m270/270\u001b[0m \u001b[32m━━━━━━━━━━━━━━━━━━━━\u001b[0m\u001b[37m\u001b[0m \u001b[1m3s\u001b[0m 5ms/step - loss: 0.0248 - mae: 0.1058 - val_loss: 0.0225 - val_mae: 0.0955\n",
      "Epoch 39/100\n",
      "\u001b[1m270/270\u001b[0m \u001b[32m━━━━━━━━━━━━━━━━━━━━\u001b[0m\u001b[37m\u001b[0m \u001b[1m2s\u001b[0m 3ms/step - loss: 0.0246 - mae: 0.1055 - val_loss: 0.0228 - val_mae: 0.0978\n",
      "Epoch 40/100\n",
      "\u001b[1m270/270\u001b[0m \u001b[32m━━━━━━━━━━━━━━━━━━━━\u001b[0m\u001b[37m\u001b[0m \u001b[1m1s\u001b[0m 3ms/step - loss: 0.0241 - mae: 0.1042 - val_loss: 0.0223 - val_mae: 0.0963\n",
      "Epoch 41/100\n",
      "\u001b[1m270/270\u001b[0m \u001b[32m━━━━━━━━━━━━━━━━━━━━\u001b[0m\u001b[37m\u001b[0m \u001b[1m1s\u001b[0m 2ms/step - loss: 0.0237 - mae: 0.1030 - val_loss: 0.0223 - val_mae: 0.0947\n",
      "Epoch 42/100\n",
      "\u001b[1m270/270\u001b[0m \u001b[32m━━━━━━━━━━━━━━━━━━━━\u001b[0m\u001b[37m\u001b[0m \u001b[1m1s\u001b[0m 2ms/step - loss: 0.0246 - mae: 0.1052 - val_loss: 0.0225 - val_mae: 0.0982\n",
      "Epoch 43/100\n",
      "\u001b[1m270/270\u001b[0m \u001b[32m━━━━━━━━━━━━━━━━━━━━\u001b[0m\u001b[37m\u001b[0m \u001b[1m1s\u001b[0m 3ms/step - loss: 0.0242 - mae: 0.1044 - val_loss: 0.0226 - val_mae: 0.0969\n",
      "Epoch 44/100\n",
      "\u001b[1m270/270\u001b[0m \u001b[32m━━━━━━━━━━━━━━━━━━━━\u001b[0m\u001b[37m\u001b[0m \u001b[1m1s\u001b[0m 2ms/step - loss: 0.0243 - mae: 0.1044 - val_loss: 0.0222 - val_mae: 0.0952\n",
      "Epoch 45/100\n",
      "\u001b[1m270/270\u001b[0m \u001b[32m━━━━━━━━━━━━━━━━━━━━\u001b[0m\u001b[37m\u001b[0m \u001b[1m1s\u001b[0m 3ms/step - loss: 0.0244 - mae: 0.1043 - val_loss: 0.0222 - val_mae: 0.0954\n",
      "Epoch 46/100\n",
      "\u001b[1m270/270\u001b[0m \u001b[32m━━━━━━━━━━━━━━━━━━━━\u001b[0m\u001b[37m\u001b[0m \u001b[1m1s\u001b[0m 3ms/step - loss: 0.0247 - mae: 0.1058 - val_loss: 0.0220 - val_mae: 0.0932\n",
      "Epoch 47/100\n",
      "\u001b[1m270/270\u001b[0m \u001b[32m━━━━━━━━━━━━━━━━━━━━\u001b[0m\u001b[37m\u001b[0m \u001b[1m1s\u001b[0m 2ms/step - loss: 0.0246 - mae: 0.1045 - val_loss: 0.0225 - val_mae: 0.0973\n",
      "Epoch 48/100\n",
      "\u001b[1m270/270\u001b[0m \u001b[32m━━━━━━━━━━━━━━━━━━━━\u001b[0m\u001b[37m\u001b[0m \u001b[1m1s\u001b[0m 2ms/step - loss: 0.0241 - mae: 0.1045 - val_loss: 0.0219 - val_mae: 0.0940\n",
      "Epoch 49/100\n",
      "\u001b[1m270/270\u001b[0m \u001b[32m━━━━━━━━━━━━━━━━━━━━\u001b[0m\u001b[37m\u001b[0m \u001b[1m1s\u001b[0m 2ms/step - loss: 0.0237 - mae: 0.1027 - val_loss: 0.0223 - val_mae: 0.0957\n",
      "Epoch 50/100\n",
      "\u001b[1m270/270\u001b[0m \u001b[32m━━━━━━━━━━━━━━━━━━━━\u001b[0m\u001b[37m\u001b[0m \u001b[1m1s\u001b[0m 3ms/step - loss: 0.0245 - mae: 0.1055 - val_loss: 0.0225 - val_mae: 0.0960\n",
      "Epoch 51/100\n",
      "\u001b[1m270/270\u001b[0m \u001b[32m━━━━━━━━━━━━━━━━━━━━\u001b[0m\u001b[37m\u001b[0m \u001b[1m1s\u001b[0m 3ms/step - loss: 0.0245 - mae: 0.1048 - val_loss: 0.0224 - val_mae: 0.0968\n",
      "Epoch 52/100\n",
      "\u001b[1m270/270\u001b[0m \u001b[32m━━━━━━━━━━━━━━━━━━━━\u001b[0m\u001b[37m\u001b[0m \u001b[1m1s\u001b[0m 3ms/step - loss: 0.0241 - mae: 0.1049 - val_loss: 0.0226 - val_mae: 0.0979\n",
      "Epoch 53/100\n",
      "\u001b[1m270/270\u001b[0m \u001b[32m━━━━━━━━━━━━━━━━━━━━\u001b[0m\u001b[37m\u001b[0m \u001b[1m1s\u001b[0m 5ms/step - loss: 0.0244 - mae: 0.1051 - val_loss: 0.0217 - val_mae: 0.0967\n",
      "Epoch 54/100\n",
      "\u001b[1m270/270\u001b[0m \u001b[32m━━━━━━━━━━━━━━━━━━━━\u001b[0m\u001b[37m\u001b[0m \u001b[1m1s\u001b[0m 2ms/step - loss: 0.0235 - mae: 0.1032 - val_loss: 0.0218 - val_mae: 0.0949\n",
      "Epoch 55/100\n",
      "\u001b[1m270/270\u001b[0m \u001b[32m━━━━━━━━━━━━━━━━━━━━\u001b[0m\u001b[37m\u001b[0m \u001b[1m1s\u001b[0m 2ms/step - loss: 0.0248 - mae: 0.1056 - val_loss: 0.0222 - val_mae: 0.0940\n",
      "Epoch 56/100\n",
      "\u001b[1m270/270\u001b[0m \u001b[32m━━━━━━━━━━━━━━━━━━━━\u001b[0m\u001b[37m\u001b[0m \u001b[1m1s\u001b[0m 3ms/step - loss: 0.0239 - mae: 0.1030 - val_loss: 0.0219 - val_mae: 0.0952\n",
      "Epoch 57/100\n",
      "\u001b[1m270/270\u001b[0m \u001b[32m━━━━━━━━━━━━━━━━━━━━\u001b[0m\u001b[37m\u001b[0m \u001b[1m1s\u001b[0m 3ms/step - loss: 0.0237 - mae: 0.1040 - val_loss: 0.0217 - val_mae: 0.0946\n",
      "Epoch 58/100\n",
      "\u001b[1m270/270\u001b[0m \u001b[32m━━━━━━━━━━━━━━━━━━━━\u001b[0m\u001b[37m\u001b[0m \u001b[1m1s\u001b[0m 3ms/step - loss: 0.0243 - mae: 0.1051 - val_loss: 0.0219 - val_mae: 0.0940\n",
      "Epoch 59/100\n",
      "\u001b[1m270/270\u001b[0m \u001b[32m━━━━━━━━━━━━━━━━━━━━\u001b[0m\u001b[37m\u001b[0m \u001b[1m1s\u001b[0m 2ms/step - loss: 0.0239 - mae: 0.1045 - val_loss: 0.0222 - val_mae: 0.0981\n",
      "Epoch 60/100\n",
      "\u001b[1m270/270\u001b[0m \u001b[32m━━━━━━━━━━━━━━━━━━━━\u001b[0m\u001b[37m\u001b[0m \u001b[1m1s\u001b[0m 2ms/step - loss: 0.0239 - mae: 0.1032 - val_loss: 0.0216 - val_mae: 0.0928\n",
      "Epoch 61/100\n",
      "\u001b[1m270/270\u001b[0m \u001b[32m━━━━━━━━━━━━━━━━━━━━\u001b[0m\u001b[37m\u001b[0m \u001b[1m1s\u001b[0m 2ms/step - loss: 0.0234 - mae: 0.1030 - val_loss: 0.0217 - val_mae: 0.0935\n",
      "Epoch 62/100\n",
      "\u001b[1m270/270\u001b[0m \u001b[32m━━━━━━━━━━━━━━━━━━━━\u001b[0m\u001b[37m\u001b[0m \u001b[1m1s\u001b[0m 3ms/step - loss: 0.0250 - mae: 0.1066 - val_loss: 0.0218 - val_mae: 0.0953\n",
      "Epoch 63/100\n",
      "\u001b[1m270/270\u001b[0m \u001b[32m━━━━━━━━━━━━━━━━━━━━\u001b[0m\u001b[37m\u001b[0m \u001b[1m1s\u001b[0m 2ms/step - loss: 0.0236 - mae: 0.1030 - val_loss: 0.0218 - val_mae: 0.0958\n",
      "Epoch 64/100\n",
      "\u001b[1m270/270\u001b[0m \u001b[32m━━━━━━━━━━━━━━━━━━━━\u001b[0m\u001b[37m\u001b[0m \u001b[1m1s\u001b[0m 2ms/step - loss: 0.0237 - mae: 0.1035 - val_loss: 0.0215 - val_mae: 0.0936\n",
      "Epoch 65/100\n",
      "\u001b[1m270/270\u001b[0m \u001b[32m━━━━━━━━━━━━━━━━━━━━\u001b[0m\u001b[37m\u001b[0m \u001b[1m1s\u001b[0m 3ms/step - loss: 0.0241 - mae: 0.1048 - val_loss: 0.0220 - val_mae: 0.0975\n",
      "Epoch 66/100\n",
      "\u001b[1m270/270\u001b[0m \u001b[32m━━━━━━━━━━━━━━━━━━━━\u001b[0m\u001b[37m\u001b[0m \u001b[1m1s\u001b[0m 2ms/step - loss: 0.0245 - mae: 0.1056 - val_loss: 0.0217 - val_mae: 0.0958\n",
      "Epoch 67/100\n",
      "\u001b[1m270/270\u001b[0m \u001b[32m━━━━━━━━━━━━━━━━━━━━\u001b[0m\u001b[37m\u001b[0m \u001b[1m2s\u001b[0m 4ms/step - loss: 0.0241 - mae: 0.1040 - val_loss: 0.0215 - val_mae: 0.0910\n",
      "Epoch 68/100\n",
      "\u001b[1m270/270\u001b[0m \u001b[32m━━━━━━━━━━━━━━━━━━━━\u001b[0m\u001b[37m\u001b[0m \u001b[1m1s\u001b[0m 3ms/step - loss: 0.0239 - mae: 0.1039 - val_loss: 0.0217 - val_mae: 0.0927\n",
      "Epoch 69/100\n",
      "\u001b[1m270/270\u001b[0m \u001b[32m━━━━━━━━━━━━━━━━━━━━\u001b[0m\u001b[37m\u001b[0m \u001b[1m2s\u001b[0m 6ms/step - loss: 0.0232 - mae: 0.1011 - val_loss: 0.0215 - val_mae: 0.0924\n",
      "Epoch 70/100\n",
      "\u001b[1m270/270\u001b[0m \u001b[32m━━━━━━━━━━━━━━━━━━━━\u001b[0m\u001b[37m\u001b[0m \u001b[1m1s\u001b[0m 3ms/step - loss: 0.0236 - mae: 0.1025 - val_loss: 0.0211 - val_mae: 0.0945\n",
      "Epoch 71/100\n",
      "\u001b[1m270/270\u001b[0m \u001b[32m━━━━━━━━━━━━━━━━━━━━\u001b[0m\u001b[37m\u001b[0m \u001b[1m1s\u001b[0m 3ms/step - loss: 0.0240 - mae: 0.1041 - val_loss: 0.0214 - val_mae: 0.0929\n",
      "Epoch 72/100\n",
      "\u001b[1m270/270\u001b[0m \u001b[32m━━━━━━━━━━━━━━━━━━━━\u001b[0m\u001b[37m\u001b[0m \u001b[1m1s\u001b[0m 4ms/step - loss: 0.0235 - mae: 0.1021 - val_loss: 0.0225 - val_mae: 0.0986\n",
      "Epoch 73/100\n",
      "\u001b[1m270/270\u001b[0m \u001b[32m━━━━━━━━━━━━━━━━━━━━\u001b[0m\u001b[37m\u001b[0m \u001b[1m1s\u001b[0m 4ms/step - loss: 0.0243 - mae: 0.1051 - val_loss: 0.0220 - val_mae: 0.0997\n",
      "Epoch 74/100\n",
      "\u001b[1m270/270\u001b[0m \u001b[32m━━━━━━━━━━━━━━━━━━━━\u001b[0m\u001b[37m\u001b[0m \u001b[1m1s\u001b[0m 3ms/step - loss: 0.0240 - mae: 0.1038 - val_loss: 0.0224 - val_mae: 0.0970\n",
      "Epoch 75/100\n",
      "\u001b[1m270/270\u001b[0m \u001b[32m━━━━━━━━━━━━━━━━━━━━\u001b[0m\u001b[37m\u001b[0m \u001b[1m2s\u001b[0m 3ms/step - loss: 0.0238 - mae: 0.1026 - val_loss: 0.0210 - val_mae: 0.0902\n",
      "Epoch 76/100\n",
      "\u001b[1m270/270\u001b[0m \u001b[32m━━━━━━━━━━━━━━━━━━━━\u001b[0m\u001b[37m\u001b[0m \u001b[1m1s\u001b[0m 2ms/step - loss: 0.0235 - mae: 0.1022 - val_loss: 0.0214 - val_mae: 0.0946\n",
      "Epoch 77/100\n",
      "\u001b[1m270/270\u001b[0m \u001b[32m━━━━━━━━━━━━━━━━━━━━\u001b[0m\u001b[37m\u001b[0m \u001b[1m1s\u001b[0m 2ms/step - loss: 0.0230 - mae: 0.1017 - val_loss: 0.0219 - val_mae: 0.0991\n",
      "Epoch 78/100\n",
      "\u001b[1m270/270\u001b[0m \u001b[32m━━━━━━━━━━━━━━━━━━━━\u001b[0m\u001b[37m\u001b[0m \u001b[1m1s\u001b[0m 4ms/step - loss: 0.0238 - mae: 0.1032 - val_loss: 0.0213 - val_mae: 0.0967\n",
      "Epoch 79/100\n",
      "\u001b[1m270/270\u001b[0m \u001b[32m━━━━━━━━━━━━━━━━━━━━\u001b[0m\u001b[37m\u001b[0m \u001b[1m1s\u001b[0m 3ms/step - loss: 0.0236 - mae: 0.1033 - val_loss: 0.0212 - val_mae: 0.0923\n",
      "Epoch 80/100\n",
      "\u001b[1m270/270\u001b[0m \u001b[32m━━━━━━━━━━━━━━━━━━━━\u001b[0m\u001b[37m\u001b[0m \u001b[1m1s\u001b[0m 3ms/step - loss: 0.0227 - mae: 0.1010 - val_loss: 0.0209 - val_mae: 0.0955\n",
      "Epoch 81/100\n",
      "\u001b[1m270/270\u001b[0m \u001b[32m━━━━━━━━━━━━━━━━━━━━\u001b[0m\u001b[37m\u001b[0m \u001b[1m1s\u001b[0m 3ms/step - loss: 0.0226 - mae: 0.1004 - val_loss: 0.0210 - val_mae: 0.0917\n",
      "Epoch 82/100\n",
      "\u001b[1m270/270\u001b[0m \u001b[32m━━━━━━━━━━━━━━━━━━━━\u001b[0m\u001b[37m\u001b[0m \u001b[1m1s\u001b[0m 2ms/step - loss: 0.0236 - mae: 0.1033 - val_loss: 0.0222 - val_mae: 0.0966\n",
      "Epoch 83/100\n",
      "\u001b[1m270/270\u001b[0m \u001b[32m━━━━━━━━━━━━━━━━━━━━\u001b[0m\u001b[37m\u001b[0m \u001b[1m1s\u001b[0m 3ms/step - loss: 0.0227 - mae: 0.0999 - val_loss: 0.0215 - val_mae: 0.0939\n",
      "Epoch 84/100\n",
      "\u001b[1m270/270\u001b[0m \u001b[32m━━━━━━━━━━━━━━━━━━━━\u001b[0m\u001b[37m\u001b[0m \u001b[1m1s\u001b[0m 4ms/step - loss: 0.0235 - mae: 0.1023 - val_loss: 0.0209 - val_mae: 0.0941\n",
      "Epoch 85/100\n",
      "\u001b[1m270/270\u001b[0m \u001b[32m━━━━━━━━━━━━━━━━━━━━\u001b[0m\u001b[37m\u001b[0m \u001b[1m1s\u001b[0m 4ms/step - loss: 0.0232 - mae: 0.1018 - val_loss: 0.0214 - val_mae: 0.1025\n",
      "Epoch 86/100\n",
      "\u001b[1m270/270\u001b[0m \u001b[32m━━━━━━━━━━━━━━━━━━━━\u001b[0m\u001b[37m\u001b[0m \u001b[1m2s\u001b[0m 5ms/step - loss: 0.0234 - mae: 0.1025 - val_loss: 0.0213 - val_mae: 0.0913\n",
      "Epoch 87/100\n",
      "\u001b[1m270/270\u001b[0m \u001b[32m━━━━━━━━━━━━━━━━━━━━\u001b[0m\u001b[37m\u001b[0m \u001b[1m1s\u001b[0m 5ms/step - loss: 0.0233 - mae: 0.1017 - val_loss: 0.0218 - val_mae: 0.0938\n",
      "Epoch 88/100\n",
      "\u001b[1m270/270\u001b[0m \u001b[32m━━━━━━━━━━━━━━━━━━━━\u001b[0m\u001b[37m\u001b[0m \u001b[1m1s\u001b[0m 2ms/step - loss: 0.0230 - mae: 0.1010 - val_loss: 0.0211 - val_mae: 0.0935\n",
      "Epoch 89/100\n",
      "\u001b[1m270/270\u001b[0m \u001b[32m━━━━━━━━━━━━━━━━━━━━\u001b[0m\u001b[37m\u001b[0m \u001b[1m1s\u001b[0m 3ms/step - loss: 0.0227 - mae: 0.1011 - val_loss: 0.0206 - val_mae: 0.0909\n",
      "Epoch 90/100\n",
      "\u001b[1m270/270\u001b[0m \u001b[32m━━━━━━━━━━━━━━━━━━━━\u001b[0m\u001b[37m\u001b[0m \u001b[1m1s\u001b[0m 3ms/step - loss: 0.0228 - mae: 0.1014 - val_loss: 0.0213 - val_mae: 0.0964\n",
      "Epoch 91/100\n",
      "\u001b[1m270/270\u001b[0m \u001b[32m━━━━━━━━━━━━━━━━━━━━\u001b[0m\u001b[37m\u001b[0m \u001b[1m1s\u001b[0m 4ms/step - loss: 0.0229 - mae: 0.1010 - val_loss: 0.0211 - val_mae: 0.0915\n",
      "Epoch 92/100\n",
      "\u001b[1m270/270\u001b[0m \u001b[32m━━━━━━━━━━━━━━━━━━━━\u001b[0m\u001b[37m\u001b[0m \u001b[1m1s\u001b[0m 5ms/step - loss: 0.0232 - mae: 0.1019 - val_loss: 0.0209 - val_mae: 0.0942\n",
      "Epoch 93/100\n",
      "\u001b[1m270/270\u001b[0m \u001b[32m━━━━━━━━━━━━━━━━━━━━\u001b[0m\u001b[37m\u001b[0m \u001b[1m2s\u001b[0m 6ms/step - loss: 0.0223 - mae: 0.0990 - val_loss: 0.0210 - val_mae: 0.0912\n",
      "Epoch 94/100\n",
      "\u001b[1m270/270\u001b[0m \u001b[32m━━━━━━━━━━━━━━━━━━━━\u001b[0m\u001b[37m\u001b[0m \u001b[1m3s\u001b[0m 6ms/step - loss: 0.0228 - mae: 0.1000 - val_loss: 0.0214 - val_mae: 0.0952\n",
      "Epoch 95/100\n",
      "\u001b[1m270/270\u001b[0m \u001b[32m━━━━━━━━━━━━━━━━━━━━\u001b[0m\u001b[37m\u001b[0m \u001b[1m1s\u001b[0m 3ms/step - loss: 0.0238 - mae: 0.1034 - val_loss: 0.0211 - val_mae: 0.0939\n",
      "Epoch 96/100\n",
      "\u001b[1m270/270\u001b[0m \u001b[32m━━━━━━━━━━━━━━━━━━━━\u001b[0m\u001b[37m\u001b[0m \u001b[1m1s\u001b[0m 2ms/step - loss: 0.0233 - mae: 0.1020 - val_loss: 0.0210 - val_mae: 0.0953\n",
      "Epoch 97/100\n",
      "\u001b[1m270/270\u001b[0m \u001b[32m━━━━━━━━━━━━━━━━━━━━\u001b[0m\u001b[37m\u001b[0m \u001b[1m1s\u001b[0m 2ms/step - loss: 0.0233 - mae: 0.1029 - val_loss: 0.0217 - val_mae: 0.0959\n",
      "Epoch 98/100\n",
      "\u001b[1m270/270\u001b[0m \u001b[32m━━━━━━━━━━━━━━━━━━━━\u001b[0m\u001b[37m\u001b[0m \u001b[1m1s\u001b[0m 2ms/step - loss: 0.0239 - mae: 0.1034 - val_loss: 0.0213 - val_mae: 0.0977\n",
      "Epoch 99/100\n",
      "\u001b[1m270/270\u001b[0m \u001b[32m━━━━━━━━━━━━━━━━━━━━\u001b[0m\u001b[37m\u001b[0m \u001b[1m0s\u001b[0m 2ms/step - loss: 0.0231 - mae: 0.1013 - val_loss: 0.0216 - val_mae: 0.0979\n",
      "Epoch 100/100\n",
      "\u001b[1m270/270\u001b[0m \u001b[32m━━━━━━━━━━━━━━━━━━━━\u001b[0m\u001b[37m\u001b[0m \u001b[1m1s\u001b[0m 2ms/step - loss: 0.0226 - mae: 0.1001 - val_loss: 0.0216 - val_mae: 0.0970\n",
      "\u001b[1m68/68\u001b[0m \u001b[32m━━━━━━━━━━━━━━━━━━━━\u001b[0m\u001b[37m\u001b[0m \u001b[1m0s\u001b[0m 2ms/step\n"
     ]
    },
    {
     "data": {
      "image/png": "[encoded data removed]",
      "text/plain": [
       "<Figure size 640x480 with 1 Axes>"
      ]
     },
     "metadata": {},
     "output_type": "display_data"
    },
    {
     "data": {
      "image/png": "[encoded data removed]",
      "text/plain": [
       "<Figure size 640x480 with 1 Axes>"
      ]
     },
     "metadata": {},
     "output_type": "display_data"
    },
    {
     "name": "stdout",
     "output_type": "stream",
     "text": [
      "\u001b[1m68/68\u001b[0m \u001b[32m━━━━━━━━━━━━━━━━━━━━\u001b[0m\u001b[37m\u001b[0m \u001b[1m0s\u001b[0m 3ms/step - loss: 0.0217 - mae: 0.0972\n",
      "MSE:  0.021598005667328835\n",
      "MAE: 0.09697432816028595\n"
     ]
    },
    {
     "data": {
      "application/vnd.microsoft.datawrangler.viewer.v0+json": {
       "columns": [
        {
         "name": "SongID",
         "rawType": "object",
         "type": "string"
        },
        {
         "name": "Original Test",
         "rawType": "float64",
         "type": "float"
        },
        {
         "name": "Prediction Test",
         "rawType": "float32",
         "type": "float"
        },
        {
         "name": "Original over Thrashold",
         "rawType": "bool",
         "type": "boolean"
        },
        {
         "name": "Predicted over Thrashold",
         "rawType": "bool",
         "type": "boolean"
        }
       ],
       "conversionMethod": "pd.DataFrame",
       "ref": "cedbb68c-4582-419e-8f02-d1ada92e562a",
       "rows": [
        [
         "The Court RoomClarence Carter",
         "0.69",
         "0.7172259",
         "False",
         "True"
        ],
        [
         "We Fell In Love While DancingBill Brandon",
         "0.8549999999999999",
         "0.6911812",
         "True",
         "False"
        ],
        [
         "Forever My LadyJodeci",
         "0.771",
         "0.67293286",
         "True",
         "False"
        ],
        [
         "Isn't It Lonely TogetherRobert Knight",
         "0.69",
         "0.7172259",
         "False",
         "True"
        ],
        [
         "Roll UpWiz Khalifa",
         "0.6019999999999999",
         "0.44416454",
         "False",
         "False"
        ],
        [
         "Universal Heart-BeatJuliana Hatfield",
         "0.58",
         "0.57229733",
         "False",
         "False"
        ],
        [
         "Funky President (People It's Bad)/ColdbloodedJames Brown",
         "0.65",
         "0.6254937",
         "False",
         "False"
        ],
        [
         "Hello Mudduh, Hello Fadduh! (A Letter From Camp) (New 1964 Version)Allan Sherman",
         "0.63",
         "0.66332674",
         "False",
         "False"
        ],
        [
         "Yes (From The Motion Picture \"Dirty Dancing\")Merry Clayton",
         "0.69",
         "0.7172259",
         "False",
         "True"
        ],
        [
         "Crystal ChandelierVic Dana",
         "0.637",
         "0.73178726",
         "False",
         "True"
        ],
        [
         "Walking On AirKaty Perry",
         "0.821",
         "0.61736953",
         "True",
         "False"
        ],
        [
         "Take Me To HeartQuarterflash",
         "0.639",
         "0.80185235",
         "False",
         "True"
        ],
        [
         "A Little RespectErasure",
         "0.5949999999999999",
         "0.6294508",
         "False",
         "False"
        ],
        [
         "Boys Do Fall In LoveRobin Gibb",
         "0.881",
         "0.8601829",
         "True",
         "True"
        ],
        [
         "The Yard Went On ForeverRichard Harris",
         "0.63",
         "0.66332674",
         "False",
         "False"
        ],
        [
         "Catch Me (I'm Falling) (From The Film \"Hiding Out\")Pretty Poison",
         "0.63",
         "0.66332674",
         "False",
         "False"
        ],
        [
         "(Everything I Do) I Do It For YouBryan Adams",
         "0.2979999999999999",
         "0.3355051",
         "False",
         "False"
        ],
        [
         "Shut Up And DanceWALK THE MOON",
         "0.6189999999999999",
         "0.4779403",
         "False",
         "False"
        ],
        [
         "Don't Read The LetterPatti Page",
         "0.58",
         "0.57229733",
         "False",
         "False"
        ],
        [
         "We Close Our EyesGo West",
         "0.912",
         "0.7826982",
         "True",
         "True"
        ],
        [
         "SupernatureCerrone",
         "0.967",
         "0.7129241",
         "True",
         "True"
        ],
        [
         "SupermanCeli Bee & The Buzzy Bunch",
         "0.8349999999999999",
         "0.77120686",
         "True",
         "True"
        ],
        [
         "BodyLoud Luxury Featuring Brando",
         "0.5819999999999999",
         "0.66052926",
         "False",
         "False"
        ],
        [
         "Jam On ItNewcleus",
         "0.3459999999999999",
         "0.6546045",
         "False",
         "False"
        ],
        [
         "Red Roses For A Blue LadyBert Kaempfert And His Orchestra",
         "0.274",
         "0.67210245",
         "False",
         "False"
        ],
        [
         "ShakeShadows Of Knight",
         "0.62",
         "0.61081916",
         "False",
         "False"
        ],
        [
         "I'll Fall In Love AgainSammy Hagar",
         "0.775",
         "0.7558776",
         "True",
         "True"
        ],
        [
         "I Still Get JealousJoni James",
         "0.63",
         "0.66332674",
         "False",
         "False"
        ],
        [
         "Beauty Is Only Skin DeepThe Temptations",
         "0.759",
         "0.709823",
         "True",
         "True"
        ],
        [
         "SugarMaroon 5",
         "0.884",
         "0.69632244",
         "True",
         "False"
        ],
        [
         "Cough SyrupYoung The Giant",
         "0.225",
         "0.47203362",
         "False",
         "False"
        ],
        [
         "Down The HallThe 4 Seasons",
         "0.82",
         "0.71870136",
         "True",
         "True"
        ],
        [
         "Tell HimThe Drew-Vels",
         "0.681",
         "0.62559706",
         "False",
         "False"
        ],
        [
         "L. David SloaneMichele Lee",
         "0.892",
         "0.852831",
         "True",
         "True"
        ],
        [
         "I'll Be Seeing YouTommy Sands",
         "0.0923",
         "0.35196176",
         "False",
         "False"
        ],
        [
         "What's The Matter Here?10,000 Maniacs",
         "0.44",
         "0.4720559",
         "False",
         "False"
        ],
        [
         "This Is My StoryMickey & Sylvia",
         "0.58",
         "0.57229733",
         "False",
         "False"
        ],
        [
         "Killer QueenQueen",
         "0.6039999999999999",
         "0.5291051",
         "False",
         "False"
        ],
        [
         "GirlfriendPebbles",
         "0.908",
         "0.8384774",
         "True",
         "True"
        ],
        [
         "(There'll Come A Day When) Ev'ry Little Bit HurtsBobby Vee",
         "0.58",
         "0.57229733",
         "False",
         "False"
        ],
        [
         "Look At Granny Run, RunHoward Tate",
         "0.927",
         "0.837956",
         "True",
         "True"
        ],
        [
         "My PresidentYoung Jeezy Featuring Nas",
         "0.63",
         "0.66332674",
         "False",
         "False"
        ],
        [
         "Anniversary Of LoveThe Caslons",
         "0.922",
         "0.82287383",
         "True",
         "True"
        ],
        [
         "Knockin' Da BootsH-Town",
         "0.5819999999999999",
         "0.6176926",
         "False",
         "False"
        ],
        [
         "Kiss You All OverNo Mercy",
         "0.768",
         "0.7563968",
         "True",
         "True"
        ],
        [
         "The WaitingTom Petty And The Heartbreakers",
         "0.7229999999999999",
         "0.61515415",
         "True",
         "False"
        ],
        [
         "What Now My Love\"Groove\" Holmes",
         "0.58",
         "0.58894235",
         "False",
         "False"
        ],
        [
         "StopSpice Girls",
         "0.965",
         "0.7081065",
         "True",
         "True"
        ],
        [
         "Sunrise, SunsetRoger Williams",
         "0.63",
         "0.66332674",
         "False",
         "False"
        ],
        [
         "Let's Call It A Day GirlBobby Vee",
         "0.58",
         "0.57229733",
         "False",
         "False"
        ]
       ],
       "shape": {
        "columns": 4,
        "rows": 2154
       }
      },
      "text/html": [
       "<div>\n",
       "<style scoped>\n",
       "    .dataframe tbody tr th:only-of-type {\n",
       "        vertical-align: middle;\n",
       "    }\n",
       "\n",
       "    .dataframe tbody tr th {\n",
       "        vertical-align: top;\n",
       "    }\n",
       "\n",
       "    .dataframe thead th {\n",
       "        text-align: right;\n",
       "    }\n",
       "</style>\n",
       "<table border=\"1\" class=\"dataframe\">\n",
       "  <thead>\n",
       "    <tr style=\"text-align: right;\">\n",
       "      <th></th>\n",
       "      <th>Original Test</th>\n",
       "      <th>Prediction Test</th>\n",
       "      <th>Original over Thrashold</th>\n",
       "      <th>Predicted over Thrashold</th>\n",
       "    </tr>\n",
       "    <tr>\n",
       "      <th>SongID</th>\n",
       "      <th></th>\n",
       "      <th></th>\n",
       "      <th></th>\n",
       "      <th></th>\n",
       "    </tr>\n",
       "  </thead>\n",
       "  <tbody>\n",
       "    <tr>\n",
       "      <th>The Court RoomClarence Carter</th>\n",
       "      <td>0.690</td>\n",
       "      <td>0.717226</td>\n",
       "      <td>False</td>\n",
       "      <td>True</td>\n",
       "    </tr>\n",
       "    <tr>\n",
       "      <th>We Fell In Love While DancingBill Brandon</th>\n",
       "      <td>0.855</td>\n",
       "      <td>0.691181</td>\n",
       "      <td>True</td>\n",
       "      <td>False</td>\n",
       "    </tr>\n",
       "    <tr>\n",
       "      <th>Forever My LadyJodeci</th>\n",
       "      <td>0.771</td>\n",
       "      <td>0.672933</td>\n",
       "      <td>True</td>\n",
       "      <td>False</td>\n",
       "    </tr>\n",
       "    <tr>\n",
       "      <th>Isn't It Lonely TogetherRobert Knight</th>\n",
       "      <td>0.690</td>\n",
       "      <td>0.717226</td>\n",
       "      <td>False</td>\n",
       "      <td>True</td>\n",
       "    </tr>\n",
       "    <tr>\n",
       "      <th>Roll UpWiz Khalifa</th>\n",
       "      <td>0.602</td>\n",
       "      <td>0.444165</td>\n",
       "      <td>False</td>\n",
       "      <td>False</td>\n",
       "    </tr>\n",
       "    <tr>\n",
       "      <th>...</th>\n",
       "      <td>...</td>\n",
       "      <td>...</td>\n",
       "      <td>...</td>\n",
       "      <td>...</td>\n",
       "    </tr>\n",
       "    <tr>\n",
       "      <th>Shut UpAriana Grande</th>\n",
       "      <td>0.599</td>\n",
       "      <td>0.362407</td>\n",
       "      <td>False</td>\n",
       "      <td>False</td>\n",
       "    </tr>\n",
       "    <tr>\n",
       "      <th>Sugar Don't BiteSam Harris</th>\n",
       "      <td>0.975</td>\n",
       "      <td>0.854600</td>\n",
       "      <td>True</td>\n",
       "      <td>True</td>\n",
       "    </tr>\n",
       "    <tr>\n",
       "      <th>Oh, How I Miss You TonightJeanne Black</th>\n",
       "      <td>0.110</td>\n",
       "      <td>0.355755</td>\n",
       "      <td>False</td>\n",
       "      <td>False</td>\n",
       "    </tr>\n",
       "    <tr>\n",
       "      <th>Summertime, SummertimeNocera</th>\n",
       "      <td>0.876</td>\n",
       "      <td>0.677565</td>\n",
       "      <td>True</td>\n",
       "      <td>False</td>\n",
       "    </tr>\n",
       "    <tr>\n",
       "      <th>Melody For An Unknown GirlThe Unknowns</th>\n",
       "      <td>0.630</td>\n",
       "      <td>0.663327</td>\n",
       "      <td>False</td>\n",
       "      <td>False</td>\n",
       "    </tr>\n",
       "  </tbody>\n",
       "</table>\n",
       "<p>2154 rows × 4 columns</p>\n",
       "</div>"
      ],
      "text/plain": [
       "                                           Original Test  Prediction Test  \\\n",
       "SongID                                                                      \n",
       "The Court RoomClarence Carter                      0.690         0.717226   \n",
       "We Fell In Love While DancingBill Brandon          0.855         0.691181   \n",
       "Forever My LadyJodeci                              0.771         0.672933   \n",
       "Isn't It Lonely TogetherRobert Knight              0.690         0.717226   \n",
       "Roll UpWiz Khalifa                                 0.602         0.444165   \n",
       "...                                                  ...              ...   \n",
       "Shut UpAriana Grande                               0.599         0.362407   \n",
       "Sugar Don't BiteSam Harris                         0.975         0.854600   \n",
       "Oh, How I Miss You TonightJeanne Black             0.110         0.355755   \n",
       "Summertime, SummertimeNocera                       0.876         0.677565   \n",
       "Melody For An Unknown GirlThe Unknowns             0.630         0.663327   \n",
       "\n",
       "                                           Original over Thrashold  \\\n",
       "SongID                                                               \n",
       "The Court RoomClarence Carter                                False   \n",
       "We Fell In Love While DancingBill Brandon                     True   \n",
       "Forever My LadyJodeci                                         True   \n",
       "Isn't It Lonely TogetherRobert Knight                        False   \n",
       "Roll UpWiz Khalifa                                           False   \n",
       "...                                                            ...   \n",
       "Shut UpAriana Grande                                         False   \n",
       "Sugar Don't BiteSam Harris                                    True   \n",
       "Oh, How I Miss You TonightJeanne Black                       False   \n",
       "Summertime, SummertimeNocera                                  True   \n",
       "Melody For An Unknown GirlThe Unknowns                       False   \n",
       "\n",
       "                                           Predicted over Thrashold  \n",
       "SongID                                                               \n",
       "The Court RoomClarence Carter                                  True  \n",
       "We Fell In Love While DancingBill Brandon                     False  \n",
       "Forever My LadyJodeci                                         False  \n",
       "Isn't It Lonely TogetherRobert Knight                          True  \n",
       "Roll UpWiz Khalifa                                            False  \n",
       "...                                                             ...  \n",
       "Shut UpAriana Grande                                          False  \n",
       "Sugar Don't BiteSam Harris                                     True  \n",
       "Oh, How I Miss You TonightJeanne Black                        False  \n",
       "Summertime, SummertimeNocera                                  False  \n",
       "Melody For An Unknown GirlThe Unknowns                        False  \n",
       "\n",
       "[2154 rows x 4 columns]"
      ]
     },
     "metadata": {},
     "output_type": "display_data"
    },
    {
     "data": {
      "image/png": "[encoded data removed]",
      "text/plain": [
       "<Figure size 640x480 with 2 Axes>"
      ]
     },
     "metadata": {},
     "output_type": "display_data"
    },
    {
     "data": {
      "application/vnd.microsoft.datawrangler.viewer.v0+json": {
       "columns": [
        {
         "name": "index",
         "rawType": "object",
         "type": "string"
        },
        {
         "name": "Value",
         "rawType": "float64",
         "type": "float"
        }
       ],
       "conversionMethod": "pd.DataFrame",
       "ref": "6b8b9966-c62c-4d06-9cad-4b2411b83233",
       "rows": [
        [
         "Accuracy",
         "0.79"
        ],
        [
         "Precision",
         "0.67"
        ],
        [
         "Recall",
         "0.73"
        ],
        [
         "F1-score",
         "0.7"
        ]
       ],
       "shape": {
        "columns": 1,
        "rows": 4
       }
      },
      "text/html": [
       "<div>\n",
       "<style scoped>\n",
       "    .dataframe tbody tr th:only-of-type {\n",
       "        vertical-align: middle;\n",
       "    }\n",
       "\n",
       "    .dataframe tbody tr th {\n",
       "        vertical-align: top;\n",
       "    }\n",
       "\n",
       "    .dataframe thead th {\n",
       "        text-align: right;\n",
       "    }\n",
       "</style>\n",
       "<table border=\"1\" class=\"dataframe\">\n",
       "  <thead>\n",
       "    <tr style=\"text-align: right;\">\n",
       "      <th></th>\n",
       "      <th>Value</th>\n",
       "    </tr>\n",
       "  </thead>\n",
       "  <tbody>\n",
       "    <tr>\n",
       "      <th>Accuracy</th>\n",
       "      <td>0.79</td>\n",
       "    </tr>\n",
       "    <tr>\n",
       "      <th>Precision</th>\n",
       "      <td>0.67</td>\n",
       "    </tr>\n",
       "    <tr>\n",
       "      <th>Recall</th>\n",
       "      <td>0.73</td>\n",
       "    </tr>\n",
       "    <tr>\n",
       "      <th>F1-score</th>\n",
       "      <td>0.70</td>\n",
       "    </tr>\n",
       "  </tbody>\n",
       "</table>\n",
       "</div>"
      ],
      "text/plain": [
       "           Value\n",
       "Accuracy    0.79\n",
       "Precision   0.67\n",
       "Recall      0.73\n",
       "F1-score    0.70"
      ]
     },
     "metadata": {},
     "output_type": "display_data"
    },
    {
     "name": "stdout",
     "output_type": "stream",
     "text": [
      "---------------------------------------------------------\n",
      "USER 3\n"
     ]
    },
    {
     "name": "stderr",
     "output_type": "stream",
     "text": [
      "C:\\Users\\elped\\AppData\\Local\\Temp\\ipykernel_5772\\2934058548.py:7: SettingWithCopyWarning: \n",
      "A value is trying to be set on a copy of a slice from a DataFrame.\n",
      "Try using .loc[row_indexer,col_indexer] = value instead\n",
      "\n",
      "See the caveats in the documentation: https://pandas.pydata.org/pandas-docs/stable/user_guide/indexing.html#returning-a-view-versus-a-copy\n",
      "  x[numerical_features] = StandardScaler().fit_transform(x[numerical_features])\n",
      "c:\\Users\\elped\\AppData\\Local\\Programs\\Python\\Python312\\Lib\\site-packages\\keras\\src\\layers\\core\\dense.py:87: UserWarning: Do not pass an `input_shape`/`input_dim` argument to a layer. When using Sequential models, prefer using an `Input(shape)` object as the first layer in the model instead.\n",
      "  super().__init__(activity_regularizer=activity_regularizer, **kwargs)\n"
     ]
    },
    {
     "name": "stdout",
     "output_type": "stream",
     "text": [
      "Epoch 1/100\n",
      "\u001b[1m90/90\u001b[0m \u001b[32m━━━━━━━━━━━━━━━━━━━━\u001b[0m\u001b[37m\u001b[0m \u001b[1m3s\u001b[0m 4ms/step - loss: 0.4854 - mae: 0.1980 - val_loss: 0.2836 - val_mae: 0.1800\n",
      "Epoch 2/100\n",
      "\u001b[1m90/90\u001b[0m \u001b[32m━━━━━━━━━━━━━━━━━━━━\u001b[0m\u001b[37m\u001b[0m \u001b[1m0s\u001b[0m 2ms/step - loss: 0.2424 - mae: 0.1767 - val_loss: 0.1467 - val_mae: 0.1704\n",
      "Epoch 3/100\n",
      "\u001b[1m90/90\u001b[0m \u001b[32m━━━━━━━━━━━━━━━━━━━━\u001b[0m\u001b[37m\u001b[0m \u001b[1m0s\u001b[0m 2ms/step - loss: 0.1271 - mae: 0.1647 - val_loss: 0.0828 - val_mae: 0.1588\n",
      "Epoch 4/100\n",
      "\u001b[1m90/90\u001b[0m \u001b[32m━━━━━━━━━━━━━━━━━━━━\u001b[0m\u001b[37m\u001b[0m \u001b[1m0s\u001b[0m 2ms/step - loss: 0.0766 - mae: 0.1607 - val_loss: 0.0557 - val_mae: 0.1530\n",
      "Epoch 5/100\n",
      "\u001b[1m90/90\u001b[0m \u001b[32m━━━━━━━━━━━━━━━━━━━━\u001b[0m\u001b[37m\u001b[0m \u001b[1m0s\u001b[0m 2ms/step - loss: 0.0523 - mae: 0.1505 - val_loss: 0.0446 - val_mae: 0.1482\n",
      "Epoch 6/100\n",
      "\u001b[1m90/90\u001b[0m \u001b[32m━━━━━━━━━━━━━━━━━━━━\u001b[0m\u001b[37m\u001b[0m \u001b[1m0s\u001b[0m 2ms/step - loss: 0.0454 - mae: 0.1513 - val_loss: 0.0404 - val_mae: 0.1461\n",
      "Epoch 7/100\n",
      "\u001b[1m90/90\u001b[0m \u001b[32m━━━━━━━━━━━━━━━━━━━━\u001b[0m\u001b[37m\u001b[0m \u001b[1m0s\u001b[0m 2ms/step - loss: 0.0410 - mae: 0.1463 - val_loss: 0.0389 - val_mae: 0.1460\n",
      "Epoch 8/100\n",
      "\u001b[1m90/90\u001b[0m \u001b[32m━━━━━━━━━━━━━━━━━━━━\u001b[0m\u001b[37m\u001b[0m \u001b[1m0s\u001b[0m 2ms/step - loss: 0.0407 - mae: 0.1494 - val_loss: 0.0378 - val_mae: 0.1433\n",
      "Epoch 9/100\n",
      "\u001b[1m90/90\u001b[0m \u001b[32m━━━━━━━━━━━━━━━━━━━━\u001b[0m\u001b[37m\u001b[0m \u001b[1m0s\u001b[0m 2ms/step - loss: 0.0391 - mae: 0.1453 - val_loss: 0.0372 - val_mae: 0.1426\n",
      "Epoch 10/100\n",
      "\u001b[1m90/90\u001b[0m \u001b[32m━━━━━━━━━━━━━━━━━━━━\u001b[0m\u001b[37m\u001b[0m \u001b[1m0s\u001b[0m 3ms/step - loss: 0.0374 - mae: 0.1416 - val_loss: 0.0367 - val_mae: 0.1408\n",
      "Epoch 11/100\n",
      "\u001b[1m90/90\u001b[0m \u001b[32m━━━━━━━━━━━━━━━━━━━━\u001b[0m\u001b[37m\u001b[0m \u001b[1m0s\u001b[0m 2ms/step - loss: 0.0380 - mae: 0.1437 - val_loss: 0.0366 - val_mae: 0.1423\n",
      "Epoch 12/100\n",
      "\u001b[1m90/90\u001b[0m \u001b[32m━━━━━━━━━━━━━━━━━━━━\u001b[0m\u001b[37m\u001b[0m \u001b[1m0s\u001b[0m 3ms/step - loss: 0.0379 - mae: 0.1444 - val_loss: 0.0364 - val_mae: 0.1421\n",
      "Epoch 13/100\n",
      "\u001b[1m90/90\u001b[0m \u001b[32m━━━━━━━━━━━━━━━━━━━━\u001b[0m\u001b[37m\u001b[0m \u001b[1m1s\u001b[0m 6ms/step - loss: 0.0369 - mae: 0.1416 - val_loss: 0.0359 - val_mae: 0.1409\n",
      "Epoch 14/100\n",
      "\u001b[1m90/90\u001b[0m \u001b[32m━━━━━━━━━━━━━━━━━━━━\u001b[0m\u001b[37m\u001b[0m \u001b[1m0s\u001b[0m 3ms/step - loss: 0.0373 - mae: 0.1447 - val_loss: 0.0357 - val_mae: 0.1423\n",
      "Epoch 15/100\n",
      "\u001b[1m90/90\u001b[0m \u001b[32m━━━━━━━━━━━━━━━━━━━━\u001b[0m\u001b[37m\u001b[0m \u001b[1m0s\u001b[0m 2ms/step - loss: 0.0370 - mae: 0.1420 - val_loss: 0.0359 - val_mae: 0.1418\n",
      "Epoch 16/100\n",
      "\u001b[1m90/90\u001b[0m \u001b[32m━━━━━━━━━━━━━━━━━━━━\u001b[0m\u001b[37m\u001b[0m \u001b[1m0s\u001b[0m 2ms/step - loss: 0.0378 - mae: 0.1451 - val_loss: 0.0354 - val_mae: 0.1398\n",
      "Epoch 17/100\n",
      "\u001b[1m90/90\u001b[0m \u001b[32m━━━━━━━━━━━━━━━━━━━━\u001b[0m\u001b[37m\u001b[0m \u001b[1m0s\u001b[0m 2ms/step - loss: 0.0366 - mae: 0.1427 - val_loss: 0.0349 - val_mae: 0.1383\n",
      "Epoch 18/100\n",
      "\u001b[1m90/90\u001b[0m \u001b[32m━━━━━━━━━━━━━━━━━━━━\u001b[0m\u001b[37m\u001b[0m \u001b[1m0s\u001b[0m 2ms/step - loss: 0.0377 - mae: 0.1449 - val_loss: 0.0353 - val_mae: 0.1421\n",
      "Epoch 19/100\n",
      "\u001b[1m90/90\u001b[0m \u001b[32m━━━━━━━━━━━━━━━━━━━━\u001b[0m\u001b[37m\u001b[0m \u001b[1m0s\u001b[0m 2ms/step - loss: 0.0368 - mae: 0.1437 - val_loss: 0.0348 - val_mae: 0.1390\n",
      "Epoch 20/100\n",
      "\u001b[1m90/90\u001b[0m \u001b[32m━━━━━━━━━━━━━━━━━━━━\u001b[0m\u001b[37m\u001b[0m \u001b[1m0s\u001b[0m 2ms/step - loss: 0.0369 - mae: 0.1419 - val_loss: 0.0345 - val_mae: 0.1372\n",
      "Epoch 21/100\n",
      "\u001b[1m90/90\u001b[0m \u001b[32m━━━━━━━━━━━━━━━━━━━━\u001b[0m\u001b[37m\u001b[0m \u001b[1m0s\u001b[0m 3ms/step - loss: 0.0364 - mae: 0.1427 - val_loss: 0.0345 - val_mae: 0.1389\n",
      "Epoch 22/100\n",
      "\u001b[1m90/90\u001b[0m \u001b[32m━━━━━━━━━━━━━━━━━━━━\u001b[0m\u001b[37m\u001b[0m \u001b[1m1s\u001b[0m 8ms/step - loss: 0.0350 - mae: 0.1387 - val_loss: 0.0343 - val_mae: 0.1390\n",
      "Epoch 23/100\n",
      "\u001b[1m90/90\u001b[0m \u001b[32m━━━━━━━━━━━━━━━━━━━━\u001b[0m\u001b[37m\u001b[0m \u001b[1m1s\u001b[0m 3ms/step - loss: 0.0350 - mae: 0.1385 - val_loss: 0.0344 - val_mae: 0.1405\n",
      "Epoch 24/100\n",
      "\u001b[1m90/90\u001b[0m \u001b[32m━━━━━━━━━━━━━━━━━━━━\u001b[0m\u001b[37m\u001b[0m \u001b[1m0s\u001b[0m 2ms/step - loss: 0.0375 - mae: 0.1447 - val_loss: 0.0345 - val_mae: 0.1407\n",
      "Epoch 25/100\n",
      "\u001b[1m90/90\u001b[0m \u001b[32m━━━━━━━━━━━━━━━━━━━━\u001b[0m\u001b[37m\u001b[0m \u001b[1m0s\u001b[0m 4ms/step - loss: 0.0369 - mae: 0.1448 - val_loss: 0.0339 - val_mae: 0.1382\n",
      "Epoch 26/100\n",
      "\u001b[1m90/90\u001b[0m \u001b[32m━━━━━━━━━━━━━━━━━━━━\u001b[0m\u001b[37m\u001b[0m \u001b[1m1s\u001b[0m 4ms/step - loss: 0.0364 - mae: 0.1431 - val_loss: 0.0341 - val_mae: 0.1392\n",
      "Epoch 27/100\n",
      "\u001b[1m90/90\u001b[0m \u001b[32m━━━━━━━━━━━━━━━━━━━━\u001b[0m\u001b[37m\u001b[0m \u001b[1m1s\u001b[0m 2ms/step - loss: 0.0362 - mae: 0.1423 - val_loss: 0.0343 - val_mae: 0.1400\n",
      "Epoch 28/100\n",
      "\u001b[1m90/90\u001b[0m \u001b[32m━━━━━━━━━━━━━━━━━━━━\u001b[0m\u001b[37m\u001b[0m \u001b[1m0s\u001b[0m 2ms/step - loss: 0.0356 - mae: 0.1396 - val_loss: 0.0332 - val_mae: 0.1353\n",
      "Epoch 29/100\n",
      "\u001b[1m90/90\u001b[0m \u001b[32m━━━━━━━━━━━━━━━━━━━━\u001b[0m\u001b[37m\u001b[0m \u001b[1m0s\u001b[0m 2ms/step - loss: 0.0349 - mae: 0.1381 - val_loss: 0.0334 - val_mae: 0.1369\n",
      "Epoch 30/100\n",
      "\u001b[1m90/90\u001b[0m \u001b[32m━━━━━━━━━━━━━━━━━━━━\u001b[0m\u001b[37m\u001b[0m \u001b[1m0s\u001b[0m 3ms/step - loss: 0.0350 - mae: 0.1408 - val_loss: 0.0337 - val_mae: 0.1394\n",
      "Epoch 31/100\n",
      "\u001b[1m90/90\u001b[0m \u001b[32m━━━━━━━━━━━━━━━━━━━━\u001b[0m\u001b[37m\u001b[0m \u001b[1m0s\u001b[0m 2ms/step - loss: 0.0356 - mae: 0.1404 - val_loss: 0.0334 - val_mae: 0.1367\n",
      "Epoch 32/100\n",
      "\u001b[1m90/90\u001b[0m \u001b[32m━━━━━━━━━━━━━━━━━━━━\u001b[0m\u001b[37m\u001b[0m \u001b[1m0s\u001b[0m 2ms/step - loss: 0.0347 - mae: 0.1381 - val_loss: 0.0330 - val_mae: 0.1364\n",
      "Epoch 33/100\n",
      "\u001b[1m90/90\u001b[0m \u001b[32m━━━━━━━━━━━━━━━━━━━━\u001b[0m\u001b[37m\u001b[0m \u001b[1m0s\u001b[0m 2ms/step - loss: 0.0354 - mae: 0.1406 - val_loss: 0.0331 - val_mae: 0.1356\n",
      "Epoch 34/100\n",
      "\u001b[1m90/90\u001b[0m \u001b[32m━━━━━━━━━━━━━━━━━━━━\u001b[0m\u001b[37m\u001b[0m \u001b[1m0s\u001b[0m 2ms/step - loss: 0.0367 - mae: 0.1429 - val_loss: 0.0330 - val_mae: 0.1353\n",
      "Epoch 35/100\n",
      "\u001b[1m90/90\u001b[0m \u001b[32m━━━━━━━━━━━━━━━━━━━━\u001b[0m\u001b[37m\u001b[0m \u001b[1m0s\u001b[0m 2ms/step - loss: 0.0347 - mae: 0.1400 - val_loss: 0.0341 - val_mae: 0.1409\n",
      "Epoch 36/100\n",
      "\u001b[1m90/90\u001b[0m \u001b[32m━━━━━━━━━━━━━━━━━━━━\u001b[0m\u001b[37m\u001b[0m \u001b[1m0s\u001b[0m 2ms/step - loss: 0.0344 - mae: 0.1387 - val_loss: 0.0329 - val_mae: 0.1365\n",
      "Epoch 37/100\n",
      "\u001b[1m90/90\u001b[0m \u001b[32m━━━━━━━━━━━━━━━━━━━━\u001b[0m\u001b[37m\u001b[0m \u001b[1m0s\u001b[0m 2ms/step - loss: 0.0357 - mae: 0.1420 - val_loss: 0.0325 - val_mae: 0.1348\n",
      "Epoch 38/100\n",
      "\u001b[1m90/90\u001b[0m \u001b[32m━━━━━━━━━━━━━━━━━━━━\u001b[0m\u001b[37m\u001b[0m \u001b[1m0s\u001b[0m 2ms/step - loss: 0.0346 - mae: 0.1383 - val_loss: 0.0326 - val_mae: 0.1360\n",
      "Epoch 39/100\n",
      "\u001b[1m90/90\u001b[0m \u001b[32m━━━━━━━━━━━━━━━━━━━━\u001b[0m\u001b[37m\u001b[0m \u001b[1m0s\u001b[0m 3ms/step - loss: 0.0349 - mae: 0.1398 - val_loss: 0.0326 - val_mae: 0.1344\n",
      "Epoch 40/100\n",
      "\u001b[1m90/90\u001b[0m \u001b[32m━━━━━━━━━━━━━━━━━━━━\u001b[0m\u001b[37m\u001b[0m \u001b[1m0s\u001b[0m 2ms/step - loss: 0.0355 - mae: 0.1411 - val_loss: 0.0328 - val_mae: 0.1384\n",
      "Epoch 41/100\n",
      "\u001b[1m90/90\u001b[0m \u001b[32m━━━━━━━━━━━━━━━━━━━━\u001b[0m\u001b[37m\u001b[0m \u001b[1m0s\u001b[0m 3ms/step - loss: 0.0342 - mae: 0.1390 - val_loss: 0.0325 - val_mae: 0.1356\n",
      "Epoch 42/100\n",
      "\u001b[1m90/90\u001b[0m \u001b[32m━━━━━━━━━━━━━━━━━━━━\u001b[0m\u001b[37m\u001b[0m \u001b[1m0s\u001b[0m 3ms/step - loss: 0.0340 - mae: 0.1370 - val_loss: 0.0330 - val_mae: 0.1387\n",
      "Epoch 43/100\n",
      "\u001b[1m90/90\u001b[0m \u001b[32m━━━━━━━━━━━━━━━━━━━━\u001b[0m\u001b[37m\u001b[0m \u001b[1m1s\u001b[0m 6ms/step - loss: 0.0352 - mae: 0.1412 - val_loss: 0.0329 - val_mae: 0.1354\n",
      "Epoch 44/100\n",
      "\u001b[1m90/90\u001b[0m \u001b[32m━━━━━━━━━━━━━━━━━━━━\u001b[0m\u001b[37m\u001b[0m \u001b[1m0s\u001b[0m 2ms/step - loss: 0.0353 - mae: 0.1415 - val_loss: 0.0326 - val_mae: 0.1348\n",
      "Epoch 45/100\n",
      "\u001b[1m90/90\u001b[0m \u001b[32m━━━━━━━━━━━━━━━━━━━━\u001b[0m\u001b[37m\u001b[0m \u001b[1m0s\u001b[0m 2ms/step - loss: 0.0323 - mae: 0.1330 - val_loss: 0.0322 - val_mae: 0.1352\n",
      "Epoch 46/100\n",
      "\u001b[1m90/90\u001b[0m \u001b[32m━━━━━━━━━━━━━━━━━━━━\u001b[0m\u001b[37m\u001b[0m \u001b[1m0s\u001b[0m 3ms/step - loss: 0.0351 - mae: 0.1401 - val_loss: 0.0322 - val_mae: 0.1360\n",
      "Epoch 47/100\n",
      "\u001b[1m90/90\u001b[0m \u001b[32m━━━━━━━━━━━━━━━━━━━━\u001b[0m\u001b[37m\u001b[0m \u001b[1m0s\u001b[0m 2ms/step - loss: 0.0339 - mae: 0.1382 - val_loss: 0.0321 - val_mae: 0.1347\n",
      "Epoch 48/100\n",
      "\u001b[1m90/90\u001b[0m \u001b[32m━━━━━━━━━━━━━━━━━━━━\u001b[0m\u001b[37m\u001b[0m \u001b[1m0s\u001b[0m 3ms/step - loss: 0.0348 - mae: 0.1408 - val_loss: 0.0331 - val_mae: 0.1389\n",
      "Epoch 49/100\n",
      "\u001b[1m90/90\u001b[0m \u001b[32m━━━━━━━━━━━━━━━━━━━━\u001b[0m\u001b[37m\u001b[0m \u001b[1m0s\u001b[0m 2ms/step - loss: 0.0338 - mae: 0.1377 - val_loss: 0.0321 - val_mae: 0.1350\n",
      "Epoch 50/100\n",
      "\u001b[1m90/90\u001b[0m \u001b[32m━━━━━━━━━━━━━━━━━━━━\u001b[0m\u001b[37m\u001b[0m \u001b[1m0s\u001b[0m 2ms/step - loss: 0.0337 - mae: 0.1384 - val_loss: 0.0319 - val_mae: 0.1353\n",
      "Epoch 51/100\n",
      "\u001b[1m90/90\u001b[0m \u001b[32m━━━━━━━━━━━━━━━━━━━━\u001b[0m\u001b[37m\u001b[0m \u001b[1m0s\u001b[0m 2ms/step - loss: 0.0336 - mae: 0.1381 - val_loss: 0.0322 - val_mae: 0.1356\n",
      "Epoch 52/100\n",
      "\u001b[1m90/90\u001b[0m \u001b[32m━━━━━━━━━━━━━━━━━━━━\u001b[0m\u001b[37m\u001b[0m \u001b[1m0s\u001b[0m 2ms/step - loss: 0.0336 - mae: 0.1386 - val_loss: 0.0321 - val_mae: 0.1344\n",
      "Epoch 53/100\n",
      "\u001b[1m90/90\u001b[0m \u001b[32m━━━━━━━━━━━━━━━━━━━━\u001b[0m\u001b[37m\u001b[0m \u001b[1m0s\u001b[0m 2ms/step - loss: 0.0342 - mae: 0.1384 - val_loss: 0.0321 - val_mae: 0.1365\n",
      "Epoch 54/100\n",
      "\u001b[1m90/90\u001b[0m \u001b[32m━━━━━━━━━━━━━━━━━━━━\u001b[0m\u001b[37m\u001b[0m \u001b[1m0s\u001b[0m 2ms/step - loss: 0.0335 - mae: 0.1375 - val_loss: 0.0326 - val_mae: 0.1359\n",
      "Epoch 55/100\n",
      "\u001b[1m90/90\u001b[0m \u001b[32m━━━━━━━━━━━━━━━━━━━━\u001b[0m\u001b[37m\u001b[0m \u001b[1m0s\u001b[0m 2ms/step - loss: 0.0328 - mae: 0.1380 - val_loss: 0.0320 - val_mae: 0.1361\n",
      "Epoch 56/100\n",
      "\u001b[1m90/90\u001b[0m \u001b[32m━━━━━━━━━━━━━━━━━━━━\u001b[0m\u001b[37m\u001b[0m \u001b[1m0s\u001b[0m 4ms/step - loss: 0.0339 - mae: 0.1392 - val_loss: 0.0318 - val_mae: 0.1355\n",
      "Epoch 57/100\n",
      "\u001b[1m90/90\u001b[0m \u001b[32m━━━━━━━━━━━━━━━━━━━━\u001b[0m\u001b[37m\u001b[0m \u001b[1m0s\u001b[0m 2ms/step - loss: 0.0337 - mae: 0.1388 - val_loss: 0.0315 - val_mae: 0.1324\n",
      "Epoch 58/100\n",
      "\u001b[1m90/90\u001b[0m \u001b[32m━━━━━━━━━━━━━━━━━━━━\u001b[0m\u001b[37m\u001b[0m \u001b[1m0s\u001b[0m 2ms/step - loss: 0.0345 - mae: 0.1390 - val_loss: 0.0319 - val_mae: 0.1347\n",
      "Epoch 59/100\n",
      "\u001b[1m90/90\u001b[0m \u001b[32m━━━━━━━━━━━━━━━━━━━━\u001b[0m\u001b[37m\u001b[0m \u001b[1m0s\u001b[0m 2ms/step - loss: 0.0339 - mae: 0.1377 - val_loss: 0.0318 - val_mae: 0.1340\n",
      "Epoch 60/100\n",
      "\u001b[1m90/90\u001b[0m \u001b[32m━━━━━━━━━━━━━━━━━━━━\u001b[0m\u001b[37m\u001b[0m \u001b[1m0s\u001b[0m 2ms/step - loss: 0.0351 - mae: 0.1405 - val_loss: 0.0329 - val_mae: 0.1352\n",
      "Epoch 61/100\n",
      "\u001b[1m90/90\u001b[0m \u001b[32m━━━━━━━━━━━━━━━━━━━━\u001b[0m\u001b[37m\u001b[0m \u001b[1m0s\u001b[0m 2ms/step - loss: 0.0341 - mae: 0.1381 - val_loss: 0.0322 - val_mae: 0.1370\n",
      "Epoch 62/100\n",
      "\u001b[1m90/90\u001b[0m \u001b[32m━━━━━━━━━━━━━━━━━━━━\u001b[0m\u001b[37m\u001b[0m \u001b[1m0s\u001b[0m 2ms/step - loss: 0.0342 - mae: 0.1397 - val_loss: 0.0317 - val_mae: 0.1335\n",
      "Epoch 63/100\n",
      "\u001b[1m90/90\u001b[0m \u001b[32m━━━━━━━━━━━━━━━━━━━━\u001b[0m\u001b[37m\u001b[0m \u001b[1m0s\u001b[0m 2ms/step - loss: 0.0335 - mae: 0.1370 - val_loss: 0.0321 - val_mae: 0.1380\n",
      "Epoch 64/100\n",
      "\u001b[1m90/90\u001b[0m \u001b[32m━━━━━━━━━━━━━━━━━━━━\u001b[0m\u001b[37m\u001b[0m \u001b[1m0s\u001b[0m 2ms/step - loss: 0.0336 - mae: 0.1379 - val_loss: 0.0314 - val_mae: 0.1326\n",
      "Epoch 65/100\n",
      "\u001b[1m90/90\u001b[0m \u001b[32m━━━━━━━━━━━━━━━━━━━━\u001b[0m\u001b[37m\u001b[0m \u001b[1m0s\u001b[0m 2ms/step - loss: 0.0337 - mae: 0.1384 - val_loss: 0.0319 - val_mae: 0.1358\n",
      "Epoch 66/100\n",
      "\u001b[1m90/90\u001b[0m \u001b[32m━━━━━━━━━━━━━━━━━━━━\u001b[0m\u001b[37m\u001b[0m \u001b[1m0s\u001b[0m 2ms/step - loss: 0.0332 - mae: 0.1383 - val_loss: 0.0312 - val_mae: 0.1331\n",
      "Epoch 67/100\n",
      "\u001b[1m90/90\u001b[0m \u001b[32m━━━━━━━━━━━━━━━━━━━━\u001b[0m\u001b[37m\u001b[0m \u001b[1m0s\u001b[0m 2ms/step - loss: 0.0349 - mae: 0.1418 - val_loss: 0.0313 - val_mae: 0.1341\n",
      "Epoch 68/100\n",
      "\u001b[1m90/90\u001b[0m \u001b[32m━━━━━━━━━━━━━━━━━━━━\u001b[0m\u001b[37m\u001b[0m \u001b[1m0s\u001b[0m 2ms/step - loss: 0.0343 - mae: 0.1403 - val_loss: 0.0317 - val_mae: 0.1353\n",
      "Epoch 69/100\n",
      "\u001b[1m90/90\u001b[0m \u001b[32m━━━━━━━━━━━━━━━━━━━━\u001b[0m\u001b[37m\u001b[0m \u001b[1m0s\u001b[0m 2ms/step - loss: 0.0338 - mae: 0.1372 - val_loss: 0.0313 - val_mae: 0.1334\n",
      "Epoch 70/100\n",
      "\u001b[1m90/90\u001b[0m \u001b[32m━━━━━━━━━━━━━━━━━━━━\u001b[0m\u001b[37m\u001b[0m \u001b[1m0s\u001b[0m 2ms/step - loss: 0.0341 - mae: 0.1392 - val_loss: 0.0314 - val_mae: 0.1345\n",
      "Epoch 71/100\n",
      "\u001b[1m90/90\u001b[0m \u001b[32m━━━━━━━━━━━━━━━━━━━━\u001b[0m\u001b[37m\u001b[0m \u001b[1m0s\u001b[0m 2ms/step - loss: 0.0326 - mae: 0.1361 - val_loss: 0.0311 - val_mae: 0.1345\n",
      "Epoch 72/100\n",
      "\u001b[1m90/90\u001b[0m \u001b[32m━━━━━━━━━━━━━━━━━━━━\u001b[0m\u001b[37m\u001b[0m \u001b[1m0s\u001b[0m 2ms/step - loss: 0.0329 - mae: 0.1362 - val_loss: 0.0314 - val_mae: 0.1333\n",
      "Epoch 73/100\n",
      "\u001b[1m90/90\u001b[0m \u001b[32m━━━━━━━━━━━━━━━━━━━━\u001b[0m\u001b[37m\u001b[0m \u001b[1m0s\u001b[0m 3ms/step - loss: 0.0327 - mae: 0.1355 - val_loss: 0.0314 - val_mae: 0.1333\n",
      "Epoch 74/100\n",
      "\u001b[1m90/90\u001b[0m \u001b[32m━━━━━━━━━━━━━━━━━━━━\u001b[0m\u001b[37m\u001b[0m \u001b[1m0s\u001b[0m 2ms/step - loss: 0.0337 - mae: 0.1380 - val_loss: 0.0313 - val_mae: 0.1337\n",
      "Epoch 75/100\n",
      "\u001b[1m90/90\u001b[0m \u001b[32m━━━━━━━━━━━━━━━━━━━━\u001b[0m\u001b[37m\u001b[0m \u001b[1m0s\u001b[0m 2ms/step - loss: 0.0335 - mae: 0.1383 - val_loss: 0.0314 - val_mae: 0.1353\n",
      "Epoch 76/100\n",
      "\u001b[1m90/90\u001b[0m \u001b[32m━━━━━━━━━━━━━━━━━━━━\u001b[0m\u001b[37m\u001b[0m \u001b[1m0s\u001b[0m 2ms/step - loss: 0.0323 - mae: 0.1348 - val_loss: 0.0312 - val_mae: 0.1344\n",
      "Epoch 77/100\n",
      "\u001b[1m90/90\u001b[0m \u001b[32m━━━━━━━━━━━━━━━━━━━━\u001b[0m\u001b[37m\u001b[0m \u001b[1m0s\u001b[0m 2ms/step - loss: 0.0332 - mae: 0.1378 - val_loss: 0.0312 - val_mae: 0.1334\n",
      "Epoch 78/100\n",
      "\u001b[1m90/90\u001b[0m \u001b[32m━━━━━━━━━━━━━━━━━━━━\u001b[0m\u001b[37m\u001b[0m \u001b[1m0s\u001b[0m 2ms/step - loss: 0.0324 - mae: 0.1351 - val_loss: 0.0311 - val_mae: 0.1322\n",
      "Epoch 79/100\n",
      "\u001b[1m90/90\u001b[0m \u001b[32m━━━━━━━━━━━━━━━━━━━━\u001b[0m\u001b[37m\u001b[0m \u001b[1m0s\u001b[0m 2ms/step - loss: 0.0321 - mae: 0.1347 - val_loss: 0.0310 - val_mae: 0.1323\n",
      "Epoch 80/100\n",
      "\u001b[1m90/90\u001b[0m \u001b[32m━━━━━━━━━━━━━━━━━━━━\u001b[0m\u001b[37m\u001b[0m \u001b[1m0s\u001b[0m 2ms/step - loss: 0.0327 - mae: 0.1354 - val_loss: 0.0322 - val_mae: 0.1384\n",
      "Epoch 81/100\n",
      "\u001b[1m90/90\u001b[0m \u001b[32m━━━━━━━━━━━━━━━━━━━━\u001b[0m\u001b[37m\u001b[0m \u001b[1m0s\u001b[0m 2ms/step - loss: 0.0330 - mae: 0.1365 - val_loss: 0.0312 - val_mae: 0.1348\n",
      "Epoch 82/100\n",
      "\u001b[1m90/90\u001b[0m \u001b[32m━━━━━━━━━━━━━━━━━━━━\u001b[0m\u001b[37m\u001b[0m \u001b[1m0s\u001b[0m 2ms/step - loss: 0.0339 - mae: 0.1401 - val_loss: 0.0312 - val_mae: 0.1351\n",
      "Epoch 83/100\n",
      "\u001b[1m90/90\u001b[0m \u001b[32m━━━━━━━━━━━━━━━━━━━━\u001b[0m\u001b[37m\u001b[0m \u001b[1m0s\u001b[0m 2ms/step - loss: 0.0335 - mae: 0.1394 - val_loss: 0.0312 - val_mae: 0.1344\n",
      "Epoch 84/100\n",
      "\u001b[1m90/90\u001b[0m \u001b[32m━━━━━━━━━━━━━━━━━━━━\u001b[0m\u001b[37m\u001b[0m \u001b[1m0s\u001b[0m 2ms/step - loss: 0.0324 - mae: 0.1357 - val_loss: 0.0309 - val_mae: 0.1333\n",
      "Epoch 85/100\n",
      "\u001b[1m90/90\u001b[0m \u001b[32m━━━━━━━━━━━━━━━━━━━━\u001b[0m\u001b[37m\u001b[0m \u001b[1m0s\u001b[0m 2ms/step - loss: 0.0337 - mae: 0.1396 - val_loss: 0.0312 - val_mae: 0.1325\n",
      "Epoch 86/100\n",
      "\u001b[1m90/90\u001b[0m \u001b[32m━━━━━━━━━━━━━━━━━━━━\u001b[0m\u001b[37m\u001b[0m \u001b[1m0s\u001b[0m 2ms/step - loss: 0.0324 - mae: 0.1351 - val_loss: 0.0311 - val_mae: 0.1328\n",
      "Epoch 87/100\n",
      "\u001b[1m90/90\u001b[0m \u001b[32m━━━━━━━━━━━━━━━━━━━━\u001b[0m\u001b[37m\u001b[0m \u001b[1m0s\u001b[0m 2ms/step - loss: 0.0314 - mae: 0.1336 - val_loss: 0.0313 - val_mae: 0.1336\n",
      "Epoch 88/100\n",
      "\u001b[1m90/90\u001b[0m \u001b[32m━━━━━━━━━━━━━━━━━━━━\u001b[0m\u001b[37m\u001b[0m \u001b[1m0s\u001b[0m 2ms/step - loss: 0.0323 - mae: 0.1335 - val_loss: 0.0311 - val_mae: 0.1339\n",
      "Epoch 89/100\n",
      "\u001b[1m90/90\u001b[0m \u001b[32m━━━━━━━━━━━━━━━━━━━━\u001b[0m\u001b[37m\u001b[0m \u001b[1m0s\u001b[0m 2ms/step - loss: 0.0329 - mae: 0.1359 - val_loss: 0.0312 - val_mae: 0.1334\n",
      "Epoch 90/100\n",
      "\u001b[1m90/90\u001b[0m \u001b[32m━━━━━━━━━━━━━━━━━━━━\u001b[0m\u001b[37m\u001b[0m \u001b[1m0s\u001b[0m 2ms/step - loss: 0.0313 - mae: 0.1331 - val_loss: 0.0319 - val_mae: 0.1352\n",
      "Epoch 91/100\n",
      "\u001b[1m90/90\u001b[0m \u001b[32m━━━━━━━━━━━━━━━━━━━━\u001b[0m\u001b[37m\u001b[0m \u001b[1m0s\u001b[0m 3ms/step - loss: 0.0315 - mae: 0.1322 - val_loss: 0.0309 - val_mae: 0.1335\n",
      "Epoch 92/100\n",
      "\u001b[1m90/90\u001b[0m \u001b[32m━━━━━━━━━━━━━━━━━━━━\u001b[0m\u001b[37m\u001b[0m \u001b[1m0s\u001b[0m 2ms/step - loss: 0.0325 - mae: 0.1367 - val_loss: 0.0308 - val_mae: 0.1317\n",
      "Epoch 93/100\n",
      "\u001b[1m90/90\u001b[0m \u001b[32m━━━━━━━━━━━━━━━━━━━━\u001b[0m\u001b[37m\u001b[0m \u001b[1m0s\u001b[0m 2ms/step - loss: 0.0309 - mae: 0.1322 - val_loss: 0.0309 - val_mae: 0.1328\n",
      "Epoch 94/100\n",
      "\u001b[1m90/90\u001b[0m \u001b[32m━━━━━━━━━━━━━━━━━━━━\u001b[0m\u001b[37m\u001b[0m \u001b[1m0s\u001b[0m 2ms/step - loss: 0.0334 - mae: 0.1374 - val_loss: 0.0306 - val_mae: 0.1326\n",
      "Epoch 95/100\n",
      "\u001b[1m90/90\u001b[0m \u001b[32m━━━━━━━━━━━━━━━━━━━━\u001b[0m\u001b[37m\u001b[0m \u001b[1m0s\u001b[0m 3ms/step - loss: 0.0314 - mae: 0.1339 - val_loss: 0.0314 - val_mae: 0.1343\n",
      "Epoch 96/100\n",
      "\u001b[1m90/90\u001b[0m \u001b[32m━━━━━━━━━━━━━━━━━━━━\u001b[0m\u001b[37m\u001b[0m \u001b[1m0s\u001b[0m 2ms/step - loss: 0.0323 - mae: 0.1360 - val_loss: 0.0308 - val_mae: 0.1310\n",
      "Epoch 97/100\n",
      "\u001b[1m90/90\u001b[0m \u001b[32m━━━━━━━━━━━━━━━━━━━━\u001b[0m\u001b[37m\u001b[0m \u001b[1m0s\u001b[0m 2ms/step - loss: 0.0320 - mae: 0.1339 - val_loss: 0.0313 - val_mae: 0.1355\n",
      "Epoch 98/100\n",
      "\u001b[1m90/90\u001b[0m \u001b[32m━━━━━━━━━━━━━━━━━━━━\u001b[0m\u001b[37m\u001b[0m \u001b[1m0s\u001b[0m 2ms/step - loss: 0.0313 - mae: 0.1326 - val_loss: 0.0325 - val_mae: 0.1392\n",
      "Epoch 99/100\n",
      "\u001b[1m90/90\u001b[0m \u001b[32m━━━━━━━━━━━━━━━━━━━━\u001b[0m\u001b[37m\u001b[0m \u001b[1m0s\u001b[0m 2ms/step - loss: 0.0330 - mae: 0.1359 - val_loss: 0.0315 - val_mae: 0.1351\n",
      "Epoch 100/100\n",
      "\u001b[1m90/90\u001b[0m \u001b[32m━━━━━━━━━━━━━━━━━━━━\u001b[0m\u001b[37m\u001b[0m \u001b[1m0s\u001b[0m 2ms/step - loss: 0.0323 - mae: 0.1355 - val_loss: 0.0304 - val_mae: 0.1328\n",
      "\u001b[1m23/23\u001b[0m \u001b[32m━━━━━━━━━━━━━━━━━━━━\u001b[0m\u001b[37m\u001b[0m \u001b[1m0s\u001b[0m 3ms/step\n"
     ]
    },
    {
     "data": {
      "image/png": "[encoded data removed]",
      "text/plain": [
       "<Figure size 640x480 with 1 Axes>"
      ]
     },
     "metadata": {},
     "output_type": "display_data"
    },
    {
     "data": {
      "image/png": "[encoded data removed]",
      "text/plain": [
       "<Figure size 640x480 with 1 Axes>"
      ]
     },
     "metadata": {},
     "output_type": "display_data"
    },
    {
     "name": "stdout",
     "output_type": "stream",
     "text": [
      "\u001b[1m23/23\u001b[0m \u001b[32m━━━━━━━━━━━━━━━━━━━━\u001b[0m\u001b[37m\u001b[0m \u001b[1m0s\u001b[0m 1ms/step - loss: 0.0323 - mae: 0.1387 \n",
      "MSE:  0.030367745086550713\n",
      "MAE: 0.13276533782482147\n"
     ]
    },
    {
     "data": {
      "application/vnd.microsoft.datawrangler.viewer.v0+json": {
       "columns": [
        {
         "name": "SongID",
         "rawType": "object",
         "type": "string"
        },
        {
         "name": "Original Test",
         "rawType": "float64",
         "type": "float"
        },
        {
         "name": "Prediction Test",
         "rawType": "float32",
         "type": "float"
        },
        {
         "name": "Original over Thrashold",
         "rawType": "bool",
         "type": "boolean"
        },
        {
         "name": "Predicted over Thrashold",
         "rawType": "bool",
         "type": "boolean"
        }
       ],
       "conversionMethod": "pd.DataFrame",
       "ref": "8a67beec-2983-4e1a-bd21-3db52214d5b1",
       "rows": [
        [
         "Can't Let You Out Of My SightChuck Jackson & Maxine Brown",
         "0.453",
         "0.80197775",
         "False",
         "True"
        ],
        [
         "It's All Coming Back To Me NowCeline Dion",
         "0.2859999999999999",
         "0.25907314",
         "False",
         "False"
        ],
        [
         "Birthday CakeRihanna Featuring Chris Brown",
         "0.329",
         "0.79347116",
         "False",
         "True"
        ],
        [
         "Jack The RipperLink Wray And The Wraymen",
         "0.2919999999999999",
         "0.52699924",
         "False",
         "False"
        ],
        [
         "Little StarThe Elegants",
         "0.697",
         "0.4538994",
         "False",
         "False"
        ],
        [
         "My LoveThe-Dream Featuring Mariah Carey",
         "0.314",
         "0.40836063",
         "False",
         "False"
        ],
        [
         "I Knew You Were Trouble.Taylor Swift",
         "0.679",
         "0.3956704",
         "False",
         "False"
        ],
        [
         "A House Is Not A HomeBrook Benton",
         "0.3059999999999999",
         "0.43321982",
         "False",
         "False"
        ],
        [
         "Hey Ya!OutKast",
         "0.965",
         "0.6283154",
         "True",
         "False"
        ],
        [
         "High EnoughDamn Yankees",
         "0.232",
         "0.31187698",
         "False",
         "False"
        ],
        [
         "More Girls Like YouKip Moore",
         "0.7119999999999999",
         "0.6013143",
         "True",
         "False"
        ],
        [
         "ApologizeEd Ames",
         "0.4859999999999999",
         "0.5819876",
         "False",
         "False"
        ],
        [
         "I Dreamed A DreamSusan Boyle",
         "0.113",
         "0.27405453",
         "False",
         "False"
        ],
        [
         "In The House Of Stone And LightMartin Page",
         "0.791",
         "0.70369905",
         "True",
         "True"
        ],
        [
         "It's GoodLil Wayne Featuring Drake & Jadakiss",
         "0.1",
         "0.5532744",
         "False",
         "False"
        ],
        [
         "Do The BirdDee Dee Sharp",
         "0.929",
         "0.7364434",
         "True",
         "True"
        ],
        [
         "Good Morning BeautifulSteve Holy",
         "0.2419999999999999",
         "0.44815984",
         "False",
         "False"
        ],
        [
         "Thinking Out LoudEd Sheeran",
         "0.5909999999999999",
         "0.44600838",
         "False",
         "False"
        ],
        [
         "You Got SoulJohnny Nash",
         "0.641",
         "0.6409455",
         "False",
         "False"
        ],
        [
         "Look It UpAshton Shepherd",
         "0.658",
         "0.734069",
         "False",
         "True"
        ],
        [
         "Solitary ManNeil Diamond",
         "0.82",
         "0.61590576",
         "True",
         "False"
        ],
        [
         "BabelMumford & Sons",
         "0.647",
         "0.5205291",
         "False",
         "False"
        ],
        [
         "I Can't Do It By MyselfAnita Bryant",
         "0.787",
         "0.5697396",
         "True",
         "False"
        ],
        [
         "A Million And OneDean Martin",
         "0.4229999999999999",
         "0.2672863",
         "False",
         "False"
        ],
        [
         "Get It RightGlee Cast",
         "0.1409999999999999",
         "0.34891644",
         "False",
         "False"
        ],
        [
         "LatelyTyrese",
         "0.334",
         "0.5361546",
         "False",
         "False"
        ],
        [
         "QuickieMiguel",
         "0.647",
         "0.38312474",
         "False",
         "False"
        ],
        [
         "Good Enough To Be Your WifeJeannie C. Riley",
         "0.746",
         "0.78388906",
         "True",
         "True"
        ],
        [
         "AlwaysFirefall",
         "0.629",
         "0.55033803",
         "False",
         "False"
        ],
        [
         "Glory Of LoveDon Gardner And Dee Dee Ford",
         "0.48",
         "0.77405334",
         "False",
         "True"
        ],
        [
         "Crazy About The La La LaSmokey Robinson & The Miracles",
         "0.916",
         "0.7419701",
         "True",
         "True"
        ],
        [
         "If I Were A CarpenterJohnny Cash & June Carter",
         "0.685",
         "0.38856122",
         "False",
         "False"
        ],
        [
         "SuzanneNoel Harrison",
         "0.672",
         "0.50688136",
         "False",
         "False"
        ],
        [
         "Nutbush City LimitsIke & Tina Turner",
         "0.945",
         "0.8006592",
         "True",
         "True"
        ],
        [
         "You're Welcome, Stop On ByBobby Womack",
         "0.8319999999999999",
         "0.7332359",
         "True",
         "True"
        ],
        [
         "Going BadMeek Mill Featuring Drake",
         "0.544",
         "0.52774125",
         "False",
         "False"
        ],
        [
         "I Should Have CheatedKeyshia Cole",
         "0.4089999999999999",
         "0.30426234",
         "False",
         "False"
        ],
        [
         "If I Didn't CareConnie Francis",
         "0.372",
         "0.33217928",
         "False",
         "False"
        ],
        [
         "The Dark End Of The StreetJames Carr",
         "0.3559999999999999",
         "0.51768184",
         "False",
         "False"
        ],
        [
         "Too Many Fish In The SeaThe Marvelettes",
         "0.7069999999999999",
         "0.77230686",
         "True",
         "True"
        ],
        [
         "Small Town BoyDustin Lynch",
         "0.673",
         "0.5166882",
         "False",
         "False"
        ],
        [
         "Just Be My LadyLarry Graham",
         "0.166",
         "0.2772532",
         "False",
         "False"
        ],
        [
         "Hey JoeWilson Pickett",
         "0.813",
         "0.73941267",
         "True",
         "True"
        ],
        [
         "Beneath Your BeautifulLabrinth Featuring Emeli Sande",
         "0.228",
         "0.38409603",
         "False",
         "False"
        ],
        [
         "I Can't Stop Loving YouCount Basie",
         "0.4829999999999999",
         "0.33962017",
         "False",
         "False"
        ],
        [
         "Lara's Theme from \"Dr. Zhivago\"Roger Williams",
         "0.2129999999999999",
         "0.36401543",
         "False",
         "False"
        ],
        [
         "We Are The World 25: For HaitiArtists For Haiti",
         "0.28",
         "0.3638958",
         "False",
         "False"
        ],
        [
         "StoleKelly Rowland",
         "0.4769999999999999",
         "0.58053255",
         "False",
         "False"
        ],
        [
         "Beatnik FlyJohnny And The Hurricanes",
         "0.931",
         "0.80455285",
         "True",
         "True"
        ],
        [
         "Tattoos On This TownJason Aldean",
         "0.444",
         "0.42716128",
         "False",
         "False"
        ]
       ],
       "shape": {
        "columns": 4,
        "rows": 715
       }
      },
      "text/html": [
       "<div>\n",
       "<style scoped>\n",
       "    .dataframe tbody tr th:only-of-type {\n",
       "        vertical-align: middle;\n",
       "    }\n",
       "\n",
       "    .dataframe tbody tr th {\n",
       "        vertical-align: top;\n",
       "    }\n",
       "\n",
       "    .dataframe thead th {\n",
       "        text-align: right;\n",
       "    }\n",
       "</style>\n",
       "<table border=\"1\" class=\"dataframe\">\n",
       "  <thead>\n",
       "    <tr style=\"text-align: right;\">\n",
       "      <th></th>\n",
       "      <th>Original Test</th>\n",
       "      <th>Prediction Test</th>\n",
       "      <th>Original over Thrashold</th>\n",
       "      <th>Predicted over Thrashold</th>\n",
       "    </tr>\n",
       "    <tr>\n",
       "      <th>SongID</th>\n",
       "      <th></th>\n",
       "      <th></th>\n",
       "      <th></th>\n",
       "      <th></th>\n",
       "    </tr>\n",
       "  </thead>\n",
       "  <tbody>\n",
       "    <tr>\n",
       "      <th>Can't Let You Out Of My SightChuck Jackson &amp; Maxine Brown</th>\n",
       "      <td>0.4530</td>\n",
       "      <td>0.801978</td>\n",
       "      <td>False</td>\n",
       "      <td>True</td>\n",
       "    </tr>\n",
       "    <tr>\n",
       "      <th>It's All Coming Back To Me NowCeline Dion</th>\n",
       "      <td>0.2860</td>\n",
       "      <td>0.259073</td>\n",
       "      <td>False</td>\n",
       "      <td>False</td>\n",
       "    </tr>\n",
       "    <tr>\n",
       "      <th>Birthday CakeRihanna Featuring Chris Brown</th>\n",
       "      <td>0.3290</td>\n",
       "      <td>0.793471</td>\n",
       "      <td>False</td>\n",
       "      <td>True</td>\n",
       "    </tr>\n",
       "    <tr>\n",
       "      <th>Jack The RipperLink Wray And The Wraymen</th>\n",
       "      <td>0.2920</td>\n",
       "      <td>0.526999</td>\n",
       "      <td>False</td>\n",
       "      <td>False</td>\n",
       "    </tr>\n",
       "    <tr>\n",
       "      <th>Little StarThe Elegants</th>\n",
       "      <td>0.6970</td>\n",
       "      <td>0.453899</td>\n",
       "      <td>False</td>\n",
       "      <td>False</td>\n",
       "    </tr>\n",
       "    <tr>\n",
       "      <th>...</th>\n",
       "      <td>...</td>\n",
       "      <td>...</td>\n",
       "      <td>...</td>\n",
       "      <td>...</td>\n",
       "    </tr>\n",
       "    <tr>\n",
       "      <th>Who Needs PicturesBrad Paisley</th>\n",
       "      <td>0.1520</td>\n",
       "      <td>0.400350</td>\n",
       "      <td>False</td>\n",
       "      <td>False</td>\n",
       "    </tr>\n",
       "    <tr>\n",
       "      <th>TwoLil Uzi Vert</th>\n",
       "      <td>0.0371</td>\n",
       "      <td>0.318125</td>\n",
       "      <td>False</td>\n",
       "      <td>False</td>\n",
       "    </tr>\n",
       "    <tr>\n",
       "      <th>Hands OnKanye West Featuring Fred Hammond</th>\n",
       "      <td>0.5980</td>\n",
       "      <td>0.431694</td>\n",
       "      <td>False</td>\n",
       "      <td>False</td>\n",
       "    </tr>\n",
       "    <tr>\n",
       "      <th>TogetherTierra</th>\n",
       "      <td>0.6370</td>\n",
       "      <td>0.521874</td>\n",
       "      <td>False</td>\n",
       "      <td>False</td>\n",
       "    </tr>\n",
       "    <tr>\n",
       "      <th>In The Summer Of His YearsConnie Francis</th>\n",
       "      <td>0.2960</td>\n",
       "      <td>0.347870</td>\n",
       "      <td>False</td>\n",
       "      <td>False</td>\n",
       "    </tr>\n",
       "  </tbody>\n",
       "</table>\n",
       "<p>715 rows × 4 columns</p>\n",
       "</div>"
      ],
      "text/plain": [
       "                                                    Original Test  \\\n",
       "SongID                                                              \n",
       "Can't Let You Out Of My SightChuck Jackson & Ma...         0.4530   \n",
       "It's All Coming Back To Me NowCeline Dion                  0.2860   \n",
       "Birthday CakeRihanna Featuring Chris Brown                 0.3290   \n",
       "Jack The RipperLink Wray And The Wraymen                   0.2920   \n",
       "Little StarThe Elegants                                    0.6970   \n",
       "...                                                           ...   \n",
       "Who Needs PicturesBrad Paisley                             0.1520   \n",
       "TwoLil Uzi Vert                                            0.0371   \n",
       "Hands OnKanye West Featuring Fred Hammond                  0.5980   \n",
       "TogetherTierra                                             0.6370   \n",
       "In The Summer Of His YearsConnie Francis                   0.2960   \n",
       "\n",
       "                                                    Prediction Test  \\\n",
       "SongID                                                                \n",
       "Can't Let You Out Of My SightChuck Jackson & Ma...         0.801978   \n",
       "It's All Coming Back To Me NowCeline Dion                  0.259073   \n",
       "Birthday CakeRihanna Featuring Chris Brown                 0.793471   \n",
       "Jack The RipperLink Wray And The Wraymen                   0.526999   \n",
       "Little StarThe Elegants                                    0.453899   \n",
       "...                                                             ...   \n",
       "Who Needs PicturesBrad Paisley                             0.400350   \n",
       "TwoLil Uzi Vert                                            0.318125   \n",
       "Hands OnKanye West Featuring Fred Hammond                  0.431694   \n",
       "TogetherTierra                                             0.521874   \n",
       "In The Summer Of His YearsConnie Francis                   0.347870   \n",
       "\n",
       "                                                    Original over Thrashold  \\\n",
       "SongID                                                                        \n",
       "Can't Let You Out Of My SightChuck Jackson & Ma...                    False   \n",
       "It's All Coming Back To Me NowCeline Dion                             False   \n",
       "Birthday CakeRihanna Featuring Chris Brown                            False   \n",
       "Jack The RipperLink Wray And The Wraymen                              False   \n",
       "Little StarThe Elegants                                               False   \n",
       "...                                                                     ...   \n",
       "Who Needs PicturesBrad Paisley                                        False   \n",
       "TwoLil Uzi Vert                                                       False   \n",
       "Hands OnKanye West Featuring Fred Hammond                             False   \n",
       "TogetherTierra                                                        False   \n",
       "In The Summer Of His YearsConnie Francis                              False   \n",
       "\n",
       "                                                    Predicted over Thrashold  \n",
       "SongID                                                                        \n",
       "Can't Let You Out Of My SightChuck Jackson & Ma...                      True  \n",
       "It's All Coming Back To Me NowCeline Dion                              False  \n",
       "Birthday CakeRihanna Featuring Chris Brown                              True  \n",
       "Jack The RipperLink Wray And The Wraymen                               False  \n",
       "Little StarThe Elegants                                                False  \n",
       "...                                                                      ...  \n",
       "Who Needs PicturesBrad Paisley                                         False  \n",
       "TwoLil Uzi Vert                                                        False  \n",
       "Hands OnKanye West Featuring Fred Hammond                              False  \n",
       "TogetherTierra                                                         False  \n",
       "In The Summer Of His YearsConnie Francis                               False  \n",
       "\n",
       "[715 rows x 4 columns]"
      ]
     },
     "metadata": {},
     "output_type": "display_data"
    },
    {
     "data": {
      "image/png": "[encoded data removed]",
      "text/plain": [
       "<Figure size 640x480 with 2 Axes>"
      ]
     },
     "metadata": {},
     "output_type": "display_data"
    },
    {
     "data": {
      "application/vnd.microsoft.datawrangler.viewer.v0+json": {
       "columns": [
        {
         "name": "index",
         "rawType": "object",
         "type": "string"
        },
        {
         "name": "Value",
         "rawType": "float64",
         "type": "float"
        }
       ],
       "conversionMethod": "pd.DataFrame",
       "ref": "00209cdf-8705-485f-a0e6-53826ae405db",
       "rows": [
        [
         "Accuracy",
         "0.82"
        ],
        [
         "Precision",
         "0.8"
        ],
        [
         "Recall",
         "0.41"
        ],
        [
         "F1-score",
         "0.54"
        ]
       ],
       "shape": {
        "columns": 1,
        "rows": 4
       }
      },
      "text/html": [
       "<div>\n",
       "<style scoped>\n",
       "    .dataframe tbody tr th:only-of-type {\n",
       "        vertical-align: middle;\n",
       "    }\n",
       "\n",
       "    .dataframe tbody tr th {\n",
       "        vertical-align: top;\n",
       "    }\n",
       "\n",
       "    .dataframe thead th {\n",
       "        text-align: right;\n",
       "    }\n",
       "</style>\n",
       "<table border=\"1\" class=\"dataframe\">\n",
       "  <thead>\n",
       "    <tr style=\"text-align: right;\">\n",
       "      <th></th>\n",
       "      <th>Value</th>\n",
       "    </tr>\n",
       "  </thead>\n",
       "  <tbody>\n",
       "    <tr>\n",
       "      <th>Accuracy</th>\n",
       "      <td>0.82</td>\n",
       "    </tr>\n",
       "    <tr>\n",
       "      <th>Precision</th>\n",
       "      <td>0.80</td>\n",
       "    </tr>\n",
       "    <tr>\n",
       "      <th>Recall</th>\n",
       "      <td>0.41</td>\n",
       "    </tr>\n",
       "    <tr>\n",
       "      <th>F1-score</th>\n",
       "      <td>0.54</td>\n",
       "    </tr>\n",
       "  </tbody>\n",
       "</table>\n",
       "</div>"
      ],
      "text/plain": [
       "           Value\n",
       "Accuracy    0.82\n",
       "Precision   0.80\n",
       "Recall      0.41\n",
       "F1-score    0.54"
      ]
     },
     "metadata": {},
     "output_type": "display_data"
    },
    {
     "name": "stdout",
     "output_type": "stream",
     "text": [
      "---------------------------------------------------------\n",
      "USER 4\n",
      "Epoch 1/100\n"
     ]
    },
    {
     "name": "stderr",
     "output_type": "stream",
     "text": [
      "C:\\Users\\elped\\AppData\\Local\\Temp\\ipykernel_5772\\2934058548.py:7: SettingWithCopyWarning: \n",
      "A value is trying to be set on a copy of a slice from a DataFrame.\n",
      "Try using .loc[row_indexer,col_indexer] = value instead\n",
      "\n",
      "See the caveats in the documentation: https://pandas.pydata.org/pandas-docs/stable/user_guide/indexing.html#returning-a-view-versus-a-copy\n",
      "  x[numerical_features] = StandardScaler().fit_transform(x[numerical_features])\n",
      "c:\\Users\\elped\\AppData\\Local\\Programs\\Python\\Python312\\Lib\\site-packages\\keras\\src\\layers\\core\\dense.py:87: UserWarning: Do not pass an `input_shape`/`input_dim` argument to a layer. When using Sequential models, prefer using an `Input(shape)` object as the first layer in the model instead.\n",
      "  super().__init__(activity_regularizer=activity_regularizer, **kwargs)\n"
     ]
    },
    {
     "name": "stdout",
     "output_type": "stream",
     "text": [
      "\u001b[1m63/63\u001b[0m \u001b[32m━━━━━━━━━━━━━━━━━━━━\u001b[0m\u001b[37m\u001b[0m \u001b[1m2s\u001b[0m 6ms/step - loss: 0.5236 - mae: 0.2297 - val_loss: 0.3525 - val_mae: 0.1996\n",
      "Epoch 2/100\n",
      "\u001b[1m63/63\u001b[0m \u001b[32m━━━━━━━━━━━━━━━━━━━━\u001b[0m\u001b[37m\u001b[0m \u001b[1m0s\u001b[0m 2ms/step - loss: 0.3164 - mae: 0.1943 - val_loss: 0.2201 - val_mae: 0.1912\n",
      "Epoch 3/100\n",
      "\u001b[1m63/63\u001b[0m \u001b[32m━━━━━━━━━━━━━━━━━━━━\u001b[0m\u001b[37m\u001b[0m \u001b[1m0s\u001b[0m 2ms/step - loss: 0.1993 - mae: 0.1887 - val_loss: 0.1428 - val_mae: 0.1873\n",
      "Epoch 4/100\n",
      "\u001b[1m63/63\u001b[0m \u001b[32m━━━━━━━━━━━━━━━━━━━━\u001b[0m\u001b[37m\u001b[0m \u001b[1m0s\u001b[0m 5ms/step - loss: 0.1320 - mae: 0.1869 - val_loss: 0.0985 - val_mae: 0.1828\n",
      "Epoch 5/100\n",
      "\u001b[1m63/63\u001b[0m \u001b[32m━━━━━━━━━━━━━━━━━━━━\u001b[0m\u001b[37m\u001b[0m \u001b[1m0s\u001b[0m 3ms/step - loss: 0.0906 - mae: 0.1748 - val_loss: 0.0732 - val_mae: 0.1770\n",
      "Epoch 6/100\n",
      "\u001b[1m63/63\u001b[0m \u001b[32m━━━━━━━━━━━━━━━━━━━━\u001b[0m\u001b[37m\u001b[0m \u001b[1m0s\u001b[0m 2ms/step - loss: 0.0685 - mae: 0.1695 - val_loss: 0.0590 - val_mae: 0.1712\n",
      "Epoch 7/100\n",
      "\u001b[1m63/63\u001b[0m \u001b[32m━━━━━━━━━━━━━━━━━━━━\u001b[0m\u001b[37m\u001b[0m \u001b[1m0s\u001b[0m 3ms/step - loss: 0.0568 - mae: 0.1654 - val_loss: 0.0514 - val_mae: 0.1665\n",
      "Epoch 8/100\n",
      "\u001b[1m63/63\u001b[0m \u001b[32m━━━━━━━━━━━━━━━━━━━━\u001b[0m\u001b[37m\u001b[0m \u001b[1m0s\u001b[0m 3ms/step - loss: 0.0515 - mae: 0.1651 - val_loss: 0.0478 - val_mae: 0.1646\n",
      "Epoch 9/100\n",
      "\u001b[1m63/63\u001b[0m \u001b[32m━━━━━━━━━━━━━━━━━━━━\u001b[0m\u001b[37m\u001b[0m \u001b[1m0s\u001b[0m 3ms/step - loss: 0.0466 - mae: 0.1586 - val_loss: 0.0451 - val_mae: 0.1624\n",
      "Epoch 10/100\n",
      "\u001b[1m63/63\u001b[0m \u001b[32m━━━━━━━━━━━━━━━━━━━━\u001b[0m\u001b[37m\u001b[0m \u001b[1m0s\u001b[0m 2ms/step - loss: 0.0451 - mae: 0.1577 - val_loss: 0.0435 - val_mae: 0.1594\n",
      "Epoch 11/100\n",
      "\u001b[1m63/63\u001b[0m \u001b[32m━━━━━━━━━━━━━━━━━━━━\u001b[0m\u001b[37m\u001b[0m \u001b[1m0s\u001b[0m 2ms/step - loss: 0.0433 - mae: 0.1556 - val_loss: 0.0426 - val_mae: 0.1582\n",
      "Epoch 12/100\n",
      "\u001b[1m63/63\u001b[0m \u001b[32m━━━━━━━━━━━━━━━━━━━━\u001b[0m\u001b[37m\u001b[0m \u001b[1m0s\u001b[0m 2ms/step - loss: 0.0444 - mae: 0.1571 - val_loss: 0.0420 - val_mae: 0.1572\n",
      "Epoch 13/100\n",
      "\u001b[1m63/63\u001b[0m \u001b[32m━━━━━━━━━━━━━━━━━━━━\u001b[0m\u001b[37m\u001b[0m \u001b[1m0s\u001b[0m 2ms/step - loss: 0.0419 - mae: 0.1540 - val_loss: 0.0414 - val_mae: 0.1554\n",
      "Epoch 14/100\n",
      "\u001b[1m63/63\u001b[0m \u001b[32m━━━━━━━━━━━━━━━━━━━━\u001b[0m\u001b[37m\u001b[0m \u001b[1m0s\u001b[0m 2ms/step - loss: 0.0420 - mae: 0.1542 - val_loss: 0.0410 - val_mae: 0.1552\n",
      "Epoch 15/100\n",
      "\u001b[1m63/63\u001b[0m \u001b[32m━━━━━━━━━━━━━━━━━━━━\u001b[0m\u001b[37m\u001b[0m \u001b[1m0s\u001b[0m 2ms/step - loss: 0.0405 - mae: 0.1527 - val_loss: 0.0410 - val_mae: 0.1559\n",
      "Epoch 16/100\n",
      "\u001b[1m63/63\u001b[0m \u001b[32m━━━━━━━━━━━━━━━━━━━━\u001b[0m\u001b[37m\u001b[0m \u001b[1m0s\u001b[0m 2ms/step - loss: 0.0412 - mae: 0.1525 - val_loss: 0.0407 - val_mae: 0.1556\n",
      "Epoch 17/100\n",
      "\u001b[1m63/63\u001b[0m \u001b[32m━━━━━━━━━━━━━━━━━━━━\u001b[0m\u001b[37m\u001b[0m \u001b[1m0s\u001b[0m 2ms/step - loss: 0.0414 - mae: 0.1536 - val_loss: 0.0401 - val_mae: 0.1531\n",
      "Epoch 18/100\n",
      "\u001b[1m63/63\u001b[0m \u001b[32m━━━━━━━━━━━━━━━━━━━━\u001b[0m\u001b[37m\u001b[0m \u001b[1m0s\u001b[0m 2ms/step - loss: 0.0410 - mae: 0.1507 - val_loss: 0.0400 - val_mae: 0.1536\n",
      "Epoch 19/100\n",
      "\u001b[1m63/63\u001b[0m \u001b[32m━━━━━━━━━━━━━━━━━━━━\u001b[0m\u001b[37m\u001b[0m \u001b[1m0s\u001b[0m 2ms/step - loss: 0.0413 - mae: 0.1528 - val_loss: 0.0398 - val_mae: 0.1532\n",
      "Epoch 20/100\n",
      "\u001b[1m63/63\u001b[0m \u001b[32m━━━━━━━━━━━━━━━━━━━━\u001b[0m\u001b[37m\u001b[0m \u001b[1m0s\u001b[0m 2ms/step - loss: 0.0407 - mae: 0.1504 - val_loss: 0.0394 - val_mae: 0.1526\n",
      "Epoch 21/100\n",
      "\u001b[1m63/63\u001b[0m \u001b[32m━━━━━━━━━━━━━━━━━━━━\u001b[0m\u001b[37m\u001b[0m \u001b[1m0s\u001b[0m 2ms/step - loss: 0.0422 - mae: 0.1548 - val_loss: 0.0390 - val_mae: 0.1506\n",
      "Epoch 22/100\n",
      "\u001b[1m63/63\u001b[0m \u001b[32m━━━━━━━━━━━━━━━━━━━━\u001b[0m\u001b[37m\u001b[0m \u001b[1m0s\u001b[0m 2ms/step - loss: 0.0406 - mae: 0.1535 - val_loss: 0.0390 - val_mae: 0.1517\n",
      "Epoch 23/100\n",
      "\u001b[1m63/63\u001b[0m \u001b[32m━━━━━━━━━━━━━━━━━━━━\u001b[0m\u001b[37m\u001b[0m \u001b[1m0s\u001b[0m 2ms/step - loss: 0.0411 - mae: 0.1529 - val_loss: 0.0390 - val_mae: 0.1516\n",
      "Epoch 24/100\n",
      "\u001b[1m63/63\u001b[0m \u001b[32m━━━━━━━━━━━━━━━━━━━━\u001b[0m\u001b[37m\u001b[0m \u001b[1m0s\u001b[0m 2ms/step - loss: 0.0412 - mae: 0.1541 - val_loss: 0.0387 - val_mae: 0.1499\n",
      "Epoch 25/100\n",
      "\u001b[1m63/63\u001b[0m \u001b[32m━━━━━━━━━━━━━━━━━━━━\u001b[0m\u001b[37m\u001b[0m \u001b[1m0s\u001b[0m 2ms/step - loss: 0.0407 - mae: 0.1514 - val_loss: 0.0389 - val_mae: 0.1512\n",
      "Epoch 26/100\n",
      "\u001b[1m63/63\u001b[0m \u001b[32m━━━━━━━━━━━━━━━━━━━━\u001b[0m\u001b[37m\u001b[0m \u001b[1m0s\u001b[0m 2ms/step - loss: 0.0406 - mae: 0.1504 - val_loss: 0.0387 - val_mae: 0.1514\n",
      "Epoch 27/100\n",
      "\u001b[1m63/63\u001b[0m \u001b[32m━━━━━━━━━━━━━━━━━━━━\u001b[0m\u001b[37m\u001b[0m \u001b[1m0s\u001b[0m 2ms/step - loss: 0.0395 - mae: 0.1511 - val_loss: 0.0390 - val_mae: 0.1505\n",
      "Epoch 28/100\n",
      "\u001b[1m63/63\u001b[0m \u001b[32m━━━━━━━━━━━━━━━━━━━━\u001b[0m\u001b[37m\u001b[0m \u001b[1m0s\u001b[0m 4ms/step - loss: 0.0398 - mae: 0.1506 - val_loss: 0.0381 - val_mae: 0.1496\n",
      "Epoch 29/100\n",
      "\u001b[1m63/63\u001b[0m \u001b[32m━━━━━━━━━━━━━━━━━━━━\u001b[0m\u001b[37m\u001b[0m \u001b[1m0s\u001b[0m 2ms/step - loss: 0.0391 - mae: 0.1509 - val_loss: 0.0381 - val_mae: 0.1493\n",
      "Epoch 30/100\n",
      "\u001b[1m63/63\u001b[0m \u001b[32m━━━━━━━━━━━━━━━━━━━━\u001b[0m\u001b[37m\u001b[0m \u001b[1m0s\u001b[0m 2ms/step - loss: 0.0391 - mae: 0.1476 - val_loss: 0.0379 - val_mae: 0.1499\n",
      "Epoch 31/100\n",
      "\u001b[1m63/63\u001b[0m \u001b[32m━━━━━━━━━━━━━━━━━━━━\u001b[0m\u001b[37m\u001b[0m \u001b[1m0s\u001b[0m 2ms/step - loss: 0.0402 - mae: 0.1522 - val_loss: 0.0382 - val_mae: 0.1488\n",
      "Epoch 32/100\n",
      "\u001b[1m63/63\u001b[0m \u001b[32m━━━━━━━━━━━━━━━━━━━━\u001b[0m\u001b[37m\u001b[0m \u001b[1m0s\u001b[0m 2ms/step - loss: 0.0410 - mae: 0.1544 - val_loss: 0.0379 - val_mae: 0.1485\n",
      "Epoch 33/100\n",
      "\u001b[1m63/63\u001b[0m \u001b[32m━━━━━━━━━━━━━━━━━━━━\u001b[0m\u001b[37m\u001b[0m \u001b[1m0s\u001b[0m 2ms/step - loss: 0.0395 - mae: 0.1511 - val_loss: 0.0379 - val_mae: 0.1496\n",
      "Epoch 34/100\n",
      "\u001b[1m63/63\u001b[0m \u001b[32m━━━━━━━━━━━━━━━━━━━━\u001b[0m\u001b[37m\u001b[0m \u001b[1m0s\u001b[0m 3ms/step - loss: 0.0385 - mae: 0.1488 - val_loss: 0.0377 - val_mae: 0.1493\n",
      "Epoch 35/100\n",
      "\u001b[1m63/63\u001b[0m \u001b[32m━━━━━━━━━━━━━━━━━━━━\u001b[0m\u001b[37m\u001b[0m \u001b[1m0s\u001b[0m 3ms/step - loss: 0.0387 - mae: 0.1468 - val_loss: 0.0371 - val_mae: 0.1478\n",
      "Epoch 36/100\n",
      "\u001b[1m63/63\u001b[0m \u001b[32m━━━━━━━━━━━━━━━━━━━━\u001b[0m\u001b[37m\u001b[0m \u001b[1m0s\u001b[0m 3ms/step - loss: 0.0394 - mae: 0.1499 - val_loss: 0.0375 - val_mae: 0.1482\n",
      "Epoch 37/100\n",
      "\u001b[1m63/63\u001b[0m \u001b[32m━━━━━━━━━━━━━━━━━━━━\u001b[0m\u001b[37m\u001b[0m \u001b[1m0s\u001b[0m 3ms/step - loss: 0.0392 - mae: 0.1492 - val_loss: 0.0370 - val_mae: 0.1464\n",
      "Epoch 38/100\n",
      "\u001b[1m63/63\u001b[0m \u001b[32m━━━━━━━━━━━━━━━━━━━━\u001b[0m\u001b[37m\u001b[0m \u001b[1m0s\u001b[0m 2ms/step - loss: 0.0381 - mae: 0.1483 - val_loss: 0.0374 - val_mae: 0.1483\n",
      "Epoch 39/100\n",
      "\u001b[1m63/63\u001b[0m \u001b[32m━━━━━━━━━━━━━━━━━━━━\u001b[0m\u001b[37m\u001b[0m \u001b[1m0s\u001b[0m 2ms/step - loss: 0.0375 - mae: 0.1462 - val_loss: 0.0372 - val_mae: 0.1487\n",
      "Epoch 40/100\n",
      "\u001b[1m63/63\u001b[0m \u001b[32m━━━━━━━━━━━━━━━━━━━━\u001b[0m\u001b[37m\u001b[0m \u001b[1m0s\u001b[0m 2ms/step - loss: 0.0380 - mae: 0.1466 - val_loss: 0.0370 - val_mae: 0.1471\n",
      "Epoch 41/100\n",
      "\u001b[1m63/63\u001b[0m \u001b[32m━━━━━━━━━━━━━━━━━━━━\u001b[0m\u001b[37m\u001b[0m \u001b[1m0s\u001b[0m 2ms/step - loss: 0.0383 - mae: 0.1482 - val_loss: 0.0371 - val_mae: 0.1489\n",
      "Epoch 42/100\n",
      "\u001b[1m63/63\u001b[0m \u001b[32m━━━━━━━━━━━━━━━━━━━━\u001b[0m\u001b[37m\u001b[0m \u001b[1m0s\u001b[0m 2ms/step - loss: 0.0380 - mae: 0.1487 - val_loss: 0.0369 - val_mae: 0.1474\n",
      "Epoch 43/100\n",
      "\u001b[1m63/63\u001b[0m \u001b[32m━━━━━━━━━━━━━━━━━━━━\u001b[0m\u001b[37m\u001b[0m \u001b[1m0s\u001b[0m 2ms/step - loss: 0.0381 - mae: 0.1473 - val_loss: 0.0370 - val_mae: 0.1485\n",
      "Epoch 44/100\n",
      "\u001b[1m63/63\u001b[0m \u001b[32m━━━━━━━━━━━━━━━━━━━━\u001b[0m\u001b[37m\u001b[0m \u001b[1m0s\u001b[0m 2ms/step - loss: 0.0369 - mae: 0.1473 - val_loss: 0.0366 - val_mae: 0.1469\n",
      "Epoch 45/100\n",
      "\u001b[1m63/63\u001b[0m \u001b[32m━━━━━━━━━━━━━━━━━━━━\u001b[0m\u001b[37m\u001b[0m \u001b[1m0s\u001b[0m 2ms/step - loss: 0.0383 - mae: 0.1476 - val_loss: 0.0372 - val_mae: 0.1488\n",
      "Epoch 46/100\n",
      "\u001b[1m63/63\u001b[0m \u001b[32m━━━━━━━━━━━━━━━━━━━━\u001b[0m\u001b[37m\u001b[0m \u001b[1m0s\u001b[0m 2ms/step - loss: 0.0386 - mae: 0.1500 - val_loss: 0.0366 - val_mae: 0.1471\n",
      "Epoch 47/100\n",
      "\u001b[1m63/63\u001b[0m \u001b[32m━━━━━━━━━━━━━━━━━━━━\u001b[0m\u001b[37m\u001b[0m \u001b[1m0s\u001b[0m 4ms/step - loss: 0.0380 - mae: 0.1487 - val_loss: 0.0366 - val_mae: 0.1470\n",
      "Epoch 48/100\n",
      "\u001b[1m63/63\u001b[0m \u001b[32m━━━━━━━━━━━━━━━━━━━━\u001b[0m\u001b[37m\u001b[0m \u001b[1m0s\u001b[0m 2ms/step - loss: 0.0376 - mae: 0.1477 - val_loss: 0.0365 - val_mae: 0.1473\n",
      "Epoch 49/100\n",
      "\u001b[1m63/63\u001b[0m \u001b[32m━━━━━━━━━━━━━━━━━━━━\u001b[0m\u001b[37m\u001b[0m \u001b[1m0s\u001b[0m 2ms/step - loss: 0.0366 - mae: 0.1440 - val_loss: 0.0361 - val_mae: 0.1459\n",
      "Epoch 50/100\n",
      "\u001b[1m63/63\u001b[0m \u001b[32m━━━━━━━━━━━━━━━━━━━━\u001b[0m\u001b[37m\u001b[0m \u001b[1m0s\u001b[0m 2ms/step - loss: 0.0371 - mae: 0.1462 - val_loss: 0.0364 - val_mae: 0.1475\n",
      "Epoch 51/100\n",
      "\u001b[1m63/63\u001b[0m \u001b[32m━━━━━━━━━━━━━━━━━━━━\u001b[0m\u001b[37m\u001b[0m \u001b[1m0s\u001b[0m 2ms/step - loss: 0.0376 - mae: 0.1474 - val_loss: 0.0361 - val_mae: 0.1457\n",
      "Epoch 52/100\n",
      "\u001b[1m63/63\u001b[0m \u001b[32m━━━━━━━━━━━━━━━━━━━━\u001b[0m\u001b[37m\u001b[0m \u001b[1m0s\u001b[0m 2ms/step - loss: 0.0362 - mae: 0.1443 - val_loss: 0.0361 - val_mae: 0.1463\n",
      "Epoch 53/100\n",
      "\u001b[1m63/63\u001b[0m \u001b[32m━━━━━━━━━━━━━━━━━━━━\u001b[0m\u001b[37m\u001b[0m \u001b[1m0s\u001b[0m 2ms/step - loss: 0.0385 - mae: 0.1507 - val_loss: 0.0358 - val_mae: 0.1456\n",
      "Epoch 54/100\n",
      "\u001b[1m63/63\u001b[0m \u001b[32m━━━━━━━━━━━━━━━━━━━━\u001b[0m\u001b[37m\u001b[0m \u001b[1m0s\u001b[0m 2ms/step - loss: 0.0370 - mae: 0.1455 - val_loss: 0.0361 - val_mae: 0.1462\n",
      "Epoch 55/100\n",
      "\u001b[1m63/63\u001b[0m \u001b[32m━━━━━━━━━━━━━━━━━━━━\u001b[0m\u001b[37m\u001b[0m \u001b[1m0s\u001b[0m 2ms/step - loss: 0.0378 - mae: 0.1468 - val_loss: 0.0363 - val_mae: 0.1468\n",
      "Epoch 56/100\n",
      "\u001b[1m63/63\u001b[0m \u001b[32m━━━━━━━━━━━━━━━━━━━━\u001b[0m\u001b[37m\u001b[0m \u001b[1m0s\u001b[0m 2ms/step - loss: 0.0378 - mae: 0.1466 - val_loss: 0.0370 - val_mae: 0.1483\n",
      "Epoch 57/100\n",
      "\u001b[1m63/63\u001b[0m \u001b[32m━━━━━━━━━━━━━━━━━━━━\u001b[0m\u001b[37m\u001b[0m \u001b[1m0s\u001b[0m 4ms/step - loss: 0.0375 - mae: 0.1468 - val_loss: 0.0359 - val_mae: 0.1452\n",
      "Epoch 58/100\n",
      "\u001b[1m63/63\u001b[0m \u001b[32m━━━━━━━━━━━━━━━━━━━━\u001b[0m\u001b[37m\u001b[0m \u001b[1m0s\u001b[0m 2ms/step - loss: 0.0374 - mae: 0.1463 - val_loss: 0.0360 - val_mae: 0.1440\n",
      "Epoch 59/100\n",
      "\u001b[1m63/63\u001b[0m \u001b[32m━━━━━━━━━━━━━━━━━━━━\u001b[0m\u001b[37m\u001b[0m \u001b[1m0s\u001b[0m 2ms/step - loss: 0.0376 - mae: 0.1466 - val_loss: 0.0355 - val_mae: 0.1452\n",
      "Epoch 60/100\n",
      "\u001b[1m63/63\u001b[0m \u001b[32m━━━━━━━━━━━━━━━━━━━━\u001b[0m\u001b[37m\u001b[0m \u001b[1m0s\u001b[0m 3ms/step - loss: 0.0389 - mae: 0.1522 - val_loss: 0.0354 - val_mae: 0.1452\n",
      "Epoch 61/100\n",
      "\u001b[1m63/63\u001b[0m \u001b[32m━━━━━━━━━━━━━━━━━━━━\u001b[0m\u001b[37m\u001b[0m \u001b[1m0s\u001b[0m 3ms/step - loss: 0.0371 - mae: 0.1468 - val_loss: 0.0356 - val_mae: 0.1449\n",
      "Epoch 62/100\n",
      "\u001b[1m63/63\u001b[0m \u001b[32m━━━━━━━━━━━━━━━━━━━━\u001b[0m\u001b[37m\u001b[0m \u001b[1m0s\u001b[0m 3ms/step - loss: 0.0375 - mae: 0.1473 - val_loss: 0.0353 - val_mae: 0.1437\n",
      "Epoch 63/100\n",
      "\u001b[1m63/63\u001b[0m \u001b[32m━━━━━━━━━━━━━━━━━━━━\u001b[0m\u001b[37m\u001b[0m \u001b[1m0s\u001b[0m 3ms/step - loss: 0.0372 - mae: 0.1464 - val_loss: 0.0352 - val_mae: 0.1439\n",
      "Epoch 64/100\n",
      "\u001b[1m63/63\u001b[0m \u001b[32m━━━━━━━━━━━━━━━━━━━━\u001b[0m\u001b[37m\u001b[0m \u001b[1m0s\u001b[0m 2ms/step - loss: 0.0356 - mae: 0.1432 - val_loss: 0.0355 - val_mae: 0.1455\n",
      "Epoch 65/100\n",
      "\u001b[1m63/63\u001b[0m \u001b[32m━━━━━━━━━━━━━━━━━━━━\u001b[0m\u001b[37m\u001b[0m \u001b[1m0s\u001b[0m 2ms/step - loss: 0.0360 - mae: 0.1446 - val_loss: 0.0358 - val_mae: 0.1454\n",
      "Epoch 66/100\n",
      "\u001b[1m63/63\u001b[0m \u001b[32m━━━━━━━━━━━━━━━━━━━━\u001b[0m\u001b[37m\u001b[0m \u001b[1m0s\u001b[0m 2ms/step - loss: 0.0361 - mae: 0.1432 - val_loss: 0.0353 - val_mae: 0.1451\n",
      "Epoch 67/100\n",
      "\u001b[1m63/63\u001b[0m \u001b[32m━━━━━━━━━━━━━━━━━━━━\u001b[0m\u001b[37m\u001b[0m \u001b[1m0s\u001b[0m 2ms/step - loss: 0.0382 - mae: 0.1485 - val_loss: 0.0353 - val_mae: 0.1445\n",
      "Epoch 68/100\n",
      "\u001b[1m63/63\u001b[0m \u001b[32m━━━━━━━━━━━━━━━━━━━━\u001b[0m\u001b[37m\u001b[0m \u001b[1m0s\u001b[0m 2ms/step - loss: 0.0359 - mae: 0.1431 - val_loss: 0.0353 - val_mae: 0.1434\n",
      "Epoch 69/100\n",
      "\u001b[1m63/63\u001b[0m \u001b[32m━━━━━━━━━━━━━━━━━━━━\u001b[0m\u001b[37m\u001b[0m \u001b[1m0s\u001b[0m 2ms/step - loss: 0.0368 - mae: 0.1459 - val_loss: 0.0350 - val_mae: 0.1439\n",
      "Epoch 70/100\n",
      "\u001b[1m63/63\u001b[0m \u001b[32m━━━━━━━━━━━━━━━━━━━━\u001b[0m\u001b[37m\u001b[0m \u001b[1m0s\u001b[0m 2ms/step - loss: 0.0366 - mae: 0.1446 - val_loss: 0.0354 - val_mae: 0.1457\n",
      "Epoch 71/100\n",
      "\u001b[1m63/63\u001b[0m \u001b[32m━━━━━━━━━━━━━━━━━━━━\u001b[0m\u001b[37m\u001b[0m \u001b[1m0s\u001b[0m 2ms/step - loss: 0.0341 - mae: 0.1402 - val_loss: 0.0361 - val_mae: 0.1469\n",
      "Epoch 72/100\n",
      "\u001b[1m63/63\u001b[0m \u001b[32m━━━━━━━━━━━━━━━━━━━━\u001b[0m\u001b[37m\u001b[0m \u001b[1m0s\u001b[0m 2ms/step - loss: 0.0362 - mae: 0.1447 - val_loss: 0.0347 - val_mae: 0.1438\n",
      "Epoch 73/100\n",
      "\u001b[1m63/63\u001b[0m \u001b[32m━━━━━━━━━━━━━━━━━━━━\u001b[0m\u001b[37m\u001b[0m \u001b[1m0s\u001b[0m 2ms/step - loss: 0.0352 - mae: 0.1410 - val_loss: 0.0350 - val_mae: 0.1437\n",
      "Epoch 74/100\n",
      "\u001b[1m63/63\u001b[0m \u001b[32m━━━━━━━━━━━━━━━━━━━━\u001b[0m\u001b[37m\u001b[0m \u001b[1m0s\u001b[0m 2ms/step - loss: 0.0369 - mae: 0.1464 - val_loss: 0.0348 - val_mae: 0.1430\n",
      "Epoch 75/100\n",
      "\u001b[1m63/63\u001b[0m \u001b[32m━━━━━━━━━━━━━━━━━━━━\u001b[0m\u001b[37m\u001b[0m \u001b[1m0s\u001b[0m 2ms/step - loss: 0.0355 - mae: 0.1439 - val_loss: 0.0347 - val_mae: 0.1429\n",
      "Epoch 76/100\n",
      "\u001b[1m63/63\u001b[0m \u001b[32m━━━━━━━━━━━━━━━━━━━━\u001b[0m\u001b[37m\u001b[0m \u001b[1m0s\u001b[0m 2ms/step - loss: 0.0353 - mae: 0.1407 - val_loss: 0.0355 - val_mae: 0.1455\n",
      "Epoch 77/100\n",
      "\u001b[1m63/63\u001b[0m \u001b[32m━━━━━━━━━━━━━━━━━━━━\u001b[0m\u001b[37m\u001b[0m \u001b[1m0s\u001b[0m 2ms/step - loss: 0.0378 - mae: 0.1491 - val_loss: 0.0351 - val_mae: 0.1434\n",
      "Epoch 78/100\n",
      "\u001b[1m63/63\u001b[0m \u001b[32m━━━━━━━━━━━━━━━━━━━━\u001b[0m\u001b[37m\u001b[0m \u001b[1m0s\u001b[0m 2ms/step - loss: 0.0355 - mae: 0.1448 - val_loss: 0.0344 - val_mae: 0.1427\n",
      "Epoch 79/100\n",
      "\u001b[1m63/63\u001b[0m \u001b[32m━━━━━━━━━━━━━━━━━━━━\u001b[0m\u001b[37m\u001b[0m \u001b[1m0s\u001b[0m 4ms/step - loss: 0.0355 - mae: 0.1415 - val_loss: 0.0347 - val_mae: 0.1436\n",
      "Epoch 80/100\n",
      "\u001b[1m63/63\u001b[0m \u001b[32m━━━━━━━━━━━━━━━━━━━━\u001b[0m\u001b[37m\u001b[0m \u001b[1m0s\u001b[0m 2ms/step - loss: 0.0366 - mae: 0.1458 - val_loss: 0.0347 - val_mae: 0.1438\n",
      "Epoch 81/100\n",
      "\u001b[1m63/63\u001b[0m \u001b[32m━━━━━━━━━━━━━━━━━━━━\u001b[0m\u001b[37m\u001b[0m \u001b[1m0s\u001b[0m 3ms/step - loss: 0.0356 - mae: 0.1439 - val_loss: 0.0347 - val_mae: 0.1406\n",
      "Epoch 82/100\n",
      "\u001b[1m63/63\u001b[0m \u001b[32m━━━━━━━━━━━━━━━━━━━━\u001b[0m\u001b[37m\u001b[0m \u001b[1m0s\u001b[0m 3ms/step - loss: 0.0371 - mae: 0.1463 - val_loss: 0.0356 - val_mae: 0.1453\n",
      "Epoch 83/100\n",
      "\u001b[1m63/63\u001b[0m \u001b[32m━━━━━━━━━━━━━━━━━━━━\u001b[0m\u001b[37m\u001b[0m \u001b[1m0s\u001b[0m 2ms/step - loss: 0.0361 - mae: 0.1449 - val_loss: 0.0342 - val_mae: 0.1417\n",
      "Epoch 84/100\n",
      "\u001b[1m63/63\u001b[0m \u001b[32m━━━━━━━━━━━━━━━━━━━━\u001b[0m\u001b[37m\u001b[0m \u001b[1m0s\u001b[0m 2ms/step - loss: 0.0379 - mae: 0.1502 - val_loss: 0.0343 - val_mae: 0.1409\n",
      "Epoch 85/100\n",
      "\u001b[1m63/63\u001b[0m \u001b[32m━━━━━━━━━━━━━━━━━━━━\u001b[0m\u001b[37m\u001b[0m \u001b[1m0s\u001b[0m 2ms/step - loss: 0.0360 - mae: 0.1436 - val_loss: 0.0344 - val_mae: 0.1433\n",
      "Epoch 86/100\n",
      "\u001b[1m63/63\u001b[0m \u001b[32m━━━━━━━━━━━━━━━━━━━━\u001b[0m\u001b[37m\u001b[0m \u001b[1m0s\u001b[0m 4ms/step - loss: 0.0357 - mae: 0.1445 - val_loss: 0.0348 - val_mae: 0.1444\n",
      "Epoch 87/100\n",
      "\u001b[1m63/63\u001b[0m \u001b[32m━━━━━━━━━━━━━━━━━━━━\u001b[0m\u001b[37m\u001b[0m \u001b[1m0s\u001b[0m 2ms/step - loss: 0.0356 - mae: 0.1447 - val_loss: 0.0345 - val_mae: 0.1444\n",
      "Epoch 88/100\n",
      "\u001b[1m63/63\u001b[0m \u001b[32m━━━━━━━━━━━━━━━━━━━━\u001b[0m\u001b[37m\u001b[0m \u001b[1m0s\u001b[0m 2ms/step - loss: 0.0364 - mae: 0.1470 - val_loss: 0.0338 - val_mae: 0.1412\n",
      "Epoch 89/100\n",
      "\u001b[1m63/63\u001b[0m \u001b[32m━━━━━━━━━━━━━━━━━━━━\u001b[0m\u001b[37m\u001b[0m \u001b[1m0s\u001b[0m 2ms/step - loss: 0.0356 - mae: 0.1431 - val_loss: 0.0339 - val_mae: 0.1417\n",
      "Epoch 90/100\n",
      "\u001b[1m63/63\u001b[0m \u001b[32m━━━━━━━━━━━━━━━━━━━━\u001b[0m\u001b[37m\u001b[0m \u001b[1m0s\u001b[0m 2ms/step - loss: 0.0359 - mae: 0.1441 - val_loss: 0.0343 - val_mae: 0.1432\n",
      "Epoch 91/100\n",
      "\u001b[1m63/63\u001b[0m \u001b[32m━━━━━━━━━━━━━━━━━━━━\u001b[0m\u001b[37m\u001b[0m \u001b[1m0s\u001b[0m 2ms/step - loss: 0.0347 - mae: 0.1407 - val_loss: 0.0341 - val_mae: 0.1417\n",
      "Epoch 92/100\n",
      "\u001b[1m63/63\u001b[0m \u001b[32m━━━━━━━━━━━━━━━━━━━━\u001b[0m\u001b[37m\u001b[0m \u001b[1m0s\u001b[0m 2ms/step - loss: 0.0356 - mae: 0.1439 - val_loss: 0.0339 - val_mae: 0.1413\n",
      "Epoch 93/100\n",
      "\u001b[1m63/63\u001b[0m \u001b[32m━━━━━━━━━━━━━━━━━━━━\u001b[0m\u001b[37m\u001b[0m \u001b[1m0s\u001b[0m 2ms/step - loss: 0.0352 - mae: 0.1437 - val_loss: 0.0341 - val_mae: 0.1416\n",
      "Epoch 94/100\n",
      "\u001b[1m63/63\u001b[0m \u001b[32m━━━━━━━━━━━━━━━━━━━━\u001b[0m\u001b[37m\u001b[0m \u001b[1m0s\u001b[0m 2ms/step - loss: 0.0354 - mae: 0.1431 - val_loss: 0.0340 - val_mae: 0.1420\n",
      "Epoch 95/100\n",
      "\u001b[1m63/63\u001b[0m \u001b[32m━━━━━━━━━━━━━━━━━━━━\u001b[0m\u001b[37m\u001b[0m \u001b[1m0s\u001b[0m 2ms/step - loss: 0.0349 - mae: 0.1414 - val_loss: 0.0340 - val_mae: 0.1422\n",
      "Epoch 96/100\n",
      "\u001b[1m63/63\u001b[0m \u001b[32m━━━━━━━━━━━━━━━━━━━━\u001b[0m\u001b[37m\u001b[0m \u001b[1m0s\u001b[0m 2ms/step - loss: 0.0341 - mae: 0.1405 - val_loss: 0.0342 - val_mae: 0.1414\n",
      "Epoch 97/100\n",
      "\u001b[1m63/63\u001b[0m \u001b[32m━━━━━━━━━━━━━━━━━━━━\u001b[0m\u001b[37m\u001b[0m \u001b[1m0s\u001b[0m 2ms/step - loss: 0.0353 - mae: 0.1436 - val_loss: 0.0344 - val_mae: 0.1436\n",
      "Epoch 98/100\n",
      "\u001b[1m63/63\u001b[0m \u001b[32m━━━━━━━━━━━━━━━━━━━━\u001b[0m\u001b[37m\u001b[0m \u001b[1m0s\u001b[0m 2ms/step - loss: 0.0358 - mae: 0.1448 - val_loss: 0.0346 - val_mae: 0.1438\n",
      "Epoch 99/100\n",
      "\u001b[1m63/63\u001b[0m \u001b[32m━━━━━━━━━━━━━━━━━━━━\u001b[0m\u001b[37m\u001b[0m \u001b[1m0s\u001b[0m 2ms/step - loss: 0.0351 - mae: 0.1436 - val_loss: 0.0338 - val_mae: 0.1422\n",
      "Epoch 100/100\n",
      "\u001b[1m63/63\u001b[0m \u001b[32m━━━━━━━━━━━━━━━━━━━━\u001b[0m\u001b[37m\u001b[0m \u001b[1m0s\u001b[0m 2ms/step - loss: 0.0348 - mae: 0.1441 - val_loss: 0.0341 - val_mae: 0.1413\n",
      "\u001b[1m16/16\u001b[0m \u001b[32m━━━━━━━━━━━━━━━━━━━━\u001b[0m\u001b[37m\u001b[0m \u001b[1m0s\u001b[0m 3ms/step \n"
     ]
    },
    {
     "data": {
      "image/png": "[encoded data removed]",
      "text/plain": [
       "<Figure size 640x480 with 1 Axes>"
      ]
     },
     "metadata": {},
     "output_type": "display_data"
    },
    {
     "data": {
      "image/png": "[encoded data removed]",
      "text/plain": [
       "<Figure size 640x480 with 1 Axes>"
      ]
     },
     "metadata": {},
     "output_type": "display_data"
    },
    {
     "name": "stdout",
     "output_type": "stream",
     "text": [
      "\u001b[1m16/16\u001b[0m \u001b[32m━━━━━━━━━━━━━━━━━━━━\u001b[0m\u001b[37m\u001b[0m \u001b[1m0s\u001b[0m 933us/step - loss: 0.0353 - mae: 0.1447\n",
      "MSE:  0.034134235233068466\n",
      "MAE: 0.14133737981319427\n"
     ]
    },
    {
     "data": {
      "application/vnd.microsoft.datawrangler.viewer.v0+json": {
       "columns": [
        {
         "name": "SongID",
         "rawType": "object",
         "type": "string"
        },
        {
         "name": "Original Test",
         "rawType": "float64",
         "type": "float"
        },
        {
         "name": "Prediction Test",
         "rawType": "float32",
         "type": "float"
        },
        {
         "name": "Original over Thrashold",
         "rawType": "bool",
         "type": "boolean"
        },
        {
         "name": "Predicted over Thrashold",
         "rawType": "bool",
         "type": "boolean"
        }
       ],
       "conversionMethod": "pd.DataFrame",
       "ref": "02759221-f0f4-459c-910c-b0153f71b639",
       "rows": [
        [
         "DespacitoLuis Fonsi & Daddy Yankee Featuring Justin Bieber",
         "0.816",
         "0.6798061",
         "True",
         "False"
        ],
        [
         "Wish You Were HereAvril Lavigne",
         "0.34",
         "0.5747093",
         "False",
         "False"
        ],
        [
         "Wichita LinemanGlen Campbell",
         "0.391",
         "0.3621823",
         "False",
         "False"
        ],
        [
         "PinkAerosmith",
         "0.777",
         "0.5304682",
         "True",
         "False"
        ],
        [
         "Go Hard Or Go HomeWiz Khalifa & Iggy Azalea",
         "0.386",
         "0.54317194",
         "False",
         "False"
        ],
        [
         "Girls In The HoodMegan Thee Stallion",
         "0.874",
         "0.69051003",
         "True",
         "False"
        ],
        [
         "Farther On Down The RoadJoe Simon",
         "0.644",
         "0.73429966",
         "False",
         "True"
        ],
        [
         "I Can Love YouMary J. Blige",
         "0.7359999999999999",
         "0.52770805",
         "True",
         "False"
        ],
        [
         "Gypsys, Tramps & ThievesCher",
         "0.7049999999999998",
         "0.72065616",
         "True",
         "True"
        ],
        [
         "Reap What You SowBilly Stewart",
         "0.462",
         "0.73116904",
         "False",
         "True"
        ],
        [
         "The NoteDaryle Singletary",
         "0.382",
         "0.45024583",
         "False",
         "False"
        ],
        [
         "The Story Of Our LoveJohnny Mathis",
         "0.26",
         "0.42524144",
         "False",
         "False"
        ],
        [
         "Since I Don't Have YouDon McLean",
         "0.8249999999999998",
         "0.5824097",
         "True",
         "False"
        ],
        [
         "White FlagDido",
         "0.2839999999999999",
         "0.49500373",
         "False",
         "False"
        ],
        [
         "PresidentialYoungBloodZ",
         "0.3659999999999999",
         "0.499308",
         "False",
         "False"
        ],
        [
         "One Way Or AnotherBlondie",
         "0.85",
         "0.6839914",
         "True",
         "False"
        ],
        [
         "Battle ScarsLupe Fiasco & Guy Sebastian",
         "0.4939999999999999",
         "0.4489414",
         "False",
         "False"
        ],
        [
         "Can't Let GoMariah Carey",
         "0.18",
         "0.56827706",
         "False",
         "False"
        ],
        [
         "ImpossibleGloria Lynne",
         "0.343",
         "0.4409805",
         "False",
         "False"
        ],
        [
         "Can't Stop Dancin'Captain & Tennille",
         "0.7359999999999999",
         "0.721134",
         "True",
         "True"
        ],
        [
         "Her Royal MajestyJames Darren",
         "0.91",
         "0.72526395",
         "True",
         "True"
        ],
        [
         "Size Matters (Someday)Joe Nichols",
         "0.683",
         "0.7286385",
         "False",
         "True"
        ],
        [
         "RakataWisin & Yandel",
         "0.7189999999999999",
         "0.7396121",
         "True",
         "True"
        ],
        [
         "Deeper (In Love With You)The O'Jays",
         "0.902",
         "0.7960703",
         "True",
         "True"
        ],
        [
         "Night's On FireDavid Nail",
         "0.784",
         "0.65044403",
         "True",
         "False"
        ],
        [
         "Put OnYoung Jeezy Featuring Kanye West",
         "0.573",
         "0.74841994",
         "False",
         "True"
        ],
        [
         "Psychotic ReactionCount Five",
         "0.667",
         "0.5404924",
         "False",
         "False"
        ],
        [
         "All Through The NightTone-Loc",
         "0.802",
         "0.7403362",
         "True",
         "True"
        ],
        [
         "Say AahLindsey Pavao",
         "0.4209999999999999",
         "0.8044267",
         "False",
         "True"
        ],
        [
         "I'll Say Forever My LoveJimmy Ruffin",
         "0.7",
         "0.5257765",
         "False",
         "False"
        ],
        [
         "ObviousAriana Grande",
         "0.26",
         "0.662632",
         "False",
         "False"
        ],
        [
         "Rent MoneyFuture",
         "0.313",
         "0.43253782",
         "False",
         "False"
        ],
        [
         "You Mean The World To MeToni Braxton",
         "0.521",
         "0.64800406",
         "False",
         "False"
        ],
        [
         "Take Me In Your Arms (Rock Me)The Doobie Brothers",
         "0.932",
         "0.7597872",
         "True",
         "True"
        ],
        [
         "The PretenderFoo Fighters",
         "0.3649999999999999",
         "0.5950762",
         "False",
         "False"
        ],
        [
         "Prove Me WrongDavid Pack",
         "0.926",
         "0.7607162",
         "True",
         "True"
        ],
        [
         "Last Train To ClarksvilleThe Monkees",
         "0.683",
         "0.42728406",
         "False",
         "False"
        ],
        [
         "If You Asked Me ToCeline Dion",
         "0.227",
         "0.45027134",
         "False",
         "False"
        ],
        [
         "Cruisin'Smokey Robinson",
         "0.815",
         "0.5067841",
         "True",
         "False"
        ],
        [
         "Love Sneakin' Up On YouBonnie Raitt",
         "0.558",
         "0.67372787",
         "False",
         "False"
        ],
        [
         "MazeJuice WRLD",
         "0.443",
         "0.56099117",
         "False",
         "False"
        ],
        [
         "About YouTrey Songz",
         "0.7179999999999999",
         "0.47470555",
         "True",
         "False"
        ],
        [
         "Spend Some TimeElvin Bishop Featuring Mickey Thomas",
         "0.383",
         "0.6969749",
         "False",
         "False"
        ],
        [
         "The Good Lord Loves YouNeil Diamond",
         "0.184",
         "0.4592891",
         "False",
         "False"
        ],
        [
         "Hooked On SwingLarry Elgart And His Manhattan Swing Orchestra",
         "0.792",
         "0.6739032",
         "True",
         "False"
        ],
        [
         "Be My BoyParis Sisters",
         "0.2109999999999999",
         "0.42314368",
         "False",
         "False"
        ],
        [
         "ParanoidPost Malone",
         "0.2439999999999999",
         "0.40185097",
         "False",
         "False"
        ],
        [
         "BionicChristina Aguilera",
         "0.8539999999999999",
         "0.62046623",
         "True",
         "False"
        ],
        [
         "PartyBeyonce Featuring Andre 3000",
         "0.7119999999999999",
         "0.55651855",
         "True",
         "False"
        ],
        [
         "Kentucky WomanDeep Purple",
         "0.314",
         "0.38990265",
         "False",
         "False"
        ]
       ],
       "shape": {
        "columns": 4,
        "rows": 503
       }
      },
      "text/html": [
       "<div>\n",
       "<style scoped>\n",
       "    .dataframe tbody tr th:only-of-type {\n",
       "        vertical-align: middle;\n",
       "    }\n",
       "\n",
       "    .dataframe tbody tr th {\n",
       "        vertical-align: top;\n",
       "    }\n",
       "\n",
       "    .dataframe thead th {\n",
       "        text-align: right;\n",
       "    }\n",
       "</style>\n",
       "<table border=\"1\" class=\"dataframe\">\n",
       "  <thead>\n",
       "    <tr style=\"text-align: right;\">\n",
       "      <th></th>\n",
       "      <th>Original Test</th>\n",
       "      <th>Prediction Test</th>\n",
       "      <th>Original over Thrashold</th>\n",
       "      <th>Predicted over Thrashold</th>\n",
       "    </tr>\n",
       "    <tr>\n",
       "      <th>SongID</th>\n",
       "      <th></th>\n",
       "      <th></th>\n",
       "      <th></th>\n",
       "      <th></th>\n",
       "    </tr>\n",
       "  </thead>\n",
       "  <tbody>\n",
       "    <tr>\n",
       "      <th>DespacitoLuis Fonsi &amp; Daddy Yankee Featuring Justin Bieber</th>\n",
       "      <td>0.816</td>\n",
       "      <td>0.679806</td>\n",
       "      <td>True</td>\n",
       "      <td>False</td>\n",
       "    </tr>\n",
       "    <tr>\n",
       "      <th>Wish You Were HereAvril Lavigne</th>\n",
       "      <td>0.340</td>\n",
       "      <td>0.574709</td>\n",
       "      <td>False</td>\n",
       "      <td>False</td>\n",
       "    </tr>\n",
       "    <tr>\n",
       "      <th>Wichita LinemanGlen Campbell</th>\n",
       "      <td>0.391</td>\n",
       "      <td>0.362182</td>\n",
       "      <td>False</td>\n",
       "      <td>False</td>\n",
       "    </tr>\n",
       "    <tr>\n",
       "      <th>PinkAerosmith</th>\n",
       "      <td>0.777</td>\n",
       "      <td>0.530468</td>\n",
       "      <td>True</td>\n",
       "      <td>False</td>\n",
       "    </tr>\n",
       "    <tr>\n",
       "      <th>Go Hard Or Go HomeWiz Khalifa &amp; Iggy Azalea</th>\n",
       "      <td>0.386</td>\n",
       "      <td>0.543172</td>\n",
       "      <td>False</td>\n",
       "      <td>False</td>\n",
       "    </tr>\n",
       "    <tr>\n",
       "      <th>...</th>\n",
       "      <td>...</td>\n",
       "      <td>...</td>\n",
       "      <td>...</td>\n",
       "      <td>...</td>\n",
       "    </tr>\n",
       "    <tr>\n",
       "      <th>Pull Up N WreckBig Sean &amp; Metro Boomin Featuring 21 Savage</th>\n",
       "      <td>0.091</td>\n",
       "      <td>0.376027</td>\n",
       "      <td>False</td>\n",
       "      <td>False</td>\n",
       "    </tr>\n",
       "    <tr>\n",
       "      <th>Empire State Of MindGlee Cast</th>\n",
       "      <td>0.719</td>\n",
       "      <td>0.559324</td>\n",
       "      <td>True</td>\n",
       "      <td>False</td>\n",
       "    </tr>\n",
       "    <tr>\n",
       "      <th>Impossible Mission (Mission Impossible)Soul Survivors</th>\n",
       "      <td>0.786</td>\n",
       "      <td>0.707626</td>\n",
       "      <td>True</td>\n",
       "      <td>True</td>\n",
       "    </tr>\n",
       "    <tr>\n",
       "      <th>My SisterReba McEntire</th>\n",
       "      <td>0.496</td>\n",
       "      <td>0.656577</td>\n",
       "      <td>False</td>\n",
       "      <td>False</td>\n",
       "    </tr>\n",
       "    <tr>\n",
       "      <th>We Weren't CrazyJosh Gracin</th>\n",
       "      <td>0.657</td>\n",
       "      <td>0.609783</td>\n",
       "      <td>False</td>\n",
       "      <td>False</td>\n",
       "    </tr>\n",
       "  </tbody>\n",
       "</table>\n",
       "<p>503 rows × 4 columns</p>\n",
       "</div>"
      ],
      "text/plain": [
       "                                                    Original Test  \\\n",
       "SongID                                                              \n",
       "DespacitoLuis Fonsi & Daddy Yankee Featuring Ju...          0.816   \n",
       "Wish You Were HereAvril Lavigne                             0.340   \n",
       "Wichita LinemanGlen Campbell                                0.391   \n",
       "PinkAerosmith                                               0.777   \n",
       "Go Hard Or Go HomeWiz Khalifa & Iggy Azalea                 0.386   \n",
       "...                                                           ...   \n",
       "Pull Up N WreckBig Sean & Metro Boomin Featurin...          0.091   \n",
       "Empire State Of MindGlee Cast                               0.719   \n",
       "Impossible Mission (Mission Impossible)Soul Sur...          0.786   \n",
       "My SisterReba McEntire                                      0.496   \n",
       "We Weren't CrazyJosh Gracin                                 0.657   \n",
       "\n",
       "                                                    Prediction Test  \\\n",
       "SongID                                                                \n",
       "DespacitoLuis Fonsi & Daddy Yankee Featuring Ju...         0.679806   \n",
       "Wish You Were HereAvril Lavigne                            0.574709   \n",
       "Wichita LinemanGlen Campbell                               0.362182   \n",
       "PinkAerosmith                                              0.530468   \n",
       "Go Hard Or Go HomeWiz Khalifa & Iggy Azalea                0.543172   \n",
       "...                                                             ...   \n",
       "Pull Up N WreckBig Sean & Metro Boomin Featurin...         0.376027   \n",
       "Empire State Of MindGlee Cast                              0.559324   \n",
       "Impossible Mission (Mission Impossible)Soul Sur...         0.707626   \n",
       "My SisterReba McEntire                                     0.656577   \n",
       "We Weren't CrazyJosh Gracin                                0.609783   \n",
       "\n",
       "                                                    Original over Thrashold  \\\n",
       "SongID                                                                        \n",
       "DespacitoLuis Fonsi & Daddy Yankee Featuring Ju...                     True   \n",
       "Wish You Were HereAvril Lavigne                                       False   \n",
       "Wichita LinemanGlen Campbell                                          False   \n",
       "PinkAerosmith                                                          True   \n",
       "Go Hard Or Go HomeWiz Khalifa & Iggy Azalea                           False   \n",
       "...                                                                     ...   \n",
       "Pull Up N WreckBig Sean & Metro Boomin Featurin...                    False   \n",
       "Empire State Of MindGlee Cast                                          True   \n",
       "Impossible Mission (Mission Impossible)Soul Sur...                     True   \n",
       "My SisterReba McEntire                                                False   \n",
       "We Weren't CrazyJosh Gracin                                           False   \n",
       "\n",
       "                                                    Predicted over Thrashold  \n",
       "SongID                                                                        \n",
       "DespacitoLuis Fonsi & Daddy Yankee Featuring Ju...                     False  \n",
       "Wish You Were HereAvril Lavigne                                        False  \n",
       "Wichita LinemanGlen Campbell                                           False  \n",
       "PinkAerosmith                                                          False  \n",
       "Go Hard Or Go HomeWiz Khalifa & Iggy Azalea                            False  \n",
       "...                                                                      ...  \n",
       "Pull Up N WreckBig Sean & Metro Boomin Featurin...                     False  \n",
       "Empire State Of MindGlee Cast                                          False  \n",
       "Impossible Mission (Mission Impossible)Soul Sur...                      True  \n",
       "My SisterReba McEntire                                                 False  \n",
       "We Weren't CrazyJosh Gracin                                            False  \n",
       "\n",
       "[503 rows x 4 columns]"
      ]
     },
     "metadata": {},
     "output_type": "display_data"
    },
    {
     "data": {
      "image/png": "[encoded data removed]",
      "text/plain": [
       "<Figure size 640x480 with 2 Axes>"
      ]
     },
     "metadata": {},
     "output_type": "display_data"
    },
    {
     "data": {
      "application/vnd.microsoft.datawrangler.viewer.v0+json": {
       "columns": [
        {
         "name": "index",
         "rawType": "object",
         "type": "string"
        },
        {
         "name": "Value",
         "rawType": "float64",
         "type": "float"
        }
       ],
       "conversionMethod": "pd.DataFrame",
       "ref": "c80dfd9b-9110-4f71-908a-1b1e68e9b344",
       "rows": [
        [
         "Accuracy",
         "0.77"
        ],
        [
         "Precision",
         "0.79"
        ],
        [
         "Recall",
         "0.56"
        ],
        [
         "F1-score",
         "0.65"
        ]
       ],
       "shape": {
        "columns": 1,
        "rows": 4
       }
      },
      "text/html": [
       "<div>\n",
       "<style scoped>\n",
       "    .dataframe tbody tr th:only-of-type {\n",
       "        vertical-align: middle;\n",
       "    }\n",
       "\n",
       "    .dataframe tbody tr th {\n",
       "        vertical-align: top;\n",
       "    }\n",
       "\n",
       "    .dataframe thead th {\n",
       "        text-align: right;\n",
       "    }\n",
       "</style>\n",
       "<table border=\"1\" class=\"dataframe\">\n",
       "  <thead>\n",
       "    <tr style=\"text-align: right;\">\n",
       "      <th></th>\n",
       "      <th>Value</th>\n",
       "    </tr>\n",
       "  </thead>\n",
       "  <tbody>\n",
       "    <tr>\n",
       "      <th>Accuracy</th>\n",
       "      <td>0.77</td>\n",
       "    </tr>\n",
       "    <tr>\n",
       "      <th>Precision</th>\n",
       "      <td>0.79</td>\n",
       "    </tr>\n",
       "    <tr>\n",
       "      <th>Recall</th>\n",
       "      <td>0.56</td>\n",
       "    </tr>\n",
       "    <tr>\n",
       "      <th>F1-score</th>\n",
       "      <td>0.65</td>\n",
       "    </tr>\n",
       "  </tbody>\n",
       "</table>\n",
       "</div>"
      ],
      "text/plain": [
       "           Value\n",
       "Accuracy    0.77\n",
       "Precision   0.79\n",
       "Recall      0.56\n",
       "F1-score    0.65"
      ]
     },
     "metadata": {},
     "output_type": "display_data"
    }
   ],
   "source": [
    "dizio_model_user = {} #in this dizio we store the model for each user\n",
    "dizio_accuracy = {} #accuracy of the model\n",
    "\n",
    "reccomandations_songs_per_user={}\n",
    "\n",
    "#threshold\n",
    "threshold = 0.7\n",
    "\n",
    "#loop creation user and model\n",
    "for i in range(0, len(df_one_hot['User'].unique())): #i indica lo user   \n",
    "\n",
    "    print('---------------------------------------------------------')\n",
    "    print(f'USER {i}')\n",
    "\n",
    "    #select user\n",
    "    mask_user = df_one_hot['User'] == i\n",
    "    #display(mask_user)\n",
    "    user_i_df = df_one_hot[mask_user]\n",
    "    #display(user_i_df) \n",
    "\n",
    "    #return train and test\n",
    "    x_train,x_test,y_train,y_test = return_train_test(user_i_df)\n",
    "\n",
    "    #creation model for the specific user\n",
    "    model_user_i = create_model_user(x_train.shape[1])\n",
    "    \n",
    "    #fit the model with the different x, y train (for different user)\n",
    "    history_model_user_i = fit_model(model_user_i, x_train, y_train, x_test, y_test)\n",
    "\n",
    "    #prediction\n",
    "    y_hat = model_user_i.predict(x_test)\n",
    "\n",
    "    #plot the metrics of the model\n",
    "    plot_for_model(history_model_user_i)\n",
    "\n",
    "    #accuracy\n",
    "    test_loss, test_mae = model_user_i.evaluate(x_test,y_test,verbose=1)\n",
    "    print('MSE: ', test_loss)\n",
    "    print('MAE:', test_mae)\n",
    "\n",
    "    #reccomandation\n",
    "    reccomandation_df = reco_function_conf_matrix(y_test, y_hat, threshold)\n",
    "\n",
    "    #save the model in the dictionary\n",
    "    #add also the raccomandations\n",
    "    dizio_model_user[f\"User{i}\"] = {'model_user_i' : model_user_i,\n",
    "                                    'history_model_user_i': history_model_user_i,\n",
    "                                    'x_train': x_train,\n",
    "                                    'x_test': x_test,\n",
    "                                    'y_train': y_train,\n",
    "                                    'y_test': y_test,\n",
    "                                    'y_hat': y_hat,\n",
    "                                    'recommendations': {\n",
    "                                        'prediction':reccomandation_df[0],\n",
    "                                        'metrics':reccomandation_df[1]\n",
    "                                    }} \n",
    "    #save accuracy \n",
    "    dizio_accuracy[f'User{i}'] = {\n",
    "        'MAE' : mean_absolute_error(y_test, y_hat),\n",
    "        'MSE' : mean_squared_error(y_test, y_hat)\n",
    "    }"
   ]
  },
  {
   "cell_type": "markdown",
   "metadata": {},
   "source": [
    "# DISPLAY DICTIONARY ACCURACY"
   ]
  },
  {
   "cell_type": "code",
   "execution_count": 13,
   "metadata": {},
   "outputs": [
    {
     "data": {
      "text/plain": [
       "{'User0': {'MAE': 0.13871585406980533, 'MSE': 0.028775609670085495},\n",
       " 'User1': {'MAE': 0.13318964186771523, 'MSE': 0.027110890209937667},\n",
       " 'User2': {'MAE': 0.0969743321358106, 'MSE': 0.01881906194794541},\n",
       " 'User3': {'MAE': 0.132765344975945, 'MSE': 0.02615836208801075},\n",
       " 'User4': {'MAE': 0.1413373882379968, 'MSE': 0.029545508672895543}}"
      ]
     },
     "metadata": {},
     "output_type": "display_data"
    }
   ],
   "source": [
    "display(dizio_accuracy)"
   ]
  },
  {
   "cell_type": "markdown",
   "metadata": {},
   "source": [
    "A \"good\" MAE value depends on the context, but in general:  \n",
    "\n",
    "- **MAE < 0.05** → Excellent model (average error of 5%).  \n",
    "- **MAE between 0.05 and 0.1** → Good model.  \n",
    "- **MAE between 0.1 and 0.2** → Acceptable but improvable.  \n",
    "- **MAE > 0.2** → Low-precision model.  \n",
    "\n",
    "Our MAE is around **0.1**, it means that, on average, the model is off by **10 percentage points** on the 0-1 rating scale, which might be acceptable in many scenarios.\n",
    "\n",
    "-----------------------------------------------------------------------------------------------------------------------\n",
    "\n",
    "***WHY IS THIS MARGIN OF ERROR ACCETABLE ?***\n",
    "\n",
    "We must consider the nature of the data on which our model is trained.\n",
    "Since, to determine our users we used an unsupervised algorithm (**kmeans**), with shilhuette 0.49, this means as explained before, that we do not have good homogeneity within the cluster.\n",
    "\n",
    "So rightly our NN trained on this data will not capture such representative relationships, given that the user himself, as he has been defined, **does not have clear musical tastes**.\n",
    "\n",
    "**In order to have better results we will have user that lister only particular generes, this allowed us to decrease the errror since we will find a precise patterns in the data.**"
   ]
  },
  {
   "cell_type": "markdown",
   "metadata": {},
   "source": [
    "## CONCLUSION"
   ]
  },
  {
   "cell_type": "markdown",
   "metadata": {},
   "source": [
    "First of all we want to point out that several attempts have been made to add layers to make the network deeper, we have also tried to increase the number of neurons and modified the drop out neurons and regularization techniques within the neuron itself to avoid overfitting.\n",
    "\n",
    "Despite these attempts to reduce the MAE below the 10% threshold, this does not appear to be possible.\n",
    "Our explanation in this regard can be traced back to the nature and quantity of the data.\n",
    "\n",
    "It would therefore be useful to test our network with different data, in particular **users with homogeneous tastes**, this allowed us to easy find **'evident patterns'**, that will improve our prediction.\n",
    "\n",
    "__________________________________________________________________________________________________\n",
    "\n",
    "The recommendation algorithm has shown a general improvement in performance, with an average F1-score of **0.638** compared to the previous 0.624. Notably, User 2 now has the highest score (0.74), while User 3 remains the lowest (0.49), slightly lower than the previous value (0.53).\n",
    "\n",
    "This **improvement is due to the use of One-Hot Encoding**, which allowed the model to better represent song characteristics and refine recommendations. The effect is particularly visible in User 0 (+0.04), User 2 (+0.03), and User 4 (+0.02), while User 1 remained stable and User 3 experienced a slight decrease.\n",
    "\n",
    "Despite this progress, variability among users is still present, with User 3 continuing to score significantly lower. To further improve performance, more advanced encoding techniques or personalized approaches could be explored, especially for users with less defined musical preferences."
   ]
  },
  {
   "cell_type": "markdown",
   "metadata": {},
   "source": [
    "## DISPLAY DF METRICS CONFUSION MATRIX"
   ]
  },
  {
   "cell_type": "code",
   "execution_count": 14,
   "metadata": {},
   "outputs": [
    {
     "data": {
      "application/vnd.microsoft.datawrangler.viewer.v0+json": {
       "columns": [
        {
         "name": "index",
         "rawType": "object",
         "type": "string"
        },
        {
         "name": "User0",
         "rawType": "float64",
         "type": "float"
        },
        {
         "name": "User1",
         "rawType": "float64",
         "type": "float"
        },
        {
         "name": "User2",
         "rawType": "float64",
         "type": "float"
        },
        {
         "name": "User3",
         "rawType": "float64",
         "type": "float"
        },
        {
         "name": "User4",
         "rawType": "float64",
         "type": "float"
        }
       ],
       "conversionMethod": "pd.DataFrame",
       "ref": "03616c22-eeca-4288-9e92-0e490252aa98",
       "rows": [
        [
         "Accuracy",
         "0.7284710017574693",
         "0.7858672376873662",
         "0.7943361188486536",
         "0.8237762237762237",
         "0.7654075546719682"
        ],
        [
         "Precision",
         "0.7545787545787546",
         "0.7945736434108527",
         "0.665359477124183",
         "0.7956989247311828",
         "0.7857142857142857"
        ],
        [
         "Recall",
         "0.45982142857142855",
         "0.5823863636363636",
         "0.7313218390804598",
         "0.4088397790055249",
         "0.5555555555555556"
        ],
        [
         "F1-score",
         "0.5714285714285714",
         "0.6721311475409836",
         "0.6967830253251198",
         "0.5401459854014599",
         "0.650887573964497"
        ]
       ],
       "shape": {
        "columns": 5,
        "rows": 4
       }
      },
      "text/html": [
       "<div>\n",
       "<style scoped>\n",
       "    .dataframe tbody tr th:only-of-type {\n",
       "        vertical-align: middle;\n",
       "    }\n",
       "\n",
       "    .dataframe tbody tr th {\n",
       "        vertical-align: top;\n",
       "    }\n",
       "\n",
       "    .dataframe thead th {\n",
       "        text-align: right;\n",
       "    }\n",
       "</style>\n",
       "<table border=\"1\" class=\"dataframe\">\n",
       "  <thead>\n",
       "    <tr style=\"text-align: right;\">\n",
       "      <th></th>\n",
       "      <th>User0</th>\n",
       "      <th>User1</th>\n",
       "      <th>User2</th>\n",
       "      <th>User3</th>\n",
       "      <th>User4</th>\n",
       "    </tr>\n",
       "  </thead>\n",
       "  <tbody>\n",
       "    <tr>\n",
       "      <th>Accuracy</th>\n",
       "      <td>0.728471</td>\n",
       "      <td>0.785867</td>\n",
       "      <td>0.794336</td>\n",
       "      <td>0.823776</td>\n",
       "      <td>0.765408</td>\n",
       "    </tr>\n",
       "    <tr>\n",
       "      <th>Precision</th>\n",
       "      <td>0.754579</td>\n",
       "      <td>0.794574</td>\n",
       "      <td>0.665359</td>\n",
       "      <td>0.795699</td>\n",
       "      <td>0.785714</td>\n",
       "    </tr>\n",
       "    <tr>\n",
       "      <th>Recall</th>\n",
       "      <td>0.459821</td>\n",
       "      <td>0.582386</td>\n",
       "      <td>0.731322</td>\n",
       "      <td>0.408840</td>\n",
       "      <td>0.555556</td>\n",
       "    </tr>\n",
       "    <tr>\n",
       "      <th>F1-score</th>\n",
       "      <td>0.571429</td>\n",
       "      <td>0.672131</td>\n",
       "      <td>0.696783</td>\n",
       "      <td>0.540146</td>\n",
       "      <td>0.650888</td>\n",
       "    </tr>\n",
       "  </tbody>\n",
       "</table>\n",
       "</div>"
      ],
      "text/plain": [
       "              User0     User1     User2     User3     User4\n",
       "Accuracy   0.728471  0.785867  0.794336  0.823776  0.765408\n",
       "Precision  0.754579  0.794574  0.665359  0.795699  0.785714\n",
       "Recall     0.459821  0.582386  0.731322  0.408840  0.555556\n",
       "F1-score   0.571429  0.672131  0.696783  0.540146  0.650888"
      ]
     },
     "execution_count": 14,
     "metadata": {},
     "output_type": "execute_result"
    }
   ],
   "source": [
    "df_metrics_total = pd.concat([dizio_model_user['User0']['recommendations']['metrics'],dizio_model_user['User1']['recommendations']['metrics'],dizio_model_user['User2']['recommendations']['metrics'],dizio_model_user['User3']['recommendations']['metrics'],dizio_model_user['User4']['recommendations']['metrics']], axis=1)\n",
    "type(df_metrics_total)\n",
    "#df_metrics_total.columns(colume_name = ['User0','User1','User2','User3','User4'])\n",
    "df_metrics_total.columns = ['User0','User1','User2','User3','User4']\n",
    "df_metrics_total"
   ]
  },
  {
   "cell_type": "code",
   "execution_count": 18,
   "metadata": {},
   "outputs": [
    {
     "data": {
      "application/vnd.microsoft.datawrangler.viewer.v0+json": {
       "columns": [
        {
         "name": "index",
         "rawType": "object",
         "type": "string"
        },
        {
         "name": "Mean_Metrics",
         "rawType": "float64",
         "type": "float"
        }
       ],
       "conversionMethod": "pd.DataFrame",
       "ref": "93d8dd72-3df9-4211-a718-2db884451542",
       "rows": [
        [
         "Accuracy",
         "0.78"
        ],
        [
         "Precision",
         "0.759"
        ],
        [
         "Recall",
         "0.548"
        ],
        [
         "F1-score",
         "0.626"
        ]
       ],
       "shape": {
        "columns": 1,
        "rows": 4
       }
      },
      "text/html": [
       "<div>\n",
       "<style scoped>\n",
       "    .dataframe tbody tr th:only-of-type {\n",
       "        vertical-align: middle;\n",
       "    }\n",
       "\n",
       "    .dataframe tbody tr th {\n",
       "        vertical-align: top;\n",
       "    }\n",
       "\n",
       "    .dataframe thead th {\n",
       "        text-align: right;\n",
       "    }\n",
       "</style>\n",
       "<table border=\"1\" class=\"dataframe\">\n",
       "  <thead>\n",
       "    <tr style=\"text-align: right;\">\n",
       "      <th></th>\n",
       "      <th>Mean_Metrics</th>\n",
       "    </tr>\n",
       "  </thead>\n",
       "  <tbody>\n",
       "    <tr>\n",
       "      <th>Accuracy</th>\n",
       "      <td>0.780</td>\n",
       "    </tr>\n",
       "    <tr>\n",
       "      <th>Precision</th>\n",
       "      <td>0.759</td>\n",
       "    </tr>\n",
       "    <tr>\n",
       "      <th>Recall</th>\n",
       "      <td>0.548</td>\n",
       "    </tr>\n",
       "    <tr>\n",
       "      <th>F1-score</th>\n",
       "      <td>0.626</td>\n",
       "    </tr>\n",
       "  </tbody>\n",
       "</table>\n",
       "</div>"
      ],
      "text/plain": [
       "           Mean_Metrics\n",
       "Accuracy          0.780\n",
       "Precision         0.759\n",
       "Recall            0.548\n",
       "F1-score          0.626"
      ]
     },
     "metadata": {},
     "output_type": "display_data"
    }
   ],
   "source": [
    "df_metrics_mean = pd.DataFrame(data = df_metrics_total.mean(axis=1), columns=['Mean_Metrics'])\n",
    "display(df_metrics_mean.round(3))"
   ]
  },
  {
   "cell_type": "markdown",
   "metadata": {},
   "source": [
    "# DISPLAY DICTIONARY MODEL"
   ]
  },
  {
   "cell_type": "code",
   "execution_count": 16,
   "metadata": {},
   "outputs": [],
   "source": [
    "#display(dizio_model_user)"
   ]
  },
  {
   "cell_type": "markdown",
   "metadata": {},
   "source": [
    "# SAVE"
   ]
  },
  {
   "cell_type": "code",
   "execution_count": 17,
   "metadata": {},
   "outputs": [
    {
     "name": "stdout",
     "output_type": "stream",
     "text": [
      "Stored 'df_one_hot' (DataFrame)\n"
     ]
    }
   ],
   "source": [
    "%store df_one_hot"
   ]
  },
  {
   "cell_type": "markdown",
   "metadata": {},
   "source": []
  }
 ],
 "metadata": {
  "kernelspec": {
   "display_name": "Python 3",
   "language": "python",
   "name": "python3"
  },
  "language_info": {
   "codemirror_mode": {
    "name": "ipython",
    "version": 3
   },
   "file_extension": ".py",
   "mimetype": "text/x-python",
   "name": "python",
   "nbconvert_exporter": "python",
   "pygments_lexer": "ipython3",
   "version": "3.12.1"
  }
 },
 "nbformat": 4,
 "nbformat_minor": 2
}
