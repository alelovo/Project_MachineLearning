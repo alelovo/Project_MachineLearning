{
 "cells": [
  {
   "cell_type": "markdown",
   "metadata": {},
   "source": [
    "## DF + LIB"
   ]
  },
  {
   "cell_type": "code",
   "execution_count": 25,
   "metadata": {},
   "outputs": [],
   "source": [
    "%store -r merge_unique_df"
   ]
  },
  {
   "cell_type": "code",
   "execution_count": 26,
   "metadata": {},
   "outputs": [],
   "source": [
    "# essential\n",
    "import pandas as pd\n",
    "import matplotlib.pyplot as plt\n",
    "\n",
    "# for NN\n",
    "import keras\n",
    "from keras.models import Sequential\n",
    "# we most use sequential model -> one layer after the other (sequence of layer)\n",
    "from keras.layers import Dense, Activation\n",
    "from keras.optimizers import Adam\n",
    "from tensorflow.keras.models import Sequential\n",
    "from tensorflow.keras.layers import Dense\n",
    "from tensorflow.keras.optimizers import SGD\n",
    "from tensorflow.keras.metrics import MeanAbsolutePercentageError\n",
    "from tensorflow.keras.layers import Dense, Dropout\n",
    "from tensorflow.keras.regularizers import l2\n",
    "\n",
    "# non so se siano utili\n",
    "from sklearn.model_selection import train_test_split\n",
    "from sklearn.preprocessing import StandardScaler, LabelEncoder\n",
    "from sklearn.metrics import mean_squared_error, mean_absolute_error\n",
    "from sklearn.metrics import confusion_matrix, ConfusionMatrixDisplay\n",
    "\n",
    "#basics \n",
    "# essential\n",
    "import numpy as np\n",
    "import matplotlib.pyplot as plt\n",
    "import seaborn as sns"
   ]
  },
  {
   "cell_type": "markdown",
   "metadata": {},
   "source": [
    "# CREATION DUMMIES VARIABLES"
   ]
  },
  {
   "cell_type": "code",
   "execution_count": 27,
   "metadata": {},
   "outputs": [
    {
     "data": {
      "application/vnd.microsoft.datawrangler.viewer.v0+json": {
       "columns": [
        {
         "name": "SongID",
         "rawType": "object",
         "type": "string"
        },
        {
         "name": "genre_blues",
         "rawType": "bool",
         "type": "boolean"
        },
        {
         "name": "genre_country",
         "rawType": "bool",
         "type": "boolean"
        },
        {
         "name": "genre_dance",
         "rawType": "bool",
         "type": "boolean"
        },
        {
         "name": "genre_disco",
         "rawType": "bool",
         "type": "boolean"
        },
        {
         "name": "genre_folk",
         "rawType": "bool",
         "type": "boolean"
        },
        {
         "name": "genre_funk",
         "rawType": "bool",
         "type": "boolean"
        },
        {
         "name": "genre_house",
         "rawType": "bool",
         "type": "boolean"
        },
        {
         "name": "genre_indie",
         "rawType": "bool",
         "type": "boolean"
        },
        {
         "name": "genre_jazz",
         "rawType": "bool",
         "type": "boolean"
        },
        {
         "name": "genre_latin",
         "rawType": "bool",
         "type": "boolean"
        },
        {
         "name": "genre_metal",
         "rawType": "bool",
         "type": "boolean"
        },
        {
         "name": "genre_other",
         "rawType": "bool",
         "type": "boolean"
        },
        {
         "name": "genre_pop",
         "rawType": "bool",
         "type": "boolean"
        },
        {
         "name": "genre_r&b",
         "rawType": "bool",
         "type": "boolean"
        },
        {
         "name": "genre_rap",
         "rawType": "bool",
         "type": "boolean"
        },
        {
         "name": "genre_rock",
         "rawType": "bool",
         "type": "boolean"
        },
        {
         "name": "genre_soul",
         "rawType": "bool",
         "type": "boolean"
        }
       ],
       "conversionMethod": "pd.DataFrame",
       "ref": "e7afbbf6-6696-43e0-ab26-9dfac76206ff",
       "rows": [
        [
         "-twistin'-White Silver SandsBill Black's Combo",
         "False",
         "False",
         "False",
         "False",
         "False",
         "False",
         "False",
         "False",
         "False",
         "False",
         "False",
         "True",
         "False",
         "False",
         "False",
         "False",
         "False"
        ],
        [
         "¿Dònde Està Santa Claus? (Where Is Santa Claus?)Augie Rios",
         "False",
         "False",
         "False",
         "False",
         "False",
         "False",
         "False",
         "False",
         "False",
         "False",
         "False",
         "True",
         "False",
         "False",
         "False",
         "False",
         "False"
        ]
       ],
       "shape": {
        "columns": 17,
        "rows": 2
       }
      },
      "text/html": [
       "<div>\n",
       "<style scoped>\n",
       "    .dataframe tbody tr th:only-of-type {\n",
       "        vertical-align: middle;\n",
       "    }\n",
       "\n",
       "    .dataframe tbody tr th {\n",
       "        vertical-align: top;\n",
       "    }\n",
       "\n",
       "    .dataframe thead th {\n",
       "        text-align: right;\n",
       "    }\n",
       "</style>\n",
       "<table border=\"1\" class=\"dataframe\">\n",
       "  <thead>\n",
       "    <tr style=\"text-align: right;\">\n",
       "      <th></th>\n",
       "      <th>genre_blues</th>\n",
       "      <th>genre_country</th>\n",
       "      <th>genre_dance</th>\n",
       "      <th>genre_disco</th>\n",
       "      <th>genre_folk</th>\n",
       "      <th>genre_funk</th>\n",
       "      <th>genre_house</th>\n",
       "      <th>genre_indie</th>\n",
       "      <th>genre_jazz</th>\n",
       "      <th>genre_latin</th>\n",
       "      <th>genre_metal</th>\n",
       "      <th>genre_other</th>\n",
       "      <th>genre_pop</th>\n",
       "      <th>genre_r&amp;b</th>\n",
       "      <th>genre_rap</th>\n",
       "      <th>genre_rock</th>\n",
       "      <th>genre_soul</th>\n",
       "    </tr>\n",
       "    <tr>\n",
       "      <th>SongID</th>\n",
       "      <th></th>\n",
       "      <th></th>\n",
       "      <th></th>\n",
       "      <th></th>\n",
       "      <th></th>\n",
       "      <th></th>\n",
       "      <th></th>\n",
       "      <th></th>\n",
       "      <th></th>\n",
       "      <th></th>\n",
       "      <th></th>\n",
       "      <th></th>\n",
       "      <th></th>\n",
       "      <th></th>\n",
       "      <th></th>\n",
       "      <th></th>\n",
       "      <th></th>\n",
       "    </tr>\n",
       "  </thead>\n",
       "  <tbody>\n",
       "    <tr>\n",
       "      <th>-twistin'-White Silver SandsBill Black's Combo</th>\n",
       "      <td>False</td>\n",
       "      <td>False</td>\n",
       "      <td>False</td>\n",
       "      <td>False</td>\n",
       "      <td>False</td>\n",
       "      <td>False</td>\n",
       "      <td>False</td>\n",
       "      <td>False</td>\n",
       "      <td>False</td>\n",
       "      <td>False</td>\n",
       "      <td>False</td>\n",
       "      <td>True</td>\n",
       "      <td>False</td>\n",
       "      <td>False</td>\n",
       "      <td>False</td>\n",
       "      <td>False</td>\n",
       "      <td>False</td>\n",
       "    </tr>\n",
       "    <tr>\n",
       "      <th>¿Dònde Està Santa Claus? (Where Is Santa Claus?)Augie Rios</th>\n",
       "      <td>False</td>\n",
       "      <td>False</td>\n",
       "      <td>False</td>\n",
       "      <td>False</td>\n",
       "      <td>False</td>\n",
       "      <td>False</td>\n",
       "      <td>False</td>\n",
       "      <td>False</td>\n",
       "      <td>False</td>\n",
       "      <td>False</td>\n",
       "      <td>False</td>\n",
       "      <td>True</td>\n",
       "      <td>False</td>\n",
       "      <td>False</td>\n",
       "      <td>False</td>\n",
       "      <td>False</td>\n",
       "      <td>False</td>\n",
       "    </tr>\n",
       "  </tbody>\n",
       "</table>\n",
       "</div>"
      ],
      "text/plain": [
       "                                                    genre_blues  \\\n",
       "SongID                                                            \n",
       "-twistin'-White Silver SandsBill Black's Combo            False   \n",
       "¿Dònde Està Santa Claus? (Where Is Santa Claus?...        False   \n",
       "\n",
       "                                                    genre_country  \\\n",
       "SongID                                                              \n",
       "-twistin'-White Silver SandsBill Black's Combo              False   \n",
       "¿Dònde Està Santa Claus? (Where Is Santa Claus?...          False   \n",
       "\n",
       "                                                    genre_dance  genre_disco  \\\n",
       "SongID                                                                         \n",
       "-twistin'-White Silver SandsBill Black's Combo            False        False   \n",
       "¿Dònde Està Santa Claus? (Where Is Santa Claus?...        False        False   \n",
       "\n",
       "                                                    genre_folk  genre_funk  \\\n",
       "SongID                                                                       \n",
       "-twistin'-White Silver SandsBill Black's Combo           False       False   \n",
       "¿Dònde Està Santa Claus? (Where Is Santa Claus?...       False       False   \n",
       "\n",
       "                                                    genre_house  genre_indie  \\\n",
       "SongID                                                                         \n",
       "-twistin'-White Silver SandsBill Black's Combo            False        False   \n",
       "¿Dònde Està Santa Claus? (Where Is Santa Claus?...        False        False   \n",
       "\n",
       "                                                    genre_jazz  genre_latin  \\\n",
       "SongID                                                                        \n",
       "-twistin'-White Silver SandsBill Black's Combo           False        False   \n",
       "¿Dònde Està Santa Claus? (Where Is Santa Claus?...       False        False   \n",
       "\n",
       "                                                    genre_metal  genre_other  \\\n",
       "SongID                                                                         \n",
       "-twistin'-White Silver SandsBill Black's Combo            False         True   \n",
       "¿Dònde Està Santa Claus? (Where Is Santa Claus?...        False         True   \n",
       "\n",
       "                                                    genre_pop  genre_r&b  \\\n",
       "SongID                                                                     \n",
       "-twistin'-White Silver SandsBill Black's Combo          False      False   \n",
       "¿Dònde Està Santa Claus? (Where Is Santa Claus?...      False      False   \n",
       "\n",
       "                                                    genre_rap  genre_rock  \\\n",
       "SongID                                                                      \n",
       "-twistin'-White Silver SandsBill Black's Combo          False       False   \n",
       "¿Dònde Està Santa Claus? (Where Is Santa Claus?...      False       False   \n",
       "\n",
       "                                                    genre_soul  \n",
       "SongID                                                          \n",
       "-twistin'-White Silver SandsBill Black's Combo           False  \n",
       "¿Dònde Està Santa Claus? (Where Is Santa Claus?...       False  "
      ]
     },
     "execution_count": 27,
     "metadata": {},
     "output_type": "execute_result"
    }
   ],
   "source": [
    "# in order to obtain the True/False for each genre\n",
    "onehot_enc=pd.get_dummies(merge_unique_df['maingenere'],prefix='genre')\n",
    "onehot_enc.head(2)"
   ]
  },
  {
   "cell_type": "code",
   "execution_count": 28,
   "metadata": {},
   "outputs": [
    {
     "name": "stderr",
     "output_type": "stream",
     "text": [
      "C:\\Users\\elped\\AppData\\Local\\Temp\\ipykernel_16540\\823651478.py:2: FutureWarning: DataFrame.applymap has been deprecated. Use DataFrame.map instead.\n",
      "  one_hot_enc_binary = onehot_enc.applymap(lambda x: 1 if x else 0)\n"
     ]
    }
   ],
   "source": [
    "# Conversione in valori binari (0 o 1) per rappresentare il main genere con 1 e gli altri con 0\n",
    "one_hot_enc_binary = onehot_enc.applymap(lambda x: 1 if x else 0)"
   ]
  },
  {
   "cell_type": "code",
   "execution_count": 29,
   "metadata": {},
   "outputs": [
    {
     "data": {
      "application/vnd.microsoft.datawrangler.viewer.v0+json": {
       "columns": [
        {
         "name": "SongID",
         "rawType": "object",
         "type": "string"
        },
        {
         "name": "Performer",
         "rawType": "object",
         "type": "string"
        },
        {
         "name": "Song",
         "rawType": "object",
         "type": "string"
        },
        {
         "name": "spotify_genre",
         "rawType": "object",
         "type": "string"
        },
        {
         "name": "spotify_track_duration_minute",
         "rawType": "float64",
         "type": "float"
        },
        {
         "name": "spotify_track_explicit",
         "rawType": "object",
         "type": "string"
        },
        {
         "name": "spotify_track_album",
         "rawType": "object",
         "type": "string"
        },
        {
         "name": "danceability",
         "rawType": "float64",
         "type": "float"
        },
        {
         "name": "energy",
         "rawType": "float64",
         "type": "float"
        },
        {
         "name": "key",
         "rawType": "float64",
         "type": "float"
        },
        {
         "name": "loudness",
         "rawType": "float64",
         "type": "float"
        },
        {
         "name": "mode",
         "rawType": "float64",
         "type": "float"
        },
        {
         "name": "speechiness",
         "rawType": "float64",
         "type": "float"
        },
        {
         "name": "acousticness",
         "rawType": "float64",
         "type": "float"
        },
        {
         "name": "instrumentalness",
         "rawType": "float64",
         "type": "float"
        },
        {
         "name": "liveness",
         "rawType": "float64",
         "type": "float"
        },
        {
         "name": "valence",
         "rawType": "float64",
         "type": "float"
        },
        {
         "name": "tempo",
         "rawType": "float64",
         "type": "float"
        },
        {
         "name": "time_signature",
         "rawType": "float64",
         "type": "float"
        },
        {
         "name": "spotify_track_popularity",
         "rawType": "float64",
         "type": "float"
        },
        {
         "name": "maingenere",
         "rawType": "object",
         "type": "string"
        },
        {
         "name": "User",
         "rawType": "int32",
         "type": "integer"
        },
        {
         "name": "genre_blues",
         "rawType": "int64",
         "type": "integer"
        },
        {
         "name": "genre_country",
         "rawType": "int64",
         "type": "integer"
        },
        {
         "name": "genre_dance",
         "rawType": "int64",
         "type": "integer"
        },
        {
         "name": "genre_disco",
         "rawType": "int64",
         "type": "integer"
        },
        {
         "name": "genre_folk",
         "rawType": "int64",
         "type": "integer"
        },
        {
         "name": "genre_funk",
         "rawType": "int64",
         "type": "integer"
        },
        {
         "name": "genre_house",
         "rawType": "int64",
         "type": "integer"
        },
        {
         "name": "genre_indie",
         "rawType": "int64",
         "type": "integer"
        },
        {
         "name": "genre_jazz",
         "rawType": "int64",
         "type": "integer"
        },
        {
         "name": "genre_latin",
         "rawType": "int64",
         "type": "integer"
        },
        {
         "name": "genre_metal",
         "rawType": "int64",
         "type": "integer"
        },
        {
         "name": "genre_other",
         "rawType": "int64",
         "type": "integer"
        },
        {
         "name": "genre_pop",
         "rawType": "int64",
         "type": "integer"
        },
        {
         "name": "genre_r&b",
         "rawType": "int64",
         "type": "integer"
        },
        {
         "name": "genre_rap",
         "rawType": "int64",
         "type": "integer"
        },
        {
         "name": "genre_rock",
         "rawType": "int64",
         "type": "integer"
        },
        {
         "name": "genre_soul",
         "rawType": "int64",
         "type": "integer"
        }
       ],
       "conversionMethod": "pd.DataFrame",
       "ref": "200d1554-878d-497f-b875-2b612eae10cc",
       "rows": [
        [
         "-twistin'-White Silver SandsBill Black's Combo",
         "Bill Black's Combo",
         "-twistin'-White Silver Sands",
         "[]",
         "3.43",
         "unknown",
         "single",
         "0.59",
         "0.57",
         "5.37",
         "-9.97",
         "0.75",
         "0.07",
         "0.4",
         "0.08",
         "0.2",
         "0.63",
         "117.76",
         "3.89",
         "22.16",
         "other",
         "2",
         "0",
         "0",
         "0",
         "0",
         "0",
         "0",
         "0",
         "0",
         "0",
         "0",
         "0",
         "1",
         "0",
         "0",
         "0",
         "0",
         "0"
        ],
        [
         "¿Dònde Està Santa Claus? (Where Is Santa Claus?)Augie Rios",
         "Augie Rios",
         "¿Dònde Està Santa Claus? (Where Is Santa Claus?)",
         "['novelty']",
         "3.43",
         "unknown",
         "single",
         "0.59",
         "0.57",
         "5.37",
         "-9.97",
         "0.75",
         "0.07",
         "0.4",
         "0.08",
         "0.2",
         "0.63",
         "117.76",
         "3.89",
         "22.16",
         "other",
         "2",
         "0",
         "0",
         "0",
         "0",
         "0",
         "0",
         "0",
         "0",
         "0",
         "0",
         "0",
         "1",
         "0",
         "0",
         "0",
         "0",
         "0"
        ]
       ],
       "shape": {
        "columns": 38,
        "rows": 2
       }
      },
      "text/html": [
       "<div>\n",
       "<style scoped>\n",
       "    .dataframe tbody tr th:only-of-type {\n",
       "        vertical-align: middle;\n",
       "    }\n",
       "\n",
       "    .dataframe tbody tr th {\n",
       "        vertical-align: top;\n",
       "    }\n",
       "\n",
       "    .dataframe thead th {\n",
       "        text-align: right;\n",
       "    }\n",
       "</style>\n",
       "<table border=\"1\" class=\"dataframe\">\n",
       "  <thead>\n",
       "    <tr style=\"text-align: right;\">\n",
       "      <th></th>\n",
       "      <th>Performer</th>\n",
       "      <th>Song</th>\n",
       "      <th>spotify_genre</th>\n",
       "      <th>spotify_track_duration_minute</th>\n",
       "      <th>spotify_track_explicit</th>\n",
       "      <th>spotify_track_album</th>\n",
       "      <th>danceability</th>\n",
       "      <th>energy</th>\n",
       "      <th>key</th>\n",
       "      <th>loudness</th>\n",
       "      <th>...</th>\n",
       "      <th>genre_indie</th>\n",
       "      <th>genre_jazz</th>\n",
       "      <th>genre_latin</th>\n",
       "      <th>genre_metal</th>\n",
       "      <th>genre_other</th>\n",
       "      <th>genre_pop</th>\n",
       "      <th>genre_r&amp;b</th>\n",
       "      <th>genre_rap</th>\n",
       "      <th>genre_rock</th>\n",
       "      <th>genre_soul</th>\n",
       "    </tr>\n",
       "    <tr>\n",
       "      <th>SongID</th>\n",
       "      <th></th>\n",
       "      <th></th>\n",
       "      <th></th>\n",
       "      <th></th>\n",
       "      <th></th>\n",
       "      <th></th>\n",
       "      <th></th>\n",
       "      <th></th>\n",
       "      <th></th>\n",
       "      <th></th>\n",
       "      <th></th>\n",
       "      <th></th>\n",
       "      <th></th>\n",
       "      <th></th>\n",
       "      <th></th>\n",
       "      <th></th>\n",
       "      <th></th>\n",
       "      <th></th>\n",
       "      <th></th>\n",
       "      <th></th>\n",
       "      <th></th>\n",
       "    </tr>\n",
       "  </thead>\n",
       "  <tbody>\n",
       "    <tr>\n",
       "      <th>-twistin'-White Silver SandsBill Black's Combo</th>\n",
       "      <td>Bill Black's Combo</td>\n",
       "      <td>-twistin'-White Silver Sands</td>\n",
       "      <td>[]</td>\n",
       "      <td>3.43</td>\n",
       "      <td>unknown</td>\n",
       "      <td>single</td>\n",
       "      <td>0.59</td>\n",
       "      <td>0.57</td>\n",
       "      <td>5.37</td>\n",
       "      <td>-9.97</td>\n",
       "      <td>...</td>\n",
       "      <td>0</td>\n",
       "      <td>0</td>\n",
       "      <td>0</td>\n",
       "      <td>0</td>\n",
       "      <td>1</td>\n",
       "      <td>0</td>\n",
       "      <td>0</td>\n",
       "      <td>0</td>\n",
       "      <td>0</td>\n",
       "      <td>0</td>\n",
       "    </tr>\n",
       "    <tr>\n",
       "      <th>¿Dònde Està Santa Claus? (Where Is Santa Claus?)Augie Rios</th>\n",
       "      <td>Augie Rios</td>\n",
       "      <td>¿Dònde Està Santa Claus? (Where Is Santa Claus?)</td>\n",
       "      <td>['novelty']</td>\n",
       "      <td>3.43</td>\n",
       "      <td>unknown</td>\n",
       "      <td>single</td>\n",
       "      <td>0.59</td>\n",
       "      <td>0.57</td>\n",
       "      <td>5.37</td>\n",
       "      <td>-9.97</td>\n",
       "      <td>...</td>\n",
       "      <td>0</td>\n",
       "      <td>0</td>\n",
       "      <td>0</td>\n",
       "      <td>0</td>\n",
       "      <td>1</td>\n",
       "      <td>0</td>\n",
       "      <td>0</td>\n",
       "      <td>0</td>\n",
       "      <td>0</td>\n",
       "      <td>0</td>\n",
       "    </tr>\n",
       "  </tbody>\n",
       "</table>\n",
       "<p>2 rows × 38 columns</p>\n",
       "</div>"
      ],
      "text/plain": [
       "                                                             Performer  \\\n",
       "SongID                                                                   \n",
       "-twistin'-White Silver SandsBill Black's Combo      Bill Black's Combo   \n",
       "¿Dònde Està Santa Claus? (Where Is Santa Claus?...          Augie Rios   \n",
       "\n",
       "                                                                                                Song  \\\n",
       "SongID                                                                                                 \n",
       "-twistin'-White Silver SandsBill Black's Combo                          -twistin'-White Silver Sands   \n",
       "¿Dònde Està Santa Claus? (Where Is Santa Claus?...  ¿Dònde Està Santa Claus? (Where Is Santa Claus?)   \n",
       "\n",
       "                                                   spotify_genre  \\\n",
       "SongID                                                             \n",
       "-twistin'-White Silver SandsBill Black's Combo                []   \n",
       "¿Dònde Està Santa Claus? (Where Is Santa Claus?...   ['novelty']   \n",
       "\n",
       "                                                    spotify_track_duration_minute  \\\n",
       "SongID                                                                              \n",
       "-twistin'-White Silver SandsBill Black's Combo                               3.43   \n",
       "¿Dònde Està Santa Claus? (Where Is Santa Claus?...                           3.43   \n",
       "\n",
       "                                                   spotify_track_explicit  \\\n",
       "SongID                                                                      \n",
       "-twistin'-White Silver SandsBill Black's Combo                    unknown   \n",
       "¿Dònde Està Santa Claus? (Where Is Santa Claus?...                unknown   \n",
       "\n",
       "                                                   spotify_track_album  \\\n",
       "SongID                                                                   \n",
       "-twistin'-White Silver SandsBill Black's Combo                  single   \n",
       "¿Dònde Està Santa Claus? (Where Is Santa Claus?...              single   \n",
       "\n",
       "                                                    danceability  energy  \\\n",
       "SongID                                                                     \n",
       "-twistin'-White Silver SandsBill Black's Combo              0.59    0.57   \n",
       "¿Dònde Està Santa Claus? (Where Is Santa Claus?...          0.59    0.57   \n",
       "\n",
       "                                                     key  loudness  ...  \\\n",
       "SongID                                                              ...   \n",
       "-twistin'-White Silver SandsBill Black's Combo      5.37     -9.97  ...   \n",
       "¿Dònde Està Santa Claus? (Where Is Santa Claus?...  5.37     -9.97  ...   \n",
       "\n",
       "                                                    genre_indie  genre_jazz  \\\n",
       "SongID                                                                        \n",
       "-twistin'-White Silver SandsBill Black's Combo                0           0   \n",
       "¿Dònde Està Santa Claus? (Where Is Santa Claus?...            0           0   \n",
       "\n",
       "                                                    genre_latin  genre_metal  \\\n",
       "SongID                                                                         \n",
       "-twistin'-White Silver SandsBill Black's Combo                0            0   \n",
       "¿Dònde Està Santa Claus? (Where Is Santa Claus?...            0            0   \n",
       "\n",
       "                                                    genre_other  genre_pop  \\\n",
       "SongID                                                                       \n",
       "-twistin'-White Silver SandsBill Black's Combo                1          0   \n",
       "¿Dònde Està Santa Claus? (Where Is Santa Claus?...            1          0   \n",
       "\n",
       "                                                    genre_r&b  genre_rap  \\\n",
       "SongID                                                                     \n",
       "-twistin'-White Silver SandsBill Black's Combo              0          0   \n",
       "¿Dònde Està Santa Claus? (Where Is Santa Claus?...          0          0   \n",
       "\n",
       "                                                    genre_rock genre_soul  \n",
       "SongID                                                                     \n",
       "-twistin'-White Silver SandsBill Black's Combo               0          0  \n",
       "¿Dònde Està Santa Claus? (Where Is Santa Claus?...           0          0  \n",
       "\n",
       "[2 rows x 38 columns]"
      ]
     },
     "execution_count": 29,
     "metadata": {},
     "output_type": "execute_result"
    }
   ],
   "source": [
    "# we merge the 2 df\n",
    "df_one_hot=pd.concat([merge_unique_df,one_hot_enc_binary],axis=1)\n",
    "df_one_hot.head(2)"
   ]
  },
  {
   "cell_type": "markdown",
   "metadata": {},
   "source": [
    "# GENERALIZE ONE HOT - ENCODING - all users"
   ]
  },
  {
   "cell_type": "code",
   "execution_count": 30,
   "metadata": {},
   "outputs": [],
   "source": [
    "numerical_features = [\n",
    "    'spotify_track_duration_minute', 'danceability', 'energy', 'loudness',\n",
    "    'mode', 'speechiness', 'acousticness',\n",
    "    'spotify_track_popularity', 'instrumentalness', 'liveness']\n",
    "\n",
    "genre_features = [col for col in df_one_hot.columns if col.startswith('genre_')]\n",
    "\n",
    "# UNION OF THE TWO \n",
    "total_features = numerical_features + genre_features\n",
    "\n",
    "target='valence'"
   ]
  },
  {
   "cell_type": "markdown",
   "metadata": {},
   "source": [
    "## PLOTS"
   ]
  },
  {
   "cell_type": "code",
   "execution_count": 31,
   "metadata": {},
   "outputs": [],
   "source": [
    "def plot_for_model(history):\n",
    "\n",
    "    #plot loss\n",
    "    plt.figure()\n",
    "    plt.plot(history.history['loss'],color='blue',label='loss')\n",
    "    plt.plot(history.history['val_loss'],color='red',label='val_loss')\n",
    "    plt.xlabel('Epoch')\n",
    "    plt.ylabel('Loss')\n",
    "    plt.title('Loss function through epoch')\n",
    "    plt.legend()\n",
    "    plt.grid()\n",
    "    plt.show()\n",
    "\n",
    "    #plot mean\n",
    "    plt.figure()\n",
    "    plt.plot(history.history['mae'],color='blue',label='mae')\n",
    "    plt.plot(history.history['val_mae'],color='red',label='val_mae')\n",
    "    plt.xlabel('Epoch')\n",
    "    plt.ylabel('mae')\n",
    "    plt.title('Mae function through epoch')\n",
    "    plt.grid()\n",
    "    plt.legend()\n",
    "    plt.show()   "
   ]
  },
  {
   "cell_type": "markdown",
   "metadata": {},
   "source": [
    "## SPLIT DATA"
   ]
  },
  {
   "cell_type": "code",
   "execution_count": 32,
   "metadata": {},
   "outputs": [],
   "source": [
    "def return_train_test(df):\n",
    "    #extract the feature and target\n",
    "    x = df[total_features]\n",
    "    y = df[target]\n",
    "\n",
    "    #normalization\n",
    "    x[numerical_features] = StandardScaler().fit_transform(x[numerical_features])\n",
    "    #display(x)\n",
    "\n",
    "    x_train,x_test,y_train,y_test=train_test_split(x, y, test_size=0.2, random_state=42)\n",
    "    #display(x_train)\n",
    "\n",
    "    return x_train,x_test,y_train,y_test"
   ]
  },
  {
   "cell_type": "markdown",
   "metadata": {},
   "source": [
    "## MODEL"
   ]
  },
  {
   "cell_type": "code",
   "execution_count": 33,
   "metadata": {},
   "outputs": [],
   "source": [
    "# function to create the model\n",
    "def create_model_user(shape_x_train): #number of columns -> shape\n",
    "    \n",
    "    \n",
    "    '''model_user_i = Sequential([\n",
    "        Dense(32, input_dim=shape_x_train, activation='relu', name='first_layer'),\n",
    "        Dense(16, activation='relu', name='secod_layer'),\n",
    "        Dense(1, activation='linear', name='final_layer')\n",
    "    ])'''\n",
    "\n",
    "    model_user_i = Sequential([\n",
    "        \n",
    "        Dense(32,input_dim=shape_x_train,activation='relu',name='first_layer',kernel_regularizer=l2(0.01)),\n",
    "        Dropout(0.3),\n",
    "        Dense(16,activation='relu',name='secod_layer',kernel_regularizer=l2(0.01)),\n",
    "        Dropout(0.2),\n",
    "        #Dense(1,activation='linear',name='final_layer')\n",
    "        Dense(1,activation='sigmoid',name='final_layer') #ATENZION PROVIAMO SIGMOID PRCHè CI SERVE UN OUTPUT NEL RANGE DI O E 1\n",
    "    \n",
    "    ])\n",
    "\n",
    "    #compile the model\n",
    "    model_user_i.compile(optimizer = 'adam', loss = 'mse', metrics = ['mae'])\n",
    "\n",
    "    #summary\n",
    "    #display(model_user_i.summary())\n",
    "\n",
    "    #return  the model\n",
    "    return model_user_i\n"
   ]
  },
  {
   "cell_type": "markdown",
   "metadata": {},
   "source": [
    "## FIT MODEL"
   ]
  },
  {
   "cell_type": "code",
   "execution_count": 34,
   "metadata": {},
   "outputs": [],
   "source": [
    "#function to train the model\n",
    "def fit_model(model, x_train, y_train, x_test, y_test):\n",
    "\n",
    "    history_model = model.fit(\n",
    "        x_train,y_train,\n",
    "        validation_data = [x_test, y_test],\n",
    "        epochs=100,\n",
    "        batch_size=32,\n",
    "        #verbose=1\n",
    "    )\n",
    "\n",
    "    return history_model"
   ]
  },
  {
   "cell_type": "markdown",
   "metadata": {},
   "source": [
    "## RECOMANDATION FUNCTION + CONFUSION MATRIX"
   ]
  },
  {
   "cell_type": "code",
   "execution_count": 35,
   "metadata": {},
   "outputs": [],
   "source": [
    "def reco_function_conf_matrix(y_test, y_hat, threshold):\n",
    "    \n",
    "    #initialize dataframe    \n",
    "    data = {'Original Test': y_test,\n",
    "        'Prediction Test': y_hat.flatten(),\n",
    "        }\n",
    "    df_prediction = pd.DataFrame(data = data)\n",
    "    df_prediction['Original over Thrashold'] = df_prediction['Original Test'] > threshold\n",
    "    df_prediction['Predicted over Thrashold'] = df_prediction['Prediction Test'] > threshold\n",
    "    display(df_prediction)\n",
    "\n",
    "    #plot confusion matrix of reccomandation\n",
    "    cm = confusion_matrix(df_prediction['Original over Thrashold'], df_prediction['Predicted over Thrashold'])\n",
    "    \n",
    "    # METRIX FOR EVALUATE RECCOMANDATION \n",
    "    # Extract TP, TN, FP, FN\n",
    "    TN, FP, FN, TP = cm.ravel()\n",
    "    # Calculate metrics manually\n",
    "    accuracy = (TP + TN) / (TP + TN + FP + FN)\n",
    "    precision = TP / (TP + FP) if (TP + FP) > 0 else 0\n",
    "    recall = TP / (TP + FN) if (TP + FN) > 0 else 0\n",
    "    f1 = 2 * (precision * recall) / (precision + recall) if (precision + recall) > 0 else 0\n",
    "\n",
    "\n",
    "    plt.figure()\n",
    "    sns.heatmap(cm, annot=True, fmt='d', cmap='Blues', xticklabels=['True', 'False'], yticklabels=['True', 'False'])\n",
    "    plt.title('Confiusion matrix')\n",
    "    plt.xlabel('predicted')\n",
    "    plt.ylabel('actual')\n",
    "    plt.show()\n",
    "\n",
    "    # Store metrics in a DataFrame\n",
    "    df_metrics_cm = pd.DataFrame({\n",
    "        'Metric': ['Accuracy', 'Precision', 'Recall', 'F1-score'],\n",
    "        'Value': [accuracy, precision, recall, f1]\n",
    "    })\n",
    "\n",
    "    display(df_metrics_cm.round(2))\n",
    "\n",
    "    return df_prediction,df_metrics_cm"
   ]
  },
  {
   "cell_type": "markdown",
   "metadata": {},
   "source": [
    "## MAIN "
   ]
  },
  {
   "cell_type": "code",
   "execution_count": 36,
   "metadata": {},
   "outputs": [
    {
     "name": "stdout",
     "output_type": "stream",
     "text": [
      "---------------------------------------------------------\n",
      "USER 0\n"
     ]
    },
    {
     "name": "stderr",
     "output_type": "stream",
     "text": [
      "C:\\Users\\elped\\AppData\\Local\\Temp\\ipykernel_16540\\2934058548.py:7: SettingWithCopyWarning: \n",
      "A value is trying to be set on a copy of a slice from a DataFrame.\n",
      "Try using .loc[row_indexer,col_indexer] = value instead\n",
      "\n",
      "See the caveats in the documentation: https://pandas.pydata.org/pandas-docs/stable/user_guide/indexing.html#returning-a-view-versus-a-copy\n",
      "  x[numerical_features] = StandardScaler().fit_transform(x[numerical_features])\n",
      "c:\\Users\\elped\\AppData\\Local\\Programs\\Python\\Python312\\Lib\\site-packages\\keras\\src\\layers\\core\\dense.py:87: UserWarning: Do not pass an `input_shape`/`input_dim` argument to a layer. When using Sequential models, prefer using an `Input(shape)` object as the first layer in the model instead.\n",
      "  super().__init__(activity_regularizer=activity_regularizer, **kwargs)\n"
     ]
    },
    {
     "name": "stdout",
     "output_type": "stream",
     "text": [
      "Epoch 1/100\n",
      "\u001b[1m143/143\u001b[0m \u001b[32m━━━━━━━━━━━━━━━━━━━━\u001b[0m\u001b[37m\u001b[0m \u001b[1m4s\u001b[0m 10ms/step - loss: 0.4489 - mae: 0.2101 - val_loss: 0.1856 - val_mae: 0.1686\n",
      "Epoch 2/100\n",
      "\u001b[1m143/143\u001b[0m \u001b[32m━━━━━━━━━━━━━━━━━━━━\u001b[0m\u001b[37m\u001b[0m \u001b[1m0s\u001b[0m 2ms/step - loss: 0.1508 - mae: 0.1732 - val_loss: 0.0746 - val_mae: 0.1583\n",
      "Epoch 3/100\n",
      "\u001b[1m143/143\u001b[0m \u001b[32m━━━━━━━━━━━━━━━━━━━━\u001b[0m\u001b[37m\u001b[0m \u001b[1m0s\u001b[0m 3ms/step - loss: 0.0679 - mae: 0.1637 - val_loss: 0.0457 - val_mae: 0.1502\n",
      "Epoch 4/100\n",
      "\u001b[1m143/143\u001b[0m \u001b[32m━━━━━━━━━━━━━━━━━━━━\u001b[0m\u001b[37m\u001b[0m \u001b[1m0s\u001b[0m 3ms/step - loss: 0.0468 - mae: 0.1574 - val_loss: 0.0394 - val_mae: 0.1473\n",
      "Epoch 5/100\n",
      "\u001b[1m143/143\u001b[0m \u001b[32m━━━━━━━━━━━━━━━━━━━━\u001b[0m\u001b[37m\u001b[0m \u001b[1m0s\u001b[0m 3ms/step - loss: 0.0414 - mae: 0.1524 - val_loss: 0.0379 - val_mae: 0.1465\n",
      "Epoch 6/100\n",
      "\u001b[1m143/143\u001b[0m \u001b[32m━━━━━━━━━━━━━━━━━━━━\u001b[0m\u001b[37m\u001b[0m \u001b[1m0s\u001b[0m 3ms/step - loss: 0.0409 - mae: 0.1516 - val_loss: 0.0372 - val_mae: 0.1436\n",
      "Epoch 7/100\n",
      "\u001b[1m143/143\u001b[0m \u001b[32m━━━━━━━━━━━━━━━━━━━━\u001b[0m\u001b[37m\u001b[0m \u001b[1m0s\u001b[0m 3ms/step - loss: 0.0402 - mae: 0.1504 - val_loss: 0.0367 - val_mae: 0.1428\n",
      "Epoch 8/100\n",
      "\u001b[1m143/143\u001b[0m \u001b[32m━━━━━━━━━━━━━━━━━━━━\u001b[0m\u001b[37m\u001b[0m \u001b[1m1s\u001b[0m 7ms/step - loss: 0.0399 - mae: 0.1492 - val_loss: 0.0367 - val_mae: 0.1447\n",
      "Epoch 9/100\n",
      "\u001b[1m143/143\u001b[0m \u001b[32m━━━━━━━━━━━━━━━━━━━━\u001b[0m\u001b[37m\u001b[0m \u001b[1m1s\u001b[0m 6ms/step - loss: 0.0391 - mae: 0.1492 - val_loss: 0.0369 - val_mae: 0.1445\n",
      "Epoch 10/100\n",
      "\u001b[1m143/143\u001b[0m \u001b[32m━━━━━━━━━━━━━━━━━━━━\u001b[0m\u001b[37m\u001b[0m \u001b[1m0s\u001b[0m 2ms/step - loss: 0.0386 - mae: 0.1465 - val_loss: 0.0361 - val_mae: 0.1425\n",
      "Epoch 11/100\n",
      "\u001b[1m143/143\u001b[0m \u001b[32m━━━━━━━━━━━━━━━━━━━━\u001b[0m\u001b[37m\u001b[0m \u001b[1m1s\u001b[0m 3ms/step - loss: 0.0395 - mae: 0.1498 - val_loss: 0.0358 - val_mae: 0.1427\n",
      "Epoch 12/100\n",
      "\u001b[1m143/143\u001b[0m \u001b[32m━━━━━━━━━━━━━━━━━━━━\u001b[0m\u001b[37m\u001b[0m \u001b[1m1s\u001b[0m 2ms/step - loss: 0.0383 - mae: 0.1481 - val_loss: 0.0359 - val_mae: 0.1416\n",
      "Epoch 13/100\n",
      "\u001b[1m143/143\u001b[0m \u001b[32m━━━━━━━━━━━━━━━━━━━━\u001b[0m\u001b[37m\u001b[0m \u001b[1m1s\u001b[0m 2ms/step - loss: 0.0381 - mae: 0.1467 - val_loss: 0.0357 - val_mae: 0.1435\n",
      "Epoch 14/100\n",
      "\u001b[1m143/143\u001b[0m \u001b[32m━━━━━━━━━━━━━━━━━━━━\u001b[0m\u001b[37m\u001b[0m \u001b[1m1s\u001b[0m 8ms/step - loss: 0.0376 - mae: 0.1468 - val_loss: 0.0358 - val_mae: 0.1425\n",
      "Epoch 15/100\n",
      "\u001b[1m143/143\u001b[0m \u001b[32m━━━━━━━━━━━━━━━━━━━━\u001b[0m\u001b[37m\u001b[0m \u001b[1m1s\u001b[0m 5ms/step - loss: 0.0380 - mae: 0.1475 - val_loss: 0.0355 - val_mae: 0.1400\n",
      "Epoch 16/100\n",
      "\u001b[1m143/143\u001b[0m \u001b[32m━━━━━━━━━━━━━━━━━━━━\u001b[0m\u001b[37m\u001b[0m \u001b[1m1s\u001b[0m 5ms/step - loss: 0.0374 - mae: 0.1447 - val_loss: 0.0351 - val_mae: 0.1408\n",
      "Epoch 17/100\n",
      "\u001b[1m143/143\u001b[0m \u001b[32m━━━━━━━━━━━━━━━━━━━━\u001b[0m\u001b[37m\u001b[0m \u001b[1m1s\u001b[0m 4ms/step - loss: 0.0379 - mae: 0.1477 - val_loss: 0.0347 - val_mae: 0.1411\n",
      "Epoch 18/100\n",
      "\u001b[1m143/143\u001b[0m \u001b[32m━━━━━━━━━━━━━━━━━━━━\u001b[0m\u001b[37m\u001b[0m \u001b[1m1s\u001b[0m 5ms/step - loss: 0.0369 - mae: 0.1459 - val_loss: 0.0345 - val_mae: 0.1393\n",
      "Epoch 19/100\n",
      "\u001b[1m143/143\u001b[0m \u001b[32m━━━━━━━━━━━━━━━━━━━━\u001b[0m\u001b[37m\u001b[0m \u001b[1m1s\u001b[0m 2ms/step - loss: 0.0375 - mae: 0.1477 - val_loss: 0.0347 - val_mae: 0.1394\n",
      "Epoch 20/100\n",
      "\u001b[1m143/143\u001b[0m \u001b[32m━━━━━━━━━━━━━━━━━━━━\u001b[0m\u001b[37m\u001b[0m \u001b[1m1s\u001b[0m 3ms/step - loss: 0.0372 - mae: 0.1459 - val_loss: 0.0344 - val_mae: 0.1409\n",
      "Epoch 21/100\n",
      "\u001b[1m143/143\u001b[0m \u001b[32m━━━━━━━━━━━━━━━━━━━━\u001b[0m\u001b[37m\u001b[0m \u001b[1m0s\u001b[0m 3ms/step - loss: 0.0371 - mae: 0.1467 - val_loss: 0.0343 - val_mae: 0.1390\n",
      "Epoch 22/100\n",
      "\u001b[1m143/143\u001b[0m \u001b[32m━━━━━━━━━━━━━━━━━━━━\u001b[0m\u001b[37m\u001b[0m \u001b[1m1s\u001b[0m 2ms/step - loss: 0.0368 - mae: 0.1461 - val_loss: 0.0343 - val_mae: 0.1404\n",
      "Epoch 23/100\n",
      "\u001b[1m143/143\u001b[0m \u001b[32m━━━━━━━━━━━━━━━━━━━━\u001b[0m\u001b[37m\u001b[0m \u001b[1m1s\u001b[0m 4ms/step - loss: 0.0372 - mae: 0.1452 - val_loss: 0.0341 - val_mae: 0.1406\n",
      "Epoch 24/100\n",
      "\u001b[1m143/143\u001b[0m \u001b[32m━━━━━━━━━━━━━━━━━━━━\u001b[0m\u001b[37m\u001b[0m \u001b[1m0s\u001b[0m 3ms/step - loss: 0.0367 - mae: 0.1461 - val_loss: 0.0343 - val_mae: 0.1399\n",
      "Epoch 25/100\n",
      "\u001b[1m143/143\u001b[0m \u001b[32m━━━━━━━━━━━━━━━━━━━━\u001b[0m\u001b[37m\u001b[0m \u001b[1m1s\u001b[0m 3ms/step - loss: 0.0370 - mae: 0.1454 - val_loss: 0.0337 - val_mae: 0.1404\n",
      "Epoch 26/100\n",
      "\u001b[1m143/143\u001b[0m \u001b[32m━━━━━━━━━━━━━━━━━━━━\u001b[0m\u001b[37m\u001b[0m \u001b[1m1s\u001b[0m 3ms/step - loss: 0.0365 - mae: 0.1455 - val_loss: 0.0338 - val_mae: 0.1379\n",
      "Epoch 27/100\n",
      "\u001b[1m143/143\u001b[0m \u001b[32m━━━━━━━━━━━━━━━━━━━━\u001b[0m\u001b[37m\u001b[0m \u001b[1m1s\u001b[0m 4ms/step - loss: 0.0356 - mae: 0.1423 - val_loss: 0.0346 - val_mae: 0.1413\n",
      "Epoch 28/100\n",
      "\u001b[1m143/143\u001b[0m \u001b[32m━━━━━━━━━━━━━━━━━━━━\u001b[0m\u001b[37m\u001b[0m \u001b[1m1s\u001b[0m 4ms/step - loss: 0.0367 - mae: 0.1459 - val_loss: 0.0337 - val_mae: 0.1390\n",
      "Epoch 29/100\n",
      "\u001b[1m143/143\u001b[0m \u001b[32m━━━━━━━━━━━━━━━━━━━━\u001b[0m\u001b[37m\u001b[0m \u001b[1m1s\u001b[0m 4ms/step - loss: 0.0366 - mae: 0.1449 - val_loss: 0.0337 - val_mae: 0.1387\n",
      "Epoch 30/100\n",
      "\u001b[1m143/143\u001b[0m \u001b[32m━━━━━━━━━━━━━━━━━━━━\u001b[0m\u001b[37m\u001b[0m \u001b[1m1s\u001b[0m 3ms/step - loss: 0.0361 - mae: 0.1435 - val_loss: 0.0342 - val_mae: 0.1411\n",
      "Epoch 31/100\n",
      "\u001b[1m143/143\u001b[0m \u001b[32m━━━━━━━━━━━━━━━━━━━━\u001b[0m\u001b[37m\u001b[0m \u001b[1m0s\u001b[0m 3ms/step - loss: 0.0359 - mae: 0.1441 - val_loss: 0.0337 - val_mae: 0.1392\n",
      "Epoch 32/100\n",
      "\u001b[1m143/143\u001b[0m \u001b[32m━━━━━━━━━━━━━━━━━━━━\u001b[0m\u001b[37m\u001b[0m \u001b[1m1s\u001b[0m 5ms/step - loss: 0.0361 - mae: 0.1443 - val_loss: 0.0340 - val_mae: 0.1388\n",
      "Epoch 33/100\n",
      "\u001b[1m143/143\u001b[0m \u001b[32m━━━━━━━━━━━━━━━━━━━━\u001b[0m\u001b[37m\u001b[0m \u001b[1m1s\u001b[0m 5ms/step - loss: 0.0362 - mae: 0.1448 - val_loss: 0.0334 - val_mae: 0.1379\n",
      "Epoch 34/100\n",
      "\u001b[1m143/143\u001b[0m \u001b[32m━━━━━━━━━━━━━━━━━━━━\u001b[0m\u001b[37m\u001b[0m \u001b[1m1s\u001b[0m 5ms/step - loss: 0.0368 - mae: 0.1457 - val_loss: 0.0331 - val_mae: 0.1379\n",
      "Epoch 35/100\n",
      "\u001b[1m143/143\u001b[0m \u001b[32m━━━━━━━━━━━━━━━━━━━━\u001b[0m\u001b[37m\u001b[0m \u001b[1m1s\u001b[0m 5ms/step - loss: 0.0349 - mae: 0.1420 - val_loss: 0.0334 - val_mae: 0.1372\n",
      "Epoch 36/100\n",
      "\u001b[1m143/143\u001b[0m \u001b[32m━━━━━━━━━━━━━━━━━━━━\u001b[0m\u001b[37m\u001b[0m \u001b[1m1s\u001b[0m 3ms/step - loss: 0.0368 - mae: 0.1456 - val_loss: 0.0334 - val_mae: 0.1373\n",
      "Epoch 37/100\n",
      "\u001b[1m143/143\u001b[0m \u001b[32m━━━━━━━━━━━━━━━━━━━━\u001b[0m\u001b[37m\u001b[0m \u001b[1m1s\u001b[0m 3ms/step - loss: 0.0359 - mae: 0.1440 - val_loss: 0.0339 - val_mae: 0.1416\n",
      "Epoch 38/100\n",
      "\u001b[1m143/143\u001b[0m \u001b[32m━━━━━━━━━━━━━━━━━━━━\u001b[0m\u001b[37m\u001b[0m \u001b[1m1s\u001b[0m 6ms/step - loss: 0.0356 - mae: 0.1432 - val_loss: 0.0335 - val_mae: 0.1370\n",
      "Epoch 39/100\n",
      "\u001b[1m143/143\u001b[0m \u001b[32m━━━━━━━━━━━━━━━━━━━━\u001b[0m\u001b[37m\u001b[0m \u001b[1m1s\u001b[0m 4ms/step - loss: 0.0352 - mae: 0.1437 - val_loss: 0.0331 - val_mae: 0.1376\n",
      "Epoch 40/100\n",
      "\u001b[1m143/143\u001b[0m \u001b[32m━━━━━━━━━━━━━━━━━━━━\u001b[0m\u001b[37m\u001b[0m \u001b[1m0s\u001b[0m 2ms/step - loss: 0.0349 - mae: 0.1417 - val_loss: 0.0331 - val_mae: 0.1386\n",
      "Epoch 41/100\n",
      "\u001b[1m143/143\u001b[0m \u001b[32m━━━━━━━━━━━━━━━━━━━━\u001b[0m\u001b[37m\u001b[0m \u001b[1m0s\u001b[0m 2ms/step - loss: 0.0345 - mae: 0.1409 - val_loss: 0.0328 - val_mae: 0.1372\n",
      "Epoch 42/100\n",
      "\u001b[1m143/143\u001b[0m \u001b[32m━━━━━━━━━━━━━━━━━━━━\u001b[0m\u001b[37m\u001b[0m \u001b[1m0s\u001b[0m 2ms/step - loss: 0.0358 - mae: 0.1434 - val_loss: 0.0329 - val_mae: 0.1379\n",
      "Epoch 43/100\n",
      "\u001b[1m143/143\u001b[0m \u001b[32m━━━━━━━━━━━━━━━━━━━━\u001b[0m\u001b[37m\u001b[0m \u001b[1m1s\u001b[0m 2ms/step - loss: 0.0348 - mae: 0.1411 - val_loss: 0.0329 - val_mae: 0.1377\n",
      "Epoch 44/100\n",
      "\u001b[1m143/143\u001b[0m \u001b[32m━━━━━━━━━━━━━━━━━━━━\u001b[0m\u001b[37m\u001b[0m \u001b[1m0s\u001b[0m 2ms/step - loss: 0.0358 - mae: 0.1450 - val_loss: 0.0333 - val_mae: 0.1399\n",
      "Epoch 45/100\n",
      "\u001b[1m143/143\u001b[0m \u001b[32m━━━━━━━━━━━━━━━━━━━━\u001b[0m\u001b[37m\u001b[0m \u001b[1m1s\u001b[0m 4ms/step - loss: 0.0349 - mae: 0.1431 - val_loss: 0.0329 - val_mae: 0.1390\n",
      "Epoch 46/100\n",
      "\u001b[1m143/143\u001b[0m \u001b[32m━━━━━━━━━━━━━━━━━━━━\u001b[0m\u001b[37m\u001b[0m \u001b[1m1s\u001b[0m 4ms/step - loss: 0.0352 - mae: 0.1434 - val_loss: 0.0329 - val_mae: 0.1383\n",
      "Epoch 47/100\n",
      "\u001b[1m143/143\u001b[0m \u001b[32m━━━━━━━━━━━━━━━━━━━━\u001b[0m\u001b[37m\u001b[0m \u001b[1m1s\u001b[0m 3ms/step - loss: 0.0359 - mae: 0.1445 - val_loss: 0.0326 - val_mae: 0.1377\n",
      "Epoch 48/100\n",
      "\u001b[1m143/143\u001b[0m \u001b[32m━━━━━━━━━━━━━━━━━━━━\u001b[0m\u001b[37m\u001b[0m \u001b[1m0s\u001b[0m 3ms/step - loss: 0.0359 - mae: 0.1452 - val_loss: 0.0327 - val_mae: 0.1365\n",
      "Epoch 49/100\n",
      "\u001b[1m143/143\u001b[0m \u001b[32m━━━━━━━━━━━━━━━━━━━━\u001b[0m\u001b[37m\u001b[0m \u001b[1m1s\u001b[0m 3ms/step - loss: 0.0353 - mae: 0.1435 - val_loss: 0.0327 - val_mae: 0.1381\n",
      "Epoch 50/100\n",
      "\u001b[1m143/143\u001b[0m \u001b[32m━━━━━━━━━━━━━━━━━━━━\u001b[0m\u001b[37m\u001b[0m \u001b[1m1s\u001b[0m 5ms/step - loss: 0.0355 - mae: 0.1443 - val_loss: 0.0326 - val_mae: 0.1367\n",
      "Epoch 51/100\n",
      "\u001b[1m143/143\u001b[0m \u001b[32m━━━━━━━━━━━━━━━━━━━━\u001b[0m\u001b[37m\u001b[0m \u001b[1m1s\u001b[0m 3ms/step - loss: 0.0353 - mae: 0.1436 - val_loss: 0.0331 - val_mae: 0.1383\n",
      "Epoch 52/100\n",
      "\u001b[1m143/143\u001b[0m \u001b[32m━━━━━━━━━━━━━━━━━━━━\u001b[0m\u001b[37m\u001b[0m \u001b[1m1s\u001b[0m 4ms/step - loss: 0.0352 - mae: 0.1425 - val_loss: 0.0330 - val_mae: 0.1375\n",
      "Epoch 53/100\n",
      "\u001b[1m143/143\u001b[0m \u001b[32m━━━━━━━━━━━━━━━━━━━━\u001b[0m\u001b[37m\u001b[0m \u001b[1m0s\u001b[0m 3ms/step - loss: 0.0341 - mae: 0.1402 - val_loss: 0.0333 - val_mae: 0.1380\n",
      "Epoch 54/100\n",
      "\u001b[1m143/143\u001b[0m \u001b[32m━━━━━━━━━━━━━━━━━━━━\u001b[0m\u001b[37m\u001b[0m \u001b[1m1s\u001b[0m 8ms/step - loss: 0.0366 - mae: 0.1469 - val_loss: 0.0334 - val_mae: 0.1385\n",
      "Epoch 55/100\n",
      "\u001b[1m143/143\u001b[0m \u001b[32m━━━━━━━━━━━━━━━━━━━━\u001b[0m\u001b[37m\u001b[0m \u001b[1m1s\u001b[0m 3ms/step - loss: 0.0350 - mae: 0.1434 - val_loss: 0.0323 - val_mae: 0.1370\n",
      "Epoch 56/100\n",
      "\u001b[1m143/143\u001b[0m \u001b[32m━━━━━━━━━━━━━━━━━━━━\u001b[0m\u001b[37m\u001b[0m \u001b[1m1s\u001b[0m 3ms/step - loss: 0.0351 - mae: 0.1430 - val_loss: 0.0325 - val_mae: 0.1389\n",
      "Epoch 57/100\n",
      "\u001b[1m143/143\u001b[0m \u001b[32m━━━━━━━━━━━━━━━━━━━━\u001b[0m\u001b[37m\u001b[0m \u001b[1m0s\u001b[0m 2ms/step - loss: 0.0351 - mae: 0.1435 - val_loss: 0.0326 - val_mae: 0.1361\n",
      "Epoch 58/100\n",
      "\u001b[1m143/143\u001b[0m \u001b[32m━━━━━━━━━━━━━━━━━━━━\u001b[0m\u001b[37m\u001b[0m \u001b[1m0s\u001b[0m 3ms/step - loss: 0.0340 - mae: 0.1407 - val_loss: 0.0324 - val_mae: 0.1384\n",
      "Epoch 59/100\n",
      "\u001b[1m143/143\u001b[0m \u001b[32m━━━━━━━━━━━━━━━━━━━━\u001b[0m\u001b[37m\u001b[0m \u001b[1m1s\u001b[0m 4ms/step - loss: 0.0341 - mae: 0.1427 - val_loss: 0.0324 - val_mae: 0.1378\n",
      "Epoch 60/100\n",
      "\u001b[1m143/143\u001b[0m \u001b[32m━━━━━━━━━━━━━━━━━━━━\u001b[0m\u001b[37m\u001b[0m \u001b[1m1s\u001b[0m 3ms/step - loss: 0.0348 - mae: 0.1429 - val_loss: 0.0329 - val_mae: 0.1378\n",
      "Epoch 61/100\n",
      "\u001b[1m143/143\u001b[0m \u001b[32m━━━━━━━━━━━━━━━━━━━━\u001b[0m\u001b[37m\u001b[0m \u001b[1m0s\u001b[0m 3ms/step - loss: 0.0347 - mae: 0.1414 - val_loss: 0.0327 - val_mae: 0.1394\n",
      "Epoch 62/100\n",
      "\u001b[1m143/143\u001b[0m \u001b[32m━━━━━━━━━━━━━━━━━━━━\u001b[0m\u001b[37m\u001b[0m \u001b[1m1s\u001b[0m 4ms/step - loss: 0.0343 - mae: 0.1413 - val_loss: 0.0326 - val_mae: 0.1387\n",
      "Epoch 63/100\n",
      "\u001b[1m143/143\u001b[0m \u001b[32m━━━━━━━━━━━━━━━━━━━━\u001b[0m\u001b[37m\u001b[0m \u001b[1m1s\u001b[0m 4ms/step - loss: 0.0333 - mae: 0.1382 - val_loss: 0.0321 - val_mae: 0.1365\n",
      "Epoch 64/100\n",
      "\u001b[1m143/143\u001b[0m \u001b[32m━━━━━━━━━━━━━━━━━━━━\u001b[0m\u001b[37m\u001b[0m \u001b[1m1s\u001b[0m 4ms/step - loss: 0.0337 - mae: 0.1402 - val_loss: 0.0336 - val_mae: 0.1391\n",
      "Epoch 65/100\n",
      "\u001b[1m143/143\u001b[0m \u001b[32m━━━━━━━━━━━━━━━━━━━━\u001b[0m\u001b[37m\u001b[0m \u001b[1m1s\u001b[0m 6ms/step - loss: 0.0347 - mae: 0.1416 - val_loss: 0.0320 - val_mae: 0.1360\n",
      "Epoch 66/100\n",
      "\u001b[1m143/143\u001b[0m \u001b[32m━━━━━━━━━━━━━━━━━━━━\u001b[0m\u001b[37m\u001b[0m \u001b[1m1s\u001b[0m 4ms/step - loss: 0.0341 - mae: 0.1422 - val_loss: 0.0323 - val_mae: 0.1381\n",
      "Epoch 67/100\n",
      "\u001b[1m143/143\u001b[0m \u001b[32m━━━━━━━━━━━━━━━━━━━━\u001b[0m\u001b[37m\u001b[0m \u001b[1m2s\u001b[0m 12ms/step - loss: 0.0346 - mae: 0.1425 - val_loss: 0.0322 - val_mae: 0.1386\n",
      "Epoch 68/100\n",
      "\u001b[1m143/143\u001b[0m \u001b[32m━━━━━━━━━━━━━━━━━━━━\u001b[0m\u001b[37m\u001b[0m \u001b[1m1s\u001b[0m 4ms/step - loss: 0.0344 - mae: 0.1427 - val_loss: 0.0320 - val_mae: 0.1379\n",
      "Epoch 69/100\n",
      "\u001b[1m143/143\u001b[0m \u001b[32m━━━━━━━━━━━━━━━━━━━━\u001b[0m\u001b[37m\u001b[0m \u001b[1m0s\u001b[0m 3ms/step - loss: 0.0345 - mae: 0.1432 - val_loss: 0.0323 - val_mae: 0.1369\n",
      "Epoch 70/100\n",
      "\u001b[1m143/143\u001b[0m \u001b[32m━━━━━━━━━━━━━━━━━━━━\u001b[0m\u001b[37m\u001b[0m \u001b[1m0s\u001b[0m 2ms/step - loss: 0.0347 - mae: 0.1434 - val_loss: 0.0327 - val_mae: 0.1374\n",
      "Epoch 71/100\n",
      "\u001b[1m143/143\u001b[0m \u001b[32m━━━━━━━━━━━━━━━━━━━━\u001b[0m\u001b[37m\u001b[0m \u001b[1m1s\u001b[0m 2ms/step - loss: 0.0352 - mae: 0.1439 - val_loss: 0.0333 - val_mae: 0.1375\n",
      "Epoch 72/100\n",
      "\u001b[1m143/143\u001b[0m \u001b[32m━━━━━━━━━━━━━━━━━━━━\u001b[0m\u001b[37m\u001b[0m \u001b[1m0s\u001b[0m 3ms/step - loss: 0.0345 - mae: 0.1434 - val_loss: 0.0324 - val_mae: 0.1380\n",
      "Epoch 73/100\n",
      "\u001b[1m143/143\u001b[0m \u001b[32m━━━━━━━━━━━━━━━━━━━━\u001b[0m\u001b[37m\u001b[0m \u001b[1m1s\u001b[0m 3ms/step - loss: 0.0352 - mae: 0.1438 - val_loss: 0.0320 - val_mae: 0.1349\n",
      "Epoch 74/100\n",
      "\u001b[1m143/143\u001b[0m \u001b[32m━━━━━━━━━━━━━━━━━━━━\u001b[0m\u001b[37m\u001b[0m \u001b[1m1s\u001b[0m 4ms/step - loss: 0.0345 - mae: 0.1410 - val_loss: 0.0323 - val_mae: 0.1386\n",
      "Epoch 75/100\n",
      "\u001b[1m143/143\u001b[0m \u001b[32m━━━━━━━━━━━━━━━━━━━━\u001b[0m\u001b[37m\u001b[0m \u001b[1m1s\u001b[0m 3ms/step - loss: 0.0337 - mae: 0.1406 - val_loss: 0.0323 - val_mae: 0.1365\n",
      "Epoch 76/100\n",
      "\u001b[1m143/143\u001b[0m \u001b[32m━━━━━━━━━━━━━━━━━━━━\u001b[0m\u001b[37m\u001b[0m \u001b[1m0s\u001b[0m 3ms/step - loss: 0.0335 - mae: 0.1402 - val_loss: 0.0317 - val_mae: 0.1368\n",
      "Epoch 77/100\n",
      "\u001b[1m143/143\u001b[0m \u001b[32m━━━━━━━━━━━━━━━━━━━━\u001b[0m\u001b[37m\u001b[0m \u001b[1m0s\u001b[0m 3ms/step - loss: 0.0338 - mae: 0.1417 - val_loss: 0.0319 - val_mae: 0.1365\n",
      "Epoch 78/100\n",
      "\u001b[1m143/143\u001b[0m \u001b[32m━━━━━━━━━━━━━━━━━━━━\u001b[0m\u001b[37m\u001b[0m \u001b[1m0s\u001b[0m 3ms/step - loss: 0.0354 - mae: 0.1450 - val_loss: 0.0318 - val_mae: 0.1360\n",
      "Epoch 79/100\n",
      "\u001b[1m143/143\u001b[0m \u001b[32m━━━━━━━━━━━━━━━━━━━━\u001b[0m\u001b[37m\u001b[0m \u001b[1m1s\u001b[0m 3ms/step - loss: 0.0328 - mae: 0.1384 - val_loss: 0.0325 - val_mae: 0.1384\n",
      "Epoch 80/100\n",
      "\u001b[1m143/143\u001b[0m \u001b[32m━━━━━━━━━━━━━━━━━━━━\u001b[0m\u001b[37m\u001b[0m \u001b[1m1s\u001b[0m 3ms/step - loss: 0.0324 - mae: 0.1376 - val_loss: 0.0321 - val_mae: 0.1377\n",
      "Epoch 81/100\n",
      "\u001b[1m143/143\u001b[0m \u001b[32m━━━━━━━━━━━━━━━━━━━━\u001b[0m\u001b[37m\u001b[0m \u001b[1m1s\u001b[0m 4ms/step - loss: 0.0340 - mae: 0.1416 - val_loss: 0.0316 - val_mae: 0.1360\n",
      "Epoch 82/100\n",
      "\u001b[1m143/143\u001b[0m \u001b[32m━━━━━━━━━━━━━━━━━━━━\u001b[0m\u001b[37m\u001b[0m \u001b[1m1s\u001b[0m 4ms/step - loss: 0.0344 - mae: 0.1417 - val_loss: 0.0318 - val_mae: 0.1364\n",
      "Epoch 83/100\n",
      "\u001b[1m143/143\u001b[0m \u001b[32m━━━━━━━━━━━━━━━━━━━━\u001b[0m\u001b[37m\u001b[0m \u001b[1m1s\u001b[0m 6ms/step - loss: 0.0341 - mae: 0.1421 - val_loss: 0.0317 - val_mae: 0.1362\n",
      "Epoch 84/100\n",
      "\u001b[1m143/143\u001b[0m \u001b[32m━━━━━━━━━━━━━━━━━━━━\u001b[0m\u001b[37m\u001b[0m \u001b[1m0s\u001b[0m 3ms/step - loss: 0.0337 - mae: 0.1406 - val_loss: 0.0317 - val_mae: 0.1370\n",
      "Epoch 85/100\n",
      "\u001b[1m143/143\u001b[0m \u001b[32m━━━━━━━━━━━━━━━━━━━━\u001b[0m\u001b[37m\u001b[0m \u001b[1m0s\u001b[0m 3ms/step - loss: 0.0328 - mae: 0.1391 - val_loss: 0.0324 - val_mae: 0.1385\n",
      "Epoch 86/100\n",
      "\u001b[1m143/143\u001b[0m \u001b[32m━━━━━━━━━━━━━━━━━━━━\u001b[0m\u001b[37m\u001b[0m \u001b[1m1s\u001b[0m 3ms/step - loss: 0.0338 - mae: 0.1409 - val_loss: 0.0339 - val_mae: 0.1438\n",
      "Epoch 87/100\n",
      "\u001b[1m143/143\u001b[0m \u001b[32m━━━━━━━━━━━━━━━━━━━━\u001b[0m\u001b[37m\u001b[0m \u001b[1m1s\u001b[0m 4ms/step - loss: 0.0340 - mae: 0.1419 - val_loss: 0.0327 - val_mae: 0.1372\n",
      "Epoch 88/100\n",
      "\u001b[1m143/143\u001b[0m \u001b[32m━━━━━━━━━━━━━━━━━━━━\u001b[0m\u001b[37m\u001b[0m \u001b[1m1s\u001b[0m 7ms/step - loss: 0.0335 - mae: 0.1405 - val_loss: 0.0321 - val_mae: 0.1385\n",
      "Epoch 89/100\n",
      "\u001b[1m143/143\u001b[0m \u001b[32m━━━━━━━━━━━━━━━━━━━━\u001b[0m\u001b[37m\u001b[0m \u001b[1m1s\u001b[0m 3ms/step - loss: 0.0330 - mae: 0.1390 - val_loss: 0.0322 - val_mae: 0.1395\n",
      "Epoch 90/100\n",
      "\u001b[1m143/143\u001b[0m \u001b[32m━━━━━━━━━━━━━━━━━━━━\u001b[0m\u001b[37m\u001b[0m \u001b[1m0s\u001b[0m 3ms/step - loss: 0.0329 - mae: 0.1388 - val_loss: 0.0318 - val_mae: 0.1374\n",
      "Epoch 91/100\n",
      "\u001b[1m143/143\u001b[0m \u001b[32m━━━━━━━━━━━━━━━━━━━━\u001b[0m\u001b[37m\u001b[0m \u001b[1m0s\u001b[0m 3ms/step - loss: 0.0329 - mae: 0.1386 - val_loss: 0.0314 - val_mae: 0.1355\n",
      "Epoch 92/100\n",
      "\u001b[1m143/143\u001b[0m \u001b[32m━━━━━━━━━━━━━━━━━━━━\u001b[0m\u001b[37m\u001b[0m \u001b[1m1s\u001b[0m 2ms/step - loss: 0.0335 - mae: 0.1406 - val_loss: 0.0319 - val_mae: 0.1355\n",
      "Epoch 93/100\n",
      "\u001b[1m143/143\u001b[0m \u001b[32m━━━━━━━━━━━━━━━━━━━━\u001b[0m\u001b[37m\u001b[0m \u001b[1m1s\u001b[0m 6ms/step - loss: 0.0332 - mae: 0.1396 - val_loss: 0.0325 - val_mae: 0.1375\n",
      "Epoch 94/100\n",
      "\u001b[1m143/143\u001b[0m \u001b[32m━━━━━━━━━━━━━━━━━━━━\u001b[0m\u001b[37m\u001b[0m \u001b[1m0s\u001b[0m 2ms/step - loss: 0.0336 - mae: 0.1414 - val_loss: 0.0321 - val_mae: 0.1386\n",
      "Epoch 95/100\n",
      "\u001b[1m143/143\u001b[0m \u001b[32m━━━━━━━━━━━━━━━━━━━━\u001b[0m\u001b[37m\u001b[0m \u001b[1m0s\u001b[0m 3ms/step - loss: 0.0332 - mae: 0.1397 - val_loss: 0.0323 - val_mae: 0.1383\n",
      "Epoch 96/100\n",
      "\u001b[1m143/143\u001b[0m \u001b[32m━━━━━━━━━━━━━━━━━━━━\u001b[0m\u001b[37m\u001b[0m \u001b[1m0s\u001b[0m 3ms/step - loss: 0.0326 - mae: 0.1381 - val_loss: 0.0318 - val_mae: 0.1378\n",
      "Epoch 97/100\n",
      "\u001b[1m143/143\u001b[0m \u001b[32m━━━━━━━━━━━━━━━━━━━━\u001b[0m\u001b[37m\u001b[0m \u001b[1m1s\u001b[0m 3ms/step - loss: 0.0336 - mae: 0.1418 - val_loss: 0.0314 - val_mae: 0.1363\n",
      "Epoch 98/100\n",
      "\u001b[1m143/143\u001b[0m \u001b[32m━━━━━━━━━━━━━━━━━━━━\u001b[0m\u001b[37m\u001b[0m \u001b[1m0s\u001b[0m 3ms/step - loss: 0.0336 - mae: 0.1408 - val_loss: 0.0319 - val_mae: 0.1365\n",
      "Epoch 99/100\n",
      "\u001b[1m143/143\u001b[0m \u001b[32m━━━━━━━━━━━━━━━━━━━━\u001b[0m\u001b[37m\u001b[0m \u001b[1m0s\u001b[0m 3ms/step - loss: 0.0347 - mae: 0.1433 - val_loss: 0.0321 - val_mae: 0.1347\n",
      "Epoch 100/100\n",
      "\u001b[1m143/143\u001b[0m \u001b[32m━━━━━━━━━━━━━━━━━━━━\u001b[0m\u001b[37m\u001b[0m \u001b[1m1s\u001b[0m 7ms/step - loss: 0.0338 - mae: 0.1412 - val_loss: 0.0315 - val_mae: 0.1362\n",
      "\u001b[1m36/36\u001b[0m \u001b[32m━━━━━━━━━━━━━━━━━━━━\u001b[0m\u001b[37m\u001b[0m \u001b[1m0s\u001b[0m 3ms/step\n"
     ]
    },
    {
     "data": {
      "image/png": "[encoded data removed]",
      "text/plain": [
       "<Figure size 640x480 with 1 Axes>"
      ]
     },
     "metadata": {},
     "output_type": "display_data"
    },
    {
     "data": {
      "image/png": "[encoded data removed]",
      "text/plain": [
       "<Figure size 640x480 with 1 Axes>"
      ]
     },
     "metadata": {},
     "output_type": "display_data"
    },
    {
     "name": "stdout",
     "output_type": "stream",
     "text": [
      "\u001b[1m36/36\u001b[0m \u001b[32m━━━━━━━━━━━━━━━━━━━━\u001b[0m\u001b[37m\u001b[0m \u001b[1m0s\u001b[0m 3ms/step - loss: 0.0323 - mae: 0.1361\n",
      "MSE:  0.03147684037685394\n",
      "MAE: 0.1361633539199829\n"
     ]
    },
    {
     "data": {
      "application/vnd.microsoft.datawrangler.viewer.v0+json": {
       "columns": [
        {
         "name": "SongID",
         "rawType": "object",
         "type": "string"
        },
        {
         "name": "Original Test",
         "rawType": "float64",
         "type": "float"
        },
        {
         "name": "Prediction Test",
         "rawType": "float32",
         "type": "float"
        },
        {
         "name": "Original over Thrashold",
         "rawType": "bool",
         "type": "boolean"
        },
        {
         "name": "Predicted over Thrashold",
         "rawType": "bool",
         "type": "boolean"
        }
       ],
       "conversionMethod": "pd.DataFrame",
       "ref": "a5c46e64-7b9f-4879-a72a-c0ef745f60f9",
       "rows": [
        [
         "Nice 'N' NaastyThe Salsoul Orchestra",
         "0.883",
         "0.76450443",
         "True",
         "True"
        ],
        [
         "ShiffteeOnyx",
         "0.253",
         "0.6778494",
         "False",
         "False"
        ],
        [
         "Since I Made You CryThe Rivieras",
         "0.569",
         "0.58641756",
         "False",
         "False"
        ],
        [
         "TonightNew Kids On The Block",
         "0.383",
         "0.43280095",
         "False",
         "False"
        ],
        [
         "Never Comes The DayThe Moody Blues",
         "0.18",
         "0.40320757",
         "False",
         "False"
        ],
        [
         "Gotta Get You Home TonightEugene Wilde",
         "0.5749999999999998",
         "0.57413596",
         "False",
         "False"
        ],
        [
         "Girl On FireAlicia Keys Featuring Nicki Minaj",
         "0.1439999999999999",
         "0.45190248",
         "False",
         "False"
        ],
        [
         "I'm Gonna Miss YouKenny Loggins",
         "0.8549999999999999",
         "0.7694401",
         "True",
         "True"
        ],
        [
         "What About Your FriendsTLC",
         "0.626",
         "0.74568284",
         "False",
         "True"
        ],
        [
         "High On EmotionChris de Burgh",
         "0.5869999999999999",
         "0.62161154",
         "False",
         "False"
        ],
        [
         "It's Gonna Take A MiracleDeniece Williams",
         "0.665",
         "0.63559836",
         "False",
         "False"
        ],
        [
         "Say Wonderful ThingsPatti Page",
         "0.4259999999999999",
         "0.5208136",
         "False",
         "False"
        ],
        [
         "I'm RealKris Kross",
         "0.801",
         "0.736511",
         "True",
         "True"
        ],
        [
         "I'm Going DownRose Royce",
         "0.319",
         "0.46833715",
         "False",
         "False"
        ],
        [
         "Pimpin' All Over The WorldLudacris Featuring Bobby Valentino",
         "0.779",
         "0.6159854",
         "True",
         "False"
        ],
        [
         "Don't You Know What Love IsTouch",
         "0.4889999999999999",
         "0.551592",
         "False",
         "False"
        ],
        [
         "If You GoJon Secada",
         "0.522",
         "0.7294315",
         "False",
         "True"
        ],
        [
         "BurnMobb Deep Featuring Vita & Noyd",
         "0.808",
         "0.6017009",
         "True",
         "False"
        ],
        [
         "Rhapsody In WhiteLove Unlimited Orchestra",
         "0.77",
         "0.6939634",
         "True",
         "False"
        ],
        [
         "Sexual HealingMarvin Gaye",
         "0.746",
         "0.7499303",
         "True",
         "True"
        ],
        [
         "Chicken Noodle Soupj-hope Featuring Becky G.",
         "0.168",
         "0.67519385",
         "False",
         "False"
        ],
        [
         "Get LowZedd & Liam Payne",
         "0.54",
         "0.70945466",
         "False",
         "True"
        ],
        [
         "Johnny Loves MeShelley Fabares",
         "0.4169999999999999",
         "0.43174648",
         "False",
         "False"
        ],
        [
         "I Adore Mi AmorColor Me Badd",
         "0.7249999999999999",
         "0.54323864",
         "True",
         "False"
        ],
        [
         "Let's Get RockedDef Leppard",
         "0.526",
         "0.6634526",
         "False",
         "False"
        ],
        [
         "I Love YouOtis Leavill",
         "0.669",
         "0.6143905",
         "False",
         "False"
        ],
        [
         "AsStevie Wonder",
         "0.684",
         "0.6094416",
         "False",
         "False"
        ],
        [
         "Do You Wanna Make LovePeter Mccann",
         "0.542",
         "0.62195444",
         "False",
         "False"
        ],
        [
         "SolteraLunay, Daddy Yankee & Bad Bunny",
         "0.8",
         "0.68601906",
         "True",
         "False"
        ],
        [
         "Take A HandRick Springfield",
         "0.797",
         "0.644587",
         "True",
         "False"
        ],
        [
         "WaterBrad Paisley",
         "0.694",
         "0.5997554",
         "False",
         "False"
        ],
        [
         "Be My LadyJefferson Starship",
         "0.62",
         "0.6400583",
         "False",
         "False"
        ],
        [
         "I Don't Need A ManThe Pussycat Dolls",
         "0.757",
         "0.757755",
         "True",
         "True"
        ],
        [
         "Nothing 'Bout MeSting",
         "0.2049999999999999",
         "0.72904414",
         "False",
         "True"
        ],
        [
         "A Million To OneFive Stairsteps & Cubie",
         "0.328",
         "0.4044129",
         "False",
         "False"
        ],
        [
         "A Boy Without A GirlFrankie Avalon",
         "0.3609999999999999",
         "0.45428956",
         "False",
         "False"
        ],
        [
         "Whatever It Takes (To Make You Stay)Troop",
         "0.8429999999999999",
         "0.6260139",
         "True",
         "False"
        ],
        [
         "What Now My LoveHerb Alpert & The Tijuana Brass",
         "0.497",
         "0.5470068",
         "False",
         "False"
        ],
        [
         "Ballin' Out Of ControlJermaine Dupri Featuring Nate Dogg",
         "0.8329999999999999",
         "0.6718008",
         "True",
         "False"
        ],
        [
         "RomeoDino",
         "0.897",
         "0.7417246",
         "True",
         "True"
        ],
        [
         "These Are Days10,000 Maniacs",
         "0.872",
         "0.73360157",
         "True",
         "True"
        ],
        [
         "InformerSnow",
         "0.4829999999999999",
         "0.69737285",
         "False",
         "False"
        ],
        [
         "BluebirdHelen Reddy",
         "0.748",
         "0.6669153",
         "True",
         "False"
        ],
        [
         "Dub Be Good To MeBeats International",
         "0.695",
         "0.7581975",
         "False",
         "True"
        ],
        [
         "Miss Me MoreKelsea Ballerini",
         "0.4909999999999999",
         "0.60602295",
         "False",
         "False"
        ],
        [
         "Hot ThingPrince",
         "0.673",
         "0.69748473",
         "False",
         "False"
        ],
        [
         "Want U BackCher Lloyd",
         "0.563",
         "0.6486012",
         "False",
         "False"
        ],
        [
         "Keep It In The FamilyLeon Haywood",
         "0.801",
         "0.7490256",
         "True",
         "True"
        ],
        [
         "My Forbidden LoverChic",
         "0.807",
         "0.8032136",
         "True",
         "True"
        ],
        [
         "Funny The Way It IsDave Matthews Band",
         "0.747",
         "0.6473148",
         "True",
         "False"
        ]
       ],
       "shape": {
        "columns": 4,
        "rows": 1138
       }
      },
      "text/html": [
       "<div>\n",
       "<style scoped>\n",
       "    .dataframe tbody tr th:only-of-type {\n",
       "        vertical-align: middle;\n",
       "    }\n",
       "\n",
       "    .dataframe tbody tr th {\n",
       "        vertical-align: top;\n",
       "    }\n",
       "\n",
       "    .dataframe thead th {\n",
       "        text-align: right;\n",
       "    }\n",
       "</style>\n",
       "<table border=\"1\" class=\"dataframe\">\n",
       "  <thead>\n",
       "    <tr style=\"text-align: right;\">\n",
       "      <th></th>\n",
       "      <th>Original Test</th>\n",
       "      <th>Prediction Test</th>\n",
       "      <th>Original over Thrashold</th>\n",
       "      <th>Predicted over Thrashold</th>\n",
       "    </tr>\n",
       "    <tr>\n",
       "      <th>SongID</th>\n",
       "      <th></th>\n",
       "      <th></th>\n",
       "      <th></th>\n",
       "      <th></th>\n",
       "    </tr>\n",
       "  </thead>\n",
       "  <tbody>\n",
       "    <tr>\n",
       "      <th>Nice 'N' NaastyThe Salsoul Orchestra</th>\n",
       "      <td>0.883</td>\n",
       "      <td>0.764504</td>\n",
       "      <td>True</td>\n",
       "      <td>True</td>\n",
       "    </tr>\n",
       "    <tr>\n",
       "      <th>ShiffteeOnyx</th>\n",
       "      <td>0.253</td>\n",
       "      <td>0.677849</td>\n",
       "      <td>False</td>\n",
       "      <td>False</td>\n",
       "    </tr>\n",
       "    <tr>\n",
       "      <th>Since I Made You CryThe Rivieras</th>\n",
       "      <td>0.569</td>\n",
       "      <td>0.586418</td>\n",
       "      <td>False</td>\n",
       "      <td>False</td>\n",
       "    </tr>\n",
       "    <tr>\n",
       "      <th>TonightNew Kids On The Block</th>\n",
       "      <td>0.383</td>\n",
       "      <td>0.432801</td>\n",
       "      <td>False</td>\n",
       "      <td>False</td>\n",
       "    </tr>\n",
       "    <tr>\n",
       "      <th>Never Comes The DayThe Moody Blues</th>\n",
       "      <td>0.180</td>\n",
       "      <td>0.403208</td>\n",
       "      <td>False</td>\n",
       "      <td>False</td>\n",
       "    </tr>\n",
       "    <tr>\n",
       "      <th>...</th>\n",
       "      <td>...</td>\n",
       "      <td>...</td>\n",
       "      <td>...</td>\n",
       "      <td>...</td>\n",
       "    </tr>\n",
       "    <tr>\n",
       "      <th>What Am I Living ForChuck Willis</th>\n",
       "      <td>0.682</td>\n",
       "      <td>0.646982</td>\n",
       "      <td>False</td>\n",
       "      <td>False</td>\n",
       "    </tr>\n",
       "    <tr>\n",
       "      <th>All Summer LongHit Masters</th>\n",
       "      <td>0.863</td>\n",
       "      <td>0.713492</td>\n",
       "      <td>True</td>\n",
       "      <td>True</td>\n",
       "    </tr>\n",
       "    <tr>\n",
       "      <th>Hey Daddy (Daddy's Home)Usher Featuring Plies</th>\n",
       "      <td>0.352</td>\n",
       "      <td>0.487426</td>\n",
       "      <td>False</td>\n",
       "      <td>False</td>\n",
       "    </tr>\n",
       "    <tr>\n",
       "      <th>Don't Tell MeMadonna</th>\n",
       "      <td>0.679</td>\n",
       "      <td>0.594378</td>\n",
       "      <td>False</td>\n",
       "      <td>False</td>\n",
       "    </tr>\n",
       "    <tr>\n",
       "      <th>Breaking The HabitLinkin Park</th>\n",
       "      <td>0.581</td>\n",
       "      <td>0.615629</td>\n",
       "      <td>False</td>\n",
       "      <td>False</td>\n",
       "    </tr>\n",
       "  </tbody>\n",
       "</table>\n",
       "<p>1138 rows × 4 columns</p>\n",
       "</div>"
      ],
      "text/plain": [
       "                                               Original Test  Prediction Test  \\\n",
       "SongID                                                                          \n",
       "Nice 'N' NaastyThe Salsoul Orchestra                   0.883         0.764504   \n",
       "ShiffteeOnyx                                           0.253         0.677849   \n",
       "Since I Made You CryThe Rivieras                       0.569         0.586418   \n",
       "TonightNew Kids On The Block                           0.383         0.432801   \n",
       "Never Comes The DayThe Moody Blues                     0.180         0.403208   \n",
       "...                                                      ...              ...   \n",
       "What Am I Living ForChuck Willis                       0.682         0.646982   \n",
       "All Summer LongHit Masters                             0.863         0.713492   \n",
       "Hey Daddy (Daddy's Home)Usher Featuring Plies          0.352         0.487426   \n",
       "Don't Tell MeMadonna                                   0.679         0.594378   \n",
       "Breaking The HabitLinkin Park                          0.581         0.615629   \n",
       "\n",
       "                                               Original over Thrashold  \\\n",
       "SongID                                                                   \n",
       "Nice 'N' NaastyThe Salsoul Orchestra                              True   \n",
       "ShiffteeOnyx                                                     False   \n",
       "Since I Made You CryThe Rivieras                                 False   \n",
       "TonightNew Kids On The Block                                     False   \n",
       "Never Comes The DayThe Moody Blues                               False   \n",
       "...                                                                ...   \n",
       "What Am I Living ForChuck Willis                                 False   \n",
       "All Summer LongHit Masters                                        True   \n",
       "Hey Daddy (Daddy's Home)Usher Featuring Plies                    False   \n",
       "Don't Tell MeMadonna                                             False   \n",
       "Breaking The HabitLinkin Park                                    False   \n",
       "\n",
       "                                               Predicted over Thrashold  \n",
       "SongID                                                                   \n",
       "Nice 'N' NaastyThe Salsoul Orchestra                               True  \n",
       "ShiffteeOnyx                                                      False  \n",
       "Since I Made You CryThe Rivieras                                  False  \n",
       "TonightNew Kids On The Block                                      False  \n",
       "Never Comes The DayThe Moody Blues                                False  \n",
       "...                                                                 ...  \n",
       "What Am I Living ForChuck Willis                                  False  \n",
       "All Summer LongHit Masters                                         True  \n",
       "Hey Daddy (Daddy's Home)Usher Featuring Plies                     False  \n",
       "Don't Tell MeMadonna                                              False  \n",
       "Breaking The HabitLinkin Park                                     False  \n",
       "\n",
       "[1138 rows x 4 columns]"
      ]
     },
     "metadata": {},
     "output_type": "display_data"
    },
    {
     "data": {
      "image/png": "[encoded data removed]",
      "text/plain": [
       "<Figure size 640x480 with 2 Axes>"
      ]
     },
     "metadata": {},
     "output_type": "display_data"
    },
    {
     "data": {
      "application/vnd.microsoft.datawrangler.viewer.v0+json": {
       "columns": [
        {
         "name": "index",
         "rawType": "int64",
         "type": "integer"
        },
        {
         "name": "Metric",
         "rawType": "object",
         "type": "string"
        },
        {
         "name": "Value",
         "rawType": "float64",
         "type": "float"
        }
       ],
       "conversionMethod": "pd.DataFrame",
       "ref": "1a42173d-a609-468c-8f96-f9fd99184c62",
       "rows": [
        [
         "0",
         "Accuracy",
         "0.74"
        ],
        [
         "1",
         "Precision",
         "0.72"
        ],
        [
         "2",
         "Recall",
         "0.57"
        ],
        [
         "3",
         "F1-score",
         "0.64"
        ]
       ],
       "shape": {
        "columns": 2,
        "rows": 4
       }
      },
      "text/html": [
       "<div>\n",
       "<style scoped>\n",
       "    .dataframe tbody tr th:only-of-type {\n",
       "        vertical-align: middle;\n",
       "    }\n",
       "\n",
       "    .dataframe tbody tr th {\n",
       "        vertical-align: top;\n",
       "    }\n",
       "\n",
       "    .dataframe thead th {\n",
       "        text-align: right;\n",
       "    }\n",
       "</style>\n",
       "<table border=\"1\" class=\"dataframe\">\n",
       "  <thead>\n",
       "    <tr style=\"text-align: right;\">\n",
       "      <th></th>\n",
       "      <th>Metric</th>\n",
       "      <th>Value</th>\n",
       "    </tr>\n",
       "  </thead>\n",
       "  <tbody>\n",
       "    <tr>\n",
       "      <th>0</th>\n",
       "      <td>Accuracy</td>\n",
       "      <td>0.74</td>\n",
       "    </tr>\n",
       "    <tr>\n",
       "      <th>1</th>\n",
       "      <td>Precision</td>\n",
       "      <td>0.72</td>\n",
       "    </tr>\n",
       "    <tr>\n",
       "      <th>2</th>\n",
       "      <td>Recall</td>\n",
       "      <td>0.57</td>\n",
       "    </tr>\n",
       "    <tr>\n",
       "      <th>3</th>\n",
       "      <td>F1-score</td>\n",
       "      <td>0.64</td>\n",
       "    </tr>\n",
       "  </tbody>\n",
       "</table>\n",
       "</div>"
      ],
      "text/plain": [
       "      Metric  Value\n",
       "0   Accuracy   0.74\n",
       "1  Precision   0.72\n",
       "2     Recall   0.57\n",
       "3   F1-score   0.64"
      ]
     },
     "metadata": {},
     "output_type": "display_data"
    },
    {
     "name": "stdout",
     "output_type": "stream",
     "text": [
      "---------------------------------------------------------\n",
      "USER 1\n"
     ]
    },
    {
     "name": "stderr",
     "output_type": "stream",
     "text": [
      "C:\\Users\\elped\\AppData\\Local\\Temp\\ipykernel_16540\\2934058548.py:7: SettingWithCopyWarning: \n",
      "A value is trying to be set on a copy of a slice from a DataFrame.\n",
      "Try using .loc[row_indexer,col_indexer] = value instead\n",
      "\n",
      "See the caveats in the documentation: https://pandas.pydata.org/pandas-docs/stable/user_guide/indexing.html#returning-a-view-versus-a-copy\n",
      "  x[numerical_features] = StandardScaler().fit_transform(x[numerical_features])\n",
      "c:\\Users\\elped\\AppData\\Local\\Programs\\Python\\Python312\\Lib\\site-packages\\keras\\src\\layers\\core\\dense.py:87: UserWarning: Do not pass an `input_shape`/`input_dim` argument to a layer. When using Sequential models, prefer using an `Input(shape)` object as the first layer in the model instead.\n",
      "  super().__init__(activity_regularizer=activity_regularizer, **kwargs)\n"
     ]
    },
    {
     "name": "stdout",
     "output_type": "stream",
     "text": [
      "Epoch 1/100\n",
      "\u001b[1m117/117\u001b[0m \u001b[32m━━━━━━━━━━━━━━━━━━━━\u001b[0m\u001b[37m\u001b[0m \u001b[1m3s\u001b[0m 6ms/step - loss: 0.4949 - mae: 0.2383 - val_loss: 0.2472 - val_mae: 0.1925\n",
      "Epoch 2/100\n",
      "\u001b[1m117/117\u001b[0m \u001b[32m━━━━━━━━━━━━━━━━━━━━\u001b[0m\u001b[37m\u001b[0m \u001b[1m1s\u001b[0m 3ms/step - loss: 0.2079 - mae: 0.1928 - val_loss: 0.1144 - val_mae: 0.1719\n",
      "Epoch 3/100\n",
      "\u001b[1m117/117\u001b[0m \u001b[32m━━━━━━━━━━━━━━━━━━━━\u001b[0m\u001b[37m\u001b[0m \u001b[1m1s\u001b[0m 3ms/step - loss: 0.1017 - mae: 0.1748 - val_loss: 0.0654 - val_mae: 0.1567\n",
      "Epoch 4/100\n",
      "\u001b[1m117/117\u001b[0m \u001b[32m━━━━━━━━━━━━━━━━━━━━\u001b[0m\u001b[37m\u001b[0m \u001b[1m0s\u001b[0m 3ms/step - loss: 0.0628 - mae: 0.1620 - val_loss: 0.0490 - val_mae: 0.1517\n",
      "Epoch 5/100\n",
      "\u001b[1m117/117\u001b[0m \u001b[32m━━━━━━━━━━━━━━━━━━━━\u001b[0m\u001b[37m\u001b[0m \u001b[1m0s\u001b[0m 3ms/step - loss: 0.0498 - mae: 0.1576 - val_loss: 0.0437 - val_mae: 0.1497\n",
      "Epoch 6/100\n",
      "\u001b[1m117/117\u001b[0m \u001b[32m━━━━━━━━━━━━━━━━━━━━\u001b[0m\u001b[37m\u001b[0m \u001b[1m1s\u001b[0m 3ms/step - loss: 0.0457 - mae: 0.1549 - val_loss: 0.0416 - val_mae: 0.1471\n",
      "Epoch 7/100\n",
      "\u001b[1m117/117\u001b[0m \u001b[32m━━━━━━━━━━━━━━━━━━━━\u001b[0m\u001b[37m\u001b[0m \u001b[1m0s\u001b[0m 3ms/step - loss: 0.0437 - mae: 0.1529 - val_loss: 0.0405 - val_mae: 0.1450\n",
      "Epoch 8/100\n",
      "\u001b[1m117/117\u001b[0m \u001b[32m━━━━━━━━━━━━━━━━━━━━\u001b[0m\u001b[37m\u001b[0m \u001b[1m1s\u001b[0m 3ms/step - loss: 0.0428 - mae: 0.1511 - val_loss: 0.0396 - val_mae: 0.1436\n",
      "Epoch 9/100\n",
      "\u001b[1m117/117\u001b[0m \u001b[32m━━━━━━━━━━━━━━━━━━━━\u001b[0m\u001b[37m\u001b[0m \u001b[1m1s\u001b[0m 5ms/step - loss: 0.0412 - mae: 0.1475 - val_loss: 0.0392 - val_mae: 0.1440\n",
      "Epoch 10/100\n",
      "\u001b[1m117/117\u001b[0m \u001b[32m━━━━━━━━━━━━━━━━━━━━\u001b[0m\u001b[37m\u001b[0m \u001b[1m2s\u001b[0m 7ms/step - loss: 0.0415 - mae: 0.1488 - val_loss: 0.0387 - val_mae: 0.1428\n",
      "Epoch 11/100\n",
      "\u001b[1m117/117\u001b[0m \u001b[32m━━━━━━━━━━━━━━━━━━━━\u001b[0m\u001b[37m\u001b[0m \u001b[1m1s\u001b[0m 3ms/step - loss: 0.0401 - mae: 0.1461 - val_loss: 0.0386 - val_mae: 0.1435\n",
      "Epoch 12/100\n",
      "\u001b[1m117/117\u001b[0m \u001b[32m━━━━━━━━━━━━━━━━━━━━\u001b[0m\u001b[37m\u001b[0m \u001b[1m0s\u001b[0m 3ms/step - loss: 0.0405 - mae: 0.1487 - val_loss: 0.0381 - val_mae: 0.1431\n",
      "Epoch 13/100\n",
      "\u001b[1m117/117\u001b[0m \u001b[32m━━━━━━━━━━━━━━━━━━━━\u001b[0m\u001b[37m\u001b[0m \u001b[1m0s\u001b[0m 3ms/step - loss: 0.0406 - mae: 0.1502 - val_loss: 0.0378 - val_mae: 0.1400\n",
      "Epoch 14/100\n",
      "\u001b[1m117/117\u001b[0m \u001b[32m━━━━━━━━━━━━━━━━━━━━\u001b[0m\u001b[37m\u001b[0m \u001b[1m1s\u001b[0m 4ms/step - loss: 0.0399 - mae: 0.1472 - val_loss: 0.0373 - val_mae: 0.1398\n",
      "Epoch 15/100\n",
      "\u001b[1m117/117\u001b[0m \u001b[32m━━━━━━━━━━━━━━━━━━━━\u001b[0m\u001b[37m\u001b[0m \u001b[1m1s\u001b[0m 5ms/step - loss: 0.0391 - mae: 0.1452 - val_loss: 0.0379 - val_mae: 0.1413\n",
      "Epoch 16/100\n",
      "\u001b[1m117/117\u001b[0m \u001b[32m━━━━━━━━━━━━━━━━━━━━\u001b[0m\u001b[37m\u001b[0m \u001b[1m1s\u001b[0m 7ms/step - loss: 0.0394 - mae: 0.1467 - val_loss: 0.0371 - val_mae: 0.1388\n",
      "Epoch 17/100\n",
      "\u001b[1m117/117\u001b[0m \u001b[32m━━━━━━━━━━━━━━━━━━━━\u001b[0m\u001b[37m\u001b[0m \u001b[1m2s\u001b[0m 8ms/step - loss: 0.0392 - mae: 0.1457 - val_loss: 0.0370 - val_mae: 0.1403\n",
      "Epoch 18/100\n",
      "\u001b[1m117/117\u001b[0m \u001b[32m━━━━━━━━━━━━━━━━━━━━\u001b[0m\u001b[37m\u001b[0m \u001b[1m1s\u001b[0m 4ms/step - loss: 0.0397 - mae: 0.1478 - val_loss: 0.0366 - val_mae: 0.1384\n",
      "Epoch 19/100\n",
      "\u001b[1m117/117\u001b[0m \u001b[32m━━━━━━━━━━━━━━━━━━━━\u001b[0m\u001b[37m\u001b[0m \u001b[1m0s\u001b[0m 3ms/step - loss: 0.0390 - mae: 0.1460 - val_loss: 0.0365 - val_mae: 0.1394\n",
      "Epoch 20/100\n",
      "\u001b[1m117/117\u001b[0m \u001b[32m━━━━━━━━━━━━━━━━━━━━\u001b[0m\u001b[37m\u001b[0m \u001b[1m1s\u001b[0m 5ms/step - loss: 0.0387 - mae: 0.1451 - val_loss: 0.0361 - val_mae: 0.1384\n",
      "Epoch 21/100\n",
      "\u001b[1m117/117\u001b[0m \u001b[32m━━━━━━━━━━━━━━━━━━━━\u001b[0m\u001b[37m\u001b[0m \u001b[1m0s\u001b[0m 4ms/step - loss: 0.0392 - mae: 0.1471 - val_loss: 0.0361 - val_mae: 0.1382\n",
      "Epoch 22/100\n",
      "\u001b[1m117/117\u001b[0m \u001b[32m━━━━━━━━━━━━━━━━━━━━\u001b[0m\u001b[37m\u001b[0m \u001b[1m0s\u001b[0m 3ms/step - loss: 0.0386 - mae: 0.1451 - val_loss: 0.0362 - val_mae: 0.1393\n",
      "Epoch 23/100\n",
      "\u001b[1m117/117\u001b[0m \u001b[32m━━━━━━━━━━━━━━━━━━━━\u001b[0m\u001b[37m\u001b[0m \u001b[1m0s\u001b[0m 3ms/step - loss: 0.0369 - mae: 0.1419 - val_loss: 0.0363 - val_mae: 0.1402\n",
      "Epoch 24/100\n",
      "\u001b[1m117/117\u001b[0m \u001b[32m━━━━━━━━━━━━━━━━━━━━\u001b[0m\u001b[37m\u001b[0m \u001b[1m1s\u001b[0m 3ms/step - loss: 0.0386 - mae: 0.1455 - val_loss: 0.0357 - val_mae: 0.1379\n",
      "Epoch 25/100\n",
      "\u001b[1m117/117\u001b[0m \u001b[32m━━━━━━━━━━━━━━━━━━━━\u001b[0m\u001b[37m\u001b[0m \u001b[1m0s\u001b[0m 3ms/step - loss: 0.0387 - mae: 0.1453 - val_loss: 0.0354 - val_mae: 0.1371\n",
      "Epoch 26/100\n",
      "\u001b[1m117/117\u001b[0m \u001b[32m━━━━━━━━━━━━━━━━━━━━\u001b[0m\u001b[37m\u001b[0m \u001b[1m0s\u001b[0m 4ms/step - loss: 0.0377 - mae: 0.1427 - val_loss: 0.0352 - val_mae: 0.1387\n",
      "Epoch 27/100\n",
      "\u001b[1m117/117\u001b[0m \u001b[32m━━━━━━━━━━━━━━━━━━━━\u001b[0m\u001b[37m\u001b[0m \u001b[1m1s\u001b[0m 5ms/step - loss: 0.0370 - mae: 0.1425 - val_loss: 0.0357 - val_mae: 0.1382\n",
      "Epoch 28/100\n",
      "\u001b[1m117/117\u001b[0m \u001b[32m━━━━━━━━━━━━━━━━━━━━\u001b[0m\u001b[37m\u001b[0m \u001b[1m0s\u001b[0m 4ms/step - loss: 0.0371 - mae: 0.1425 - val_loss: 0.0353 - val_mae: 0.1374\n",
      "Epoch 29/100\n",
      "\u001b[1m117/117\u001b[0m \u001b[32m━━━━━━━━━━━━━━━━━━━━\u001b[0m\u001b[37m\u001b[0m \u001b[1m1s\u001b[0m 6ms/step - loss: 0.0366 - mae: 0.1413 - val_loss: 0.0353 - val_mae: 0.1371\n",
      "Epoch 30/100\n",
      "\u001b[1m117/117\u001b[0m \u001b[32m━━━━━━━━━━━━━━━━━━━━\u001b[0m\u001b[37m\u001b[0m \u001b[1m0s\u001b[0m 3ms/step - loss: 0.0359 - mae: 0.1400 - val_loss: 0.0356 - val_mae: 0.1393\n",
      "Epoch 31/100\n",
      "\u001b[1m117/117\u001b[0m \u001b[32m━━━━━━━━━━━━━━━━━━━━\u001b[0m\u001b[37m\u001b[0m \u001b[1m0s\u001b[0m 3ms/step - loss: 0.0373 - mae: 0.1420 - val_loss: 0.0349 - val_mae: 0.1378\n",
      "Epoch 32/100\n",
      "\u001b[1m117/117\u001b[0m \u001b[32m━━━━━━━━━━━━━━━━━━━━\u001b[0m\u001b[37m\u001b[0m \u001b[1m0s\u001b[0m 3ms/step - loss: 0.0359 - mae: 0.1411 - val_loss: 0.0349 - val_mae: 0.1380\n",
      "Epoch 33/100\n",
      "\u001b[1m117/117\u001b[0m \u001b[32m━━━━━━━━━━━━━━━━━━━━\u001b[0m\u001b[37m\u001b[0m \u001b[1m1s\u001b[0m 4ms/step - loss: 0.0364 - mae: 0.1422 - val_loss: 0.0347 - val_mae: 0.1383\n",
      "Epoch 34/100\n",
      "\u001b[1m117/117\u001b[0m \u001b[32m━━━━━━━━━━━━━━━━━━━━\u001b[0m\u001b[37m\u001b[0m \u001b[1m1s\u001b[0m 4ms/step - loss: 0.0373 - mae: 0.1442 - val_loss: 0.0354 - val_mae: 0.1396\n",
      "Epoch 35/100\n",
      "\u001b[1m117/117\u001b[0m \u001b[32m━━━━━━━━━━━━━━━━━━━━\u001b[0m\u001b[37m\u001b[0m \u001b[1m1s\u001b[0m 5ms/step - loss: 0.0369 - mae: 0.1436 - val_loss: 0.0354 - val_mae: 0.1403\n",
      "Epoch 36/100\n",
      "\u001b[1m117/117\u001b[0m \u001b[32m━━━━━━━━━━━━━━━━━━━━\u001b[0m\u001b[37m\u001b[0m \u001b[1m1s\u001b[0m 4ms/step - loss: 0.0365 - mae: 0.1429 - val_loss: 0.0349 - val_mae: 0.1380\n",
      "Epoch 37/100\n",
      "\u001b[1m117/117\u001b[0m \u001b[32m━━━━━━━━━━━━━━━━━━━━\u001b[0m\u001b[37m\u001b[0m \u001b[1m1s\u001b[0m 3ms/step - loss: 0.0358 - mae: 0.1416 - val_loss: 0.0345 - val_mae: 0.1371\n",
      "Epoch 38/100\n",
      "\u001b[1m117/117\u001b[0m \u001b[32m━━━━━━━━━━━━━━━━━━━━\u001b[0m\u001b[37m\u001b[0m \u001b[1m1s\u001b[0m 3ms/step - loss: 0.0357 - mae: 0.1405 - val_loss: 0.0343 - val_mae: 0.1388\n",
      "Epoch 39/100\n",
      "\u001b[1m117/117\u001b[0m \u001b[32m━━━━━━━━━━━━━━━━━━━━\u001b[0m\u001b[37m\u001b[0m \u001b[1m1s\u001b[0m 3ms/step - loss: 0.0356 - mae: 0.1407 - val_loss: 0.0342 - val_mae: 0.1370\n",
      "Epoch 40/100\n",
      "\u001b[1m117/117\u001b[0m \u001b[32m━━━━━━━━━━━━━━━━━━━━\u001b[0m\u001b[37m\u001b[0m \u001b[1m0s\u001b[0m 3ms/step - loss: 0.0355 - mae: 0.1400 - val_loss: 0.0346 - val_mae: 0.1376\n",
      "Epoch 41/100\n",
      "\u001b[1m117/117\u001b[0m \u001b[32m━━━━━━━━━━━━━━━━━━━━\u001b[0m\u001b[37m\u001b[0m \u001b[1m1s\u001b[0m 9ms/step - loss: 0.0364 - mae: 0.1423 - val_loss: 0.0339 - val_mae: 0.1346\n",
      "Epoch 42/100\n",
      "\u001b[1m117/117\u001b[0m \u001b[32m━━━━━━━━━━━━━━━━━━━━\u001b[0m\u001b[37m\u001b[0m \u001b[1m1s\u001b[0m 3ms/step - loss: 0.0355 - mae: 0.1401 - val_loss: 0.0337 - val_mae: 0.1360\n",
      "Epoch 43/100\n",
      "\u001b[1m117/117\u001b[0m \u001b[32m━━━━━━━━━━━━━━━━━━━━\u001b[0m\u001b[37m\u001b[0m \u001b[1m0s\u001b[0m 3ms/step - loss: 0.0346 - mae: 0.1392 - val_loss: 0.0345 - val_mae: 0.1384\n",
      "Epoch 44/100\n",
      "\u001b[1m117/117\u001b[0m \u001b[32m━━━━━━━━━━━━━━━━━━━━\u001b[0m\u001b[37m\u001b[0m \u001b[1m1s\u001b[0m 4ms/step - loss: 0.0346 - mae: 0.1368 - val_loss: 0.0338 - val_mae: 0.1368\n",
      "Epoch 45/100\n",
      "\u001b[1m117/117\u001b[0m \u001b[32m━━━━━━━━━━━━━━━━━━━━\u001b[0m\u001b[37m\u001b[0m \u001b[1m1s\u001b[0m 4ms/step - loss: 0.0352 - mae: 0.1413 - val_loss: 0.0335 - val_mae: 0.1330\n",
      "Epoch 46/100\n",
      "\u001b[1m117/117\u001b[0m \u001b[32m━━━━━━━━━━━━━━━━━━━━\u001b[0m\u001b[37m\u001b[0m \u001b[1m1s\u001b[0m 3ms/step - loss: 0.0356 - mae: 0.1406 - val_loss: 0.0336 - val_mae: 0.1355\n",
      "Epoch 47/100\n",
      "\u001b[1m117/117\u001b[0m \u001b[32m━━━━━━━━━━━━━━━━━━━━\u001b[0m\u001b[37m\u001b[0m \u001b[1m0s\u001b[0m 3ms/step - loss: 0.0357 - mae: 0.1409 - val_loss: 0.0342 - val_mae: 0.1381\n",
      "Epoch 48/100\n",
      "\u001b[1m117/117\u001b[0m \u001b[32m━━━━━━━━━━━━━━━━━━━━\u001b[0m\u001b[37m\u001b[0m \u001b[1m1s\u001b[0m 4ms/step - loss: 0.0360 - mae: 0.1407 - val_loss: 0.0352 - val_mae: 0.1403\n",
      "Epoch 49/100\n",
      "\u001b[1m117/117\u001b[0m \u001b[32m━━━━━━━━━━━━━━━━━━━━\u001b[0m\u001b[37m\u001b[0m \u001b[1m0s\u001b[0m 3ms/step - loss: 0.0354 - mae: 0.1411 - val_loss: 0.0337 - val_mae: 0.1341\n",
      "Epoch 50/100\n",
      "\u001b[1m117/117\u001b[0m \u001b[32m━━━━━━━━━━━━━━━━━━━━\u001b[0m\u001b[37m\u001b[0m \u001b[1m1s\u001b[0m 6ms/step - loss: 0.0354 - mae: 0.1410 - val_loss: 0.0337 - val_mae: 0.1341\n",
      "Epoch 51/100\n",
      "\u001b[1m117/117\u001b[0m \u001b[32m━━━━━━━━━━━━━━━━━━━━\u001b[0m\u001b[37m\u001b[0m \u001b[1m1s\u001b[0m 7ms/step - loss: 0.0348 - mae: 0.1389 - val_loss: 0.0338 - val_mae: 0.1382\n",
      "Epoch 52/100\n",
      "\u001b[1m117/117\u001b[0m \u001b[32m━━━━━━━━━━━━━━━━━━━━\u001b[0m\u001b[37m\u001b[0m \u001b[1m1s\u001b[0m 11ms/step - loss: 0.0355 - mae: 0.1421 - val_loss: 0.0336 - val_mae: 0.1367\n",
      "Epoch 53/100\n",
      "\u001b[1m117/117\u001b[0m \u001b[32m━━━━━━━━━━━━━━━━━━━━\u001b[0m\u001b[37m\u001b[0m \u001b[1m2s\u001b[0m 3ms/step - loss: 0.0340 - mae: 0.1368 - val_loss: 0.0332 - val_mae: 0.1358\n",
      "Epoch 54/100\n",
      "\u001b[1m117/117\u001b[0m \u001b[32m━━━━━━━━━━━━━━━━━━━━\u001b[0m\u001b[37m\u001b[0m \u001b[1m0s\u001b[0m 3ms/step - loss: 0.0354 - mae: 0.1413 - val_loss: 0.0334 - val_mae: 0.1343\n",
      "Epoch 55/100\n",
      "\u001b[1m117/117\u001b[0m \u001b[32m━━━━━━━━━━━━━━━━━━━━\u001b[0m\u001b[37m\u001b[0m \u001b[1m0s\u001b[0m 3ms/step - loss: 0.0341 - mae: 0.1367 - val_loss: 0.0342 - val_mae: 0.1372\n",
      "Epoch 56/100\n",
      "\u001b[1m117/117\u001b[0m \u001b[32m━━━━━━━━━━━━━━━━━━━━\u001b[0m\u001b[37m\u001b[0m \u001b[1m1s\u001b[0m 3ms/step - loss: 0.0348 - mae: 0.1401 - val_loss: 0.0346 - val_mae: 0.1398\n",
      "Epoch 57/100\n",
      "\u001b[1m117/117\u001b[0m \u001b[32m━━━━━━━━━━━━━━━━━━━━\u001b[0m\u001b[37m\u001b[0m \u001b[1m0s\u001b[0m 3ms/step - loss: 0.0359 - mae: 0.1426 - val_loss: 0.0333 - val_mae: 0.1368\n",
      "Epoch 58/100\n",
      "\u001b[1m117/117\u001b[0m \u001b[32m━━━━━━━━━━━━━━━━━━━━\u001b[0m\u001b[37m\u001b[0m \u001b[1m0s\u001b[0m 4ms/step - loss: 0.0345 - mae: 0.1397 - val_loss: 0.0337 - val_mae: 0.1374\n",
      "Epoch 59/100\n",
      "\u001b[1m117/117\u001b[0m \u001b[32m━━━━━━━━━━━━━━━━━━━━\u001b[0m\u001b[37m\u001b[0m \u001b[1m1s\u001b[0m 5ms/step - loss: 0.0352 - mae: 0.1397 - val_loss: 0.0326 - val_mae: 0.1325\n",
      "Epoch 60/100\n",
      "\u001b[1m117/117\u001b[0m \u001b[32m━━━━━━━━━━━━━━━━━━━━\u001b[0m\u001b[37m\u001b[0m \u001b[1m1s\u001b[0m 4ms/step - loss: 0.0350 - mae: 0.1404 - val_loss: 0.0338 - val_mae: 0.1367\n",
      "Epoch 61/100\n",
      "\u001b[1m117/117\u001b[0m \u001b[32m━━━━━━━━━━━━━━━━━━━━\u001b[0m\u001b[37m\u001b[0m \u001b[1m1s\u001b[0m 8ms/step - loss: 0.0338 - mae: 0.1367 - val_loss: 0.0330 - val_mae: 0.1352\n",
      "Epoch 62/100\n",
      "\u001b[1m117/117\u001b[0m \u001b[32m━━━━━━━━━━━━━━━━━━━━\u001b[0m\u001b[37m\u001b[0m \u001b[1m1s\u001b[0m 4ms/step - loss: 0.0340 - mae: 0.1390 - val_loss: 0.0331 - val_mae: 0.1375\n",
      "Epoch 63/100\n",
      "\u001b[1m117/117\u001b[0m \u001b[32m━━━━━━━━━━━━━━━━━━━━\u001b[0m\u001b[37m\u001b[0m \u001b[1m1s\u001b[0m 5ms/step - loss: 0.0340 - mae: 0.1387 - val_loss: 0.0334 - val_mae: 0.1373\n",
      "Epoch 64/100\n",
      "\u001b[1m117/117\u001b[0m \u001b[32m━━━━━━━━━━━━━━━━━━━━\u001b[0m\u001b[37m\u001b[0m \u001b[1m1s\u001b[0m 5ms/step - loss: 0.0336 - mae: 0.1376 - val_loss: 0.0328 - val_mae: 0.1362\n",
      "Epoch 65/100\n",
      "\u001b[1m117/117\u001b[0m \u001b[32m━━━━━━━━━━━━━━━━━━━━\u001b[0m\u001b[37m\u001b[0m \u001b[1m1s\u001b[0m 4ms/step - loss: 0.0339 - mae: 0.1385 - val_loss: 0.0329 - val_mae: 0.1364\n",
      "Epoch 66/100\n",
      "\u001b[1m117/117\u001b[0m \u001b[32m━━━━━━━━━━━━━━━━━━━━\u001b[0m\u001b[37m\u001b[0m \u001b[1m1s\u001b[0m 5ms/step - loss: 0.0332 - mae: 0.1379 - val_loss: 0.0328 - val_mae: 0.1359\n",
      "Epoch 67/100\n",
      "\u001b[1m117/117\u001b[0m \u001b[32m━━━━━━━━━━━━━━━━━━━━\u001b[0m\u001b[37m\u001b[0m \u001b[1m1s\u001b[0m 3ms/step - loss: 0.0331 - mae: 0.1368 - val_loss: 0.0330 - val_mae: 0.1336\n",
      "Epoch 68/100\n",
      "\u001b[1m117/117\u001b[0m \u001b[32m━━━━━━━━━━━━━━━━━━━━\u001b[0m\u001b[37m\u001b[0m \u001b[1m0s\u001b[0m 4ms/step - loss: 0.0338 - mae: 0.1372 - val_loss: 0.0328 - val_mae: 0.1348\n",
      "Epoch 69/100\n",
      "\u001b[1m117/117\u001b[0m \u001b[32m━━━━━━━━━━━━━━━━━━━━\u001b[0m\u001b[37m\u001b[0m \u001b[1m1s\u001b[0m 4ms/step - loss: 0.0338 - mae: 0.1389 - val_loss: 0.0324 - val_mae: 0.1329\n",
      "Epoch 70/100\n",
      "\u001b[1m117/117\u001b[0m \u001b[32m━━━━━━━━━━━━━━━━━━━━\u001b[0m\u001b[37m\u001b[0m \u001b[1m1s\u001b[0m 5ms/step - loss: 0.0342 - mae: 0.1386 - val_loss: 0.0326 - val_mae: 0.1348\n",
      "Epoch 71/100\n",
      "\u001b[1m117/117\u001b[0m \u001b[32m━━━━━━━━━━━━━━━━━━━━\u001b[0m\u001b[37m\u001b[0m \u001b[1m0s\u001b[0m 3ms/step - loss: 0.0337 - mae: 0.1391 - val_loss: 0.0322 - val_mae: 0.1328\n",
      "Epoch 72/100\n",
      "\u001b[1m117/117\u001b[0m \u001b[32m━━━━━━━━━━━━━━━━━━━━\u001b[0m\u001b[37m\u001b[0m \u001b[1m0s\u001b[0m 3ms/step - loss: 0.0335 - mae: 0.1372 - val_loss: 0.0324 - val_mae: 0.1336\n",
      "Epoch 73/100\n",
      "\u001b[1m117/117\u001b[0m \u001b[32m━━━━━━━━━━━━━━━━━━━━\u001b[0m\u001b[37m\u001b[0m \u001b[1m1s\u001b[0m 4ms/step - loss: 0.0336 - mae: 0.1378 - val_loss: 0.0324 - val_mae: 0.1340\n",
      "Epoch 74/100\n",
      "\u001b[1m117/117\u001b[0m \u001b[32m━━━━━━━━━━━━━━━━━━━━\u001b[0m\u001b[37m\u001b[0m \u001b[1m1s\u001b[0m 7ms/step - loss: 0.0340 - mae: 0.1390 - val_loss: 0.0333 - val_mae: 0.1361\n",
      "Epoch 75/100\n",
      "\u001b[1m117/117\u001b[0m \u001b[32m━━━━━━━━━━━━━━━━━━━━\u001b[0m\u001b[37m\u001b[0m \u001b[1m1s\u001b[0m 6ms/step - loss: 0.0339 - mae: 0.1396 - val_loss: 0.0323 - val_mae: 0.1344\n",
      "Epoch 76/100\n",
      "\u001b[1m117/117\u001b[0m \u001b[32m━━━━━━━━━━━━━━━━━━━━\u001b[0m\u001b[37m\u001b[0m \u001b[1m1s\u001b[0m 5ms/step - loss: 0.0335 - mae: 0.1380 - val_loss: 0.0327 - val_mae: 0.1342\n",
      "Epoch 77/100\n",
      "\u001b[1m117/117\u001b[0m \u001b[32m━━━━━━━━━━━━━━━━━━━━\u001b[0m\u001b[37m\u001b[0m \u001b[1m1s\u001b[0m 4ms/step - loss: 0.0344 - mae: 0.1398 - val_loss: 0.0320 - val_mae: 0.1305\n",
      "Epoch 78/100\n",
      "\u001b[1m117/117\u001b[0m \u001b[32m━━━━━━━━━━━━━━━━━━━━\u001b[0m\u001b[37m\u001b[0m \u001b[1m1s\u001b[0m 3ms/step - loss: 0.0344 - mae: 0.1391 - val_loss: 0.0327 - val_mae: 0.1331\n",
      "Epoch 79/100\n",
      "\u001b[1m117/117\u001b[0m \u001b[32m━━━━━━━━━━━━━━━━━━━━\u001b[0m\u001b[37m\u001b[0m \u001b[1m1s\u001b[0m 5ms/step - loss: 0.0345 - mae: 0.1413 - val_loss: 0.0329 - val_mae: 0.1377\n",
      "Epoch 80/100\n",
      "\u001b[1m117/117\u001b[0m \u001b[32m━━━━━━━━━━━━━━━━━━━━\u001b[0m\u001b[37m\u001b[0m \u001b[1m1s\u001b[0m 10ms/step - loss: 0.0337 - mae: 0.1383 - val_loss: 0.0331 - val_mae: 0.1355\n",
      "Epoch 81/100\n",
      "\u001b[1m117/117\u001b[0m \u001b[32m━━━━━━━━━━━━━━━━━━━━\u001b[0m\u001b[37m\u001b[0m \u001b[1m1s\u001b[0m 3ms/step - loss: 0.0338 - mae: 0.1368 - val_loss: 0.0320 - val_mae: 0.1319\n",
      "Epoch 82/100\n",
      "\u001b[1m117/117\u001b[0m \u001b[32m━━━━━━━━━━━━━━━━━━━━\u001b[0m\u001b[37m\u001b[0m \u001b[1m0s\u001b[0m 3ms/step - loss: 0.0337 - mae: 0.1374 - val_loss: 0.0327 - val_mae: 0.1358\n",
      "Epoch 83/100\n",
      "\u001b[1m117/117\u001b[0m \u001b[32m━━━━━━━━━━━━━━━━━━━━\u001b[0m\u001b[37m\u001b[0m \u001b[1m1s\u001b[0m 4ms/step - loss: 0.0336 - mae: 0.1388 - val_loss: 0.0315 - val_mae: 0.1327\n",
      "Epoch 84/100\n",
      "\u001b[1m117/117\u001b[0m \u001b[32m━━━━━━━━━━━━━━━━━━━━\u001b[0m\u001b[37m\u001b[0m \u001b[1m1s\u001b[0m 3ms/step - loss: 0.0333 - mae: 0.1369 - val_loss: 0.0317 - val_mae: 0.1334\n",
      "Epoch 85/100\n",
      "\u001b[1m117/117\u001b[0m \u001b[32m━━━━━━━━━━━━━━━━━━━━\u001b[0m\u001b[37m\u001b[0m \u001b[1m0s\u001b[0m 3ms/step - loss: 0.0326 - mae: 0.1360 - val_loss: 0.0319 - val_mae: 0.1318\n",
      "Epoch 86/100\n",
      "\u001b[1m117/117\u001b[0m \u001b[32m━━━━━━━━━━━━━━━━━━━━\u001b[0m\u001b[37m\u001b[0m \u001b[1m0s\u001b[0m 3ms/step - loss: 0.0338 - mae: 0.1382 - val_loss: 0.0318 - val_mae: 0.1330\n",
      "Epoch 87/100\n",
      "\u001b[1m117/117\u001b[0m \u001b[32m━━━━━━━━━━━━━━━━━━━━\u001b[0m\u001b[37m\u001b[0m \u001b[1m0s\u001b[0m 3ms/step - loss: 0.0329 - mae: 0.1361 - val_loss: 0.0322 - val_mae: 0.1345\n",
      "Epoch 88/100\n",
      "\u001b[1m117/117\u001b[0m \u001b[32m━━━━━━━━━━━━━━━━━━━━\u001b[0m\u001b[37m\u001b[0m \u001b[1m0s\u001b[0m 3ms/step - loss: 0.0338 - mae: 0.1393 - val_loss: 0.0320 - val_mae: 0.1344\n",
      "Epoch 89/100\n",
      "\u001b[1m117/117\u001b[0m \u001b[32m━━━━━━━━━━━━━━━━━━━━\u001b[0m\u001b[37m\u001b[0m \u001b[1m0s\u001b[0m 3ms/step - loss: 0.0335 - mae: 0.1383 - val_loss: 0.0320 - val_mae: 0.1327\n",
      "Epoch 90/100\n",
      "\u001b[1m117/117\u001b[0m \u001b[32m━━━━━━━━━━━━━━━━━━━━\u001b[0m\u001b[37m\u001b[0m \u001b[1m0s\u001b[0m 2ms/step - loss: 0.0331 - mae: 0.1377 - val_loss: 0.0319 - val_mae: 0.1332\n",
      "Epoch 91/100\n",
      "\u001b[1m117/117\u001b[0m \u001b[32m━━━━━━━━━━━━━━━━━━━━\u001b[0m\u001b[37m\u001b[0m \u001b[1m0s\u001b[0m 3ms/step - loss: 0.0341 - mae: 0.1406 - val_loss: 0.0315 - val_mae: 0.1327\n",
      "Epoch 92/100\n",
      "\u001b[1m117/117\u001b[0m \u001b[32m━━━━━━━━━━━━━━━━━━━━\u001b[0m\u001b[37m\u001b[0m \u001b[1m1s\u001b[0m 2ms/step - loss: 0.0345 - mae: 0.1417 - val_loss: 0.0316 - val_mae: 0.1329\n",
      "Epoch 93/100\n",
      "\u001b[1m117/117\u001b[0m \u001b[32m━━━━━━━━━━━━━━━━━━━━\u001b[0m\u001b[37m\u001b[0m \u001b[1m0s\u001b[0m 4ms/step - loss: 0.0332 - mae: 0.1376 - val_loss: 0.0317 - val_mae: 0.1328\n",
      "Epoch 94/100\n",
      "\u001b[1m117/117\u001b[0m \u001b[32m━━━━━━━━━━━━━━━━━━━━\u001b[0m\u001b[37m\u001b[0m \u001b[1m0s\u001b[0m 2ms/step - loss: 0.0329 - mae: 0.1384 - val_loss: 0.0317 - val_mae: 0.1356\n",
      "Epoch 95/100\n",
      "\u001b[1m117/117\u001b[0m \u001b[32m━━━━━━━━━━━━━━━━━━━━\u001b[0m\u001b[37m\u001b[0m \u001b[1m0s\u001b[0m 2ms/step - loss: 0.0332 - mae: 0.1378 - val_loss: 0.0323 - val_mae: 0.1315\n",
      "Epoch 96/100\n",
      "\u001b[1m117/117\u001b[0m \u001b[32m━━━━━━━━━━━━━━━━━━━━\u001b[0m\u001b[37m\u001b[0m \u001b[1m0s\u001b[0m 3ms/step - loss: 0.0325 - mae: 0.1358 - val_loss: 0.0318 - val_mae: 0.1347\n",
      "Epoch 97/100\n",
      "\u001b[1m117/117\u001b[0m \u001b[32m━━━━━━━━━━━━━━━━━━━━\u001b[0m\u001b[37m\u001b[0m \u001b[1m1s\u001b[0m 5ms/step - loss: 0.0331 - mae: 0.1373 - val_loss: 0.0320 - val_mae: 0.1354\n",
      "Epoch 98/100\n",
      "\u001b[1m117/117\u001b[0m \u001b[32m━━━━━━━━━━━━━━━━━━━━\u001b[0m\u001b[37m\u001b[0m \u001b[1m1s\u001b[0m 9ms/step - loss: 0.0330 - mae: 0.1380 - val_loss: 0.0320 - val_mae: 0.1330\n",
      "Epoch 99/100\n",
      "\u001b[1m117/117\u001b[0m \u001b[32m━━━━━━━━━━━━━━━━━━━━\u001b[0m\u001b[37m\u001b[0m \u001b[1m1s\u001b[0m 3ms/step - loss: 0.0333 - mae: 0.1372 - val_loss: 0.0318 - val_mae: 0.1313\n",
      "Epoch 100/100\n",
      "\u001b[1m117/117\u001b[0m \u001b[32m━━━━━━━━━━━━━━━━━━━━\u001b[0m\u001b[37m\u001b[0m \u001b[1m0s\u001b[0m 3ms/step - loss: 0.0330 - mae: 0.1357 - val_loss: 0.0315 - val_mae: 0.1335\n",
      "\u001b[1m30/30\u001b[0m \u001b[32m━━━━━━━━━━━━━━━━━━━━\u001b[0m\u001b[37m\u001b[0m \u001b[1m0s\u001b[0m 5ms/step\n"
     ]
    },
    {
     "data": {
      "image/png": "[encoded data removed]",
      "text/plain": [
       "<Figure size 640x480 with 1 Axes>"
      ]
     },
     "metadata": {},
     "output_type": "display_data"
    },
    {
     "data": {
      "image/png": "[encoded data removed]",
      "text/plain": [
       "<Figure size 640x480 with 1 Axes>"
      ]
     },
     "metadata": {},
     "output_type": "display_data"
    },
    {
     "name": "stdout",
     "output_type": "stream",
     "text": [
      "\u001b[1m30/30\u001b[0m \u001b[32m━━━━━━━━━━━━━━━━━━━━\u001b[0m\u001b[37m\u001b[0m \u001b[1m0s\u001b[0m 2ms/step - loss: 0.0303 - mae: 0.1308\n",
      "MSE:  0.03153745085000992\n",
      "MAE: 0.13354219496250153\n"
     ]
    },
    {
     "data": {
      "application/vnd.microsoft.datawrangler.viewer.v0+json": {
       "columns": [
        {
         "name": "SongID",
         "rawType": "object",
         "type": "string"
        },
        {
         "name": "Original Test",
         "rawType": "float64",
         "type": "float"
        },
        {
         "name": "Prediction Test",
         "rawType": "float32",
         "type": "float"
        },
        {
         "name": "Original over Thrashold",
         "rawType": "bool",
         "type": "boolean"
        },
        {
         "name": "Predicted over Thrashold",
         "rawType": "bool",
         "type": "boolean"
        }
       ],
       "conversionMethod": "pd.DataFrame",
       "ref": "1ab2eac9-59b4-44ea-9626-5934205608fc",
       "rows": [
        [
         "One Night AffairThe O'Jays",
         "0.876",
         "0.7696132",
         "True",
         "True"
        ],
        [
         "Young & Gettin' ItMeek Mill Featuring Kirko Bangz",
         "0.8579999999999999",
         "0.51332676",
         "True",
         "False"
        ],
        [
         "Everything Is Good About YouThe Lettermen",
         "0.804",
         "0.72852975",
         "True",
         "True"
        ],
        [
         "Hot Fun In The SummertimeSly & The Family Stone",
         "0.931",
         "0.82360125",
         "True",
         "True"
        ],
        [
         "Will The Wolf SurviveLos Lobos",
         "0.8439999999999999",
         "0.8009427",
         "True",
         "True"
        ],
        [
         "You Had Me From HelloKenny Chesney",
         "0.2",
         "0.40182433",
         "False",
         "False"
        ],
        [
         "HappyBobby Darin",
         "0.6119999999999999",
         "0.4740855",
         "False",
         "False"
        ],
        [
         "SOSRihanna",
         "0.527",
         "0.5446397",
         "False",
         "False"
        ],
        [
         "New Magic WandTyler, The Creator",
         "0.464",
         "0.49656585",
         "False",
         "False"
        ],
        [
         "Burnin' For YouBlue Oyster Cult",
         "0.69",
         "0.5662201",
         "False",
         "False"
        ],
        [
         "Separate Ways (Worlds Apart)Journey",
         "0.377",
         "0.53978986",
         "False",
         "False"
        ],
        [
         "Heads Carolina, Tails CaliforniaDanielle Bradbery",
         "0.626",
         "0.5980627",
         "False",
         "False"
        ],
        [
         "The Little Girl I Once KnewThe Beach Boys",
         "0.435",
         "0.68331647",
         "False",
         "False"
        ],
        [
         "You Really Got MeThe Kinks",
         "0.963",
         "0.82623875",
         "True",
         "True"
        ],
        [
         "If Everyone CaredNickelback",
         "0.196",
         "0.5314367",
         "False",
         "False"
        ],
        [
         "The Love We Had (Stays On My Mind)The Dells",
         "0.126",
         "0.34008372",
         "False",
         "False"
        ],
        [
         "Raise UpPetey Pablo",
         "0.7419999999999999",
         "0.61078906",
         "True",
         "False"
        ],
        [
         "Day DreamingAretha Franklin",
         "0.2929999999999999",
         "0.41450652",
         "False",
         "False"
        ],
        [
         "19 You + MeDan + Shay",
         "0.451",
         "0.4046948",
         "False",
         "False"
        ],
        [
         "I'll Never Stop Wanting YouBrian Hyland",
         "0.2989999999999999",
         "0.40531075",
         "False",
         "False"
        ],
        [
         "When I Grow Up (To Be A Man)The Beach Boys",
         "0.789",
         "0.64018995",
         "True",
         "False"
        ],
        [
         "Better Dig TwoThe Band Perry",
         "0.646",
         "0.62089497",
         "False",
         "False"
        ],
        [
         "I Get It InOmarion Featuring Gucci Mane",
         "0.674",
         "0.72823614",
         "False",
         "True"
        ],
        [
         "(We Ain't Got) Nothin' YetBlues Magoos",
         "0.8579999999999999",
         "0.8138479",
         "True",
         "True"
        ],
        [
         "No ProblemChance The Rapper Featuring Lil Wayne & 2 Chainz",
         "0.788",
         "0.46448871",
         "True",
         "False"
        ],
        [
         "Envy MeCalboy",
         "0.5839999999999999",
         "0.4513996",
         "False",
         "False"
        ],
        [
         "Desiree'The Left Banke",
         "0.7279999999999999",
         "0.6926085",
         "True",
         "False"
        ],
        [
         "Why Can't You Bring Me HomeJay & The Americans",
         "0.7149999999999999",
         "0.83189",
         "True",
         "True"
        ],
        [
         "Whatever You LikeT.I.",
         "0.467",
         "0.44050005",
         "False",
         "False"
        ],
        [
         "Sk8er BoiAvril Lavigne",
         "0.4839999999999999",
         "0.59660673",
         "False",
         "False"
        ],
        [
         "American BoysPetula Clark",
         "0.5969999999999999",
         "0.54050255",
         "False",
         "False"
        ],
        [
         "Boogie WonderlandEarth, Wind & Fire with The Emotions",
         "0.963",
         "0.7368025",
         "True",
         "True"
        ],
        [
         "Cotton CandyAl Hirt",
         "0.966",
         "0.83177614",
         "True",
         "True"
        ],
        [
         "So Sad The SongGladys Knight And The Pips",
         "0.2069999999999999",
         "0.33363307",
         "False",
         "False"
        ],
        [
         "Already GoneSugarland",
         "0.373",
         "0.32559025",
         "False",
         "False"
        ],
        [
         "Any Way You Want ItJourney",
         "0.571",
         "0.7469119",
         "False",
         "True"
        ],
        [
         "Love MeJustin Bieber",
         "0.6129999999999999",
         "0.5460633",
         "False",
         "False"
        ],
        [
         "Even NowBarry Manilow",
         "0.313",
         "0.31010872",
         "False",
         "False"
        ],
        [
         "Crazy DowntownAllan Sherman",
         "0.815",
         "0.7233073",
         "True",
         "True"
        ],
        [
         "ToxicBritney Spears",
         "0.924",
         "0.6805834",
         "True",
         "False"
        ],
        [
         "Have You Ever Needed Someone So BadDef Leppard",
         "0.7349999999999999",
         "0.52730584",
         "True",
         "False"
        ],
        [
         "Summer Of '42Biddu Orchestra",
         "0.556",
         "0.5473563",
         "False",
         "False"
        ],
        [
         "Get Right WitchaMigos",
         "0.62",
         "0.62343246",
         "False",
         "False"
        ],
        [
         "My Pretending Days Are OverThe Dells",
         "0.4139999999999999",
         "0.49883804",
         "False",
         "False"
        ],
        [
         "Good Timin'Jimmy Jones",
         "0.967",
         "0.7139967",
         "True",
         "True"
        ],
        [
         "Your Baby Never Looked Good In BlueExpose",
         "0.3669999999999999",
         "0.5980978",
         "False",
         "False"
        ],
        [
         "Let The Good Times Roll & Feel So GoodBunny Sigler",
         "0.928",
         "0.8235903",
         "True",
         "True"
        ],
        [
         "Snap Backs & TattoosDriicky Graham",
         "0.538",
         "0.6261779",
         "False",
         "False"
        ],
        [
         "Look What They've Done To My Song MaThe New Seekers featuring Eve Graham",
         "0.401",
         "0.5212608",
         "False",
         "False"
        ],
        [
         "Diamond HeadThe Ventures",
         "0.963",
         "0.73731935",
         "True",
         "True"
        ]
       ],
       "shape": {
        "columns": 4,
        "rows": 934
       }
      },
      "text/html": [
       "<div>\n",
       "<style scoped>\n",
       "    .dataframe tbody tr th:only-of-type {\n",
       "        vertical-align: middle;\n",
       "    }\n",
       "\n",
       "    .dataframe tbody tr th {\n",
       "        vertical-align: top;\n",
       "    }\n",
       "\n",
       "    .dataframe thead th {\n",
       "        text-align: right;\n",
       "    }\n",
       "</style>\n",
       "<table border=\"1\" class=\"dataframe\">\n",
       "  <thead>\n",
       "    <tr style=\"text-align: right;\">\n",
       "      <th></th>\n",
       "      <th>Original Test</th>\n",
       "      <th>Prediction Test</th>\n",
       "      <th>Original over Thrashold</th>\n",
       "      <th>Predicted over Thrashold</th>\n",
       "    </tr>\n",
       "    <tr>\n",
       "      <th>SongID</th>\n",
       "      <th></th>\n",
       "      <th></th>\n",
       "      <th></th>\n",
       "      <th></th>\n",
       "    </tr>\n",
       "  </thead>\n",
       "  <tbody>\n",
       "    <tr>\n",
       "      <th>One Night AffairThe O'Jays</th>\n",
       "      <td>0.876</td>\n",
       "      <td>0.769613</td>\n",
       "      <td>True</td>\n",
       "      <td>True</td>\n",
       "    </tr>\n",
       "    <tr>\n",
       "      <th>Young &amp; Gettin' ItMeek Mill Featuring Kirko Bangz</th>\n",
       "      <td>0.858</td>\n",
       "      <td>0.513327</td>\n",
       "      <td>True</td>\n",
       "      <td>False</td>\n",
       "    </tr>\n",
       "    <tr>\n",
       "      <th>Everything Is Good About YouThe Lettermen</th>\n",
       "      <td>0.804</td>\n",
       "      <td>0.728530</td>\n",
       "      <td>True</td>\n",
       "      <td>True</td>\n",
       "    </tr>\n",
       "    <tr>\n",
       "      <th>Hot Fun In The SummertimeSly &amp; The Family Stone</th>\n",
       "      <td>0.931</td>\n",
       "      <td>0.823601</td>\n",
       "      <td>True</td>\n",
       "      <td>True</td>\n",
       "    </tr>\n",
       "    <tr>\n",
       "      <th>Will The Wolf SurviveLos Lobos</th>\n",
       "      <td>0.844</td>\n",
       "      <td>0.800943</td>\n",
       "      <td>True</td>\n",
       "      <td>True</td>\n",
       "    </tr>\n",
       "    <tr>\n",
       "      <th>...</th>\n",
       "      <td>...</td>\n",
       "      <td>...</td>\n",
       "      <td>...</td>\n",
       "      <td>...</td>\n",
       "    </tr>\n",
       "    <tr>\n",
       "      <th>HeavenBryan Adams</th>\n",
       "      <td>0.335</td>\n",
       "      <td>0.356235</td>\n",
       "      <td>False</td>\n",
       "      <td>False</td>\n",
       "    </tr>\n",
       "    <tr>\n",
       "      <th>I Have NothingWhitney Houston</th>\n",
       "      <td>0.240</td>\n",
       "      <td>0.355753</td>\n",
       "      <td>False</td>\n",
       "      <td>False</td>\n",
       "    </tr>\n",
       "    <tr>\n",
       "      <th>Only You Can Love Me This WayKeith Urban</th>\n",
       "      <td>0.325</td>\n",
       "      <td>0.387848</td>\n",
       "      <td>False</td>\n",
       "      <td>False</td>\n",
       "    </tr>\n",
       "    <tr>\n",
       "      <th>Viva La VidaColdplay</th>\n",
       "      <td>0.416</td>\n",
       "      <td>0.375210</td>\n",
       "      <td>False</td>\n",
       "      <td>False</td>\n",
       "    </tr>\n",
       "    <tr>\n",
       "      <th>Delta LadyJoe Cocker</th>\n",
       "      <td>0.777</td>\n",
       "      <td>0.711027</td>\n",
       "      <td>True</td>\n",
       "      <td>True</td>\n",
       "    </tr>\n",
       "  </tbody>\n",
       "</table>\n",
       "<p>934 rows × 4 columns</p>\n",
       "</div>"
      ],
      "text/plain": [
       "                                                   Original Test  \\\n",
       "SongID                                                             \n",
       "One Night AffairThe O'Jays                                 0.876   \n",
       "Young & Gettin' ItMeek Mill Featuring Kirko Bangz          0.858   \n",
       "Everything Is Good About YouThe Lettermen                  0.804   \n",
       "Hot Fun In The SummertimeSly & The Family Stone            0.931   \n",
       "Will The Wolf SurviveLos Lobos                             0.844   \n",
       "...                                                          ...   \n",
       "HeavenBryan Adams                                          0.335   \n",
       "I Have NothingWhitney Houston                              0.240   \n",
       "Only You Can Love Me This WayKeith Urban                   0.325   \n",
       "Viva La VidaColdplay                                       0.416   \n",
       "Delta LadyJoe Cocker                                       0.777   \n",
       "\n",
       "                                                   Prediction Test  \\\n",
       "SongID                                                               \n",
       "One Night AffairThe O'Jays                                0.769613   \n",
       "Young & Gettin' ItMeek Mill Featuring Kirko Bangz         0.513327   \n",
       "Everything Is Good About YouThe Lettermen                 0.728530   \n",
       "Hot Fun In The SummertimeSly & The Family Stone           0.823601   \n",
       "Will The Wolf SurviveLos Lobos                            0.800943   \n",
       "...                                                            ...   \n",
       "HeavenBryan Adams                                         0.356235   \n",
       "I Have NothingWhitney Houston                             0.355753   \n",
       "Only You Can Love Me This WayKeith Urban                  0.387848   \n",
       "Viva La VidaColdplay                                      0.375210   \n",
       "Delta LadyJoe Cocker                                      0.711027   \n",
       "\n",
       "                                                   Original over Thrashold  \\\n",
       "SongID                                                                       \n",
       "One Night AffairThe O'Jays                                            True   \n",
       "Young & Gettin' ItMeek Mill Featuring Kirko Bangz                     True   \n",
       "Everything Is Good About YouThe Lettermen                             True   \n",
       "Hot Fun In The SummertimeSly & The Family Stone                       True   \n",
       "Will The Wolf SurviveLos Lobos                                        True   \n",
       "...                                                                    ...   \n",
       "HeavenBryan Adams                                                    False   \n",
       "I Have NothingWhitney Houston                                        False   \n",
       "Only You Can Love Me This WayKeith Urban                             False   \n",
       "Viva La VidaColdplay                                                 False   \n",
       "Delta LadyJoe Cocker                                                  True   \n",
       "\n",
       "                                                   Predicted over Thrashold  \n",
       "SongID                                                                       \n",
       "One Night AffairThe O'Jays                                             True  \n",
       "Young & Gettin' ItMeek Mill Featuring Kirko Bangz                     False  \n",
       "Everything Is Good About YouThe Lettermen                              True  \n",
       "Hot Fun In The SummertimeSly & The Family Stone                        True  \n",
       "Will The Wolf SurviveLos Lobos                                         True  \n",
       "...                                                                     ...  \n",
       "HeavenBryan Adams                                                     False  \n",
       "I Have NothingWhitney Houston                                         False  \n",
       "Only You Can Love Me This WayKeith Urban                              False  \n",
       "Viva La VidaColdplay                                                  False  \n",
       "Delta LadyJoe Cocker                                                   True  \n",
       "\n",
       "[934 rows x 4 columns]"
      ]
     },
     "metadata": {},
     "output_type": "display_data"
    },
    {
     "data": {
      "image/png": "[encoded data removed]",
      "text/plain": [
       "<Figure size 640x480 with 2 Axes>"
      ]
     },
     "metadata": {},
     "output_type": "display_data"
    },
    {
     "data": {
      "application/vnd.microsoft.datawrangler.viewer.v0+json": {
       "columns": [
        {
         "name": "index",
         "rawType": "int64",
         "type": "integer"
        },
        {
         "name": "Metric",
         "rawType": "object",
         "type": "string"
        },
        {
         "name": "Value",
         "rawType": "float64",
         "type": "float"
        }
       ],
       "conversionMethod": "pd.DataFrame",
       "ref": "0c5786a1-6621-4f8b-9087-5cbb6b435eb4",
       "rows": [
        [
         "0",
         "Accuracy",
         "0.8"
        ],
        [
         "1",
         "Precision",
         "0.78"
        ],
        [
         "2",
         "Recall",
         "0.65"
        ],
        [
         "3",
         "F1-score",
         "0.71"
        ]
       ],
       "shape": {
        "columns": 2,
        "rows": 4
       }
      },
      "text/html": [
       "<div>\n",
       "<style scoped>\n",
       "    .dataframe tbody tr th:only-of-type {\n",
       "        vertical-align: middle;\n",
       "    }\n",
       "\n",
       "    .dataframe tbody tr th {\n",
       "        vertical-align: top;\n",
       "    }\n",
       "\n",
       "    .dataframe thead th {\n",
       "        text-align: right;\n",
       "    }\n",
       "</style>\n",
       "<table border=\"1\" class=\"dataframe\">\n",
       "  <thead>\n",
       "    <tr style=\"text-align: right;\">\n",
       "      <th></th>\n",
       "      <th>Metric</th>\n",
       "      <th>Value</th>\n",
       "    </tr>\n",
       "  </thead>\n",
       "  <tbody>\n",
       "    <tr>\n",
       "      <th>0</th>\n",
       "      <td>Accuracy</td>\n",
       "      <td>0.80</td>\n",
       "    </tr>\n",
       "    <tr>\n",
       "      <th>1</th>\n",
       "      <td>Precision</td>\n",
       "      <td>0.78</td>\n",
       "    </tr>\n",
       "    <tr>\n",
       "      <th>2</th>\n",
       "      <td>Recall</td>\n",
       "      <td>0.65</td>\n",
       "    </tr>\n",
       "    <tr>\n",
       "      <th>3</th>\n",
       "      <td>F1-score</td>\n",
       "      <td>0.71</td>\n",
       "    </tr>\n",
       "  </tbody>\n",
       "</table>\n",
       "</div>"
      ],
      "text/plain": [
       "      Metric  Value\n",
       "0   Accuracy   0.80\n",
       "1  Precision   0.78\n",
       "2     Recall   0.65\n",
       "3   F1-score   0.71"
      ]
     },
     "metadata": {},
     "output_type": "display_data"
    },
    {
     "name": "stdout",
     "output_type": "stream",
     "text": [
      "---------------------------------------------------------\n",
      "USER 2\n",
      "Epoch 1/100\n"
     ]
    },
    {
     "name": "stderr",
     "output_type": "stream",
     "text": [
      "C:\\Users\\elped\\AppData\\Local\\Temp\\ipykernel_16540\\2934058548.py:7: SettingWithCopyWarning: \n",
      "A value is trying to be set on a copy of a slice from a DataFrame.\n",
      "Try using .loc[row_indexer,col_indexer] = value instead\n",
      "\n",
      "See the caveats in the documentation: https://pandas.pydata.org/pandas-docs/stable/user_guide/indexing.html#returning-a-view-versus-a-copy\n",
      "  x[numerical_features] = StandardScaler().fit_transform(x[numerical_features])\n",
      "c:\\Users\\elped\\AppData\\Local\\Programs\\Python\\Python312\\Lib\\site-packages\\keras\\src\\layers\\core\\dense.py:87: UserWarning: Do not pass an `input_shape`/`input_dim` argument to a layer. When using Sequential models, prefer using an `Input(shape)` object as the first layer in the model instead.\n",
      "  super().__init__(activity_regularizer=activity_regularizer, **kwargs)\n"
     ]
    },
    {
     "name": "stdout",
     "output_type": "stream",
     "text": [
      "\u001b[1m270/270\u001b[0m \u001b[32m━━━━━━━━━━━━━━━━━━━━\u001b[0m\u001b[37m\u001b[0m \u001b[1m3s\u001b[0m 4ms/step - loss: 0.3547 - mae: 0.1543 - val_loss: 0.0690 - val_mae: 0.1193\n",
      "Epoch 2/100\n",
      "\u001b[1m270/270\u001b[0m \u001b[32m━━━━━━━━━━━━━━━━━━━━\u001b[0m\u001b[37m\u001b[0m \u001b[1m1s\u001b[0m 2ms/step - loss: 0.0531 - mae: 0.1217 - val_loss: 0.0310 - val_mae: 0.1111\n",
      "Epoch 3/100\n",
      "\u001b[1m270/270\u001b[0m \u001b[32m━━━━━━━━━━━━━━━━━━━━\u001b[0m\u001b[37m\u001b[0m \u001b[1m1s\u001b[0m 2ms/step - loss: 0.0311 - mae: 0.1166 - val_loss: 0.0285 - val_mae: 0.1096\n",
      "Epoch 4/100\n",
      "\u001b[1m270/270\u001b[0m \u001b[32m━━━━━━━━━━━━━━━━━━━━\u001b[0m\u001b[37m\u001b[0m \u001b[1m1s\u001b[0m 2ms/step - loss: 0.0303 - mae: 0.1169 - val_loss: 0.0274 - val_mae: 0.1047\n",
      "Epoch 5/100\n",
      "\u001b[1m270/270\u001b[0m \u001b[32m━━━━━━━━━━━━━━━━━━━━\u001b[0m\u001b[37m\u001b[0m \u001b[1m1s\u001b[0m 3ms/step - loss: 0.0287 - mae: 0.1132 - val_loss: 0.0269 - val_mae: 0.1052\n",
      "Epoch 6/100\n",
      "\u001b[1m270/270\u001b[0m \u001b[32m━━━━━━━━━━━━━━━━━━━━\u001b[0m\u001b[37m\u001b[0m \u001b[1m1s\u001b[0m 3ms/step - loss: 0.0292 - mae: 0.1160 - val_loss: 0.0262 - val_mae: 0.1030\n",
      "Epoch 7/100\n",
      "\u001b[1m270/270\u001b[0m \u001b[32m━━━━━━━━━━━━━━━━━━━━\u001b[0m\u001b[37m\u001b[0m \u001b[1m1s\u001b[0m 2ms/step - loss: 0.0286 - mae: 0.1126 - val_loss: 0.0261 - val_mae: 0.1045\n",
      "Epoch 8/100\n",
      "\u001b[1m270/270\u001b[0m \u001b[32m━━━━━━━━━━━━━━━━━━━━\u001b[0m\u001b[37m\u001b[0m \u001b[1m1s\u001b[0m 2ms/step - loss: 0.0272 - mae: 0.1099 - val_loss: 0.0257 - val_mae: 0.1021\n",
      "Epoch 9/100\n",
      "\u001b[1m270/270\u001b[0m \u001b[32m━━━━━━━━━━━━━━━━━━━━\u001b[0m\u001b[37m\u001b[0m \u001b[1m1s\u001b[0m 3ms/step - loss: 0.0282 - mae: 0.1136 - val_loss: 0.0255 - val_mae: 0.1023\n",
      "Epoch 10/100\n",
      "\u001b[1m270/270\u001b[0m \u001b[32m━━━━━━━━━━━━━━━━━━━━\u001b[0m\u001b[37m\u001b[0m \u001b[1m2s\u001b[0m 5ms/step - loss: 0.0271 - mae: 0.1095 - val_loss: 0.0254 - val_mae: 0.1049\n",
      "Epoch 11/100\n",
      "\u001b[1m270/270\u001b[0m \u001b[32m━━━━━━━━━━━━━━━━━━━━\u001b[0m\u001b[37m\u001b[0m \u001b[1m2s\u001b[0m 3ms/step - loss: 0.0265 - mae: 0.1093 - val_loss: 0.0252 - val_mae: 0.1025\n",
      "Epoch 12/100\n",
      "\u001b[1m270/270\u001b[0m \u001b[32m━━━━━━━━━━━━━━━━━━━━\u001b[0m\u001b[37m\u001b[0m \u001b[1m1s\u001b[0m 2ms/step - loss: 0.0268 - mae: 0.1098 - val_loss: 0.0249 - val_mae: 0.0992\n",
      "Epoch 13/100\n",
      "\u001b[1m270/270\u001b[0m \u001b[32m━━━━━━━━━━━━━━━━━━━━\u001b[0m\u001b[37m\u001b[0m \u001b[1m1s\u001b[0m 5ms/step - loss: 0.0274 - mae: 0.1116 - val_loss: 0.0249 - val_mae: 0.1010\n",
      "Epoch 14/100\n",
      "\u001b[1m270/270\u001b[0m \u001b[32m━━━━━━━━━━━━━━━━━━━━\u001b[0m\u001b[37m\u001b[0m \u001b[1m2s\u001b[0m 4ms/step - loss: 0.0274 - mae: 0.1123 - val_loss: 0.0246 - val_mae: 0.1019\n",
      "Epoch 15/100\n",
      "\u001b[1m270/270\u001b[0m \u001b[32m━━━━━━━━━━━━━━━━━━━━\u001b[0m\u001b[37m\u001b[0m \u001b[1m1s\u001b[0m 3ms/step - loss: 0.0265 - mae: 0.1086 - val_loss: 0.0244 - val_mae: 0.0980\n",
      "Epoch 16/100\n",
      "\u001b[1m270/270\u001b[0m \u001b[32m━━━━━━━━━━━━━━━━━━━━\u001b[0m\u001b[37m\u001b[0m \u001b[1m1s\u001b[0m 2ms/step - loss: 0.0265 - mae: 0.1087 - val_loss: 0.0243 - val_mae: 0.1001\n",
      "Epoch 17/100\n",
      "\u001b[1m270/270\u001b[0m \u001b[32m━━━━━━━━━━━━━━━━━━━━\u001b[0m\u001b[37m\u001b[0m \u001b[1m1s\u001b[0m 3ms/step - loss: 0.0263 - mae: 0.1097 - val_loss: 0.0245 - val_mae: 0.0978\n",
      "Epoch 18/100\n",
      "\u001b[1m270/270\u001b[0m \u001b[32m━━━━━━━━━━━━━━━━━━━━\u001b[0m\u001b[37m\u001b[0m \u001b[1m1s\u001b[0m 3ms/step - loss: 0.0263 - mae: 0.1086 - val_loss: 0.0241 - val_mae: 0.1013\n",
      "Epoch 19/100\n",
      "\u001b[1m270/270\u001b[0m \u001b[32m━━━━━━━━━━━━━━━━━━━━\u001b[0m\u001b[37m\u001b[0m \u001b[1m1s\u001b[0m 4ms/step - loss: 0.0260 - mae: 0.1091 - val_loss: 0.0241 - val_mae: 0.0986\n",
      "Epoch 20/100\n",
      "\u001b[1m270/270\u001b[0m \u001b[32m━━━━━━━━━━━━━━━━━━━━\u001b[0m\u001b[37m\u001b[0m \u001b[1m1s\u001b[0m 3ms/step - loss: 0.0261 - mae: 0.1087 - val_loss: 0.0240 - val_mae: 0.0982\n",
      "Epoch 21/100\n",
      "\u001b[1m270/270\u001b[0m \u001b[32m━━━━━━━━━━━━━━━━━━━━\u001b[0m\u001b[37m\u001b[0m \u001b[1m2s\u001b[0m 6ms/step - loss: 0.0255 - mae: 0.1072 - val_loss: 0.0241 - val_mae: 0.1021\n",
      "Epoch 22/100\n",
      "\u001b[1m270/270\u001b[0m \u001b[32m━━━━━━━━━━━━━━━━━━━━\u001b[0m\u001b[37m\u001b[0m \u001b[1m1s\u001b[0m 5ms/step - loss: 0.0256 - mae: 0.1071 - val_loss: 0.0234 - val_mae: 0.0982\n",
      "Epoch 23/100\n",
      "\u001b[1m270/270\u001b[0m \u001b[32m━━━━━━━━━━━━━━━━━━━━\u001b[0m\u001b[37m\u001b[0m \u001b[1m2s\u001b[0m 2ms/step - loss: 0.0246 - mae: 0.1043 - val_loss: 0.0234 - val_mae: 0.0976\n",
      "Epoch 24/100\n",
      "\u001b[1m270/270\u001b[0m \u001b[32m━━━━━━━━━━━━━━━━━━━━\u001b[0m\u001b[37m\u001b[0m \u001b[1m2s\u001b[0m 3ms/step - loss: 0.0252 - mae: 0.1069 - val_loss: 0.0233 - val_mae: 0.0997\n",
      "Epoch 25/100\n",
      "\u001b[1m270/270\u001b[0m \u001b[32m━━━━━━━━━━━━━━━━━━━━\u001b[0m\u001b[37m\u001b[0m \u001b[1m1s\u001b[0m 3ms/step - loss: 0.0250 - mae: 0.1066 - val_loss: 0.0230 - val_mae: 0.0978\n",
      "Epoch 26/100\n",
      "\u001b[1m270/270\u001b[0m \u001b[32m━━━━━━━━━━━━━━━━━━━━\u001b[0m\u001b[37m\u001b[0m \u001b[1m1s\u001b[0m 3ms/step - loss: 0.0258 - mae: 0.1075 - val_loss: 0.0232 - val_mae: 0.0989\n",
      "Epoch 27/100\n",
      "\u001b[1m270/270\u001b[0m \u001b[32m━━━━━━━━━━━━━━━━━━━━\u001b[0m\u001b[37m\u001b[0m \u001b[1m2s\u001b[0m 8ms/step - loss: 0.0251 - mae: 0.1064 - val_loss: 0.0231 - val_mae: 0.0984\n",
      "Epoch 28/100\n",
      "\u001b[1m270/270\u001b[0m \u001b[32m━━━━━━━━━━━━━━━━━━━━\u001b[0m\u001b[37m\u001b[0m \u001b[1m1s\u001b[0m 4ms/step - loss: 0.0248 - mae: 0.1061 - val_loss: 0.0229 - val_mae: 0.0988\n",
      "Epoch 29/100\n",
      "\u001b[1m270/270\u001b[0m \u001b[32m━━━━━━━━━━━━━━━━━━━━\u001b[0m\u001b[37m\u001b[0m \u001b[1m1s\u001b[0m 5ms/step - loss: 0.0247 - mae: 0.1051 - val_loss: 0.0230 - val_mae: 0.0983\n",
      "Epoch 30/100\n",
      "\u001b[1m270/270\u001b[0m \u001b[32m━━━━━━━━━━━━━━━━━━━━\u001b[0m\u001b[37m\u001b[0m \u001b[1m1s\u001b[0m 4ms/step - loss: 0.0251 - mae: 0.1067 - val_loss: 0.0227 - val_mae: 0.0971\n",
      "Epoch 31/100\n",
      "\u001b[1m270/270\u001b[0m \u001b[32m━━━━━━━━━━━━━━━━━━━━\u001b[0m\u001b[37m\u001b[0m \u001b[1m1s\u001b[0m 2ms/step - loss: 0.0254 - mae: 0.1076 - val_loss: 0.0228 - val_mae: 0.0953\n",
      "Epoch 32/100\n",
      "\u001b[1m270/270\u001b[0m \u001b[32m━━━━━━━━━━━━━━━━━━━━\u001b[0m\u001b[37m\u001b[0m \u001b[1m1s\u001b[0m 2ms/step - loss: 0.0249 - mae: 0.1063 - val_loss: 0.0226 - val_mae: 0.0942\n",
      "Epoch 33/100\n",
      "\u001b[1m270/270\u001b[0m \u001b[32m━━━━━━━━━━━━━━━━━━━━\u001b[0m\u001b[37m\u001b[0m \u001b[1m1s\u001b[0m 2ms/step - loss: 0.0255 - mae: 0.1086 - val_loss: 0.0227 - val_mae: 0.0958\n",
      "Epoch 34/100\n",
      "\u001b[1m270/270\u001b[0m \u001b[32m━━━━━━━━━━━━━━━━━━━━\u001b[0m\u001b[37m\u001b[0m \u001b[1m1s\u001b[0m 2ms/step - loss: 0.0244 - mae: 0.1053 - val_loss: 0.0230 - val_mae: 0.1005\n",
      "Epoch 35/100\n",
      "\u001b[1m270/270\u001b[0m \u001b[32m━━━━━━━━━━━━━━━━━━━━\u001b[0m\u001b[37m\u001b[0m \u001b[1m2s\u001b[0m 7ms/step - loss: 0.0246 - mae: 0.1052 - val_loss: 0.0230 - val_mae: 0.0972\n",
      "Epoch 36/100\n",
      "\u001b[1m270/270\u001b[0m \u001b[32m━━━━━━━━━━━━━━━━━━━━\u001b[0m\u001b[37m\u001b[0m \u001b[1m1s\u001b[0m 2ms/step - loss: 0.0245 - mae: 0.1053 - val_loss: 0.0226 - val_mae: 0.0968\n",
      "Epoch 37/100\n",
      "\u001b[1m270/270\u001b[0m \u001b[32m━━━━━━━━━━━━━━━━━━━━\u001b[0m\u001b[37m\u001b[0m \u001b[1m1s\u001b[0m 2ms/step - loss: 0.0251 - mae: 0.1070 - val_loss: 0.0227 - val_mae: 0.0969\n",
      "Epoch 38/100\n",
      "\u001b[1m270/270\u001b[0m \u001b[32m━━━━━━━━━━━━━━━━━━━━\u001b[0m\u001b[37m\u001b[0m \u001b[1m1s\u001b[0m 3ms/step - loss: 0.0246 - mae: 0.1043 - val_loss: 0.0224 - val_mae: 0.0971\n",
      "Epoch 39/100\n",
      "\u001b[1m270/270\u001b[0m \u001b[32m━━━━━━━━━━━━━━━━━━━━\u001b[0m\u001b[37m\u001b[0m \u001b[1m1s\u001b[0m 3ms/step - loss: 0.0247 - mae: 0.1060 - val_loss: 0.0224 - val_mae: 0.0973\n",
      "Epoch 40/100\n",
      "\u001b[1m270/270\u001b[0m \u001b[32m━━━━━━━━━━━━━━━━━━━━\u001b[0m\u001b[37m\u001b[0m \u001b[1m2s\u001b[0m 6ms/step - loss: 0.0249 - mae: 0.1058 - val_loss: 0.0224 - val_mae: 0.0954\n",
      "Epoch 41/100\n",
      "\u001b[1m270/270\u001b[0m \u001b[32m━━━━━━━━━━━━━━━━━━━━\u001b[0m\u001b[37m\u001b[0m \u001b[1m1s\u001b[0m 4ms/step - loss: 0.0237 - mae: 0.1018 - val_loss: 0.0229 - val_mae: 0.0981\n",
      "Epoch 42/100\n",
      "\u001b[1m270/270\u001b[0m \u001b[32m━━━━━━━━━━━━━━━━━━━━\u001b[0m\u001b[37m\u001b[0m \u001b[1m1s\u001b[0m 4ms/step - loss: 0.0249 - mae: 0.1064 - val_loss: 0.0223 - val_mae: 0.0961\n",
      "Epoch 43/100\n",
      "\u001b[1m270/270\u001b[0m \u001b[32m━━━━━━━━━━━━━━━━━━━━\u001b[0m\u001b[37m\u001b[0m \u001b[1m1s\u001b[0m 2ms/step - loss: 0.0240 - mae: 0.1041 - val_loss: 0.0222 - val_mae: 0.0952\n",
      "Epoch 44/100\n",
      "\u001b[1m270/270\u001b[0m \u001b[32m━━━━━━━━━━━━━━━━━━━━\u001b[0m\u001b[37m\u001b[0m \u001b[1m1s\u001b[0m 2ms/step - loss: 0.0240 - mae: 0.1037 - val_loss: 0.0220 - val_mae: 0.0938\n",
      "Epoch 45/100\n",
      "\u001b[1m270/270\u001b[0m \u001b[32m━━━━━━━━━━━━━━━━━━━━\u001b[0m\u001b[37m\u001b[0m \u001b[1m1s\u001b[0m 2ms/step - loss: 0.0247 - mae: 0.1064 - val_loss: 0.0225 - val_mae: 0.0972\n",
      "Epoch 46/100\n",
      "\u001b[1m270/270\u001b[0m \u001b[32m━━━━━━━━━━━━━━━━━━━━\u001b[0m\u001b[37m\u001b[0m \u001b[1m1s\u001b[0m 3ms/step - loss: 0.0239 - mae: 0.1044 - val_loss: 0.0216 - val_mae: 0.0960\n",
      "Epoch 47/100\n",
      "\u001b[1m270/270\u001b[0m \u001b[32m━━━━━━━━━━━━━━━━━━━━\u001b[0m\u001b[37m\u001b[0m \u001b[1m1s\u001b[0m 2ms/step - loss: 0.0239 - mae: 0.1038 - val_loss: 0.0224 - val_mae: 0.0981\n",
      "Epoch 48/100\n",
      "\u001b[1m270/270\u001b[0m \u001b[32m━━━━━━━━━━━━━━━━━━━━\u001b[0m\u001b[37m\u001b[0m \u001b[1m1s\u001b[0m 3ms/step - loss: 0.0244 - mae: 0.1053 - val_loss: 0.0220 - val_mae: 0.1002\n",
      "Epoch 49/100\n",
      "\u001b[1m270/270\u001b[0m \u001b[32m━━━━━━━━━━━━━━━━━━━━\u001b[0m\u001b[37m\u001b[0m \u001b[1m1s\u001b[0m 3ms/step - loss: 0.0238 - mae: 0.1045 - val_loss: 0.0214 - val_mae: 0.0920\n",
      "Epoch 50/100\n",
      "\u001b[1m270/270\u001b[0m \u001b[32m━━━━━━━━━━━━━━━━━━━━\u001b[0m\u001b[37m\u001b[0m \u001b[1m1s\u001b[0m 4ms/step - loss: 0.0240 - mae: 0.1032 - val_loss: 0.0218 - val_mae: 0.0920\n",
      "Epoch 51/100\n",
      "\u001b[1m270/270\u001b[0m \u001b[32m━━━━━━━━━━━━━━━━━━━━\u001b[0m\u001b[37m\u001b[0m \u001b[1m1s\u001b[0m 2ms/step - loss: 0.0237 - mae: 0.1022 - val_loss: 0.0220 - val_mae: 0.0958\n",
      "Epoch 52/100\n",
      "\u001b[1m270/270\u001b[0m \u001b[32m━━━━━━━━━━━━━━━━━━━━\u001b[0m\u001b[37m\u001b[0m \u001b[1m1s\u001b[0m 3ms/step - loss: 0.0244 - mae: 0.1044 - val_loss: 0.0218 - val_mae: 0.0967\n",
      "Epoch 53/100\n",
      "\u001b[1m270/270\u001b[0m \u001b[32m━━━━━━━━━━━━━━━━━━━━\u001b[0m\u001b[37m\u001b[0m \u001b[1m1s\u001b[0m 2ms/step - loss: 0.0233 - mae: 0.1035 - val_loss: 0.0222 - val_mae: 0.0984\n",
      "Epoch 54/100\n",
      "\u001b[1m270/270\u001b[0m \u001b[32m━━━━━━━━━━━━━━━━━━━━\u001b[0m\u001b[37m\u001b[0m \u001b[1m1s\u001b[0m 3ms/step - loss: 0.0237 - mae: 0.1032 - val_loss: 0.0213 - val_mae: 0.0925\n",
      "Epoch 55/100\n",
      "\u001b[1m270/270\u001b[0m \u001b[32m━━━━━━━━━━━━━━━━━━━━\u001b[0m\u001b[37m\u001b[0m \u001b[1m1s\u001b[0m 3ms/step - loss: 0.0241 - mae: 0.1044 - val_loss: 0.0215 - val_mae: 0.0915\n",
      "Epoch 56/100\n",
      "\u001b[1m270/270\u001b[0m \u001b[32m━━━━━━━━━━━━━━━━━━━━\u001b[0m\u001b[37m\u001b[0m \u001b[1m1s\u001b[0m 3ms/step - loss: 0.0228 - mae: 0.1015 - val_loss: 0.0219 - val_mae: 0.0953\n",
      "Epoch 57/100\n",
      "\u001b[1m270/270\u001b[0m \u001b[32m━━━━━━━━━━━━━━━━━━━━\u001b[0m\u001b[37m\u001b[0m \u001b[1m1s\u001b[0m 3ms/step - loss: 0.0241 - mae: 0.1037 - val_loss: 0.0217 - val_mae: 0.0946\n",
      "Epoch 58/100\n",
      "\u001b[1m270/270\u001b[0m \u001b[32m━━━━━━━━━━━━━━━━━━━━\u001b[0m\u001b[37m\u001b[0m \u001b[1m2s\u001b[0m 4ms/step - loss: 0.0240 - mae: 0.1028 - val_loss: 0.0220 - val_mae: 0.0923\n",
      "Epoch 59/100\n",
      "\u001b[1m270/270\u001b[0m \u001b[32m━━━━━━━━━━━━━━━━━━━━\u001b[0m\u001b[37m\u001b[0m \u001b[1m1s\u001b[0m 5ms/step - loss: 0.0236 - mae: 0.1021 - val_loss: 0.0222 - val_mae: 0.0984\n",
      "Epoch 60/100\n",
      "\u001b[1m270/270\u001b[0m \u001b[32m━━━━━━━━━━━━━━━━━━━━\u001b[0m\u001b[37m\u001b[0m \u001b[1m2s\u001b[0m 8ms/step - loss: 0.0231 - mae: 0.1023 - val_loss: 0.0218 - val_mae: 0.0960\n",
      "Epoch 61/100\n",
      "\u001b[1m270/270\u001b[0m \u001b[32m━━━━━━━━━━━━━━━━━━━━\u001b[0m\u001b[37m\u001b[0m \u001b[1m1s\u001b[0m 2ms/step - loss: 0.0235 - mae: 0.1026 - val_loss: 0.0215 - val_mae: 0.0936\n",
      "Epoch 62/100\n",
      "\u001b[1m270/270\u001b[0m \u001b[32m━━━━━━━━━━━━━━━━━━━━\u001b[0m\u001b[37m\u001b[0m \u001b[1m1s\u001b[0m 2ms/step - loss: 0.0235 - mae: 0.1032 - val_loss: 0.0213 - val_mae: 0.0926\n",
      "Epoch 63/100\n",
      "\u001b[1m270/270\u001b[0m \u001b[32m━━━━━━━━━━━━━━━━━━━━\u001b[0m\u001b[37m\u001b[0m \u001b[1m1s\u001b[0m 2ms/step - loss: 0.0239 - mae: 0.1040 - val_loss: 0.0215 - val_mae: 0.0970\n",
      "Epoch 64/100\n",
      "\u001b[1m270/270\u001b[0m \u001b[32m━━━━━━━━━━━━━━━━━━━━\u001b[0m\u001b[37m\u001b[0m \u001b[1m2s\u001b[0m 6ms/step - loss: 0.0234 - mae: 0.1019 - val_loss: 0.0212 - val_mae: 0.0944\n",
      "Epoch 65/100\n",
      "\u001b[1m270/270\u001b[0m \u001b[32m━━━━━━━━━━━━━━━━━━━━\u001b[0m\u001b[37m\u001b[0m \u001b[1m1s\u001b[0m 4ms/step - loss: 0.0236 - mae: 0.1035 - val_loss: 0.0212 - val_mae: 0.0912\n",
      "Epoch 66/100\n",
      "\u001b[1m270/270\u001b[0m \u001b[32m━━━━━━━━━━━━━━━━━━━━\u001b[0m\u001b[37m\u001b[0m \u001b[1m2s\u001b[0m 6ms/step - loss: 0.0235 - mae: 0.1032 - val_loss: 0.0217 - val_mae: 0.0936\n",
      "Epoch 67/100\n",
      "\u001b[1m270/270\u001b[0m \u001b[32m━━━━━━━━━━━━━━━━━━━━\u001b[0m\u001b[37m\u001b[0m \u001b[1m2s\u001b[0m 4ms/step - loss: 0.0236 - mae: 0.1033 - val_loss: 0.0214 - val_mae: 0.0945\n",
      "Epoch 68/100\n",
      "\u001b[1m270/270\u001b[0m \u001b[32m━━━━━━━━━━━━━━━━━━━━\u001b[0m\u001b[37m\u001b[0m \u001b[1m1s\u001b[0m 3ms/step - loss: 0.0231 - mae: 0.1015 - val_loss: 0.0213 - val_mae: 0.0914\n",
      "Epoch 69/100\n",
      "\u001b[1m270/270\u001b[0m \u001b[32m━━━━━━━━━━━━━━━━━━━━\u001b[0m\u001b[37m\u001b[0m \u001b[1m1s\u001b[0m 2ms/step - loss: 0.0231 - mae: 0.1012 - val_loss: 0.0211 - val_mae: 0.0914\n",
      "Epoch 70/100\n",
      "\u001b[1m270/270\u001b[0m \u001b[32m━━━━━━━━━━━━━━━━━━━━\u001b[0m\u001b[37m\u001b[0m \u001b[1m2s\u001b[0m 3ms/step - loss: 0.0230 - mae: 0.1014 - val_loss: 0.0216 - val_mae: 0.0919\n",
      "Epoch 71/100\n",
      "\u001b[1m270/270\u001b[0m \u001b[32m━━━━━━━━━━━━━━━━━━━━\u001b[0m\u001b[37m\u001b[0m \u001b[1m1s\u001b[0m 3ms/step - loss: 0.0231 - mae: 0.1017 - val_loss: 0.0211 - val_mae: 0.0935\n",
      "Epoch 72/100\n",
      "\u001b[1m270/270\u001b[0m \u001b[32m━━━━━━━━━━━━━━━━━━━━\u001b[0m\u001b[37m\u001b[0m \u001b[1m1s\u001b[0m 2ms/step - loss: 0.0236 - mae: 0.1023 - val_loss: 0.0212 - val_mae: 0.0923\n",
      "Epoch 73/100\n",
      "\u001b[1m270/270\u001b[0m \u001b[32m━━━━━━━━━━━━━━━━━━━━\u001b[0m\u001b[37m\u001b[0m \u001b[1m1s\u001b[0m 3ms/step - loss: 0.0229 - mae: 0.1016 - val_loss: 0.0226 - val_mae: 0.1001\n",
      "Epoch 74/100\n",
      "\u001b[1m270/270\u001b[0m \u001b[32m━━━━━━━━━━━━━━━━━━━━\u001b[0m\u001b[37m\u001b[0m \u001b[1m1s\u001b[0m 3ms/step - loss: 0.0239 - mae: 0.1039 - val_loss: 0.0212 - val_mae: 0.0913\n",
      "Epoch 75/100\n",
      "\u001b[1m270/270\u001b[0m \u001b[32m━━━━━━━━━━━━━━━━━━━━\u001b[0m\u001b[37m\u001b[0m \u001b[1m1s\u001b[0m 2ms/step - loss: 0.0230 - mae: 0.1013 - val_loss: 0.0218 - val_mae: 0.0936\n",
      "Epoch 76/100\n",
      "\u001b[1m270/270\u001b[0m \u001b[32m━━━━━━━━━━━━━━━━━━━━\u001b[0m\u001b[37m\u001b[0m \u001b[1m1s\u001b[0m 2ms/step - loss: 0.0229 - mae: 0.1004 - val_loss: 0.0209 - val_mae: 0.0914\n",
      "Epoch 77/100\n",
      "\u001b[1m270/270\u001b[0m \u001b[32m━━━━━━━━━━━━━━━━━━━━\u001b[0m\u001b[37m\u001b[0m \u001b[1m1s\u001b[0m 2ms/step - loss: 0.0235 - mae: 0.1028 - val_loss: 0.0211 - val_mae: 0.0896\n",
      "Epoch 78/100\n",
      "\u001b[1m270/270\u001b[0m \u001b[32m━━━━━━━━━━━━━━━━━━━━\u001b[0m\u001b[37m\u001b[0m \u001b[1m1s\u001b[0m 2ms/step - loss: 0.0234 - mae: 0.1016 - val_loss: 0.0219 - val_mae: 0.0931\n",
      "Epoch 79/100\n",
      "\u001b[1m270/270\u001b[0m \u001b[32m━━━━━━━━━━━━━━━━━━━━\u001b[0m\u001b[37m\u001b[0m \u001b[1m1s\u001b[0m 3ms/step - loss: 0.0242 - mae: 0.1038 - val_loss: 0.0213 - val_mae: 0.0954\n",
      "Epoch 80/100\n",
      "\u001b[1m270/270\u001b[0m \u001b[32m━━━━━━━━━━━━━━━━━━━━\u001b[0m\u001b[37m\u001b[0m \u001b[1m1s\u001b[0m 3ms/step - loss: 0.0231 - mae: 0.1021 - val_loss: 0.0221 - val_mae: 0.0980\n",
      "Epoch 81/100\n",
      "\u001b[1m270/270\u001b[0m \u001b[32m━━━━━━━━━━━━━━━━━━━━\u001b[0m\u001b[37m\u001b[0m \u001b[1m2s\u001b[0m 6ms/step - loss: 0.0238 - mae: 0.1038 - val_loss: 0.0219 - val_mae: 0.1004\n",
      "Epoch 82/100\n",
      "\u001b[1m270/270\u001b[0m \u001b[32m━━━━━━━━━━━━━━━━━━━━\u001b[0m\u001b[37m\u001b[0m \u001b[1m1s\u001b[0m 3ms/step - loss: 0.0236 - mae: 0.1024 - val_loss: 0.0214 - val_mae: 0.0967\n",
      "Epoch 83/100\n",
      "\u001b[1m270/270\u001b[0m \u001b[32m━━━━━━━━━━━━━━━━━━━━\u001b[0m\u001b[37m\u001b[0m \u001b[1m1s\u001b[0m 2ms/step - loss: 0.0237 - mae: 0.1030 - val_loss: 0.0215 - val_mae: 0.0958\n",
      "Epoch 84/100\n",
      "\u001b[1m270/270\u001b[0m \u001b[32m━━━━━━━━━━━━━━━━━━━━\u001b[0m\u001b[37m\u001b[0m \u001b[1m1s\u001b[0m 2ms/step - loss: 0.0227 - mae: 0.1013 - val_loss: 0.0211 - val_mae: 0.0935\n",
      "Epoch 85/100\n",
      "\u001b[1m270/270\u001b[0m \u001b[32m━━━━━━━━━━━━━━━━━━━━\u001b[0m\u001b[37m\u001b[0m \u001b[1m1s\u001b[0m 2ms/step - loss: 0.0233 - mae: 0.1027 - val_loss: 0.0208 - val_mae: 0.0960\n",
      "Epoch 86/100\n",
      "\u001b[1m270/270\u001b[0m \u001b[32m━━━━━━━━━━━━━━━━━━━━\u001b[0m\u001b[37m\u001b[0m \u001b[1m1s\u001b[0m 2ms/step - loss: 0.0229 - mae: 0.1013 - val_loss: 0.0209 - val_mae: 0.0931\n",
      "Epoch 87/100\n",
      "\u001b[1m270/270\u001b[0m \u001b[32m━━━━━━━━━━━━━━━━━━━━\u001b[0m\u001b[37m\u001b[0m \u001b[1m1s\u001b[0m 3ms/step - loss: 0.0225 - mae: 0.1006 - val_loss: 0.0207 - val_mae: 0.0924\n",
      "Epoch 88/100\n",
      "\u001b[1m270/270\u001b[0m \u001b[32m━━━━━━━━━━━━━━━━━━━━\u001b[0m\u001b[37m\u001b[0m \u001b[1m1s\u001b[0m 3ms/step - loss: 0.0231 - mae: 0.1022 - val_loss: 0.0208 - val_mae: 0.0933\n",
      "Epoch 89/100\n",
      "\u001b[1m270/270\u001b[0m \u001b[32m━━━━━━━━━━━━━━━━━━━━\u001b[0m\u001b[37m\u001b[0m \u001b[1m1s\u001b[0m 2ms/step - loss: 0.0225 - mae: 0.1002 - val_loss: 0.0209 - val_mae: 0.0933\n",
      "Epoch 90/100\n",
      "\u001b[1m270/270\u001b[0m \u001b[32m━━━━━━━━━━━━━━━━━━━━\u001b[0m\u001b[37m\u001b[0m \u001b[1m1s\u001b[0m 2ms/step - loss: 0.0231 - mae: 0.1020 - val_loss: 0.0211 - val_mae: 0.0924\n",
      "Epoch 91/100\n",
      "\u001b[1m270/270\u001b[0m \u001b[32m━━━━━━━━━━━━━━━━━━━━\u001b[0m\u001b[37m\u001b[0m \u001b[1m1s\u001b[0m 2ms/step - loss: 0.0242 - mae: 0.1050 - val_loss: 0.0211 - val_mae: 0.0947\n",
      "Epoch 92/100\n",
      "\u001b[1m270/270\u001b[0m \u001b[32m━━━━━━━━━━━━━━━━━━━━\u001b[0m\u001b[37m\u001b[0m \u001b[1m1s\u001b[0m 2ms/step - loss: 0.0229 - mae: 0.1011 - val_loss: 0.0209 - val_mae: 0.0903\n",
      "Epoch 93/100\n",
      "\u001b[1m270/270\u001b[0m \u001b[32m━━━━━━━━━━━━━━━━━━━━\u001b[0m\u001b[37m\u001b[0m \u001b[1m1s\u001b[0m 2ms/step - loss: 0.0231 - mae: 0.1005 - val_loss: 0.0221 - val_mae: 0.1011\n",
      "Epoch 94/100\n",
      "\u001b[1m270/270\u001b[0m \u001b[32m━━━━━━━━━━━━━━━━━━━━\u001b[0m\u001b[37m\u001b[0m \u001b[1m1s\u001b[0m 2ms/step - loss: 0.0226 - mae: 0.1012 - val_loss: 0.0212 - val_mae: 0.0906\n",
      "Epoch 95/100\n",
      "\u001b[1m270/270\u001b[0m \u001b[32m━━━━━━━━━━━━━━━━━━━━\u001b[0m\u001b[37m\u001b[0m \u001b[1m1s\u001b[0m 2ms/step - loss: 0.0229 - mae: 0.1014 - val_loss: 0.0210 - val_mae: 0.0926\n",
      "Epoch 96/100\n",
      "\u001b[1m270/270\u001b[0m \u001b[32m━━━━━━━━━━━━━━━━━━━━\u001b[0m\u001b[37m\u001b[0m \u001b[1m2s\u001b[0m 3ms/step - loss: 0.0222 - mae: 0.0990 - val_loss: 0.0220 - val_mae: 0.1007\n",
      "Epoch 97/100\n",
      "\u001b[1m270/270\u001b[0m \u001b[32m━━━━━━━━━━━━━━━━━━━━\u001b[0m\u001b[37m\u001b[0m \u001b[1m2s\u001b[0m 6ms/step - loss: 0.0230 - mae: 0.1018 - val_loss: 0.0214 - val_mae: 0.0954\n",
      "Epoch 98/100\n",
      "\u001b[1m270/270\u001b[0m \u001b[32m━━━━━━━━━━━━━━━━━━━━\u001b[0m\u001b[37m\u001b[0m \u001b[1m2s\u001b[0m 2ms/step - loss: 0.0227 - mae: 0.1012 - val_loss: 0.0208 - val_mae: 0.0939\n",
      "Epoch 99/100\n",
      "\u001b[1m270/270\u001b[0m \u001b[32m━━━━━━━━━━━━━━━━━━━━\u001b[0m\u001b[37m\u001b[0m \u001b[1m1s\u001b[0m 2ms/step - loss: 0.0231 - mae: 0.1023 - val_loss: 0.0211 - val_mae: 0.0927\n",
      "Epoch 100/100\n",
      "\u001b[1m270/270\u001b[0m \u001b[32m━━━━━━━━━━━━━━━━━━━━\u001b[0m\u001b[37m\u001b[0m \u001b[1m2s\u001b[0m 3ms/step - loss: 0.0232 - mae: 0.1021 - val_loss: 0.0209 - val_mae: 0.0913\n",
      "\u001b[1m68/68\u001b[0m \u001b[32m━━━━━━━━━━━━━━━━━━━━\u001b[0m\u001b[37m\u001b[0m \u001b[1m0s\u001b[0m 2ms/step\n"
     ]
    },
    {
     "data": {
      "image/png": "[encoded data removed]",
      "text/plain": [
       "<Figure size 640x480 with 1 Axes>"
      ]
     },
     "metadata": {},
     "output_type": "display_data"
    },
    {
     "data": {
      "image/png": "[encoded data removed]",
      "text/plain": [
       "<Figure size 640x480 with 1 Axes>"
      ]
     },
     "metadata": {},
     "output_type": "display_data"
    },
    {
     "name": "stdout",
     "output_type": "stream",
     "text": [
      "\u001b[1m68/68\u001b[0m \u001b[32m━━━━━━━━━━━━━━━━━━━━\u001b[0m\u001b[37m\u001b[0m \u001b[1m0s\u001b[0m 4ms/step - loss: 0.0212 - mae: 0.0920\n",
      "MSE:  0.020860906690359116\n",
      "MAE: 0.09127617627382278\n"
     ]
    },
    {
     "data": {
      "application/vnd.microsoft.datawrangler.viewer.v0+json": {
       "columns": [
        {
         "name": "SongID",
         "rawType": "object",
         "type": "string"
        },
        {
         "name": "Original Test",
         "rawType": "float64",
         "type": "float"
        },
        {
         "name": "Prediction Test",
         "rawType": "float32",
         "type": "float"
        },
        {
         "name": "Original over Thrashold",
         "rawType": "bool",
         "type": "boolean"
        },
        {
         "name": "Predicted over Thrashold",
         "rawType": "bool",
         "type": "boolean"
        }
       ],
       "conversionMethod": "pd.DataFrame",
       "ref": "5be9abbf-f992-450f-b560-db581f1ea188",
       "rows": [
        [
         "The Court RoomClarence Carter",
         "0.69",
         "0.6894317",
         "False",
         "False"
        ],
        [
         "We Fell In Love While DancingBill Brandon",
         "0.8549999999999999",
         "0.6151069",
         "True",
         "False"
        ],
        [
         "Forever My LadyJodeci",
         "0.771",
         "0.6464611",
         "True",
         "False"
        ],
        [
         "Isn't It Lonely TogetherRobert Knight",
         "0.69",
         "0.6894317",
         "False",
         "False"
        ],
        [
         "Roll UpWiz Khalifa",
         "0.6019999999999999",
         "0.45931488",
         "False",
         "False"
        ],
        [
         "Universal Heart-BeatJuliana Hatfield",
         "0.58",
         "0.56930166",
         "False",
         "False"
        ],
        [
         "Funky President (People It's Bad)/ColdbloodedJames Brown",
         "0.65",
         "0.6090683",
         "False",
         "False"
        ],
        [
         "Hello Mudduh, Hello Fadduh! (A Letter From Camp) (New 1964 Version)Allan Sherman",
         "0.63",
         "0.63914603",
         "False",
         "False"
        ],
        [
         "Yes (From The Motion Picture \"Dirty Dancing\")Merry Clayton",
         "0.69",
         "0.6894317",
         "False",
         "False"
        ],
        [
         "Crystal ChandelierVic Dana",
         "0.637",
         "0.7041254",
         "False",
         "True"
        ],
        [
         "Walking On AirKaty Perry",
         "0.821",
         "0.67767847",
         "True",
         "False"
        ],
        [
         "Take Me To HeartQuarterflash",
         "0.639",
         "0.77885395",
         "False",
         "True"
        ],
        [
         "A Little RespectErasure",
         "0.5949999999999999",
         "0.6406161",
         "False",
         "False"
        ],
        [
         "Boys Do Fall In LoveRobin Gibb",
         "0.881",
         "0.8559147",
         "True",
         "True"
        ],
        [
         "The Yard Went On ForeverRichard Harris",
         "0.63",
         "0.63914603",
         "False",
         "False"
        ],
        [
         "Catch Me (I'm Falling) (From The Film \"Hiding Out\")Pretty Poison",
         "0.63",
         "0.63914603",
         "False",
         "False"
        ],
        [
         "(Everything I Do) I Do It For YouBryan Adams",
         "0.2979999999999999",
         "0.31633908",
         "False",
         "False"
        ],
        [
         "Shut Up And DanceWALK THE MOON",
         "0.6189999999999999",
         "0.536693",
         "False",
         "False"
        ],
        [
         "Don't Read The LetterPatti Page",
         "0.58",
         "0.56930166",
         "False",
         "False"
        ],
        [
         "We Close Our EyesGo West",
         "0.912",
         "0.7794686",
         "True",
         "True"
        ],
        [
         "SupernatureCerrone",
         "0.967",
         "0.8027899",
         "True",
         "True"
        ],
        [
         "SupermanCeli Bee & The Buzzy Bunch",
         "0.8349999999999999",
         "0.7317964",
         "True",
         "True"
        ],
        [
         "BodyLoud Luxury Featuring Brando",
         "0.5819999999999999",
         "0.71327597",
         "False",
         "True"
        ],
        [
         "Jam On ItNewcleus",
         "0.3459999999999999",
         "0.69471335",
         "False",
         "False"
        ],
        [
         "Red Roses For A Blue LadyBert Kaempfert And His Orchestra",
         "0.274",
         "0.6587403",
         "False",
         "False"
        ],
        [
         "ShakeShadows Of Knight",
         "0.62",
         "0.6126931",
         "False",
         "False"
        ],
        [
         "I'll Fall In Love AgainSammy Hagar",
         "0.775",
         "0.7236875",
         "True",
         "True"
        ],
        [
         "I Still Get JealousJoni James",
         "0.63",
         "0.63914603",
         "False",
         "False"
        ],
        [
         "Beauty Is Only Skin DeepThe Temptations",
         "0.759",
         "0.708875",
         "True",
         "True"
        ],
        [
         "SugarMaroon 5",
         "0.884",
         "0.72599363",
         "True",
         "True"
        ],
        [
         "Cough SyrupYoung The Giant",
         "0.225",
         "0.50555474",
         "False",
         "False"
        ],
        [
         "Down The HallThe 4 Seasons",
         "0.82",
         "0.7050973",
         "True",
         "True"
        ],
        [
         "Tell HimThe Drew-Vels",
         "0.681",
         "0.60532475",
         "False",
         "False"
        ],
        [
         "L. David SloaneMichele Lee",
         "0.892",
         "0.84158903",
         "True",
         "True"
        ],
        [
         "I'll Be Seeing YouTommy Sands",
         "0.0923",
         "0.36257917",
         "False",
         "False"
        ],
        [
         "What's The Matter Here?10,000 Maniacs",
         "0.44",
         "0.5040255",
         "False",
         "False"
        ],
        [
         "This Is My StoryMickey & Sylvia",
         "0.58",
         "0.56930166",
         "False",
         "False"
        ],
        [
         "Killer QueenQueen",
         "0.6039999999999999",
         "0.56982017",
         "False",
         "False"
        ],
        [
         "GirlfriendPebbles",
         "0.908",
         "0.8487126",
         "True",
         "True"
        ],
        [
         "(There'll Come A Day When) Ev'ry Little Bit HurtsBobby Vee",
         "0.58",
         "0.56930166",
         "False",
         "False"
        ],
        [
         "Look At Granny Run, RunHoward Tate",
         "0.927",
         "0.8275765",
         "True",
         "True"
        ],
        [
         "My PresidentYoung Jeezy Featuring Nas",
         "0.63",
         "0.63914603",
         "False",
         "False"
        ],
        [
         "Anniversary Of LoveThe Caslons",
         "0.922",
         "0.8095776",
         "True",
         "True"
        ],
        [
         "Knockin' Da BootsH-Town",
         "0.5819999999999999",
         "0.5564067",
         "False",
         "False"
        ],
        [
         "Kiss You All OverNo Mercy",
         "0.768",
         "0.73966265",
         "True",
         "True"
        ],
        [
         "The WaitingTom Petty And The Heartbreakers",
         "0.7229999999999999",
         "0.63924026",
         "True",
         "False"
        ],
        [
         "What Now My Love\"Groove\" Holmes",
         "0.58",
         "0.57952964",
         "False",
         "False"
        ],
        [
         "StopSpice Girls",
         "0.965",
         "0.7722409",
         "True",
         "True"
        ],
        [
         "Sunrise, SunsetRoger Williams",
         "0.63",
         "0.63914603",
         "False",
         "False"
        ],
        [
         "Let's Call It A Day GirlBobby Vee",
         "0.58",
         "0.56930166",
         "False",
         "False"
        ]
       ],
       "shape": {
        "columns": 4,
        "rows": 2154
       }
      },
      "text/html": [
       "<div>\n",
       "<style scoped>\n",
       "    .dataframe tbody tr th:only-of-type {\n",
       "        vertical-align: middle;\n",
       "    }\n",
       "\n",
       "    .dataframe tbody tr th {\n",
       "        vertical-align: top;\n",
       "    }\n",
       "\n",
       "    .dataframe thead th {\n",
       "        text-align: right;\n",
       "    }\n",
       "</style>\n",
       "<table border=\"1\" class=\"dataframe\">\n",
       "  <thead>\n",
       "    <tr style=\"text-align: right;\">\n",
       "      <th></th>\n",
       "      <th>Original Test</th>\n",
       "      <th>Prediction Test</th>\n",
       "      <th>Original over Thrashold</th>\n",
       "      <th>Predicted over Thrashold</th>\n",
       "    </tr>\n",
       "    <tr>\n",
       "      <th>SongID</th>\n",
       "      <th></th>\n",
       "      <th></th>\n",
       "      <th></th>\n",
       "      <th></th>\n",
       "    </tr>\n",
       "  </thead>\n",
       "  <tbody>\n",
       "    <tr>\n",
       "      <th>The Court RoomClarence Carter</th>\n",
       "      <td>0.690</td>\n",
       "      <td>0.689432</td>\n",
       "      <td>False</td>\n",
       "      <td>False</td>\n",
       "    </tr>\n",
       "    <tr>\n",
       "      <th>We Fell In Love While DancingBill Brandon</th>\n",
       "      <td>0.855</td>\n",
       "      <td>0.615107</td>\n",
       "      <td>True</td>\n",
       "      <td>False</td>\n",
       "    </tr>\n",
       "    <tr>\n",
       "      <th>Forever My LadyJodeci</th>\n",
       "      <td>0.771</td>\n",
       "      <td>0.646461</td>\n",
       "      <td>True</td>\n",
       "      <td>False</td>\n",
       "    </tr>\n",
       "    <tr>\n",
       "      <th>Isn't It Lonely TogetherRobert Knight</th>\n",
       "      <td>0.690</td>\n",
       "      <td>0.689432</td>\n",
       "      <td>False</td>\n",
       "      <td>False</td>\n",
       "    </tr>\n",
       "    <tr>\n",
       "      <th>Roll UpWiz Khalifa</th>\n",
       "      <td>0.602</td>\n",
       "      <td>0.459315</td>\n",
       "      <td>False</td>\n",
       "      <td>False</td>\n",
       "    </tr>\n",
       "    <tr>\n",
       "      <th>...</th>\n",
       "      <td>...</td>\n",
       "      <td>...</td>\n",
       "      <td>...</td>\n",
       "      <td>...</td>\n",
       "    </tr>\n",
       "    <tr>\n",
       "      <th>Shut UpAriana Grande</th>\n",
       "      <td>0.599</td>\n",
       "      <td>0.373598</td>\n",
       "      <td>False</td>\n",
       "      <td>False</td>\n",
       "    </tr>\n",
       "    <tr>\n",
       "      <th>Sugar Don't BiteSam Harris</th>\n",
       "      <td>0.975</td>\n",
       "      <td>0.847703</td>\n",
       "      <td>True</td>\n",
       "      <td>True</td>\n",
       "    </tr>\n",
       "    <tr>\n",
       "      <th>Oh, How I Miss You TonightJeanne Black</th>\n",
       "      <td>0.110</td>\n",
       "      <td>0.330790</td>\n",
       "      <td>False</td>\n",
       "      <td>False</td>\n",
       "    </tr>\n",
       "    <tr>\n",
       "      <th>Summertime, SummertimeNocera</th>\n",
       "      <td>0.876</td>\n",
       "      <td>0.721244</td>\n",
       "      <td>True</td>\n",
       "      <td>True</td>\n",
       "    </tr>\n",
       "    <tr>\n",
       "      <th>Melody For An Unknown GirlThe Unknowns</th>\n",
       "      <td>0.630</td>\n",
       "      <td>0.639146</td>\n",
       "      <td>False</td>\n",
       "      <td>False</td>\n",
       "    </tr>\n",
       "  </tbody>\n",
       "</table>\n",
       "<p>2154 rows × 4 columns</p>\n",
       "</div>"
      ],
      "text/plain": [
       "                                           Original Test  Prediction Test  \\\n",
       "SongID                                                                      \n",
       "The Court RoomClarence Carter                      0.690         0.689432   \n",
       "We Fell In Love While DancingBill Brandon          0.855         0.615107   \n",
       "Forever My LadyJodeci                              0.771         0.646461   \n",
       "Isn't It Lonely TogetherRobert Knight              0.690         0.689432   \n",
       "Roll UpWiz Khalifa                                 0.602         0.459315   \n",
       "...                                                  ...              ...   \n",
       "Shut UpAriana Grande                               0.599         0.373598   \n",
       "Sugar Don't BiteSam Harris                         0.975         0.847703   \n",
       "Oh, How I Miss You TonightJeanne Black             0.110         0.330790   \n",
       "Summertime, SummertimeNocera                       0.876         0.721244   \n",
       "Melody For An Unknown GirlThe Unknowns             0.630         0.639146   \n",
       "\n",
       "                                           Original over Thrashold  \\\n",
       "SongID                                                               \n",
       "The Court RoomClarence Carter                                False   \n",
       "We Fell In Love While DancingBill Brandon                     True   \n",
       "Forever My LadyJodeci                                         True   \n",
       "Isn't It Lonely TogetherRobert Knight                        False   \n",
       "Roll UpWiz Khalifa                                           False   \n",
       "...                                                            ...   \n",
       "Shut UpAriana Grande                                         False   \n",
       "Sugar Don't BiteSam Harris                                    True   \n",
       "Oh, How I Miss You TonightJeanne Black                       False   \n",
       "Summertime, SummertimeNocera                                  True   \n",
       "Melody For An Unknown GirlThe Unknowns                       False   \n",
       "\n",
       "                                           Predicted over Thrashold  \n",
       "SongID                                                               \n",
       "The Court RoomClarence Carter                                 False  \n",
       "We Fell In Love While DancingBill Brandon                     False  \n",
       "Forever My LadyJodeci                                         False  \n",
       "Isn't It Lonely TogetherRobert Knight                         False  \n",
       "Roll UpWiz Khalifa                                            False  \n",
       "...                                                             ...  \n",
       "Shut UpAriana Grande                                          False  \n",
       "Sugar Don't BiteSam Harris                                     True  \n",
       "Oh, How I Miss You TonightJeanne Black                        False  \n",
       "Summertime, SummertimeNocera                                   True  \n",
       "Melody For An Unknown GirlThe Unknowns                        False  \n",
       "\n",
       "[2154 rows x 4 columns]"
      ]
     },
     "metadata": {},
     "output_type": "display_data"
    },
    {
     "data": {
      "image/png": "[encoded data removed]",
      "text/plain": [
       "<Figure size 640x480 with 2 Axes>"
      ]
     },
     "metadata": {},
     "output_type": "display_data"
    },
    {
     "data": {
      "application/vnd.microsoft.datawrangler.viewer.v0+json": {
       "columns": [
        {
         "name": "index",
         "rawType": "int64",
         "type": "integer"
        },
        {
         "name": "Metric",
         "rawType": "object",
         "type": "string"
        },
        {
         "name": "Value",
         "rawType": "float64",
         "type": "float"
        }
       ],
       "conversionMethod": "pd.DataFrame",
       "ref": "6db13803-df58-4785-b582-a4a1a5ade9d0",
       "rows": [
        [
         "0",
         "Accuracy",
         "0.83"
        ],
        [
         "1",
         "Precision",
         "0.75"
        ],
        [
         "2",
         "Recall",
         "0.73"
        ],
        [
         "3",
         "F1-score",
         "0.74"
        ]
       ],
       "shape": {
        "columns": 2,
        "rows": 4
       }
      },
      "text/html": [
       "<div>\n",
       "<style scoped>\n",
       "    .dataframe tbody tr th:only-of-type {\n",
       "        vertical-align: middle;\n",
       "    }\n",
       "\n",
       "    .dataframe tbody tr th {\n",
       "        vertical-align: top;\n",
       "    }\n",
       "\n",
       "    .dataframe thead th {\n",
       "        text-align: right;\n",
       "    }\n",
       "</style>\n",
       "<table border=\"1\" class=\"dataframe\">\n",
       "  <thead>\n",
       "    <tr style=\"text-align: right;\">\n",
       "      <th></th>\n",
       "      <th>Metric</th>\n",
       "      <th>Value</th>\n",
       "    </tr>\n",
       "  </thead>\n",
       "  <tbody>\n",
       "    <tr>\n",
       "      <th>0</th>\n",
       "      <td>Accuracy</td>\n",
       "      <td>0.83</td>\n",
       "    </tr>\n",
       "    <tr>\n",
       "      <th>1</th>\n",
       "      <td>Precision</td>\n",
       "      <td>0.75</td>\n",
       "    </tr>\n",
       "    <tr>\n",
       "      <th>2</th>\n",
       "      <td>Recall</td>\n",
       "      <td>0.73</td>\n",
       "    </tr>\n",
       "    <tr>\n",
       "      <th>3</th>\n",
       "      <td>F1-score</td>\n",
       "      <td>0.74</td>\n",
       "    </tr>\n",
       "  </tbody>\n",
       "</table>\n",
       "</div>"
      ],
      "text/plain": [
       "      Metric  Value\n",
       "0   Accuracy   0.83\n",
       "1  Precision   0.75\n",
       "2     Recall   0.73\n",
       "3   F1-score   0.74"
      ]
     },
     "metadata": {},
     "output_type": "display_data"
    },
    {
     "name": "stdout",
     "output_type": "stream",
     "text": [
      "---------------------------------------------------------\n",
      "USER 3\n"
     ]
    },
    {
     "name": "stderr",
     "output_type": "stream",
     "text": [
      "C:\\Users\\elped\\AppData\\Local\\Temp\\ipykernel_16540\\2934058548.py:7: SettingWithCopyWarning: \n",
      "A value is trying to be set on a copy of a slice from a DataFrame.\n",
      "Try using .loc[row_indexer,col_indexer] = value instead\n",
      "\n",
      "See the caveats in the documentation: https://pandas.pydata.org/pandas-docs/stable/user_guide/indexing.html#returning-a-view-versus-a-copy\n",
      "  x[numerical_features] = StandardScaler().fit_transform(x[numerical_features])\n",
      "c:\\Users\\elped\\AppData\\Local\\Programs\\Python\\Python312\\Lib\\site-packages\\keras\\src\\layers\\core\\dense.py:87: UserWarning: Do not pass an `input_shape`/`input_dim` argument to a layer. When using Sequential models, prefer using an `Input(shape)` object as the first layer in the model instead.\n",
      "  super().__init__(activity_regularizer=activity_regularizer, **kwargs)\n"
     ]
    },
    {
     "name": "stdout",
     "output_type": "stream",
     "text": [
      "Epoch 1/100\n",
      "\u001b[1m90/90\u001b[0m \u001b[32m━━━━━━━━━━━━━━━━━━━━\u001b[0m\u001b[37m\u001b[0m \u001b[1m3s\u001b[0m 6ms/step - loss: 0.4612 - mae: 0.1867 - val_loss: 0.2660 - val_mae: 0.1744\n",
      "Epoch 2/100\n",
      "\u001b[1m90/90\u001b[0m \u001b[32m━━━━━━━━━━━━━━━━━━━━\u001b[0m\u001b[37m\u001b[0m \u001b[1m0s\u001b[0m 4ms/step - loss: 0.2275 - mae: 0.1738 - val_loss: 0.1349 - val_mae: 0.1631\n",
      "Epoch 3/100\n",
      "\u001b[1m90/90\u001b[0m \u001b[32m━━━━━━━━━━━━━━━━━━━━\u001b[0m\u001b[37m\u001b[0m \u001b[1m1s\u001b[0m 3ms/step - loss: 0.1189 - mae: 0.1648 - val_loss: 0.0768 - val_mae: 0.1543\n",
      "Epoch 4/100\n",
      "\u001b[1m90/90\u001b[0m \u001b[32m━━━━━━━━━━━━━━━━━━━━\u001b[0m\u001b[37m\u001b[0m \u001b[1m0s\u001b[0m 3ms/step - loss: 0.0713 - mae: 0.1574 - val_loss: 0.0532 - val_mae: 0.1517\n",
      "Epoch 5/100\n",
      "\u001b[1m90/90\u001b[0m \u001b[32m━━━━━━━━━━━━━━━━━━━━\u001b[0m\u001b[37m\u001b[0m \u001b[1m0s\u001b[0m 4ms/step - loss: 0.0515 - mae: 0.1544 - val_loss: 0.0437 - val_mae: 0.1482\n",
      "Epoch 6/100\n",
      "\u001b[1m90/90\u001b[0m \u001b[32m━━━━━━━━━━━━━━━━━━━━\u001b[0m\u001b[37m\u001b[0m \u001b[1m0s\u001b[0m 3ms/step - loss: 0.0448 - mae: 0.1515 - val_loss: 0.0406 - val_mae: 0.1489\n",
      "Epoch 7/100\n",
      "\u001b[1m90/90\u001b[0m \u001b[32m━━━━━━━━━━━━━━━━━━━━\u001b[0m\u001b[37m\u001b[0m \u001b[1m0s\u001b[0m 3ms/step - loss: 0.0421 - mae: 0.1503 - val_loss: 0.0387 - val_mae: 0.1470\n",
      "Epoch 8/100\n",
      "\u001b[1m90/90\u001b[0m \u001b[32m━━━━━━━━━━━━━━━━━━━━\u001b[0m\u001b[37m\u001b[0m \u001b[1m0s\u001b[0m 3ms/step - loss: 0.0404 - mae: 0.1481 - val_loss: 0.0379 - val_mae: 0.1428\n",
      "Epoch 9/100\n",
      "\u001b[1m90/90\u001b[0m \u001b[32m━━━━━━━━━━━━━━━━━━━━\u001b[0m\u001b[37m\u001b[0m \u001b[1m0s\u001b[0m 3ms/step - loss: 0.0403 - mae: 0.1489 - val_loss: 0.0374 - val_mae: 0.1426\n",
      "Epoch 10/100\n",
      "\u001b[1m90/90\u001b[0m \u001b[32m━━━━━━━━━━━━━━━━━━━━\u001b[0m\u001b[37m\u001b[0m \u001b[1m0s\u001b[0m 2ms/step - loss: 0.0401 - mae: 0.1485 - val_loss: 0.0368 - val_mae: 0.1424\n",
      "Epoch 11/100\n",
      "\u001b[1m90/90\u001b[0m \u001b[32m━━━━━━━━━━━━━━━━━━━━\u001b[0m\u001b[37m\u001b[0m \u001b[1m0s\u001b[0m 2ms/step - loss: 0.0390 - mae: 0.1472 - val_loss: 0.0366 - val_mae: 0.1430\n",
      "Epoch 12/100\n",
      "\u001b[1m90/90\u001b[0m \u001b[32m━━━━━━━━━━━━━━━━━━━━\u001b[0m\u001b[37m\u001b[0m \u001b[1m0s\u001b[0m 2ms/step - loss: 0.0386 - mae: 0.1454 - val_loss: 0.0366 - val_mae: 0.1419\n",
      "Epoch 13/100\n",
      "\u001b[1m90/90\u001b[0m \u001b[32m━━━━━━━━━━━━━━━━━━━━\u001b[0m\u001b[37m\u001b[0m \u001b[1m0s\u001b[0m 2ms/step - loss: 0.0381 - mae: 0.1453 - val_loss: 0.0360 - val_mae: 0.1398\n",
      "Epoch 14/100\n",
      "\u001b[1m90/90\u001b[0m \u001b[32m━━━━━━━━━━━━━━━━━━━━\u001b[0m\u001b[37m\u001b[0m \u001b[1m0s\u001b[0m 3ms/step - loss: 0.0370 - mae: 0.1425 - val_loss: 0.0364 - val_mae: 0.1428\n",
      "Epoch 15/100\n",
      "\u001b[1m90/90\u001b[0m \u001b[32m━━━━━━━━━━━━━━━━━━━━\u001b[0m\u001b[37m\u001b[0m \u001b[1m0s\u001b[0m 4ms/step - loss: 0.0379 - mae: 0.1441 - val_loss: 0.0357 - val_mae: 0.1407\n",
      "Epoch 16/100\n",
      "\u001b[1m90/90\u001b[0m \u001b[32m━━━━━━━━━━━━━━━━━━━━\u001b[0m\u001b[37m\u001b[0m \u001b[1m1s\u001b[0m 12ms/step - loss: 0.0388 - mae: 0.1479 - val_loss: 0.0362 - val_mae: 0.1433\n",
      "Epoch 17/100\n",
      "\u001b[1m90/90\u001b[0m \u001b[32m━━━━━━━━━━━━━━━━━━━━\u001b[0m\u001b[37m\u001b[0m \u001b[1m1s\u001b[0m 3ms/step - loss: 0.0395 - mae: 0.1500 - val_loss: 0.0357 - val_mae: 0.1423\n",
      "Epoch 18/100\n",
      "\u001b[1m90/90\u001b[0m \u001b[32m━━━━━━━━━━━━━━━━━━━━\u001b[0m\u001b[37m\u001b[0m \u001b[1m1s\u001b[0m 4ms/step - loss: 0.0378 - mae: 0.1444 - val_loss: 0.0355 - val_mae: 0.1429\n",
      "Epoch 19/100\n",
      "\u001b[1m90/90\u001b[0m \u001b[32m━━━━━━━━━━━━━━━━━━━━\u001b[0m\u001b[37m\u001b[0m \u001b[1m0s\u001b[0m 4ms/step - loss: 0.0377 - mae: 0.1448 - val_loss: 0.0347 - val_mae: 0.1371\n",
      "Epoch 20/100\n",
      "\u001b[1m90/90\u001b[0m \u001b[32m━━━━━━━━━━━━━━━━━━━━\u001b[0m\u001b[37m\u001b[0m \u001b[1m0s\u001b[0m 3ms/step - loss: 0.0370 - mae: 0.1437 - val_loss: 0.0348 - val_mae: 0.1405\n",
      "Epoch 21/100\n",
      "\u001b[1m90/90\u001b[0m \u001b[32m━━━━━━━━━━━━━━━━━━━━\u001b[0m\u001b[37m\u001b[0m \u001b[1m0s\u001b[0m 3ms/step - loss: 0.0375 - mae: 0.1450 - val_loss: 0.0346 - val_mae: 0.1386\n",
      "Epoch 22/100\n",
      "\u001b[1m90/90\u001b[0m \u001b[32m━━━━━━━━━━━━━━━━━━━━\u001b[0m\u001b[37m\u001b[0m \u001b[1m0s\u001b[0m 3ms/step - loss: 0.0374 - mae: 0.1457 - val_loss: 0.0347 - val_mae: 0.1395\n",
      "Epoch 23/100\n",
      "\u001b[1m90/90\u001b[0m \u001b[32m━━━━━━━━━━━━━━━━━━━━\u001b[0m\u001b[37m\u001b[0m \u001b[1m0s\u001b[0m 3ms/step - loss: 0.0366 - mae: 0.1432 - val_loss: 0.0343 - val_mae: 0.1398\n",
      "Epoch 24/100\n",
      "\u001b[1m90/90\u001b[0m \u001b[32m━━━━━━━━━━━━━━━━━━━━\u001b[0m\u001b[37m\u001b[0m \u001b[1m0s\u001b[0m 3ms/step - loss: 0.0355 - mae: 0.1417 - val_loss: 0.0342 - val_mae: 0.1382\n",
      "Epoch 25/100\n",
      "\u001b[1m90/90\u001b[0m \u001b[32m━━━━━━━━━━━━━━━━━━━━\u001b[0m\u001b[37m\u001b[0m \u001b[1m0s\u001b[0m 3ms/step - loss: 0.0355 - mae: 0.1391 - val_loss: 0.0343 - val_mae: 0.1385\n",
      "Epoch 26/100\n",
      "\u001b[1m90/90\u001b[0m \u001b[32m━━━━━━━━━━━━━━━━━━━━\u001b[0m\u001b[37m\u001b[0m \u001b[1m0s\u001b[0m 4ms/step - loss: 0.0371 - mae: 0.1438 - val_loss: 0.0342 - val_mae: 0.1390\n",
      "Epoch 27/100\n",
      "\u001b[1m90/90\u001b[0m \u001b[32m━━━━━━━━━━━━━━━━━━━━\u001b[0m\u001b[37m\u001b[0m \u001b[1m0s\u001b[0m 5ms/step - loss: 0.0345 - mae: 0.1374 - val_loss: 0.0340 - val_mae: 0.1401\n",
      "Epoch 28/100\n",
      "\u001b[1m90/90\u001b[0m \u001b[32m━━━━━━━━━━━━━━━━━━━━\u001b[0m\u001b[37m\u001b[0m \u001b[1m1s\u001b[0m 6ms/step - loss: 0.0357 - mae: 0.1423 - val_loss: 0.0340 - val_mae: 0.1395\n",
      "Epoch 29/100\n",
      "\u001b[1m90/90\u001b[0m \u001b[32m━━━━━━━━━━━━━━━━━━━━\u001b[0m\u001b[37m\u001b[0m \u001b[1m0s\u001b[0m 4ms/step - loss: 0.0357 - mae: 0.1415 - val_loss: 0.0340 - val_mae: 0.1390\n",
      "Epoch 30/100\n",
      "\u001b[1m90/90\u001b[0m \u001b[32m━━━━━━━━━━━━━━━━━━━━\u001b[0m\u001b[37m\u001b[0m \u001b[1m0s\u001b[0m 3ms/step - loss: 0.0356 - mae: 0.1418 - val_loss: 0.0340 - val_mae: 0.1390\n",
      "Epoch 31/100\n",
      "\u001b[1m90/90\u001b[0m \u001b[32m━━━━━━━━━━━━━━━━━━━━\u001b[0m\u001b[37m\u001b[0m \u001b[1m0s\u001b[0m 3ms/step - loss: 0.0358 - mae: 0.1417 - val_loss: 0.0340 - val_mae: 0.1388\n",
      "Epoch 32/100\n",
      "\u001b[1m90/90\u001b[0m \u001b[32m━━━━━━━━━━━━━━━━━━━━\u001b[0m\u001b[37m\u001b[0m \u001b[1m1s\u001b[0m 5ms/step - loss: 0.0359 - mae: 0.1420 - val_loss: 0.0337 - val_mae: 0.1364\n",
      "Epoch 33/100\n",
      "\u001b[1m90/90\u001b[0m \u001b[32m━━━━━━━━━━━━━━━━━━━━\u001b[0m\u001b[37m\u001b[0m \u001b[1m0s\u001b[0m 3ms/step - loss: 0.0340 - mae: 0.1360 - val_loss: 0.0335 - val_mae: 0.1386\n",
      "Epoch 34/100\n",
      "\u001b[1m90/90\u001b[0m \u001b[32m━━━━━━━━━━━━━━━━━━━━\u001b[0m\u001b[37m\u001b[0m \u001b[1m0s\u001b[0m 2ms/step - loss: 0.0360 - mae: 0.1418 - val_loss: 0.0335 - val_mae: 0.1377\n",
      "Epoch 35/100\n",
      "\u001b[1m90/90\u001b[0m \u001b[32m━━━━━━━━━━━━━━━━━━━━\u001b[0m\u001b[37m\u001b[0m \u001b[1m0s\u001b[0m 2ms/step - loss: 0.0357 - mae: 0.1424 - val_loss: 0.0335 - val_mae: 0.1379\n",
      "Epoch 36/100\n",
      "\u001b[1m90/90\u001b[0m \u001b[32m━━━━━━━━━━━━━━━━━━━━\u001b[0m\u001b[37m\u001b[0m \u001b[1m0s\u001b[0m 2ms/step - loss: 0.0353 - mae: 0.1409 - val_loss: 0.0337 - val_mae: 0.1396\n",
      "Epoch 37/100\n",
      "\u001b[1m90/90\u001b[0m \u001b[32m━━━━━━━━━━━━━━━━━━━━\u001b[0m\u001b[37m\u001b[0m \u001b[1m0s\u001b[0m 2ms/step - loss: 0.0356 - mae: 0.1402 - val_loss: 0.0335 - val_mae: 0.1375\n",
      "Epoch 38/100\n",
      "\u001b[1m90/90\u001b[0m \u001b[32m━━━━━━━━━━━━━━━━━━━━\u001b[0m\u001b[37m\u001b[0m \u001b[1m0s\u001b[0m 2ms/step - loss: 0.0345 - mae: 0.1384 - val_loss: 0.0332 - val_mae: 0.1372\n",
      "Epoch 39/100\n",
      "\u001b[1m90/90\u001b[0m \u001b[32m━━━━━━━━━━━━━━━━━━━━\u001b[0m\u001b[37m\u001b[0m \u001b[1m0s\u001b[0m 2ms/step - loss: 0.0343 - mae: 0.1384 - val_loss: 0.0328 - val_mae: 0.1369\n",
      "Epoch 40/100\n",
      "\u001b[1m90/90\u001b[0m \u001b[32m━━━━━━━━━━━━━━━━━━━━\u001b[0m\u001b[37m\u001b[0m \u001b[1m0s\u001b[0m 4ms/step - loss: 0.0345 - mae: 0.1390 - val_loss: 0.0337 - val_mae: 0.1396\n",
      "Epoch 41/100\n",
      "\u001b[1m90/90\u001b[0m \u001b[32m━━━━━━━━━━━━━━━━━━━━\u001b[0m\u001b[37m\u001b[0m \u001b[1m1s\u001b[0m 3ms/step - loss: 0.0353 - mae: 0.1425 - val_loss: 0.0329 - val_mae: 0.1366\n",
      "Epoch 42/100\n",
      "\u001b[1m90/90\u001b[0m \u001b[32m━━━━━━━━━━━━━━━━━━━━\u001b[0m\u001b[37m\u001b[0m \u001b[1m0s\u001b[0m 3ms/step - loss: 0.0347 - mae: 0.1398 - val_loss: 0.0336 - val_mae: 0.1404\n",
      "Epoch 43/100\n",
      "\u001b[1m90/90\u001b[0m \u001b[32m━━━━━━━━━━━━━━━━━━━━\u001b[0m\u001b[37m\u001b[0m \u001b[1m1s\u001b[0m 6ms/step - loss: 0.0355 - mae: 0.1427 - val_loss: 0.0328 - val_mae: 0.1379\n",
      "Epoch 44/100\n",
      "\u001b[1m90/90\u001b[0m \u001b[32m━━━━━━━━━━━━━━━━━━━━\u001b[0m\u001b[37m\u001b[0m \u001b[1m0s\u001b[0m 3ms/step - loss: 0.0344 - mae: 0.1378 - val_loss: 0.0327 - val_mae: 0.1372\n",
      "Epoch 45/100\n",
      "\u001b[1m90/90\u001b[0m \u001b[32m━━━━━━━━━━━━━━━━━━━━\u001b[0m\u001b[37m\u001b[0m \u001b[1m0s\u001b[0m 5ms/step - loss: 0.0357 - mae: 0.1409 - val_loss: 0.0331 - val_mae: 0.1403\n",
      "Epoch 46/100\n",
      "\u001b[1m90/90\u001b[0m \u001b[32m━━━━━━━━━━━━━━━━━━━━\u001b[0m\u001b[37m\u001b[0m \u001b[1m1s\u001b[0m 5ms/step - loss: 0.0349 - mae: 0.1406 - val_loss: 0.0325 - val_mae: 0.1376\n",
      "Epoch 47/100\n",
      "\u001b[1m90/90\u001b[0m \u001b[32m━━━━━━━━━━━━━━━━━━━━\u001b[0m\u001b[37m\u001b[0m \u001b[1m0s\u001b[0m 2ms/step - loss: 0.0355 - mae: 0.1413 - val_loss: 0.0325 - val_mae: 0.1366\n",
      "Epoch 48/100\n",
      "\u001b[1m90/90\u001b[0m \u001b[32m━━━━━━━━━━━━━━━━━━━━\u001b[0m\u001b[37m\u001b[0m \u001b[1m1s\u001b[0m 4ms/step - loss: 0.0347 - mae: 0.1401 - val_loss: 0.0326 - val_mae: 0.1364\n",
      "Epoch 49/100\n",
      "\u001b[1m90/90\u001b[0m \u001b[32m━━━━━━━━━━━━━━━━━━━━\u001b[0m\u001b[37m\u001b[0m \u001b[1m0s\u001b[0m 4ms/step - loss: 0.0345 - mae: 0.1395 - val_loss: 0.0327 - val_mae: 0.1371\n",
      "Epoch 50/100\n",
      "\u001b[1m90/90\u001b[0m \u001b[32m━━━━━━━━━━━━━━━━━━━━\u001b[0m\u001b[37m\u001b[0m \u001b[1m1s\u001b[0m 2ms/step - loss: 0.0338 - mae: 0.1366 - val_loss: 0.0324 - val_mae: 0.1356\n",
      "Epoch 51/100\n",
      "\u001b[1m90/90\u001b[0m \u001b[32m━━━━━━━━━━━━━━━━━━━━\u001b[0m\u001b[37m\u001b[0m \u001b[1m0s\u001b[0m 2ms/step - loss: 0.0338 - mae: 0.1382 - val_loss: 0.0325 - val_mae: 0.1379\n",
      "Epoch 52/100\n",
      "\u001b[1m90/90\u001b[0m \u001b[32m━━━━━━━━━━━━━━━━━━━━\u001b[0m\u001b[37m\u001b[0m \u001b[1m0s\u001b[0m 4ms/step - loss: 0.0334 - mae: 0.1370 - val_loss: 0.0322 - val_mae: 0.1363\n",
      "Epoch 53/100\n",
      "\u001b[1m90/90\u001b[0m \u001b[32m━━━━━━━━━━━━━━━━━━━━\u001b[0m\u001b[37m\u001b[0m \u001b[1m1s\u001b[0m 3ms/step - loss: 0.0352 - mae: 0.1412 - val_loss: 0.0323 - val_mae: 0.1358\n",
      "Epoch 54/100\n",
      "\u001b[1m90/90\u001b[0m \u001b[32m━━━━━━━━━━━━━━━━━━━━\u001b[0m\u001b[37m\u001b[0m \u001b[1m0s\u001b[0m 3ms/step - loss: 0.0364 - mae: 0.1422 - val_loss: 0.0327 - val_mae: 0.1363\n",
      "Epoch 55/100\n",
      "\u001b[1m90/90\u001b[0m \u001b[32m━━━━━━━━━━━━━━━━━━━━\u001b[0m\u001b[37m\u001b[0m \u001b[1m0s\u001b[0m 3ms/step - loss: 0.0336 - mae: 0.1370 - val_loss: 0.0322 - val_mae: 0.1345\n",
      "Epoch 56/100\n",
      "\u001b[1m90/90\u001b[0m \u001b[32m━━━━━━━━━━━━━━━━━━━━\u001b[0m\u001b[37m\u001b[0m \u001b[1m0s\u001b[0m 3ms/step - loss: 0.0335 - mae: 0.1369 - val_loss: 0.0322 - val_mae: 0.1356\n",
      "Epoch 57/100\n",
      "\u001b[1m90/90\u001b[0m \u001b[32m━━━━━━━━━━━━━━━━━━━━\u001b[0m\u001b[37m\u001b[0m \u001b[1m0s\u001b[0m 2ms/step - loss: 0.0352 - mae: 0.1423 - val_loss: 0.0326 - val_mae: 0.1371\n",
      "Epoch 58/100\n",
      "\u001b[1m90/90\u001b[0m \u001b[32m━━━━━━━━━━━━━━━━━━━━\u001b[0m\u001b[37m\u001b[0m \u001b[1m0s\u001b[0m 2ms/step - loss: 0.0348 - mae: 0.1404 - val_loss: 0.0320 - val_mae: 0.1356\n",
      "Epoch 59/100\n",
      "\u001b[1m90/90\u001b[0m \u001b[32m━━━━━━━━━━━━━━━━━━━━\u001b[0m\u001b[37m\u001b[0m \u001b[1m0s\u001b[0m 3ms/step - loss: 0.0343 - mae: 0.1394 - val_loss: 0.0320 - val_mae: 0.1349\n",
      "Epoch 60/100\n",
      "\u001b[1m90/90\u001b[0m \u001b[32m━━━━━━━━━━━━━━━━━━━━\u001b[0m\u001b[37m\u001b[0m \u001b[1m0s\u001b[0m 2ms/step - loss: 0.0343 - mae: 0.1406 - val_loss: 0.0321 - val_mae: 0.1352\n",
      "Epoch 61/100\n",
      "\u001b[1m90/90\u001b[0m \u001b[32m━━━━━━━━━━━━━━━━━━━━\u001b[0m\u001b[37m\u001b[0m \u001b[1m0s\u001b[0m 2ms/step - loss: 0.0332 - mae: 0.1369 - val_loss: 0.0324 - val_mae: 0.1371\n",
      "Epoch 62/100\n",
      "\u001b[1m90/90\u001b[0m \u001b[32m━━━━━━━━━━━━━━━━━━━━\u001b[0m\u001b[37m\u001b[0m \u001b[1m0s\u001b[0m 3ms/step - loss: 0.0340 - mae: 0.1391 - val_loss: 0.0316 - val_mae: 0.1350\n",
      "Epoch 63/100\n",
      "\u001b[1m90/90\u001b[0m \u001b[32m━━━━━━━━━━━━━━━━━━━━\u001b[0m\u001b[37m\u001b[0m \u001b[1m0s\u001b[0m 3ms/step - loss: 0.0334 - mae: 0.1378 - val_loss: 0.0320 - val_mae: 0.1359\n",
      "Epoch 64/100\n",
      "\u001b[1m90/90\u001b[0m \u001b[32m━━━━━━━━━━━━━━━━━━━━\u001b[0m\u001b[37m\u001b[0m \u001b[1m0s\u001b[0m 3ms/step - loss: 0.0343 - mae: 0.1388 - val_loss: 0.0317 - val_mae: 0.1357\n",
      "Epoch 65/100\n",
      "\u001b[1m90/90\u001b[0m \u001b[32m━━━━━━━━━━━━━━━━━━━━\u001b[0m\u001b[37m\u001b[0m \u001b[1m0s\u001b[0m 3ms/step - loss: 0.0337 - mae: 0.1400 - val_loss: 0.0320 - val_mae: 0.1364\n",
      "Epoch 66/100\n",
      "\u001b[1m90/90\u001b[0m \u001b[32m━━━━━━━━━━━━━━━━━━━━\u001b[0m\u001b[37m\u001b[0m \u001b[1m1s\u001b[0m 5ms/step - loss: 0.0337 - mae: 0.1385 - val_loss: 0.0317 - val_mae: 0.1355\n",
      "Epoch 67/100\n",
      "\u001b[1m90/90\u001b[0m \u001b[32m━━━━━━━━━━━━━━━━━━━━\u001b[0m\u001b[37m\u001b[0m \u001b[1m1s\u001b[0m 9ms/step - loss: 0.0326 - mae: 0.1364 - val_loss: 0.0317 - val_mae: 0.1341\n",
      "Epoch 68/100\n",
      "\u001b[1m90/90\u001b[0m \u001b[32m━━━━━━━━━━━━━━━━━━━━\u001b[0m\u001b[37m\u001b[0m \u001b[1m1s\u001b[0m 3ms/step - loss: 0.0330 - mae: 0.1374 - val_loss: 0.0321 - val_mae: 0.1370\n",
      "Epoch 69/100\n",
      "\u001b[1m90/90\u001b[0m \u001b[32m━━━━━━━━━━━━━━━━━━━━\u001b[0m\u001b[37m\u001b[0m \u001b[1m0s\u001b[0m 4ms/step - loss: 0.0341 - mae: 0.1397 - val_loss: 0.0313 - val_mae: 0.1336\n",
      "Epoch 70/100\n",
      "\u001b[1m90/90\u001b[0m \u001b[32m━━━━━━━━━━━━━━━━━━━━\u001b[0m\u001b[37m\u001b[0m \u001b[1m1s\u001b[0m 7ms/step - loss: 0.0336 - mae: 0.1372 - val_loss: 0.0321 - val_mae: 0.1371\n",
      "Epoch 71/100\n",
      "\u001b[1m90/90\u001b[0m \u001b[32m━━━━━━━━━━━━━━━━━━━━\u001b[0m\u001b[37m\u001b[0m \u001b[1m0s\u001b[0m 3ms/step - loss: 0.0345 - mae: 0.1410 - val_loss: 0.0320 - val_mae: 0.1372\n",
      "Epoch 72/100\n",
      "\u001b[1m90/90\u001b[0m \u001b[32m━━━━━━━━━━━━━━━━━━━━\u001b[0m\u001b[37m\u001b[0m \u001b[1m0s\u001b[0m 3ms/step - loss: 0.0338 - mae: 0.1391 - val_loss: 0.0320 - val_mae: 0.1372\n",
      "Epoch 73/100\n",
      "\u001b[1m90/90\u001b[0m \u001b[32m━━━━━━━━━━━━━━━━━━━━\u001b[0m\u001b[37m\u001b[0m \u001b[1m0s\u001b[0m 3ms/step - loss: 0.0334 - mae: 0.1390 - val_loss: 0.0314 - val_mae: 0.1337\n",
      "Epoch 74/100\n",
      "\u001b[1m90/90\u001b[0m \u001b[32m━━━━━━━━━━━━━━━━━━━━\u001b[0m\u001b[37m\u001b[0m \u001b[1m0s\u001b[0m 3ms/step - loss: 0.0348 - mae: 0.1395 - val_loss: 0.0317 - val_mae: 0.1358\n",
      "Epoch 75/100\n",
      "\u001b[1m90/90\u001b[0m \u001b[32m━━━━━━━━━━━━━━━━━━━━\u001b[0m\u001b[37m\u001b[0m \u001b[1m0s\u001b[0m 3ms/step - loss: 0.0328 - mae: 0.1365 - val_loss: 0.0315 - val_mae: 0.1349\n",
      "Epoch 76/100\n",
      "\u001b[1m90/90\u001b[0m \u001b[32m━━━━━━━━━━━━━━━━━━━━\u001b[0m\u001b[37m\u001b[0m \u001b[1m0s\u001b[0m 3ms/step - loss: 0.0346 - mae: 0.1417 - val_loss: 0.0311 - val_mae: 0.1327\n",
      "Epoch 77/100\n",
      "\u001b[1m90/90\u001b[0m \u001b[32m━━━━━━━━━━━━━━━━━━━━\u001b[0m\u001b[37m\u001b[0m \u001b[1m0s\u001b[0m 3ms/step - loss: 0.0341 - mae: 0.1399 - val_loss: 0.0322 - val_mae: 0.1380\n",
      "Epoch 78/100\n",
      "\u001b[1m90/90\u001b[0m \u001b[32m━━━━━━━━━━━━━━━━━━━━\u001b[0m\u001b[37m\u001b[0m \u001b[1m0s\u001b[0m 3ms/step - loss: 0.0343 - mae: 0.1416 - val_loss: 0.0319 - val_mae: 0.1381\n",
      "Epoch 79/100\n",
      "\u001b[1m90/90\u001b[0m \u001b[32m━━━━━━━━━━━━━━━━━━━━\u001b[0m\u001b[37m\u001b[0m \u001b[1m1s\u001b[0m 3ms/step - loss: 0.0323 - mae: 0.1352 - val_loss: 0.0312 - val_mae: 0.1320\n",
      "Epoch 80/100\n",
      "\u001b[1m90/90\u001b[0m \u001b[32m━━━━━━━━━━━━━━━━━━━━\u001b[0m\u001b[37m\u001b[0m \u001b[1m0s\u001b[0m 3ms/step - loss: 0.0338 - mae: 0.1384 - val_loss: 0.0312 - val_mae: 0.1350\n",
      "Epoch 81/100\n",
      "\u001b[1m90/90\u001b[0m \u001b[32m━━━━━━━━━━━━━━━━━━━━\u001b[0m\u001b[37m\u001b[0m \u001b[1m1s\u001b[0m 5ms/step - loss: 0.0332 - mae: 0.1367 - val_loss: 0.0313 - val_mae: 0.1325\n",
      "Epoch 82/100\n",
      "\u001b[1m90/90\u001b[0m \u001b[32m━━━━━━━━━━━━━━━━━━━━\u001b[0m\u001b[37m\u001b[0m \u001b[1m1s\u001b[0m 2ms/step - loss: 0.0334 - mae: 0.1369 - val_loss: 0.0312 - val_mae: 0.1320\n",
      "Epoch 83/100\n",
      "\u001b[1m90/90\u001b[0m \u001b[32m━━━━━━━━━━━━━━━━━━━━\u001b[0m\u001b[37m\u001b[0m \u001b[1m0s\u001b[0m 2ms/step - loss: 0.0343 - mae: 0.1392 - val_loss: 0.0312 - val_mae: 0.1349\n",
      "Epoch 84/100\n",
      "\u001b[1m90/90\u001b[0m \u001b[32m━━━━━━━━━━━━━━━━━━━━\u001b[0m\u001b[37m\u001b[0m \u001b[1m0s\u001b[0m 2ms/step - loss: 0.0334 - mae: 0.1375 - val_loss: 0.0313 - val_mae: 0.1336\n",
      "Epoch 85/100\n",
      "\u001b[1m90/90\u001b[0m \u001b[32m━━━━━━━━━━━━━━━━━━━━\u001b[0m\u001b[37m\u001b[0m \u001b[1m0s\u001b[0m 4ms/step - loss: 0.0337 - mae: 0.1388 - val_loss: 0.0314 - val_mae: 0.1349\n",
      "Epoch 86/100\n",
      "\u001b[1m90/90\u001b[0m \u001b[32m━━━━━━━━━━━━━━━━━━━━\u001b[0m\u001b[37m\u001b[0m \u001b[1m0s\u001b[0m 2ms/step - loss: 0.0325 - mae: 0.1352 - val_loss: 0.0311 - val_mae: 0.1336\n",
      "Epoch 87/100\n",
      "\u001b[1m90/90\u001b[0m \u001b[32m━━━━━━━━━━━━━━━━━━━━\u001b[0m\u001b[37m\u001b[0m \u001b[1m0s\u001b[0m 2ms/step - loss: 0.0336 - mae: 0.1395 - val_loss: 0.0312 - val_mae: 0.1360\n",
      "Epoch 88/100\n",
      "\u001b[1m90/90\u001b[0m \u001b[32m━━━━━━━━━━━━━━━━━━━━\u001b[0m\u001b[37m\u001b[0m \u001b[1m0s\u001b[0m 2ms/step - loss: 0.0321 - mae: 0.1359 - val_loss: 0.0320 - val_mae: 0.1345\n",
      "Epoch 89/100\n",
      "\u001b[1m90/90\u001b[0m \u001b[32m━━━━━━━━━━━━━━━━━━━━\u001b[0m\u001b[37m\u001b[0m \u001b[1m0s\u001b[0m 3ms/step - loss: 0.0325 - mae: 0.1342 - val_loss: 0.0309 - val_mae: 0.1337\n",
      "Epoch 90/100\n",
      "\u001b[1m90/90\u001b[0m \u001b[32m━━━━━━━━━━━━━━━━━━━━\u001b[0m\u001b[37m\u001b[0m \u001b[1m0s\u001b[0m 2ms/step - loss: 0.0320 - mae: 0.1350 - val_loss: 0.0310 - val_mae: 0.1341\n",
      "Epoch 91/100\n",
      "\u001b[1m90/90\u001b[0m \u001b[32m━━━━━━━━━━━━━━━━━━━━\u001b[0m\u001b[37m\u001b[0m \u001b[1m0s\u001b[0m 2ms/step - loss: 0.0338 - mae: 0.1375 - val_loss: 0.0313 - val_mae: 0.1365\n",
      "Epoch 92/100\n",
      "\u001b[1m90/90\u001b[0m \u001b[32m━━━━━━━━━━━━━━━━━━━━\u001b[0m\u001b[37m\u001b[0m \u001b[1m0s\u001b[0m 2ms/step - loss: 0.0327 - mae: 0.1365 - val_loss: 0.0312 - val_mae: 0.1340\n",
      "Epoch 93/100\n",
      "\u001b[1m90/90\u001b[0m \u001b[32m━━━━━━━━━━━━━━━━━━━━\u001b[0m\u001b[37m\u001b[0m \u001b[1m0s\u001b[0m 3ms/step - loss: 0.0320 - mae: 0.1343 - val_loss: 0.0317 - val_mae: 0.1340\n",
      "Epoch 94/100\n",
      "\u001b[1m90/90\u001b[0m \u001b[32m━━━━━━━━━━━━━━━━━━━━\u001b[0m\u001b[37m\u001b[0m \u001b[1m1s\u001b[0m 5ms/step - loss: 0.0336 - mae: 0.1375 - val_loss: 0.0307 - val_mae: 0.1334\n",
      "Epoch 95/100\n",
      "\u001b[1m90/90\u001b[0m \u001b[32m━━━━━━━━━━━━━━━━━━━━\u001b[0m\u001b[37m\u001b[0m \u001b[1m1s\u001b[0m 2ms/step - loss: 0.0336 - mae: 0.1376 - val_loss: 0.0315 - val_mae: 0.1376\n",
      "Epoch 96/100\n",
      "\u001b[1m90/90\u001b[0m \u001b[32m━━━━━━━━━━━━━━━━━━━━\u001b[0m\u001b[37m\u001b[0m \u001b[1m0s\u001b[0m 5ms/step - loss: 0.0321 - mae: 0.1355 - val_loss: 0.0308 - val_mae: 0.1330\n",
      "Epoch 97/100\n",
      "\u001b[1m90/90\u001b[0m \u001b[32m━━━━━━━━━━━━━━━━━━━━\u001b[0m\u001b[37m\u001b[0m \u001b[1m1s\u001b[0m 2ms/step - loss: 0.0341 - mae: 0.1388 - val_loss: 0.0320 - val_mae: 0.1356\n",
      "Epoch 98/100\n",
      "\u001b[1m90/90\u001b[0m \u001b[32m━━━━━━━━━━━━━━━━━━━━\u001b[0m\u001b[37m\u001b[0m \u001b[1m0s\u001b[0m 2ms/step - loss: 0.0330 - mae: 0.1368 - val_loss: 0.0310 - val_mae: 0.1342\n",
      "Epoch 99/100\n",
      "\u001b[1m90/90\u001b[0m \u001b[32m━━━━━━━━━━━━━━━━━━━━\u001b[0m\u001b[37m\u001b[0m \u001b[1m0s\u001b[0m 2ms/step - loss: 0.0314 - mae: 0.1338 - val_loss: 0.0311 - val_mae: 0.1359\n",
      "Epoch 100/100\n",
      "\u001b[1m90/90\u001b[0m \u001b[32m━━━━━━━━━━━━━━━━━━━━\u001b[0m\u001b[37m\u001b[0m \u001b[1m0s\u001b[0m 2ms/step - loss: 0.0309 - mae: 0.1316 - val_loss: 0.0312 - val_mae: 0.1355\n",
      "\u001b[1m23/23\u001b[0m \u001b[32m━━━━━━━━━━━━━━━━━━━━\u001b[0m\u001b[37m\u001b[0m \u001b[1m0s\u001b[0m 8ms/step\n"
     ]
    },
    {
     "data": {
      "image/png": "[encoded data removed]",
      "text/plain": [
       "<Figure size 640x480 with 1 Axes>"
      ]
     },
     "metadata": {},
     "output_type": "display_data"
    },
    {
     "data": {
      "image/png": "[encoded data removed]",
      "text/plain": [
       "<Figure size 640x480 with 1 Axes>"
      ]
     },
     "metadata": {},
     "output_type": "display_data"
    },
    {
     "name": "stdout",
     "output_type": "stream",
     "text": [
      "\u001b[1m23/23\u001b[0m \u001b[32m━━━━━━━━━━━━━━━━━━━━\u001b[0m\u001b[37m\u001b[0m \u001b[1m0s\u001b[0m 1ms/step - loss: 0.0328 - mae: 0.1405 \n",
      "MSE:  0.031226597726345062\n",
      "MAE: 0.13547156751155853\n"
     ]
    },
    {
     "data": {
      "application/vnd.microsoft.datawrangler.viewer.v0+json": {
       "columns": [
        {
         "name": "SongID",
         "rawType": "object",
         "type": "string"
        },
        {
         "name": "Original Test",
         "rawType": "float64",
         "type": "float"
        },
        {
         "name": "Prediction Test",
         "rawType": "float32",
         "type": "float"
        },
        {
         "name": "Original over Thrashold",
         "rawType": "bool",
         "type": "boolean"
        },
        {
         "name": "Predicted over Thrashold",
         "rawType": "bool",
         "type": "boolean"
        }
       ],
       "conversionMethod": "pd.DataFrame",
       "ref": "098bf0a8-69ec-4d47-9ee5-0c11fb29b488",
       "rows": [
        [
         "Can't Let You Out Of My SightChuck Jackson & Maxine Brown",
         "0.453",
         "0.7804509",
         "False",
         "True"
        ],
        [
         "It's All Coming Back To Me NowCeline Dion",
         "0.2859999999999999",
         "0.27581975",
         "False",
         "False"
        ],
        [
         "Birthday CakeRihanna Featuring Chris Brown",
         "0.329",
         "0.78163564",
         "False",
         "True"
        ],
        [
         "Jack The RipperLink Wray And The Wraymen",
         "0.2919999999999999",
         "0.50899774",
         "False",
         "False"
        ],
        [
         "Little StarThe Elegants",
         "0.697",
         "0.45810616",
         "False",
         "False"
        ],
        [
         "My LoveThe-Dream Featuring Mariah Carey",
         "0.314",
         "0.4187022",
         "False",
         "False"
        ],
        [
         "I Knew You Were Trouble.Taylor Swift",
         "0.679",
         "0.42105964",
         "False",
         "False"
        ],
        [
         "A House Is Not A HomeBrook Benton",
         "0.3059999999999999",
         "0.41683722",
         "False",
         "False"
        ],
        [
         "Hey Ya!OutKast",
         "0.965",
         "0.60811114",
         "True",
         "False"
        ],
        [
         "High EnoughDamn Yankees",
         "0.232",
         "0.32554224",
         "False",
         "False"
        ],
        [
         "More Girls Like YouKip Moore",
         "0.7119999999999999",
         "0.6043652",
         "True",
         "False"
        ],
        [
         "ApologizeEd Ames",
         "0.4859999999999999",
         "0.55211604",
         "False",
         "False"
        ],
        [
         "I Dreamed A DreamSusan Boyle",
         "0.113",
         "0.28357378",
         "False",
         "False"
        ],
        [
         "In The House Of Stone And LightMartin Page",
         "0.791",
         "0.6558256",
         "True",
         "False"
        ],
        [
         "It's GoodLil Wayne Featuring Drake & Jadakiss",
         "0.1",
         "0.53173625",
         "False",
         "False"
        ],
        [
         "Do The BirdDee Dee Sharp",
         "0.929",
         "0.73061335",
         "True",
         "True"
        ],
        [
         "Good Morning BeautifulSteve Holy",
         "0.2419999999999999",
         "0.4482595",
         "False",
         "False"
        ],
        [
         "Thinking Out LoudEd Sheeran",
         "0.5909999999999999",
         "0.45826504",
         "False",
         "False"
        ],
        [
         "You Got SoulJohnny Nash",
         "0.641",
         "0.6408925",
         "False",
         "False"
        ],
        [
         "Look It UpAshton Shepherd",
         "0.658",
         "0.7101596",
         "False",
         "True"
        ],
        [
         "Solitary ManNeil Diamond",
         "0.82",
         "0.60816395",
         "True",
         "False"
        ],
        [
         "BabelMumford & Sons",
         "0.647",
         "0.5115216",
         "False",
         "False"
        ],
        [
         "I Can't Do It By MyselfAnita Bryant",
         "0.787",
         "0.5357306",
         "True",
         "False"
        ],
        [
         "A Million And OneDean Martin",
         "0.4229999999999999",
         "0.26263568",
         "False",
         "False"
        ],
        [
         "Get It RightGlee Cast",
         "0.1409999999999999",
         "0.3682074",
         "False",
         "False"
        ],
        [
         "LatelyTyrese",
         "0.334",
         "0.5227464",
         "False",
         "False"
        ],
        [
         "QuickieMiguel",
         "0.647",
         "0.39305735",
         "False",
         "False"
        ],
        [
         "Good Enough To Be Your WifeJeannie C. Riley",
         "0.746",
         "0.7590941",
         "True",
         "True"
        ],
        [
         "AlwaysFirefall",
         "0.629",
         "0.52895343",
         "False",
         "False"
        ],
        [
         "Glory Of LoveDon Gardner And Dee Dee Ford",
         "0.48",
         "0.75253415",
         "False",
         "True"
        ],
        [
         "Crazy About The La La LaSmokey Robinson & The Miracles",
         "0.916",
         "0.72341716",
         "True",
         "True"
        ],
        [
         "If I Were A CarpenterJohnny Cash & June Carter",
         "0.685",
         "0.39099512",
         "False",
         "False"
        ],
        [
         "SuzanneNoel Harrison",
         "0.672",
         "0.5041765",
         "False",
         "False"
        ],
        [
         "Nutbush City LimitsIke & Tina Turner",
         "0.945",
         "0.77978003",
         "True",
         "True"
        ],
        [
         "You're Welcome, Stop On ByBobby Womack",
         "0.8319999999999999",
         "0.7085352",
         "True",
         "True"
        ],
        [
         "Going BadMeek Mill Featuring Drake",
         "0.544",
         "0.5220696",
         "False",
         "False"
        ],
        [
         "I Should Have CheatedKeyshia Cole",
         "0.4089999999999999",
         "0.3225494",
         "False",
         "False"
        ],
        [
         "If I Didn't CareConnie Francis",
         "0.372",
         "0.34281844",
         "False",
         "False"
        ],
        [
         "The Dark End Of The StreetJames Carr",
         "0.3559999999999999",
         "0.51201046",
         "False",
         "False"
        ],
        [
         "Too Many Fish In The SeaThe Marvelettes",
         "0.7069999999999999",
         "0.75541955",
         "True",
         "True"
        ],
        [
         "Small Town BoyDustin Lynch",
         "0.673",
         "0.52773035",
         "False",
         "False"
        ],
        [
         "Just Be My LadyLarry Graham",
         "0.166",
         "0.27612093",
         "False",
         "False"
        ],
        [
         "Hey JoeWilson Pickett",
         "0.813",
         "0.7153101",
         "True",
         "True"
        ],
        [
         "Beneath Your BeautifulLabrinth Featuring Emeli Sande",
         "0.228",
         "0.40288076",
         "False",
         "False"
        ],
        [
         "I Can't Stop Loving YouCount Basie",
         "0.4829999999999999",
         "0.33715862",
         "False",
         "False"
        ],
        [
         "Lara's Theme from \"Dr. Zhivago\"Roger Williams",
         "0.2129999999999999",
         "0.3506862",
         "False",
         "False"
        ],
        [
         "We Are The World 25: For HaitiArtists For Haiti",
         "0.28",
         "0.36342278",
         "False",
         "False"
        ],
        [
         "StoleKelly Rowland",
         "0.4769999999999999",
         "0.5678623",
         "False",
         "False"
        ],
        [
         "Beatnik FlyJohnny And The Hurricanes",
         "0.931",
         "0.7890233",
         "True",
         "True"
        ],
        [
         "Tattoos On This TownJason Aldean",
         "0.444",
         "0.43665606",
         "False",
         "False"
        ]
       ],
       "shape": {
        "columns": 4,
        "rows": 715
       }
      },
      "text/html": [
       "<div>\n",
       "<style scoped>\n",
       "    .dataframe tbody tr th:only-of-type {\n",
       "        vertical-align: middle;\n",
       "    }\n",
       "\n",
       "    .dataframe tbody tr th {\n",
       "        vertical-align: top;\n",
       "    }\n",
       "\n",
       "    .dataframe thead th {\n",
       "        text-align: right;\n",
       "    }\n",
       "</style>\n",
       "<table border=\"1\" class=\"dataframe\">\n",
       "  <thead>\n",
       "    <tr style=\"text-align: right;\">\n",
       "      <th></th>\n",
       "      <th>Original Test</th>\n",
       "      <th>Prediction Test</th>\n",
       "      <th>Original over Thrashold</th>\n",
       "      <th>Predicted over Thrashold</th>\n",
       "    </tr>\n",
       "    <tr>\n",
       "      <th>SongID</th>\n",
       "      <th></th>\n",
       "      <th></th>\n",
       "      <th></th>\n",
       "      <th></th>\n",
       "    </tr>\n",
       "  </thead>\n",
       "  <tbody>\n",
       "    <tr>\n",
       "      <th>Can't Let You Out Of My SightChuck Jackson &amp; Maxine Brown</th>\n",
       "      <td>0.4530</td>\n",
       "      <td>0.780451</td>\n",
       "      <td>False</td>\n",
       "      <td>True</td>\n",
       "    </tr>\n",
       "    <tr>\n",
       "      <th>It's All Coming Back To Me NowCeline Dion</th>\n",
       "      <td>0.2860</td>\n",
       "      <td>0.275820</td>\n",
       "      <td>False</td>\n",
       "      <td>False</td>\n",
       "    </tr>\n",
       "    <tr>\n",
       "      <th>Birthday CakeRihanna Featuring Chris Brown</th>\n",
       "      <td>0.3290</td>\n",
       "      <td>0.781636</td>\n",
       "      <td>False</td>\n",
       "      <td>True</td>\n",
       "    </tr>\n",
       "    <tr>\n",
       "      <th>Jack The RipperLink Wray And The Wraymen</th>\n",
       "      <td>0.2920</td>\n",
       "      <td>0.508998</td>\n",
       "      <td>False</td>\n",
       "      <td>False</td>\n",
       "    </tr>\n",
       "    <tr>\n",
       "      <th>Little StarThe Elegants</th>\n",
       "      <td>0.6970</td>\n",
       "      <td>0.458106</td>\n",
       "      <td>False</td>\n",
       "      <td>False</td>\n",
       "    </tr>\n",
       "    <tr>\n",
       "      <th>...</th>\n",
       "      <td>...</td>\n",
       "      <td>...</td>\n",
       "      <td>...</td>\n",
       "      <td>...</td>\n",
       "    </tr>\n",
       "    <tr>\n",
       "      <th>Who Needs PicturesBrad Paisley</th>\n",
       "      <td>0.1520</td>\n",
       "      <td>0.401782</td>\n",
       "      <td>False</td>\n",
       "      <td>False</td>\n",
       "    </tr>\n",
       "    <tr>\n",
       "      <th>TwoLil Uzi Vert</th>\n",
       "      <td>0.0371</td>\n",
       "      <td>0.326863</td>\n",
       "      <td>False</td>\n",
       "      <td>False</td>\n",
       "    </tr>\n",
       "    <tr>\n",
       "      <th>Hands OnKanye West Featuring Fred Hammond</th>\n",
       "      <td>0.5980</td>\n",
       "      <td>0.397637</td>\n",
       "      <td>False</td>\n",
       "      <td>False</td>\n",
       "    </tr>\n",
       "    <tr>\n",
       "      <th>TogetherTierra</th>\n",
       "      <td>0.6370</td>\n",
       "      <td>0.501921</td>\n",
       "      <td>False</td>\n",
       "      <td>False</td>\n",
       "    </tr>\n",
       "    <tr>\n",
       "      <th>In The Summer Of His YearsConnie Francis</th>\n",
       "      <td>0.2960</td>\n",
       "      <td>0.357990</td>\n",
       "      <td>False</td>\n",
       "      <td>False</td>\n",
       "    </tr>\n",
       "  </tbody>\n",
       "</table>\n",
       "<p>715 rows × 4 columns</p>\n",
       "</div>"
      ],
      "text/plain": [
       "                                                    Original Test  \\\n",
       "SongID                                                              \n",
       "Can't Let You Out Of My SightChuck Jackson & Ma...         0.4530   \n",
       "It's All Coming Back To Me NowCeline Dion                  0.2860   \n",
       "Birthday CakeRihanna Featuring Chris Brown                 0.3290   \n",
       "Jack The RipperLink Wray And The Wraymen                   0.2920   \n",
       "Little StarThe Elegants                                    0.6970   \n",
       "...                                                           ...   \n",
       "Who Needs PicturesBrad Paisley                             0.1520   \n",
       "TwoLil Uzi Vert                                            0.0371   \n",
       "Hands OnKanye West Featuring Fred Hammond                  0.5980   \n",
       "TogetherTierra                                             0.6370   \n",
       "In The Summer Of His YearsConnie Francis                   0.2960   \n",
       "\n",
       "                                                    Prediction Test  \\\n",
       "SongID                                                                \n",
       "Can't Let You Out Of My SightChuck Jackson & Ma...         0.780451   \n",
       "It's All Coming Back To Me NowCeline Dion                  0.275820   \n",
       "Birthday CakeRihanna Featuring Chris Brown                 0.781636   \n",
       "Jack The RipperLink Wray And The Wraymen                   0.508998   \n",
       "Little StarThe Elegants                                    0.458106   \n",
       "...                                                             ...   \n",
       "Who Needs PicturesBrad Paisley                             0.401782   \n",
       "TwoLil Uzi Vert                                            0.326863   \n",
       "Hands OnKanye West Featuring Fred Hammond                  0.397637   \n",
       "TogetherTierra                                             0.501921   \n",
       "In The Summer Of His YearsConnie Francis                   0.357990   \n",
       "\n",
       "                                                    Original over Thrashold  \\\n",
       "SongID                                                                        \n",
       "Can't Let You Out Of My SightChuck Jackson & Ma...                    False   \n",
       "It's All Coming Back To Me NowCeline Dion                             False   \n",
       "Birthday CakeRihanna Featuring Chris Brown                            False   \n",
       "Jack The RipperLink Wray And The Wraymen                              False   \n",
       "Little StarThe Elegants                                               False   \n",
       "...                                                                     ...   \n",
       "Who Needs PicturesBrad Paisley                                        False   \n",
       "TwoLil Uzi Vert                                                       False   \n",
       "Hands OnKanye West Featuring Fred Hammond                             False   \n",
       "TogetherTierra                                                        False   \n",
       "In The Summer Of His YearsConnie Francis                              False   \n",
       "\n",
       "                                                    Predicted over Thrashold  \n",
       "SongID                                                                        \n",
       "Can't Let You Out Of My SightChuck Jackson & Ma...                      True  \n",
       "It's All Coming Back To Me NowCeline Dion                              False  \n",
       "Birthday CakeRihanna Featuring Chris Brown                              True  \n",
       "Jack The RipperLink Wray And The Wraymen                               False  \n",
       "Little StarThe Elegants                                                False  \n",
       "...                                                                      ...  \n",
       "Who Needs PicturesBrad Paisley                                         False  \n",
       "TwoLil Uzi Vert                                                        False  \n",
       "Hands OnKanye West Featuring Fred Hammond                              False  \n",
       "TogetherTierra                                                         False  \n",
       "In The Summer Of His YearsConnie Francis                               False  \n",
       "\n",
       "[715 rows x 4 columns]"
      ]
     },
     "metadata": {},
     "output_type": "display_data"
    },
    {
     "data": {
      "image/png": "[encoded data removed]",
      "text/plain": [
       "<Figure size 640x480 with 2 Axes>"
      ]
     },
     "metadata": {},
     "output_type": "display_data"
    },
    {
     "data": {
      "application/vnd.microsoft.datawrangler.viewer.v0+json": {
       "columns": [
        {
         "name": "index",
         "rawType": "int64",
         "type": "integer"
        },
        {
         "name": "Metric",
         "rawType": "object",
         "type": "string"
        },
        {
         "name": "Value",
         "rawType": "float64",
         "type": "float"
        }
       ],
       "conversionMethod": "pd.DataFrame",
       "ref": "326b4af5-9463-49f7-9188-1332a9db0eed",
       "rows": [
        [
         "0",
         "Accuracy",
         "0.82"
        ],
        [
         "1",
         "Precision",
         "0.87"
        ],
        [
         "2",
         "Recall",
         "0.34"
        ],
        [
         "3",
         "F1-score",
         "0.49"
        ]
       ],
       "shape": {
        "columns": 2,
        "rows": 4
       }
      },
      "text/html": [
       "<div>\n",
       "<style scoped>\n",
       "    .dataframe tbody tr th:only-of-type {\n",
       "        vertical-align: middle;\n",
       "    }\n",
       "\n",
       "    .dataframe tbody tr th {\n",
       "        vertical-align: top;\n",
       "    }\n",
       "\n",
       "    .dataframe thead th {\n",
       "        text-align: right;\n",
       "    }\n",
       "</style>\n",
       "<table border=\"1\" class=\"dataframe\">\n",
       "  <thead>\n",
       "    <tr style=\"text-align: right;\">\n",
       "      <th></th>\n",
       "      <th>Metric</th>\n",
       "      <th>Value</th>\n",
       "    </tr>\n",
       "  </thead>\n",
       "  <tbody>\n",
       "    <tr>\n",
       "      <th>0</th>\n",
       "      <td>Accuracy</td>\n",
       "      <td>0.82</td>\n",
       "    </tr>\n",
       "    <tr>\n",
       "      <th>1</th>\n",
       "      <td>Precision</td>\n",
       "      <td>0.87</td>\n",
       "    </tr>\n",
       "    <tr>\n",
       "      <th>2</th>\n",
       "      <td>Recall</td>\n",
       "      <td>0.34</td>\n",
       "    </tr>\n",
       "    <tr>\n",
       "      <th>3</th>\n",
       "      <td>F1-score</td>\n",
       "      <td>0.49</td>\n",
       "    </tr>\n",
       "  </tbody>\n",
       "</table>\n",
       "</div>"
      ],
      "text/plain": [
       "      Metric  Value\n",
       "0   Accuracy   0.82\n",
       "1  Precision   0.87\n",
       "2     Recall   0.34\n",
       "3   F1-score   0.49"
      ]
     },
     "metadata": {},
     "output_type": "display_data"
    },
    {
     "name": "stdout",
     "output_type": "stream",
     "text": [
      "---------------------------------------------------------\n",
      "USER 4\n",
      "Epoch 1/100\n"
     ]
    },
    {
     "name": "stderr",
     "output_type": "stream",
     "text": [
      "C:\\Users\\elped\\AppData\\Local\\Temp\\ipykernel_16540\\2934058548.py:7: SettingWithCopyWarning: \n",
      "A value is trying to be set on a copy of a slice from a DataFrame.\n",
      "Try using .loc[row_indexer,col_indexer] = value instead\n",
      "\n",
      "See the caveats in the documentation: https://pandas.pydata.org/pandas-docs/stable/user_guide/indexing.html#returning-a-view-versus-a-copy\n",
      "  x[numerical_features] = StandardScaler().fit_transform(x[numerical_features])\n",
      "c:\\Users\\elped\\AppData\\Local\\Programs\\Python\\Python312\\Lib\\site-packages\\keras\\src\\layers\\core\\dense.py:87: UserWarning: Do not pass an `input_shape`/`input_dim` argument to a layer. When using Sequential models, prefer using an `Input(shape)` object as the first layer in the model instead.\n",
      "  super().__init__(activity_regularizer=activity_regularizer, **kwargs)\n"
     ]
    },
    {
     "name": "stdout",
     "output_type": "stream",
     "text": [
      "\u001b[1m63/63\u001b[0m \u001b[32m━━━━━━━━━━━━━━━━━━━━\u001b[0m\u001b[37m\u001b[0m \u001b[1m3s\u001b[0m 7ms/step - loss: 0.5062 - mae: 0.2121 - val_loss: 0.3442 - val_mae: 0.1899\n",
      "Epoch 2/100\n",
      "\u001b[1m63/63\u001b[0m \u001b[32m━━━━━━━━━━━━━━━━━━━━\u001b[0m\u001b[37m\u001b[0m \u001b[1m0s\u001b[0m 4ms/step - loss: 0.3081 - mae: 0.1838 - val_loss: 0.2137 - val_mae: 0.1793\n",
      "Epoch 3/100\n",
      "\u001b[1m63/63\u001b[0m \u001b[32m━━━━━━━━━━━━━━━━━━━━\u001b[0m\u001b[37m\u001b[0m \u001b[1m1s\u001b[0m 5ms/step - loss: 0.1934 - mae: 0.1767 - val_loss: 0.1370 - val_mae: 0.1739\n",
      "Epoch 4/100\n",
      "\u001b[1m63/63\u001b[0m \u001b[32m━━━━━━━━━━━━━━━━━━━━\u001b[0m\u001b[37m\u001b[0m \u001b[1m0s\u001b[0m 3ms/step - loss: 0.1269 - mae: 0.1734 - val_loss: 0.0930 - val_mae: 0.1698\n",
      "Epoch 5/100\n",
      "\u001b[1m63/63\u001b[0m \u001b[32m━━━━━━━━━━━━━━━━━━━━\u001b[0m\u001b[37m\u001b[0m \u001b[1m0s\u001b[0m 3ms/step - loss: 0.0861 - mae: 0.1657 - val_loss: 0.0690 - val_mae: 0.1664\n",
      "Epoch 6/100\n",
      "\u001b[1m63/63\u001b[0m \u001b[32m━━━━━━━━━━━━━━━━━━━━\u001b[0m\u001b[37m\u001b[0m \u001b[1m0s\u001b[0m 3ms/step - loss: 0.0639 - mae: 0.1582 - val_loss: 0.0563 - val_mae: 0.1647\n",
      "Epoch 7/100\n",
      "\u001b[1m63/63\u001b[0m \u001b[32m━━━━━━━━━━━━━━━━━━━━\u001b[0m\u001b[37m\u001b[0m \u001b[1m0s\u001b[0m 3ms/step - loss: 0.0543 - mae: 0.1593 - val_loss: 0.0492 - val_mae: 0.1627\n",
      "Epoch 8/100\n",
      "\u001b[1m63/63\u001b[0m \u001b[32m━━━━━━━━━━━━━━━━━━━━\u001b[0m\u001b[37m\u001b[0m \u001b[1m0s\u001b[0m 3ms/step - loss: 0.0485 - mae: 0.1570 - val_loss: 0.0455 - val_mae: 0.1595\n",
      "Epoch 9/100\n",
      "\u001b[1m63/63\u001b[0m \u001b[32m━━━━━━━━━━━━━━━━━━━━\u001b[0m\u001b[37m\u001b[0m \u001b[1m0s\u001b[0m 3ms/step - loss: 0.0448 - mae: 0.1549 - val_loss: 0.0435 - val_mae: 0.1584\n",
      "Epoch 10/100\n",
      "\u001b[1m63/63\u001b[0m \u001b[32m━━━━━━━━━━━━━━━━━━━━\u001b[0m\u001b[37m\u001b[0m \u001b[1m0s\u001b[0m 3ms/step - loss: 0.0427 - mae: 0.1535 - val_loss: 0.0422 - val_mae: 0.1561\n",
      "Epoch 11/100\n",
      "\u001b[1m63/63\u001b[0m \u001b[32m━━━━━━━━━━━━━━━━━━━━\u001b[0m\u001b[37m\u001b[0m \u001b[1m0s\u001b[0m 4ms/step - loss: 0.0457 - mae: 0.1604 - val_loss: 0.0415 - val_mae: 0.1540\n",
      "Epoch 12/100\n",
      "\u001b[1m63/63\u001b[0m \u001b[32m━━━━━━━━━━━━━━━━━━━━\u001b[0m\u001b[37m\u001b[0m \u001b[1m0s\u001b[0m 7ms/step - loss: 0.0405 - mae: 0.1481 - val_loss: 0.0410 - val_mae: 0.1546\n",
      "Epoch 13/100\n",
      "\u001b[1m63/63\u001b[0m \u001b[32m━━━━━━━━━━━━━━━━━━━━\u001b[0m\u001b[37m\u001b[0m \u001b[1m0s\u001b[0m 3ms/step - loss: 0.0427 - mae: 0.1548 - val_loss: 0.0406 - val_mae: 0.1535\n",
      "Epoch 14/100\n",
      "\u001b[1m63/63\u001b[0m \u001b[32m━━━━━━━━━━━━━━━━━━━━\u001b[0m\u001b[37m\u001b[0m \u001b[1m0s\u001b[0m 4ms/step - loss: 0.0411 - mae: 0.1517 - val_loss: 0.0401 - val_mae: 0.1519\n",
      "Epoch 15/100\n",
      "\u001b[1m63/63\u001b[0m \u001b[32m━━━━━━━━━━━━━━━━━━━━\u001b[0m\u001b[37m\u001b[0m \u001b[1m0s\u001b[0m 3ms/step - loss: 0.0432 - mae: 0.1566 - val_loss: 0.0398 - val_mae: 0.1518\n",
      "Epoch 16/100\n",
      "\u001b[1m63/63\u001b[0m \u001b[32m━━━━━━━━━━━━━━━━━━━━\u001b[0m\u001b[37m\u001b[0m \u001b[1m0s\u001b[0m 3ms/step - loss: 0.0413 - mae: 0.1520 - val_loss: 0.0400 - val_mae: 0.1535\n",
      "Epoch 17/100\n",
      "\u001b[1m63/63\u001b[0m \u001b[32m━━━━━━━━━━━━━━━━━━━━\u001b[0m\u001b[37m\u001b[0m \u001b[1m0s\u001b[0m 3ms/step - loss: 0.0422 - mae: 0.1543 - val_loss: 0.0398 - val_mae: 0.1534\n",
      "Epoch 18/100\n",
      "\u001b[1m63/63\u001b[0m \u001b[32m━━━━━━━━━━━━━━━━━━━━\u001b[0m\u001b[37m\u001b[0m \u001b[1m0s\u001b[0m 3ms/step - loss: 0.0415 - mae: 0.1542 - val_loss: 0.0397 - val_mae: 0.1515\n",
      "Epoch 19/100\n",
      "\u001b[1m63/63\u001b[0m \u001b[32m━━━━━━━━━━━━━━━━━━━━\u001b[0m\u001b[37m\u001b[0m \u001b[1m0s\u001b[0m 6ms/step - loss: 0.0403 - mae: 0.1522 - val_loss: 0.0393 - val_mae: 0.1520\n",
      "Epoch 20/100\n",
      "\u001b[1m63/63\u001b[0m \u001b[32m━━━━━━━━━━━━━━━━━━━━\u001b[0m\u001b[37m\u001b[0m \u001b[1m1s\u001b[0m 9ms/step - loss: 0.0406 - mae: 0.1489 - val_loss: 0.0388 - val_mae: 0.1500\n",
      "Epoch 21/100\n",
      "\u001b[1m63/63\u001b[0m \u001b[32m━━━━━━━━━━━━━━━━━━━━\u001b[0m\u001b[37m\u001b[0m \u001b[1m0s\u001b[0m 3ms/step - loss: 0.0406 - mae: 0.1508 - val_loss: 0.0386 - val_mae: 0.1502\n",
      "Epoch 22/100\n",
      "\u001b[1m63/63\u001b[0m \u001b[32m━━━━━━━━━━━━━━━━━━━━\u001b[0m\u001b[37m\u001b[0m \u001b[1m1s\u001b[0m 7ms/step - loss: 0.0387 - mae: 0.1485 - val_loss: 0.0387 - val_mae: 0.1513\n",
      "Epoch 23/100\n",
      "\u001b[1m63/63\u001b[0m \u001b[32m━━━━━━━━━━━━━━━━━━━━\u001b[0m\u001b[37m\u001b[0m \u001b[1m1s\u001b[0m 13ms/step - loss: 0.0403 - mae: 0.1511 - val_loss: 0.0384 - val_mae: 0.1483\n",
      "Epoch 24/100\n",
      "\u001b[1m63/63\u001b[0m \u001b[32m━━━━━━━━━━━━━━━━━━━━\u001b[0m\u001b[37m\u001b[0m \u001b[1m1s\u001b[0m 5ms/step - loss: 0.0404 - mae: 0.1506 - val_loss: 0.0384 - val_mae: 0.1499\n",
      "Epoch 25/100\n",
      "\u001b[1m63/63\u001b[0m \u001b[32m━━━━━━━━━━━━━━━━━━━━\u001b[0m\u001b[37m\u001b[0m \u001b[1m1s\u001b[0m 5ms/step - loss: 0.0399 - mae: 0.1501 - val_loss: 0.0382 - val_mae: 0.1491\n",
      "Epoch 26/100\n",
      "\u001b[1m63/63\u001b[0m \u001b[32m━━━━━━━━━━━━━━━━━━━━\u001b[0m\u001b[37m\u001b[0m \u001b[1m1s\u001b[0m 4ms/step - loss: 0.0389 - mae: 0.1475 - val_loss: 0.0381 - val_mae: 0.1476\n",
      "Epoch 27/100\n",
      "\u001b[1m63/63\u001b[0m \u001b[32m━━━━━━━━━━━━━━━━━━━━\u001b[0m\u001b[37m\u001b[0m \u001b[1m0s\u001b[0m 3ms/step - loss: 0.0399 - mae: 0.1493 - val_loss: 0.0380 - val_mae: 0.1489\n",
      "Epoch 28/100\n",
      "\u001b[1m63/63\u001b[0m \u001b[32m━━━━━━━━━━━━━━━━━━━━\u001b[0m\u001b[37m\u001b[0m \u001b[1m0s\u001b[0m 3ms/step - loss: 0.0394 - mae: 0.1506 - val_loss: 0.0379 - val_mae: 0.1502\n",
      "Epoch 29/100\n",
      "\u001b[1m63/63\u001b[0m \u001b[32m━━━━━━━━━━━━━━━━━━━━\u001b[0m\u001b[37m\u001b[0m \u001b[1m0s\u001b[0m 3ms/step - loss: 0.0386 - mae: 0.1474 - val_loss: 0.0379 - val_mae: 0.1490\n",
      "Epoch 30/100\n",
      "\u001b[1m63/63\u001b[0m \u001b[32m━━━━━━━━━━━━━━━━━━━━\u001b[0m\u001b[37m\u001b[0m \u001b[1m0s\u001b[0m 6ms/step - loss: 0.0395 - mae: 0.1501 - val_loss: 0.0376 - val_mae: 0.1471\n",
      "Epoch 31/100\n",
      "\u001b[1m63/63\u001b[0m \u001b[32m━━━━━━━━━━━━━━━━━━━━\u001b[0m\u001b[37m\u001b[0m \u001b[1m0s\u001b[0m 3ms/step - loss: 0.0388 - mae: 0.1474 - val_loss: 0.0374 - val_mae: 0.1474\n",
      "Epoch 32/100\n",
      "\u001b[1m63/63\u001b[0m \u001b[32m━━━━━━━━━━━━━━━━━━━━\u001b[0m\u001b[37m\u001b[0m \u001b[1m0s\u001b[0m 3ms/step - loss: 0.0404 - mae: 0.1527 - val_loss: 0.0383 - val_mae: 0.1517\n",
      "Epoch 33/100\n",
      "\u001b[1m63/63\u001b[0m \u001b[32m━━━━━━━━━━━━━━━━━━━━\u001b[0m\u001b[37m\u001b[0m \u001b[1m0s\u001b[0m 3ms/step - loss: 0.0369 - mae: 0.1447 - val_loss: 0.0372 - val_mae: 0.1474\n",
      "Epoch 34/100\n",
      "\u001b[1m63/63\u001b[0m \u001b[32m━━━━━━━━━━━━━━━━━━━━\u001b[0m\u001b[37m\u001b[0m \u001b[1m0s\u001b[0m 3ms/step - loss: 0.0378 - mae: 0.1467 - val_loss: 0.0376 - val_mae: 0.1502\n",
      "Epoch 35/100\n",
      "\u001b[1m63/63\u001b[0m \u001b[32m━━━━━━━━━━━━━━━━━━━━\u001b[0m\u001b[37m\u001b[0m \u001b[1m0s\u001b[0m 5ms/step - loss: 0.0385 - mae: 0.1480 - val_loss: 0.0367 - val_mae: 0.1453\n",
      "Epoch 36/100\n",
      "\u001b[1m63/63\u001b[0m \u001b[32m━━━━━━━━━━━━━━━━━━━━\u001b[0m\u001b[37m\u001b[0m \u001b[1m0s\u001b[0m 4ms/step - loss: 0.0369 - mae: 0.1432 - val_loss: 0.0370 - val_mae: 0.1478\n",
      "Epoch 37/100\n",
      "\u001b[1m63/63\u001b[0m \u001b[32m━━━━━━━━━━━━━━━━━━━━\u001b[0m\u001b[37m\u001b[0m \u001b[1m0s\u001b[0m 6ms/step - loss: 0.0381 - mae: 0.1452 - val_loss: 0.0369 - val_mae: 0.1476\n",
      "Epoch 38/100\n",
      "\u001b[1m63/63\u001b[0m \u001b[32m━━━━━━━━━━━━━━━━━━━━\u001b[0m\u001b[37m\u001b[0m \u001b[1m0s\u001b[0m 5ms/step - loss: 0.0384 - mae: 0.1478 - val_loss: 0.0364 - val_mae: 0.1462\n",
      "Epoch 39/100\n",
      "\u001b[1m63/63\u001b[0m \u001b[32m━━━━━━━━━━━━━━━━━━━━\u001b[0m\u001b[37m\u001b[0m \u001b[1m0s\u001b[0m 3ms/step - loss: 0.0386 - mae: 0.1481 - val_loss: 0.0368 - val_mae: 0.1473\n",
      "Epoch 40/100\n",
      "\u001b[1m63/63\u001b[0m \u001b[32m━━━━━━━━━━━━━━━━━━━━\u001b[0m\u001b[37m\u001b[0m \u001b[1m0s\u001b[0m 3ms/step - loss: 0.0376 - mae: 0.1470 - val_loss: 0.0375 - val_mae: 0.1474\n",
      "Epoch 41/100\n",
      "\u001b[1m63/63\u001b[0m \u001b[32m━━━━━━━━━━━━━━━━━━━━\u001b[0m\u001b[37m\u001b[0m \u001b[1m1s\u001b[0m 7ms/step - loss: 0.0360 - mae: 0.1417 - val_loss: 0.0362 - val_mae: 0.1451\n",
      "Epoch 42/100\n",
      "\u001b[1m63/63\u001b[0m \u001b[32m━━━━━━━━━━━━━━━━━━━━\u001b[0m\u001b[37m\u001b[0m \u001b[1m0s\u001b[0m 4ms/step - loss: 0.0366 - mae: 0.1453 - val_loss: 0.0362 - val_mae: 0.1472\n",
      "Epoch 43/100\n",
      "\u001b[1m63/63\u001b[0m \u001b[32m━━━━━━━━━━━━━━━━━━━━\u001b[0m\u001b[37m\u001b[0m \u001b[1m0s\u001b[0m 3ms/step - loss: 0.0371 - mae: 0.1476 - val_loss: 0.0360 - val_mae: 0.1442\n",
      "Epoch 44/100\n",
      "\u001b[1m63/63\u001b[0m \u001b[32m━━━━━━━━━━━━━━━━━━━━\u001b[0m\u001b[37m\u001b[0m \u001b[1m0s\u001b[0m 3ms/step - loss: 0.0380 - mae: 0.1472 - val_loss: 0.0362 - val_mae: 0.1438\n",
      "Epoch 45/100\n",
      "\u001b[1m63/63\u001b[0m \u001b[32m━━━━━━━━━━━━━━━━━━━━\u001b[0m\u001b[37m\u001b[0m \u001b[1m0s\u001b[0m 3ms/step - loss: 0.0364 - mae: 0.1448 - val_loss: 0.0365 - val_mae: 0.1449\n",
      "Epoch 46/100\n",
      "\u001b[1m63/63\u001b[0m \u001b[32m━━━━━━━━━━━━━━━━━━━━\u001b[0m\u001b[37m\u001b[0m \u001b[1m0s\u001b[0m 3ms/step - loss: 0.0357 - mae: 0.1400 - val_loss: 0.0357 - val_mae: 0.1439\n",
      "Epoch 47/100\n",
      "\u001b[1m63/63\u001b[0m \u001b[32m━━━━━━━━━━━━━━━━━━━━\u001b[0m\u001b[37m\u001b[0m \u001b[1m0s\u001b[0m 3ms/step - loss: 0.0376 - mae: 0.1473 - val_loss: 0.0364 - val_mae: 0.1472\n",
      "Epoch 48/100\n",
      "\u001b[1m63/63\u001b[0m \u001b[32m━━━━━━━━━━━━━━━━━━━━\u001b[0m\u001b[37m\u001b[0m \u001b[1m0s\u001b[0m 3ms/step - loss: 0.0368 - mae: 0.1433 - val_loss: 0.0355 - val_mae: 0.1445\n",
      "Epoch 49/100\n",
      "\u001b[1m63/63\u001b[0m \u001b[32m━━━━━━━━━━━━━━━━━━━━\u001b[0m\u001b[37m\u001b[0m \u001b[1m0s\u001b[0m 3ms/step - loss: 0.0357 - mae: 0.1429 - val_loss: 0.0359 - val_mae: 0.1468\n",
      "Epoch 50/100\n",
      "\u001b[1m63/63\u001b[0m \u001b[32m━━━━━━━━━━━━━━━━━━━━\u001b[0m\u001b[37m\u001b[0m \u001b[1m0s\u001b[0m 3ms/step - loss: 0.0361 - mae: 0.1434 - val_loss: 0.0361 - val_mae: 0.1473\n",
      "Epoch 51/100\n",
      "\u001b[1m63/63\u001b[0m \u001b[32m━━━━━━━━━━━━━━━━━━━━\u001b[0m\u001b[37m\u001b[0m \u001b[1m0s\u001b[0m 4ms/step - loss: 0.0382 - mae: 0.1484 - val_loss: 0.0359 - val_mae: 0.1464\n",
      "Epoch 52/100\n",
      "\u001b[1m63/63\u001b[0m \u001b[32m━━━━━━━━━━━━━━━━━━━━\u001b[0m\u001b[37m\u001b[0m \u001b[1m0s\u001b[0m 4ms/step - loss: 0.0363 - mae: 0.1440 - val_loss: 0.0356 - val_mae: 0.1441\n",
      "Epoch 53/100\n",
      "\u001b[1m63/63\u001b[0m \u001b[32m━━━━━━━━━━━━━━━━━━━━\u001b[0m\u001b[37m\u001b[0m \u001b[1m0s\u001b[0m 5ms/step - loss: 0.0363 - mae: 0.1442 - val_loss: 0.0361 - val_mae: 0.1460\n",
      "Epoch 54/100\n",
      "\u001b[1m63/63\u001b[0m \u001b[32m━━━━━━━━━━━━━━━━━━━━\u001b[0m\u001b[37m\u001b[0m \u001b[1m1s\u001b[0m 6ms/step - loss: 0.0369 - mae: 0.1451 - val_loss: 0.0355 - val_mae: 0.1426\n",
      "Epoch 55/100\n",
      "\u001b[1m63/63\u001b[0m \u001b[32m━━━━━━━━━━━━━━━━━━━━\u001b[0m\u001b[37m\u001b[0m \u001b[1m0s\u001b[0m 3ms/step - loss: 0.0364 - mae: 0.1441 - val_loss: 0.0359 - val_mae: 0.1461\n",
      "Epoch 56/100\n",
      "\u001b[1m63/63\u001b[0m \u001b[32m━━━━━━━━━━━━━━━━━━━━\u001b[0m\u001b[37m\u001b[0m \u001b[1m0s\u001b[0m 3ms/step - loss: 0.0374 - mae: 0.1464 - val_loss: 0.0357 - val_mae: 0.1455\n",
      "Epoch 57/100\n",
      "\u001b[1m63/63\u001b[0m \u001b[32m━━━━━━━━━━━━━━━━━━━━\u001b[0m\u001b[37m\u001b[0m \u001b[1m1s\u001b[0m 8ms/step - loss: 0.0367 - mae: 0.1458 - val_loss: 0.0352 - val_mae: 0.1424\n",
      "Epoch 58/100\n",
      "\u001b[1m63/63\u001b[0m \u001b[32m━━━━━━━━━━━━━━━━━━━━\u001b[0m\u001b[37m\u001b[0m \u001b[1m1s\u001b[0m 3ms/step - loss: 0.0372 - mae: 0.1470 - val_loss: 0.0347 - val_mae: 0.1419\n",
      "Epoch 59/100\n",
      "\u001b[1m63/63\u001b[0m \u001b[32m━━━━━━━━━━━━━━━━━━━━\u001b[0m\u001b[37m\u001b[0m \u001b[1m0s\u001b[0m 3ms/step - loss: 0.0357 - mae: 0.1425 - val_loss: 0.0356 - val_mae: 0.1443\n",
      "Epoch 60/100\n",
      "\u001b[1m63/63\u001b[0m \u001b[32m━━━━━━━━━━━━━━━━━━━━\u001b[0m\u001b[37m\u001b[0m \u001b[1m0s\u001b[0m 3ms/step - loss: 0.0365 - mae: 0.1452 - val_loss: 0.0350 - val_mae: 0.1435\n",
      "Epoch 61/100\n",
      "\u001b[1m63/63\u001b[0m \u001b[32m━━━━━━━━━━━━━━━━━━━━\u001b[0m\u001b[37m\u001b[0m \u001b[1m0s\u001b[0m 4ms/step - loss: 0.0355 - mae: 0.1429 - val_loss: 0.0349 - val_mae: 0.1422\n",
      "Epoch 62/100\n",
      "\u001b[1m63/63\u001b[0m \u001b[32m━━━━━━━━━━━━━━━━━━━━\u001b[0m\u001b[37m\u001b[0m \u001b[1m0s\u001b[0m 4ms/step - loss: 0.0375 - mae: 0.1459 - val_loss: 0.0353 - val_mae: 0.1452\n",
      "Epoch 63/100\n",
      "\u001b[1m63/63\u001b[0m \u001b[32m━━━━━━━━━━━━━━━━━━━━\u001b[0m\u001b[37m\u001b[0m \u001b[1m0s\u001b[0m 3ms/step - loss: 0.0358 - mae: 0.1434 - val_loss: 0.0352 - val_mae: 0.1444\n",
      "Epoch 64/100\n",
      "\u001b[1m63/63\u001b[0m \u001b[32m━━━━━━━━━━━━━━━━━━━━\u001b[0m\u001b[37m\u001b[0m \u001b[1m0s\u001b[0m 3ms/step - loss: 0.0355 - mae: 0.1432 - val_loss: 0.0345 - val_mae: 0.1410\n",
      "Epoch 65/100\n",
      "\u001b[1m63/63\u001b[0m \u001b[32m━━━━━━━━━━━━━━━━━━━━\u001b[0m\u001b[37m\u001b[0m \u001b[1m0s\u001b[0m 4ms/step - loss: 0.0356 - mae: 0.1419 - val_loss: 0.0347 - val_mae: 0.1428\n",
      "Epoch 66/100\n",
      "\u001b[1m63/63\u001b[0m \u001b[32m━━━━━━━━━━━━━━━━━━━━\u001b[0m\u001b[37m\u001b[0m \u001b[1m0s\u001b[0m 3ms/step - loss: 0.0364 - mae: 0.1443 - val_loss: 0.0355 - val_mae: 0.1452\n",
      "Epoch 67/100\n",
      "\u001b[1m63/63\u001b[0m \u001b[32m━━━━━━━━━━━━━━━━━━━━\u001b[0m\u001b[37m\u001b[0m \u001b[1m0s\u001b[0m 3ms/step - loss: 0.0355 - mae: 0.1439 - val_loss: 0.0346 - val_mae: 0.1408\n",
      "Epoch 68/100\n",
      "\u001b[1m63/63\u001b[0m \u001b[32m━━━━━━━━━━━━━━━━━━━━\u001b[0m\u001b[37m\u001b[0m \u001b[1m0s\u001b[0m 3ms/step - loss: 0.0358 - mae: 0.1429 - val_loss: 0.0347 - val_mae: 0.1417\n",
      "Epoch 69/100\n",
      "\u001b[1m63/63\u001b[0m \u001b[32m━━━━━━━━━━━━━━━━━━━━\u001b[0m\u001b[37m\u001b[0m \u001b[1m0s\u001b[0m 3ms/step - loss: 0.0354 - mae: 0.1406 - val_loss: 0.0349 - val_mae: 0.1426\n",
      "Epoch 70/100\n",
      "\u001b[1m63/63\u001b[0m \u001b[32m━━━━━━━━━━━━━━━━━━━━\u001b[0m\u001b[37m\u001b[0m \u001b[1m1s\u001b[0m 6ms/step - loss: 0.0351 - mae: 0.1434 - val_loss: 0.0343 - val_mae: 0.1402\n",
      "Epoch 71/100\n",
      "\u001b[1m63/63\u001b[0m \u001b[32m━━━━━━━━━━━━━━━━━━━━\u001b[0m\u001b[37m\u001b[0m \u001b[1m0s\u001b[0m 4ms/step - loss: 0.0357 - mae: 0.1440 - val_loss: 0.0361 - val_mae: 0.1470\n",
      "Epoch 72/100\n",
      "\u001b[1m63/63\u001b[0m \u001b[32m━━━━━━━━━━━━━━━━━━━━\u001b[0m\u001b[37m\u001b[0m \u001b[1m0s\u001b[0m 4ms/step - loss: 0.0355 - mae: 0.1448 - val_loss: 0.0346 - val_mae: 0.1431\n",
      "Epoch 73/100\n",
      "\u001b[1m63/63\u001b[0m \u001b[32m━━━━━━━━━━━━━━━━━━━━\u001b[0m\u001b[37m\u001b[0m \u001b[1m0s\u001b[0m 3ms/step - loss: 0.0372 - mae: 0.1485 - val_loss: 0.0349 - val_mae: 0.1438\n",
      "Epoch 74/100\n",
      "\u001b[1m63/63\u001b[0m \u001b[32m━━━━━━━━━━━━━━━━━━━━\u001b[0m\u001b[37m\u001b[0m \u001b[1m0s\u001b[0m 3ms/step - loss: 0.0344 - mae: 0.1408 - val_loss: 0.0360 - val_mae: 0.1477\n",
      "Epoch 75/100\n",
      "\u001b[1m63/63\u001b[0m \u001b[32m━━━━━━━━━━━━━━━━━━━━\u001b[0m\u001b[37m\u001b[0m \u001b[1m0s\u001b[0m 3ms/step - loss: 0.0352 - mae: 0.1434 - val_loss: 0.0345 - val_mae: 0.1426\n",
      "Epoch 76/100\n",
      "\u001b[1m63/63\u001b[0m \u001b[32m━━━━━━━━━━━━━━━━━━━━\u001b[0m\u001b[37m\u001b[0m \u001b[1m0s\u001b[0m 3ms/step - loss: 0.0335 - mae: 0.1378 - val_loss: 0.0344 - val_mae: 0.1425\n",
      "Epoch 77/100\n",
      "\u001b[1m63/63\u001b[0m \u001b[32m━━━━━━━━━━━━━━━━━━━━\u001b[0m\u001b[37m\u001b[0m \u001b[1m1s\u001b[0m 4ms/step - loss: 0.0355 - mae: 0.1436 - val_loss: 0.0359 - val_mae: 0.1430\n",
      "Epoch 78/100\n",
      "\u001b[1m63/63\u001b[0m \u001b[32m━━━━━━━━━━━━━━━━━━━━\u001b[0m\u001b[37m\u001b[0m \u001b[1m0s\u001b[0m 3ms/step - loss: 0.0361 - mae: 0.1431 - val_loss: 0.0341 - val_mae: 0.1408\n",
      "Epoch 79/100\n",
      "\u001b[1m63/63\u001b[0m \u001b[32m━━━━━━━━━━━━━━━━━━━━\u001b[0m\u001b[37m\u001b[0m \u001b[1m0s\u001b[0m 3ms/step - loss: 0.0357 - mae: 0.1421 - val_loss: 0.0341 - val_mae: 0.1407\n",
      "Epoch 80/100\n",
      "\u001b[1m63/63\u001b[0m \u001b[32m━━━━━━━━━━━━━━━━━━━━\u001b[0m\u001b[37m\u001b[0m \u001b[1m0s\u001b[0m 3ms/step - loss: 0.0356 - mae: 0.1417 - val_loss: 0.0345 - val_mae: 0.1422\n",
      "Epoch 81/100\n",
      "\u001b[1m63/63\u001b[0m \u001b[32m━━━━━━━━━━━━━━━━━━━━\u001b[0m\u001b[37m\u001b[0m \u001b[1m0s\u001b[0m 3ms/step - loss: 0.0341 - mae: 0.1401 - val_loss: 0.0340 - val_mae: 0.1408\n",
      "Epoch 82/100\n",
      "\u001b[1m63/63\u001b[0m \u001b[32m━━━━━━━━━━━━━━━━━━━━\u001b[0m\u001b[37m\u001b[0m \u001b[1m0s\u001b[0m 3ms/step - loss: 0.0360 - mae: 0.1440 - val_loss: 0.0348 - val_mae: 0.1440\n",
      "Epoch 83/100\n",
      "\u001b[1m63/63\u001b[0m \u001b[32m━━━━━━━━━━━━━━━━━━━━\u001b[0m\u001b[37m\u001b[0m \u001b[1m0s\u001b[0m 6ms/step - loss: 0.0347 - mae: 0.1408 - val_loss: 0.0340 - val_mae: 0.1418\n",
      "Epoch 84/100\n",
      "\u001b[1m63/63\u001b[0m \u001b[32m━━━━━━━━━━━━━━━━━━━━\u001b[0m\u001b[37m\u001b[0m \u001b[1m1s\u001b[0m 3ms/step - loss: 0.0361 - mae: 0.1437 - val_loss: 0.0348 - val_mae: 0.1441\n",
      "Epoch 85/100\n",
      "\u001b[1m63/63\u001b[0m \u001b[32m━━━━━━━━━━━━━━━━━━━━\u001b[0m\u001b[37m\u001b[0m \u001b[1m0s\u001b[0m 4ms/step - loss: 0.0369 - mae: 0.1472 - val_loss: 0.0338 - val_mae: 0.1413\n",
      "Epoch 86/100\n",
      "\u001b[1m63/63\u001b[0m \u001b[32m━━━━━━━━━━━━━━━━━━━━\u001b[0m\u001b[37m\u001b[0m \u001b[1m0s\u001b[0m 3ms/step - loss: 0.0344 - mae: 0.1389 - val_loss: 0.0342 - val_mae: 0.1414\n",
      "Epoch 87/100\n",
      "\u001b[1m63/63\u001b[0m \u001b[32m━━━━━━━━━━━━━━━━━━━━\u001b[0m\u001b[37m\u001b[0m \u001b[1m0s\u001b[0m 5ms/step - loss: 0.0351 - mae: 0.1407 - val_loss: 0.0337 - val_mae: 0.1402\n",
      "Epoch 88/100\n",
      "\u001b[1m63/63\u001b[0m \u001b[32m━━━━━━━━━━━━━━━━━━━━\u001b[0m\u001b[37m\u001b[0m \u001b[1m0s\u001b[0m 5ms/step - loss: 0.0362 - mae: 0.1439 - val_loss: 0.0339 - val_mae: 0.1416\n",
      "Epoch 89/100\n",
      "\u001b[1m63/63\u001b[0m \u001b[32m━━━━━━━━━━━━━━━━━━━━\u001b[0m\u001b[37m\u001b[0m \u001b[1m0s\u001b[0m 3ms/step - loss: 0.0341 - mae: 0.1408 - val_loss: 0.0339 - val_mae: 0.1419\n",
      "Epoch 90/100\n",
      "\u001b[1m63/63\u001b[0m \u001b[32m━━━━━━━━━━━━━━━━━━━━\u001b[0m\u001b[37m\u001b[0m \u001b[1m0s\u001b[0m 4ms/step - loss: 0.0350 - mae: 0.1417 - val_loss: 0.0346 - val_mae: 0.1432\n",
      "Epoch 91/100\n",
      "\u001b[1m63/63\u001b[0m \u001b[32m━━━━━━━━━━━━━━━━━━━━\u001b[0m\u001b[37m\u001b[0m \u001b[1m0s\u001b[0m 3ms/step - loss: 0.0363 - mae: 0.1462 - val_loss: 0.0337 - val_mae: 0.1396\n",
      "Epoch 92/100\n",
      "\u001b[1m63/63\u001b[0m \u001b[32m━━━━━━━━━━━━━━━━━━━━\u001b[0m\u001b[37m\u001b[0m \u001b[1m0s\u001b[0m 4ms/step - loss: 0.0333 - mae: 0.1369 - val_loss: 0.0335 - val_mae: 0.1404\n",
      "Epoch 93/100\n",
      "\u001b[1m63/63\u001b[0m \u001b[32m━━━━━━━━━━━━━━━━━━━━\u001b[0m\u001b[37m\u001b[0m \u001b[1m0s\u001b[0m 3ms/step - loss: 0.0349 - mae: 0.1408 - val_loss: 0.0340 - val_mae: 0.1424\n",
      "Epoch 94/100\n",
      "\u001b[1m63/63\u001b[0m \u001b[32m━━━━━━━━━━━━━━━━━━━━\u001b[0m\u001b[37m\u001b[0m \u001b[1m1s\u001b[0m 10ms/step - loss: 0.0349 - mae: 0.1420 - val_loss: 0.0338 - val_mae: 0.1399\n",
      "Epoch 95/100\n",
      "\u001b[1m63/63\u001b[0m \u001b[32m━━━━━━━━━━━━━━━━━━━━\u001b[0m\u001b[37m\u001b[0m \u001b[1m1s\u001b[0m 9ms/step - loss: 0.0346 - mae: 0.1412 - val_loss: 0.0336 - val_mae: 0.1404\n",
      "Epoch 96/100\n",
      "\u001b[1m63/63\u001b[0m \u001b[32m━━━━━━━━━━━━━━━━━━━━\u001b[0m\u001b[37m\u001b[0m \u001b[1m0s\u001b[0m 3ms/step - loss: 0.0352 - mae: 0.1418 - val_loss: 0.0334 - val_mae: 0.1402\n",
      "Epoch 97/100\n",
      "\u001b[1m63/63\u001b[0m \u001b[32m━━━━━━━━━━━━━━━━━━━━\u001b[0m\u001b[37m\u001b[0m \u001b[1m0s\u001b[0m 4ms/step - loss: 0.0341 - mae: 0.1409 - val_loss: 0.0337 - val_mae: 0.1413\n",
      "Epoch 98/100\n",
      "\u001b[1m63/63\u001b[0m \u001b[32m━━━━━━━━━━━━━━━━━━━━\u001b[0m\u001b[37m\u001b[0m \u001b[1m0s\u001b[0m 3ms/step - loss: 0.0342 - mae: 0.1407 - val_loss: 0.0333 - val_mae: 0.1397\n",
      "Epoch 99/100\n",
      "\u001b[1m63/63\u001b[0m \u001b[32m━━━━━━━━━━━━━━━━━━━━\u001b[0m\u001b[37m\u001b[0m \u001b[1m0s\u001b[0m 3ms/step - loss: 0.0343 - mae: 0.1410 - val_loss: 0.0339 - val_mae: 0.1431\n",
      "Epoch 100/100\n",
      "\u001b[1m63/63\u001b[0m \u001b[32m━━━━━━━━━━━━━━━━━━━━\u001b[0m\u001b[37m\u001b[0m \u001b[1m0s\u001b[0m 3ms/step - loss: 0.0357 - mae: 0.1439 - val_loss: 0.0332 - val_mae: 0.1402\n",
      "\u001b[1m16/16\u001b[0m \u001b[32m━━━━━━━━━━━━━━━━━━━━\u001b[0m\u001b[37m\u001b[0m \u001b[1m0s\u001b[0m 5ms/step\n"
     ]
    },
    {
     "data": {
      "image/png": "[encoded data removed]",
      "text/plain": [
       "<Figure size 640x480 with 1 Axes>"
      ]
     },
     "metadata": {},
     "output_type": "display_data"
    },
    {
     "data": {
      "image/png": "[encoded data removed]",
      "text/plain": [
       "<Figure size 640x480 with 1 Axes>"
      ]
     },
     "metadata": {},
     "output_type": "display_data"
    },
    {
     "name": "stdout",
     "output_type": "stream",
     "text": [
      "\u001b[1m16/16\u001b[0m \u001b[32m━━━━━━━━━━━━━━━━━━━━\u001b[0m\u001b[37m\u001b[0m \u001b[1m0s\u001b[0m 2ms/step - loss: 0.0344 - mae: 0.1438 \n",
      "MSE:  0.03322641924023628\n",
      "MAE: 0.14018738269805908\n"
     ]
    },
    {
     "data": {
      "application/vnd.microsoft.datawrangler.viewer.v0+json": {
       "columns": [
        {
         "name": "SongID",
         "rawType": "object",
         "type": "string"
        },
        {
         "name": "Original Test",
         "rawType": "float64",
         "type": "float"
        },
        {
         "name": "Prediction Test",
         "rawType": "float32",
         "type": "float"
        },
        {
         "name": "Original over Thrashold",
         "rawType": "bool",
         "type": "boolean"
        },
        {
         "name": "Predicted over Thrashold",
         "rawType": "bool",
         "type": "boolean"
        }
       ],
       "conversionMethod": "pd.DataFrame",
       "ref": "cfee9335-7aec-4e14-85ee-7582b30b5849",
       "rows": [
        [
         "DespacitoLuis Fonsi & Daddy Yankee Featuring Justin Bieber",
         "0.816",
         "0.6572252",
         "True",
         "False"
        ],
        [
         "Wish You Were HereAvril Lavigne",
         "0.34",
         "0.5582765",
         "False",
         "False"
        ],
        [
         "Wichita LinemanGlen Campbell",
         "0.391",
         "0.36524993",
         "False",
         "False"
        ],
        [
         "PinkAerosmith",
         "0.777",
         "0.5035119",
         "True",
         "False"
        ],
        [
         "Go Hard Or Go HomeWiz Khalifa & Iggy Azalea",
         "0.386",
         "0.5443625",
         "False",
         "False"
        ],
        [
         "Girls In The HoodMegan Thee Stallion",
         "0.874",
         "0.67864716",
         "True",
         "False"
        ],
        [
         "Farther On Down The RoadJoe Simon",
         "0.644",
         "0.70939565",
         "False",
         "True"
        ],
        [
         "I Can Love YouMary J. Blige",
         "0.7359999999999999",
         "0.5376351",
         "True",
         "False"
        ],
        [
         "Gypsys, Tramps & ThievesCher",
         "0.7049999999999998",
         "0.70287347",
         "True",
         "True"
        ],
        [
         "Reap What You SowBilly Stewart",
         "0.462",
         "0.70310485",
         "False",
         "True"
        ],
        [
         "The NoteDaryle Singletary",
         "0.382",
         "0.40297958",
         "False",
         "False"
        ],
        [
         "The Story Of Our LoveJohnny Mathis",
         "0.26",
         "0.37823457",
         "False",
         "False"
        ],
        [
         "Since I Don't Have YouDon McLean",
         "0.8249999999999998",
         "0.54279494",
         "True",
         "False"
        ],
        [
         "White FlagDido",
         "0.2839999999999999",
         "0.4604055",
         "False",
         "False"
        ],
        [
         "PresidentialYoungBloodZ",
         "0.3659999999999999",
         "0.49864727",
         "False",
         "False"
        ],
        [
         "One Way Or AnotherBlondie",
         "0.85",
         "0.66473174",
         "True",
         "False"
        ],
        [
         "Battle ScarsLupe Fiasco & Guy Sebastian",
         "0.4939999999999999",
         "0.46383527",
         "False",
         "False"
        ],
        [
         "Can't Let GoMariah Carey",
         "0.18",
         "0.53867805",
         "False",
         "False"
        ],
        [
         "ImpossibleGloria Lynne",
         "0.343",
         "0.38442612",
         "False",
         "False"
        ],
        [
         "Can't Stop Dancin'Captain & Tennille",
         "0.7359999999999999",
         "0.70599043",
         "True",
         "True"
        ],
        [
         "Her Royal MajestyJames Darren",
         "0.91",
         "0.6804751",
         "True",
         "False"
        ],
        [
         "Size Matters (Someday)Joe Nichols",
         "0.683",
         "0.710528",
         "False",
         "True"
        ],
        [
         "RakataWisin & Yandel",
         "0.7189999999999999",
         "0.723737",
         "True",
         "True"
        ],
        [
         "Deeper (In Love With You)The O'Jays",
         "0.902",
         "0.8027661",
         "True",
         "True"
        ],
        [
         "Night's On FireDavid Nail",
         "0.784",
         "0.63698363",
         "True",
         "False"
        ],
        [
         "Put OnYoung Jeezy Featuring Kanye West",
         "0.573",
         "0.7424922",
         "False",
         "True"
        ],
        [
         "Psychotic ReactionCount Five",
         "0.667",
         "0.5196615",
         "False",
         "False"
        ],
        [
         "All Through The NightTone-Loc",
         "0.802",
         "0.72608984",
         "True",
         "True"
        ],
        [
         "Say AahLindsey Pavao",
         "0.4209999999999999",
         "0.8049108",
         "False",
         "True"
        ],
        [
         "I'll Say Forever My LoveJimmy Ruffin",
         "0.7",
         "0.50711787",
         "False",
         "False"
        ],
        [
         "ObviousAriana Grande",
         "0.26",
         "0.6404638",
         "False",
         "False"
        ],
        [
         "Rent MoneyFuture",
         "0.313",
         "0.44248837",
         "False",
         "False"
        ],
        [
         "You Mean The World To MeToni Braxton",
         "0.521",
         "0.62942636",
         "False",
         "False"
        ],
        [
         "Take Me In Your Arms (Rock Me)The Doobie Brothers",
         "0.932",
         "0.74301004",
         "True",
         "True"
        ],
        [
         "The PretenderFoo Fighters",
         "0.3649999999999999",
         "0.5743313",
         "False",
         "False"
        ],
        [
         "Prove Me WrongDavid Pack",
         "0.926",
         "0.7572262",
         "True",
         "True"
        ],
        [
         "Last Train To ClarksvilleThe Monkees",
         "0.683",
         "0.43117142",
         "False",
         "False"
        ],
        [
         "If You Asked Me ToCeline Dion",
         "0.227",
         "0.41836548",
         "False",
         "False"
        ],
        [
         "Cruisin'Smokey Robinson",
         "0.815",
         "0.50553936",
         "True",
         "False"
        ],
        [
         "Love Sneakin' Up On YouBonnie Raitt",
         "0.558",
         "0.6484016",
         "False",
         "False"
        ],
        [
         "MazeJuice WRLD",
         "0.443",
         "0.55374086",
         "False",
         "False"
        ],
        [
         "About YouTrey Songz",
         "0.7179999999999999",
         "0.477635",
         "True",
         "False"
        ],
        [
         "Spend Some TimeElvin Bishop Featuring Mickey Thomas",
         "0.383",
         "0.65615",
         "False",
         "False"
        ],
        [
         "The Good Lord Loves YouNeil Diamond",
         "0.184",
         "0.41729942",
         "False",
         "False"
        ],
        [
         "Hooked On SwingLarry Elgart And His Manhattan Swing Orchestra",
         "0.792",
         "0.6508881",
         "True",
         "False"
        ],
        [
         "Be My BoyParis Sisters",
         "0.2109999999999999",
         "0.37708765",
         "False",
         "False"
        ],
        [
         "ParanoidPost Malone",
         "0.2439999999999999",
         "0.397904",
         "False",
         "False"
        ],
        [
         "BionicChristina Aguilera",
         "0.8539999999999999",
         "0.6069639",
         "True",
         "False"
        ],
        [
         "PartyBeyonce Featuring Andre 3000",
         "0.7119999999999999",
         "0.53778994",
         "True",
         "False"
        ],
        [
         "Kentucky WomanDeep Purple",
         "0.314",
         "0.38402858",
         "False",
         "False"
        ]
       ],
       "shape": {
        "columns": 4,
        "rows": 503
       }
      },
      "text/html": [
       "<div>\n",
       "<style scoped>\n",
       "    .dataframe tbody tr th:only-of-type {\n",
       "        vertical-align: middle;\n",
       "    }\n",
       "\n",
       "    .dataframe tbody tr th {\n",
       "        vertical-align: top;\n",
       "    }\n",
       "\n",
       "    .dataframe thead th {\n",
       "        text-align: right;\n",
       "    }\n",
       "</style>\n",
       "<table border=\"1\" class=\"dataframe\">\n",
       "  <thead>\n",
       "    <tr style=\"text-align: right;\">\n",
       "      <th></th>\n",
       "      <th>Original Test</th>\n",
       "      <th>Prediction Test</th>\n",
       "      <th>Original over Thrashold</th>\n",
       "      <th>Predicted over Thrashold</th>\n",
       "    </tr>\n",
       "    <tr>\n",
       "      <th>SongID</th>\n",
       "      <th></th>\n",
       "      <th></th>\n",
       "      <th></th>\n",
       "      <th></th>\n",
       "    </tr>\n",
       "  </thead>\n",
       "  <tbody>\n",
       "    <tr>\n",
       "      <th>DespacitoLuis Fonsi &amp; Daddy Yankee Featuring Justin Bieber</th>\n",
       "      <td>0.816</td>\n",
       "      <td>0.657225</td>\n",
       "      <td>True</td>\n",
       "      <td>False</td>\n",
       "    </tr>\n",
       "    <tr>\n",
       "      <th>Wish You Were HereAvril Lavigne</th>\n",
       "      <td>0.340</td>\n",
       "      <td>0.558276</td>\n",
       "      <td>False</td>\n",
       "      <td>False</td>\n",
       "    </tr>\n",
       "    <tr>\n",
       "      <th>Wichita LinemanGlen Campbell</th>\n",
       "      <td>0.391</td>\n",
       "      <td>0.365250</td>\n",
       "      <td>False</td>\n",
       "      <td>False</td>\n",
       "    </tr>\n",
       "    <tr>\n",
       "      <th>PinkAerosmith</th>\n",
       "      <td>0.777</td>\n",
       "      <td>0.503512</td>\n",
       "      <td>True</td>\n",
       "      <td>False</td>\n",
       "    </tr>\n",
       "    <tr>\n",
       "      <th>Go Hard Or Go HomeWiz Khalifa &amp; Iggy Azalea</th>\n",
       "      <td>0.386</td>\n",
       "      <td>0.544362</td>\n",
       "      <td>False</td>\n",
       "      <td>False</td>\n",
       "    </tr>\n",
       "    <tr>\n",
       "      <th>...</th>\n",
       "      <td>...</td>\n",
       "      <td>...</td>\n",
       "      <td>...</td>\n",
       "      <td>...</td>\n",
       "    </tr>\n",
       "    <tr>\n",
       "      <th>Pull Up N WreckBig Sean &amp; Metro Boomin Featuring 21 Savage</th>\n",
       "      <td>0.091</td>\n",
       "      <td>0.381017</td>\n",
       "      <td>False</td>\n",
       "      <td>False</td>\n",
       "    </tr>\n",
       "    <tr>\n",
       "      <th>Empire State Of MindGlee Cast</th>\n",
       "      <td>0.719</td>\n",
       "      <td>0.567524</td>\n",
       "      <td>True</td>\n",
       "      <td>False</td>\n",
       "    </tr>\n",
       "    <tr>\n",
       "      <th>Impossible Mission (Mission Impossible)Soul Survivors</th>\n",
       "      <td>0.786</td>\n",
       "      <td>0.676719</td>\n",
       "      <td>True</td>\n",
       "      <td>False</td>\n",
       "    </tr>\n",
       "    <tr>\n",
       "      <th>My SisterReba McEntire</th>\n",
       "      <td>0.496</td>\n",
       "      <td>0.632167</td>\n",
       "      <td>False</td>\n",
       "      <td>False</td>\n",
       "    </tr>\n",
       "    <tr>\n",
       "      <th>We Weren't CrazyJosh Gracin</th>\n",
       "      <td>0.657</td>\n",
       "      <td>0.582259</td>\n",
       "      <td>False</td>\n",
       "      <td>False</td>\n",
       "    </tr>\n",
       "  </tbody>\n",
       "</table>\n",
       "<p>503 rows × 4 columns</p>\n",
       "</div>"
      ],
      "text/plain": [
       "                                                    Original Test  \\\n",
       "SongID                                                              \n",
       "DespacitoLuis Fonsi & Daddy Yankee Featuring Ju...          0.816   \n",
       "Wish You Were HereAvril Lavigne                             0.340   \n",
       "Wichita LinemanGlen Campbell                                0.391   \n",
       "PinkAerosmith                                               0.777   \n",
       "Go Hard Or Go HomeWiz Khalifa & Iggy Azalea                 0.386   \n",
       "...                                                           ...   \n",
       "Pull Up N WreckBig Sean & Metro Boomin Featurin...          0.091   \n",
       "Empire State Of MindGlee Cast                               0.719   \n",
       "Impossible Mission (Mission Impossible)Soul Sur...          0.786   \n",
       "My SisterReba McEntire                                      0.496   \n",
       "We Weren't CrazyJosh Gracin                                 0.657   \n",
       "\n",
       "                                                    Prediction Test  \\\n",
       "SongID                                                                \n",
       "DespacitoLuis Fonsi & Daddy Yankee Featuring Ju...         0.657225   \n",
       "Wish You Were HereAvril Lavigne                            0.558276   \n",
       "Wichita LinemanGlen Campbell                               0.365250   \n",
       "PinkAerosmith                                              0.503512   \n",
       "Go Hard Or Go HomeWiz Khalifa & Iggy Azalea                0.544362   \n",
       "...                                                             ...   \n",
       "Pull Up N WreckBig Sean & Metro Boomin Featurin...         0.381017   \n",
       "Empire State Of MindGlee Cast                              0.567524   \n",
       "Impossible Mission (Mission Impossible)Soul Sur...         0.676719   \n",
       "My SisterReba McEntire                                     0.632167   \n",
       "We Weren't CrazyJosh Gracin                                0.582259   \n",
       "\n",
       "                                                    Original over Thrashold  \\\n",
       "SongID                                                                        \n",
       "DespacitoLuis Fonsi & Daddy Yankee Featuring Ju...                     True   \n",
       "Wish You Were HereAvril Lavigne                                       False   \n",
       "Wichita LinemanGlen Campbell                                          False   \n",
       "PinkAerosmith                                                          True   \n",
       "Go Hard Or Go HomeWiz Khalifa & Iggy Azalea                           False   \n",
       "...                                                                     ...   \n",
       "Pull Up N WreckBig Sean & Metro Boomin Featurin...                    False   \n",
       "Empire State Of MindGlee Cast                                          True   \n",
       "Impossible Mission (Mission Impossible)Soul Sur...                     True   \n",
       "My SisterReba McEntire                                                False   \n",
       "We Weren't CrazyJosh Gracin                                           False   \n",
       "\n",
       "                                                    Predicted over Thrashold  \n",
       "SongID                                                                        \n",
       "DespacitoLuis Fonsi & Daddy Yankee Featuring Ju...                     False  \n",
       "Wish You Were HereAvril Lavigne                                        False  \n",
       "Wichita LinemanGlen Campbell                                           False  \n",
       "PinkAerosmith                                                          False  \n",
       "Go Hard Or Go HomeWiz Khalifa & Iggy Azalea                            False  \n",
       "...                                                                      ...  \n",
       "Pull Up N WreckBig Sean & Metro Boomin Featurin...                     False  \n",
       "Empire State Of MindGlee Cast                                          False  \n",
       "Impossible Mission (Mission Impossible)Soul Sur...                     False  \n",
       "My SisterReba McEntire                                                 False  \n",
       "We Weren't CrazyJosh Gracin                                            False  \n",
       "\n",
       "[503 rows x 4 columns]"
      ]
     },
     "metadata": {},
     "output_type": "display_data"
    },
    {
     "data": {
      "image/png": "[encoded data removed]",
      "text/plain": [
       "<Figure size 640x480 with 2 Axes>"
      ]
     },
     "metadata": {},
     "output_type": "display_data"
    },
    {
     "data": {
      "application/vnd.microsoft.datawrangler.viewer.v0+json": {
       "columns": [
        {
         "name": "index",
         "rawType": "int64",
         "type": "integer"
        },
        {
         "name": "Metric",
         "rawType": "object",
         "type": "string"
        },
        {
         "name": "Value",
         "rawType": "float64",
         "type": "float"
        }
       ],
       "conversionMethod": "pd.DataFrame",
       "ref": "228eb676-e943-46d2-9f5b-b796602b7859",
       "rows": [
        [
         "0",
         "Accuracy",
         "0.75"
        ],
        [
         "1",
         "Precision",
         "0.81"
        ],
        [
         "2",
         "Recall",
         "0.48"
        ],
        [
         "3",
         "F1-score",
         "0.61"
        ]
       ],
       "shape": {
        "columns": 2,
        "rows": 4
       }
      },
      "text/html": [
       "<div>\n",
       "<style scoped>\n",
       "    .dataframe tbody tr th:only-of-type {\n",
       "        vertical-align: middle;\n",
       "    }\n",
       "\n",
       "    .dataframe tbody tr th {\n",
       "        vertical-align: top;\n",
       "    }\n",
       "\n",
       "    .dataframe thead th {\n",
       "        text-align: right;\n",
       "    }\n",
       "</style>\n",
       "<table border=\"1\" class=\"dataframe\">\n",
       "  <thead>\n",
       "    <tr style=\"text-align: right;\">\n",
       "      <th></th>\n",
       "      <th>Metric</th>\n",
       "      <th>Value</th>\n",
       "    </tr>\n",
       "  </thead>\n",
       "  <tbody>\n",
       "    <tr>\n",
       "      <th>0</th>\n",
       "      <td>Accuracy</td>\n",
       "      <td>0.75</td>\n",
       "    </tr>\n",
       "    <tr>\n",
       "      <th>1</th>\n",
       "      <td>Precision</td>\n",
       "      <td>0.81</td>\n",
       "    </tr>\n",
       "    <tr>\n",
       "      <th>2</th>\n",
       "      <td>Recall</td>\n",
       "      <td>0.48</td>\n",
       "    </tr>\n",
       "    <tr>\n",
       "      <th>3</th>\n",
       "      <td>F1-score</td>\n",
       "      <td>0.61</td>\n",
       "    </tr>\n",
       "  </tbody>\n",
       "</table>\n",
       "</div>"
      ],
      "text/plain": [
       "      Metric  Value\n",
       "0   Accuracy   0.75\n",
       "1  Precision   0.81\n",
       "2     Recall   0.48\n",
       "3   F1-score   0.61"
      ]
     },
     "metadata": {},
     "output_type": "display_data"
    }
   ],
   "source": [
    "dizio_model_user = {} #in this dizio we store the model for each user\n",
    "dizio_accuracy = {} #accuracy of the model\n",
    "\n",
    "reccomandations_songs_per_user={}\n",
    "\n",
    "#threshold\n",
    "threshold = 0.7\n",
    "\n",
    "#loop creation user and model\n",
    "for i in range(0, len(df_one_hot['User'].unique())): #i indica lo user   \n",
    "\n",
    "    print('---------------------------------------------------------')\n",
    "    print(f'USER {i}')\n",
    "\n",
    "    #select user\n",
    "    mask_user = df_one_hot['User'] == i\n",
    "    #display(mask_user)\n",
    "    user_i_df = df_one_hot[mask_user]\n",
    "    #display(user_i_df) \n",
    "\n",
    "    #return train and test\n",
    "    x_train,x_test,y_train,y_test = return_train_test(user_i_df)\n",
    "\n",
    "    #creation model for the specific user\n",
    "    model_user_i = create_model_user(x_train.shape[1])\n",
    "    \n",
    "    #fit the model with the different x, y train (for different user)\n",
    "    history_model_user_i = fit_model(model_user_i, x_train, y_train, x_test, y_test)\n",
    "\n",
    "    #prediction\n",
    "    y_hat = model_user_i.predict(x_test)\n",
    "\n",
    "    #plot the metrics of the model\n",
    "    plot_for_model(history_model_user_i)\n",
    "\n",
    "    #accuracy\n",
    "    test_loss, test_mae = model_user_i.evaluate(x_test,y_test,verbose=1)\n",
    "    print('MSE: ', test_loss)\n",
    "    print('MAE:', test_mae)\n",
    "\n",
    "    #reccomandation\n",
    "    reccomandation_df = reco_function_conf_matrix(y_test, y_hat, threshold)\n",
    "\n",
    "    #save the model in the dictionary\n",
    "    #add also the raccomandations\n",
    "    dizio_model_user[f\"User{i}\"] = {'model_user_i' : model_user_i,\n",
    "                                    'history_model_user_i': history_model_user_i,\n",
    "                                    'x_train': x_train,\n",
    "                                    'x_test': x_test,\n",
    "                                    'y_train': y_train,\n",
    "                                    'y_test': y_test,\n",
    "                                    'y_hat': y_hat,\n",
    "                                    'recommendations:': reccomandation_df} \n",
    "    #save accuracy \n",
    "    dizio_accuracy[f'User{i}'] = {\n",
    "        'MAE' : mean_absolute_error(y_test, y_hat),\n",
    "        'MSE' : mean_squared_error(y_test, y_hat)\n",
    "    }"
   ]
  },
  {
   "cell_type": "markdown",
   "metadata": {},
   "source": [
    "# DISPLAY DICTIONARY ACCURACY"
   ]
  },
  {
   "cell_type": "code",
   "execution_count": 37,
   "metadata": {},
   "outputs": [
    {
     "data": {
      "text/plain": [
       "{'User0': {'MAE': 0.13616335713980696, 'MSE': 0.028417672530115456},\n",
       " 'User1': {'MAE': 0.13354221320376916, 'MSE': 0.027413509316446632},\n",
       " 'User2': {'MAE': 0.09127616970043217, 'MSE': 0.018203121356148724},\n",
       " 'User3': {'MAE': 0.13547157040349253, 'MSE': 0.027196493145536956},\n",
       " 'User4': {'MAE': 0.14018738193379243, 'MSE': 0.028697073458355815}}"
      ]
     },
     "metadata": {},
     "output_type": "display_data"
    }
   ],
   "source": [
    "display(dizio_accuracy)"
   ]
  },
  {
   "cell_type": "markdown",
   "metadata": {},
   "source": [
    "A \"good\" MAE value depends on the context, but in general:  \n",
    "\n",
    "- **MAE < 0.05** → Excellent model (average error of 5%).  \n",
    "- **MAE between 0.05 and 0.1** → Good model.  \n",
    "- **MAE between 0.1 and 0.2** → Acceptable but improvable.  \n",
    "- **MAE > 0.2** → Low-precision model.  \n",
    "\n",
    "Our MAE is around **0.1**, it means that, on average, the model is off by **10 percentage points** on the 0-1 rating scale, which might be acceptable in many scenarios.\n",
    "\n",
    "-----------------------------------------------------------------------------------------------------------------------\n",
    "\n",
    "***WHY IS THIS MARGIN OF ERROR ACCETABLE ?***\n",
    "\n",
    "We must consider the nature of the data on which our model is trained.\n",
    "Since, to determine our users we used an unsupervised algorithm (**kmeans**), with shilhuette 0.49, this means as explained before, that we do not have good homogeneity within the cluster.\n",
    "\n",
    "So rightly our NN trained on this data will not capture such representative relationships, given that the user himself, as he has been defined, **does not have clear musical tastes**.\n",
    "\n",
    "**In order to have better results we will have user that lister only particular generes, this allowed us to decrease the errror since we will find a precise patterns in the data.**"
   ]
  },
  {
   "cell_type": "markdown",
   "metadata": {},
   "source": [
    "## CONCLUSION"
   ]
  },
  {
   "cell_type": "markdown",
   "metadata": {},
   "source": [
    "First of all we want to point out that several attempts have been made to add layers to make the network deeper, we have also tried to increase the number of neurons and modified the drop out neurons and regularization techniques within the neuron itself to avoid overfitting.\n",
    "\n",
    "Despite these attempts to reduce the MAE below the 10% threshold, this does not appear to be possible.\n",
    "Our explanation in this regard can be traced back to the nature and quantity of the data.\n",
    "\n",
    "It would therefore be useful to test our network with different data, in particular **users with homogeneous tastes**, this allowed us to easy find **'evident patterns'**, that will improve our prediction.\n",
    "\n",
    "\n",
    "**Aggiungere qualcosa anche relativamente ai risultati che otteniamo dal confusion matrix e quindi dal nostro sistema di raccomandazione, e come la composizione dei diversi utenti influenzano la bonta del reccomandation sysyem**"
   ]
  },
  {
   "cell_type": "markdown",
   "metadata": {},
   "source": [
    "# DISPLAY DICTIONARY MODEL"
   ]
  },
  {
   "cell_type": "code",
   "execution_count": 38,
   "metadata": {},
   "outputs": [],
   "source": [
    "#display(dizio_model_user)"
   ]
  },
  {
   "cell_type": "markdown",
   "metadata": {},
   "source": [
    "# SAVE"
   ]
  },
  {
   "cell_type": "code",
   "execution_count": 39,
   "metadata": {},
   "outputs": [
    {
     "name": "stdout",
     "output_type": "stream",
     "text": [
      "Stored 'df_one_hot' (DataFrame)\n"
     ]
    }
   ],
   "source": [
    "%store df_one_hot"
   ]
  },
  {
   "cell_type": "markdown",
   "metadata": {},
   "source": []
  }
 ],
 "metadata": {
  "kernelspec": {
   "display_name": "Python 3",
   "language": "python",
   "name": "python3"
  },
  "language_info": {
   "codemirror_mode": {
    "name": "ipython",
    "version": 3
   },
   "file_extension": ".py",
   "mimetype": "text/x-python",
   "name": "python",
   "nbconvert_exporter": "python",
   "pygments_lexer": "ipython3",
   "version": "3.12.1"
  }
 },
 "nbformat": 4,
 "nbformat_minor": 2
}
